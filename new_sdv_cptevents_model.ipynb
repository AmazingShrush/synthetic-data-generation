{
 "cells": [
  {
   "cell_type": "code",
   "execution_count": 32,
   "id": "0cfb059c",
   "metadata": {},
   "outputs": [],
   "source": [
    "# Ignore warnings\n",
    "import warnings\n",
    "warnings.filterwarnings(\"ignore\")"
   ]
  },
  {
   "cell_type": "code",
   "execution_count": 33,
   "id": "40c2158d",
   "metadata": {},
   "outputs": [],
   "source": [
    "import pandas as pd\n",
    "import numpy as np\n",
    "\n",
    "import commonfunc"
   ]
  },
  {
   "cell_type": "code",
   "execution_count": 34,
   "id": "67eb868e",
   "metadata": {},
   "outputs": [],
   "source": [
    "data_set_path='C:/Users/shrus/Documents/Synthetic-data-generation/'"
   ]
  },
  {
   "cell_type": "code",
   "execution_count": 35,
   "id": "5f635a3f",
   "metadata": {},
   "outputs": [],
   "source": [
    "cptevents_df = commonfunc.read_csv_no_rowid(data_set_path+\"sampled_data_csv_100/cptevents.csv\")"
   ]
  },
  {
   "cell_type": "code",
   "execution_count": 36,
   "id": "4d3a1f7c",
   "metadata": {},
   "outputs": [
    {
     "data": {
      "text/plain": [
       "ICU     1177\n",
       "Resp     193\n",
       "Name: costcenter, dtype: int64"
      ]
     },
     "execution_count": 36,
     "metadata": {},
     "output_type": "execute_result"
    }
   ],
   "source": [
    "cptevents_df['costcenter'].value_counts()"
   ]
  },
  {
   "cell_type": "code",
   "execution_count": 37,
   "id": "27e27a31",
   "metadata": {},
   "outputs": [],
   "source": [
    "# Drop some null value\n",
    "cptevents_df.dropna(subset=['subject_id', 'hadm_id'], inplace=True, axis=0)"
   ]
  },
  {
   "cell_type": "code",
   "execution_count": 38,
   "id": "63d4d3ad",
   "metadata": {},
   "outputs": [],
   "source": [
    "# Drop useless colums\n",
    "cptevents_df.drop(['description', 'cpt_cd', 'ticket_id_seq'], axis=1, inplace=True)\n",
    "# Because in this column, just super few rows is str type, so I just drop the rows which are str, then drop the whole columns\n",
    "cptevents_df.drop(cptevents_df.loc[cptevents_df['cpt_suffix'].isnull() == False].index, inplace=True)\n",
    "cptevents_df.drop(['cpt_suffix'], axis=1, inplace=True)"
   ]
  },
  {
   "cell_type": "code",
   "execution_count": 39,
   "id": "a2fd61de",
   "metadata": {},
   "outputs": [
    {
     "name": "stdout",
     "output_type": "stream",
     "text": [
      "Total columns: 7\n",
      "Total rows: 1370\n",
      "--------------\n",
      "subject_id             0\n",
      "hadm_id                0\n",
      "costcenter             0\n",
      "chartdate           1177\n",
      "cpt_number             0\n",
      "sectionheader          0\n",
      "subsectionheader       0\n",
      "dtype: int64\n"
     ]
    }
   ],
   "source": [
    "commonfunc.nan_count(cptevents_df)"
   ]
  },
  {
   "cell_type": "code",
   "execution_count": 40,
   "id": "46399f90",
   "metadata": {},
   "outputs": [
    {
     "data": {
      "text/plain": [
       "subject_id           int64\n",
       "hadm_id              int64\n",
       "costcenter          object\n",
       "chartdate           object\n",
       "cpt_number           int64\n",
       "sectionheader       object\n",
       "subsectionheader    object\n",
       "dtype: object"
      ]
     },
     "execution_count": 40,
     "metadata": {},
     "output_type": "execute_result"
    }
   ],
   "source": [
    "cptevents_df.dtypes"
   ]
  },
  {
   "cell_type": "code",
   "execution_count": 41,
   "id": "189e475c",
   "metadata": {},
   "outputs": [],
   "source": [
    "# Set type of columns\n",
    "cptevents_df['chartdate'] = pd.to_datetime(cptevents_df['chartdate'])\n",
    "# If keep the str row in, then set the column as 'str'\n",
    "# cptevents_df['cpt_cd'] = cptevents_df['cpt_cd'].astype(int)\n",
    "# cptevents_df['ticket_id_seq'] = cptevents_df['ticket_id_seq'].astype(int)"
   ]
  },
  {
   "cell_type": "code",
   "execution_count": 42,
   "id": "956e1385",
   "metadata": {},
   "outputs": [],
   "source": [
    "admittime_df = commonfunc.read_csv_no_rowid(data_set_path+\"sampled_data_csv_100/admissions.csv\").loc[:, ['hadm_id', 'admittime']]\n",
    "admittime_df['admittime'] = pd.to_datetime(admittime_df['admittime'])"
   ]
  },
  {
   "cell_type": "code",
   "execution_count": 43,
   "id": "17ed91c0",
   "metadata": {},
   "outputs": [],
   "source": [
    "cptevents_mid_df = pd.merge(left=cptevents_df, right=admittime_df, how='left', on=['hadm_id'])"
   ]
  },
  {
   "cell_type": "code",
   "execution_count": 44,
   "id": "98f5582b",
   "metadata": {},
   "outputs": [],
   "source": [
    "def time_process(df):\n",
    "    if pd.isna(df['chartdate']):\n",
    "        return df['chartdate']\n",
    "    else:\n",
    "        return (df['chartdate'].date() - df['admittime'].date()).days"
   ]
  },
  {
   "cell_type": "code",
   "execution_count": 45,
   "id": "9a83353f",
   "metadata": {},
   "outputs": [],
   "source": [
    "# cptevents_mid_df['chartdate'] = cptevents_mid_df.apply(time_process, axis=1)"
   ]
  },
  {
   "cell_type": "code",
   "execution_count": 46,
   "id": "1075e979",
   "metadata": {},
   "outputs": [],
   "source": [
    "cptevents_df = cptevents_mid_df.drop(['subject_id', 'hadm_id', 'admittime', 'chartdate'], axis=1)"
   ]
  },
  {
   "cell_type": "code",
   "execution_count": 47,
   "id": "5b886fba",
   "metadata": {},
   "outputs": [
    {
     "data": {
      "text/plain": [
       "Index(['costcenter', 'cpt_number', 'sectionheader', 'subsectionheader'], dtype='object')"
      ]
     },
     "execution_count": 47,
     "metadata": {},
     "output_type": "execute_result"
    }
   ],
   "source": [
    "cptevents_df.columns"
   ]
  },
  {
   "cell_type": "markdown",
   "id": "a0fa24ef",
   "metadata": {},
   "source": [
    "## Metadata"
   ]
  },
  {
   "cell_type": "code",
   "execution_count": 48,
   "id": "084ed774",
   "metadata": {},
   "outputs": [],
   "source": [
    "from sdv.metadata import SingleTableMetadata\n",
    "\n",
    "metadata = SingleTableMetadata()"
   ]
  },
  {
   "cell_type": "code",
   "execution_count": 49,
   "id": "eeafa0b4",
   "metadata": {},
   "outputs": [],
   "source": [
    "metadata.detect_from_dataframe(data=cptevents_df)"
   ]
  },
  {
   "cell_type": "code",
   "execution_count": 50,
   "id": "0b7bae5c",
   "metadata": {},
   "outputs": [
    {
     "data": {
      "text/plain": [
       "{\n",
       "    \"METADATA_SPEC_VERSION\": \"SINGLE_TABLE_V1\",\n",
       "    \"columns\": {\n",
       "        \"costcenter\": {\n",
       "            \"sdtype\": \"categorical\"\n",
       "        },\n",
       "        \"cpt_number\": {\n",
       "            \"sdtype\": \"numerical\"\n",
       "        },\n",
       "        \"sectionheader\": {\n",
       "            \"sdtype\": \"categorical\"\n",
       "        },\n",
       "        \"subsectionheader\": {\n",
       "            \"sdtype\": \"categorical\"\n",
       "        }\n",
       "    }\n",
       "}"
      ]
     },
     "execution_count": 50,
     "metadata": {},
     "output_type": "execute_result"
    }
   ],
   "source": [
    "metadata"
   ]
  },
  {
   "cell_type": "code",
   "execution_count": 51,
   "id": "7cfa55ea",
   "metadata": {},
   "outputs": [],
   "source": [
    "metadata.update_column(\n",
    "    column_name='cpt_number',\n",
    "    sdtype='categorical'\n",
    ")"
   ]
  },
  {
   "cell_type": "code",
   "execution_count": 52,
   "id": "fcaac8c2",
   "metadata": {},
   "outputs": [],
   "source": [
    "metadata.save_to_json(filepath=data_set_path+'metadata/cptevents/cptevents.json')"
   ]
  },
  {
   "cell_type": "code",
   "execution_count": 53,
   "id": "cf1a91d4",
   "metadata": {},
   "outputs": [],
   "source": [
    "data=cptevents_df"
   ]
  },
  {
   "cell_type": "code",
   "execution_count": 54,
   "id": "c4d67782",
   "metadata": {},
   "outputs": [
    {
     "name": "stderr",
     "output_type": "stream",
     "text": [
      "Sampling rows: 100%|██████████| 100/100 [00:00<00:00, 2289.77it/s]\n"
     ]
    }
   ],
   "source": [
    "from sdv.lite import SingleTablePreset\n",
    "\n",
    "synthesizer1 = SingleTablePreset(metadata, name='FAST_ML')\n",
    "\n",
    "fixed_constraint = {\n",
    "    'constraint_class': 'FixedCombinations',\n",
    "    'constraint_parameters': {\n",
    "        'column_names': ['costcenter', 'cpt_number', 'sectionheader', 'subsectionheader']\n",
    "    }\n",
    "}\n",
    "\n",
    "synthesizer1.add_constraints(constraints=[\n",
    "    fixed_constraint\n",
    "])\n",
    "synthesizer1.fit(data)\n",
    "\n",
    "synthetic_data1 = synthesizer1.sample(num_rows=100)"
   ]
  },
  {
   "cell_type": "code",
   "execution_count": 55,
   "id": "83ec3cac",
   "metadata": {},
   "outputs": [
    {
     "name": "stderr",
     "output_type": "stream",
     "text": [
      "Sampling rows: 100%|██████████| 100/100 [00:00<00:00, 4610.59it/s]\n"
     ]
    }
   ],
   "source": [
    "from sdv.single_table import GaussianCopulaSynthesizer\n",
    "\n",
    "synthesizer2 = GaussianCopulaSynthesizer(metadata)\n",
    "synthesizer2.add_constraints(constraints=[\n",
    "    fixed_constraint\n",
    "])\n",
    "synthesizer2.fit(data)\n",
    "\n",
    "synthetic_data2 = synthesizer2.sample(num_rows=100)"
   ]
  },
  {
   "cell_type": "code",
   "execution_count": 56,
   "id": "e239befe",
   "metadata": {},
   "outputs": [
    {
     "name": "stderr",
     "output_type": "stream",
     "text": [
      "Sampling rows: 100%|██████████| 100/100 [00:00<00:00, 589.90it/s]\n"
     ]
    }
   ],
   "source": [
    "from sdv.single_table import CTGANSynthesizer\n",
    "\n",
    "synthesizer3 = CTGANSynthesizer(metadata)\n",
    "synthesizer3.add_constraints(constraints=[\n",
    "    fixed_constraint\n",
    "])\n",
    "synthesizer3.fit(data)\n",
    "\n",
    "synthetic_data3 = synthesizer3.sample(num_rows=100)"
   ]
  },
  {
   "cell_type": "code",
   "execution_count": 57,
   "id": "2f55dffe",
   "metadata": {},
   "outputs": [
    {
     "name": "stderr",
     "output_type": "stream",
     "text": [
      "Sampling rows: 100%|██████████| 100/100 [00:00<00:00, 1802.60it/s]\n"
     ]
    }
   ],
   "source": [
    "from sdv.single_table import TVAESynthesizer\n",
    "\n",
    "synthesizer4 = TVAESynthesizer(metadata)\n",
    "synthesizer4.add_constraints(constraints=[\n",
    "    fixed_constraint\n",
    "])\n",
    "synthesizer4.fit(data)\n",
    "\n",
    "synthetic_data4 = synthesizer4.sample(num_rows=100)"
   ]
  },
  {
   "cell_type": "code",
   "execution_count": 58,
   "id": "bf36c702",
   "metadata": {},
   "outputs": [
    {
     "name": "stderr",
     "output_type": "stream",
     "text": [
      "Sampling rows: 100%|██████████| 100/100 [00:00<00:00, 483.01it/s]\n"
     ]
    }
   ],
   "source": [
    "from sdv.single_table import CopulaGANSynthesizer\n",
    "\n",
    "synthesizer5 = CopulaGANSynthesizer(metadata)\n",
    "synthesizer5.add_constraints(constraints=[\n",
    "    fixed_constraint\n",
    "])\n",
    "synthesizer5.fit(data)\n",
    "\n",
    "synthetic_data5 = synthesizer5.sample(num_rows=100)"
   ]
  },
  {
   "cell_type": "code",
   "execution_count": 59,
   "id": "378a5f5d",
   "metadata": {},
   "outputs": [
    {
     "name": "stderr",
     "output_type": "stream",
     "text": [
      "Creating report: 100%|██████████| 4/4 [00:00<00:00, 14.56it/s]"
     ]
    },
    {
     "name": "stdout",
     "output_type": "stream",
     "text": [
      "\n",
      "Overall Quality Score: 87.19%\n",
      "\n",
      "Properties:\n",
      "Column Shapes: 89.93%\n",
      "Column Pair Trends: 84.45%\n"
     ]
    },
    {
     "name": "stderr",
     "output_type": "stream",
     "text": [
      "\n"
     ]
    }
   ],
   "source": [
    "from sdv.evaluation.single_table import evaluate_quality\n",
    "\n",
    "quality_report = evaluate_quality(\n",
    "    real_data=data,\n",
    "    synthetic_data=synthetic_data1,\n",
    "    metadata=metadata)"
   ]
  },
  {
   "cell_type": "code",
   "execution_count": 60,
   "id": "5ef2df99",
   "metadata": {},
   "outputs": [
    {
     "name": "stderr",
     "output_type": "stream",
     "text": [
      "Creating report: 100%|██████████| 4/4 [00:00<00:00, 16.29it/s]"
     ]
    },
    {
     "name": "stdout",
     "output_type": "stream",
     "text": [
      "\n",
      "Overall Quality Score: 61.21%\n",
      "\n",
      "Properties:\n",
      "Column Shapes: 67.36%\n",
      "Column Pair Trends: 55.07%\n"
     ]
    },
    {
     "name": "stderr",
     "output_type": "stream",
     "text": [
      "\n"
     ]
    }
   ],
   "source": [
    "from sdv.evaluation.single_table import evaluate_quality\n",
    "\n",
    "quality_report = evaluate_quality(\n",
    "    real_data=data,\n",
    "    synthetic_data=synthetic_data2,\n",
    "    metadata=metadata)"
   ]
  },
  {
   "cell_type": "code",
   "execution_count": 61,
   "id": "e10bb109",
   "metadata": {},
   "outputs": [
    {
     "name": "stderr",
     "output_type": "stream",
     "text": [
      "Creating report: 100%|██████████| 4/4 [00:00<00:00, 16.96it/s]"
     ]
    },
    {
     "name": "stdout",
     "output_type": "stream",
     "text": [
      "\n",
      "Overall Quality Score: 85.46%\n",
      "\n",
      "Properties:\n",
      "Column Shapes: 88.04%\n",
      "Column Pair Trends: 82.88%\n"
     ]
    },
    {
     "name": "stderr",
     "output_type": "stream",
     "text": [
      "\n"
     ]
    }
   ],
   "source": [
    "from sdv.evaluation.single_table import evaluate_quality\n",
    "\n",
    "quality_report = evaluate_quality(\n",
    "    real_data=data,\n",
    "    synthetic_data=synthetic_data3,\n",
    "    metadata=metadata)"
   ]
  },
  {
   "cell_type": "code",
   "execution_count": 62,
   "id": "ee833776",
   "metadata": {},
   "outputs": [
    {
     "name": "stderr",
     "output_type": "stream",
     "text": [
      "Creating report: 100%|██████████| 4/4 [00:00<00:00, 14.70it/s]"
     ]
    },
    {
     "name": "stdout",
     "output_type": "stream",
     "text": [
      "\n",
      "Overall Quality Score: 81.42%\n",
      "\n",
      "Properties:\n",
      "Column Shapes: 84.15%\n",
      "Column Pair Trends: 78.69%\n"
     ]
    },
    {
     "name": "stderr",
     "output_type": "stream",
     "text": [
      "\n"
     ]
    }
   ],
   "source": [
    "from sdv.evaluation.single_table import evaluate_quality\n",
    "\n",
    "quality_report = evaluate_quality(\n",
    "    real_data=data,\n",
    "    synthetic_data=synthetic_data4,\n",
    "    metadata=metadata)"
   ]
  },
  {
   "cell_type": "code",
   "execution_count": 63,
   "id": "5ae3a96f",
   "metadata": {},
   "outputs": [
    {
     "name": "stderr",
     "output_type": "stream",
     "text": [
      "Creating report: 100%|██████████| 4/4 [00:00<00:00, 14.75it/s]"
     ]
    },
    {
     "name": "stdout",
     "output_type": "stream",
     "text": [
      "\n",
      "Overall Quality Score: 86.25%\n",
      "\n",
      "Properties:\n",
      "Column Shapes: 88.75%\n",
      "Column Pair Trends: 83.76%\n"
     ]
    },
    {
     "name": "stderr",
     "output_type": "stream",
     "text": [
      "\n"
     ]
    }
   ],
   "source": [
    "from sdv.evaluation.single_table import evaluate_quality\n",
    "\n",
    "quality_report = evaluate_quality(\n",
    "    real_data=data,\n",
    "    synthetic_data=synthetic_data5,\n",
    "    metadata=metadata)"
   ]
  },
  {
   "cell_type": "code",
   "execution_count": 64,
   "id": "222f3285",
   "metadata": {},
   "outputs": [],
   "source": [
    "synthesizer1.save('C:/Users/shrus/Documents/Synthetic-data-generation/models/cptevents/'+'cptevents_best_singletablepreset.pkl')\n"
   ]
  },
  {
   "cell_type": "code",
   "execution_count": null,
   "id": "26504bff",
   "metadata": {},
   "outputs": [],
   "source": []
  }
 ],
 "metadata": {
  "kernelspec": {
   "display_name": "Python 3 (ipykernel)",
   "language": "python",
   "name": "python3"
  },
  "language_info": {
   "codemirror_mode": {
    "name": "ipython",
    "version": 3
   },
   "file_extension": ".py",
   "mimetype": "text/x-python",
   "name": "python",
   "nbconvert_exporter": "python",
   "pygments_lexer": "ipython3",
   "version": "3.10.9"
  }
 },
 "nbformat": 4,
 "nbformat_minor": 5
}
