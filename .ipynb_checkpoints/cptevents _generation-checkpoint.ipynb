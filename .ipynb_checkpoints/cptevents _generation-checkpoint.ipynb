{
 "cells": [
  {
   "cell_type": "code",
   "execution_count": 1,
   "metadata": {
    "executionInfo": {
     "elapsed": 411,
     "status": "ok",
     "timestamp": 1658454412729,
     "user": {
      "displayName": "Alaskyed Ala",
      "userId": "06306570059054139627"
     },
     "user_tz": -60
    },
    "id": "upK_sL9XI1Qz"
   },
   "outputs": [],
   "source": [
    "# from google.colab import drive\n",
    "# drive.mount('/content/drive')"
   ]
  },
  {
   "cell_type": "code",
   "execution_count": 2,
   "metadata": {
    "executionInfo": {
     "elapsed": 5,
     "status": "ok",
     "timestamp": 1658454413101,
     "user": {
      "displayName": "Alaskyed Ala",
      "userId": "06306570059054139627"
     },
     "user_tz": -60
    },
    "id": "DBpu5iKQLAMS"
   },
   "outputs": [],
   "source": [
    "# ! pip install sdv"
   ]
  },
  {
   "cell_type": "code",
   "execution_count": 3,
   "metadata": {
    "executionInfo": {
     "elapsed": 6,
     "status": "ok",
     "timestamp": 1658454413102,
     "user": {
      "displayName": "Alaskyed Ala",
      "userId": "06306570059054139627"
     },
     "user_tz": -60
    },
    "id": "riQqBBwHLHwB"
   },
   "outputs": [],
   "source": [
    "# Ignore warnings\n",
    "import warnings\n",
    "warnings.filterwarnings(\"ignore\")"
   ]
  },
  {
   "cell_type": "code",
   "execution_count": 4,
   "metadata": {
    "executionInfo": {
     "elapsed": 227,
     "status": "ok",
     "timestamp": 1658454413324,
     "user": {
      "displayName": "Alaskyed Ala",
      "userId": "06306570059054139627"
     },
     "user_tz": -60
    },
    "id": "8CD0CH1VQydX"
   },
   "outputs": [],
   "source": [
    "import pandas as pd\n",
    "import numpy as np\n",
    "\n",
    "import commonfunc"
   ]
  },
  {
   "cell_type": "code",
   "execution_count": 5,
   "metadata": {
    "executionInfo": {
     "elapsed": 4,
     "status": "ok",
     "timestamp": 1658454413628,
     "user": {
      "displayName": "Alaskyed Ala",
      "userId": "06306570059054139627"
     },
     "user_tz": -60
    },
    "id": "qqDlksJ2Q0X3"
   },
   "outputs": [],
   "source": [
    "data_set_path = \"./sampled_data_csv_100/\""
   ]
  },
  {
   "cell_type": "markdown",
   "metadata": {},
   "source": [
    "# CPTevents"
   ]
  },
  {
   "cell_type": "markdown",
   "metadata": {},
   "source": [
    "### Read samples"
   ]
  },
  {
   "cell_type": "code",
   "execution_count": 7,
   "metadata": {
    "executionInfo": {
     "elapsed": 1351,
     "status": "ok",
     "timestamp": 1658454414975,
     "user": {
      "displayName": "Alaskyed Ala",
      "userId": "06306570059054139627"
     },
     "user_tz": -60
    },
    "id": "vDPDkdoKQ1m5"
   },
   "outputs": [],
   "source": [
    "cptevents_df = commonfunc.read_csv_no_rowid(data_set_path + \"cptevents.csv\")"
   ]
  },
  {
   "cell_type": "code",
   "execution_count": 8,
   "metadata": {
    "colab": {
     "base_uri": "https://localhost:8080/",
     "height": 473
    },
    "executionInfo": {
     "elapsed": 22,
     "status": "ok",
     "timestamp": 1658454414980,
     "user": {
      "displayName": "Alaskyed Ala",
      "userId": "06306570059054139627"
     },
     "user_tz": -60
    },
    "id": "zAk7v9CcS_ga",
    "outputId": "b7df18a1-38af-4134-c8f2-97b23cc7c195"
   },
   "outputs": [
    {
     "data": {
      "text/html": [
       "<div>\n",
       "<style scoped>\n",
       "    .dataframe tbody tr th:only-of-type {\n",
       "        vertical-align: middle;\n",
       "    }\n",
       "\n",
       "    .dataframe tbody tr th {\n",
       "        vertical-align: top;\n",
       "    }\n",
       "\n",
       "    .dataframe thead th {\n",
       "        text-align: right;\n",
       "    }\n",
       "</style>\n",
       "<table border=\"1\" class=\"dataframe\">\n",
       "  <thead>\n",
       "    <tr style=\"text-align: right;\">\n",
       "      <th></th>\n",
       "      <th>subject_id</th>\n",
       "      <th>hadm_id</th>\n",
       "      <th>costcenter</th>\n",
       "      <th>chartdate</th>\n",
       "      <th>cpt_cd</th>\n",
       "      <th>cpt_number</th>\n",
       "      <th>cpt_suffix</th>\n",
       "      <th>ticket_id_seq</th>\n",
       "      <th>sectionheader</th>\n",
       "      <th>subsectionheader</th>\n",
       "      <th>description</th>\n",
       "    </tr>\n",
       "  </thead>\n",
       "  <tbody>\n",
       "    <tr>\n",
       "      <th>0</th>\n",
       "      <td>87197</td>\n",
       "      <td>176931</td>\n",
       "      <td>ICU</td>\n",
       "      <td>NaN</td>\n",
       "      <td>99291</td>\n",
       "      <td>99291</td>\n",
       "      <td>NaN</td>\n",
       "      <td>2.0</td>\n",
       "      <td>Evaluation and management</td>\n",
       "      <td>Critical care services</td>\n",
       "      <td>NaN</td>\n",
       "    </tr>\n",
       "    <tr>\n",
       "      <th>1</th>\n",
       "      <td>87197</td>\n",
       "      <td>176931</td>\n",
       "      <td>ICU</td>\n",
       "      <td>NaN</td>\n",
       "      <td>99231</td>\n",
       "      <td>99231</td>\n",
       "      <td>NaN</td>\n",
       "      <td>3.0</td>\n",
       "      <td>Evaluation and management</td>\n",
       "      <td>Hospital inpatient services</td>\n",
       "      <td>NaN</td>\n",
       "    </tr>\n",
       "    <tr>\n",
       "      <th>2</th>\n",
       "      <td>87197</td>\n",
       "      <td>176931</td>\n",
       "      <td>ICU</td>\n",
       "      <td>NaN</td>\n",
       "      <td>99233</td>\n",
       "      <td>99233</td>\n",
       "      <td>NaN</td>\n",
       "      <td>4.0</td>\n",
       "      <td>Evaluation and management</td>\n",
       "      <td>Hospital inpatient services</td>\n",
       "      <td>NaN</td>\n",
       "    </tr>\n",
       "    <tr>\n",
       "      <th>3</th>\n",
       "      <td>87197</td>\n",
       "      <td>176931</td>\n",
       "      <td>ICU</td>\n",
       "      <td>NaN</td>\n",
       "      <td>99231</td>\n",
       "      <td>99231</td>\n",
       "      <td>NaN</td>\n",
       "      <td>5.0</td>\n",
       "      <td>Evaluation and management</td>\n",
       "      <td>Hospital inpatient services</td>\n",
       "      <td>NaN</td>\n",
       "    </tr>\n",
       "    <tr>\n",
       "      <th>4</th>\n",
       "      <td>21269</td>\n",
       "      <td>109697</td>\n",
       "      <td>ICU</td>\n",
       "      <td>NaN</td>\n",
       "      <td>99291</td>\n",
       "      <td>99291</td>\n",
       "      <td>NaN</td>\n",
       "      <td>10.0</td>\n",
       "      <td>Evaluation and management</td>\n",
       "      <td>Critical care services</td>\n",
       "      <td>NaN</td>\n",
       "    </tr>\n",
       "  </tbody>\n",
       "</table>\n",
       "</div>"
      ],
      "text/plain": [
       "   subject_id  hadm_id costcenter chartdate  cpt_cd  cpt_number  cpt_suffix  \\\n",
       "0       87197   176931        ICU       NaN   99291       99291         NaN   \n",
       "1       87197   176931        ICU       NaN   99231       99231         NaN   \n",
       "2       87197   176931        ICU       NaN   99233       99233         NaN   \n",
       "3       87197   176931        ICU       NaN   99231       99231         NaN   \n",
       "4       21269   109697        ICU       NaN   99291       99291         NaN   \n",
       "\n",
       "   ticket_id_seq              sectionheader             subsectionheader  \\\n",
       "0            2.0  Evaluation and management       Critical care services   \n",
       "1            3.0  Evaluation and management  Hospital inpatient services   \n",
       "2            4.0  Evaluation and management  Hospital inpatient services   \n",
       "3            5.0  Evaluation and management  Hospital inpatient services   \n",
       "4           10.0  Evaluation and management       Critical care services   \n",
       "\n",
       "  description  \n",
       "0         NaN  \n",
       "1         NaN  \n",
       "2         NaN  \n",
       "3         NaN  \n",
       "4         NaN  "
      ]
     },
     "execution_count": 8,
     "metadata": {},
     "output_type": "execute_result"
    }
   ],
   "source": [
    "cptevents_df.head()"
   ]
  },
  {
   "cell_type": "code",
   "execution_count": 9,
   "metadata": {},
   "outputs": [
    {
     "data": {
      "text/plain": [
       "ICU     1177\n",
       "Resp     193\n",
       "Name: costcenter, dtype: int64"
      ]
     },
     "execution_count": 9,
     "metadata": {},
     "output_type": "execute_result"
    }
   ],
   "source": [
    "cptevents_df['costcenter'].value_counts()"
   ]
  },
  {
   "cell_type": "markdown",
   "metadata": {},
   "source": [
    "### Data preproces"
   ]
  },
  {
   "cell_type": "code",
   "execution_count": 10,
   "metadata": {},
   "outputs": [],
   "source": [
    "# Drop some null value\n",
    "cptevents_df.dropna(subset=['subject_id', 'hadm_id'], inplace=True, axis=0)"
   ]
  },
  {
   "cell_type": "code",
   "execution_count": 11,
   "metadata": {},
   "outputs": [],
   "source": [
    "# Drop useless colums\n",
    "cptevents_df.drop(['description', 'cpt_cd', 'ticket_id_seq'], axis=1, inplace=True)\n",
    "# Because in this column, just super few rows is str type, so I just drop the rows which are str, then drop the whole columns\n",
    "cptevents_df.drop(cptevents_df.loc[cptevents_df['cpt_suffix'].isnull() == False].index, inplace=True)\n",
    "cptevents_df.drop(['cpt_suffix'], axis=1, inplace=True)"
   ]
  },
  {
   "cell_type": "markdown",
   "metadata": {},
   "source": [
    "#### Deal with null values"
   ]
  },
  {
   "cell_type": "code",
   "execution_count": 13,
   "metadata": {},
   "outputs": [
    {
     "name": "stdout",
     "output_type": "stream",
     "text": [
      "Total columns: 7\n",
      "Total rows: 1370\n",
      "--------------\n",
      "subject_id             0\n",
      "hadm_id                0\n",
      "costcenter             0\n",
      "chartdate           1177\n",
      "cpt_number             0\n",
      "sectionheader          0\n",
      "subsectionheader       0\n",
      "dtype: int64\n"
     ]
    }
   ],
   "source": [
    "commonfunc.nan_count(cptevents_df)"
   ]
  },
  {
   "cell_type": "markdown",
   "metadata": {},
   "source": [
    "#### Set the column types"
   ]
  },
  {
   "cell_type": "code",
   "execution_count": 14,
   "metadata": {},
   "outputs": [
    {
     "data": {
      "text/plain": [
       "subject_id           int64\n",
       "hadm_id              int64\n",
       "costcenter          object\n",
       "chartdate           object\n",
       "cpt_number           int64\n",
       "sectionheader       object\n",
       "subsectionheader    object\n",
       "dtype: object"
      ]
     },
     "execution_count": 14,
     "metadata": {},
     "output_type": "execute_result"
    }
   ],
   "source": [
    "cptevents_df.dtypes"
   ]
  },
  {
   "cell_type": "code",
   "execution_count": 15,
   "metadata": {
    "executionInfo": {
     "elapsed": 9,
     "status": "ok",
     "timestamp": 1658454415398,
     "user": {
      "displayName": "Alaskyed Ala",
      "userId": "06306570059054139627"
     },
     "user_tz": -60
    },
    "id": "NoxlyD4cVQZP"
   },
   "outputs": [],
   "source": [
    "# Set type of columns\n",
    "cptevents_df['chartdate'] = pd.to_datetime(cptevents_df['chartdate'])\n",
    "# If keep the str row in, then set the column as 'str'\n",
    "# cptevents_df['cpt_cd'] = cptevents_df['cpt_cd'].astype(int)\n",
    "# cptevents_df['ticket_id_seq'] = cptevents_df['ticket_id_seq'].astype(int)"
   ]
  },
  {
   "cell_type": "code",
   "execution_count": 16,
   "metadata": {
    "colab": {
     "base_uri": "https://localhost:8080/"
    },
    "executionInfo": {
     "elapsed": 8,
     "status": "ok",
     "timestamp": 1658454415398,
     "user": {
      "displayName": "Alaskyed Ala",
      "userId": "06306570059054139627"
     },
     "user_tz": -60
    },
    "id": "inHMaY8vVbIc",
    "outputId": "b0e858c1-8cc1-45af-b417-dedaae345d8f"
   },
   "outputs": [
    {
     "data": {
      "text/plain": [
       "subject_id                   int64\n",
       "hadm_id                      int64\n",
       "costcenter                  object\n",
       "chartdate           datetime64[ns]\n",
       "cpt_number                   int64\n",
       "sectionheader               object\n",
       "subsectionheader            object\n",
       "dtype: object"
      ]
     },
     "execution_count": 16,
     "metadata": {},
     "output_type": "execute_result"
    }
   ],
   "source": [
    "cptevents_df.dtypes"
   ]
  },
  {
   "cell_type": "markdown",
   "metadata": {},
   "source": [
    "#### Process time data"
   ]
  },
  {
   "cell_type": "code",
   "execution_count": 17,
   "metadata": {},
   "outputs": [],
   "source": [
    "admittime_df = commonfunc.read_csv_no_rowid(data_set_path+\"admissions.csv\").loc[:, ['hadm_id', 'admittime']]\n",
    "admittime_df['admittime'] = pd.to_datetime(admittime_df['admittime'])"
   ]
  },
  {
   "cell_type": "code",
   "execution_count": 18,
   "metadata": {},
   "outputs": [],
   "source": [
    "cptevents_mid_df = pd.merge(left=cptevents_df, right=admittime_df, how='left', on=['hadm_id'])"
   ]
  },
  {
   "cell_type": "code",
   "execution_count": 19,
   "metadata": {},
   "outputs": [],
   "source": [
    "def time_process(df):\n",
    "    if pd.isna(df['chartdate']):\n",
    "        return df['chartdate']\n",
    "    else:\n",
    "        return (df['chartdate'].date() - df['admittime'].date()).days"
   ]
  },
  {
   "cell_type": "code",
   "execution_count": 20,
   "metadata": {},
   "outputs": [],
   "source": [
    "cptevents_mid_df['chartdate'] = cptevents_mid_df.apply(time_process, axis=1)"
   ]
  },
  {
   "cell_type": "code",
   "execution_count": 21,
   "metadata": {},
   "outputs": [],
   "source": [
    "cptevents_df = cptevents_mid_df.drop(['subject_id', 'hadm_id', 'admittime', 'chartdate'], axis=1)"
   ]
  },
  {
   "cell_type": "code",
   "execution_count": 22,
   "metadata": {},
   "outputs": [
    {
     "data": {
      "text/plain": [
       "Index(['costcenter', 'cpt_number', 'sectionheader', 'subsectionheader'], dtype='object')"
      ]
     },
     "execution_count": 22,
     "metadata": {},
     "output_type": "execute_result"
    }
   ],
   "source": [
    "cptevents_df.columns"
   ]
  },
  {
   "cell_type": "markdown",
   "metadata": {
    "id": "embt2rG-UJWy"
   },
   "source": [
    "---\n",
    "\n",
    "## Build and train model"
   ]
  },
  {
   "cell_type": "markdown",
   "metadata": {},
   "source": [
    "### Set constraint"
   ]
  },
  {
   "cell_type": "code",
   "execution_count": 23,
   "metadata": {
    "executionInfo": {
     "elapsed": 7,
     "status": "ok",
     "timestamp": 1658454417661,
     "user": {
      "displayName": "Alaskyed Ala",
      "userId": "06306570059054139627"
     },
     "user_tz": -60
    },
    "id": "VT9X_YvDt2ZJ"
   },
   "outputs": [],
   "source": [
    "from sdv.constraints import FixedCombinations\n",
    "\n",
    "fixed_constraint = FixedCombinations(\n",
    "    column_names=['costcenter', 'cpt_number', 'sectionheader', 'subsectionheader']\n",
    ")"
   ]
  },
  {
   "cell_type": "code",
   "execution_count": 24,
   "metadata": {
    "executionInfo": {
     "elapsed": 6,
     "status": "ok",
     "timestamp": 1658454417661,
     "user": {
      "displayName": "Alaskyed Ala",
      "userId": "06306570059054139627"
     },
     "user_tz": -60
    },
    "id": "mWY8TKsWzbMp"
   },
   "outputs": [],
   "source": [
    "constraints = [fixed_constraint]"
   ]
  },
  {
   "cell_type": "markdown",
   "metadata": {},
   "source": [
    "### Build and train model"
   ]
  },
  {
   "cell_type": "code",
   "execution_count": 26,
   "metadata": {
    "colab": {
     "base_uri": "https://localhost:8080/"
    },
    "executionInfo": {
     "elapsed": 626801,
     "status": "ok",
     "timestamp": 1658455044457,
     "user": {
      "displayName": "Alaskyed Ala",
      "userId": "06306570059054139627"
     },
     "user_tz": -60
    },
    "id": "smD14FIZeFgd",
    "outputId": "ebdcac97-6738-4993-b7ab-9c063e574df4"
   },
   "outputs": [
    {
     "name": "stdout",
     "output_type": "stream",
     "text": [
      "Strat training ...\n",
      "Tabular Preset\n"
     ]
    },
    {
     "name": "stderr",
     "output_type": "stream",
     "text": [
      "Sampling rows: 100%|██████████| 10/10 [00:00<00:00, 247.29it/s]\n"
     ]
    },
    {
     "name": "stdout",
     "output_type": "stream",
     "text": [
      "Gaussian Copula\n"
     ]
    },
    {
     "name": "stderr",
     "output_type": "stream",
     "text": [
      "Sampling rows: 100%|██████████| 10/10 [00:00<00:00, 295.23it/s]"
     ]
    },
    {
     "name": "stdout",
     "output_type": "stream",
     "text": [
      "CTGAN\n"
     ]
    },
    {
     "name": "stderr",
     "output_type": "stream",
     "text": [
      "\n",
      "Sampling rows: 100%|██████████| 10/10 [00:00<00:00, 156.56it/s]\n"
     ]
    },
    {
     "name": "stdout",
     "output_type": "stream",
     "text": [
      "CopulaGAN\n"
     ]
    },
    {
     "name": "stderr",
     "output_type": "stream",
     "text": [
      "Sampling rows: 100%|██████████| 10/10 [00:00<00:00, 275.69it/s]\n"
     ]
    },
    {
     "name": "stdout",
     "output_type": "stream",
     "text": [
      "TVAE\n"
     ]
    },
    {
     "name": "stderr",
     "output_type": "stream",
     "text": [
      "Sampling rows: 100%|██████████| 10/10 [00:00<00:00, 408.98it/s]\n"
     ]
    },
    {
     "name": "stdout",
     "output_type": "stream",
     "text": [
      "Training finished!\n",
      "Strat evaluating ...\n",
      "Evaluating finished!\n",
      "Gaussian Copula\n"
     ]
    },
    {
     "name": "stderr",
     "output_type": "stream",
     "text": [
      "Sampling rows: 100%|██████████| 10/10 [00:00<00:00, 537.47it/s]\n"
     ]
    },
    {
     "name": "stdout",
     "output_type": "stream",
     "text": [
      "The best model is: gaussiancopula\n",
      "The ContinuousKL_score is: nan\n",
      "The DiscreteKL_score is: 0.8293790834954106\n",
      "The total score is: 0.8028490682722201\n"
     ]
    }
   ],
   "source": [
    "train_data = cptevents_df.head(10)\n",
    "best_model = commonfunc.build_model(constraints=constraints, train_data=train_data)"
   ]
  },
  {
   "cell_type": "code",
   "execution_count": 66,
   "metadata": {},
   "outputs": [],
   "source": [
    "model_save_path = data_set_path + \"100_models/\" + \"cptevents_model.pkl\"\n",
    "common.save_model(best_model, model_save_path)"
   ]
  },
  {
   "cell_type": "markdown",
   "metadata": {},
   "source": [
    "---\n",
    "\n",
    "## Evaluate data"
   ]
  },
  {
   "cell_type": "code",
   "execution_count": 67,
   "metadata": {},
   "outputs": [],
   "source": [
    "from sdv.evaluation import evaluate"
   ]
  },
  {
   "cell_type": "markdown",
   "metadata": {},
   "source": [
    "### Generate synthetic data"
   ]
  },
  {
   "cell_type": "code",
   "execution_count": 68,
   "metadata": {},
   "outputs": [],
   "source": [
    "# Load model\n",
    "date_load_path = data_set_path + \"100_models/\" + \"cptevents_model.pkl\"\n",
    "model = common.load_model(date_load_path)"
   ]
  },
  {
   "cell_type": "code",
   "execution_count": 69,
   "metadata": {
    "executionInfo": {
     "elapsed": 2575,
     "status": "ok",
     "timestamp": 1658455051235,
     "user": {
      "displayName": "Alaskyed Ala",
      "userId": "06306570059054139627"
     },
     "user_tz": -60
    },
    "id": "nMSAJ03D1Gui"
   },
   "outputs": [
    {
     "name": "stderr",
     "output_type": "stream",
     "text": [
      "Sampling rows: 100%|██████████| 10/10 [00:00<00:00, 769.36it/s]\n"
     ]
    }
   ],
   "source": [
    "sample = model.sample(num_rows=len(train_data))"
   ]
  },
  {
   "cell_type": "code",
   "execution_count": 70,
   "metadata": {},
   "outputs": [
    {
     "data": {
      "text/html": [
       "<div>\n",
       "<style scoped>\n",
       "    .dataframe tbody tr th:only-of-type {\n",
       "        vertical-align: middle;\n",
       "    }\n",
       "\n",
       "    .dataframe tbody tr th {\n",
       "        vertical-align: top;\n",
       "    }\n",
       "\n",
       "    .dataframe thead th {\n",
       "        text-align: right;\n",
       "    }\n",
       "</style>\n",
       "<table border=\"1\" class=\"dataframe\">\n",
       "  <thead>\n",
       "    <tr style=\"text-align: right;\">\n",
       "      <th></th>\n",
       "      <th>costcenter</th>\n",
       "      <th>cpt_number</th>\n",
       "      <th>sectionheader</th>\n",
       "      <th>subsectionheader</th>\n",
       "    </tr>\n",
       "  </thead>\n",
       "  <tbody>\n",
       "    <tr>\n",
       "      <th>0</th>\n",
       "      <td>ICU</td>\n",
       "      <td>99232</td>\n",
       "      <td>Evaluation and management</td>\n",
       "      <td>Hospital inpatient services</td>\n",
       "    </tr>\n",
       "    <tr>\n",
       "      <th>1</th>\n",
       "      <td>ICU</td>\n",
       "      <td>99254</td>\n",
       "      <td>Evaluation and management</td>\n",
       "      <td>Consultations</td>\n",
       "    </tr>\n",
       "    <tr>\n",
       "      <th>2</th>\n",
       "      <td>ICU</td>\n",
       "      <td>99291</td>\n",
       "      <td>Evaluation and management</td>\n",
       "      <td>Critical care services</td>\n",
       "    </tr>\n",
       "    <tr>\n",
       "      <th>3</th>\n",
       "      <td>ICU</td>\n",
       "      <td>99232</td>\n",
       "      <td>Evaluation and management</td>\n",
       "      <td>Hospital inpatient services</td>\n",
       "    </tr>\n",
       "    <tr>\n",
       "      <th>4</th>\n",
       "      <td>ICU</td>\n",
       "      <td>99231</td>\n",
       "      <td>Evaluation and management</td>\n",
       "      <td>Hospital inpatient services</td>\n",
       "    </tr>\n",
       "    <tr>\n",
       "      <th>5</th>\n",
       "      <td>ICU</td>\n",
       "      <td>99223</td>\n",
       "      <td>Evaluation and management</td>\n",
       "      <td>Hospital inpatient services</td>\n",
       "    </tr>\n",
       "    <tr>\n",
       "      <th>6</th>\n",
       "      <td>ICU</td>\n",
       "      <td>27530</td>\n",
       "      <td>Surgery</td>\n",
       "      <td>Musculoskeletal system</td>\n",
       "    </tr>\n",
       "    <tr>\n",
       "      <th>7</th>\n",
       "      <td>ICU</td>\n",
       "      <td>99223</td>\n",
       "      <td>Evaluation and management</td>\n",
       "      <td>Hospital inpatient services</td>\n",
       "    </tr>\n",
       "    <tr>\n",
       "      <th>8</th>\n",
       "      <td>ICU</td>\n",
       "      <td>99254</td>\n",
       "      <td>Evaluation and management</td>\n",
       "      <td>Consultations</td>\n",
       "    </tr>\n",
       "    <tr>\n",
       "      <th>9</th>\n",
       "      <td>ICU</td>\n",
       "      <td>27780</td>\n",
       "      <td>Surgery</td>\n",
       "      <td>Musculoskeletal system</td>\n",
       "    </tr>\n",
       "  </tbody>\n",
       "</table>\n",
       "</div>"
      ],
      "text/plain": [
       "  costcenter  cpt_number              sectionheader  \\\n",
       "0        ICU       99232  Evaluation and management   \n",
       "1        ICU       99254  Evaluation and management   \n",
       "2        ICU       99291  Evaluation and management   \n",
       "3        ICU       99232  Evaluation and management   \n",
       "4        ICU       99231  Evaluation and management   \n",
       "5        ICU       99223  Evaluation and management   \n",
       "6        ICU       27530                    Surgery   \n",
       "7        ICU       99223  Evaluation and management   \n",
       "8        ICU       99254  Evaluation and management   \n",
       "9        ICU       27780                    Surgery   \n",
       "\n",
       "              subsectionheader  \n",
       "0  Hospital inpatient services  \n",
       "1                Consultations  \n",
       "2       Critical care services  \n",
       "3  Hospital inpatient services  \n",
       "4  Hospital inpatient services  \n",
       "5  Hospital inpatient services  \n",
       "6       Musculoskeletal system  \n",
       "7  Hospital inpatient services  \n",
       "8                Consultations  \n",
       "9       Musculoskeletal system  "
      ]
     },
     "execution_count": 70,
     "metadata": {},
     "output_type": "execute_result"
    }
   ],
   "source": [
    "sample.head(30)"
   ]
  },
  {
   "cell_type": "code",
   "execution_count": 71,
   "metadata": {
    "colab": {
     "base_uri": "https://localhost:8080/"
    },
    "executionInfo": {
     "elapsed": 21,
     "status": "ok",
     "timestamp": 1658455051236,
     "user": {
      "displayName": "Alaskyed Ala",
      "userId": "06306570059054139627"
     },
     "user_tz": -60
    },
    "id": "nvyotlzD96-O",
    "outputId": "6075a6ff-3cd1-41ee-a9c2-5489797e5e6b"
   },
   "outputs": [
    {
     "data": {
      "text/plain": [
       "nan"
      ]
     },
     "execution_count": 71,
     "metadata": {},
     "output_type": "execute_result"
    }
   ],
   "source": [
    "evaluate(sample, train_data, metrics=['ContinuousKLDivergence'])"
   ]
  },
  {
   "cell_type": "code",
   "execution_count": 72,
   "metadata": {
    "colab": {
     "base_uri": "https://localhost:8080/"
    },
    "executionInfo": {
     "elapsed": 15,
     "status": "ok",
     "timestamp": 1658455051237,
     "user": {
      "displayName": "Alaskyed Ala",
      "userId": "06306570059054139627"
     },
     "user_tz": -60
    },
    "id": "JNipkWXo-glR",
    "outputId": "5d3a7bca-4778-4df0-a1ec-d04e01932cf3"
   },
   "outputs": [
    {
     "data": {
      "text/plain": [
       "0.9729708026166657"
      ]
     },
     "execution_count": 72,
     "metadata": {},
     "output_type": "execute_result"
    }
   ],
   "source": [
    "evaluate(sample, train_data, metrics=['DiscreteKLDivergence'])"
   ]
  },
  {
   "cell_type": "code",
   "execution_count": 78,
   "metadata": {},
   "outputs": [
    {
     "data": {
      "text/plain": [
       "0.9570634385709781"
      ]
     },
     "execution_count": 78,
     "metadata": {},
     "output_type": "execute_result"
    }
   ],
   "source": [
    "evaluate(sample, train_data, metrics=['CSTest', 'KSTest', 'ContinuousKLDivergence', 'DiscreteKLDivergence'])"
   ]
  },
  {
   "cell_type": "code",
   "execution_count": 74,
   "metadata": {},
   "outputs": [
    {
     "data": {
      "text/plain": [
       "array([[<AxesSubplot:title={'center':'cpt_number'}>]], dtype=object)"
      ]
     },
     "execution_count": 74,
     "metadata": {},
     "output_type": "execute_result"
    },
    {
     "data": {
      "image/png": "[encoded data removed]",
      "text/plain": [
       "<Figure size 432x288 with 1 Axes>"
      ]
     },
     "metadata": {
      "needs_background": "light"
     },
     "output_type": "display_data"
    }
   ],
   "source": [
    "sample.sort_values('cpt_number').hist()"
   ]
  },
  {
   "cell_type": "code",
   "execution_count": 75,
   "metadata": {},
   "outputs": [
    {
     "data": {
      "text/plain": [
       "array([[<AxesSubplot:title={'center':'cpt_number'}>]], dtype=object)"
      ]
     },
     "execution_count": 75,
     "metadata": {},
     "output_type": "execute_result"
    },
    {
     "data": {
      "image/png": "[encoded data removed]",
      "text/plain": [
       "<Figure size 432x288 with 1 Axes>"
      ]
     },
     "metadata": {
      "needs_background": "light"
     },
     "output_type": "display_data"
    }
   ],
   "source": [
    "train_data.sort_values('cpt_number').hist()"
   ]
  },
  {
   "cell_type": "code",
   "execution_count": 76,
   "metadata": {},
   "outputs": [
    {
     "data": {
      "text/plain": [
       "<AxesSubplot:>"
      ]
     },
     "execution_count": 76,
     "metadata": {},
     "output_type": "execute_result"
    },
    {
     "data": {
      "image/png": "[encoded data removed]",
      "text/plain": [
       "<Figure size 432x288 with 1 Axes>"
      ]
     },
     "metadata": {
      "needs_background": "light"
     },
     "output_type": "display_data"
    }
   ],
   "source": [
    "sample.sort_values('cpt_number')['cpt_number'].hist()"
   ]
  },
  {
   "cell_type": "code",
   "execution_count": 77,
   "metadata": {},
   "outputs": [
    {
     "data": {
      "text/plain": [
       "<AxesSubplot:>"
      ]
     },
     "execution_count": 77,
     "metadata": {},
     "output_type": "execute_result"
    },
    {
     "data": {
      "image/png": "[encoded data removed]",
      "text/plain": [
       "<Figure size 432x288 with 1 Axes>"
      ]
     },
     "metadata": {
      "needs_background": "light"
     },
     "output_type": "display_data"
    }
   ],
   "source": [
    "train_data.sort_values('cpt_number')['cpt_number'].hist()"
   ]
  }
 ],
 "metadata": {
  "accelerator": "GPU",
  "colab": {
   "authorship_tag": "ABX9TyPWjeM6Y7vqnrP/k8HwyDCG",
   "collapsed_sections": [],
   "machine_shape": "hm",
   "name": "SDV_outputevents_generation.ipynb",
   "provenance": []
  },
  "gpuClass": "standard",
  "kernelspec": {
   "display_name": "Python 3 (ipykernel)",
   "language": "python",
   "name": "python3"
  },
  "language_info": {
   "codemirror_mode": {
    "name": "ipython",
    "version": 3
   },
   "file_extension": ".py",
   "mimetype": "text/x-python",
   "name": "python",
   "nbconvert_exporter": "python",
   "pygments_lexer": "ipython3",
   "version": "3.8.13"
  },
  "vscode": {
   "interpreter": {
    "hash": "e56015fb566b08f7af163d42c82cf08fa5d6db3fbaaffa0afaaff5a893fc0496"
   }
  }
 },
 "nbformat": 4,
 "nbformat_minor": 1
}
