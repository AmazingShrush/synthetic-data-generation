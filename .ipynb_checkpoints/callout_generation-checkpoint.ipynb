{
 "cells": [
  {
   "cell_type": "code",
   "execution_count": 1,
   "metadata": {},
   "outputs": [],
   "source": [
    "# from google.colab import drive\n",
    "# drive.mount('/content/drive')"
   ]
  },
  {
   "cell_type": "code",
   "execution_count": 2,
   "metadata": {},
   "outputs": [],
   "source": [
    "# ! pip install pgmpy"
   ]
  },
  {
   "cell_type": "code",
   "execution_count": 3,
   "metadata": {},
   "outputs": [],
   "source": [
    "# Ignore warnings\n",
    "import warnings\n",
    "warnings.filterwarnings(\"ignore\")"
   ]
  },
  {
   "cell_type": "code",
   "execution_count": 4,
   "metadata": {},
   "outputs": [],
   "source": [
    "import pandas as pd\n",
    "import numpy as np\n",
    "\n",
    "import commonfunc"
   ]
  },
  {
   "cell_type": "code",
   "execution_count": 5,
   "metadata": {},
   "outputs": [],
   "source": [
    "data_set_path = \"./sampled_data_csv_100/\""
   ]
  },
  {
   "cell_type": "markdown",
   "metadata": {},
   "source": [
    "# callout"
   ]
  },
  {
   "cell_type": "markdown",
   "metadata": {},
   "source": [
    "## Data Process"
   ]
  },
  {
   "cell_type": "markdown",
   "metadata": {},
   "source": [
    "### Read samples"
   ]
  },
  {
   "cell_type": "code",
   "execution_count": 7,
   "metadata": {},
   "outputs": [],
   "source": [
    "callout_df = commonfunc.read_csv_no_rowid(data_set_path+\"callout.csv\")"
   ]
  },
  {
   "cell_type": "code",
   "execution_count": 8,
   "metadata": {},
   "outputs": [
    {
     "data": {
      "text/html": [
       "<div>\n",
       "<style scoped>\n",
       "    .dataframe tbody tr th:only-of-type {\n",
       "        vertical-align: middle;\n",
       "    }\n",
       "\n",
       "    .dataframe tbody tr th {\n",
       "        vertical-align: top;\n",
       "    }\n",
       "\n",
       "    .dataframe thead th {\n",
       "        text-align: right;\n",
       "    }\n",
       "</style>\n",
       "<table border=\"1\" class=\"dataframe\">\n",
       "  <thead>\n",
       "    <tr style=\"text-align: right;\">\n",
       "      <th></th>\n",
       "      <th>subject_id</th>\n",
       "      <th>hadm_id</th>\n",
       "      <th>submit_wardid</th>\n",
       "      <th>submit_careunit</th>\n",
       "      <th>curr_wardid</th>\n",
       "      <th>curr_careunit</th>\n",
       "      <th>callout_wardid</th>\n",
       "      <th>callout_service</th>\n",
       "      <th>request_tele</th>\n",
       "      <th>request_resp</th>\n",
       "      <th>...</th>\n",
       "      <th>callout_status</th>\n",
       "      <th>callout_outcome</th>\n",
       "      <th>discharge_wardid</th>\n",
       "      <th>acknowledge_status</th>\n",
       "      <th>createtime</th>\n",
       "      <th>updatetime</th>\n",
       "      <th>acknowledgetime</th>\n",
       "      <th>outcometime</th>\n",
       "      <th>firstreservationtime</th>\n",
       "      <th>currentreservationtime</th>\n",
       "    </tr>\n",
       "  </thead>\n",
       "  <tbody>\n",
       "    <tr>\n",
       "      <th>0</th>\n",
       "      <td>87197</td>\n",
       "      <td>176931</td>\n",
       "      <td>7</td>\n",
       "      <td>NaN</td>\n",
       "      <td>55</td>\n",
       "      <td>CCU</td>\n",
       "      <td>1</td>\n",
       "      <td>MED</td>\n",
       "      <td>0</td>\n",
       "      <td>0</td>\n",
       "      <td>...</td>\n",
       "      <td>Inactive</td>\n",
       "      <td>Discharged</td>\n",
       "      <td>55.0</td>\n",
       "      <td>Acknowledged</td>\n",
       "      <td>2109-11-17 13:06:52</td>\n",
       "      <td>2109-11-17 13:06:52</td>\n",
       "      <td>2109-11-17 14:53:54</td>\n",
       "      <td>2109-11-17 17:55:03</td>\n",
       "      <td>NaN</td>\n",
       "      <td>NaN</td>\n",
       "    </tr>\n",
       "    <tr>\n",
       "      <th>1</th>\n",
       "      <td>5692</td>\n",
       "      <td>151113</td>\n",
       "      <td>15</td>\n",
       "      <td>NaN</td>\n",
       "      <td>2</td>\n",
       "      <td>CSRU</td>\n",
       "      <td>2</td>\n",
       "      <td>CSURG</td>\n",
       "      <td>1</td>\n",
       "      <td>0</td>\n",
       "      <td>...</td>\n",
       "      <td>Inactive</td>\n",
       "      <td>Discharged</td>\n",
       "      <td>2.0</td>\n",
       "      <td>Revised</td>\n",
       "      <td>2143-11-01 09:27:02</td>\n",
       "      <td>2143-11-01 15:28:06</td>\n",
       "      <td>NaN</td>\n",
       "      <td>2143-11-01 19:40:03</td>\n",
       "      <td>NaN</td>\n",
       "      <td>NaN</td>\n",
       "    </tr>\n",
       "    <tr>\n",
       "      <th>2</th>\n",
       "      <td>5692</td>\n",
       "      <td>193147</td>\n",
       "      <td>7</td>\n",
       "      <td>NaN</td>\n",
       "      <td>17</td>\n",
       "      <td>CCU</td>\n",
       "      <td>17</td>\n",
       "      <td>CCU</td>\n",
       "      <td>1</td>\n",
       "      <td>0</td>\n",
       "      <td>...</td>\n",
       "      <td>Inactive</td>\n",
       "      <td>Discharged</td>\n",
       "      <td>17.0</td>\n",
       "      <td>Acknowledged</td>\n",
       "      <td>2147-12-17 09:26:15</td>\n",
       "      <td>2147-12-17 09:26:15</td>\n",
       "      <td>2147-12-17 09:45:27</td>\n",
       "      <td>2147-12-17 13:29:46</td>\n",
       "      <td>2147-12-17 10:40:23</td>\n",
       "      <td>NaN</td>\n",
       "    </tr>\n",
       "    <tr>\n",
       "      <th>3</th>\n",
       "      <td>5692</td>\n",
       "      <td>132890</td>\n",
       "      <td>15</td>\n",
       "      <td>NaN</td>\n",
       "      <td>17</td>\n",
       "      <td>CSRU</td>\n",
       "      <td>17</td>\n",
       "      <td>CMED</td>\n",
       "      <td>1</td>\n",
       "      <td>0</td>\n",
       "      <td>...</td>\n",
       "      <td>Inactive</td>\n",
       "      <td>Discharged</td>\n",
       "      <td>17.0</td>\n",
       "      <td>Acknowledged</td>\n",
       "      <td>2148-01-18 08:07:35</td>\n",
       "      <td>2148-01-18 14:17:53</td>\n",
       "      <td>2148-01-18 15:28:37</td>\n",
       "      <td>2148-01-18 18:41:08</td>\n",
       "      <td>NaN</td>\n",
       "      <td>NaN</td>\n",
       "    </tr>\n",
       "    <tr>\n",
       "      <th>4</th>\n",
       "      <td>30096</td>\n",
       "      <td>119559</td>\n",
       "      <td>52</td>\n",
       "      <td>MICU</td>\n",
       "      <td>52</td>\n",
       "      <td>MICU</td>\n",
       "      <td>24</td>\n",
       "      <td>SURG</td>\n",
       "      <td>0</td>\n",
       "      <td>0</td>\n",
       "      <td>...</td>\n",
       "      <td>Inactive</td>\n",
       "      <td>Cancelled</td>\n",
       "      <td>NaN</td>\n",
       "      <td>Acknowledged</td>\n",
       "      <td>2161-08-28 07:20:52</td>\n",
       "      <td>2161-08-28 07:38:20</td>\n",
       "      <td>2161-08-28 07:33:12</td>\n",
       "      <td>2161-08-28 07:38:20</td>\n",
       "      <td>NaN</td>\n",
       "      <td>NaN</td>\n",
       "    </tr>\n",
       "  </tbody>\n",
       "</table>\n",
       "<p>5 rows × 23 columns</p>\n",
       "</div>"
      ],
      "text/plain": [
       "   subject_id  hadm_id  submit_wardid submit_careunit  curr_wardid  \\\n",
       "0       87197   176931              7             NaN           55   \n",
       "1        5692   151113             15             NaN            2   \n",
       "2        5692   193147              7             NaN           17   \n",
       "3        5692   132890             15             NaN           17   \n",
       "4       30096   119559             52            MICU           52   \n",
       "\n",
       "  curr_careunit  callout_wardid callout_service  request_tele  request_resp  \\\n",
       "0           CCU               1             MED             0             0   \n",
       "1          CSRU               2           CSURG             1             0   \n",
       "2           CCU              17             CCU             1             0   \n",
       "3          CSRU              17            CMED             1             0   \n",
       "4          MICU              24            SURG             0             0   \n",
       "\n",
       "   ...  callout_status  callout_outcome  discharge_wardid acknowledge_status  \\\n",
       "0  ...        Inactive       Discharged              55.0       Acknowledged   \n",
       "1  ...        Inactive       Discharged               2.0            Revised   \n",
       "2  ...        Inactive       Discharged              17.0       Acknowledged   \n",
       "3  ...        Inactive       Discharged              17.0       Acknowledged   \n",
       "4  ...        Inactive        Cancelled               NaN       Acknowledged   \n",
       "\n",
       "            createtime           updatetime      acknowledgetime  \\\n",
       "0  2109-11-17 13:06:52  2109-11-17 13:06:52  2109-11-17 14:53:54   \n",
       "1  2143-11-01 09:27:02  2143-11-01 15:28:06                  NaN   \n",
       "2  2147-12-17 09:26:15  2147-12-17 09:26:15  2147-12-17 09:45:27   \n",
       "3  2148-01-18 08:07:35  2148-01-18 14:17:53  2148-01-18 15:28:37   \n",
       "4  2161-08-28 07:20:52  2161-08-28 07:38:20  2161-08-28 07:33:12   \n",
       "\n",
       "           outcometime firstreservationtime currentreservationtime  \n",
       "0  2109-11-17 17:55:03                  NaN                    NaN  \n",
       "1  2143-11-01 19:40:03                  NaN                    NaN  \n",
       "2  2147-12-17 13:29:46  2147-12-17 10:40:23                    NaN  \n",
       "3  2148-01-18 18:41:08                  NaN                    NaN  \n",
       "4  2161-08-28 07:38:20                  NaN                    NaN  \n",
       "\n",
       "[5 rows x 23 columns]"
      ]
     },
     "execution_count": 8,
     "metadata": {},
     "output_type": "execute_result"
    }
   ],
   "source": [
    "callout_df.head()"
   ]
  },
  {
   "cell_type": "markdown",
   "metadata": {},
   "source": [
    "### Data preproces"
   ]
  },
  {
   "cell_type": "code",
   "execution_count": 9,
   "metadata": {},
   "outputs": [],
   "source": [
    "# Drop useless colums\n",
    "callout_df.drop(['submit_careunit', 'firstreservationtime', 'currentreservationtime'], axis=1, inplace=True)"
   ]
  },
  {
   "cell_type": "markdown",
   "metadata": {},
   "source": [
    "#### Deal with null values"
   ]
  },
  {
   "cell_type": "code",
   "execution_count": 11,
   "metadata": {},
   "outputs": [
    {
     "name": "stdout",
     "output_type": "stream",
     "text": [
      "Total columns: 20\n",
      "Total rows: 99\n",
      "--------------\n",
      "subject_id             0\n",
      "hadm_id                0\n",
      "submit_wardid          0\n",
      "curr_wardid            0\n",
      "curr_careunit          0\n",
      "callout_wardid         0\n",
      "callout_service        0\n",
      "request_tele           0\n",
      "request_resp           0\n",
      "request_cdiff          0\n",
      "request_mrsa           0\n",
      "request_vre            0\n",
      "callout_status         0\n",
      "callout_outcome        0\n",
      "discharge_wardid      15\n",
      "acknowledge_status     0\n",
      "createtime             0\n",
      "updatetime             0\n",
      "acknowledgetime        5\n",
      "outcometime            0\n",
      "dtype: int64\n"
     ]
    }
   ],
   "source": [
    "# Check null value in table\n",
    "commonfunc.nan_count(callout_df)"
   ]
  },
  {
   "cell_type": "markdown",
   "metadata": {},
   "source": [
    "#### Set the column types"
   ]
  },
  {
   "cell_type": "code",
   "execution_count": 12,
   "metadata": {},
   "outputs": [
    {
     "data": {
      "text/plain": [
       "subject_id              int64\n",
       "hadm_id                 int64\n",
       "submit_wardid           int64\n",
       "curr_wardid             int64\n",
       "curr_careunit          object\n",
       "callout_wardid          int64\n",
       "callout_service        object\n",
       "request_tele            int64\n",
       "request_resp            int64\n",
       "request_cdiff           int64\n",
       "request_mrsa            int64\n",
       "request_vre             int64\n",
       "callout_status         object\n",
       "callout_outcome        object\n",
       "discharge_wardid      float64\n",
       "acknowledge_status     object\n",
       "createtime             object\n",
       "updatetime             object\n",
       "acknowledgetime        object\n",
       "outcometime            object\n",
       "dtype: object"
      ]
     },
     "execution_count": 12,
     "metadata": {},
     "output_type": "execute_result"
    }
   ],
   "source": [
    "callout_df.dtypes"
   ]
  },
  {
   "cell_type": "code",
   "execution_count": 11,
   "metadata": {},
   "outputs": [],
   "source": [
    "# Transfer some date type\n",
    "callout_df['createtime'] = pd.to_datetime(callout_df['createtime'])\n",
    "callout_df['updatetime'] = pd.to_datetime(callout_df['updatetime'])\n",
    "callout_df['acknowledgetime'] = pd.to_datetime(callout_df['acknowledgetime'])\n",
    "callout_df['outcometime'] = pd.to_datetime(callout_df['outcometime'])"
   ]
  },
  {
   "cell_type": "code",
   "execution_count": 12,
   "metadata": {},
   "outputs": [
    {
     "data": {
      "text/plain": [
       "subject_id                     int64\n",
       "hadm_id                        int64\n",
       "submit_wardid                  int64\n",
       "curr_wardid                    int64\n",
       "curr_careunit                 object\n",
       "callout_wardid                 int64\n",
       "callout_service               object\n",
       "request_tele                   int64\n",
       "request_resp                   int64\n",
       "request_cdiff                  int64\n",
       "request_mrsa                   int64\n",
       "request_vre                    int64\n",
       "callout_status                object\n",
       "callout_outcome               object\n",
       "discharge_wardid             float64\n",
       "acknowledge_status            object\n",
       "createtime            datetime64[ns]\n",
       "updatetime            datetime64[ns]\n",
       "acknowledgetime       datetime64[ns]\n",
       "outcometime           datetime64[ns]\n",
       "dtype: object"
      ]
     },
     "execution_count": 12,
     "metadata": {},
     "output_type": "execute_result"
    }
   ],
   "source": [
    "callout_df.dtypes"
   ]
  },
  {
   "cell_type": "markdown",
   "metadata": {},
   "source": [
    "#### Process time data"
   ]
  },
  {
   "cell_type": "code",
   "execution_count": 13,
   "metadata": {},
   "outputs": [],
   "source": [
    "admissions_df = common.read_csv_no_rowid(data_set_path+\"admissions.csv\")"
   ]
  },
  {
   "cell_type": "code",
   "execution_count": 14,
   "metadata": {},
   "outputs": [],
   "source": [
    "admittime_df = admissions_df.loc[:, ['hadm_id', 'admittime']]\n",
    "admittime_df['admittime'] = pd.to_datetime(admittime_df['admittime'])"
   ]
  },
  {
   "cell_type": "code",
   "execution_count": 15,
   "metadata": {},
   "outputs": [],
   "source": [
    "callout_mid_df = pd.merge(left=callout_df, right=admittime_df, how='left', on=['hadm_id'])"
   ]
  },
  {
   "cell_type": "code",
   "execution_count": 16,
   "metadata": {},
   "outputs": [],
   "source": [
    "callout_mid_df['outcometime'] = callout_mid_df.apply(common.time_process, args=('acknowledgetime', 'outcometime', 'updatetime'), axis=1)\n",
    "callout_mid_df['acknowledgetime'] = callout_mid_df.apply(common.time_process, args=('updatetime', 'acknowledgetime'), axis=1)\n",
    "callout_mid_df['updatetime'] = callout_mid_df.apply(common.time_process, args=('createtime', 'updatetime'), axis=1)\n",
    "callout_mid_df['createtime'] = callout_mid_df.apply(common.time_process, args=('admittime', 'createtime'), axis=1)"
   ]
  },
  {
   "cell_type": "code",
   "execution_count": 17,
   "metadata": {},
   "outputs": [],
   "source": [
    "callout_df = callout_mid_df.drop(['hadm_id', 'admittime', 'subject_id'], axis=1)"
   ]
  },
  {
   "cell_type": "code",
   "execution_count": 18,
   "metadata": {},
   "outputs": [
    {
     "data": {
      "text/html": [
       "<div>\n",
       "<style scoped>\n",
       "    .dataframe tbody tr th:only-of-type {\n",
       "        vertical-align: middle;\n",
       "    }\n",
       "\n",
       "    .dataframe tbody tr th {\n",
       "        vertical-align: top;\n",
       "    }\n",
       "\n",
       "    .dataframe thead th {\n",
       "        text-align: right;\n",
       "    }\n",
       "</style>\n",
       "<table border=\"1\" class=\"dataframe\">\n",
       "  <thead>\n",
       "    <tr style=\"text-align: right;\">\n",
       "      <th></th>\n",
       "      <th>submit_wardid</th>\n",
       "      <th>curr_wardid</th>\n",
       "      <th>curr_careunit</th>\n",
       "      <th>callout_wardid</th>\n",
       "      <th>callout_service</th>\n",
       "      <th>request_tele</th>\n",
       "      <th>request_resp</th>\n",
       "      <th>request_cdiff</th>\n",
       "      <th>request_mrsa</th>\n",
       "      <th>request_vre</th>\n",
       "      <th>callout_status</th>\n",
       "      <th>callout_outcome</th>\n",
       "      <th>discharge_wardid</th>\n",
       "      <th>acknowledge_status</th>\n",
       "      <th>createtime</th>\n",
       "      <th>updatetime</th>\n",
       "      <th>acknowledgetime</th>\n",
       "      <th>outcometime</th>\n",
       "    </tr>\n",
       "  </thead>\n",
       "  <tbody>\n",
       "    <tr>\n",
       "      <th>0</th>\n",
       "      <td>14</td>\n",
       "      <td>49</td>\n",
       "      <td>TSICU</td>\n",
       "      <td>1</td>\n",
       "      <td>TRAUM</td>\n",
       "      <td>1</td>\n",
       "      <td>0</td>\n",
       "      <td>0</td>\n",
       "      <td>0</td>\n",
       "      <td>0</td>\n",
       "      <td>Inactive</td>\n",
       "      <td>Discharged</td>\n",
       "      <td>49.0</td>\n",
       "      <td>Acknowledged</td>\n",
       "      <td>893812.0</td>\n",
       "      <td>0.0</td>\n",
       "      <td>410.0</td>\n",
       "      <td>1286.0</td>\n",
       "    </tr>\n",
       "    <tr>\n",
       "      <th>1</th>\n",
       "      <td>14</td>\n",
       "      <td>40</td>\n",
       "      <td>TSICU</td>\n",
       "      <td>40</td>\n",
       "      <td>TRAUM</td>\n",
       "      <td>1</td>\n",
       "      <td>0</td>\n",
       "      <td>0</td>\n",
       "      <td>0</td>\n",
       "      <td>0</td>\n",
       "      <td>Inactive</td>\n",
       "      <td>Discharged</td>\n",
       "      <td>40.0</td>\n",
       "      <td>Acknowledged</td>\n",
       "      <td>976642.0</td>\n",
       "      <td>0.0</td>\n",
       "      <td>164.0</td>\n",
       "      <td>15003.0</td>\n",
       "    </tr>\n",
       "    <tr>\n",
       "      <th>2</th>\n",
       "      <td>14</td>\n",
       "      <td>40</td>\n",
       "      <td>TSICU</td>\n",
       "      <td>33</td>\n",
       "      <td>TRAUM</td>\n",
       "      <td>1</td>\n",
       "      <td>0</td>\n",
       "      <td>0</td>\n",
       "      <td>0</td>\n",
       "      <td>0</td>\n",
       "      <td>Inactive</td>\n",
       "      <td>Discharged</td>\n",
       "      <td>40.0</td>\n",
       "      <td>Acknowledged</td>\n",
       "      <td>317096.0</td>\n",
       "      <td>1024.0</td>\n",
       "      <td>2.0</td>\n",
       "      <td>17124.0</td>\n",
       "    </tr>\n",
       "    <tr>\n",
       "      <th>3</th>\n",
       "      <td>50</td>\n",
       "      <td>45</td>\n",
       "      <td>MICU</td>\n",
       "      <td>1</td>\n",
       "      <td>CCU</td>\n",
       "      <td>0</td>\n",
       "      <td>0</td>\n",
       "      <td>0</td>\n",
       "      <td>0</td>\n",
       "      <td>0</td>\n",
       "      <td>Inactive</td>\n",
       "      <td>Discharged</td>\n",
       "      <td>45.0</td>\n",
       "      <td>Acknowledged</td>\n",
       "      <td>1176141.0</td>\n",
       "      <td>0.0</td>\n",
       "      <td>1775.0</td>\n",
       "      <td>49328.0</td>\n",
       "    </tr>\n",
       "    <tr>\n",
       "      <th>4</th>\n",
       "      <td>50</td>\n",
       "      <td>45</td>\n",
       "      <td>MICU</td>\n",
       "      <td>1</td>\n",
       "      <td>MED</td>\n",
       "      <td>1</td>\n",
       "      <td>0</td>\n",
       "      <td>0</td>\n",
       "      <td>0</td>\n",
       "      <td>0</td>\n",
       "      <td>Inactive</td>\n",
       "      <td>Discharged</td>\n",
       "      <td>45.0</td>\n",
       "      <td>Acknowledged</td>\n",
       "      <td>229798.0</td>\n",
       "      <td>0.0</td>\n",
       "      <td>685.0</td>\n",
       "      <td>20861.0</td>\n",
       "    </tr>\n",
       "    <tr>\n",
       "      <th>5</th>\n",
       "      <td>52</td>\n",
       "      <td>24</td>\n",
       "      <td>MICU</td>\n",
       "      <td>1</td>\n",
       "      <td>OMED</td>\n",
       "      <td>0</td>\n",
       "      <td>0</td>\n",
       "      <td>0</td>\n",
       "      <td>0</td>\n",
       "      <td>0</td>\n",
       "      <td>Inactive</td>\n",
       "      <td>Discharged</td>\n",
       "      <td>24.0</td>\n",
       "      <td>Acknowledged</td>\n",
       "      <td>96090.0</td>\n",
       "      <td>82817.0</td>\n",
       "      <td>1620.0</td>\n",
       "      <td>41535.0</td>\n",
       "    </tr>\n",
       "    <tr>\n",
       "      <th>6</th>\n",
       "      <td>52</td>\n",
       "      <td>18</td>\n",
       "      <td>MICU</td>\n",
       "      <td>1</td>\n",
       "      <td>OMED</td>\n",
       "      <td>1</td>\n",
       "      <td>0</td>\n",
       "      <td>0</td>\n",
       "      <td>0</td>\n",
       "      <td>0</td>\n",
       "      <td>Inactive</td>\n",
       "      <td>Discharged</td>\n",
       "      <td>18.0</td>\n",
       "      <td>Acknowledged</td>\n",
       "      <td>75738.0</td>\n",
       "      <td>0.0</td>\n",
       "      <td>2338.0</td>\n",
       "      <td>20986.0</td>\n",
       "    </tr>\n",
       "    <tr>\n",
       "      <th>7</th>\n",
       "      <td>33</td>\n",
       "      <td>3</td>\n",
       "      <td>SICU</td>\n",
       "      <td>3</td>\n",
       "      <td>NSURG</td>\n",
       "      <td>0</td>\n",
       "      <td>0</td>\n",
       "      <td>0</td>\n",
       "      <td>0</td>\n",
       "      <td>0</td>\n",
       "      <td>Inactive</td>\n",
       "      <td>Discharged</td>\n",
       "      <td>3.0</td>\n",
       "      <td>Acknowledged</td>\n",
       "      <td>327953.0</td>\n",
       "      <td>0.0</td>\n",
       "      <td>240.0</td>\n",
       "      <td>22570.0</td>\n",
       "    </tr>\n",
       "    <tr>\n",
       "      <th>8</th>\n",
       "      <td>52</td>\n",
       "      <td>18</td>\n",
       "      <td>MICU</td>\n",
       "      <td>1</td>\n",
       "      <td>MED</td>\n",
       "      <td>0</td>\n",
       "      <td>0</td>\n",
       "      <td>0</td>\n",
       "      <td>0</td>\n",
       "      <td>0</td>\n",
       "      <td>Inactive</td>\n",
       "      <td>Discharged</td>\n",
       "      <td>18.0</td>\n",
       "      <td>Acknowledged</td>\n",
       "      <td>66680.0</td>\n",
       "      <td>0.0</td>\n",
       "      <td>990.0</td>\n",
       "      <td>21134.0</td>\n",
       "    </tr>\n",
       "    <tr>\n",
       "      <th>9</th>\n",
       "      <td>7</td>\n",
       "      <td>17</td>\n",
       "      <td>CCU</td>\n",
       "      <td>17</td>\n",
       "      <td>CCU</td>\n",
       "      <td>1</td>\n",
       "      <td>0</td>\n",
       "      <td>0</td>\n",
       "      <td>0</td>\n",
       "      <td>0</td>\n",
       "      <td>Inactive</td>\n",
       "      <td>Discharged</td>\n",
       "      <td>17.0</td>\n",
       "      <td>Acknowledged</td>\n",
       "      <td>54574.0</td>\n",
       "      <td>0.0</td>\n",
       "      <td>147.0</td>\n",
       "      <td>41181.0</td>\n",
       "    </tr>\n",
       "    <tr>\n",
       "      <th>10</th>\n",
       "      <td>23</td>\n",
       "      <td>55</td>\n",
       "      <td>MICU</td>\n",
       "      <td>1</td>\n",
       "      <td>MED</td>\n",
       "      <td>1</td>\n",
       "      <td>0</td>\n",
       "      <td>0</td>\n",
       "      <td>0</td>\n",
       "      <td>0</td>\n",
       "      <td>Inactive</td>\n",
       "      <td>Discharged</td>\n",
       "      <td>55.0</td>\n",
       "      <td>Acknowledged</td>\n",
       "      <td>81789.0</td>\n",
       "      <td>156.0</td>\n",
       "      <td>2.0</td>\n",
       "      <td>22416.0</td>\n",
       "    </tr>\n",
       "    <tr>\n",
       "      <th>11</th>\n",
       "      <td>23</td>\n",
       "      <td>17</td>\n",
       "      <td>MICU</td>\n",
       "      <td>1</td>\n",
       "      <td>MED</td>\n",
       "      <td>1</td>\n",
       "      <td>0</td>\n",
       "      <td>0</td>\n",
       "      <td>0</td>\n",
       "      <td>0</td>\n",
       "      <td>Inactive</td>\n",
       "      <td>Discharged</td>\n",
       "      <td>17.0</td>\n",
       "      <td>Acknowledged</td>\n",
       "      <td>220395.0</td>\n",
       "      <td>0.0</td>\n",
       "      <td>2024.0</td>\n",
       "      <td>20304.0</td>\n",
       "    </tr>\n",
       "    <tr>\n",
       "      <th>12</th>\n",
       "      <td>15</td>\n",
       "      <td>2</td>\n",
       "      <td>CSRU</td>\n",
       "      <td>2</td>\n",
       "      <td>CSURG</td>\n",
       "      <td>1</td>\n",
       "      <td>0</td>\n",
       "      <td>0</td>\n",
       "      <td>0</td>\n",
       "      <td>0</td>\n",
       "      <td>Inactive</td>\n",
       "      <td>Discharged</td>\n",
       "      <td>2.0</td>\n",
       "      <td>Acknowledged</td>\n",
       "      <td>100584.0</td>\n",
       "      <td>0.0</td>\n",
       "      <td>66.0</td>\n",
       "      <td>34053.0</td>\n",
       "    </tr>\n",
       "    <tr>\n",
       "      <th>13</th>\n",
       "      <td>50</td>\n",
       "      <td>3</td>\n",
       "      <td>MICU</td>\n",
       "      <td>1</td>\n",
       "      <td>MED</td>\n",
       "      <td>1</td>\n",
       "      <td>0</td>\n",
       "      <td>0</td>\n",
       "      <td>0</td>\n",
       "      <td>0</td>\n",
       "      <td>Inactive</td>\n",
       "      <td>Discharged</td>\n",
       "      <td>3.0</td>\n",
       "      <td>Acknowledged</td>\n",
       "      <td>116153.0</td>\n",
       "      <td>0.0</td>\n",
       "      <td>7158.0</td>\n",
       "      <td>484.0</td>\n",
       "    </tr>\n",
       "    <tr>\n",
       "      <th>14</th>\n",
       "      <td>33</td>\n",
       "      <td>45</td>\n",
       "      <td>SICU</td>\n",
       "      <td>1</td>\n",
       "      <td>MED</td>\n",
       "      <td>0</td>\n",
       "      <td>0</td>\n",
       "      <td>0</td>\n",
       "      <td>0</td>\n",
       "      <td>0</td>\n",
       "      <td>Inactive</td>\n",
       "      <td>Discharged</td>\n",
       "      <td>45.0</td>\n",
       "      <td>Acknowledged</td>\n",
       "      <td>102476.0</td>\n",
       "      <td>0.0</td>\n",
       "      <td>964.0</td>\n",
       "      <td>108924.0</td>\n",
       "    </tr>\n",
       "    <tr>\n",
       "      <th>15</th>\n",
       "      <td>7</td>\n",
       "      <td>3</td>\n",
       "      <td>CCU</td>\n",
       "      <td>17</td>\n",
       "      <td>CCU</td>\n",
       "      <td>1</td>\n",
       "      <td>0</td>\n",
       "      <td>0</td>\n",
       "      <td>0</td>\n",
       "      <td>0</td>\n",
       "      <td>Inactive</td>\n",
       "      <td>Discharged</td>\n",
       "      <td>3.0</td>\n",
       "      <td>Acknowledged</td>\n",
       "      <td>50917.0</td>\n",
       "      <td>29040.0</td>\n",
       "      <td>2.0</td>\n",
       "      <td>12089.0</td>\n",
       "    </tr>\n",
       "    <tr>\n",
       "      <th>16</th>\n",
       "      <td>52</td>\n",
       "      <td>18</td>\n",
       "      <td>MICU</td>\n",
       "      <td>1</td>\n",
       "      <td>MED</td>\n",
       "      <td>0</td>\n",
       "      <td>0</td>\n",
       "      <td>0</td>\n",
       "      <td>0</td>\n",
       "      <td>0</td>\n",
       "      <td>Inactive</td>\n",
       "      <td>Discharged</td>\n",
       "      <td>18.0</td>\n",
       "      <td>Acknowledged</td>\n",
       "      <td>172141.0</td>\n",
       "      <td>0.0</td>\n",
       "      <td>998.0</td>\n",
       "      <td>21083.0</td>\n",
       "    </tr>\n",
       "    <tr>\n",
       "      <th>17</th>\n",
       "      <td>14</td>\n",
       "      <td>36</td>\n",
       "      <td>TSICU</td>\n",
       "      <td>40</td>\n",
       "      <td>SURG</td>\n",
       "      <td>0</td>\n",
       "      <td>0</td>\n",
       "      <td>0</td>\n",
       "      <td>0</td>\n",
       "      <td>0</td>\n",
       "      <td>Inactive</td>\n",
       "      <td>Discharged</td>\n",
       "      <td>36.0</td>\n",
       "      <td>Acknowledged</td>\n",
       "      <td>146645.0</td>\n",
       "      <td>0.0</td>\n",
       "      <td>730.0</td>\n",
       "      <td>11027.0</td>\n",
       "    </tr>\n",
       "    <tr>\n",
       "      <th>18</th>\n",
       "      <td>57</td>\n",
       "      <td>54</td>\n",
       "      <td>SICU</td>\n",
       "      <td>1</td>\n",
       "      <td>SURG</td>\n",
       "      <td>1</td>\n",
       "      <td>0</td>\n",
       "      <td>0</td>\n",
       "      <td>0</td>\n",
       "      <td>1</td>\n",
       "      <td>Inactive</td>\n",
       "      <td>Discharged</td>\n",
       "      <td>54.0</td>\n",
       "      <td>Acknowledged</td>\n",
       "      <td>3021974.0</td>\n",
       "      <td>66882.0</td>\n",
       "      <td>2708.0</td>\n",
       "      <td>8286.0</td>\n",
       "    </tr>\n",
       "    <tr>\n",
       "      <th>19</th>\n",
       "      <td>57</td>\n",
       "      <td>57</td>\n",
       "      <td>SICU</td>\n",
       "      <td>1</td>\n",
       "      <td>MED</td>\n",
       "      <td>1</td>\n",
       "      <td>0</td>\n",
       "      <td>0</td>\n",
       "      <td>0</td>\n",
       "      <td>0</td>\n",
       "      <td>Inactive</td>\n",
       "      <td>Cancelled</td>\n",
       "      <td>NaN</td>\n",
       "      <td>Acknowledged</td>\n",
       "      <td>437984.0</td>\n",
       "      <td>20086.0</td>\n",
       "      <td>15044.0</td>\n",
       "      <td>15044.0</td>\n",
       "    </tr>\n",
       "    <tr>\n",
       "      <th>20</th>\n",
       "      <td>14</td>\n",
       "      <td>31</td>\n",
       "      <td>TSICU</td>\n",
       "      <td>31</td>\n",
       "      <td>NSURG</td>\n",
       "      <td>0</td>\n",
       "      <td>0</td>\n",
       "      <td>0</td>\n",
       "      <td>0</td>\n",
       "      <td>0</td>\n",
       "      <td>Inactive</td>\n",
       "      <td>Discharged</td>\n",
       "      <td>31.0</td>\n",
       "      <td>Acknowledged</td>\n",
       "      <td>87242.0</td>\n",
       "      <td>0.0</td>\n",
       "      <td>1720.0</td>\n",
       "      <td>12529.0</td>\n",
       "    </tr>\n",
       "    <tr>\n",
       "      <th>21</th>\n",
       "      <td>23</td>\n",
       "      <td>23</td>\n",
       "      <td>MICU</td>\n",
       "      <td>1</td>\n",
       "      <td>MED</td>\n",
       "      <td>1</td>\n",
       "      <td>0</td>\n",
       "      <td>1</td>\n",
       "      <td>0</td>\n",
       "      <td>0</td>\n",
       "      <td>Inactive</td>\n",
       "      <td>Cancelled</td>\n",
       "      <td>NaN</td>\n",
       "      <td>Acknowledged</td>\n",
       "      <td>147213.0</td>\n",
       "      <td>67846.0</td>\n",
       "      <td>34230.0</td>\n",
       "      <td>34230.0</td>\n",
       "    </tr>\n",
       "    <tr>\n",
       "      <th>22</th>\n",
       "      <td>23</td>\n",
       "      <td>45</td>\n",
       "      <td>MICU</td>\n",
       "      <td>1</td>\n",
       "      <td>MED</td>\n",
       "      <td>0</td>\n",
       "      <td>0</td>\n",
       "      <td>1</td>\n",
       "      <td>0</td>\n",
       "      <td>0</td>\n",
       "      <td>Inactive</td>\n",
       "      <td>Discharged</td>\n",
       "      <td>45.0</td>\n",
       "      <td>Acknowledged</td>\n",
       "      <td>291618.0</td>\n",
       "      <td>0.0</td>\n",
       "      <td>760.0</td>\n",
       "      <td>49084.0</td>\n",
       "    </tr>\n",
       "    <tr>\n",
       "      <th>23</th>\n",
       "      <td>7</td>\n",
       "      <td>7</td>\n",
       "      <td>CCU</td>\n",
       "      <td>1</td>\n",
       "      <td>MED</td>\n",
       "      <td>0</td>\n",
       "      <td>0</td>\n",
       "      <td>1</td>\n",
       "      <td>0</td>\n",
       "      <td>0</td>\n",
       "      <td>Inactive</td>\n",
       "      <td>Cancelled</td>\n",
       "      <td>NaN</td>\n",
       "      <td>Acknowledged</td>\n",
       "      <td>632996.0</td>\n",
       "      <td>39989.0</td>\n",
       "      <td>39148.0</td>\n",
       "      <td>39148.0</td>\n",
       "    </tr>\n",
       "    <tr>\n",
       "      <th>24</th>\n",
       "      <td>23</td>\n",
       "      <td>23</td>\n",
       "      <td>MICU</td>\n",
       "      <td>1</td>\n",
       "      <td>MED</td>\n",
       "      <td>0</td>\n",
       "      <td>0</td>\n",
       "      <td>1</td>\n",
       "      <td>0</td>\n",
       "      <td>0</td>\n",
       "      <td>Inactive</td>\n",
       "      <td>Cancelled</td>\n",
       "      <td>NaN</td>\n",
       "      <td>Acknowledged</td>\n",
       "      <td>881826.0</td>\n",
       "      <td>24751.0</td>\n",
       "      <td>24591.0</td>\n",
       "      <td>24591.0</td>\n",
       "    </tr>\n",
       "    <tr>\n",
       "      <th>25</th>\n",
       "      <td>7</td>\n",
       "      <td>4</td>\n",
       "      <td>CCU</td>\n",
       "      <td>1</td>\n",
       "      <td>MED</td>\n",
       "      <td>1</td>\n",
       "      <td>0</td>\n",
       "      <td>0</td>\n",
       "      <td>0</td>\n",
       "      <td>0</td>\n",
       "      <td>Inactive</td>\n",
       "      <td>Discharged</td>\n",
       "      <td>4.0</td>\n",
       "      <td>Acknowledged</td>\n",
       "      <td>212816.0</td>\n",
       "      <td>0.0</td>\n",
       "      <td>849.0</td>\n",
       "      <td>20516.0</td>\n",
       "    </tr>\n",
       "    <tr>\n",
       "      <th>26</th>\n",
       "      <td>52</td>\n",
       "      <td>18</td>\n",
       "      <td>MICU</td>\n",
       "      <td>1</td>\n",
       "      <td>MED</td>\n",
       "      <td>1</td>\n",
       "      <td>0</td>\n",
       "      <td>0</td>\n",
       "      <td>0</td>\n",
       "      <td>0</td>\n",
       "      <td>Inactive</td>\n",
       "      <td>Discharged</td>\n",
       "      <td>18.0</td>\n",
       "      <td>Acknowledged</td>\n",
       "      <td>235142.0</td>\n",
       "      <td>0.0</td>\n",
       "      <td>262.0</td>\n",
       "      <td>110559.0</td>\n",
       "    </tr>\n",
       "    <tr>\n",
       "      <th>27</th>\n",
       "      <td>23</td>\n",
       "      <td>2</td>\n",
       "      <td>MICU</td>\n",
       "      <td>1</td>\n",
       "      <td>CCU</td>\n",
       "      <td>1</td>\n",
       "      <td>0</td>\n",
       "      <td>0</td>\n",
       "      <td>0</td>\n",
       "      <td>0</td>\n",
       "      <td>Inactive</td>\n",
       "      <td>Discharged</td>\n",
       "      <td>2.0</td>\n",
       "      <td>Acknowledged</td>\n",
       "      <td>67879.0</td>\n",
       "      <td>0.0</td>\n",
       "      <td>2499.0</td>\n",
       "      <td>22687.0</td>\n",
       "    </tr>\n",
       "    <tr>\n",
       "      <th>28</th>\n",
       "      <td>7</td>\n",
       "      <td>17</td>\n",
       "      <td>CCU</td>\n",
       "      <td>17</td>\n",
       "      <td>CMED</td>\n",
       "      <td>1</td>\n",
       "      <td>0</td>\n",
       "      <td>0</td>\n",
       "      <td>0</td>\n",
       "      <td>0</td>\n",
       "      <td>Inactive</td>\n",
       "      <td>Discharged</td>\n",
       "      <td>17.0</td>\n",
       "      <td>Acknowledged</td>\n",
       "      <td>158684.0</td>\n",
       "      <td>0.0</td>\n",
       "      <td>802.0</td>\n",
       "      <td>30535.0</td>\n",
       "    </tr>\n",
       "    <tr>\n",
       "      <th>29</th>\n",
       "      <td>50</td>\n",
       "      <td>45</td>\n",
       "      <td>MICU</td>\n",
       "      <td>1</td>\n",
       "      <td>MED</td>\n",
       "      <td>0</td>\n",
       "      <td>0</td>\n",
       "      <td>0</td>\n",
       "      <td>0</td>\n",
       "      <td>0</td>\n",
       "      <td>Inactive</td>\n",
       "      <td>Discharged</td>\n",
       "      <td>45.0</td>\n",
       "      <td>Revised</td>\n",
       "      <td>42931.0</td>\n",
       "      <td>38906.0</td>\n",
       "      <td>NaN</td>\n",
       "      <td>10272.0</td>\n",
       "    </tr>\n",
       "  </tbody>\n",
       "</table>\n",
       "</div>"
      ],
      "text/plain": [
       "    submit_wardid  curr_wardid curr_careunit  callout_wardid callout_service  \\\n",
       "0              14           49         TSICU               1           TRAUM   \n",
       "1              14           40         TSICU              40           TRAUM   \n",
       "2              14           40         TSICU              33           TRAUM   \n",
       "3              50           45          MICU               1             CCU   \n",
       "4              50           45          MICU               1             MED   \n",
       "5              52           24          MICU               1            OMED   \n",
       "6              52           18          MICU               1            OMED   \n",
       "7              33            3          SICU               3           NSURG   \n",
       "8              52           18          MICU               1             MED   \n",
       "9               7           17           CCU              17             CCU   \n",
       "10             23           55          MICU               1             MED   \n",
       "11             23           17          MICU               1             MED   \n",
       "12             15            2          CSRU               2           CSURG   \n",
       "13             50            3          MICU               1             MED   \n",
       "14             33           45          SICU               1             MED   \n",
       "15              7            3           CCU              17             CCU   \n",
       "16             52           18          MICU               1             MED   \n",
       "17             14           36         TSICU              40            SURG   \n",
       "18             57           54          SICU               1            SURG   \n",
       "19             57           57          SICU               1             MED   \n",
       "20             14           31         TSICU              31           NSURG   \n",
       "21             23           23          MICU               1             MED   \n",
       "22             23           45          MICU               1             MED   \n",
       "23              7            7           CCU               1             MED   \n",
       "24             23           23          MICU               1             MED   \n",
       "25              7            4           CCU               1             MED   \n",
       "26             52           18          MICU               1             MED   \n",
       "27             23            2          MICU               1             CCU   \n",
       "28              7           17           CCU              17            CMED   \n",
       "29             50           45          MICU               1             MED   \n",
       "\n",
       "    request_tele  request_resp  request_cdiff  request_mrsa  request_vre  \\\n",
       "0              1             0              0             0            0   \n",
       "1              1             0              0             0            0   \n",
       "2              1             0              0             0            0   \n",
       "3              0             0              0             0            0   \n",
       "4              1             0              0             0            0   \n",
       "5              0             0              0             0            0   \n",
       "6              1             0              0             0            0   \n",
       "7              0             0              0             0            0   \n",
       "8              0             0              0             0            0   \n",
       "9              1             0              0             0            0   \n",
       "10             1             0              0             0            0   \n",
       "11             1             0              0             0            0   \n",
       "12             1             0              0             0            0   \n",
       "13             1             0              0             0            0   \n",
       "14             0             0              0             0            0   \n",
       "15             1             0              0             0            0   \n",
       "16             0             0              0             0            0   \n",
       "17             0             0              0             0            0   \n",
       "18             1             0              0             0            1   \n",
       "19             1             0              0             0            0   \n",
       "20             0             0              0             0            0   \n",
       "21             1             0              1             0            0   \n",
       "22             0             0              1             0            0   \n",
       "23             0             0              1             0            0   \n",
       "24             0             0              1             0            0   \n",
       "25             1             0              0             0            0   \n",
       "26             1             0              0             0            0   \n",
       "27             1             0              0             0            0   \n",
       "28             1             0              0             0            0   \n",
       "29             0             0              0             0            0   \n",
       "\n",
       "   callout_status callout_outcome  discharge_wardid acknowledge_status  \\\n",
       "0        Inactive      Discharged              49.0       Acknowledged   \n",
       "1        Inactive      Discharged              40.0       Acknowledged   \n",
       "2        Inactive      Discharged              40.0       Acknowledged   \n",
       "3        Inactive      Discharged              45.0       Acknowledged   \n",
       "4        Inactive      Discharged              45.0       Acknowledged   \n",
       "5        Inactive      Discharged              24.0       Acknowledged   \n",
       "6        Inactive      Discharged              18.0       Acknowledged   \n",
       "7        Inactive      Discharged               3.0       Acknowledged   \n",
       "8        Inactive      Discharged              18.0       Acknowledged   \n",
       "9        Inactive      Discharged              17.0       Acknowledged   \n",
       "10       Inactive      Discharged              55.0       Acknowledged   \n",
       "11       Inactive      Discharged              17.0       Acknowledged   \n",
       "12       Inactive      Discharged               2.0       Acknowledged   \n",
       "13       Inactive      Discharged               3.0       Acknowledged   \n",
       "14       Inactive      Discharged              45.0       Acknowledged   \n",
       "15       Inactive      Discharged               3.0       Acknowledged   \n",
       "16       Inactive      Discharged              18.0       Acknowledged   \n",
       "17       Inactive      Discharged              36.0       Acknowledged   \n",
       "18       Inactive      Discharged              54.0       Acknowledged   \n",
       "19       Inactive       Cancelled               NaN       Acknowledged   \n",
       "20       Inactive      Discharged              31.0       Acknowledged   \n",
       "21       Inactive       Cancelled               NaN       Acknowledged   \n",
       "22       Inactive      Discharged              45.0       Acknowledged   \n",
       "23       Inactive       Cancelled               NaN       Acknowledged   \n",
       "24       Inactive       Cancelled               NaN       Acknowledged   \n",
       "25       Inactive      Discharged               4.0       Acknowledged   \n",
       "26       Inactive      Discharged              18.0       Acknowledged   \n",
       "27       Inactive      Discharged               2.0       Acknowledged   \n",
       "28       Inactive      Discharged              17.0       Acknowledged   \n",
       "29       Inactive      Discharged              45.0            Revised   \n",
       "\n",
       "    createtime  updatetime  acknowledgetime  outcometime  \n",
       "0     893812.0         0.0            410.0       1286.0  \n",
       "1     976642.0         0.0            164.0      15003.0  \n",
       "2     317096.0      1024.0              2.0      17124.0  \n",
       "3    1176141.0         0.0           1775.0      49328.0  \n",
       "4     229798.0         0.0            685.0      20861.0  \n",
       "5      96090.0     82817.0           1620.0      41535.0  \n",
       "6      75738.0         0.0           2338.0      20986.0  \n",
       "7     327953.0         0.0            240.0      22570.0  \n",
       "8      66680.0         0.0            990.0      21134.0  \n",
       "9      54574.0         0.0            147.0      41181.0  \n",
       "10     81789.0       156.0              2.0      22416.0  \n",
       "11    220395.0         0.0           2024.0      20304.0  \n",
       "12    100584.0         0.0             66.0      34053.0  \n",
       "13    116153.0         0.0           7158.0        484.0  \n",
       "14    102476.0         0.0            964.0     108924.0  \n",
       "15     50917.0     29040.0              2.0      12089.0  \n",
       "16    172141.0         0.0            998.0      21083.0  \n",
       "17    146645.0         0.0            730.0      11027.0  \n",
       "18   3021974.0     66882.0           2708.0       8286.0  \n",
       "19    437984.0     20086.0          15044.0      15044.0  \n",
       "20     87242.0         0.0           1720.0      12529.0  \n",
       "21    147213.0     67846.0          34230.0      34230.0  \n",
       "22    291618.0         0.0            760.0      49084.0  \n",
       "23    632996.0     39989.0          39148.0      39148.0  \n",
       "24    881826.0     24751.0          24591.0      24591.0  \n",
       "25    212816.0         0.0            849.0      20516.0  \n",
       "26    235142.0         0.0            262.0     110559.0  \n",
       "27     67879.0         0.0           2499.0      22687.0  \n",
       "28    158684.0         0.0            802.0      30535.0  \n",
       "29     42931.0     38906.0              NaN      10272.0  "
      ]
     },
     "execution_count": 18,
     "metadata": {},
     "output_type": "execute_result"
    }
   ],
   "source": [
    "callout_df.head(30)"
   ]
  },
  {
   "cell_type": "markdown",
   "metadata": {},
   "source": [
    "---\n",
    "\n",
    "##  Build Network"
   ]
  },
  {
   "cell_type": "code",
   "execution_count": 19,
   "metadata": {},
   "outputs": [
    {
     "data": {
      "text/plain": [
       "Index(['submit_wardid', 'curr_wardid', 'curr_careunit', 'callout_wardid',\n",
       "       'callout_service', 'request_tele', 'request_resp', 'request_cdiff',\n",
       "       'request_mrsa', 'request_vre', 'callout_status', 'callout_outcome',\n",
       "       'discharge_wardid', 'acknowledge_status', 'createtime', 'updatetime',\n",
       "       'acknowledgetime', 'outcometime'],\n",
       "      dtype='object')"
      ]
     },
     "execution_count": 19,
     "metadata": {},
     "output_type": "execute_result"
    }
   ],
   "source": [
    "callout_df.columns"
   ]
  },
  {
   "cell_type": "markdown",
   "metadata": {},
   "source": [
    "### Set constraint"
   ]
  },
  {
   "cell_type": "code",
   "execution_count": 20,
   "metadata": {},
   "outputs": [],
   "source": [
    "# def time_is_valid(column_names, data):\n",
    "#     update_create = ((data['updatetime'] - data['createtime']).apply(lambda x: 0 <= x.days  <= 2))\n",
    "\n",
    "#     # acknowledge_update = \\\n",
    "#     #     (pd.isna(data['acknowledgetime'])) | \\\n",
    "#     #     (((pd.isna(data['acknowledgetime']) == False) & ((data['acknowledgetime'] - data['updatetime']).apply(lambda x: -1 <= x.days  <= 1))))\n",
    "\n",
    "#     # outcome_create = \\\n",
    "#     #     (pd.isna(data['acknowledgetime']) & (callout_df['outcometime'] - callout_df['createtime']).apply(lambda x: 0 <= x.days <= 2)) | \\\n",
    "#     #     ( \\\n",
    "#     #         (pd.isna(data['acknowledgetime']) == False) & ((data['outcometime'] - data['acknowledgetime']).apply(lambda x: 0 <= x.days  <= 2)) \\\n",
    "#     #     )\n",
    "        \n",
    "#     return update_create# & acknowledge_update & outcome_create"
   ]
  },
  {
   "cell_type": "code",
   "execution_count": 21,
   "metadata": {},
   "outputs": [],
   "source": [
    "# def time_trasform(column_names, data):\n",
    "#     data['outcometime'] = data['outcometime'].astype(int) - data['acknowledgetime'].astype(int)\n",
    "#     data['acknowledgetime'] = data['acknowledgetime'].astype(int) - data['updatetime'].astype(int)\n",
    "#     data['updatetime'] = data['updatetime'].astype(int) - data['createtime'].astype(int)\n",
    "\n",
    "#     return data\n",
    "\n",
    "# def time_reverse_transform(column_names, transformed_data):\n",
    "#     transformed_data['updatetime'] = transformed_data['updatetime'] + transformed_data['createtime']\n",
    "#     transformed_data['acknowledgetime'] = transformed_data['acknowledgetime'] + transformed_data['updatetime']\n",
    "#     transformed_data['outcometime'] = transformed_data['outcometime'] + transformed_data['acknowledgetime']\n",
    "\n",
    "#     # print(transformed_data.head())\n",
    "#     return transformed_data"
   ]
  },
  {
   "cell_type": "code",
   "execution_count": 22,
   "metadata": {},
   "outputs": [],
   "source": [
    "# TimeProcess = create_custom_constraint(\n",
    "#     is_valid_fn=time_is_valid,\n",
    "#     transform_fn=time_trasform,\n",
    "#     reverse_transform_fn=time_reverse_transform\n",
    "# )\n",
    "\n",
    "# time_constraint = TimeProcess(\n",
    "#     column_names=['createtime', 'updatetime','acknowledgetime', 'outcometime']\n",
    "# )"
   ]
  },
  {
   "cell_type": "code",
   "execution_count": 23,
   "metadata": {},
   "outputs": [],
   "source": [
    "constraints = []"
   ]
  },
  {
   "cell_type": "markdown",
   "metadata": {},
   "source": [
    "### Build and train model"
   ]
  },
  {
   "cell_type": "code",
   "execution_count": 24,
   "metadata": {},
   "outputs": [
    {
     "name": "stdout",
     "output_type": "stream",
     "text": [
      "Strat training ...\n",
      "Tabular Preset\n",
      "Gaussian Copula\n",
      "CTGAN\n",
      "CopulaGAN\n",
      "TVAE\n",
      "Training finished!\n",
      "Strat evaluating ...\n",
      "Evaluating finished!\n",
      "Gaussian Copula\n",
      "The best model is: tvae\n",
      "The ContinuousKL_score is: 0.3752903473473491\n",
      "The DiscreteKL_score is: 0.772513542369297\n",
      "The total score is: 0.4625997669541402\n"
     ]
    }
   ],
   "source": [
    "train_data = callout_df\n",
    "best_model = common.build_model(constraints=constraints, train_data=train_data)"
   ]
  },
  {
   "cell_type": "code",
   "execution_count": 25,
   "metadata": {},
   "outputs": [],
   "source": [
    "model_save_path = data_set_path + \"100_models/\" + \"callout_model.pkl\"\n",
    "common.save_model(best_model, model_save_path)"
   ]
  },
  {
   "cell_type": "markdown",
   "metadata": {},
   "source": [
    "---\n",
    "\n",
    "## Evaluate data"
   ]
  },
  {
   "cell_type": "code",
   "execution_count": 26,
   "metadata": {},
   "outputs": [],
   "source": [
    "from sdv.evaluation import evaluate"
   ]
  },
  {
   "cell_type": "markdown",
   "metadata": {},
   "source": [
    "### Load model and generate sample"
   ]
  },
  {
   "cell_type": "code",
   "execution_count": 27,
   "metadata": {},
   "outputs": [],
   "source": [
    "date_load_path = data_set_path + \"100_models/\" + \"callout_model.pkl\"\n",
    "model = common.load_model(date_load_path)"
   ]
  },
  {
   "cell_type": "code",
   "execution_count": 28,
   "metadata": {},
   "outputs": [],
   "source": [
    "sample = model.sample(num_rows=len(train_data))"
   ]
  },
  {
   "cell_type": "markdown",
   "metadata": {},
   "source": [
    "### Evaluation"
   ]
  },
  {
   "cell_type": "code",
   "execution_count": 29,
   "metadata": {},
   "outputs": [
    {
     "data": {
      "text/plain": [
       "0.3741608104777001"
      ]
     },
     "execution_count": 29,
     "metadata": {},
     "output_type": "execute_result"
    }
   ],
   "source": [
    "evaluate(sample, train_data, metrics=['ContinuousKLDivergence'])"
   ]
  },
  {
   "cell_type": "code",
   "execution_count": 30,
   "metadata": {},
   "outputs": [
    {
     "data": {
      "text/plain": [
       "0.6958799284401962"
      ]
     },
     "execution_count": 30,
     "metadata": {},
     "output_type": "execute_result"
    }
   ],
   "source": [
    "evaluate(sample, train_data, metrics=['DiscreteKLDivergence'])"
   ]
  },
  {
   "cell_type": "code",
   "execution_count": 31,
   "metadata": {},
   "outputs": [
    {
     "data": {
      "text/plain": [
       "0.6818888650713419"
      ]
     },
     "execution_count": 31,
     "metadata": {},
     "output_type": "execute_result"
    }
   ],
   "source": [
    "evaluate(sample, train_data, metrics=['CSTest', 'KSTest', 'ContinuousKLDivergence', 'DiscreteKLDivergence'])"
   ]
  },
  {
   "cell_type": "code",
   "execution_count": 32,
   "metadata": {},
   "outputs": [
    {
     "data": {
      "text/plain": [
       "MICU     34\n",
       "SICU     33\n",
       "TSICU    14\n",
       "CCU       4\n",
       "CSRU      3\n",
       "Name: curr_careunit, dtype: int64"
      ]
     },
     "execution_count": 32,
     "metadata": {},
     "output_type": "execute_result"
    }
   ],
   "source": [
    "sample['curr_careunit'].value_counts()"
   ]
  },
  {
   "cell_type": "code",
   "execution_count": 36,
   "metadata": {},
   "outputs": [
    {
     "data": {
      "text/plain": [
       "<AxesSubplot:>"
      ]
     },
     "execution_count": 36,
     "metadata": {},
     "output_type": "execute_result"
    },
    {
     "data": {
      "image/png": "[encoded data removed]",
      "text/plain": [
       "<Figure size 432x288 with 1 Axes>"
      ]
     },
     "metadata": {
      "needs_background": "light"
     },
     "output_type": "display_data"
    }
   ],
   "source": [
    "sample['curr_wardid'].hist()"
   ]
  },
  {
   "cell_type": "code",
   "execution_count": 37,
   "metadata": {},
   "outputs": [
    {
     "data": {
      "text/plain": [
       "<AxesSubplot:>"
      ]
     },
     "execution_count": 37,
     "metadata": {},
     "output_type": "execute_result"
    },
    {
     "data": {
      "image/png": "[encoded data removed]",
      "text/plain": [
       "<Figure size 432x288 with 1 Axes>"
      ]
     },
     "metadata": {
      "needs_background": "light"
     },
     "output_type": "display_data"
    }
   ],
   "source": [
    "train_data['curr_wardid'].hist()"
   ]
  },
  {
   "cell_type": "code",
   "execution_count": 33,
   "metadata": {},
   "outputs": [
    {
     "data": {
      "text/plain": [
       "<AxesSubplot:>"
      ]
     },
     "execution_count": 33,
     "metadata": {},
     "output_type": "execute_result"
    },
    {
     "data": {
      "image/png": "[encoded data removed]",
      "text/plain": [
       "<Figure size 432x288 with 1 Axes>"
      ]
     },
     "metadata": {
      "needs_background": "light"
     },
     "output_type": "display_data"
    }
   ],
   "source": [
    "sample['curr_careunit'].value_counts().plot.bar()"
   ]
  },
  {
   "cell_type": "code",
   "execution_count": 34,
   "metadata": {},
   "outputs": [
    {
     "data": {
      "text/plain": [
       "MICU     43\n",
       "SICU     17\n",
       "TSICU    12\n",
       "CCU      11\n",
       "CSRU      5\n",
       "Name: curr_careunit, dtype: int64"
      ]
     },
     "execution_count": 34,
     "metadata": {},
     "output_type": "execute_result"
    }
   ],
   "source": [
    "train_data['curr_careunit'].value_counts()"
   ]
  },
  {
   "cell_type": "code",
   "execution_count": 35,
   "metadata": {},
   "outputs": [
    {
     "data": {
      "text/plain": [
       "<AxesSubplot:>"
      ]
     },
     "execution_count": 35,
     "metadata": {},
     "output_type": "execute_result"
    },
    {
     "data": {
      "image/png": "[encoded data removed]",
      "text/plain": [
       "<Figure size 432x288 with 1 Axes>"
      ]
     },
     "metadata": {
      "needs_background": "light"
     },
     "output_type": "display_data"
    }
   ],
   "source": [
    "train_data['curr_careunit'].value_counts().plot.bar()"
   ]
  }
 ],
 "metadata": {
  "kernelspec": {
   "display_name": "Python 3 (ipykernel)",
   "language": "python",
   "name": "python3"
  },
  "language_info": {
   "codemirror_mode": {
    "name": "ipython",
    "version": 3
   },
   "file_extension": ".py",
   "mimetype": "text/x-python",
   "name": "python",
   "nbconvert_exporter": "python",
   "pygments_lexer": "ipython3",
   "version": "3.8.13"
  },
  "vscode": {
   "interpreter": {
    "hash": "e56015fb566b08f7af163d42c82cf08fa5d6db3fbaaffa0afaaff5a893fc0496"
   }
  }
 },
 "nbformat": 4,
 "nbformat_minor": 2
}
