{
 "cells": [
  {
   "cell_type": "code",
   "execution_count": 1,
   "id": "1a8d59ab",
   "metadata": {},
   "outputs": [],
   "source": [
    "# Ignore warnings\n",
    "import warnings\n",
    "warnings.filterwarnings(\"ignore\")"
   ]
  },
  {
   "cell_type": "code",
   "execution_count": 2,
   "id": "d48ed357",
   "metadata": {},
   "outputs": [],
   "source": [
    "import pandas as pd\n",
    "import numpy as np\n",
    "\n",
    "import commonfunc"
   ]
  },
  {
   "cell_type": "code",
   "execution_count": 3,
   "id": "6e31f2e5",
   "metadata": {},
   "outputs": [],
   "source": [
    "data_set_path='C:/Users/shrus/Documents/Synthetic-data-generation/'"
   ]
  },
  {
   "cell_type": "code",
   "execution_count": 4,
   "id": "3e2fca88",
   "metadata": {},
   "outputs": [],
   "source": [
    "callout_df = commonfunc.read_csv_no_rowid(data_set_path+\"sampled_data_csv_100/callout.csv\")"
   ]
  },
  {
   "cell_type": "code",
   "execution_count": 6,
   "id": "ba6c8a94",
   "metadata": {},
   "outputs": [],
   "source": [
    "callout_df.drop(['submit_careunit', 'firstreservationtime', 'currentreservationtime'], axis=1, inplace=True)"
   ]
  },
  {
   "cell_type": "code",
   "execution_count": 7,
   "id": "9dd1313c",
   "metadata": {},
   "outputs": [
    {
     "name": "stdout",
     "output_type": "stream",
     "text": [
      "Total columns: 20\n",
      "Total rows: 99\n",
      "--------------\n",
      "subject_id             0\n",
      "hadm_id                0\n",
      "submit_wardid          0\n",
      "curr_wardid            0\n",
      "curr_careunit          0\n",
      "callout_wardid         0\n",
      "callout_service        0\n",
      "request_tele           0\n",
      "request_resp           0\n",
      "request_cdiff          0\n",
      "request_mrsa           0\n",
      "request_vre            0\n",
      "callout_status         0\n",
      "callout_outcome        0\n",
      "discharge_wardid      15\n",
      "acknowledge_status     0\n",
      "createtime             0\n",
      "updatetime             0\n",
      "acknowledgetime        5\n",
      "outcometime            0\n",
      "dtype: int64\n"
     ]
    }
   ],
   "source": [
    "# Check null value in table\n",
    "commonfunc.nan_count(callout_df)"
   ]
  },
  {
   "cell_type": "code",
   "execution_count": 8,
   "id": "35eed1eb",
   "metadata": {},
   "outputs": [
    {
     "data": {
      "text/plain": [
       "subject_id              int64\n",
       "hadm_id                 int64\n",
       "submit_wardid           int64\n",
       "curr_wardid             int64\n",
       "curr_careunit          object\n",
       "callout_wardid          int64\n",
       "callout_service        object\n",
       "request_tele            int64\n",
       "request_resp            int64\n",
       "request_cdiff           int64\n",
       "request_mrsa            int64\n",
       "request_vre             int64\n",
       "callout_status         object\n",
       "callout_outcome        object\n",
       "discharge_wardid      float64\n",
       "acknowledge_status     object\n",
       "createtime             object\n",
       "updatetime             object\n",
       "acknowledgetime        object\n",
       "outcometime            object\n",
       "dtype: object"
      ]
     },
     "execution_count": 8,
     "metadata": {},
     "output_type": "execute_result"
    }
   ],
   "source": [
    "callout_df.dtypes"
   ]
  },
  {
   "cell_type": "code",
   "execution_count": 9,
   "id": "d176a930",
   "metadata": {},
   "outputs": [],
   "source": [
    "# Transfer some date type\n",
    "callout_df['createtime'] = pd.to_datetime(callout_df['createtime'])\n",
    "callout_df['updatetime'] = pd.to_datetime(callout_df['updatetime'])\n",
    "callout_df['acknowledgetime'] = pd.to_datetime(callout_df['acknowledgetime'])\n",
    "callout_df['outcometime'] = pd.to_datetime(callout_df['outcometime'])"
   ]
  },
  {
   "cell_type": "code",
   "execution_count": 10,
   "id": "a6bf0d6c",
   "metadata": {},
   "outputs": [],
   "source": [
    "admissions_df = commonfunc.read_csv_no_rowid(data_set_path+\"sampled_data_csv_100/admissions.csv\")"
   ]
  },
  {
   "cell_type": "code",
   "execution_count": 11,
   "id": "c1f959e9",
   "metadata": {},
   "outputs": [],
   "source": [
    "admittime_df = admissions_df.loc[:, ['hadm_id', 'admittime']]\n",
    "admittime_df['admittime'] = pd.to_datetime(admittime_df['admittime'])"
   ]
  },
  {
   "cell_type": "code",
   "execution_count": 12,
   "id": "f66f1c2f",
   "metadata": {},
   "outputs": [],
   "source": [
    "callout_mid_df = pd.merge(left=callout_df, right=admittime_df, how='left', on=['hadm_id'])"
   ]
  },
  {
   "cell_type": "code",
   "execution_count": null,
   "id": "4e2934be",
   "metadata": {},
   "outputs": [],
   "source": [
    "callout_mid_df['outcometime'] = callout_mid_df.apply(commonfunc.time_process, args=('acknowledgetime', 'outcometime', 'updatetime'), axis=1)\n",
    "callout_mid_df['acknowledgetime'] = callout_mid_df.apply(commonfunc.time_process, args=('updatetime', 'acknowledgetime'), axis=1)\n",
    "callout_mid_df['updatetime'] = callout_mid_df.apply(commonfunc.time_process, args=('createtime', 'updatetime'), axis=1)\n",
    "callout_mid_df['createtime'] = callout_mid_df.apply(commonfunc.time_process, args=('admittime', 'createtime'), axis=1)"
   ]
  }
 ],
 "metadata": {
  "kernelspec": {
   "display_name": "Python 3 (ipykernel)",
   "language": "python",
   "name": "python3"
  },
  "language_info": {
   "codemirror_mode": {
    "name": "ipython",
    "version": 3
   },
   "file_extension": ".py",
   "mimetype": "text/x-python",
   "name": "python",
   "nbconvert_exporter": "python",
   "pygments_lexer": "ipython3",
   "version": "3.10.9"
  }
 },
 "nbformat": 4,
 "nbformat_minor": 5
}
