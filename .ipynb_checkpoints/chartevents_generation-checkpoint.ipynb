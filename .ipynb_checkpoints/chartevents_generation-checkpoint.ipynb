{
 "cells": [
  {
   "cell_type": "code",
   "execution_count": 42,
   "metadata": {},
   "outputs": [],
   "source": [
    "# from google.colab import drive\n",
    "# drive.mount('/content/drive')"
   ]
  },
  {
   "cell_type": "code",
   "execution_count": 1,
   "metadata": {},
   "outputs": [],
   "source": [
    "# Ignore warnings\n",
    "import warnings\n",
    "warnings.filterwarnings(\"ignore\")"
   ]
  },
  {
   "cell_type": "code",
   "execution_count": 2,
   "metadata": {},
   "outputs": [],
   "source": [
    "import pandas as pd\n",
    "import numpy as np\n",
    "\n",
    "import commonfunc"
   ]
  },
  {
   "cell_type": "code",
   "execution_count": 3,
   "metadata": {},
   "outputs": [],
   "source": [
    "data_set_path = \"./sampled_data_csv_100/\""
   ]
  },
  {
   "cell_type": "markdown",
   "metadata": {},
   "source": [
    "# Chartevents"
   ]
  },
  {
   "cell_type": "markdown",
   "metadata": {},
   "source": [
    "## Read samples"
   ]
  },
  {
   "cell_type": "code",
   "execution_count": 6,
   "metadata": {},
   "outputs": [],
   "source": [
    "chartevents_df = commonfunc.read_csv_no_rowid(data_set_path + \"chartevents.csv\")\n",
    "chartevents_df = chartevents_df.sample(n=2000)"
   ]
  },
  {
   "cell_type": "markdown",
   "metadata": {},
   "source": [
    "## Data preproces"
   ]
  },
  {
   "cell_type": "code",
   "execution_count": 7,
   "metadata": {},
   "outputs": [],
   "source": [
    "# Drop useless colums\n",
    "chartevents_df.drop(['subject_id', 'hadm_id', 'cgid', 'valuenum', 'valueuom', 'warning', 'error', 'resultstatus', 'stopped'], axis=1, inplace=True)"
   ]
  },
  {
   "cell_type": "markdown",
   "metadata": {},
   "source": [
    "### Process null values"
   ]
  },
  {
   "cell_type": "code",
   "execution_count": 8,
   "metadata": {},
   "outputs": [],
   "source": [
    "# Drop some null value\n",
    "chartevents_df.dropna(subset=['icustay_id'], inplace=True, axis=0)"
   ]
  },
  {
   "cell_type": "code",
   "execution_count": 10,
   "metadata": {},
   "outputs": [
    {
     "name": "stdout",
     "output_type": "stream",
     "text": [
      "Total columns: 5\n",
      "Total rows: 1995\n",
      "--------------\n",
      "icustay_id     0\n",
      "itemid         0\n",
      "charttime      0\n",
      "storetime      0\n",
      "value         13\n",
      "dtype: int64\n"
     ]
    }
   ],
   "source": [
    "commonfunc.nan_count(chartevents_df)"
   ]
  },
  {
   "cell_type": "code",
   "execution_count": 11,
   "metadata": {},
   "outputs": [],
   "source": [
    "chartevents_df['value'].fillna(value='Na', inplace=True)"
   ]
  },
  {
   "cell_type": "markdown",
   "metadata": {},
   "source": [
    "### Set the column types"
   ]
  },
  {
   "cell_type": "code",
   "execution_count": 12,
   "metadata": {},
   "outputs": [
    {
     "data": {
      "text/plain": [
       "icustay_id    float64\n",
       "itemid          int64\n",
       "charttime      object\n",
       "storetime      object\n",
       "value          object\n",
       "dtype: object"
      ]
     },
     "execution_count": 12,
     "metadata": {},
     "output_type": "execute_result"
    }
   ],
   "source": [
    "chartevents_df.dtypes"
   ]
  },
  {
   "cell_type": "code",
   "execution_count": 13,
   "metadata": {},
   "outputs": [],
   "source": [
    "# Transfer some date type\n",
    "# chartevents_df['subject_id'] = chartevents_df['subject_id'].astype(str)\n",
    "# chartevents_df['hadm_id'] = chartevents_df['hadm_id'].astype(str)\n",
    "# chartevents_df['icustay_id'] = chartevents_df['icustay_id'].astype(str)\n",
    "\n",
    "# chartevents_df['itemid'] = chartevents_df['itemid'].astype(str)\n",
    "\n",
    "chartevents_df['charttime'] = pd.to_datetime(chartevents_df['charttime'])\n",
    "chartevents_df['storetime'] = pd.to_datetime(chartevents_df['storetime'])"
   ]
  },
  {
   "cell_type": "code",
   "execution_count": 14,
   "metadata": {},
   "outputs": [
    {
     "data": {
      "text/plain": [
       "icustay_id           float64\n",
       "itemid                 int64\n",
       "charttime     datetime64[ns]\n",
       "storetime     datetime64[ns]\n",
       "value                 object\n",
       "dtype: object"
      ]
     },
     "execution_count": 14,
     "metadata": {},
     "output_type": "execute_result"
    }
   ],
   "source": [
    "chartevents_df.dtypes"
   ]
  },
  {
   "cell_type": "markdown",
   "metadata": {},
   "source": [
    "### Process time value"
   ]
  },
  {
   "cell_type": "code",
   "execution_count": 16,
   "metadata": {},
   "outputs": [],
   "source": [
    "icustays_df = commonfunc.read_csv_no_rowid(data_set_path+\"icustays.csv\")"
   ]
  },
  {
   "cell_type": "code",
   "execution_count": 17,
   "metadata": {},
   "outputs": [],
   "source": [
    "icu_intime_df = icustays_df.loc[:, ['icustay_id', 'intime']]\n",
    "icu_intime_df['intime'] = pd.to_datetime(icu_intime_df['intime'])"
   ]
  },
  {
   "cell_type": "code",
   "execution_count": 18,
   "metadata": {},
   "outputs": [],
   "source": [
    "chartevents_mid_df = pd.merge(left=chartevents_df, right=icu_intime_df, how='left', on=['icustay_id'])"
   ]
  },
  {
   "cell_type": "code",
   "execution_count": 19,
   "metadata": {},
   "outputs": [
    {
     "data": {
      "text/plain": [
       "icustay_id           float64\n",
       "itemid                 int64\n",
       "charttime     datetime64[ns]\n",
       "storetime     datetime64[ns]\n",
       "value                 object\n",
       "intime        datetime64[ns]\n",
       "dtype: object"
      ]
     },
     "execution_count": 19,
     "metadata": {},
     "output_type": "execute_result"
    }
   ],
   "source": [
    "chartevents_mid_df.dtypes"
   ]
  },
  {
   "cell_type": "code",
   "execution_count": 21,
   "metadata": {},
   "outputs": [],
   "source": [
    "chartevents_mid_df['storetime'] = chartevents_mid_df.apply(commonfunc.time_process, args=('charttime', 'storetime'), axis=1)\n",
    "chartevents_mid_df['charttime'] = chartevents_mid_df.apply(commonfunc.time_process, args=('intime', 'charttime'), axis=1)"
   ]
  },
  {
   "cell_type": "code",
   "execution_count": 59,
   "metadata": {},
   "outputs": [
    {
     "data": {
      "text/html": [
       "<div>\n",
       "<style scoped>\n",
       "    .dataframe tbody tr th:only-of-type {\n",
       "        vertical-align: middle;\n",
       "    }\n",
       "\n",
       "    .dataframe tbody tr th {\n",
       "        vertical-align: top;\n",
       "    }\n",
       "\n",
       "    .dataframe thead th {\n",
       "        text-align: right;\n",
       "    }\n",
       "</style>\n",
       "<table border=\"1\" class=\"dataframe\">\n",
       "  <thead>\n",
       "    <tr style=\"text-align: right;\">\n",
       "      <th></th>\n",
       "      <th>icustay_id</th>\n",
       "      <th>itemid</th>\n",
       "      <th>charttime</th>\n",
       "      <th>storetime</th>\n",
       "      <th>value</th>\n",
       "      <th>intime</th>\n",
       "    </tr>\n",
       "  </thead>\n",
       "  <tbody>\n",
       "    <tr>\n",
       "      <th>0</th>\n",
       "      <td>211435.0</td>\n",
       "      <td>220052</td>\n",
       "      <td>1455989.0</td>\n",
       "      <td>0.0</td>\n",
       "      <td>78</td>\n",
       "      <td>2190-02-07 00:14:31</td>\n",
       "    </tr>\n",
       "    <tr>\n",
       "      <th>1</th>\n",
       "      <td>215784.0</td>\n",
       "      <td>211</td>\n",
       "      <td>1762960.0</td>\n",
       "      <td>300.0</td>\n",
       "      <td>152</td>\n",
       "      <td>2134-02-12 23:17:20</td>\n",
       "    </tr>\n",
       "    <tr>\n",
       "      <th>2</th>\n",
       "      <td>252609.0</td>\n",
       "      <td>3609</td>\n",
       "      <td>692381.0</td>\n",
       "      <td>540.0</td>\n",
       "      <td>92</td>\n",
       "      <td>2197-02-14 15:40:19</td>\n",
       "    </tr>\n",
       "    <tr>\n",
       "      <th>3</th>\n",
       "      <td>225952.0</td>\n",
       "      <td>220048</td>\n",
       "      <td>1023909.0</td>\n",
       "      <td>3240.0</td>\n",
       "      <td>ST (Sinus Tachycardia)</td>\n",
       "      <td>2139-06-27 15:34:51</td>\n",
       "    </tr>\n",
       "    <tr>\n",
       "      <th>4</th>\n",
       "      <td>229174.0</td>\n",
       "      <td>1047</td>\n",
       "      <td>234977.0</td>\n",
       "      <td>720.0</td>\n",
       "      <td>Done</td>\n",
       "      <td>2199-07-09 07:43:43</td>\n",
       "    </tr>\n",
       "    <tr>\n",
       "      <th>...</th>\n",
       "      <td>...</td>\n",
       "      <td>...</td>\n",
       "      <td>...</td>\n",
       "      <td>...</td>\n",
       "      <td>...</td>\n",
       "      <td>...</td>\n",
       "    </tr>\n",
       "    <tr>\n",
       "      <th>1995</th>\n",
       "      <td>223819.0</td>\n",
       "      <td>223794</td>\n",
       "      <td>1961587.0</td>\n",
       "      <td>240.0</td>\n",
       "      <td>Yes</td>\n",
       "      <td>2104-10-31 15:06:53</td>\n",
       "    </tr>\n",
       "    <tr>\n",
       "      <th>1996</th>\n",
       "      <td>257922.0</td>\n",
       "      <td>1703</td>\n",
       "      <td>774807.0</td>\n",
       "      <td>120.0</td>\n",
       "      <td>No</td>\n",
       "      <td>2148-08-11 00:46:33</td>\n",
       "    </tr>\n",
       "    <tr>\n",
       "      <th>1997</th>\n",
       "      <td>281790.0</td>\n",
       "      <td>223900</td>\n",
       "      <td>604844.0</td>\n",
       "      <td>3120.0</td>\n",
       "      <td>Oriented</td>\n",
       "      <td>2104-09-15 19:59:16</td>\n",
       "    </tr>\n",
       "    <tr>\n",
       "      <th>1998</th>\n",
       "      <td>256611.0</td>\n",
       "      <td>154</td>\n",
       "      <td>88380.0</td>\n",
       "      <td>1440.0</td>\n",
       "      <td>NPO</td>\n",
       "      <td>2135-04-21 23:27:00</td>\n",
       "    </tr>\n",
       "    <tr>\n",
       "      <th>1999</th>\n",
       "      <td>210678.0</td>\n",
       "      <td>159</td>\n",
       "      <td>159605.0</td>\n",
       "      <td>480.0</td>\n",
       "      <td>Rare</td>\n",
       "      <td>2200-10-08 18:39:55</td>\n",
       "    </tr>\n",
       "  </tbody>\n",
       "</table>\n",
       "<p>2000 rows × 6 columns</p>\n",
       "</div>"
      ],
      "text/plain": [
       "      icustay_id  itemid  charttime  storetime                    value  \\\n",
       "0       211435.0  220052  1455989.0        0.0                       78   \n",
       "1       215784.0     211  1762960.0      300.0                      152   \n",
       "2       252609.0    3609   692381.0      540.0                       92   \n",
       "3       225952.0  220048  1023909.0     3240.0  ST (Sinus Tachycardia)    \n",
       "4       229174.0    1047   234977.0      720.0                     Done   \n",
       "...          ...     ...        ...        ...                      ...   \n",
       "1995    223819.0  223794  1961587.0      240.0                      Yes   \n",
       "1996    257922.0    1703   774807.0      120.0                       No   \n",
       "1997    281790.0  223900   604844.0     3120.0                 Oriented   \n",
       "1998    256611.0     154    88380.0     1440.0                      NPO   \n",
       "1999    210678.0     159   159605.0      480.0                     Rare   \n",
       "\n",
       "                  intime  \n",
       "0    2190-02-07 00:14:31  \n",
       "1    2134-02-12 23:17:20  \n",
       "2    2197-02-14 15:40:19  \n",
       "3    2139-06-27 15:34:51  \n",
       "4    2199-07-09 07:43:43  \n",
       "...                  ...  \n",
       "1995 2104-10-31 15:06:53  \n",
       "1996 2148-08-11 00:46:33  \n",
       "1997 2104-09-15 19:59:16  \n",
       "1998 2135-04-21 23:27:00  \n",
       "1999 2200-10-08 18:39:55  \n",
       "\n",
       "[2000 rows x 6 columns]"
      ]
     },
     "execution_count": 59,
     "metadata": {},
     "output_type": "execute_result"
    }
   ],
   "source": [
    "chartevents_mid_df"
   ]
  },
  {
   "cell_type": "code",
   "execution_count": 60,
   "metadata": {},
   "outputs": [],
   "source": [
    "chartevents_df = chartevents_mid_df.drop(['icustay_id', 'intime'], axis=1)"
   ]
  },
  {
   "cell_type": "code",
   "execution_count": 61,
   "metadata": {},
   "outputs": [
    {
     "data": {
      "text/plain": [
       "Index(['itemid', 'charttime', 'storetime', 'value'], dtype='object')"
      ]
     },
     "execution_count": 61,
     "metadata": {},
     "output_type": "execute_result"
    }
   ],
   "source": [
    "chartevents_df.columns"
   ]
  },
  {
   "cell_type": "markdown",
   "metadata": {},
   "source": [
    "---\n",
    "\n",
    "##  Build Network"
   ]
  },
  {
   "cell_type": "markdown",
   "metadata": {},
   "source": [
    "### Set constraints"
   ]
  },
  {
   "cell_type": "code",
   "execution_count": 62,
   "metadata": {},
   "outputs": [],
   "source": [
    "from sdv.constraints import FixedCombinations\n",
    "\n",
    "fixed_item_value_constraint = FixedCombinations(\n",
    "    column_names=['itemid', 'value']\n",
    ")"
   ]
  },
  {
   "cell_type": "code",
   "execution_count": 63,
   "metadata": {},
   "outputs": [],
   "source": [
    "constraints = [fixed_item_value_constraint]"
   ]
  },
  {
   "cell_type": "code",
   "execution_count": 64,
   "metadata": {},
   "outputs": [
    {
     "name": "stdout",
     "output_type": "stream",
     "text": [
      "Strat training ...\n",
      "Tabular Preset\n"
     ]
    },
    {
     "name": "stderr",
     "output_type": "stream",
     "text": [
      "Sampling rows: 100%|██████████| 2000/2000 [00:00<00:00, 58811.30it/s]\n"
     ]
    },
    {
     "name": "stdout",
     "output_type": "stream",
     "text": [
      "Gaussian Copula\n"
     ]
    },
    {
     "name": "stderr",
     "output_type": "stream",
     "text": [
      "Sampling rows: 100%|██████████| 2000/2000 [00:00<00:00, 60017.66it/s]\n"
     ]
    },
    {
     "name": "stdout",
     "output_type": "stream",
     "text": [
      "CTGAN\n"
     ]
    },
    {
     "name": "stderr",
     "output_type": "stream",
     "text": [
      "Sampling rows: 100%|██████████| 2000/2000 [00:00<00:00, 19792.06it/s]\n"
     ]
    },
    {
     "name": "stdout",
     "output_type": "stream",
     "text": [
      "CopulaGAN\n"
     ]
    },
    {
     "name": "stderr",
     "output_type": "stream",
     "text": [
      "Sampling rows: 100%|██████████| 2000/2000 [00:00<00:00, 23027.03it/s]\n"
     ]
    },
    {
     "name": "stdout",
     "output_type": "stream",
     "text": [
      "TVAE\n"
     ]
    },
    {
     "name": "stderr",
     "output_type": "stream",
     "text": [
      "Sampling rows: 100%|██████████| 2000/2000 [00:00<00:00, 36481.73it/s]\n"
     ]
    },
    {
     "name": "stdout",
     "output_type": "stream",
     "text": [
      "Training finished!\n",
      "Strat evaluating ...\n",
      "Evaluating finished!\n",
      "CTGAN\n"
     ]
    },
    {
     "name": "stderr",
     "output_type": "stream",
     "text": [
      "Sampling rows: 100%|██████████| 2000/2000 [00:00<00:00, 21189.45it/s]\n"
     ]
    },
    {
     "name": "stdout",
     "output_type": "stream",
     "text": [
      "The best model is: ctgan\n",
      "The ContinuousKL_score is: 0.884146520183099\n",
      "The DiscreteKL_score is: nan\n",
      "The total score is: 0.6346747157042312\n"
     ]
    }
   ],
   "source": [
    "train_data = chartevents_df\n",
    "best_model = common.build_model(constraints=constraints, train_data=train_data)"
   ]
  },
  {
   "cell_type": "code",
   "execution_count": 65,
   "metadata": {},
   "outputs": [],
   "source": [
    "model_save_path = data_set_path + \"100_models/\" + \"chartevents_model.pkl\"\n",
    "common.save_model(best_model, model_save_path)"
   ]
  },
  {
   "cell_type": "markdown",
   "metadata": {},
   "source": [
    "---\n",
    "\n",
    "## Evaluate data"
   ]
  },
  {
   "cell_type": "markdown",
   "metadata": {},
   "source": [
    "### Generate synthetic data"
   ]
  },
  {
   "cell_type": "code",
   "execution_count": 66,
   "metadata": {},
   "outputs": [],
   "source": [
    "# Load model\n",
    "date_load_path = data_set_path + \"100_models/\" + \"chartevents_model.pkl\"\n",
    "model = common.load_model(date_load_path)"
   ]
  },
  {
   "cell_type": "code",
   "execution_count": 94,
   "metadata": {},
   "outputs": [
    {
     "name": "stderr",
     "output_type": "stream",
     "text": [
      "Sampling rows: 100%|██████████| 2000/2000 [00:00<00:00, 7157.87it/s]\n"
     ]
    }
   ],
   "source": [
    "sample = model.sample(num_rows=len(chartevents_df))"
   ]
  },
  {
   "cell_type": "markdown",
   "metadata": {},
   "source": [
    "### Post-process"
   ]
  },
  {
   "cell_type": "code",
   "execution_count": 68,
   "metadata": {},
   "outputs": [],
   "source": [
    "def is_number(s):\n",
    "    try:\n",
    "        float(s)\n",
    "        return True\n",
    "    except ValueError:\n",
    "        pass\n",
    " \n",
    "    try:\n",
    "        import unicodedata\n",
    "        unicodedata.numeric(s)\n",
    "        return True\n",
    "    except (TypeError, ValueError):\n",
    "        pass\n",
    " \n",
    "    return False"
   ]
  },
  {
   "cell_type": "code",
   "execution_count": 69,
   "metadata": {},
   "outputs": [],
   "source": [
    "def format_values(df):\n",
    "    if is_number(df['value']):\n",
    "        return round(float(df['value']), 2)\n",
    "    else:\n",
    "        return df['value']\n"
   ]
  },
  {
   "cell_type": "code",
   "execution_count": 70,
   "metadata": {},
   "outputs": [],
   "source": [
    "sample['value'] = sample.apply(format_values, axis=1)\n",
    "sample['value'] = sample['value'].astype(str)"
   ]
  },
  {
   "cell_type": "markdown",
   "metadata": {},
   "source": [
    "### Evaluation"
   ]
  },
  {
   "cell_type": "code",
   "execution_count": 71,
   "metadata": {},
   "outputs": [],
   "source": [
    "from sdv.evaluation import evaluate"
   ]
  },
  {
   "cell_type": "code",
   "execution_count": 72,
   "metadata": {},
   "outputs": [
    {
     "data": {
      "text/plain": [
       "0.9023126563185834"
      ]
     },
     "execution_count": 72,
     "metadata": {},
     "output_type": "execute_result"
    }
   ],
   "source": [
    "evaluate(sample, train_data, metrics=['ContinuousKLDivergence'])"
   ]
  },
  {
   "cell_type": "code",
   "execution_count": 73,
   "metadata": {},
   "outputs": [
    {
     "data": {
      "text/plain": [
       "nan"
      ]
     },
     "execution_count": 73,
     "metadata": {},
     "output_type": "execute_result"
    }
   ],
   "source": [
    "evaluate(sample, train_data, metrics=['DiscreteKLDivergence'])"
   ]
  },
  {
   "cell_type": "code",
   "execution_count": 74,
   "metadata": {},
   "outputs": [
    {
     "data": {
      "text/plain": [
       "0.5858819965506389"
      ]
     },
     "execution_count": 74,
     "metadata": {},
     "output_type": "execute_result"
    }
   ],
   "source": [
    "evaluate(sample, train_data, metrics=['CSTest', 'KSTest', 'ContinuousKLDivergence', 'DiscreteKLDivergence'])"
   ]
  },
  {
   "cell_type": "code",
   "execution_count": 75,
   "metadata": {},
   "outputs": [
    {
     "data": {
      "text/plain": [
       "<AxesSubplot:>"
      ]
     },
     "execution_count": 75,
     "metadata": {},
     "output_type": "execute_result"
    },
    {
     "data": {
      "image/png": "[encoded data removed]",
      "text/plain": [
       "<Figure size 432x288 with 1 Axes>"
      ]
     },
     "metadata": {
      "needs_background": "light"
     },
     "output_type": "display_data"
    }
   ],
   "source": [
    "sample.sort_values('itemid')['itemid'].hist()"
   ]
  },
  {
   "cell_type": "code",
   "execution_count": 76,
   "metadata": {},
   "outputs": [
    {
     "data": {
      "text/plain": [
       "<AxesSubplot:>"
      ]
     },
     "execution_count": 76,
     "metadata": {},
     "output_type": "execute_result"
    },
    {
     "data": {
      "image/png": "[encoded data removed]",
      "text/plain": [
       "<Figure size 432x288 with 1 Axes>"
      ]
     },
     "metadata": {
      "needs_background": "light"
     },
     "output_type": "display_data"
    }
   ],
   "source": [
    "train_data.sort_values('itemid')['itemid'].hist()"
   ]
  },
  {
   "cell_type": "code",
   "execution_count": 93,
   "metadata": {},
   "outputs": [
    {
     "data": {
      "text/plain": [
       "<AxesSubplot:>"
      ]
     },
     "execution_count": 93,
     "metadata": {},
     "output_type": "execute_result"
    },
    {
     "data": {
      "image/png": "[encoded data removed]",
      "text/plain": [
       "<Figure size 432x288 with 1 Axes>"
      ]
     },
     "metadata": {
      "needs_background": "light"
     },
     "output_type": "display_data"
    }
   ],
   "source": [
    "sample.loc[sample['itemid'] == 220052]['value'].hist()"
   ]
  },
  {
   "cell_type": "code",
   "execution_count": 90,
   "metadata": {},
   "outputs": [
    {
     "data": {
      "text/plain": [
       "<AxesSubplot:>"
      ]
     },
     "execution_count": 90,
     "metadata": {},
     "output_type": "execute_result"
    },
    {
     "data": {
      "image/png": "[encoded data removed]",
      "text/plain": [
       "<Figure size 432x288 with 1 Axes>"
      ]
     },
     "metadata": {
      "needs_background": "light"
     },
     "output_type": "display_data"
    }
   ],
   "source": [
    "train_data.loc[train_data['itemid'] == 220052]['value'].hist()"
   ]
  }
 ],
 "metadata": {
  "kernelspec": {
   "display_name": "Python 3 (ipykernel)",
   "language": "python",
   "name": "python3"
  },
  "language_info": {
   "codemirror_mode": {
    "name": "ipython",
    "version": 3
   },
   "file_extension": ".py",
   "mimetype": "text/x-python",
   "name": "python",
   "nbconvert_exporter": "python",
   "pygments_lexer": "ipython3",
   "version": "3.8.13"
  },
  "vscode": {
   "interpreter": {
    "hash": "e56015fb566b08f7af163d42c82cf08fa5d6db3fbaaffa0afaaff5a893fc0496"
   }
  }
 },
 "nbformat": 4,
 "nbformat_minor": 2
}
