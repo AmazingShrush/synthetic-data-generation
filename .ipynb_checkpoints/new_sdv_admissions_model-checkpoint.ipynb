{
 "cells": [
  {
   "cell_type": "code",
   "execution_count": 120,
   "id": "d4ed6acc",
   "metadata": {},
   "outputs": [],
   "source": [
    "# Ignore warnings\n",
    "import warnings\n",
    "warnings.filterwarnings(\"ignore\")"
   ]
  },
  {
   "cell_type": "code",
   "execution_count": 121,
   "id": "4a06bd7a",
   "metadata": {},
   "outputs": [],
   "source": [
    "import pandas as pd\n",
    "import numpy as np\n",
    "\n",
    "import commonfunc"
   ]
  },
  {
   "cell_type": "code",
   "execution_count": 122,
   "id": "56902099",
   "metadata": {},
   "outputs": [],
   "source": [
    "data_set_path=\"./sampled_data_csv_100/\""
   ]
  },
  {
   "cell_type": "code",
   "execution_count": 123,
   "id": "fbd33967",
   "metadata": {},
   "outputs": [],
   "source": [
    "admissions_df = commonfunc.read_csv_no_rowid(data_set_path+\"admissions.csv\")"
   ]
  },
  {
   "cell_type": "code",
   "execution_count": 124,
   "id": "7511f047",
   "metadata": {},
   "outputs": [],
   "source": [
    "dob_df = pd.read_csv(data_set_path+\"patients.csv\").loc[:, ['subject_id', 'dob']]"
   ]
  },
  {
   "cell_type": "code",
   "execution_count": 125,
   "id": "62e1576d",
   "metadata": {},
   "outputs": [],
   "source": [
    "# Drop useless colums\n",
    "admissions_df.drop(['diagnosis', 'hospital_expire_flag'], axis=1, inplace=True)"
   ]
  },
  {
   "cell_type": "code",
   "execution_count": 126,
   "id": "ba721b0d",
   "metadata": {},
   "outputs": [],
   "source": [
    "admissions_df = pd.merge(dob_df, admissions_df, how='inner', on='subject_id')"
   ]
  },
  {
   "cell_type": "code",
   "execution_count": 127,
   "id": "3b63ac75",
   "metadata": {},
   "outputs": [
    {
     "name": "stdout",
     "output_type": "stream",
     "text": [
      "Total columns: 17\n",
      "Total rows: 132\n",
      "--------------\n",
      "subject_id                0\n",
      "dob                       0\n",
      "hadm_id                   0\n",
      "admittime                 0\n",
      "dischtime                 0\n",
      "deathtime               121\n",
      "admission_type            0\n",
      "admission_location        0\n",
      "discharge_location        0\n",
      "insurance                 0\n",
      "language                 45\n",
      "religion                  1\n",
      "marital_status           19\n",
      "ethnicity                 0\n",
      "edregtime                62\n",
      "edouttime                62\n",
      "has_chartevents_data      0\n",
      "dtype: int64\n"
     ]
    }
   ],
   "source": [
    "commonfunc.nan_count(admissions_df)"
   ]
  },
  {
   "cell_type": "code",
   "execution_count": null,
   "id": "2f43afdd",
   "metadata": {},
   "outputs": [],
   "source": []
  },
  {
   "cell_type": "code",
   "execution_count": 128,
   "id": "9f1ce9d7",
   "metadata": {},
   "outputs": [
    {
     "data": {
      "text/plain": [
       "subject_id               int64\n",
       "dob                     object\n",
       "hadm_id                  int64\n",
       "admittime               object\n",
       "dischtime               object\n",
       "deathtime               object\n",
       "admission_type          object\n",
       "admission_location      object\n",
       "discharge_location      object\n",
       "insurance               object\n",
       "language                object\n",
       "religion                object\n",
       "marital_status          object\n",
       "ethnicity               object\n",
       "edregtime               object\n",
       "edouttime               object\n",
       "has_chartevents_data     int64\n",
       "dtype: object"
      ]
     },
     "execution_count": 128,
     "metadata": {},
     "output_type": "execute_result"
    }
   ],
   "source": [
    "admissions_df.dtypes"
   ]
  },
  {
   "cell_type": "code",
   "execution_count": 129,
   "id": "9916d430",
   "metadata": {},
   "outputs": [],
   "source": [
    "# Transfer some date type\n",
    "admissions_df['admittime'] = pd.to_datetime(admissions_df['admittime'])\n",
    "admissions_df['dischtime'] = pd.to_datetime(admissions_df['dischtime'])\n",
    "admissions_df['deathtime'] = pd.to_datetime(admissions_df['deathtime'])\n",
    "admissions_df['edregtime'] = pd.to_datetime(admissions_df['edregtime'])\n",
    "admissions_df['edouttime'] = pd.to_datetime(admissions_df['edouttime'])\n",
    "\n",
    "admissions_df['dob'] = pd.to_datetime(admissions_df['dob'])"
   ]
  },
  {
   "cell_type": "code",
   "execution_count": 130,
   "id": "abf99bef",
   "metadata": {},
   "outputs": [
    {
     "data": {
      "text/plain": [
       "True    132\n",
       "dtype: int64"
      ]
     },
     "execution_count": 130,
     "metadata": {},
     "output_type": "execute_result"
    }
   ],
   "source": [
    "(admissions_df['dob'] < admissions_df['admittime']).value_counts()"
   ]
  },
  {
   "cell_type": "code",
   "execution_count": 131,
   "id": "d831ea3f",
   "metadata": {},
   "outputs": [
    {
     "data": {
      "text/plain": [
       "subject_id                       int64\n",
       "dob                     datetime64[ns]\n",
       "hadm_id                          int64\n",
       "admittime               datetime64[ns]\n",
       "dischtime               datetime64[ns]\n",
       "deathtime               datetime64[ns]\n",
       "admission_type                  object\n",
       "admission_location              object\n",
       "discharge_location              object\n",
       "insurance                       object\n",
       "language                        object\n",
       "religion                        object\n",
       "marital_status                  object\n",
       "ethnicity                       object\n",
       "edregtime               datetime64[ns]\n",
       "edouttime               datetime64[ns]\n",
       "has_chartevents_data             int64\n",
       "dtype: object"
      ]
     },
     "execution_count": 131,
     "metadata": {},
     "output_type": "execute_result"
    }
   ],
   "source": [
    "admissions_df.dtypes"
   ]
  },
  {
   "cell_type": "code",
   "execution_count": 132,
   "id": "4e8858c5",
   "metadata": {},
   "outputs": [],
   "source": [
    "admissions_df = admissions_df.drop(admissions_df.loc[(pd.isna(admissions_df['deathtime']) == False) & (admissions_df['dischtime'] != admissions_df['deathtime'])].index)"
   ]
  },
  {
   "cell_type": "code",
   "execution_count": 133,
   "id": "a648cb64",
   "metadata": {},
   "outputs": [],
   "source": [
    "import datetime\n",
    "import random\n",
    "\n",
    "def adjust_age_over_90(df):\n",
    "    '''\n",
    "    This method is to adjust the invalid date in 'dob' (which is 18xx)\n",
    "    Process: Use the admittime minus 90 - 100 years, to let the age of patients are between 90 to 100\n",
    "    '''\n",
    "\n",
    "    years_100 = datetime.timedelta(days = (365 * 100 + 100/4))\n",
    "    random_days_10_years = datetime.timedelta(days = random.randint(0, 10)*365)\n",
    "    \n",
    "    if (df['dob'] - datetime.datetime(1970,1,1)).total_seconds() < 0:\n",
    "        return (df['admittime'] - years_100 + random_days_10_years)\n",
    "    else:\n",
    "        return df['dob']"
   ]
  },
  {
   "cell_type": "code",
   "execution_count": 134,
   "id": "29ac7388",
   "metadata": {},
   "outputs": [],
   "source": [
    "admissions_df['dob'] = admissions_df.apply(adjust_age_over_90, axis=1)"
   ]
  },
  {
   "cell_type": "code",
   "execution_count": 135,
   "id": "ce24cab1",
   "metadata": {},
   "outputs": [],
   "source": [
    "admissions_df['deathtime'] = admissions_df['deathtime'].apply(lambda flag: 1 if pd.isna(flag) == False else np.NaN)"
   ]
  },
  {
   "cell_type": "code",
   "execution_count": 136,
   "id": "e691054e",
   "metadata": {},
   "outputs": [],
   "source": [
    "# admissions_df['edouttime'] = admissions_df.apply(commonfunc.time_process, args=('edregtime', 'edouttime'), axis=1)\n",
    "# admissions_df['edregtime'] = admissions_df.apply(commonfunc.time_process, args=('admittime', 'edregtime'), axis=1)\n",
    "# admissions_df['dischtime'] = admissions_df.apply(commonfunc.time_process, args=('admittime', 'dischtime'), axis=1)\n",
    "# admissions_df['admittime'] = admissions_df.apply(commonfunc.time_process, args=('dob', 'admittime'), axis=1)"
   ]
  },
  {
   "cell_type": "code",
   "execution_count": 137,
   "id": "1ebe6eb6",
   "metadata": {},
   "outputs": [],
   "source": [
    "admissions_df.drop(['subject_id','dob'], axis=1, inplace=True)"
   ]
  },
  {
   "cell_type": "markdown",
   "id": "6ec44e4f",
   "metadata": {},
   "source": [
    "## Metadata"
   ]
  },
  {
   "cell_type": "code",
   "execution_count": 138,
   "id": "66497668",
   "metadata": {},
   "outputs": [],
   "source": [
    "from sdv.metadata import SingleTableMetadata\n",
    "\n",
    "metadata = SingleTableMetadata()"
   ]
  },
  {
   "cell_type": "code",
   "execution_count": 139,
   "id": "f6b0af09",
   "metadata": {},
   "outputs": [],
   "source": [
    "metadata.detect_from_dataframe(data=admissions_df)"
   ]
  },
  {
   "cell_type": "code",
   "execution_count": 140,
   "id": "a6770396",
   "metadata": {},
   "outputs": [
    {
     "data": {
      "text/plain": [
       "{\n",
       "    \"columns\": {\n",
       "        \"hadm_id\": {\n",
       "            \"sdtype\": \"numerical\"\n",
       "        },\n",
       "        \"admittime\": {\n",
       "            \"sdtype\": \"datetime\"\n",
       "        },\n",
       "        \"dischtime\": {\n",
       "            \"sdtype\": \"datetime\"\n",
       "        },\n",
       "        \"deathtime\": {\n",
       "            \"sdtype\": \"numerical\"\n",
       "        },\n",
       "        \"admission_type\": {\n",
       "            \"sdtype\": \"categorical\"\n",
       "        },\n",
       "        \"admission_location\": {\n",
       "            \"sdtype\": \"categorical\"\n",
       "        },\n",
       "        \"discharge_location\": {\n",
       "            \"sdtype\": \"categorical\"\n",
       "        },\n",
       "        \"insurance\": {\n",
       "            \"sdtype\": \"categorical\"\n",
       "        },\n",
       "        \"language\": {\n",
       "            \"sdtype\": \"categorical\"\n",
       "        },\n",
       "        \"religion\": {\n",
       "            \"sdtype\": \"categorical\"\n",
       "        },\n",
       "        \"marital_status\": {\n",
       "            \"sdtype\": \"categorical\"\n",
       "        },\n",
       "        \"ethnicity\": {\n",
       "            \"sdtype\": \"categorical\"\n",
       "        },\n",
       "        \"edregtime\": {\n",
       "            \"sdtype\": \"datetime\"\n",
       "        },\n",
       "        \"edouttime\": {\n",
       "            \"sdtype\": \"datetime\"\n",
       "        },\n",
       "        \"has_chartevents_data\": {\n",
       "            \"sdtype\": \"numerical\"\n",
       "        }\n",
       "    },\n",
       "    \"METADATA_SPEC_VERSION\": \"SINGLE_TABLE_V1\"\n",
       "}"
      ]
     },
     "execution_count": 140,
     "metadata": {},
     "output_type": "execute_result"
    }
   ],
   "source": [
    "metadata"
   ]
  },
  {
   "cell_type": "code",
   "execution_count": 141,
   "id": "1f0fc247",
   "metadata": {},
   "outputs": [],
   "source": [
    "\n",
    "metadata.update_column(\n",
    "    column_name='hadm_id',\n",
    "    sdtype='id',\n",
    "    regex_format='HID_[0-9]{4,8}'\n",
    ")\n",
    "\n",
    "metadata.update_column(\n",
    "    column_name='has_chartevents_data',\n",
    "    sdtype='categorical'\n",
    ")"
   ]
  },
  {
   "cell_type": "code",
   "execution_count": 142,
   "id": "401468db",
   "metadata": {},
   "outputs": [],
   "source": [
    "metadata.set_primary_key(\n",
    "    column_name='hadm_id'\n",
    ")"
   ]
  },
  {
   "cell_type": "code",
   "execution_count": 143,
   "id": "3cbefb65",
   "metadata": {},
   "outputs": [],
   "source": [
    "metadata.save_to_json(filepath='C:\\\\Users\\\\shrus\\\\Documents\\\\Synthetic-data-generation\\\\metadata\\\\admissions\\\\admissions_metadata.json')"
   ]
  },
  {
   "cell_type": "code",
   "execution_count": 144,
   "id": "0226d8a1",
   "metadata": {},
   "outputs": [],
   "source": [
    "data=admissions_df"
   ]
  },
  {
   "cell_type": "code",
   "execution_count": 145,
   "id": "3037505d",
   "metadata": {},
   "outputs": [],
   "source": [
    "from sdv.lite import SingleTablePreset\n",
    "\n",
    "synthesizer1 = SingleTablePreset(metadata, name='FAST_ML')\n",
    "synthesizer1.fit(data)\n",
    "\n",
    "synthetic_data1 = synthesizer1.sample(num_rows=100)"
   ]
  },
  {
   "cell_type": "code",
   "execution_count": 146,
   "id": "9375c039",
   "metadata": {},
   "outputs": [
    {
     "data": {
      "text/html": [
       "<div>\n",
       "<style scoped>\n",
       "    .dataframe tbody tr th:only-of-type {\n",
       "        vertical-align: middle;\n",
       "    }\n",
       "\n",
       "    .dataframe tbody tr th {\n",
       "        vertical-align: top;\n",
       "    }\n",
       "\n",
       "    .dataframe thead th {\n",
       "        text-align: right;\n",
       "    }\n",
       "</style>\n",
       "<table border=\"1\" class=\"dataframe\">\n",
       "  <thead>\n",
       "    <tr style=\"text-align: right;\">\n",
       "      <th></th>\n",
       "      <th>hadm_id</th>\n",
       "      <th>admittime</th>\n",
       "      <th>dischtime</th>\n",
       "      <th>deathtime</th>\n",
       "      <th>admission_type</th>\n",
       "      <th>admission_location</th>\n",
       "      <th>discharge_location</th>\n",
       "      <th>insurance</th>\n",
       "      <th>language</th>\n",
       "      <th>religion</th>\n",
       "      <th>marital_status</th>\n",
       "      <th>ethnicity</th>\n",
       "      <th>edregtime</th>\n",
       "      <th>edouttime</th>\n",
       "      <th>has_chartevents_data</th>\n",
       "    </tr>\n",
       "  </thead>\n",
       "  <tbody>\n",
       "    <tr>\n",
       "      <th>0</th>\n",
       "      <td>0</td>\n",
       "      <td>2168-01-18 22:54:05</td>\n",
       "      <td>2168-01-05 10:06:01</td>\n",
       "      <td>NaN</td>\n",
       "      <td>EMERGENCY</td>\n",
       "      <td>EMERGENCY ROOM ADMIT</td>\n",
       "      <td>HOME HEALTH CARE</td>\n",
       "      <td>Private</td>\n",
       "      <td>ENGL</td>\n",
       "      <td>UNOBTAINABLE</td>\n",
       "      <td>SINGLE</td>\n",
       "      <td>WHITE</td>\n",
       "      <td>2166-02-10 16:50:33</td>\n",
       "      <td>2166-02-14 04:09:38</td>\n",
       "      <td>1</td>\n",
       "    </tr>\n",
       "    <tr>\n",
       "      <th>1</th>\n",
       "      <td>1</td>\n",
       "      <td>2113-03-11 08:17:24</td>\n",
       "      <td>2113-03-24 02:01:29</td>\n",
       "      <td>NaN</td>\n",
       "      <td>EMERGENCY</td>\n",
       "      <td>CLINIC REFERRAL/PREMATURE</td>\n",
       "      <td>SNF</td>\n",
       "      <td>Private</td>\n",
       "      <td>NaN</td>\n",
       "      <td>CATHOLIC</td>\n",
       "      <td>MARRIED</td>\n",
       "      <td>WHITE</td>\n",
       "      <td>NaT</td>\n",
       "      <td>2140-03-16 05:12:12</td>\n",
       "      <td>1</td>\n",
       "    </tr>\n",
       "    <tr>\n",
       "      <th>2</th>\n",
       "      <td>2</td>\n",
       "      <td>2138-03-13 12:41:41</td>\n",
       "      <td>2138-04-03 16:50:43</td>\n",
       "      <td>NaN</td>\n",
       "      <td>EMERGENCY</td>\n",
       "      <td>CLINIC REFERRAL/PREMATURE</td>\n",
       "      <td>DISC-TRAN CANCER/CHLDRN H</td>\n",
       "      <td>Medicare</td>\n",
       "      <td>ENGL</td>\n",
       "      <td>CATHOLIC</td>\n",
       "      <td>SINGLE</td>\n",
       "      <td>WHITE</td>\n",
       "      <td>2156-12-12 13:56:27</td>\n",
       "      <td>NaT</td>\n",
       "      <td>1</td>\n",
       "    </tr>\n",
       "    <tr>\n",
       "      <th>3</th>\n",
       "      <td>3</td>\n",
       "      <td>2132-04-19 10:50:36</td>\n",
       "      <td>2132-04-28 02:03:31</td>\n",
       "      <td>NaN</td>\n",
       "      <td>NEWBORN</td>\n",
       "      <td>PHYS REFERRAL/NORMAL DELI</td>\n",
       "      <td>HOME</td>\n",
       "      <td>Private</td>\n",
       "      <td>NaN</td>\n",
       "      <td>PROTESTANT QUAKER</td>\n",
       "      <td>SINGLE</td>\n",
       "      <td>WHITE</td>\n",
       "      <td>2137-03-24 04:00:18</td>\n",
       "      <td>NaT</td>\n",
       "      <td>1</td>\n",
       "    </tr>\n",
       "    <tr>\n",
       "      <th>4</th>\n",
       "      <td>4</td>\n",
       "      <td>2115-01-12 14:32:56</td>\n",
       "      <td>2115-01-31 00:38:27</td>\n",
       "      <td>NaN</td>\n",
       "      <td>EMERGENCY</td>\n",
       "      <td>EMERGENCY ROOM ADMIT</td>\n",
       "      <td>HOME HEALTH CARE</td>\n",
       "      <td>Medicare</td>\n",
       "      <td>NaN</td>\n",
       "      <td>CATHOLIC</td>\n",
       "      <td>WIDOWED</td>\n",
       "      <td>WHITE</td>\n",
       "      <td>2135-12-15 14:03:03</td>\n",
       "      <td>NaT</td>\n",
       "      <td>1</td>\n",
       "    </tr>\n",
       "    <tr>\n",
       "      <th>...</th>\n",
       "      <td>...</td>\n",
       "      <td>...</td>\n",
       "      <td>...</td>\n",
       "      <td>...</td>\n",
       "      <td>...</td>\n",
       "      <td>...</td>\n",
       "      <td>...</td>\n",
       "      <td>...</td>\n",
       "      <td>...</td>\n",
       "      <td>...</td>\n",
       "      <td>...</td>\n",
       "      <td>...</td>\n",
       "      <td>...</td>\n",
       "      <td>...</td>\n",
       "      <td>...</td>\n",
       "    </tr>\n",
       "    <tr>\n",
       "      <th>95</th>\n",
       "      <td>95</td>\n",
       "      <td>2145-06-09 19:44:36</td>\n",
       "      <td>2145-06-06 01:19:28</td>\n",
       "      <td>NaN</td>\n",
       "      <td>URGENT</td>\n",
       "      <td>EMERGENCY ROOM ADMIT</td>\n",
       "      <td>HOME</td>\n",
       "      <td>Medicare</td>\n",
       "      <td>NaN</td>\n",
       "      <td>UNOBTAINABLE</td>\n",
       "      <td>SINGLE</td>\n",
       "      <td>WHITE</td>\n",
       "      <td>2154-02-14 14:49:30</td>\n",
       "      <td>2154-02-20 18:11:34</td>\n",
       "      <td>1</td>\n",
       "    </tr>\n",
       "    <tr>\n",
       "      <th>96</th>\n",
       "      <td>96</td>\n",
       "      <td>2105-10-08 17:58:50</td>\n",
       "      <td>2105-10-19 13:05:19</td>\n",
       "      <td>NaN</td>\n",
       "      <td>EMERGENCY</td>\n",
       "      <td>PHYS REFERRAL/NORMAL DELI</td>\n",
       "      <td>HOME HEALTH CARE</td>\n",
       "      <td>Medicare</td>\n",
       "      <td>ENGL</td>\n",
       "      <td>CATHOLIC</td>\n",
       "      <td>SINGLE</td>\n",
       "      <td>WHITE</td>\n",
       "      <td>NaT</td>\n",
       "      <td>NaT</td>\n",
       "      <td>1</td>\n",
       "    </tr>\n",
       "    <tr>\n",
       "      <th>97</th>\n",
       "      <td>97</td>\n",
       "      <td>2154-03-24 10:47:46</td>\n",
       "      <td>2154-04-10 09:33:41</td>\n",
       "      <td>NaN</td>\n",
       "      <td>EMERGENCY</td>\n",
       "      <td>EMERGENCY ROOM ADMIT</td>\n",
       "      <td>HOME</td>\n",
       "      <td>Medicare</td>\n",
       "      <td>NaN</td>\n",
       "      <td>CATHOLIC</td>\n",
       "      <td>NaN</td>\n",
       "      <td>WHITE</td>\n",
       "      <td>NaT</td>\n",
       "      <td>NaT</td>\n",
       "      <td>1</td>\n",
       "    </tr>\n",
       "    <tr>\n",
       "      <th>98</th>\n",
       "      <td>98</td>\n",
       "      <td>2152-08-10 03:08:51</td>\n",
       "      <td>2152-09-05 13:47:25</td>\n",
       "      <td>NaN</td>\n",
       "      <td>EMERGENCY</td>\n",
       "      <td>EMERGENCY ROOM ADMIT</td>\n",
       "      <td>HOME</td>\n",
       "      <td>Private</td>\n",
       "      <td>ENGL</td>\n",
       "      <td>CATHOLIC</td>\n",
       "      <td>MARRIED</td>\n",
       "      <td>WHITE</td>\n",
       "      <td>2183-03-27 08:56:18</td>\n",
       "      <td>2183-03-28 06:13:02</td>\n",
       "      <td>1</td>\n",
       "    </tr>\n",
       "    <tr>\n",
       "      <th>99</th>\n",
       "      <td>99</td>\n",
       "      <td>2179-02-04 16:04:37</td>\n",
       "      <td>2179-02-09 07:35:02</td>\n",
       "      <td>NaN</td>\n",
       "      <td>EMERGENCY</td>\n",
       "      <td>CLINIC REFERRAL/PREMATURE</td>\n",
       "      <td>HOME HEALTH CARE</td>\n",
       "      <td>Private</td>\n",
       "      <td>ENGL</td>\n",
       "      <td>UNOBTAINABLE</td>\n",
       "      <td>NaN</td>\n",
       "      <td>WHITE</td>\n",
       "      <td>2187-05-01 10:50:11</td>\n",
       "      <td>2187-04-20 16:37:23</td>\n",
       "      <td>1</td>\n",
       "    </tr>\n",
       "  </tbody>\n",
       "</table>\n",
       "<p>100 rows × 15 columns</p>\n",
       "</div>"
      ],
      "text/plain": [
       "    hadm_id           admittime           dischtime  deathtime admission_type  \\\n",
       "0         0 2168-01-18 22:54:05 2168-01-05 10:06:01        NaN      EMERGENCY   \n",
       "1         1 2113-03-11 08:17:24 2113-03-24 02:01:29        NaN      EMERGENCY   \n",
       "2         2 2138-03-13 12:41:41 2138-04-03 16:50:43        NaN      EMERGENCY   \n",
       "3         3 2132-04-19 10:50:36 2132-04-28 02:03:31        NaN        NEWBORN   \n",
       "4         4 2115-01-12 14:32:56 2115-01-31 00:38:27        NaN      EMERGENCY   \n",
       "..      ...                 ...                 ...        ...            ...   \n",
       "95       95 2145-06-09 19:44:36 2145-06-06 01:19:28        NaN         URGENT   \n",
       "96       96 2105-10-08 17:58:50 2105-10-19 13:05:19        NaN      EMERGENCY   \n",
       "97       97 2154-03-24 10:47:46 2154-04-10 09:33:41        NaN      EMERGENCY   \n",
       "98       98 2152-08-10 03:08:51 2152-09-05 13:47:25        NaN      EMERGENCY   \n",
       "99       99 2179-02-04 16:04:37 2179-02-09 07:35:02        NaN      EMERGENCY   \n",
       "\n",
       "           admission_location         discharge_location insurance language  \\\n",
       "0        EMERGENCY ROOM ADMIT           HOME HEALTH CARE   Private     ENGL   \n",
       "1   CLINIC REFERRAL/PREMATURE                        SNF   Private      NaN   \n",
       "2   CLINIC REFERRAL/PREMATURE  DISC-TRAN CANCER/CHLDRN H  Medicare     ENGL   \n",
       "3   PHYS REFERRAL/NORMAL DELI                       HOME   Private      NaN   \n",
       "4        EMERGENCY ROOM ADMIT           HOME HEALTH CARE  Medicare      NaN   \n",
       "..                        ...                        ...       ...      ...   \n",
       "95       EMERGENCY ROOM ADMIT                       HOME  Medicare      NaN   \n",
       "96  PHYS REFERRAL/NORMAL DELI           HOME HEALTH CARE  Medicare     ENGL   \n",
       "97       EMERGENCY ROOM ADMIT                       HOME  Medicare      NaN   \n",
       "98       EMERGENCY ROOM ADMIT                       HOME   Private     ENGL   \n",
       "99  CLINIC REFERRAL/PREMATURE           HOME HEALTH CARE   Private     ENGL   \n",
       "\n",
       "             religion marital_status ethnicity           edregtime  \\\n",
       "0        UNOBTAINABLE         SINGLE     WHITE 2166-02-10 16:50:33   \n",
       "1            CATHOLIC        MARRIED     WHITE                 NaT   \n",
       "2            CATHOLIC         SINGLE     WHITE 2156-12-12 13:56:27   \n",
       "3   PROTESTANT QUAKER         SINGLE     WHITE 2137-03-24 04:00:18   \n",
       "4            CATHOLIC        WIDOWED     WHITE 2135-12-15 14:03:03   \n",
       "..                ...            ...       ...                 ...   \n",
       "95       UNOBTAINABLE         SINGLE     WHITE 2154-02-14 14:49:30   \n",
       "96           CATHOLIC         SINGLE     WHITE                 NaT   \n",
       "97           CATHOLIC            NaN     WHITE                 NaT   \n",
       "98           CATHOLIC        MARRIED     WHITE 2183-03-27 08:56:18   \n",
       "99       UNOBTAINABLE            NaN     WHITE 2187-05-01 10:50:11   \n",
       "\n",
       "             edouttime  has_chartevents_data  \n",
       "0  2166-02-14 04:09:38                     1  \n",
       "1  2140-03-16 05:12:12                     1  \n",
       "2                  NaT                     1  \n",
       "3                  NaT                     1  \n",
       "4                  NaT                     1  \n",
       "..                 ...                   ...  \n",
       "95 2154-02-20 18:11:34                     1  \n",
       "96                 NaT                     1  \n",
       "97                 NaT                     1  \n",
       "98 2183-03-28 06:13:02                     1  \n",
       "99 2187-04-20 16:37:23                     1  \n",
       "\n",
       "[100 rows x 15 columns]"
      ]
     },
     "execution_count": 146,
     "metadata": {},
     "output_type": "execute_result"
    }
   ],
   "source": [
    "synthetic_data1"
   ]
  },
  {
   "cell_type": "code",
   "execution_count": null,
   "id": "c2a6d1f4",
   "metadata": {},
   "outputs": [],
   "source": []
  },
  {
   "cell_type": "code",
   "execution_count": null,
   "id": "5f4c80f7",
   "metadata": {},
   "outputs": [],
   "source": []
  },
  {
   "cell_type": "code",
   "execution_count": null,
   "id": "a94dd98b",
   "metadata": {},
   "outputs": [],
   "source": []
  }
 ],
 "metadata": {
  "kernelspec": {
   "display_name": "Python 3 (ipykernel)",
   "language": "python",
   "name": "python3"
  },
  "language_info": {
   "codemirror_mode": {
    "name": "ipython",
    "version": 3
   },
   "file_extension": ".py",
   "mimetype": "text/x-python",
   "name": "python",
   "nbconvert_exporter": "python",
   "pygments_lexer": "ipython3",
   "version": "3.10.9"
  }
 },
 "nbformat": 4,
 "nbformat_minor": 5
}
