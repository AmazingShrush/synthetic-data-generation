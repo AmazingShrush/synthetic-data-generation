{
 "cells": [
  {
   "cell_type": "code",
   "execution_count": 1,
   "metadata": {
    "executionInfo": {
     "elapsed": 411,
     "status": "ok",
     "timestamp": 1658454412729,
     "user": {
      "displayName": "Alaskyed Ala",
      "userId": "06306570059054139627"
     },
     "user_tz": -60
    },
    "id": "upK_sL9XI1Qz"
   },
   "outputs": [],
   "source": [
    "# from google.colab import drive\n",
    "# drive.mount('/content/drive')"
   ]
  },
  {
   "cell_type": "code",
   "execution_count": 2,
   "metadata": {
    "executionInfo": {
     "elapsed": 5,
     "status": "ok",
     "timestamp": 1658454413101,
     "user": {
      "displayName": "Alaskyed Ala",
      "userId": "06306570059054139627"
     },
     "user_tz": -60
    },
    "id": "DBpu5iKQLAMS"
   },
   "outputs": [],
   "source": [
    "# ! pip install sdv"
   ]
  },
  {
   "cell_type": "code",
   "execution_count": 3,
   "metadata": {
    "executionInfo": {
     "elapsed": 6,
     "status": "ok",
     "timestamp": 1658454413102,
     "user": {
      "displayName": "Alaskyed Ala",
      "userId": "06306570059054139627"
     },
     "user_tz": -60
    },
    "id": "riQqBBwHLHwB"
   },
   "outputs": [],
   "source": [
    "# Ignore warnings\n",
    "import warnings\n",
    "warnings.filterwarnings(\"ignore\")"
   ]
  },
  {
   "cell_type": "code",
   "execution_count": 4,
   "metadata": {
    "executionInfo": {
     "elapsed": 227,
     "status": "ok",
     "timestamp": 1658454413324,
     "user": {
      "displayName": "Alaskyed Ala",
      "userId": "06306570059054139627"
     },
     "user_tz": -60
    },
    "id": "8CD0CH1VQydX"
   },
   "outputs": [],
   "source": [
    "import pandas as pd\n",
    "import numpy as np\n",
    "\n",
    "import commonfunc"
   ]
  },
  {
   "cell_type": "code",
   "execution_count": 5,
   "metadata": {
    "executionInfo": {
     "elapsed": 4,
     "status": "ok",
     "timestamp": 1658454413628,
     "user": {
      "displayName": "Alaskyed Ala",
      "userId": "06306570059054139627"
     },
     "user_tz": -60
    },
    "id": "qqDlksJ2Q0X3"
   },
   "outputs": [],
   "source": [
    "data_set_path = \"./sampled_data_csv_100/\""
   ]
  },
  {
   "cell_type": "markdown",
   "metadata": {},
   "source": [
    "# Microbiologyevents"
   ]
  },
  {
   "cell_type": "markdown",
   "metadata": {},
   "source": [
    "## Data Process"
   ]
  },
  {
   "cell_type": "markdown",
   "metadata": {},
   "source": [
    "### Read samples"
   ]
  },
  {
   "cell_type": "code",
   "execution_count": 6,
   "metadata": {
    "executionInfo": {
     "elapsed": 1351,
     "status": "ok",
     "timestamp": 1658454414975,
     "user": {
      "displayName": "Alaskyed Ala",
      "userId": "06306570059054139627"
     },
     "user_tz": -60
    },
    "id": "vDPDkdoKQ1m5"
   },
   "outputs": [],
   "source": [
    "microbiologyevents_df = commonfunc.read_csv_no_rowid(data_set_path + \"microbiologyevents.csv\")"
   ]
  },
  {
   "cell_type": "code",
   "execution_count": 7,
   "metadata": {
    "colab": {
     "base_uri": "https://localhost:8080/",
     "height": 473
    },
    "executionInfo": {
     "elapsed": 22,
     "status": "ok",
     "timestamp": 1658454414980,
     "user": {
      "displayName": "Alaskyed Ala",
      "userId": "06306570059054139627"
     },
     "user_tz": -60
    },
    "id": "zAk7v9CcS_ga",
    "outputId": "b7df18a1-38af-4134-c8f2-97b23cc7c195"
   },
   "outputs": [
    {
     "data": {
      "text/html": [
       "<div>\n",
       "<style scoped>\n",
       "    .dataframe tbody tr th:only-of-type {\n",
       "        vertical-align: middle;\n",
       "    }\n",
       "\n",
       "    .dataframe tbody tr th {\n",
       "        vertical-align: top;\n",
       "    }\n",
       "\n",
       "    .dataframe thead th {\n",
       "        text-align: right;\n",
       "    }\n",
       "</style>\n",
       "<table border=\"1\" class=\"dataframe\">\n",
       "  <thead>\n",
       "    <tr style=\"text-align: right;\">\n",
       "      <th></th>\n",
       "      <th>subject_id</th>\n",
       "      <th>hadm_id</th>\n",
       "      <th>chartdate</th>\n",
       "      <th>charttime</th>\n",
       "      <th>spec_itemid</th>\n",
       "      <th>spec_type_desc</th>\n",
       "      <th>org_itemid</th>\n",
       "      <th>org_name</th>\n",
       "      <th>isolate_num</th>\n",
       "      <th>ab_itemid</th>\n",
       "      <th>ab_name</th>\n",
       "      <th>dilution_text</th>\n",
       "      <th>dilution_comparison</th>\n",
       "      <th>dilution_value</th>\n",
       "      <th>interpretation</th>\n",
       "    </tr>\n",
       "  </thead>\n",
       "  <tbody>\n",
       "    <tr>\n",
       "      <th>0</th>\n",
       "      <td>87197</td>\n",
       "      <td>176931</td>\n",
       "      <td>2109-11-16</td>\n",
       "      <td>2109-11-16 08:45:00</td>\n",
       "      <td>70012</td>\n",
       "      <td>BLOOD CULTURE</td>\n",
       "      <td>NaN</td>\n",
       "      <td>NaN</td>\n",
       "      <td>NaN</td>\n",
       "      <td>NaN</td>\n",
       "      <td>NaN</td>\n",
       "      <td>NaN</td>\n",
       "      <td>NaN</td>\n",
       "      <td>NaN</td>\n",
       "      <td>NaN</td>\n",
       "    </tr>\n",
       "    <tr>\n",
       "      <th>1</th>\n",
       "      <td>87197</td>\n",
       "      <td>176931</td>\n",
       "      <td>2109-11-16</td>\n",
       "      <td>2109-11-16 09:00:00</td>\n",
       "      <td>70012</td>\n",
       "      <td>BLOOD CULTURE</td>\n",
       "      <td>NaN</td>\n",
       "      <td>NaN</td>\n",
       "      <td>NaN</td>\n",
       "      <td>NaN</td>\n",
       "      <td>NaN</td>\n",
       "      <td>NaN</td>\n",
       "      <td>NaN</td>\n",
       "      <td>NaN</td>\n",
       "      <td>NaN</td>\n",
       "    </tr>\n",
       "    <tr>\n",
       "      <th>2</th>\n",
       "      <td>87197</td>\n",
       "      <td>176931</td>\n",
       "      <td>2109-11-16</td>\n",
       "      <td>2109-11-16 23:01:00</td>\n",
       "      <td>70079</td>\n",
       "      <td>URINE</td>\n",
       "      <td>NaN</td>\n",
       "      <td>NaN</td>\n",
       "      <td>NaN</td>\n",
       "      <td>NaN</td>\n",
       "      <td>NaN</td>\n",
       "      <td>NaN</td>\n",
       "      <td>NaN</td>\n",
       "      <td>NaN</td>\n",
       "      <td>NaN</td>\n",
       "    </tr>\n",
       "    <tr>\n",
       "      <th>3</th>\n",
       "      <td>87197</td>\n",
       "      <td>176931</td>\n",
       "      <td>2109-11-16</td>\n",
       "      <td>2109-11-16 23:01:00</td>\n",
       "      <td>70012</td>\n",
       "      <td>BLOOD CULTURE</td>\n",
       "      <td>NaN</td>\n",
       "      <td>NaN</td>\n",
       "      <td>NaN</td>\n",
       "      <td>NaN</td>\n",
       "      <td>NaN</td>\n",
       "      <td>NaN</td>\n",
       "      <td>NaN</td>\n",
       "      <td>NaN</td>\n",
       "      <td>NaN</td>\n",
       "    </tr>\n",
       "    <tr>\n",
       "      <th>4</th>\n",
       "      <td>87197</td>\n",
       "      <td>176931</td>\n",
       "      <td>2109-11-16</td>\n",
       "      <td>2109-11-16 23:01:00</td>\n",
       "      <td>70012</td>\n",
       "      <td>BLOOD CULTURE</td>\n",
       "      <td>NaN</td>\n",
       "      <td>NaN</td>\n",
       "      <td>NaN</td>\n",
       "      <td>NaN</td>\n",
       "      <td>NaN</td>\n",
       "      <td>NaN</td>\n",
       "      <td>NaN</td>\n",
       "      <td>NaN</td>\n",
       "      <td>NaN</td>\n",
       "    </tr>\n",
       "  </tbody>\n",
       "</table>\n",
       "</div>"
      ],
      "text/plain": [
       "   subject_id  hadm_id   chartdate            charttime  spec_itemid  \\\n",
       "0       87197   176931  2109-11-16  2109-11-16 08:45:00        70012   \n",
       "1       87197   176931  2109-11-16  2109-11-16 09:00:00        70012   \n",
       "2       87197   176931  2109-11-16  2109-11-16 23:01:00        70079   \n",
       "3       87197   176931  2109-11-16  2109-11-16 23:01:00        70012   \n",
       "4       87197   176931  2109-11-16  2109-11-16 23:01:00        70012   \n",
       "\n",
       "  spec_type_desc  org_itemid org_name  isolate_num  ab_itemid ab_name  \\\n",
       "0  BLOOD CULTURE         NaN      NaN          NaN        NaN     NaN   \n",
       "1  BLOOD CULTURE         NaN      NaN          NaN        NaN     NaN   \n",
       "2          URINE         NaN      NaN          NaN        NaN     NaN   \n",
       "3  BLOOD CULTURE         NaN      NaN          NaN        NaN     NaN   \n",
       "4  BLOOD CULTURE         NaN      NaN          NaN        NaN     NaN   \n",
       "\n",
       "  dilution_text dilution_comparison  dilution_value interpretation  \n",
       "0           NaN                 NaN             NaN            NaN  \n",
       "1           NaN                 NaN             NaN            NaN  \n",
       "2           NaN                 NaN             NaN            NaN  \n",
       "3           NaN                 NaN             NaN            NaN  \n",
       "4           NaN                 NaN             NaN            NaN  "
      ]
     },
     "execution_count": 7,
     "metadata": {},
     "output_type": "execute_result"
    }
   ],
   "source": [
    "microbiologyevents_df.head()"
   ]
  },
  {
   "cell_type": "markdown",
   "metadata": {},
   "source": [
    "### Data preproces"
   ]
  },
  {
   "cell_type": "code",
   "execution_count": 8,
   "metadata": {},
   "outputs": [],
   "source": [
    "# Drop some columns. This cell must be below of Deal with null values\n",
    "microbiologyevents_df.drop(['chartdate'], axis=1, inplace=True)"
   ]
  },
  {
   "cell_type": "markdown",
   "metadata": {},
   "source": [
    "#### Deal with missing values"
   ]
  },
  {
   "cell_type": "code",
   "execution_count": 10,
   "metadata": {
    "colab": {
     "base_uri": "https://localhost:8080/"
    },
    "executionInfo": {
     "elapsed": 434,
     "status": "ok",
     "timestamp": 1658454415397,
     "user": {
      "displayName": "Alaskyed Ala",
      "userId": "06306570059054139627"
     },
     "user_tz": -60
    },
    "id": "2pUhpV4dVCp9",
    "outputId": "cdbb0782-7125-405d-bdd3-2a4ab7c9ccd9"
   },
   "outputs": [
    {
     "name": "stdout",
     "output_type": "stream",
     "text": [
      "Total columns: 14\n",
      "Total rows: 1519\n",
      "--------------\n",
      "subject_id               0\n",
      "hadm_id                  0\n",
      "charttime              171\n",
      "spec_itemid              0\n",
      "spec_type_desc           0\n",
      "org_itemid             753\n",
      "org_name               753\n",
      "isolate_num            753\n",
      "ab_itemid              865\n",
      "ab_name                865\n",
      "dilution_text          872\n",
      "dilution_comparison    872\n",
      "dilution_value         872\n",
      "interpretation         865\n",
      "dtype: int64\n"
     ]
    }
   ],
   "source": [
    "commonfunc.nan_count(microbiologyevents_df)"
   ]
  },
  {
   "cell_type": "code",
   "execution_count": 11,
   "metadata": {
    "executionInfo": {
     "elapsed": 19,
     "status": "ok",
     "timestamp": 1658454414981,
     "user": {
      "displayName": "Alaskyed Ala",
      "userId": "06306570059054139627"
     },
     "user_tz": -60
    },
    "id": "oH3Kxer8VYCv"
   },
   "outputs": [],
   "source": [
    "# Drop some null value\n",
    "microbiologyevents_df.dropna(subset=['subject_id', 'hadm_id', 'spec_itemid', 'charttime'], inplace=True, axis=0)"
   ]
  },
  {
   "cell_type": "code",
   "execution_count": 13,
   "metadata": {},
   "outputs": [
    {
     "name": "stdout",
     "output_type": "stream",
     "text": [
      "Total columns: 14\n",
      "Total rows: 1348\n",
      "--------------\n",
      "subject_id               0\n",
      "hadm_id                  0\n",
      "charttime                0\n",
      "spec_itemid              0\n",
      "spec_type_desc           0\n",
      "org_itemid             702\n",
      "org_name               702\n",
      "isolate_num            702\n",
      "ab_itemid              798\n",
      "ab_name                798\n",
      "dilution_text          805\n",
      "dilution_comparison    805\n",
      "dilution_value         805\n",
      "interpretation         798\n",
      "dtype: int64\n"
     ]
    }
   ],
   "source": [
    "commonfunc.nan_count(microbiologyevents_df)"
   ]
  },
  {
   "cell_type": "code",
   "execution_count": 14,
   "metadata": {
    "executionInfo": {
     "elapsed": 10,
     "status": "ok",
     "timestamp": 1658454415398,
     "user": {
      "displayName": "Alaskyed Ala",
      "userId": "06306570059054139627"
     },
     "user_tz": -60
    },
    "id": "ZDNuqs-scQuB"
   },
   "outputs": [],
   "source": [
    "# # Deal with null values\n",
    "# microbiologyevents_df['charttime'].fillna(microbiologyevents_df['chartdate'], inplace=True)\n",
    "\n",
    "# microbiologyevents_df['org_itemid'].fillna(value=0, inplace=True)\n",
    "# microbiologyevents_df['isolate_num'].fillna(value=0, inplace=True)\n",
    "# microbiologyevents_df['ab_itemid'].fillna(value=0, inplace=True)\n",
    "\n",
    "# microbiologyevents_df['org_name'].fillna(value='Na', inplace=True)\n",
    "# microbiologyevents_df['ab_name'].fillna(value='Na', inplace=True)\n",
    "# microbiologyevents_df['dilution_comparison'].fillna(value='Na', inplace=True)\n",
    "# microbiologyevents_df['org_name'].fillna(value='Na', inplace=True)\n",
    "\n",
    "# microbiologyevents_df['dilution_value'].fillna(value=999, inplace=True)"
   ]
  },
  {
   "cell_type": "markdown",
   "metadata": {},
   "source": [
    "#### Deal with missing values"
   ]
  },
  {
   "cell_type": "code",
   "execution_count": 15,
   "metadata": {},
   "outputs": [
    {
     "data": {
      "text/plain": [
       "subject_id               int64\n",
       "hadm_id                  int64\n",
       "charttime               object\n",
       "spec_itemid              int64\n",
       "spec_type_desc          object\n",
       "org_itemid             float64\n",
       "org_name                object\n",
       "isolate_num            float64\n",
       "ab_itemid              float64\n",
       "ab_name                 object\n",
       "dilution_text           object\n",
       "dilution_comparison     object\n",
       "dilution_value         float64\n",
       "interpretation          object\n",
       "dtype: object"
      ]
     },
     "execution_count": 15,
     "metadata": {},
     "output_type": "execute_result"
    }
   ],
   "source": [
    "microbiologyevents_df.dtypes"
   ]
  },
  {
   "cell_type": "code",
   "execution_count": 16,
   "metadata": {
    "executionInfo": {
     "elapsed": 9,
     "status": "ok",
     "timestamp": 1658454415398,
     "user": {
      "displayName": "Alaskyed Ala",
      "userId": "06306570059054139627"
     },
     "user_tz": -60
    },
    "id": "NoxlyD4cVQZP"
   },
   "outputs": [],
   "source": [
    "microbiologyevents_df['charttime'] = pd.to_datetime(microbiologyevents_df['charttime'])\n",
    "# microbiologyevents_df['spec_itemid'] = microbiologyevents_df['spec_itemid'].astype(int)\n",
    "# microbiologyevents_df['org_itemid'] = microbiologyevents_df['org_itemid'].astype(int)\n",
    "# microbiologyevents_df['isolate_num'] = microbiologyevents_df['isolate_num'].astype(int)\n",
    "# microbiologyevents_df['ab_itemid'] = microbiologyevents_df['ab_itemid'].astype(int)"
   ]
  },
  {
   "cell_type": "code",
   "execution_count": 17,
   "metadata": {
    "colab": {
     "base_uri": "https://localhost:8080/"
    },
    "executionInfo": {
     "elapsed": 8,
     "status": "ok",
     "timestamp": 1658454415398,
     "user": {
      "displayName": "Alaskyed Ala",
      "userId": "06306570059054139627"
     },
     "user_tz": -60
    },
    "id": "inHMaY8vVbIc",
    "outputId": "b0e858c1-8cc1-45af-b417-dedaae345d8f"
   },
   "outputs": [
    {
     "data": {
      "text/plain": [
       "subject_id                      int64\n",
       "hadm_id                         int64\n",
       "charttime              datetime64[ns]\n",
       "spec_itemid                     int64\n",
       "spec_type_desc                 object\n",
       "org_itemid                    float64\n",
       "org_name                       object\n",
       "isolate_num                   float64\n",
       "ab_itemid                     float64\n",
       "ab_name                        object\n",
       "dilution_text                  object\n",
       "dilution_comparison            object\n",
       "dilution_value                float64\n",
       "interpretation                 object\n",
       "dtype: object"
      ]
     },
     "execution_count": 17,
     "metadata": {},
     "output_type": "execute_result"
    }
   ],
   "source": [
    "microbiologyevents_df.dtypes"
   ]
  },
  {
   "cell_type": "code",
   "execution_count": 18,
   "metadata": {
    "colab": {
     "base_uri": "https://localhost:8080/"
    },
    "executionInfo": {
     "elapsed": 7,
     "status": "ok",
     "timestamp": 1658454415399,
     "user": {
      "displayName": "Alaskyed Ala",
      "userId": "06306570059054139627"
     },
     "user_tz": -60
    },
    "id": "ZPdURTlnTUps",
    "outputId": "44ae8d04-a56d-461b-b2a1-e62021413f2d"
   },
   "outputs": [
    {
     "data": {
      "text/plain": [
       "Index(['subject_id', 'hadm_id', 'charttime', 'spec_itemid', 'spec_type_desc',\n",
       "       'org_itemid', 'org_name', 'isolate_num', 'ab_itemid', 'ab_name',\n",
       "       'dilution_text', 'dilution_comparison', 'dilution_value',\n",
       "       'interpretation'],\n",
       "      dtype='object')"
      ]
     },
     "execution_count": 18,
     "metadata": {},
     "output_type": "execute_result"
    }
   ],
   "source": [
    "microbiologyevents_df.columns"
   ]
  },
  {
   "cell_type": "markdown",
   "metadata": {
    "id": "XbhPp2VtUIX4"
   },
   "source": [
    "---"
   ]
  },
  {
   "cell_type": "markdown",
   "metadata": {
    "id": "embt2rG-UJWy"
   },
   "source": [
    "## Build model"
   ]
  },
  {
   "cell_type": "markdown",
   "metadata": {},
   "source": [
    "### Set constraints"
   ]
  },
  {
   "cell_type": "code",
   "execution_count": 19,
   "metadata": {
    "executionInfo": {
     "elapsed": 7,
     "status": "ok",
     "timestamp": 1658454417661,
     "user": {
      "displayName": "Alaskyed Ala",
      "userId": "06306570059054139627"
     },
     "user_tz": -60
    },
    "id": "VT9X_YvDt2ZJ"
   },
   "outputs": [],
   "source": [
    "from sdv.constraints import FixedCombinations\n",
    "\n",
    "fixed_org_itemid_org_name_constraint = FixedCombinations(\n",
    "    column_names=['org_itemid', 'org_name']\n",
    ")\n",
    "fixed_itemid_value_valueuom_constraint = FixedCombinations(\n",
    "    column_names=['spec_itemid', 'spec_type_desc']\n",
    ")\n",
    "fixed_dilution_constraint = FixedCombinations(\n",
    "    column_names=['ab_itemid', 'ab_name', 'dilution_text', 'dilution_comparison', 'dilution_value']\n",
    ")"
   ]
  },
  {
   "cell_type": "code",
   "execution_count": 20,
   "metadata": {
    "executionInfo": {
     "elapsed": 6,
     "status": "ok",
     "timestamp": 1658454417661,
     "user": {
      "displayName": "Alaskyed Ala",
      "userId": "06306570059054139627"
     },
     "user_tz": -60
    },
    "id": "mWY8TKsWzbMp"
   },
   "outputs": [],
   "source": [
    "constraints = [fixed_org_itemid_org_name_constraint, fixed_itemid_value_valueuom_constraint, fixed_dilution_constraint]"
   ]
  },
  {
   "cell_type": "code",
   "execution_count": null,
   "metadata": {},
   "outputs": [
    {
     "name": "stdout",
     "output_type": "stream",
     "text": [
      "Strat training ...\n",
      "Tabular Preset\n"
     ]
    },
    {
     "name": "stderr",
     "output_type": "stream",
     "text": [
      "Sampling rows: 100%|██████████| 1348/1348 [00:00<00:00, 12917.76it/s]\n"
     ]
    },
    {
     "name": "stdout",
     "output_type": "stream",
     "text": [
      "Gaussian Copula\n"
     ]
    },
    {
     "name": "stderr",
     "output_type": "stream",
     "text": [
      "Sampling rows: 100%|██████████| 1348/1348 [00:00<00:00, 16438.11it/s]\n"
     ]
    },
    {
     "name": "stdout",
     "output_type": "stream",
     "text": [
      "CTGAN\n"
     ]
    }
   ],
   "source": [
    "train_data = microbiologyevents_df\n",
    "best_model = commonfunc.build_model(constraints=constraints, train_data=train_data)"
   ]
  },
  {
   "cell_type": "code",
   "execution_count": 20,
   "metadata": {
    "executionInfo": {
     "elapsed": 4235,
     "status": "ok",
     "timestamp": 1658455048665,
     "user": {
      "displayName": "Alaskyed Ala",
      "userId": "06306570059054139627"
     },
     "user_tz": -60
    },
    "id": "ymn53DS5zvUb"
   },
   "outputs": [],
   "source": [
    "# Save model\n",
    "model_save_path = data_set_path + \"100_models/\" + \"microbiologyevents_model.pkl\"\n",
    "common.save_model(best_model, model_save_path)"
   ]
  },
  {
   "cell_type": "markdown",
   "metadata": {},
   "source": [
    "---\n",
    "\n",
    "## Evaluate data"
   ]
  },
  {
   "cell_type": "markdown",
   "metadata": {},
   "source": [
    "### Generate synthetic data"
   ]
  },
  {
   "cell_type": "code",
   "execution_count": 21,
   "metadata": {},
   "outputs": [],
   "source": [
    "# Load model\n",
    "date_load_path = data_set_path + \"100_models/\" + \"microbiologyevents_model.pkl\"\n",
    "model = common.load_model(date_load_path)"
   ]
  },
  {
   "cell_type": "code",
   "execution_count": 22,
   "metadata": {
    "executionInfo": {
     "elapsed": 2575,
     "status": "ok",
     "timestamp": 1658455051235,
     "user": {
      "displayName": "Alaskyed Ala",
      "userId": "06306570059054139627"
     },
     "user_tz": -60
    },
    "id": "nMSAJ03D1Gui"
   },
   "outputs": [
    {
     "name": "stderr",
     "output_type": "stream",
     "text": [
      "Sampling rows: 100%|██████████| 1781/1781 [00:00<00:00, 27011.20it/s]\n"
     ]
    }
   ],
   "source": [
    "sample = model.sample(num_rows=len(microbiologyevents_df))"
   ]
  },
  {
   "cell_type": "code",
   "execution_count": 23,
   "metadata": {
    "colab": {
     "base_uri": "https://localhost:8080/"
    },
    "executionInfo": {
     "elapsed": 31,
     "status": "ok",
     "timestamp": 1658455051236,
     "user": {
      "displayName": "Alaskyed Ala",
      "userId": "06306570059054139627"
     },
     "user_tz": -60
    },
    "id": "orYxf8T2Q56j",
    "outputId": "7d7fb270-ec9d-4fbf-cb33-bc6a05dc3b5d"
   },
   "outputs": [
    {
     "name": "stdout",
     "output_type": "stream",
     "text": [
      "Total columns: 14\n",
      "Total rows: 1781\n",
      "--------------\n",
      "subject_id               0\n",
      "hadm_id                  0\n",
      "charttime                0\n",
      "spec_itemid              0\n",
      "spec_type_desc           0\n",
      "org_itemid             558\n",
      "org_name               558\n",
      "isolate_num            769\n",
      "ab_itemid              762\n",
      "ab_name                762\n",
      "dilution_text          762\n",
      "dilution_comparison    762\n",
      "dilution_value         762\n",
      "interpretation         778\n",
      "dtype: int64\n"
     ]
    }
   ],
   "source": [
    "common.nan_count(sample)"
   ]
  },
  {
   "cell_type": "markdown",
   "metadata": {},
   "source": [
    "### Evaluation"
   ]
  },
  {
   "cell_type": "code",
   "execution_count": 24,
   "metadata": {},
   "outputs": [],
   "source": [
    "from sdv.evaluation import evaluate"
   ]
  },
  {
   "cell_type": "code",
   "execution_count": 25,
   "metadata": {
    "colab": {
     "base_uri": "https://localhost:8080/"
    },
    "executionInfo": {
     "elapsed": 21,
     "status": "ok",
     "timestamp": 1658455051236,
     "user": {
      "displayName": "Alaskyed Ala",
      "userId": "06306570059054139627"
     },
     "user_tz": -60
    },
    "id": "nvyotlzD96-O",
    "outputId": "6075a6ff-3cd1-41ee-a9c2-5489797e5e6b"
   },
   "outputs": [
    {
     "data": {
      "text/plain": [
       "0.6256477634762229"
      ]
     },
     "execution_count": 25,
     "metadata": {},
     "output_type": "execute_result"
    }
   ],
   "source": [
    "evaluate(sample, train_data, metrics=['ContinuousKLDivergence'])"
   ]
  },
  {
   "cell_type": "code",
   "execution_count": 26,
   "metadata": {
    "colab": {
     "base_uri": "https://localhost:8080/"
    },
    "executionInfo": {
     "elapsed": 15,
     "status": "ok",
     "timestamp": 1658455051237,
     "user": {
      "displayName": "Alaskyed Ala",
      "userId": "06306570059054139627"
     },
     "user_tz": -60
    },
    "id": "JNipkWXo-glR",
    "outputId": "5d3a7bca-4778-4df0-a1ec-d04e01932cf3"
   },
   "outputs": [
    {
     "data": {
      "text/plain": [
       "0.3613061678235406"
      ]
     },
     "execution_count": 26,
     "metadata": {},
     "output_type": "execute_result"
    }
   ],
   "source": [
    "evaluate(sample, train_data, metrics=['DiscreteKLDivergence'])"
   ]
  },
  {
   "cell_type": "code",
   "execution_count": 27,
   "metadata": {},
   "outputs": [
    {
     "data": {
      "text/plain": [
       "0.5702337352126905"
      ]
     },
     "execution_count": 27,
     "metadata": {},
     "output_type": "execute_result"
    }
   ],
   "source": [
    "evaluate(sample, train_data)"
   ]
  },
  {
   "cell_type": "code",
   "execution_count": 28,
   "metadata": {},
   "outputs": [
    {
     "data": {
      "text/plain": [
       "<AxesSubplot:xlabel='spec_itemid', ylabel='spec_type_desc'>"
      ]
     },
     "execution_count": 28,
     "metadata": {},
     "output_type": "execute_result"
    },
    {
     "data": {
      "image/png": "[encoded data removed]",
      "text/plain": [
       "<Figure size 432x288 with 1 Axes>"
      ]
     },
     "metadata": {
      "needs_background": "light"
     },
     "output_type": "display_data"
    }
   ],
   "source": [
    "sample.sort_values('spec_itemid').plot(x='spec_itemid', y='spec_type_desc', kind='scatter')"
   ]
  },
  {
   "cell_type": "code",
   "execution_count": 29,
   "metadata": {},
   "outputs": [
    {
     "data": {
      "text/plain": [
       "<AxesSubplot:xlabel='spec_itemid', ylabel='spec_type_desc'>"
      ]
     },
     "execution_count": 29,
     "metadata": {},
     "output_type": "execute_result"
    },
    {
     "data": {
      "image/png": "[encoded data removed]",
      "text/plain": [
       "<Figure size 432x288 with 1 Axes>"
      ]
     },
     "metadata": {
      "needs_background": "light"
     },
     "output_type": "display_data"
    }
   ],
   "source": [
    "train_data.sort_values('spec_itemid').plot(x='spec_itemid', y='spec_type_desc', kind='scatter')"
   ]
  },
  {
   "cell_type": "code",
   "execution_count": 36,
   "metadata": {},
   "outputs": [
    {
     "data": {
      "text/plain": [
       "<AxesSubplot:>"
      ]
     },
     "execution_count": 36,
     "metadata": {},
     "output_type": "execute_result"
    },
    {
     "data": {
      "image/png": "[encoded data removed]",
      "text/plain": [
       "<Figure size 432x288 with 1 Axes>"
      ]
     },
     "metadata": {
      "needs_background": "light"
     },
     "output_type": "display_data"
    }
   ],
   "source": [
    "sample.sort_values('spec_type_desc')['spec_type_desc'].hist()"
   ]
  },
  {
   "cell_type": "code",
   "execution_count": 31,
   "metadata": {},
   "outputs": [
    {
     "data": {
      "text/plain": [
       "<AxesSubplot:>"
      ]
     },
     "execution_count": 31,
     "metadata": {},
     "output_type": "execute_result"
    },
    {
     "data": {
      "image/png": "[encoded data removed]",
      "text/plain": [
       "<Figure size 432x288 with 1 Axes>"
      ]
     },
     "metadata": {
      "needs_background": "light"
     },
     "output_type": "display_data"
    }
   ],
   "source": [
    "train_data.sort_values('spec_type_desc')['spec_type_desc'].hist()"
   ]
  },
  {
   "cell_type": "code",
   "execution_count": 32,
   "metadata": {
    "executionInfo": {
     "elapsed": 10,
     "status": "ok",
     "timestamp": 1658455051237,
     "user": {
      "displayName": "Alaskyed Ala",
      "userId": "06306570059054139627"
     },
     "user_tz": -60
    },
    "id": "TUU1DYQ--vj7"
   },
   "outputs": [],
   "source": [
    "# evaluate(sample, train_data, aggregate=False)"
   ]
  },
  {
   "cell_type": "code",
   "execution_count": 39,
   "metadata": {},
   "outputs": [
    {
     "data": {
      "text/plain": [
       "<AxesSubplot:>"
      ]
     },
     "execution_count": 39,
     "metadata": {},
     "output_type": "execute_result"
    },
    {
     "data": {
      "image/png": "[encoded data removed]",
      "text/plain": [
       "<Figure size 432x288 with 1 Axes>"
      ]
     },
     "metadata": {
      "needs_background": "light"
     },
     "output_type": "display_data"
    }
   ],
   "source": [
    "train_data.sort_values('spec_itemid')['spec_itemid'].hist()"
   ]
  },
  {
   "cell_type": "code",
   "execution_count": 40,
   "metadata": {},
   "outputs": [
    {
     "data": {
      "text/plain": [
       "<AxesSubplot:>"
      ]
     },
     "execution_count": 40,
     "metadata": {},
     "output_type": "execute_result"
    },
    {
     "data": {
      "image/png": "[encoded data removed]",
      "text/plain": [
       "<Figure size 432x288 with 1 Axes>"
      ]
     },
     "metadata": {
      "needs_background": "light"
     },
     "output_type": "display_data"
    }
   ],
   "source": [
    "sample.sort_values('spec_itemid')['spec_itemid'].hist()"
   ]
  }
 ],
 "metadata": {
  "accelerator": "GPU",
  "colab": {
   "authorship_tag": "ABX9TyPWjeM6Y7vqnrP/k8HwyDCG",
   "collapsed_sections": [],
   "machine_shape": "hm",
   "name": "SDV_outputevents_generation.ipynb",
   "provenance": []
  },
  "gpuClass": "standard",
  "kernelspec": {
   "display_name": "Python 3 (ipykernel)",
   "language": "python",
   "name": "python3"
  },
  "language_info": {
   "codemirror_mode": {
    "name": "ipython",
    "version": 3
   },
   "file_extension": ".py",
   "mimetype": "text/x-python",
   "name": "python",
   "nbconvert_exporter": "python",
   "pygments_lexer": "ipython3",
   "version": "3.8.13"
  },
  "vscode": {
   "interpreter": {
    "hash": "e56015fb566b08f7af163d42c82cf08fa5d6db3fbaaffa0afaaff5a893fc0496"
   }
  }
 },
 "nbformat": 4,
 "nbformat_minor": 1
}
