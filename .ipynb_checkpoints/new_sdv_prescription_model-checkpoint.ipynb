{
 "cells": [
  {
   "cell_type": "code",
   "execution_count": 24,
   "id": "3c1fa502",
   "metadata": {},
   "outputs": [],
   "source": [
    "# Ignore warnings\n",
    "import warnings\n",
    "warnings.filterwarnings(\"ignore\")"
   ]
  },
  {
   "cell_type": "code",
   "execution_count": 25,
   "id": "3f768444",
   "metadata": {},
   "outputs": [],
   "source": [
    "import pandas as pd\n",
    "import numpy as np\n",
    "\n",
    "import commonfunc"
   ]
  },
  {
   "cell_type": "code",
   "execution_count": 26,
   "id": "7522d611",
   "metadata": {},
   "outputs": [],
   "source": [
    "data_set_path='C:/Users/shrus/Documents/Synthetic-data-generation/'"
   ]
  },
  {
   "cell_type": "code",
   "execution_count": 27,
   "id": "e1c00874",
   "metadata": {},
   "outputs": [],
   "source": [
    "prescription_df = commonfunc.read_csv_no_rowid(data_set_path+\"sampled_data_csv_100/prescriptions.csv\")"
   ]
  },
  {
   "cell_type": "code",
   "execution_count": 28,
   "id": "a28496ab",
   "metadata": {},
   "outputs": [],
   "source": [
    "prescription_df=prescription_df.sample(1400)"
   ]
  },
  {
   "cell_type": "code",
   "execution_count": 29,
   "id": "00038fd3",
   "metadata": {},
   "outputs": [
    {
     "data": {
      "text/html": [
       "<div>\n",
       "<style scoped>\n",
       "    .dataframe tbody tr th:only-of-type {\n",
       "        vertical-align: middle;\n",
       "    }\n",
       "\n",
       "    .dataframe tbody tr th {\n",
       "        vertical-align: top;\n",
       "    }\n",
       "\n",
       "    .dataframe thead th {\n",
       "        text-align: right;\n",
       "    }\n",
       "</style>\n",
       "<table border=\"1\" class=\"dataframe\">\n",
       "  <thead>\n",
       "    <tr style=\"text-align: right;\">\n",
       "      <th></th>\n",
       "      <th>subject_id</th>\n",
       "      <th>hadm_id</th>\n",
       "      <th>icustay_id</th>\n",
       "      <th>startdate</th>\n",
       "      <th>enddate</th>\n",
       "      <th>drug_type</th>\n",
       "      <th>drug</th>\n",
       "      <th>drug_name_poe</th>\n",
       "      <th>drug_name_generic</th>\n",
       "      <th>formulary_drug_cd</th>\n",
       "      <th>gsn</th>\n",
       "      <th>ndc</th>\n",
       "      <th>prod_strength</th>\n",
       "      <th>dose_val_rx</th>\n",
       "      <th>dose_unit_rx</th>\n",
       "      <th>form_val_disp</th>\n",
       "      <th>form_unit_disp</th>\n",
       "      <th>route</th>\n",
       "    </tr>\n",
       "  </thead>\n",
       "  <tbody>\n",
       "    <tr>\n",
       "      <th>8243</th>\n",
       "      <td>27074</td>\n",
       "      <td>181147</td>\n",
       "      <td>228048.0</td>\n",
       "      <td>2179-12-10</td>\n",
       "      <td>2179-12-14</td>\n",
       "      <td>MAIN</td>\n",
       "      <td>Guaifenesin</td>\n",
       "      <td>Guaifenesin</td>\n",
       "      <td>Guaifenesin</td>\n",
       "      <td>GUAI10</td>\n",
       "      <td>759.0</td>\n",
       "      <td>1.211744e+08</td>\n",
       "      <td>10mL Cup</td>\n",
       "      <td>5-10</td>\n",
       "      <td>mL</td>\n",
       "      <td>0.5-1</td>\n",
       "      <td>UDCUP</td>\n",
       "      <td>PO</td>\n",
       "    </tr>\n",
       "    <tr>\n",
       "      <th>5923</th>\n",
       "      <td>1709</td>\n",
       "      <td>127294</td>\n",
       "      <td>207018.0</td>\n",
       "      <td>2118-01-06</td>\n",
       "      <td>2118-01-06</td>\n",
       "      <td>MAIN</td>\n",
       "      <td>PredniSONE</td>\n",
       "      <td>PredniSONE</td>\n",
       "      <td>PredniSONE</td>\n",
       "      <td>PRED20</td>\n",
       "      <td>6751.0</td>\n",
       "      <td>5.400182e+07</td>\n",
       "      <td>20 mg Tablet</td>\n",
       "      <td>60</td>\n",
       "      <td>mg</td>\n",
       "      <td>3</td>\n",
       "      <td>TAB</td>\n",
       "      <td>PO</td>\n",
       "    </tr>\n",
       "    <tr>\n",
       "      <th>7216</th>\n",
       "      <td>15728</td>\n",
       "      <td>193047</td>\n",
       "      <td>289569.0</td>\n",
       "      <td>2175-01-21</td>\n",
       "      <td>2175-01-21</td>\n",
       "      <td>MAIN</td>\n",
       "      <td>Dolasetron Mesylate</td>\n",
       "      <td>Dolasetron Mesylate</td>\n",
       "      <td>Dolasetron Mesylate</td>\n",
       "      <td>DOLA12.5I</td>\n",
       "      <td>50268.0</td>\n",
       "      <td>8.812081e+07</td>\n",
       "      <td>12.5mg Vial</td>\n",
       "      <td>12.5</td>\n",
       "      <td>mg</td>\n",
       "      <td>1</td>\n",
       "      <td>VIAL</td>\n",
       "      <td>IV</td>\n",
       "    </tr>\n",
       "    <tr>\n",
       "      <th>4453</th>\n",
       "      <td>11816</td>\n",
       "      <td>138518</td>\n",
       "      <td>NaN</td>\n",
       "      <td>2118-06-27</td>\n",
       "      <td>2118-06-28</td>\n",
       "      <td>MAIN</td>\n",
       "      <td>Dextrose 50%</td>\n",
       "      <td>Dextrose 50%</td>\n",
       "      <td>Dextrose 50%</td>\n",
       "      <td>DEX50SY</td>\n",
       "      <td>1989.0</td>\n",
       "      <td>4.094902e+08</td>\n",
       "      <td>50mL Syringe</td>\n",
       "      <td>12.5</td>\n",
       "      <td>gm</td>\n",
       "      <td>0.5</td>\n",
       "      <td>SYR</td>\n",
       "      <td>IV</td>\n",
       "    </tr>\n",
       "    <tr>\n",
       "      <th>8319</th>\n",
       "      <td>32008</td>\n",
       "      <td>181524</td>\n",
       "      <td>228908.0</td>\n",
       "      <td>2163-01-21</td>\n",
       "      <td>2163-01-21</td>\n",
       "      <td>MAIN</td>\n",
       "      <td>Chlorhexidine Gluconate 0.12% Oral Rinse</td>\n",
       "      <td>Chlorhexidine Gluconate 0.12% Oral Rinse</td>\n",
       "      <td>Chlorhexidine Gluconate</td>\n",
       "      <td>CHLO15L</td>\n",
       "      <td>57959.0</td>\n",
       "      <td>5.456952e+10</td>\n",
       "      <td>15ml Cup</td>\n",
       "      <td>15</td>\n",
       "      <td>mL</td>\n",
       "      <td>1</td>\n",
       "      <td>UDCUP</td>\n",
       "      <td>ORAL</td>\n",
       "    </tr>\n",
       "  </tbody>\n",
       "</table>\n",
       "</div>"
      ],
      "text/plain": [
       "      subject_id  hadm_id  icustay_id   startdate     enddate drug_type  \\\n",
       "8243       27074   181147    228048.0  2179-12-10  2179-12-14      MAIN   \n",
       "5923        1709   127294    207018.0  2118-01-06  2118-01-06      MAIN   \n",
       "7216       15728   193047    289569.0  2175-01-21  2175-01-21      MAIN   \n",
       "4453       11816   138518         NaN  2118-06-27  2118-06-28      MAIN   \n",
       "8319       32008   181524    228908.0  2163-01-21  2163-01-21      MAIN   \n",
       "\n",
       "                                          drug  \\\n",
       "8243                               Guaifenesin   \n",
       "5923                                PredniSONE   \n",
       "7216                       Dolasetron Mesylate   \n",
       "4453                              Dextrose 50%   \n",
       "8319  Chlorhexidine Gluconate 0.12% Oral Rinse   \n",
       "\n",
       "                                 drug_name_poe        drug_name_generic  \\\n",
       "8243                               Guaifenesin              Guaifenesin   \n",
       "5923                                PredniSONE               PredniSONE   \n",
       "7216                       Dolasetron Mesylate      Dolasetron Mesylate   \n",
       "4453                              Dextrose 50%             Dextrose 50%   \n",
       "8319  Chlorhexidine Gluconate 0.12% Oral Rinse  Chlorhexidine Gluconate   \n",
       "\n",
       "     formulary_drug_cd      gsn           ndc prod_strength dose_val_rx  \\\n",
       "8243            GUAI10    759.0  1.211744e+08      10mL Cup        5-10   \n",
       "5923            PRED20   6751.0  5.400182e+07  20 mg Tablet          60   \n",
       "7216         DOLA12.5I  50268.0  8.812081e+07   12.5mg Vial        12.5   \n",
       "4453           DEX50SY   1989.0  4.094902e+08  50mL Syringe        12.5   \n",
       "8319           CHLO15L  57959.0  5.456952e+10      15ml Cup          15   \n",
       "\n",
       "     dose_unit_rx form_val_disp form_unit_disp route  \n",
       "8243           mL         0.5-1          UDCUP    PO  \n",
       "5923           mg             3            TAB    PO  \n",
       "7216           mg             1           VIAL    IV  \n",
       "4453           gm           0.5            SYR    IV  \n",
       "8319           mL             1          UDCUP  ORAL  "
      ]
     },
     "execution_count": 29,
     "metadata": {},
     "output_type": "execute_result"
    }
   ],
   "source": [
    "prescription_df.head()"
   ]
  },
  {
   "cell_type": "markdown",
   "id": "0895476a",
   "metadata": {},
   "source": [
    "## Data preprocessing"
   ]
  },
  {
   "cell_type": "code",
   "execution_count": 30,
   "id": "665f6d4b",
   "metadata": {},
   "outputs": [],
   "source": [
    "#Drop useless columns\n",
    "prescription_df.drop(['subject_id', 'hadm_id', 'icustay_id','gsn','ndc','dose_val_rx','dose_unit_rx','form_val_disp'], axis=1, inplace=True)"
   ]
  },
  {
   "cell_type": "code",
   "execution_count": 31,
   "id": "1d23c1ec",
   "metadata": {},
   "outputs": [
    {
     "data": {
      "text/plain": [
       "startdate            object\n",
       "enddate              object\n",
       "drug_type            object\n",
       "drug                 object\n",
       "drug_name_poe        object\n",
       "drug_name_generic    object\n",
       "formulary_drug_cd    object\n",
       "prod_strength        object\n",
       "form_unit_disp       object\n",
       "route                object\n",
       "dtype: object"
      ]
     },
     "execution_count": 31,
     "metadata": {},
     "output_type": "execute_result"
    }
   ],
   "source": [
    "prescription_df.dtypes"
   ]
  },
  {
   "cell_type": "code",
   "execution_count": 32,
   "id": "79edd7b8",
   "metadata": {},
   "outputs": [],
   "source": [
    "prescription_df['startdate'] = pd.to_datetime(prescription_df['startdate'])\n",
    "prescription_df['enddate'] = pd.to_datetime(prescription_df['enddate'])\n"
   ]
  },
  {
   "cell_type": "code",
   "execution_count": 33,
   "id": "1a287f88",
   "metadata": {},
   "outputs": [
    {
     "data": {
      "text/plain": [
       "startdate              0\n",
       "enddate                1\n",
       "drug_type              0\n",
       "drug                   0\n",
       "drug_name_poe        511\n",
       "drug_name_generic    511\n",
       "formulary_drug_cd      0\n",
       "prod_strength          0\n",
       "form_unit_disp         0\n",
       "route                  0\n",
       "dtype: int64"
      ]
     },
     "execution_count": 33,
     "metadata": {},
     "output_type": "execute_result"
    }
   ],
   "source": [
    "prescription_df.isnull().sum()"
   ]
  },
  {
   "cell_type": "code",
   "execution_count": 42,
   "id": "e29d8813",
   "metadata": {},
   "outputs": [],
   "source": [
    "prescription_df.dropna(subset=['enddate'], inplace=True, axis=0)\n"
   ]
  },
  {
   "cell_type": "markdown",
   "id": "da019758",
   "metadata": {},
   "source": [
    "# Metadata"
   ]
  },
  {
   "cell_type": "code",
   "execution_count": 43,
   "id": "14130ded",
   "metadata": {},
   "outputs": [],
   "source": [
    "from sdv.metadata import SingleTableMetadata\n",
    "\n",
    "metadata = SingleTableMetadata()"
   ]
  },
  {
   "cell_type": "code",
   "execution_count": 44,
   "id": "2c6031fe",
   "metadata": {},
   "outputs": [],
   "source": [
    "metadata.detect_from_dataframe(data=prescription_df)"
   ]
  },
  {
   "cell_type": "code",
   "execution_count": 45,
   "id": "b3fa8535",
   "metadata": {},
   "outputs": [
    {
     "data": {
      "text/plain": [
       "{\n",
       "    \"METADATA_SPEC_VERSION\": \"SINGLE_TABLE_V1\",\n",
       "    \"columns\": {\n",
       "        \"startdate\": {\n",
       "            \"sdtype\": \"datetime\"\n",
       "        },\n",
       "        \"enddate\": {\n",
       "            \"sdtype\": \"datetime\"\n",
       "        },\n",
       "        \"drug_type\": {\n",
       "            \"sdtype\": \"categorical\"\n",
       "        },\n",
       "        \"drug\": {\n",
       "            \"sdtype\": \"categorical\"\n",
       "        },\n",
       "        \"drug_name_poe\": {\n",
       "            \"sdtype\": \"categorical\"\n",
       "        },\n",
       "        \"drug_name_generic\": {\n",
       "            \"sdtype\": \"categorical\"\n",
       "        },\n",
       "        \"formulary_drug_cd\": {\n",
       "            \"sdtype\": \"categorical\"\n",
       "        },\n",
       "        \"prod_strength\": {\n",
       "            \"sdtype\": \"categorical\"\n",
       "        },\n",
       "        \"form_unit_disp\": {\n",
       "            \"sdtype\": \"categorical\"\n",
       "        },\n",
       "        \"route\": {\n",
       "            \"sdtype\": \"categorical\"\n",
       "        }\n",
       "    }\n",
       "}"
      ]
     },
     "execution_count": 45,
     "metadata": {},
     "output_type": "execute_result"
    }
   ],
   "source": [
    "metadata"
   ]
  },
  {
   "cell_type": "markdown",
   "id": "df98727c",
   "metadata": {},
   "source": [
    "## Constraints"
   ]
  },
  {
   "cell_type": "code",
   "execution_count": 53,
   "id": "abe1925b",
   "metadata": {},
   "outputs": [],
   "source": [
    "startdate_enddate_constraint = {\n",
    "    'constraint_class': 'Inequality',\n",
    "    'constraint_parameters': {\n",
    "        'low_column_name': 'startdate',\n",
    "        'high_column_name': 'enddate',\n",
    "        'strict_boundaries': True\n",
    "    }\n",
    "}"
   ]
  },
  {
   "cell_type": "markdown",
   "id": "e57b6713",
   "metadata": {},
   "source": [
    "## Modelling"
   ]
  },
  {
   "cell_type": "code",
   "execution_count": 54,
   "id": "5867a5bc",
   "metadata": {},
   "outputs": [],
   "source": [
    "data = prescription_df"
   ]
  },
  {
   "cell_type": "code",
   "execution_count": 56,
   "id": "99f6bb60",
   "metadata": {},
   "outputs": [],
   "source": [
    "from sdv.lite import SingleTablePreset\n",
    "\n",
    "synthesizer1 = SingleTablePreset(metadata, name='FAST_ML')\n",
    "\n",
    "synthesizer1.fit(data)\n",
    "\n",
    "synthetic_data1 = synthesizer1.sample(num_rows=len(data))"
   ]
  },
  {
   "cell_type": "code",
   "execution_count": 52,
   "id": "f04e5a6a",
   "metadata": {},
   "outputs": [
    {
     "data": {
      "text/plain": [
       "startdate            datetime64[ns]\n",
       "enddate              datetime64[ns]\n",
       "drug_type                    object\n",
       "drug                         object\n",
       "drug_name_poe                object\n",
       "drug_name_generic            object\n",
       "formulary_drug_cd            object\n",
       "prod_strength                object\n",
       "form_unit_disp               object\n",
       "route                        object\n",
       "dtype: object"
      ]
     },
     "execution_count": 52,
     "metadata": {},
     "output_type": "execute_result"
    }
   ],
   "source": [
    "prescription_df.dtypes"
   ]
  },
  {
   "cell_type": "code",
   "execution_count": 57,
   "id": "401dad38",
   "metadata": {},
   "outputs": [
    {
     "name": "stderr",
     "output_type": "stream",
     "text": [
      "Creating report: 100%|██████████| 4/4 [00:02<00:00,  1.74it/s]\n"
     ]
    },
    {
     "name": "stdout",
     "output_type": "stream",
     "text": [
      "\n",
      "Overall Quality Score: 60.77%\n",
      "\n",
      "Properties:\n",
      "Column Shapes: 80.93%\n",
      "Column Pair Trends: 40.62%\n"
     ]
    }
   ],
   "source": [
    "from sdv.evaluation.single_table import evaluate_quality\n",
    "\n",
    "quality_report = evaluate_quality(\n",
    "    real_data=data,\n",
    "    synthetic_data=synthetic_data1,\n",
    "    metadata=metadata)"
   ]
  },
  {
   "cell_type": "code",
   "execution_count": null,
   "id": "d2755c98",
   "metadata": {},
   "outputs": [],
   "source": []
  }
 ],
 "metadata": {
  "kernelspec": {
   "display_name": "Python 3 (ipykernel)",
   "language": "python",
   "name": "python3"
  },
  "language_info": {
   "codemirror_mode": {
    "name": "ipython",
    "version": 3
   },
   "file_extension": ".py",
   "mimetype": "text/x-python",
   "name": "python",
   "nbconvert_exporter": "python",
   "pygments_lexer": "ipython3",
   "version": "3.10.9"
  }
 },
 "nbformat": 4,
 "nbformat_minor": 5
}
