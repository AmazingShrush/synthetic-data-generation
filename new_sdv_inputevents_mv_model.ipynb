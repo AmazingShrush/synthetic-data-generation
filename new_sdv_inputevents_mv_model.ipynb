{
 "cells": [
  {
   "cell_type": "code",
   "execution_count": 1,
   "id": "bd26e253",
   "metadata": {},
   "outputs": [],
   "source": [
    "# Ignore warnings\n",
    "import warnings\n",
    "warnings.filterwarnings(\"ignore\")\n"
   ]
  },
  {
   "cell_type": "code",
   "execution_count": 2,
   "id": "cb414cb3",
   "metadata": {},
   "outputs": [],
   "source": [
    "import pandas as pd\n",
    "import numpy as np\n",
    "\n",
    "import commonfunc"
   ]
  },
  {
   "cell_type": "code",
   "execution_count": 3,
   "id": "caaa631c",
   "metadata": {},
   "outputs": [],
   "source": [
    "data_set_path='C:/Users/shrus/Documents/Synthetic-data-generation/'"
   ]
  },
  {
   "cell_type": "code",
   "execution_count": 7,
   "id": "82776d5a",
   "metadata": {},
   "outputs": [],
   "source": [
    "outputevents_df = commonfunc.read_csv_no_rowid(data_set_path+\"sampled_data_csv_100/outputevents.csv\")"
   ]
  },
  {
   "cell_type": "code",
   "execution_count": 9,
   "id": "2ad0f3a5",
   "metadata": {
    "scrolled": true
   },
   "outputs": [],
   "source": [
    "outputevents_df = outputevents_df.sample(1400)"
   ]
  },
  {
   "cell_type": "code",
   "execution_count": null,
   "id": "073a0eb7",
   "metadata": {},
   "outputs": [],
   "source": []
  }
 ],
 "metadata": {
  "kernelspec": {
   "display_name": "Python 3 (ipykernel)",
   "language": "python",
   "name": "python3"
  },
  "language_info": {
   "codemirror_mode": {
    "name": "ipython",
    "version": 3
   },
   "file_extension": ".py",
   "mimetype": "text/x-python",
   "name": "python",
   "nbconvert_exporter": "python",
   "pygments_lexer": "ipython3",
   "version": "3.10.9"
  }
 },
 "nbformat": 4,
 "nbformat_minor": 5
}
