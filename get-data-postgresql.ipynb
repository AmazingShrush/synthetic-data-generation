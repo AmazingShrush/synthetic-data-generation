{
 "cells": [
  {
   "cell_type": "code",
   "execution_count": 130,
   "id": "03462105",
   "metadata": {},
   "outputs": [],
   "source": [
    "import psycopg2\n",
    "from configparser import ConfigParser\n",
    "import pandas as pd\n",
    "\n",
    "import common"
   ]
  },
  {
   "cell_type": "code",
   "execution_count": 131,
   "id": "ad2db78a",
   "metadata": {},
   "outputs": [],
   "source": [
    "csv_save_path=\"C:\\\\Users\\\\shrus\\\\Documents\\\\Synthetic-data-generation\\\\sampled_data_csv_1000\\\\\""
   ]
  },
  {
   "cell_type": "code",
   "execution_count": 132,
   "id": "49de0e29",
   "metadata": {},
   "outputs": [],
   "source": [
    "# Ignore warnings\n",
    "import warnings\n",
    "warnings.filterwarnings(\"ignore\")"
   ]
  },
  {
   "cell_type": "markdown",
   "id": "a00a947f",
   "metadata": {},
   "source": [
    "## Connect to postgresql"
   ]
  },
  {
   "cell_type": "code",
   "execution_count": 133,
   "id": "540bc48e",
   "metadata": {},
   "outputs": [],
   "source": [
    "def postgresql_config(filename='config.ini', section='postgresql'):\n",
    "    # create a parser\n",
    "    parser = ConfigParser()\n",
    "    # read config file\n",
    "    parser.read(filename)\n",
    "\n",
    "    # get section, default to postgresql\n",
    "    db = {}\n",
    "    if parser.has_section(section):\n",
    "        params = parser.items(section)\n",
    "        for param in params:\n",
    "            db[param[0]] = param[1]\n",
    "    else:\n",
    "        raise Exception('Section {0} not found in the {1} file'.format(section, filename))\n",
    "\n",
    "    return db"
   ]
  },
  {
   "cell_type": "code",
   "execution_count": 134,
   "id": "6e0b2c51",
   "metadata": {},
   "outputs": [],
   "source": [
    "def test_postgresql_connect():\n",
    "    \"\"\" Connect to the PostgreSQL database server \"\"\"\n",
    "    conn = None\n",
    "    try:\n",
    "        # read connection parameters\n",
    "        params = postgresql_config()\n",
    "\n",
    "        print('------Test Connection------')\n",
    "\n",
    "        # connect to the PostgreSQL server\n",
    "        print('Connecting to the PostgreSQL database...')\n",
    "        conn = psycopg2.connect(**params)\n",
    "\n",
    "        # create a cursor\n",
    "        cur = conn.cursor()\n",
    "\n",
    "        # execute a statement\n",
    "        print('PostgreSQL database version:')\n",
    "        cur.execute('SELECT version()')\n",
    "\n",
    "        # display the PostgreSQL database server version\n",
    "        db_version = cur.fetchone()\n",
    "        print(db_version)\n",
    "\n",
    "        # close the communication with the PostgreSQL\n",
    "        cur.close()\n",
    "        print('Database connection closed.')\n",
    "        # Successfully connected, return True\n",
    "        print('Successfully connected!')\n",
    "        return True\n",
    "    except (Exception, psycopg2.DatabaseError) as error:\n",
    "        print(error)\n",
    "    finally:\n",
    "        if conn is not None:\n",
    "            conn.close()\n",
    "        print('------Test Finished------')"
   ]
  },
  {
   "cell_type": "code",
   "execution_count": 135,
   "id": "eeda7f8b",
   "metadata": {},
   "outputs": [
    {
     "name": "stdout",
     "output_type": "stream",
     "text": [
      "------Test Connection------\n",
      "Connecting to the PostgreSQL database...\n",
      "PostgreSQL database version:\n",
      "('PostgreSQL 15.3, compiled by Visual C++ build 1914, 64-bit',)\n",
      "Database connection closed.\n",
      "Successfully connected!\n",
      "------Test Finished------\n"
     ]
    },
    {
     "data": {
      "text/plain": [
       "True"
      ]
     },
     "execution_count": 135,
     "metadata": {},
     "output_type": "execute_result"
    }
   ],
   "source": [
    "test_postgresql_connect()\n"
   ]
  },
  {
   "cell_type": "markdown",
   "id": "342136c7",
   "metadata": {},
   "source": [
    "### Querying Patient Data from PostgreSQL"
   ]
  },
  {
   "cell_type": "code",
   "execution_count": 136,
   "id": "7e74b83b",
   "metadata": {},
   "outputs": [],
   "source": [
    "def get_patients():\n",
    "    \"\"\" Query data from the patients table \"\"\"\n",
    "    conn = None\n",
    "    try:\n",
    "        params = postgresql_config()\n",
    "        conn = psycopg2.connect(**params)\n",
    "        cur = conn.cursor()\n",
    "\n",
    "        cur.execute(\"SELECT * from patients\")\n",
    "        print(\"The number of parts: \", cur.rowcount)\n",
    "        row = cur.fetchone()\n",
    "\n",
    "        while row is not None:\n",
    "            print(row)\n",
    "            row = cur.fetchone()\n",
    "\n",
    "        cur.close()\n",
    "    except (Exception, psycopg2.DatabaseError) as error:\n",
    "        print(error)\n",
    "    finally:\n",
    "        if conn is not None:\n",
    "            conn.close()"
   ]
  },
  {
   "cell_type": "code",
   "execution_count": 137,
   "id": "5d2d686d",
   "metadata": {},
   "outputs": [],
   "source": [
    "# Select some patients as sample\n",
    "patient_num = 100\n",
    "\n",
    "sql = \"SELECT * FROM mimiciii.patients p order by random() limit \" + str(patient_num)\n",
    "conn = psycopg2.connect(**postgresql_config())"
   ]
  },
  {
   "cell_type": "code",
   "execution_count": 138,
   "id": "1362e4a9",
   "metadata": {},
   "outputs": [],
   "source": [
    "# Execute the sql and form the result as DataFrame\n",
    "random_patients_df = pd.read_sql(sql, conn)"
   ]
  },
  {
   "cell_type": "code",
   "execution_count": 139,
   "id": "1f2c4efd",
   "metadata": {},
   "outputs": [
    {
     "data": {
      "text/html": [
       "<div>\n",
       "<style scoped>\n",
       "    .dataframe tbody tr th:only-of-type {\n",
       "        vertical-align: middle;\n",
       "    }\n",
       "\n",
       "    .dataframe tbody tr th {\n",
       "        vertical-align: top;\n",
       "    }\n",
       "\n",
       "    .dataframe thead th {\n",
       "        text-align: right;\n",
       "    }\n",
       "</style>\n",
       "<table border=\"1\" class=\"dataframe\">\n",
       "  <thead>\n",
       "    <tr style=\"text-align: right;\">\n",
       "      <th></th>\n",
       "      <th>row_id</th>\n",
       "      <th>subject_id</th>\n",
       "      <th>gender</th>\n",
       "      <th>dob</th>\n",
       "      <th>dod</th>\n",
       "      <th>dod_hosp</th>\n",
       "      <th>dod_ssn</th>\n",
       "      <th>expire_flag</th>\n",
       "    </tr>\n",
       "  </thead>\n",
       "  <tbody>\n",
       "    <tr>\n",
       "      <th>0</th>\n",
       "      <td>43164</td>\n",
       "      <td>87197</td>\n",
       "      <td>F</td>\n",
       "      <td>2054-10-12</td>\n",
       "      <td>NaT</td>\n",
       "      <td>NaT</td>\n",
       "      <td>NaT</td>\n",
       "      <td>0</td>\n",
       "    </tr>\n",
       "    <tr>\n",
       "      <th>1</th>\n",
       "      <td>1671</td>\n",
       "      <td>1765</td>\n",
       "      <td>M</td>\n",
       "      <td>2183-05-09</td>\n",
       "      <td>NaT</td>\n",
       "      <td>NaT</td>\n",
       "      <td>NaT</td>\n",
       "      <td>0</td>\n",
       "    </tr>\n",
       "    <tr>\n",
       "      <th>2</th>\n",
       "      <td>20072</td>\n",
       "      <td>21269</td>\n",
       "      <td>M</td>\n",
       "      <td>2078-07-25</td>\n",
       "      <td>2162-12-10</td>\n",
       "      <td>2162-12-10</td>\n",
       "      <td>2162-12-10</td>\n",
       "      <td>1</td>\n",
       "    </tr>\n",
       "    <tr>\n",
       "      <th>3</th>\n",
       "      <td>5388</td>\n",
       "      <td>5692</td>\n",
       "      <td>M</td>\n",
       "      <td>2099-09-01</td>\n",
       "      <td>NaT</td>\n",
       "      <td>NaT</td>\n",
       "      <td>NaT</td>\n",
       "      <td>0</td>\n",
       "    </tr>\n",
       "    <tr>\n",
       "      <th>4</th>\n",
       "      <td>28302</td>\n",
       "      <td>30096</td>\n",
       "      <td>F</td>\n",
       "      <td>2080-05-03</td>\n",
       "      <td>2161-10-08</td>\n",
       "      <td>NaT</td>\n",
       "      <td>2161-10-08</td>\n",
       "      <td>1</td>\n",
       "    </tr>\n",
       "    <tr>\n",
       "      <th>...</th>\n",
       "      <td>...</td>\n",
       "      <td>...</td>\n",
       "      <td>...</td>\n",
       "      <td>...</td>\n",
       "      <td>...</td>\n",
       "      <td>...</td>\n",
       "      <td>...</td>\n",
       "      <td>...</td>\n",
       "    </tr>\n",
       "    <tr>\n",
       "      <th>95</th>\n",
       "      <td>35742</td>\n",
       "      <td>58667</td>\n",
       "      <td>M</td>\n",
       "      <td>2067-06-29</td>\n",
       "      <td>2130-08-20</td>\n",
       "      <td>2130-08-20</td>\n",
       "      <td>2130-08-20</td>\n",
       "      <td>1</td>\n",
       "    </tr>\n",
       "    <tr>\n",
       "      <th>96</th>\n",
       "      <td>3212</td>\n",
       "      <td>3391</td>\n",
       "      <td>F</td>\n",
       "      <td>2143-03-01</td>\n",
       "      <td>NaT</td>\n",
       "      <td>NaT</td>\n",
       "      <td>NaT</td>\n",
       "      <td>0</td>\n",
       "    </tr>\n",
       "    <tr>\n",
       "      <th>97</th>\n",
       "      <td>29722</td>\n",
       "      <td>31650</td>\n",
       "      <td>M</td>\n",
       "      <td>2090-11-19</td>\n",
       "      <td>NaT</td>\n",
       "      <td>NaT</td>\n",
       "      <td>NaT</td>\n",
       "      <td>0</td>\n",
       "    </tr>\n",
       "    <tr>\n",
       "      <th>98</th>\n",
       "      <td>15026</td>\n",
       "      <td>15895</td>\n",
       "      <td>M</td>\n",
       "      <td>2039-10-21</td>\n",
       "      <td>2124-07-11</td>\n",
       "      <td>NaT</td>\n",
       "      <td>2124-07-11</td>\n",
       "      <td>1</td>\n",
       "    </tr>\n",
       "    <tr>\n",
       "      <th>99</th>\n",
       "      <td>33978</td>\n",
       "      <td>52058</td>\n",
       "      <td>M</td>\n",
       "      <td>2077-10-25</td>\n",
       "      <td>NaT</td>\n",
       "      <td>NaT</td>\n",
       "      <td>NaT</td>\n",
       "      <td>0</td>\n",
       "    </tr>\n",
       "  </tbody>\n",
       "</table>\n",
       "<p>100 rows × 8 columns</p>\n",
       "</div>"
      ],
      "text/plain": [
       "    row_id  subject_id gender        dob        dod   dod_hosp    dod_ssn  \\\n",
       "0    43164       87197      F 2054-10-12        NaT        NaT        NaT   \n",
       "1     1671        1765      M 2183-05-09        NaT        NaT        NaT   \n",
       "2    20072       21269      M 2078-07-25 2162-12-10 2162-12-10 2162-12-10   \n",
       "3     5388        5692      M 2099-09-01        NaT        NaT        NaT   \n",
       "4    28302       30096      F 2080-05-03 2161-10-08        NaT 2161-10-08   \n",
       "..     ...         ...    ...        ...        ...        ...        ...   \n",
       "95   35742       58667      M 2067-06-29 2130-08-20 2130-08-20 2130-08-20   \n",
       "96    3212        3391      F 2143-03-01        NaT        NaT        NaT   \n",
       "97   29722       31650      M 2090-11-19        NaT        NaT        NaT   \n",
       "98   15026       15895      M 2039-10-21 2124-07-11        NaT 2124-07-11   \n",
       "99   33978       52058      M 2077-10-25        NaT        NaT        NaT   \n",
       "\n",
       "    expire_flag  \n",
       "0             0  \n",
       "1             0  \n",
       "2             1  \n",
       "3             0  \n",
       "4             1  \n",
       "..          ...  \n",
       "95            1  \n",
       "96            0  \n",
       "97            0  \n",
       "98            1  \n",
       "99            0  \n",
       "\n",
       "[100 rows x 8 columns]"
      ]
     },
     "execution_count": 139,
     "metadata": {},
     "output_type": "execute_result"
    }
   ],
   "source": [
    "random_patients_df"
   ]
  },
  {
   "cell_type": "code",
   "execution_count": 140,
   "id": "c8f0d8fb",
   "metadata": {},
   "outputs": [],
   "source": [
    "# Save patient sample\n",
    "random_patients_df.to_csv(csv_save_path + \"patients.csv\", index=None)"
   ]
  },
  {
   "cell_type": "code",
   "execution_count": 141,
   "id": "622ad90c",
   "metadata": {},
   "outputs": [
    {
     "data": {
      "text/plain": [
       "0     87197\n",
       "1      1765\n",
       "2     21269\n",
       "3      5692\n",
       "4     30096\n",
       "      ...  \n",
       "95    58667\n",
       "96     3391\n",
       "97    31650\n",
       "98    15895\n",
       "99    52058\n",
       "Name: subject_id, Length: 100, dtype: int64"
      ]
     },
     "execution_count": 141,
     "metadata": {},
     "output_type": "execute_result"
    }
   ],
   "source": [
    "# Pick Subject_id\n",
    "patients_subject_ids = random_patients_df['subject_id']\n",
    "patients_subject_ids"
   ]
  },
  {
   "cell_type": "code",
   "execution_count": 142,
   "id": "02107f59",
   "metadata": {},
   "outputs": [
    {
     "name": "stdout",
     "output_type": "stream",
     "text": [
      "<class 'pandas.core.frame.DataFrame'>\n",
      "RangeIndex: 100 entries, 0 to 99\n",
      "Data columns (total 8 columns):\n",
      " #   Column       Non-Null Count  Dtype         \n",
      "---  ------       --------------  -----         \n",
      " 0   row_id       100 non-null    int64         \n",
      " 1   subject_id   100 non-null    int64         \n",
      " 2   gender       100 non-null    object        \n",
      " 3   dob          100 non-null    datetime64[ns]\n",
      " 4   dod          28 non-null     datetime64[ns]\n",
      " 5   dod_hosp     20 non-null     datetime64[ns]\n",
      " 6   dod_ssn      25 non-null     datetime64[ns]\n",
      " 7   expire_flag  100 non-null    int64         \n",
      "dtypes: datetime64[ns](4), int64(3), object(1)\n",
      "memory usage: 6.4+ KB\n"
     ]
    }
   ],
   "source": [
    "random_patients_df.info()"
   ]
  },
  {
   "cell_type": "code",
   "execution_count": 143,
   "id": "bdafef10",
   "metadata": {},
   "outputs": [],
   "source": [
    "# create query scripts\n",
    "\n",
    "def create_query_scripts(table_name):\n",
    "    return \"SELECT * FROM \" + table_name + \" WHERE subject_id = \""
   ]
  },
  {
   "cell_type": "code",
   "execution_count": 144,
   "id": "af11ab3d",
   "metadata": {},
   "outputs": [],
   "source": [
    "#Query data from database\n",
    "def select_data(subject_ids, sql):\n",
    "    '''\n",
    "    Query data according to the subject from table\n",
    "    :param subject_ids:\n",
    "    :param sql:\n",
    "    :return:\n",
    "    '''\n",
    "\n",
    "    # Create the connection object\n",
    "    conn = None\n",
    "\n",
    "    try:\n",
    "        # Get connection\n",
    "        params = postgresql_config()\n",
    "        conn = psycopg2.connect(**params)\n",
    "        \n",
    "        # Create a empty DataFrame\n",
    "        table_df = pd.DataFrame()\n",
    "        # Iterate subject_ids and query data about patients\n",
    "        for subject_id in subject_ids:\n",
    "            new_sql = sql + str(subject_id)\n",
    "            # Query data and transform to DataFrame form\n",
    "            select_result = pd.read_sql(new_sql, conn)\n",
    "\n",
    "            # The first cycle, initial the DataFrame\n",
    "            if table_df.empty:\n",
    "                table_df = select_result.copy()\n",
    "            # DataFrame was initialed, just append the data\n",
    "            else:\n",
    "                table_df = pd.concat([table_df, select_result], axis=0)\n",
    "\n",
    "        return table_df\n",
    "    except (Exception, psycopg2.DatabaseError) as error:\n",
    "        print(error)\n",
    "    finally:\n",
    "        if conn is not None:\n",
    "            conn.close()"
   ]
  },
  {
   "cell_type": "code",
   "execution_count": 145,
   "id": "8617f0b1",
   "metadata": {},
   "outputs": [],
   "source": [
    "def query_others(patients_subject_ids, table_name_list):\n",
    "    #Pass in a list containing table names, traverse the list, and query data from each table\n",
    "    #:param patients_subject_ids: patients id\n",
    "    #:param table_name_list: table list\n",
    "\n",
    "    for table_name in table_name_list:\n",
    "        print(\"Start querying: \" + table_name)\n",
    "        # Query data\n",
    "        sample = select_data(patients_subject_ids, create_query_scripts(table_name))\n",
    "        # Save sample to csv file\n",
    "        sample.to_csv(csv_save_path + table_name + \".csv\", index=None)\n",
    "    print(\"All done!\" )"
   ]
  },
  {
   "cell_type": "code",
   "execution_count": 146,
   "id": "a70b3c42",
   "metadata": {},
   "outputs": [],
   "source": [
    "table_list = ['mimiciii.admissions', 'mimiciii.callout', 'mimiciii.icustays', 'mimiciii.chartevents', 'mimiciii.outputevents', 'mimiciii.inputevents_mv', \n",
    "            'mimiciii.procedureevents_mv', 'mimiciii.cptevents', 'mimiciii.labevents', 'mimiciii.microbiologyevents', 'mimiciii.procedures_icd','mimiciii.prescriptions']"
   ]
  },
  {
   "cell_type": "code",
   "execution_count": 147,
   "id": "b6699282",
   "metadata": {},
   "outputs": [
    {
     "name": "stdout",
     "output_type": "stream",
     "text": [
      "Start querying: mimiciii.admissions\n",
      "Start querying: mimiciii.callout\n",
      "Start querying: mimiciii.icustays\n",
      "Start querying: mimiciii.chartevents\n",
      "Start querying: mimiciii.outputevents\n",
      "Start querying: mimiciii.inputevents_mv\n",
      "Start querying: mimiciii.procedureevents_mv\n",
      "Start querying: mimiciii.cptevents\n",
      "Start querying: mimiciii.labevents\n",
      "Start querying: mimiciii.microbiologyevents\n",
      "Start querying: mimiciii.procedures_icd\n",
      "Start querying: mimiciii.prescriptions\n",
      "All done!\n"
     ]
    }
   ],
   "source": [
    "query_others(patients_subject_ids, table_list)\n"
   ]
  },
  {
   "cell_type": "code",
   "execution_count": null,
   "id": "9e8de28a",
   "metadata": {},
   "outputs": [],
   "source": []
  }
 ],
 "metadata": {
  "kernelspec": {
   "display_name": "Python 3 (ipykernel)",
   "language": "python",
   "name": "python3"
  },
  "language_info": {
   "codemirror_mode": {
    "name": "ipython",
    "version": 3
   },
   "file_extension": ".py",
   "mimetype": "text/x-python",
   "name": "python",
   "nbconvert_exporter": "python",
   "pygments_lexer": "ipython3",
   "version": "3.10.9"
  }
 },
 "nbformat": 4,
 "nbformat_minor": 5
}
