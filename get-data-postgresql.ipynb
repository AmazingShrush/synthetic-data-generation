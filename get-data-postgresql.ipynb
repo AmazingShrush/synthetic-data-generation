{
 "cells": [
  {
   "cell_type": "code",
   "execution_count": 22,
   "id": "03462105",
   "metadata": {},
   "outputs": [],
   "source": [
    "import psycopg2\n",
    "from configparser import ConfigParser\n",
    "import pandas as pd\n",
    "\n",
    "import common"
   ]
  },
  {
   "cell_type": "code",
   "execution_count": 23,
   "id": "ad2db78a",
   "metadata": {},
   "outputs": [],
   "source": [
    "csv_save_path=\"C:\\\\Users\\\\shrus\\\\Documents\\\\Synthetic-data-generation\\\\sampled_data_csv_100\\\\\""
   ]
  },
  {
   "cell_type": "markdown",
   "id": "0b0db54a",
   "metadata": {},
   "source": [
    "## Connect to postgresql"
   ]
  },
  {
   "cell_type": "code",
   "execution_count": 24,
   "id": "38bda85c",
   "metadata": {},
   "outputs": [],
   "source": [
    "def postgresql_config(filename='config.ini', section='postgresql'):\n",
    "    # create a parser\n",
    "    parser = ConfigParser()\n",
    "    # read config file\n",
    "    parser.read(filename)\n",
    "\n",
    "    # get section, default to postgresql\n",
    "    db = {}\n",
    "    if parser.has_section(section):\n",
    "        params = parser.items(section)\n",
    "        for param in params:\n",
    "            db[param[0]] = param[1]\n",
    "    else:\n",
    "        raise Exception('Section {0} not found in the {1} file'.format(section, filename))\n",
    "\n",
    "    return db"
   ]
  },
  {
   "cell_type": "code",
   "execution_count": 25,
   "id": "a89c90c4",
   "metadata": {},
   "outputs": [],
   "source": [
    "def test_postgresql_connect():\n",
    "    \"\"\" Connect to the PostgreSQL database server \"\"\"\n",
    "    conn = None\n",
    "    try:\n",
    "        # read connection parameters\n",
    "        params = postgresql_config()\n",
    "\n",
    "        print('------Test Connection------')\n",
    "\n",
    "        # connect to the PostgreSQL server\n",
    "        print('Connecting to the PostgreSQL database...')\n",
    "        conn = psycopg2.connect(**params)\n",
    "\n",
    "        # create a cursor\n",
    "        cur = conn.cursor()\n",
    "\n",
    "        # execute a statement\n",
    "        print('PostgreSQL database version:')\n",
    "        cur.execute('SELECT version()')\n",
    "\n",
    "        # display the PostgreSQL database server version\n",
    "        db_version = cur.fetchone()\n",
    "        print(db_version)\n",
    "\n",
    "        # close the communication with the PostgreSQL\n",
    "        cur.close()\n",
    "        print('Database connection closed.')\n",
    "        # Successfully connected, return True\n",
    "        print('Successfully connected!')\n",
    "        return True\n",
    "    except (Exception, psycopg2.DatabaseError) as error:\n",
    "        print(error)\n",
    "    finally:\n",
    "        if conn is not None:\n",
    "            conn.close()\n",
    "        print('------Test Finished------')"
   ]
  },
  {
   "cell_type": "code",
   "execution_count": 26,
   "id": "61221f78",
   "metadata": {},
   "outputs": [
    {
     "name": "stdout",
     "output_type": "stream",
     "text": [
      "------Test Connection------\n",
      "Connecting to the PostgreSQL database...\n",
      "PostgreSQL database version:\n",
      "('PostgreSQL 15.3, compiled by Visual C++ build 1914, 64-bit',)\n",
      "Database connection closed.\n",
      "Successfully connected!\n",
      "------Test Finished------\n"
     ]
    },
    {
     "data": {
      "text/plain": [
       "True"
      ]
     },
     "execution_count": 26,
     "metadata": {},
     "output_type": "execute_result"
    }
   ],
   "source": [
    "test_postgresql_connect()\n"
   ]
  },
  {
   "cell_type": "markdown",
   "id": "896c961e",
   "metadata": {},
   "source": [
    "### Querying Patient Data from PostgreSQL"
   ]
  },
  {
   "cell_type": "code",
   "execution_count": 27,
   "id": "8bcbf29f",
   "metadata": {},
   "outputs": [],
   "source": [
    "def get_patients():\n",
    "    \"\"\" query data from the patients table \"\"\"\n",
    "    conn = None\n",
    "    try:\n",
    "        params = postgresql_config()\n",
    "        conn = psycopg2.connect(**params)\n",
    "        cur = conn.cursor()\n",
    "\n",
    "        cur.execute(\"SELECT * from patients\")\n",
    "        print(\"The number of parts: \", cur.rowcount)\n",
    "        row = cur.fetchone()\n",
    "\n",
    "        while row is not None:\n",
    "            print(row)\n",
    "            row = cur.fetchone()\n",
    "\n",
    "        cur.close()\n",
    "    except (Exception, psycopg2.DatabaseError) as error:\n",
    "        print(error)\n",
    "    finally:\n",
    "        if conn is not None:\n",
    "            conn.close()"
   ]
  },
  {
   "cell_type": "code",
   "execution_count": 28,
   "id": "fff4bec9",
   "metadata": {},
   "outputs": [],
   "source": [
    "# Select some patients as sample\n",
    "patient_num = 100\n",
    "\n",
    "sql = \"SELECT * FROM mimiciii.patients p order by random() limit \" + str(patient_num)\n",
    "conn = psycopg2.connect(**postgresql_config())"
   ]
  },
  {
   "cell_type": "code",
   "execution_count": 29,
   "id": "fd73f807",
   "metadata": {},
   "outputs": [
    {
     "name": "stderr",
     "output_type": "stream",
     "text": [
      "C:\\Users\\shrus\\AppData\\Local\\Temp\\ipykernel_62108\\2368470750.py:2: UserWarning: pandas only supports SQLAlchemy connectable (engine/connection) or database string URI or sqlite3 DBAPI2 connection. Other DBAPI2 objects are not tested. Please consider using SQLAlchemy.\n",
      "  random_patients_df = pd.read_sql(sql, conn)\n"
     ]
    }
   ],
   "source": [
    "# Execute the sql and form the result as DataFrame\n",
    "random_patients_df = pd.read_sql(sql, conn)"
   ]
  },
  {
   "cell_type": "code",
   "execution_count": 30,
   "id": "589e515f",
   "metadata": {},
   "outputs": [
    {
     "data": {
      "text/html": [
       "<div>\n",
       "<style scoped>\n",
       "    .dataframe tbody tr th:only-of-type {\n",
       "        vertical-align: middle;\n",
       "    }\n",
       "\n",
       "    .dataframe tbody tr th {\n",
       "        vertical-align: top;\n",
       "    }\n",
       "\n",
       "    .dataframe thead th {\n",
       "        text-align: right;\n",
       "    }\n",
       "</style>\n",
       "<table border=\"1\" class=\"dataframe\">\n",
       "  <thead>\n",
       "    <tr style=\"text-align: right;\">\n",
       "      <th></th>\n",
       "      <th>row_id</th>\n",
       "      <th>subject_id</th>\n",
       "      <th>gender</th>\n",
       "      <th>dob</th>\n",
       "      <th>dod</th>\n",
       "      <th>dod_hosp</th>\n",
       "      <th>dod_ssn</th>\n",
       "      <th>expire_flag</th>\n",
       "    </tr>\n",
       "  </thead>\n",
       "  <tbody>\n",
       "    <tr>\n",
       "      <th>0</th>\n",
       "      <td>39119</td>\n",
       "      <td>71382</td>\n",
       "      <td>M</td>\n",
       "      <td>2135-06-30</td>\n",
       "      <td>NaT</td>\n",
       "      <td>NaT</td>\n",
       "      <td>NaT</td>\n",
       "      <td>0</td>\n",
       "    </tr>\n",
       "    <tr>\n",
       "      <th>1</th>\n",
       "      <td>28999</td>\n",
       "      <td>30853</td>\n",
       "      <td>M</td>\n",
       "      <td>2125-09-19</td>\n",
       "      <td>NaT</td>\n",
       "      <td>NaT</td>\n",
       "      <td>NaT</td>\n",
       "      <td>0</td>\n",
       "    </tr>\n",
       "    <tr>\n",
       "      <th>2</th>\n",
       "      <td>13496</td>\n",
       "      <td>14272</td>\n",
       "      <td>M</td>\n",
       "      <td>2122-07-13</td>\n",
       "      <td>NaT</td>\n",
       "      <td>NaT</td>\n",
       "      <td>NaT</td>\n",
       "      <td>0</td>\n",
       "    </tr>\n",
       "    <tr>\n",
       "      <th>3</th>\n",
       "      <td>16421</td>\n",
       "      <td>17359</td>\n",
       "      <td>M</td>\n",
       "      <td>2105-10-03</td>\n",
       "      <td>NaT</td>\n",
       "      <td>NaT</td>\n",
       "      <td>NaT</td>\n",
       "      <td>0</td>\n",
       "    </tr>\n",
       "    <tr>\n",
       "      <th>4</th>\n",
       "      <td>40804</td>\n",
       "      <td>78012</td>\n",
       "      <td>M</td>\n",
       "      <td>2114-01-08</td>\n",
       "      <td>NaT</td>\n",
       "      <td>NaT</td>\n",
       "      <td>NaT</td>\n",
       "      <td>0</td>\n",
       "    </tr>\n",
       "    <tr>\n",
       "      <th>...</th>\n",
       "      <td>...</td>\n",
       "      <td>...</td>\n",
       "      <td>...</td>\n",
       "      <td>...</td>\n",
       "      <td>...</td>\n",
       "      <td>...</td>\n",
       "      <td>...</td>\n",
       "      <td>...</td>\n",
       "    </tr>\n",
       "    <tr>\n",
       "      <th>95</th>\n",
       "      <td>31889</td>\n",
       "      <td>44303</td>\n",
       "      <td>M</td>\n",
       "      <td>2137-05-08</td>\n",
       "      <td>2167-02-13</td>\n",
       "      <td>2167-02-13</td>\n",
       "      <td>NaT</td>\n",
       "      <td>1</td>\n",
       "    </tr>\n",
       "    <tr>\n",
       "      <th>96</th>\n",
       "      <td>36859</td>\n",
       "      <td>62941</td>\n",
       "      <td>F</td>\n",
       "      <td>1872-02-14</td>\n",
       "      <td>NaT</td>\n",
       "      <td>NaT</td>\n",
       "      <td>NaT</td>\n",
       "      <td>0</td>\n",
       "    </tr>\n",
       "    <tr>\n",
       "      <th>97</th>\n",
       "      <td>44792</td>\n",
       "      <td>93391</td>\n",
       "      <td>M</td>\n",
       "      <td>2072-10-10</td>\n",
       "      <td>NaT</td>\n",
       "      <td>NaT</td>\n",
       "      <td>NaT</td>\n",
       "      <td>0</td>\n",
       "    </tr>\n",
       "    <tr>\n",
       "      <th>98</th>\n",
       "      <td>154</td>\n",
       "      <td>164</td>\n",
       "      <td>M</td>\n",
       "      <td>2034-04-26</td>\n",
       "      <td>2117-01-16</td>\n",
       "      <td>2117-01-16</td>\n",
       "      <td>NaT</td>\n",
       "      <td>1</td>\n",
       "    </tr>\n",
       "    <tr>\n",
       "      <th>99</th>\n",
       "      <td>40142</td>\n",
       "      <td>75514</td>\n",
       "      <td>F</td>\n",
       "      <td>2072-12-18</td>\n",
       "      <td>NaT</td>\n",
       "      <td>NaT</td>\n",
       "      <td>NaT</td>\n",
       "      <td>0</td>\n",
       "    </tr>\n",
       "  </tbody>\n",
       "</table>\n",
       "<p>100 rows × 8 columns</p>\n",
       "</div>"
      ],
      "text/plain": [
       "    row_id  subject_id gender        dob        dod   dod_hosp dod_ssn  \\\n",
       "0    39119       71382      M 2135-06-30        NaT        NaT     NaT   \n",
       "1    28999       30853      M 2125-09-19        NaT        NaT     NaT   \n",
       "2    13496       14272      M 2122-07-13        NaT        NaT     NaT   \n",
       "3    16421       17359      M 2105-10-03        NaT        NaT     NaT   \n",
       "4    40804       78012      M 2114-01-08        NaT        NaT     NaT   \n",
       "..     ...         ...    ...        ...        ...        ...     ...   \n",
       "95   31889       44303      M 2137-05-08 2167-02-13 2167-02-13     NaT   \n",
       "96   36859       62941      F 1872-02-14        NaT        NaT     NaT   \n",
       "97   44792       93391      M 2072-10-10        NaT        NaT     NaT   \n",
       "98     154         164      M 2034-04-26 2117-01-16 2117-01-16     NaT   \n",
       "99   40142       75514      F 2072-12-18        NaT        NaT     NaT   \n",
       "\n",
       "    expire_flag  \n",
       "0             0  \n",
       "1             0  \n",
       "2             0  \n",
       "3             0  \n",
       "4             0  \n",
       "..          ...  \n",
       "95            1  \n",
       "96            0  \n",
       "97            0  \n",
       "98            1  \n",
       "99            0  \n",
       "\n",
       "[100 rows x 8 columns]"
      ]
     },
     "execution_count": 30,
     "metadata": {},
     "output_type": "execute_result"
    }
   ],
   "source": [
    "random_patients_df"
   ]
  },
  {
   "cell_type": "code",
   "execution_count": 31,
   "id": "25e18298",
   "metadata": {},
   "outputs": [],
   "source": [
    "# Save patient sample\n",
    "random_patients_df.to_csv(csv_save_path + \"patients.csv\", index=None)"
   ]
  },
  {
   "cell_type": "code",
   "execution_count": 32,
   "id": "d0044e44",
   "metadata": {},
   "outputs": [
    {
     "data": {
      "text/plain": [
       "0     71382\n",
       "1     30853\n",
       "2     14272\n",
       "3     17359\n",
       "4     78012\n",
       "      ...  \n",
       "95    44303\n",
       "96    62941\n",
       "97    93391\n",
       "98      164\n",
       "99    75514\n",
       "Name: subject_id, Length: 100, dtype: int64"
      ]
     },
     "execution_count": 32,
     "metadata": {},
     "output_type": "execute_result"
    }
   ],
   "source": [
    "# Pick Subject_id\n",
    "patients_subject_ids = random_patients_df['subject_id']\n",
    "patients_subject_ids"
   ]
  },
  {
   "cell_type": "code",
   "execution_count": 33,
   "id": "db0d6c0c",
   "metadata": {},
   "outputs": [
    {
     "name": "stdout",
     "output_type": "stream",
     "text": [
      "<class 'pandas.core.frame.DataFrame'>\n",
      "RangeIndex: 100 entries, 0 to 99\n",
      "Data columns (total 8 columns):\n",
      " #   Column       Non-Null Count  Dtype         \n",
      "---  ------       --------------  -----         \n",
      " 0   row_id       100 non-null    int64         \n",
      " 1   subject_id   100 non-null    int64         \n",
      " 2   gender       100 non-null    object        \n",
      " 3   dob          100 non-null    datetime64[ns]\n",
      " 4   dod          41 non-null     datetime64[ns]\n",
      " 5   dod_hosp     24 non-null     datetime64[ns]\n",
      " 6   dod_ssn      32 non-null     datetime64[ns]\n",
      " 7   expire_flag  100 non-null    int64         \n",
      "dtypes: datetime64[ns](4), int64(3), object(1)\n",
      "memory usage: 6.4+ KB\n"
     ]
    }
   ],
   "source": [
    "random_patients_df.info()"
   ]
  },
  {
   "cell_type": "code",
   "execution_count": null,
   "id": "e5d5cee7",
   "metadata": {},
   "outputs": [],
   "source": []
  }
 ],
 "metadata": {
  "kernelspec": {
   "display_name": "Python 3 (ipykernel)",
   "language": "python",
   "name": "python3"
  },
  "language_info": {
   "codemirror_mode": {
    "name": "ipython",
    "version": 3
   },
   "file_extension": ".py",
   "mimetype": "text/x-python",
   "name": "python",
   "nbconvert_exporter": "python",
   "pygments_lexer": "ipython3",
   "version": "3.10.9"
  }
 },
 "nbformat": 4,
 "nbformat_minor": 5
}
