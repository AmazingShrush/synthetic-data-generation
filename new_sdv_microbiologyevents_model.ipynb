{
 "cells": [
  {
   "cell_type": "code",
   "execution_count": 1,
   "id": "e1c0f76c",
   "metadata": {},
   "outputs": [],
   "source": [
    "# Ignore warnings\n",
    "import warnings\n",
    "warnings.filterwarnings(\"ignore\")\n"
   ]
  },
  {
   "cell_type": "code",
   "execution_count": 2,
   "id": "8cf2bc44",
   "metadata": {},
   "outputs": [],
   "source": [
    "import pandas as pd\n",
    "import numpy as np\n",
    "\n",
    "import commonfunc"
   ]
  },
  {
   "cell_type": "code",
   "execution_count": 3,
   "id": "5f5257c0",
   "metadata": {},
   "outputs": [],
   "source": [
    "data_set_path='C:/Users/shrus/Documents/Synthetic-data-generation/'"
   ]
  },
  {
   "cell_type": "code",
   "execution_count": 4,
   "id": "b52ad66d",
   "metadata": {},
   "outputs": [],
   "source": [
    "microbio_df = commonfunc.read_csv_no_rowid(data_set_path+\"sampled_data_csv_100/microbiologyevents.csv\")"
   ]
  },
  {
   "cell_type": "markdown",
   "id": "47ca7cc7",
   "metadata": {},
   "source": [
    "## Data Preprocessing"
   ]
  },
  {
   "cell_type": "code",
   "execution_count": 6,
   "id": "60cf3ab4",
   "metadata": {},
   "outputs": [],
   "source": [
    "# Drop some columns. This cell must be below of Deal with null values\n",
    "microbio_df.drop(['chartdate'], axis=1, inplace=True)"
   ]
  },
  {
   "cell_type": "code",
   "execution_count": 7,
   "id": "e5a30397",
   "metadata": {},
   "outputs": [
    {
     "data": {
      "text/plain": [
       "subject_id               0\n",
       "hadm_id                  0\n",
       "charttime              171\n",
       "spec_itemid              0\n",
       "spec_type_desc           0\n",
       "org_itemid             753\n",
       "org_name               753\n",
       "isolate_num            753\n",
       "ab_itemid              865\n",
       "ab_name                865\n",
       "dilution_text          872\n",
       "dilution_comparison    872\n",
       "dilution_value         872\n",
       "interpretation         865\n",
       "dtype: int64"
      ]
     },
     "execution_count": 7,
     "metadata": {},
     "output_type": "execute_result"
    }
   ],
   "source": [
    "microbio_df.isnull().sum()"
   ]
  },
  {
   "cell_type": "code",
   "execution_count": 8,
   "id": "0aed25f6",
   "metadata": {},
   "outputs": [],
   "source": [
    "microbio_df.dropna(subset=['subject_id', 'hadm_id', 'spec_itemid', 'charttime'], inplace=True, axis=0)"
   ]
  },
  {
   "cell_type": "code",
   "execution_count": 9,
   "id": "880f21d8",
   "metadata": {},
   "outputs": [
    {
     "data": {
      "text/plain": [
       "subject_id               0\n",
       "hadm_id                  0\n",
       "charttime                0\n",
       "spec_itemid              0\n",
       "spec_type_desc           0\n",
       "org_itemid             702\n",
       "org_name               702\n",
       "isolate_num            702\n",
       "ab_itemid              798\n",
       "ab_name                798\n",
       "dilution_text          805\n",
       "dilution_comparison    805\n",
       "dilution_value         805\n",
       "interpretation         798\n",
       "dtype: int64"
      ]
     },
     "execution_count": 9,
     "metadata": {},
     "output_type": "execute_result"
    }
   ],
   "source": [
    "microbio_df.isnull().sum()"
   ]
  },
  {
   "cell_type": "code",
   "execution_count": 11,
   "id": "6c0f156b",
   "metadata": {},
   "outputs": [
    {
     "data": {
      "text/plain": [
       "subject_id               int64\n",
       "hadm_id                  int64\n",
       "charttime               object\n",
       "spec_itemid              int64\n",
       "spec_type_desc          object\n",
       "org_itemid             float64\n",
       "org_name                object\n",
       "isolate_num            float64\n",
       "ab_itemid              float64\n",
       "ab_name                 object\n",
       "dilution_text           object\n",
       "dilution_comparison     object\n",
       "dilution_value         float64\n",
       "interpretation          object\n",
       "dtype: object"
      ]
     },
     "execution_count": 11,
     "metadata": {},
     "output_type": "execute_result"
    }
   ],
   "source": [
    "microbio_df.dtypes"
   ]
  },
  {
   "cell_type": "code",
   "execution_count": 13,
   "id": "092da32c",
   "metadata": {},
   "outputs": [],
   "source": [
    "microbio_df['charttime'] = pd.to_datetime(microbio_df['charttime'])\n"
   ]
  },
  {
   "cell_type": "code",
   "execution_count": 26,
   "id": "557fc9c9",
   "metadata": {},
   "outputs": [],
   "source": [
    "microbio_df = microbio_df.drop(['hadm_id', 'subject_id'], axis=1)"
   ]
  },
  {
   "cell_type": "code",
   "execution_count": 27,
   "id": "025d7f18",
   "metadata": {},
   "outputs": [
    {
     "data": {
      "text/plain": [
       "charttime              datetime64[ns]\n",
       "spec_itemid                     int64\n",
       "spec_type_desc                 object\n",
       "org_itemid                    float64\n",
       "org_name                       object\n",
       "isolate_num                   float64\n",
       "ab_itemid                     float64\n",
       "ab_name                        object\n",
       "dilution_text                  object\n",
       "dilution_comparison            object\n",
       "dilution_value                float64\n",
       "interpretation                 object\n",
       "dtype: object"
      ]
     },
     "execution_count": 27,
     "metadata": {},
     "output_type": "execute_result"
    }
   ],
   "source": [
    "microbio_df.dtypes"
   ]
  },
  {
   "cell_type": "code",
   "execution_count": 28,
   "id": "6091cd7b",
   "metadata": {},
   "outputs": [
    {
     "data": {
      "text/plain": [
       "Index(['charttime', 'spec_itemid', 'spec_type_desc', 'org_itemid', 'org_name',\n",
       "       'isolate_num', 'ab_itemid', 'ab_name', 'dilution_text',\n",
       "       'dilution_comparison', 'dilution_value', 'interpretation'],\n",
       "      dtype='object')"
      ]
     },
     "execution_count": 28,
     "metadata": {},
     "output_type": "execute_result"
    }
   ],
   "source": [
    "microbio_df.columns"
   ]
  },
  {
   "cell_type": "markdown",
   "id": "73f0915c",
   "metadata": {},
   "source": [
    "## Metadata"
   ]
  },
  {
   "cell_type": "code",
   "execution_count": 40,
   "id": "3a4c8062",
   "metadata": {},
   "outputs": [],
   "source": [
    "from sdv.metadata import SingleTableMetadata\n",
    "\n",
    "metadata = SingleTableMetadata()"
   ]
  },
  {
   "cell_type": "code",
   "execution_count": 41,
   "id": "f0c990fb",
   "metadata": {},
   "outputs": [],
   "source": [
    "metadata.detect_from_dataframe(data=microbio_df)"
   ]
  },
  {
   "cell_type": "code",
   "execution_count": 42,
   "id": "90d1e7dd",
   "metadata": {},
   "outputs": [
    {
     "data": {
      "text/plain": [
       "{\n",
       "    \"columns\": {\n",
       "        \"charttime\": {\n",
       "            \"sdtype\": \"datetime\"\n",
       "        },\n",
       "        \"spec_itemid\": {\n",
       "            \"sdtype\": \"numerical\"\n",
       "        },\n",
       "        \"spec_type_desc\": {\n",
       "            \"sdtype\": \"categorical\"\n",
       "        },\n",
       "        \"org_itemid\": {\n",
       "            \"sdtype\": \"numerical\"\n",
       "        },\n",
       "        \"org_name\": {\n",
       "            \"sdtype\": \"categorical\"\n",
       "        },\n",
       "        \"isolate_num\": {\n",
       "            \"sdtype\": \"numerical\"\n",
       "        },\n",
       "        \"ab_itemid\": {\n",
       "            \"sdtype\": \"numerical\"\n",
       "        },\n",
       "        \"ab_name\": {\n",
       "            \"sdtype\": \"categorical\"\n",
       "        },\n",
       "        \"dilution_text\": {\n",
       "            \"sdtype\": \"categorical\"\n",
       "        },\n",
       "        \"dilution_comparison\": {\n",
       "            \"sdtype\": \"categorical\"\n",
       "        },\n",
       "        \"dilution_value\": {\n",
       "            \"sdtype\": \"numerical\"\n",
       "        },\n",
       "        \"interpretation\": {\n",
       "            \"sdtype\": \"categorical\"\n",
       "        }\n",
       "    },\n",
       "    \"METADATA_SPEC_VERSION\": \"SINGLE_TABLE_V1\"\n",
       "}"
      ]
     },
     "execution_count": 42,
     "metadata": {},
     "output_type": "execute_result"
    }
   ],
   "source": [
    "metadata"
   ]
  },
  {
   "cell_type": "code",
   "execution_count": 43,
   "id": "29bcda20",
   "metadata": {},
   "outputs": [],
   "source": [
    "metadata.update_column(\n",
    "    column_name='spec_itemid',\n",
    "    sdtype='categorical'\n",
    ")\n",
    "\n",
    "metadata.update_column(\n",
    "    column_name='org_itemid',\n",
    "    sdtype='categorical'\n",
    ")\n",
    "\n",
    "metadata.update_column(\n",
    "    column_name='ab_itemid',\n",
    "    sdtype='categorical'\n",
    ")\n",
    "\n",
    "metadata.update_column(\n",
    "    column_name='dilution_value',\n",
    "    sdtype='categorical'\n",
    ")"
   ]
  },
  {
   "cell_type": "markdown",
   "id": "a4f42c8d",
   "metadata": {},
   "source": [
    "## Model Building"
   ]
  },
  {
   "cell_type": "markdown",
   "id": "adb7142b",
   "metadata": {},
   "source": [
    "### Constraints"
   ]
  },
  {
   "cell_type": "code",
   "execution_count": 44,
   "id": "c1f1d56b",
   "metadata": {},
   "outputs": [],
   "source": [
    "fixed_org_itemid_name = {\n",
    "    'constraint_class': 'FixedCombinations',\n",
    "    'constraint_parameters': {\n",
    "        'column_names': ['org_itemid', 'org_name']\n",
    "    }\n",
    "}\n",
    "\n",
    "fixed_spec_itemid_name = {\n",
    "    'constraint_class': 'FixedCombinations',\n",
    "    'constraint_parameters': {\n",
    "        'column_names': ['spec_itemid', 'spec_type_desc']\n",
    "    }\n",
    "}\n",
    "\n",
    "fixed_dilution_constraint = {\n",
    "    'constraint_class': 'FixedCombinations',\n",
    "    'constraint_parameters': {\n",
    "        'column_names': ['ab_itemid', 'ab_name', 'dilution_text', 'dilution_comparison', 'dilution_value']\n",
    "    }\n",
    "}"
   ]
  },
  {
   "cell_type": "markdown",
   "id": "0e368fae",
   "metadata": {},
   "source": [
    "### Model "
   ]
  },
  {
   "cell_type": "code",
   "execution_count": 45,
   "id": "0cd08d93",
   "metadata": {},
   "outputs": [],
   "source": [
    "data=microbio_df"
   ]
  },
  {
   "cell_type": "code",
   "execution_count": 50,
   "id": "7482a5d4",
   "metadata": {},
   "outputs": [
    {
     "name": "stderr",
     "output_type": "stream",
     "text": [
      "Sampling rows: 100%|██████████| 1348/1348 [00:00<00:00, 16331.28it/s]\n"
     ]
    }
   ],
   "source": [
    "from sdv.lite import SingleTablePreset\n",
    "\n",
    "synthesizer1 = SingleTablePreset(metadata, name='FAST_ML')\n",
    "\n",
    "\n",
    "synthesizer1.add_constraints(constraints=[\n",
    "    fixed_org_itemid_name,fixed_spec_itemid_name,fixed_dilution_constraint\n",
    "])\n",
    "synthesizer1.fit(data)\n",
    "\n",
    "synthetic_data1 = synthesizer1.sample(num_rows=len(data))"
   ]
  },
  {
   "cell_type": "code",
   "execution_count": 51,
   "id": "1ac66d3b",
   "metadata": {},
   "outputs": [
    {
     "name": "stderr",
     "output_type": "stream",
     "text": [
      "Sampling rows: 100%|██████████| 1348/1348 [00:00<00:00, 14459.64it/s]\n"
     ]
    }
   ],
   "source": [
    "from sdv.single_table import GaussianCopulaSynthesizer\n",
    "\n",
    "synthesizer2 = GaussianCopulaSynthesizer(metadata)\n",
    "synthesizer2.add_constraints(constraints=[\n",
    "    fixed_org_itemid_name,fixed_spec_itemid_name,fixed_dilution_constraint\n",
    "])\n",
    "synthesizer2.fit(data)\n",
    "\n",
    "synthetic_data2 = synthesizer2.sample(num_rows=len(data))"
   ]
  },
  {
   "cell_type": "code",
   "execution_count": 52,
   "id": "b2b8d418",
   "metadata": {},
   "outputs": [
    {
     "name": "stderr",
     "output_type": "stream",
     "text": [
      "Sampling rows: 100%|██████████| 1348/1348 [00:00<00:00, 1355.30it/s]\n"
     ]
    }
   ],
   "source": [
    "from sdv.single_table import CTGANSynthesizer\n",
    "\n",
    "synthesizer3 = CTGANSynthesizer(metadata)\n",
    "synthesizer3.add_constraints(constraints=[\n",
    "    fixed_org_itemid_name,fixed_spec_itemid_name,fixed_dilution_constraint\n",
    "])\n",
    "synthesizer3.fit(data)\n",
    "\n",
    "synthetic_data3 = synthesizer3.sample(num_rows=len(data))"
   ]
  },
  {
   "cell_type": "code",
   "execution_count": 53,
   "id": "ee0afea5",
   "metadata": {},
   "outputs": [
    {
     "name": "stderr",
     "output_type": "stream",
     "text": [
      "Sampling rows: 100%|██████████| 1348/1348 [00:00<00:00, 6288.00it/s]\n"
     ]
    }
   ],
   "source": [
    "from sdv.single_table import TVAESynthesizer\n",
    "\n",
    "synthesizer4 = TVAESynthesizer(metadata)\n",
    "synthesizer4.add_constraints(constraints=[\n",
    "    fixed_org_itemid_name,fixed_spec_itemid_name,fixed_dilution_constraint\n",
    "])\n",
    "synthesizer4.fit(data)\n",
    "\n",
    "synthetic_data4 = synthesizer4.sample(num_rows=len(data))"
   ]
  },
  {
   "cell_type": "code",
   "execution_count": 54,
   "id": "98736940",
   "metadata": {},
   "outputs": [
    {
     "name": "stderr",
     "output_type": "stream",
     "text": [
      "Sampling rows: 100%|██████████| 1348/1348 [00:00<00:00, 1366.69it/s]\n"
     ]
    }
   ],
   "source": [
    "from sdv.single_table import CopulaGANSynthesizer\n",
    "\n",
    "synthesizer5 = CopulaGANSynthesizer(metadata)\n",
    "synthesizer5.add_constraints(constraints=[\n",
    "    fixed_org_itemid_name,fixed_spec_itemid_name,fixed_dilution_constraint\n",
    "])\n",
    "synthesizer5.fit(data)\n",
    "\n",
    "synthetic_data5 = synthesizer5.sample(num_rows=len(data))"
   ]
  },
  {
   "cell_type": "markdown",
   "id": "1bca405c",
   "metadata": {},
   "source": [
    "Evaluating performance of models"
   ]
  },
  {
   "cell_type": "code",
   "execution_count": 55,
   "id": "1eac66c7",
   "metadata": {},
   "outputs": [
    {
     "name": "stderr",
     "output_type": "stream",
     "text": [
      "Creating report: 100%|██████████| 4/4 [00:00<00:00,  4.73it/s]\n"
     ]
    },
    {
     "name": "stdout",
     "output_type": "stream",
     "text": [
      "\n",
      "Overall Quality Score: 71.9%\n",
      "\n",
      "Properties:\n",
      "Column Shapes: 79.56%\n",
      "Column Pair Trends: 64.23%\n"
     ]
    }
   ],
   "source": [
    "from sdv.evaluation.single_table import evaluate_quality\n",
    "\n",
    "quality_report = evaluate_quality(\n",
    "    real_data=data,\n",
    "    synthetic_data=synthetic_data1,\n",
    "    metadata=metadata)"
   ]
  },
  {
   "cell_type": "code",
   "execution_count": 56,
   "id": "0a4a5915",
   "metadata": {},
   "outputs": [
    {
     "name": "stderr",
     "output_type": "stream",
     "text": [
      "Creating report: 100%|██████████| 4/4 [00:00<00:00,  4.26it/s]\n"
     ]
    },
    {
     "name": "stdout",
     "output_type": "stream",
     "text": [
      "\n",
      "Overall Quality Score: 62.15%\n",
      "\n",
      "Properties:\n",
      "Column Shapes: 74.87%\n",
      "Column Pair Trends: 49.42%\n"
     ]
    }
   ],
   "source": [
    "from sdv.evaluation.single_table import evaluate_quality\n",
    "\n",
    "quality_report = evaluate_quality(\n",
    "    real_data=data,\n",
    "    synthetic_data=synthetic_data2,\n",
    "    metadata=metadata)"
   ]
  },
  {
   "cell_type": "code",
   "execution_count": 57,
   "id": "7575f225",
   "metadata": {},
   "outputs": [
    {
     "name": "stderr",
     "output_type": "stream",
     "text": [
      "Creating report: 100%|██████████| 4/4 [00:00<00:00,  4.65it/s]\n"
     ]
    },
    {
     "name": "stdout",
     "output_type": "stream",
     "text": [
      "\n",
      "Overall Quality Score: 67.88%\n",
      "\n",
      "Properties:\n",
      "Column Shapes: 82.68%\n",
      "Column Pair Trends: 53.08%\n"
     ]
    }
   ],
   "source": [
    "from sdv.evaluation.single_table import evaluate_quality\n",
    "\n",
    "quality_report = evaluate_quality(\n",
    "    real_data=data,\n",
    "    synthetic_data=synthetic_data3,\n",
    "    metadata=metadata)"
   ]
  },
  {
   "cell_type": "code",
   "execution_count": 58,
   "id": "fe9633fa",
   "metadata": {},
   "outputs": [
    {
     "name": "stderr",
     "output_type": "stream",
     "text": [
      "Creating report: 100%|██████████| 4/4 [00:01<00:00,  3.28it/s]\n"
     ]
    },
    {
     "name": "stdout",
     "output_type": "stream",
     "text": [
      "\n",
      "Overall Quality Score: 64.56%\n",
      "\n",
      "Properties:\n",
      "Column Shapes: 65.8%\n",
      "Column Pair Trends: 63.33%\n"
     ]
    }
   ],
   "source": [
    "from sdv.evaluation.single_table import evaluate_quality\n",
    "\n",
    "quality_report = evaluate_quality(\n",
    "    real_data=data,\n",
    "    synthetic_data=synthetic_data4,\n",
    "    metadata=metadata)"
   ]
  },
  {
   "cell_type": "code",
   "execution_count": 59,
   "id": "b91229c4",
   "metadata": {},
   "outputs": [
    {
     "name": "stderr",
     "output_type": "stream",
     "text": [
      "Creating report: 100%|██████████| 4/4 [00:00<00:00,  4.89it/s]\n"
     ]
    },
    {
     "name": "stdout",
     "output_type": "stream",
     "text": [
      "\n",
      "Overall Quality Score: 67.3%\n",
      "\n",
      "Properties:\n",
      "Column Shapes: 82.89%\n",
      "Column Pair Trends: 51.71%\n"
     ]
    }
   ],
   "source": [
    "from sdv.evaluation.single_table import evaluate_quality\n",
    "\n",
    "quality_report = evaluate_quality(\n",
    "    real_data=data,\n",
    "    synthetic_data=synthetic_data5,\n",
    "    metadata=metadata)"
   ]
  },
  {
   "cell_type": "code",
   "execution_count": 61,
   "id": "ae98a351",
   "metadata": {
    "scrolled": true
   },
   "outputs": [],
   "source": [
    "synthesizer1.save('C:/Users/shrus/Documents/Synthetic-data-generation/models/microbiologyevents/'+'microbiologyevents_best_singletablepreset.pkl')\n"
   ]
  },
  {
   "cell_type": "code",
   "execution_count": 62,
   "id": "9979d59c",
   "metadata": {},
   "outputs": [],
   "source": [
    "synthesizer2.save('C:/Users/shrus/Documents/Synthetic-data-generation/models/microbiologyevents/'+'microbiologyevents_gaussiancopula.pkl')\n"
   ]
  },
  {
   "cell_type": "code",
   "execution_count": 63,
   "id": "36a8588e",
   "metadata": {},
   "outputs": [],
   "source": [
    "synthesizer3.save('C:/Users/shrus/Documents/Synthetic-data-generation/models/microbiologyevents/'+'microbiologyevents_ctgan.pkl')\n"
   ]
  },
  {
   "cell_type": "code",
   "execution_count": 64,
   "id": "7c0b7f52",
   "metadata": {},
   "outputs": [],
   "source": [
    "synthesizer4.save('C:/Users/shrus/Documents/Synthetic-data-generation/models/microbiologyevents/'+'microbiologyevents_tvae.pkl')\n"
   ]
  },
  {
   "cell_type": "code",
   "execution_count": 65,
   "id": "543971f9",
   "metadata": {},
   "outputs": [],
   "source": [
    "synthesizer5.save('C:/Users/shrus/Documents/Synthetic-data-generation/models/microbiologyevents/'+'microbiologyevents_copulagan.pkl')\n"
   ]
  },
  {
   "cell_type": "code",
   "execution_count": null,
   "id": "c226cff3",
   "metadata": {},
   "outputs": [],
   "source": []
  }
 ],
 "metadata": {
  "kernelspec": {
   "display_name": "Python 3 (ipykernel)",
   "language": "python",
   "name": "python3"
  },
  "language_info": {
   "codemirror_mode": {
    "name": "ipython",
    "version": 3
   },
   "file_extension": ".py",
   "mimetype": "text/x-python",
   "name": "python",
   "nbconvert_exporter": "python",
   "pygments_lexer": "ipython3",
   "version": "3.10.9"
  }
 },
 "nbformat": 4,
 "nbformat_minor": 5
}
