{
 "cells": [
  {
   "cell_type": "code",
   "execution_count": 19,
   "id": "7c3a259d",
   "metadata": {},
   "outputs": [],
   "source": [
    "# Ignore warnings\n",
    "import warnings\n",
    "warnings.filterwarnings(\"ignore\")"
   ]
  },
  {
   "cell_type": "code",
   "execution_count": 20,
   "id": "628732fd",
   "metadata": {},
   "outputs": [],
   "source": [
    "import pandas as pd\n",
    "import numpy as np\n",
    "\n",
    "import commonfunc"
   ]
  },
  {
   "cell_type": "code",
   "execution_count": 21,
   "id": "e0847bb5",
   "metadata": {},
   "outputs": [],
   "source": [
    "data_set_path='C:/Users/shrus/Documents/Synthetic-data-generation/'"
   ]
  },
  {
   "cell_type": "code",
   "execution_count": 22,
   "id": "541b0ac7",
   "metadata": {},
   "outputs": [],
   "source": [
    "callout_df = commonfunc.read_csv_no_rowid(data_set_path+\"sampled_data_csv_100/callout.csv\")"
   ]
  },
  {
   "cell_type": "code",
   "execution_count": 23,
   "id": "83ff2f2b",
   "metadata": {},
   "outputs": [],
   "source": [
    "callout_df.drop(['submit_careunit', 'firstreservationtime', 'currentreservationtime'], axis=1, inplace=True)"
   ]
  },
  {
   "cell_type": "code",
   "execution_count": 24,
   "id": "5400789c",
   "metadata": {},
   "outputs": [
    {
     "name": "stdout",
     "output_type": "stream",
     "text": [
      "Total columns: 20\n",
      "Total rows: 99\n",
      "--------------\n",
      "subject_id             0\n",
      "hadm_id                0\n",
      "submit_wardid          0\n",
      "curr_wardid            0\n",
      "curr_careunit          0\n",
      "callout_wardid         0\n",
      "callout_service        0\n",
      "request_tele           0\n",
      "request_resp           0\n",
      "request_cdiff          0\n",
      "request_mrsa           0\n",
      "request_vre            0\n",
      "callout_status         0\n",
      "callout_outcome        0\n",
      "discharge_wardid      15\n",
      "acknowledge_status     0\n",
      "createtime             0\n",
      "updatetime             0\n",
      "acknowledgetime        5\n",
      "outcometime            0\n",
      "dtype: int64\n"
     ]
    }
   ],
   "source": [
    "# Check null value in table\n",
    "commonfunc.nan_count(callout_df)"
   ]
  },
  {
   "cell_type": "code",
   "execution_count": 25,
   "id": "f1af8276",
   "metadata": {},
   "outputs": [
    {
     "data": {
      "text/plain": [
       "subject_id              int64\n",
       "hadm_id                 int64\n",
       "submit_wardid           int64\n",
       "curr_wardid             int64\n",
       "curr_careunit          object\n",
       "callout_wardid          int64\n",
       "callout_service        object\n",
       "request_tele            int64\n",
       "request_resp            int64\n",
       "request_cdiff           int64\n",
       "request_mrsa            int64\n",
       "request_vre             int64\n",
       "callout_status         object\n",
       "callout_outcome        object\n",
       "discharge_wardid      float64\n",
       "acknowledge_status     object\n",
       "createtime             object\n",
       "updatetime             object\n",
       "acknowledgetime        object\n",
       "outcometime            object\n",
       "dtype: object"
      ]
     },
     "execution_count": 25,
     "metadata": {},
     "output_type": "execute_result"
    }
   ],
   "source": [
    "callout_df.dtypes"
   ]
  },
  {
   "cell_type": "code",
   "execution_count": 26,
   "id": "2c056aaa",
   "metadata": {},
   "outputs": [],
   "source": [
    "# Transfer some date type\n",
    "callout_df['createtime'] = pd.to_datetime(callout_df['createtime'])\n",
    "callout_df['updatetime'] = pd.to_datetime(callout_df['updatetime'])\n",
    "callout_df['acknowledgetime'] = pd.to_datetime(callout_df['acknowledgetime'])\n",
    "callout_df['outcometime'] = pd.to_datetime(callout_df['outcometime'])"
   ]
  },
  {
   "cell_type": "code",
   "execution_count": 27,
   "id": "51b5cf7b",
   "metadata": {},
   "outputs": [],
   "source": [
    "admissions_df = commonfunc.read_csv_no_rowid(data_set_path+\"sampled_data_csv_100/admissions.csv\")"
   ]
  },
  {
   "cell_type": "code",
   "execution_count": 28,
   "id": "cc39c41b",
   "metadata": {},
   "outputs": [],
   "source": [
    "admittime_df = admissions_df.loc[:, ['hadm_id', 'admittime']]\n",
    "admittime_df['admittime'] = pd.to_datetime(admittime_df['admittime'])"
   ]
  },
  {
   "cell_type": "code",
   "execution_count": 29,
   "id": "6a274f48",
   "metadata": {},
   "outputs": [],
   "source": [
    "callout_mid_df = pd.merge(left=callout_df, right=admittime_df, how='left', on=['hadm_id'])"
   ]
  },
  {
   "cell_type": "code",
   "execution_count": 30,
   "id": "9c85f0bb",
   "metadata": {},
   "outputs": [],
   "source": [
    "# callout_mid_df['outcometime'] = callout_mid_df.apply(commonfunc.time_process, args=('acknowledgetime', 'outcometime', 'updatetime'), axis=1)\n",
    "# callout_mid_df['acknowledgetime'] = callout_mid_df.apply(commonfunc.time_process, args=('updatetime', 'acknowledgetime'), axis=1)\n",
    "# callout_mid_df['updatetime'] = callout_mid_df.apply(commonfunc.time_process, args=('createtime', 'updatetime'), axis=1)\n",
    "# callout_mid_df['createtime'] = callout_mid_df.apply(commonfunc.time_process, args=('admittime', 'createtime'), axis=1)"
   ]
  },
  {
   "cell_type": "code",
   "execution_count": 31,
   "id": "1d3a158b",
   "metadata": {},
   "outputs": [],
   "source": [
    "callout_df = callout_mid_df.drop(['hadm_id', 'admittime', 'subject_id'], axis=1)"
   ]
  },
  {
   "cell_type": "markdown",
   "id": "5e4b0387",
   "metadata": {},
   "source": [
    "## Metadata"
   ]
  },
  {
   "cell_type": "code",
   "execution_count": 32,
   "id": "f58b88b2",
   "metadata": {},
   "outputs": [],
   "source": [
    "from sdv.metadata import SingleTableMetadata\n",
    "\n",
    "metadata = SingleTableMetadata()"
   ]
  },
  {
   "cell_type": "code",
   "execution_count": 33,
   "id": "8cb660a6",
   "metadata": {},
   "outputs": [],
   "source": [
    "metadata.detect_from_dataframe(data=callout_df)"
   ]
  },
  {
   "cell_type": "code",
   "execution_count": 34,
   "id": "a9892b02",
   "metadata": {},
   "outputs": [
    {
     "data": {
      "text/plain": [
       "{\n",
       "    \"columns\": {\n",
       "        \"submit_wardid\": {\n",
       "            \"sdtype\": \"numerical\"\n",
       "        },\n",
       "        \"curr_wardid\": {\n",
       "            \"sdtype\": \"numerical\"\n",
       "        },\n",
       "        \"curr_careunit\": {\n",
       "            \"sdtype\": \"categorical\"\n",
       "        },\n",
       "        \"callout_wardid\": {\n",
       "            \"sdtype\": \"numerical\"\n",
       "        },\n",
       "        \"callout_service\": {\n",
       "            \"sdtype\": \"categorical\"\n",
       "        },\n",
       "        \"request_tele\": {\n",
       "            \"sdtype\": \"numerical\"\n",
       "        },\n",
       "        \"request_resp\": {\n",
       "            \"sdtype\": \"numerical\"\n",
       "        },\n",
       "        \"request_cdiff\": {\n",
       "            \"sdtype\": \"numerical\"\n",
       "        },\n",
       "        \"request_mrsa\": {\n",
       "            \"sdtype\": \"numerical\"\n",
       "        },\n",
       "        \"request_vre\": {\n",
       "            \"sdtype\": \"numerical\"\n",
       "        },\n",
       "        \"callout_status\": {\n",
       "            \"sdtype\": \"categorical\"\n",
       "        },\n",
       "        \"callout_outcome\": {\n",
       "            \"sdtype\": \"categorical\"\n",
       "        },\n",
       "        \"discharge_wardid\": {\n",
       "            \"sdtype\": \"numerical\"\n",
       "        },\n",
       "        \"acknowledge_status\": {\n",
       "            \"sdtype\": \"categorical\"\n",
       "        },\n",
       "        \"createtime\": {\n",
       "            \"sdtype\": \"datetime\"\n",
       "        },\n",
       "        \"updatetime\": {\n",
       "            \"sdtype\": \"datetime\"\n",
       "        },\n",
       "        \"acknowledgetime\": {\n",
       "            \"sdtype\": \"datetime\"\n",
       "        },\n",
       "        \"outcometime\": {\n",
       "            \"sdtype\": \"datetime\"\n",
       "        }\n",
       "    },\n",
       "    \"METADATA_SPEC_VERSION\": \"SINGLE_TABLE_V1\"\n",
       "}"
      ]
     },
     "execution_count": 34,
     "metadata": {},
     "output_type": "execute_result"
    }
   ],
   "source": [
    "metadata"
   ]
  },
  {
   "cell_type": "code",
   "execution_count": 37,
   "id": "8d60fdeb",
   "metadata": {},
   "outputs": [],
   "source": [
    "\n",
    "\n",
    "metadata.update_column(\n",
    "    column_name='submit_wardid',\n",
    "    sdtype='categorical'\n",
    ")\n",
    "\n",
    "metadata.update_column(\n",
    "    column_name='callout_wardid',\n",
    "    sdtype='categorical'\n",
    ")\n",
    "\n",
    "metadata.update_column(\n",
    "    column_name='curr_wardid',\n",
    "    sdtype='categorical'\n",
    ")\n",
    "\n",
    "metadata.update_column(\n",
    "    column_name='request_tele',\n",
    "    sdtype='categorical'\n",
    ")\n",
    "\n",
    "metadata.update_column(\n",
    "    column_name='request_resp',\n",
    "    sdtype='categorical'\n",
    ")\n",
    "\n",
    "metadata.update_column(\n",
    "    column_name='request_cdiff',\n",
    "    sdtype='categorical'\n",
    ")\n",
    "\n",
    "metadata.update_column(\n",
    "    column_name='request_mrsa',\n",
    "    sdtype='categorical'\n",
    ")\n",
    "\n",
    "metadata.update_column(\n",
    "    column_name='request_vre',\n",
    "    sdtype='categorical'\n",
    ")\n",
    "\n",
    "metadata.update_column(\n",
    "    column_name='discharge_wardid',\n",
    "    sdtype='categorical'\n",
    ")"
   ]
  },
  {
   "cell_type": "code",
   "execution_count": null,
   "id": "43755eb1",
   "metadata": {},
   "outputs": [],
   "source": [
    "metadata.save_to_json(filepath=data_set_path+'metadata/callout/callout.json')"
   ]
  },
  {
   "cell_type": "code",
   "execution_count": 39,
   "id": "902d5234",
   "metadata": {},
   "outputs": [],
   "source": [
    "data=callout_df"
   ]
  },
  {
   "cell_type": "code",
   "execution_count": 40,
   "id": "c7d05402",
   "metadata": {},
   "outputs": [],
   "source": [
    "from sdv.lite import SingleTablePreset\n",
    "\n",
    "synthesizer1 = SingleTablePreset(metadata, name='FAST_ML')\n",
    "synthesizer1.fit(data)\n",
    "\n",
    "synthetic_data1 = synthesizer1.sample(num_rows=100)"
   ]
  },
  {
   "cell_type": "code",
   "execution_count": 41,
   "id": "102e2aa0",
   "metadata": {},
   "outputs": [],
   "source": [
    "synthesizer1.save(data_set_path+'models/callout/callout_singletablepreset.pkl')\n"
   ]
  },
  {
   "cell_type": "code",
   "execution_count": 42,
   "id": "a1ed36cd",
   "metadata": {},
   "outputs": [],
   "source": [
    "from sdv.single_table import GaussianCopulaSynthesizer\n",
    "\n",
    "synthesizer2 = GaussianCopulaSynthesizer(metadata)\n",
    "synthesizer2.fit(data)\n",
    "\n",
    "synthetic_data2 = synthesizer2.sample(num_rows=100)"
   ]
  },
  {
   "cell_type": "code",
   "execution_count": 43,
   "id": "d539fdc8",
   "metadata": {},
   "outputs": [],
   "source": [
    "synthesizer2.save(data_set_path+'models/callout/callout_gaussiancopula.pkl')\n"
   ]
  },
  {
   "cell_type": "code",
   "execution_count": 44,
   "id": "a0223677",
   "metadata": {},
   "outputs": [],
   "source": [
    "from sdv.single_table import CTGANSynthesizer\n",
    "\n",
    "synthesizer3 = CTGANSynthesizer(metadata)\n",
    "synthesizer3.fit(data)\n",
    "\n",
    "synthetic_data3 = synthesizer3.sample(num_rows=100)"
   ]
  },
  {
   "cell_type": "code",
   "execution_count": 45,
   "id": "8c97ea2a",
   "metadata": {},
   "outputs": [],
   "source": [
    "synthesizer3.save(data_set_path+'models/callout/callout_ctgan.pkl')\n"
   ]
  },
  {
   "cell_type": "code",
   "execution_count": 46,
   "id": "1f40268e",
   "metadata": {},
   "outputs": [],
   "source": [
    "from sdv.single_table import TVAESynthesizer\n",
    "\n",
    "synthesizer4 = TVAESynthesizer(metadata)\n",
    "synthesizer4.fit(data)\n",
    "\n",
    "synthetic_data4 = synthesizer4.sample(num_rows=100)"
   ]
  },
  {
   "cell_type": "code",
   "execution_count": 47,
   "id": "f1471890",
   "metadata": {},
   "outputs": [],
   "source": [
    "synthesizer4.save(data_set_path+'models/callout/callout_tvae.pkl')\n"
   ]
  },
  {
   "cell_type": "code",
   "execution_count": 48,
   "id": "c7f6e5d7",
   "metadata": {},
   "outputs": [],
   "source": [
    "from sdv.single_table import CopulaGANSynthesizer\n",
    "\n",
    "synthesizer5 = CopulaGANSynthesizer(metadata)\n",
    "synthesizer5.fit(data)\n",
    "\n",
    "synthetic_data5 = synthesizer5.sample(num_rows=100)"
   ]
  },
  {
   "cell_type": "code",
   "execution_count": 49,
   "id": "9f0bf8bf",
   "metadata": {},
   "outputs": [],
   "source": [
    "synthesizer5.save(data_set_path+'models/callout/callout_copulangan.pkl')\n"
   ]
  },
  {
   "cell_type": "code",
   "execution_count": 51,
   "id": "e2ddbb6a",
   "metadata": {},
   "outputs": [
    {
     "name": "stderr",
     "output_type": "stream",
     "text": [
      "Creating report: 100%|██████████| 4/4 [00:03<00:00,  1.31it/s]\n"
     ]
    },
    {
     "name": "stdout",
     "output_type": "stream",
     "text": [
      "\n",
      "Overall Quality Score: 80.88%\n",
      "\n",
      "Properties:\n",
      "Column Shapes: 88.7%\n",
      "Column Pair Trends: 73.06%\n"
     ]
    }
   ],
   "source": [
    "from sdv.evaluation.single_table import evaluate_quality\n",
    "\n",
    "quality_report = evaluate_quality(\n",
    "    real_data=data,\n",
    "    synthetic_data=synthetic_data1,\n",
    "    metadata=metadata)"
   ]
  },
  {
   "cell_type": "code",
   "execution_count": 52,
   "id": "68828e38",
   "metadata": {},
   "outputs": [
    {
     "name": "stderr",
     "output_type": "stream",
     "text": [
      "Creating report: 100%|██████████| 4/4 [00:03<00:00,  1.21it/s]\n"
     ]
    },
    {
     "name": "stdout",
     "output_type": "stream",
     "text": [
      "\n",
      "Overall Quality Score: 80.29%\n",
      "\n",
      "Properties:\n",
      "Column Shapes: 87.88%\n",
      "Column Pair Trends: 72.71%\n"
     ]
    }
   ],
   "source": [
    "from sdv.evaluation.single_table import evaluate_quality\n",
    "\n",
    "quality_report = evaluate_quality(\n",
    "    real_data=data,\n",
    "    synthetic_data=synthetic_data2,\n",
    "    metadata=metadata)"
   ]
  },
  {
   "cell_type": "code",
   "execution_count": 53,
   "id": "a74a6695",
   "metadata": {},
   "outputs": [
    {
     "name": "stderr",
     "output_type": "stream",
     "text": [
      "Creating report: 100%|██████████| 4/4 [00:03<00:00,  1.17it/s]\n"
     ]
    },
    {
     "name": "stdout",
     "output_type": "stream",
     "text": [
      "\n",
      "Overall Quality Score: 77.46%\n",
      "\n",
      "Properties:\n",
      "Column Shapes: 87.64%\n",
      "Column Pair Trends: 67.28%\n"
     ]
    }
   ],
   "source": [
    "from sdv.evaluation.single_table import evaluate_quality\n",
    "\n",
    "quality_report = evaluate_quality(\n",
    "    real_data=data,\n",
    "    synthetic_data=synthetic_data3,\n",
    "    metadata=metadata)"
   ]
  },
  {
   "cell_type": "code",
   "execution_count": 54,
   "id": "7ce04d51",
   "metadata": {},
   "outputs": [
    {
     "name": "stderr",
     "output_type": "stream",
     "text": [
      "Creating report: 100%|██████████| 4/4 [00:04<00:00,  1.03s/it]\n"
     ]
    },
    {
     "name": "stdout",
     "output_type": "stream",
     "text": [
      "\n",
      "Overall Quality Score: 74.51%\n",
      "\n",
      "Properties:\n",
      "Column Shapes: 82.43%\n",
      "Column Pair Trends: 66.58%\n"
     ]
    }
   ],
   "source": [
    "from sdv.evaluation.single_table import evaluate_quality\n",
    "\n",
    "quality_report = evaluate_quality(\n",
    "    real_data=data,\n",
    "    synthetic_data=synthetic_data4,\n",
    "    metadata=metadata)"
   ]
  },
  {
   "cell_type": "code",
   "execution_count": 55,
   "id": "4070b759",
   "metadata": {},
   "outputs": [
    {
     "name": "stderr",
     "output_type": "stream",
     "text": [
      "Creating report: 100%|██████████| 4/4 [00:03<00:00,  1.12it/s]\n"
     ]
    },
    {
     "name": "stdout",
     "output_type": "stream",
     "text": [
      "\n",
      "Overall Quality Score: 77.12%\n",
      "\n",
      "Properties:\n",
      "Column Shapes: 85.9%\n",
      "Column Pair Trends: 68.35%\n"
     ]
    }
   ],
   "source": [
    "from sdv.evaluation.single_table import evaluate_quality\n",
    "\n",
    "quality_report = evaluate_quality(\n",
    "    real_data=data,\n",
    "    synthetic_data=synthetic_data5,\n",
    "    metadata=metadata)"
   ]
  },
  {
   "cell_type": "code",
   "execution_count": null,
   "id": "4811284a",
   "metadata": {},
   "outputs": [],
   "source": []
  }
 ],
 "metadata": {
  "kernelspec": {
   "display_name": "Python 3 (ipykernel)",
   "language": "python",
   "name": "python3"
  },
  "language_info": {
   "codemirror_mode": {
    "name": "ipython",
    "version": 3
   },
   "file_extension": ".py",
   "mimetype": "text/x-python",
   "name": "python",
   "nbconvert_exporter": "python",
   "pygments_lexer": "ipython3",
   "version": "3.10.9"
  }
 },
 "nbformat": 4,
 "nbformat_minor": 5
}
