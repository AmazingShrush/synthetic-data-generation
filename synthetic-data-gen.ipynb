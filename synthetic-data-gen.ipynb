{
 "cells": [
  {
   "cell_type": "code",
   "execution_count": 60,
   "id": "ec86167b",
   "metadata": {},
   "outputs": [
    {
     "name": "stdout",
     "output_type": "stream",
     "text": [
      "1.2.1\n"
     ]
    }
   ],
   "source": [
    "import sdv\n",
    "print(sdv.__version__)\n",
    "import pandas as pd\n",
    "import commonfunc as common\n",
    "import numpy as np"
   ]
  },
  {
   "cell_type": "code",
   "execution_count": 61,
   "id": "979d0c2b",
   "metadata": {},
   "outputs": [],
   "source": [
    "# Ignore warnings\n",
    "import warnings\n",
    "warnings.filterwarnings(\"ignore\")"
   ]
  },
  {
   "cell_type": "code",
   "execution_count": 62,
   "id": "ca8c4dad",
   "metadata": {},
   "outputs": [],
   "source": [
    "replacement_value = 'Unknown'\n"
   ]
  },
  {
   "cell_type": "code",
   "execution_count": 63,
   "id": "f2d6bb44",
   "metadata": {},
   "outputs": [],
   "source": [
    "from sdv.datasets.local import load_csvs\n",
    "from sdv.datasets.demo import download_demo\n",
    "\n",
    "# This is the default folder name that the GOogle Colab notebook uses.\n",
    "# Change this if you have your own folder with CSV files.\n",
    "FOLDER_NAME = 'sampled_data_csv_100/'\n",
    "\n",
    "try:\n",
    "  datasets = load_csvs(folder_name='C:\\\\Users\\\\shrus\\\\Documents\\\\Synthetic-data-generation\\\\sampled_data_csv_100\\\\')\n",
    "except ValueError:\n",
    "  print('You have not uploaded any csv files. Using some demo data instead.')\n",
    "  datasets, _ = download_demo(\n",
    "    modality='multi_table',\n",
    "    dataset_name='fake_hotels'\n",
    "  )"
   ]
  },
  {
   "cell_type": "code",
   "execution_count": 5,
   "id": "78297235",
   "metadata": {},
   "outputs": [],
   "source": [
    "admissions_df=datasets['admissions']\n",
    "callout_df=datasets['callout']\n",
    "chartevents_df=datasets['chartevents']\n",
    "cptevents_df = datasets['cptevents']\n",
    "icustays_df = datasets['icustays']\n",
    "inputevents_mv_df = datasets['inputevents_mv']\n",
    "labevents_df = datasets['labevents']\n",
    "microbiologyevents_df = datasets['microbiologyevents']\n",
    "outputevents_df = datasets['outputevents']\n",
    "patients_df = datasets['patients']\n",
    "prescriptions_df = datasets['prescriptions']\n",
    "procedureevents_mv_df = datasets['procedureevents_mv']\n",
    "procedures_icd_df = datasets['procedures_icd']"
   ]
  },
  {
   "cell_type": "markdown",
   "id": "4d7c92d9",
   "metadata": {},
   "source": [
    "## Data Preprocessing"
   ]
  },
  {
   "cell_type": "markdown",
   "id": "b0b544d2",
   "metadata": {},
   "source": [
    "### Dropping row_id column"
   ]
  },
  {
   "cell_type": "code",
   "execution_count": 6,
   "id": "33e1276d",
   "metadata": {},
   "outputs": [],
   "source": [
    "def drop_row_id_column(data):\n",
    "    if 'row_id' in data.columns:\n",
    "        data.drop('row_id', axis=1, inplace=True)"
   ]
  },
  {
   "cell_type": "code",
   "execution_count": 7,
   "id": "f923a914",
   "metadata": {},
   "outputs": [],
   "source": [
    "drop_row_id_column(admissions_df)\n",
    "drop_row_id_column(callout_df)\n",
    "drop_row_id_column(chartevents_df)\n",
    "drop_row_id_column(cptevents_df)\n",
    "drop_row_id_column(icustays_df)\n",
    "drop_row_id_column(inputevents_mv_df)\n",
    "drop_row_id_column(labevents_df)\n",
    "drop_row_id_column(microbiologyevents_df)\n",
    "drop_row_id_column(outputevents_df)\n",
    "drop_row_id_column(patients_df)\n",
    "drop_row_id_column(prescriptions_df)\n",
    "drop_row_id_column(procedureevents_mv_df)\n",
    "drop_row_id_column(procedures_icd_df)"
   ]
  },
  {
   "cell_type": "markdown",
   "id": "2ba641a2",
   "metadata": {},
   "source": [
    "## Handling Date and time objects"
   ]
  },
  {
   "cell_type": "code",
   "execution_count": 8,
   "id": "8d3a3c7a",
   "metadata": {},
   "outputs": [],
   "source": [
    "def changeObjectToDateTime(df,list):\n",
    "    for i in list:\n",
    "        df[i]=pd.to_datetime(df[i])"
   ]
  },
  {
   "cell_type": "code",
   "execution_count": 9,
   "id": "a244bd7b",
   "metadata": {},
   "outputs": [],
   "source": [
    "\n",
    "changeObjectToDateTime(admissions_df,['admittime','dischtime','deathtime','edregtime','edouttime'])\n",
    "changeObjectToDateTime(callout_df,['createtime','updatetime','acknowledgetime','outcometime','firstreservationtime','currentreservationtime'])\n",
    "changeObjectToDateTime(chartevents_df,['charttime','storetime'])\n",
    "changeObjectToDateTime(icustays_df,['intime','outtime'])\n",
    "changeObjectToDateTime(inputevents_mv_df,['starttime','endtime','storetime','comments_date'])\n",
    "changeObjectToDateTime(labevents_df,['charttime'])\n",
    "changeObjectToDateTime(microbiologyevents_df,['chartdate','charttime'])\n",
    "changeObjectToDateTime(outputevents_df,['charttime','storetime'])\n",
    "changeObjectToDateTime(patients_df,['dob','dod','dod_hosp','dod_ssn'])\n",
    "changeObjectToDateTime(prescriptions_df,['startdate','enddate'])\n",
    "changeObjectToDateTime(procedureevents_mv_df,['starttime','endtime','storetime','comments_date'])"
   ]
  },
  {
   "cell_type": "markdown",
   "id": "212458a4",
   "metadata": {},
   "source": [
    "## Preprocessing individual tables"
   ]
  },
  {
   "cell_type": "markdown",
   "id": "e805d5ed",
   "metadata": {},
   "source": [
    "### Patients table:"
   ]
  },
  {
   "cell_type": "code",
   "execution_count": 10,
   "id": "56c87d72",
   "metadata": {},
   "outputs": [
    {
     "data": {
      "text/html": [
       "<div>\n",
       "<style scoped>\n",
       "    .dataframe tbody tr th:only-of-type {\n",
       "        vertical-align: middle;\n",
       "    }\n",
       "\n",
       "    .dataframe tbody tr th {\n",
       "        vertical-align: top;\n",
       "    }\n",
       "\n",
       "    .dataframe thead th {\n",
       "        text-align: right;\n",
       "    }\n",
       "</style>\n",
       "<table border=\"1\" class=\"dataframe\">\n",
       "  <thead>\n",
       "    <tr style=\"text-align: right;\">\n",
       "      <th></th>\n",
       "      <th>subject_id</th>\n",
       "      <th>gender</th>\n",
       "      <th>dob</th>\n",
       "      <th>dod</th>\n",
       "      <th>dod_hosp</th>\n",
       "      <th>dod_ssn</th>\n",
       "      <th>expire_flag</th>\n",
       "    </tr>\n",
       "  </thead>\n",
       "  <tbody>\n",
       "    <tr>\n",
       "      <th>0</th>\n",
       "      <td>87197</td>\n",
       "      <td>F</td>\n",
       "      <td>2054-10-12</td>\n",
       "      <td>NaT</td>\n",
       "      <td>NaT</td>\n",
       "      <td>NaT</td>\n",
       "      <td>0</td>\n",
       "    </tr>\n",
       "    <tr>\n",
       "      <th>1</th>\n",
       "      <td>1765</td>\n",
       "      <td>M</td>\n",
       "      <td>2183-05-09</td>\n",
       "      <td>NaT</td>\n",
       "      <td>NaT</td>\n",
       "      <td>NaT</td>\n",
       "      <td>0</td>\n",
       "    </tr>\n",
       "    <tr>\n",
       "      <th>2</th>\n",
       "      <td>21269</td>\n",
       "      <td>M</td>\n",
       "      <td>2078-07-25</td>\n",
       "      <td>2162-12-10</td>\n",
       "      <td>2162-12-10</td>\n",
       "      <td>2162-12-10</td>\n",
       "      <td>1</td>\n",
       "    </tr>\n",
       "    <tr>\n",
       "      <th>3</th>\n",
       "      <td>5692</td>\n",
       "      <td>M</td>\n",
       "      <td>2099-09-01</td>\n",
       "      <td>NaT</td>\n",
       "      <td>NaT</td>\n",
       "      <td>NaT</td>\n",
       "      <td>0</td>\n",
       "    </tr>\n",
       "    <tr>\n",
       "      <th>4</th>\n",
       "      <td>30096</td>\n",
       "      <td>F</td>\n",
       "      <td>2080-05-03</td>\n",
       "      <td>2161-10-08</td>\n",
       "      <td>NaT</td>\n",
       "      <td>2161-10-08</td>\n",
       "      <td>1</td>\n",
       "    </tr>\n",
       "  </tbody>\n",
       "</table>\n",
       "</div>"
      ],
      "text/plain": [
       "   subject_id gender        dob        dod   dod_hosp    dod_ssn  expire_flag\n",
       "0       87197      F 2054-10-12        NaT        NaT        NaT            0\n",
       "1        1765      M 2183-05-09        NaT        NaT        NaT            0\n",
       "2       21269      M 2078-07-25 2162-12-10 2162-12-10 2162-12-10            1\n",
       "3        5692      M 2099-09-01        NaT        NaT        NaT            0\n",
       "4       30096      F 2080-05-03 2161-10-08        NaT 2161-10-08            1"
      ]
     },
     "execution_count": 10,
     "metadata": {},
     "output_type": "execute_result"
    }
   ],
   "source": [
    "patients_df.head()"
   ]
  },
  {
   "cell_type": "code",
   "execution_count": 11,
   "id": "4719c966",
   "metadata": {},
   "outputs": [],
   "source": [
    "admission_date = admissions_df.loc[:, ['subject_id', 'admittime']]\n",
    "patients_mid = pd.merge(left=patients_df, right=admission_date, how='inner', on=['subject_id'])"
   ]
  },
  {
   "cell_type": "code",
   "execution_count": 12,
   "id": "052f8fcf",
   "metadata": {},
   "outputs": [
    {
     "data": {
      "text/html": [
       "<div>\n",
       "<style scoped>\n",
       "    .dataframe tbody tr th:only-of-type {\n",
       "        vertical-align: middle;\n",
       "    }\n",
       "\n",
       "    .dataframe tbody tr th {\n",
       "        vertical-align: top;\n",
       "    }\n",
       "\n",
       "    .dataframe thead th {\n",
       "        text-align: right;\n",
       "    }\n",
       "</style>\n",
       "<table border=\"1\" class=\"dataframe\">\n",
       "  <thead>\n",
       "    <tr style=\"text-align: right;\">\n",
       "      <th></th>\n",
       "      <th>subject_id</th>\n",
       "      <th>gender</th>\n",
       "      <th>dob</th>\n",
       "      <th>dod</th>\n",
       "      <th>dod_hosp</th>\n",
       "      <th>dod_ssn</th>\n",
       "      <th>expire_flag</th>\n",
       "      <th>admittime</th>\n",
       "    </tr>\n",
       "  </thead>\n",
       "  <tbody>\n",
       "    <tr>\n",
       "      <th>0</th>\n",
       "      <td>87197</td>\n",
       "      <td>F</td>\n",
       "      <td>2054-10-12</td>\n",
       "      <td>NaT</td>\n",
       "      <td>NaT</td>\n",
       "      <td>NaT</td>\n",
       "      <td>0</td>\n",
       "      <td>2109-11-16 08:11:00</td>\n",
       "    </tr>\n",
       "    <tr>\n",
       "      <th>1</th>\n",
       "      <td>1765</td>\n",
       "      <td>M</td>\n",
       "      <td>2183-05-09</td>\n",
       "      <td>NaT</td>\n",
       "      <td>NaT</td>\n",
       "      <td>NaT</td>\n",
       "      <td>0</td>\n",
       "      <td>2183-05-09 08:35:00</td>\n",
       "    </tr>\n",
       "    <tr>\n",
       "      <th>2</th>\n",
       "      <td>21269</td>\n",
       "      <td>M</td>\n",
       "      <td>2078-07-25</td>\n",
       "      <td>2162-12-10</td>\n",
       "      <td>2162-12-10</td>\n",
       "      <td>2162-12-10</td>\n",
       "      <td>1</td>\n",
       "      <td>2162-10-03 17:02:00</td>\n",
       "    </tr>\n",
       "    <tr>\n",
       "      <th>3</th>\n",
       "      <td>5692</td>\n",
       "      <td>M</td>\n",
       "      <td>2099-09-01</td>\n",
       "      <td>NaT</td>\n",
       "      <td>NaT</td>\n",
       "      <td>NaT</td>\n",
       "      <td>0</td>\n",
       "      <td>2143-10-23 15:42:00</td>\n",
       "    </tr>\n",
       "    <tr>\n",
       "      <th>4</th>\n",
       "      <td>5692</td>\n",
       "      <td>M</td>\n",
       "      <td>2099-09-01</td>\n",
       "      <td>NaT</td>\n",
       "      <td>NaT</td>\n",
       "      <td>NaT</td>\n",
       "      <td>0</td>\n",
       "      <td>2147-12-15 23:57:00</td>\n",
       "    </tr>\n",
       "    <tr>\n",
       "      <th>...</th>\n",
       "      <td>...</td>\n",
       "      <td>...</td>\n",
       "      <td>...</td>\n",
       "      <td>...</td>\n",
       "      <td>...</td>\n",
       "      <td>...</td>\n",
       "      <td>...</td>\n",
       "      <td>...</td>\n",
       "    </tr>\n",
       "    <tr>\n",
       "      <th>127</th>\n",
       "      <td>58667</td>\n",
       "      <td>M</td>\n",
       "      <td>2067-06-29</td>\n",
       "      <td>2130-08-20</td>\n",
       "      <td>2130-08-20</td>\n",
       "      <td>2130-08-20</td>\n",
       "      <td>1</td>\n",
       "      <td>2130-08-19 20:03:00</td>\n",
       "    </tr>\n",
       "    <tr>\n",
       "      <th>128</th>\n",
       "      <td>3391</td>\n",
       "      <td>F</td>\n",
       "      <td>2143-03-01</td>\n",
       "      <td>NaT</td>\n",
       "      <td>NaT</td>\n",
       "      <td>NaT</td>\n",
       "      <td>0</td>\n",
       "      <td>2143-03-01 19:47:00</td>\n",
       "    </tr>\n",
       "    <tr>\n",
       "      <th>129</th>\n",
       "      <td>31650</td>\n",
       "      <td>M</td>\n",
       "      <td>2090-11-19</td>\n",
       "      <td>NaT</td>\n",
       "      <td>NaT</td>\n",
       "      <td>NaT</td>\n",
       "      <td>0</td>\n",
       "      <td>2177-06-07 17:54:00</td>\n",
       "    </tr>\n",
       "    <tr>\n",
       "      <th>130</th>\n",
       "      <td>15895</td>\n",
       "      <td>M</td>\n",
       "      <td>2039-10-21</td>\n",
       "      <td>2124-07-11</td>\n",
       "      <td>NaT</td>\n",
       "      <td>2124-07-11</td>\n",
       "      <td>1</td>\n",
       "      <td>2116-07-04 17:13:00</td>\n",
       "    </tr>\n",
       "    <tr>\n",
       "      <th>131</th>\n",
       "      <td>52058</td>\n",
       "      <td>M</td>\n",
       "      <td>2077-10-25</td>\n",
       "      <td>NaT</td>\n",
       "      <td>NaT</td>\n",
       "      <td>NaT</td>\n",
       "      <td>0</td>\n",
       "      <td>2121-11-22 13:53:00</td>\n",
       "    </tr>\n",
       "  </tbody>\n",
       "</table>\n",
       "<p>132 rows × 8 columns</p>\n",
       "</div>"
      ],
      "text/plain": [
       "     subject_id gender        dob        dod   dod_hosp    dod_ssn  \\\n",
       "0         87197      F 2054-10-12        NaT        NaT        NaT   \n",
       "1          1765      M 2183-05-09        NaT        NaT        NaT   \n",
       "2         21269      M 2078-07-25 2162-12-10 2162-12-10 2162-12-10   \n",
       "3          5692      M 2099-09-01        NaT        NaT        NaT   \n",
       "4          5692      M 2099-09-01        NaT        NaT        NaT   \n",
       "..          ...    ...        ...        ...        ...        ...   \n",
       "127       58667      M 2067-06-29 2130-08-20 2130-08-20 2130-08-20   \n",
       "128        3391      F 2143-03-01        NaT        NaT        NaT   \n",
       "129       31650      M 2090-11-19        NaT        NaT        NaT   \n",
       "130       15895      M 2039-10-21 2124-07-11        NaT 2124-07-11   \n",
       "131       52058      M 2077-10-25        NaT        NaT        NaT   \n",
       "\n",
       "     expire_flag           admittime  \n",
       "0              0 2109-11-16 08:11:00  \n",
       "1              0 2183-05-09 08:35:00  \n",
       "2              1 2162-10-03 17:02:00  \n",
       "3              0 2143-10-23 15:42:00  \n",
       "4              0 2147-12-15 23:57:00  \n",
       "..           ...                 ...  \n",
       "127            1 2130-08-19 20:03:00  \n",
       "128            0 2143-03-01 19:47:00  \n",
       "129            0 2177-06-07 17:54:00  \n",
       "130            1 2116-07-04 17:13:00  \n",
       "131            0 2121-11-22 13:53:00  \n",
       "\n",
       "[132 rows x 8 columns]"
      ]
     },
     "execution_count": 12,
     "metadata": {},
     "output_type": "execute_result"
    }
   ],
   "source": [
    "patients_mid"
   ]
  },
  {
   "cell_type": "code",
   "execution_count": 13,
   "id": "97b7d1fe",
   "metadata": {},
   "outputs": [],
   "source": [
    "admission_date.drop_duplicates(subset=['subject_id'], keep='first', inplace=True)\n"
   ]
  },
  {
   "cell_type": "code",
   "execution_count": 14,
   "id": "ff69c556",
   "metadata": {},
   "outputs": [
    {
     "data": {
      "text/html": [
       "<div>\n",
       "<style scoped>\n",
       "    .dataframe tbody tr th:only-of-type {\n",
       "        vertical-align: middle;\n",
       "    }\n",
       "\n",
       "    .dataframe tbody tr th {\n",
       "        vertical-align: top;\n",
       "    }\n",
       "\n",
       "    .dataframe thead th {\n",
       "        text-align: right;\n",
       "    }\n",
       "</style>\n",
       "<table border=\"1\" class=\"dataframe\">\n",
       "  <thead>\n",
       "    <tr style=\"text-align: right;\">\n",
       "      <th></th>\n",
       "      <th>subject_id</th>\n",
       "      <th>admittime</th>\n",
       "    </tr>\n",
       "  </thead>\n",
       "  <tbody>\n",
       "    <tr>\n",
       "      <th>0</th>\n",
       "      <td>87197</td>\n",
       "      <td>2109-11-16 08:11:00</td>\n",
       "    </tr>\n",
       "    <tr>\n",
       "      <th>1</th>\n",
       "      <td>1765</td>\n",
       "      <td>2183-05-09 08:35:00</td>\n",
       "    </tr>\n",
       "    <tr>\n",
       "      <th>2</th>\n",
       "      <td>21269</td>\n",
       "      <td>2162-10-03 17:02:00</td>\n",
       "    </tr>\n",
       "    <tr>\n",
       "      <th>3</th>\n",
       "      <td>5692</td>\n",
       "      <td>2143-10-23 15:42:00</td>\n",
       "    </tr>\n",
       "    <tr>\n",
       "      <th>6</th>\n",
       "      <td>30096</td>\n",
       "      <td>2161-08-27 15:11:00</td>\n",
       "    </tr>\n",
       "    <tr>\n",
       "      <th>...</th>\n",
       "      <td>...</td>\n",
       "      <td>...</td>\n",
       "    </tr>\n",
       "    <tr>\n",
       "      <th>127</th>\n",
       "      <td>58667</td>\n",
       "      <td>2130-08-19 20:03:00</td>\n",
       "    </tr>\n",
       "    <tr>\n",
       "      <th>128</th>\n",
       "      <td>3391</td>\n",
       "      <td>2143-03-01 19:47:00</td>\n",
       "    </tr>\n",
       "    <tr>\n",
       "      <th>129</th>\n",
       "      <td>31650</td>\n",
       "      <td>2177-06-07 17:54:00</td>\n",
       "    </tr>\n",
       "    <tr>\n",
       "      <th>130</th>\n",
       "      <td>15895</td>\n",
       "      <td>2116-07-04 17:13:00</td>\n",
       "    </tr>\n",
       "    <tr>\n",
       "      <th>131</th>\n",
       "      <td>52058</td>\n",
       "      <td>2121-11-22 13:53:00</td>\n",
       "    </tr>\n",
       "  </tbody>\n",
       "</table>\n",
       "<p>100 rows × 2 columns</p>\n",
       "</div>"
      ],
      "text/plain": [
       "     subject_id           admittime\n",
       "0         87197 2109-11-16 08:11:00\n",
       "1          1765 2183-05-09 08:35:00\n",
       "2         21269 2162-10-03 17:02:00\n",
       "3          5692 2143-10-23 15:42:00\n",
       "6         30096 2161-08-27 15:11:00\n",
       "..          ...                 ...\n",
       "127       58667 2130-08-19 20:03:00\n",
       "128        3391 2143-03-01 19:47:00\n",
       "129       31650 2177-06-07 17:54:00\n",
       "130       15895 2116-07-04 17:13:00\n",
       "131       52058 2121-11-22 13:53:00\n",
       "\n",
       "[100 rows x 2 columns]"
      ]
     },
     "execution_count": 14,
     "metadata": {},
     "output_type": "execute_result"
    }
   ],
   "source": [
    "admission_date"
   ]
  },
  {
   "cell_type": "code",
   "execution_count": 15,
   "id": "d0ceace3",
   "metadata": {},
   "outputs": [],
   "source": [
    "# Drop useless colums\n",
    "patients_df.drop(['expire_flag', 'dod'], axis=1, inplace=True)"
   ]
  },
  {
   "cell_type": "code",
   "execution_count": 16,
   "id": "abbe6f50",
   "metadata": {},
   "outputs": [
    {
     "data": {
      "text/plain": [
       "subject_id     0\n",
       "gender         0\n",
       "dob            0\n",
       "dod_hosp      80\n",
       "dod_ssn       75\n",
       "dtype: int64"
      ]
     },
     "execution_count": 16,
     "metadata": {},
     "output_type": "execute_result"
    }
   ],
   "source": [
    "patients_df.isnull().sum()"
   ]
  },
  {
   "cell_type": "code",
   "execution_count": 17,
   "id": "55d113b9",
   "metadata": {},
   "outputs": [
    {
     "data": {
      "text/plain": [
       "subject_id             int64\n",
       "gender                object\n",
       "dob           datetime64[ns]\n",
       "dod_hosp      datetime64[ns]\n",
       "dod_ssn       datetime64[ns]\n",
       "dtype: object"
      ]
     },
     "execution_count": 17,
     "metadata": {},
     "output_type": "execute_result"
    }
   ],
   "source": [
    "patients_df.dtypes"
   ]
  },
  {
   "cell_type": "code",
   "execution_count": 18,
   "id": "5f16609e",
   "metadata": {},
   "outputs": [],
   "source": [
    "patients_df = pd.merge(left=patients_df, right=admission_date, how='inner', on=['subject_id'])"
   ]
  },
  {
   "cell_type": "code",
   "execution_count": 19,
   "id": "293a8b72",
   "metadata": {},
   "outputs": [],
   "source": [
    "import datetime\n",
    "import random\n",
    "\n",
    "def adjust_age_over_90(df):\n",
    "    years_100 = datetime.timedelta(days = (365 * 100 + 100/4))\n",
    "    random_days_10_years = datetime.timedelta(days = random.randint(0, 10)*365)\n",
    "    \n",
    "    if (df['dob'] - datetime.datetime(1970,1,1)).total_seconds() < 0:\n",
    "        return (df['admittime'] - years_100 + random_days_10_years)\n",
    "    else:\n",
    "        return df['dob']"
   ]
  },
  {
   "cell_type": "code",
   "execution_count": 20,
   "id": "5d9530d2",
   "metadata": {},
   "outputs": [],
   "source": [
    "patients_df['dob'] = patients_df.apply(adjust_age_over_90, axis=1)"
   ]
  },
  {
   "cell_type": "code",
   "execution_count": 21,
   "id": "18652a15",
   "metadata": {},
   "outputs": [],
   "source": [
    "# Calculate the age\n",
    "def get_birth_delta(df):\n",
    "    return df['admittime'] - df['dob']\n",
    "\n",
    "# Randomly pick a time between 2001-2012\n",
    "def adjust_admittime(df):\n",
    "    return pd.Timestamp(year=random.randint(2001, 2012), \\\n",
    "        month=df['admittime'].month, day=df['admittime'].day)\n",
    "\n",
    "# Renew the date of birth\n",
    "def reset_dob(df):\n",
    "    dob = df['admittime'] - df['dob']\n",
    "    return pd.to_datetime(dob.date())"
   ]
  },
  {
   "cell_type": "code",
   "execution_count": 22,
   "id": "e459e55d",
   "metadata": {},
   "outputs": [],
   "source": [
    "patients_df['dob'] = patients_df.apply(get_birth_delta, axis=1)\n",
    "patients_df['admittime'] = patients_df.apply(adjust_admittime, axis=1)\n",
    "patients_df['dob'] = patients_df.apply(reset_dob, axis=1)"
   ]
  },
  {
   "cell_type": "code",
   "execution_count": 23,
   "id": "f8d4f24d",
   "metadata": {},
   "outputs": [
    {
     "data": {
      "text/html": [
       "<div>\n",
       "<style scoped>\n",
       "    .dataframe tbody tr th:only-of-type {\n",
       "        vertical-align: middle;\n",
       "    }\n",
       "\n",
       "    .dataframe tbody tr th {\n",
       "        vertical-align: top;\n",
       "    }\n",
       "\n",
       "    .dataframe thead th {\n",
       "        text-align: right;\n",
       "    }\n",
       "</style>\n",
       "<table border=\"1\" class=\"dataframe\">\n",
       "  <thead>\n",
       "    <tr style=\"text-align: right;\">\n",
       "      <th></th>\n",
       "      <th>subject_id</th>\n",
       "      <th>gender</th>\n",
       "      <th>dob</th>\n",
       "      <th>dod_hosp</th>\n",
       "      <th>dod_ssn</th>\n",
       "      <th>admittime</th>\n",
       "    </tr>\n",
       "  </thead>\n",
       "  <tbody>\n",
       "    <tr>\n",
       "      <th>0</th>\n",
       "      <td>87197</td>\n",
       "      <td>F</td>\n",
       "      <td>1949-10-12</td>\n",
       "      <td>NaT</td>\n",
       "      <td>NaT</td>\n",
       "      <td>2004-11-16</td>\n",
       "    </tr>\n",
       "    <tr>\n",
       "      <th>1</th>\n",
       "      <td>1765</td>\n",
       "      <td>M</td>\n",
       "      <td>2003-05-08</td>\n",
       "      <td>NaT</td>\n",
       "      <td>NaT</td>\n",
       "      <td>2003-05-09</td>\n",
       "    </tr>\n",
       "    <tr>\n",
       "      <th>2</th>\n",
       "      <td>21269</td>\n",
       "      <td>M</td>\n",
       "      <td>1917-07-25</td>\n",
       "      <td>2162-12-10</td>\n",
       "      <td>2162-12-10</td>\n",
       "      <td>2001-10-03</td>\n",
       "    </tr>\n",
       "    <tr>\n",
       "      <th>3</th>\n",
       "      <td>5692</td>\n",
       "      <td>M</td>\n",
       "      <td>1957-09-01</td>\n",
       "      <td>NaT</td>\n",
       "      <td>NaT</td>\n",
       "      <td>2001-10-23</td>\n",
       "    </tr>\n",
       "    <tr>\n",
       "      <th>4</th>\n",
       "      <td>30096</td>\n",
       "      <td>F</td>\n",
       "      <td>1920-05-03</td>\n",
       "      <td>NaT</td>\n",
       "      <td>2161-10-08</td>\n",
       "      <td>2001-08-27</td>\n",
       "    </tr>\n",
       "    <tr>\n",
       "      <th>...</th>\n",
       "      <td>...</td>\n",
       "      <td>...</td>\n",
       "      <td>...</td>\n",
       "      <td>...</td>\n",
       "      <td>...</td>\n",
       "      <td>...</td>\n",
       "    </tr>\n",
       "    <tr>\n",
       "      <th>95</th>\n",
       "      <td>58667</td>\n",
       "      <td>M</td>\n",
       "      <td>1943-06-29</td>\n",
       "      <td>2130-08-20</td>\n",
       "      <td>2130-08-20</td>\n",
       "      <td>2006-08-19</td>\n",
       "    </tr>\n",
       "    <tr>\n",
       "      <th>96</th>\n",
       "      <td>3391</td>\n",
       "      <td>F</td>\n",
       "      <td>2006-02-28</td>\n",
       "      <td>NaT</td>\n",
       "      <td>NaT</td>\n",
       "      <td>2006-03-01</td>\n",
       "    </tr>\n",
       "    <tr>\n",
       "      <th>97</th>\n",
       "      <td>31650</td>\n",
       "      <td>M</td>\n",
       "      <td>1915-11-19</td>\n",
       "      <td>NaT</td>\n",
       "      <td>NaT</td>\n",
       "      <td>2002-06-07</td>\n",
       "    </tr>\n",
       "    <tr>\n",
       "      <th>98</th>\n",
       "      <td>15895</td>\n",
       "      <td>M</td>\n",
       "      <td>1929-10-20</td>\n",
       "      <td>NaT</td>\n",
       "      <td>2124-07-11</td>\n",
       "      <td>2006-07-04</td>\n",
       "    </tr>\n",
       "    <tr>\n",
       "      <th>99</th>\n",
       "      <td>52058</td>\n",
       "      <td>M</td>\n",
       "      <td>1959-10-25</td>\n",
       "      <td>NaT</td>\n",
       "      <td>NaT</td>\n",
       "      <td>2003-11-22</td>\n",
       "    </tr>\n",
       "  </tbody>\n",
       "</table>\n",
       "<p>100 rows × 6 columns</p>\n",
       "</div>"
      ],
      "text/plain": [
       "    subject_id gender        dob   dod_hosp    dod_ssn  admittime\n",
       "0        87197      F 1949-10-12        NaT        NaT 2004-11-16\n",
       "1         1765      M 2003-05-08        NaT        NaT 2003-05-09\n",
       "2        21269      M 1917-07-25 2162-12-10 2162-12-10 2001-10-03\n",
       "3         5692      M 1957-09-01        NaT        NaT 2001-10-23\n",
       "4        30096      F 1920-05-03        NaT 2161-10-08 2001-08-27\n",
       "..         ...    ...        ...        ...        ...        ...\n",
       "95       58667      M 1943-06-29 2130-08-20 2130-08-20 2006-08-19\n",
       "96        3391      F 2006-02-28        NaT        NaT 2006-03-01\n",
       "97       31650      M 1915-11-19        NaT        NaT 2002-06-07\n",
       "98       15895      M 1929-10-20        NaT 2124-07-11 2006-07-04\n",
       "99       52058      M 1959-10-25        NaT        NaT 2003-11-22\n",
       "\n",
       "[100 rows x 6 columns]"
      ]
     },
     "execution_count": 23,
     "metadata": {},
     "output_type": "execute_result"
    }
   ],
   "source": [
    "patients_df"
   ]
  },
  {
   "cell_type": "code",
   "execution_count": 24,
   "id": "b8f44fa5",
   "metadata": {},
   "outputs": [],
   "source": [
    "patients_df.drop(['admittime'], axis=1, inplace=True)\n"
   ]
  },
  {
   "cell_type": "markdown",
   "id": "f5412845",
   "metadata": {},
   "source": [
    "### Admissions Table"
   ]
  },
  {
   "cell_type": "code",
   "execution_count": 25,
   "id": "d733106d",
   "metadata": {},
   "outputs": [
    {
     "data": {
      "text/plain": [
       "array([                          'NaT', '2128-04-16T12:00:00.000000000',\n",
       "       '2148-11-03T22:37:00.000000000', '2166-03-28T06:00:00.000000000',\n",
       "       '2168-01-06T16:33:00.000000000', '2106-04-18T09:45:00.000000000',\n",
       "       '2185-12-11T08:00:00.000000000', '2140-02-04T20:55:00.000000000',\n",
       "       '2106-03-23T20:16:00.000000000', '2163-01-21T15:45:00.000000000',\n",
       "       '2188-10-12T15:15:00.000000000', '2130-08-20T01:56:00.000000000'],\n",
       "      dtype='datetime64[ns]')"
      ]
     },
     "execution_count": 25,
     "metadata": {},
     "output_type": "execute_result"
    }
   ],
   "source": [
    "admissions_df['deathtime'].unique()"
   ]
  },
  {
   "cell_type": "code",
   "execution_count": 26,
   "id": "6795691b",
   "metadata": {},
   "outputs": [],
   "source": [
    "admissions_df.drop(['diagnosis', 'hospital_expire_flag'], axis=1, inplace=True)"
   ]
  },
  {
   "cell_type": "code",
   "execution_count": 27,
   "id": "095a7877",
   "metadata": {},
   "outputs": [],
   "source": [
    "dob_df = patients_df.loc[:, ['subject_id', 'dob']]"
   ]
  },
  {
   "cell_type": "code",
   "execution_count": 28,
   "id": "72b8409c",
   "metadata": {},
   "outputs": [],
   "source": [
    "admissions_df = pd.merge(dob_df, admissions_df, how='inner', on='subject_id')"
   ]
  },
  {
   "cell_type": "code",
   "execution_count": 29,
   "id": "7ad2c9aa",
   "metadata": {},
   "outputs": [
    {
     "data": {
      "text/plain": [
       "subject_id                0\n",
       "dob                       0\n",
       "hadm_id                   0\n",
       "admittime                 0\n",
       "dischtime                 0\n",
       "deathtime               121\n",
       "admission_type            0\n",
       "admission_location        0\n",
       "discharge_location        0\n",
       "insurance                 0\n",
       "language                 45\n",
       "religion                  1\n",
       "marital_status           19\n",
       "ethnicity                 0\n",
       "edregtime                62\n",
       "edouttime                62\n",
       "has_chartevents_data      0\n",
       "dtype: int64"
      ]
     },
     "execution_count": 29,
     "metadata": {},
     "output_type": "execute_result"
    }
   ],
   "source": [
    "admissions_df.isnull().sum()"
   ]
  },
  {
   "cell_type": "code",
   "execution_count": 30,
   "id": "7e674a89",
   "metadata": {},
   "outputs": [
    {
     "data": {
      "text/plain": [
       "subject_id                       int64\n",
       "dob                     datetime64[ns]\n",
       "hadm_id                          int64\n",
       "admittime               datetime64[ns]\n",
       "dischtime               datetime64[ns]\n",
       "deathtime               datetime64[ns]\n",
       "admission_type                  object\n",
       "admission_location              object\n",
       "discharge_location              object\n",
       "insurance                       object\n",
       "language                        object\n",
       "religion                        object\n",
       "marital_status                  object\n",
       "ethnicity                       object\n",
       "edregtime               datetime64[ns]\n",
       "edouttime               datetime64[ns]\n",
       "has_chartevents_data             int64\n",
       "dtype: object"
      ]
     },
     "execution_count": 30,
     "metadata": {},
     "output_type": "execute_result"
    }
   ],
   "source": [
    "admissions_df.dtypes"
   ]
  },
  {
   "cell_type": "code",
   "execution_count": null,
   "id": "c76d8a77",
   "metadata": {},
   "outputs": [],
   "source": []
  },
  {
   "cell_type": "code",
   "execution_count": 31,
   "id": "f5ffb0fe",
   "metadata": {},
   "outputs": [
    {
     "data": {
      "text/plain": [
       "True    132\n",
       "dtype: int64"
      ]
     },
     "execution_count": 31,
     "metadata": {},
     "output_type": "execute_result"
    }
   ],
   "source": [
    "(admissions_df['dob'] < admissions_df['admittime']).value_counts()"
   ]
  },
  {
   "cell_type": "code",
   "execution_count": 32,
   "id": "ff4800cf",
   "metadata": {},
   "outputs": [],
   "source": [
    "admissions_df = admissions_df.drop(admissions_df.loc[(pd.isna(admissions_df['deathtime']) == False) & (admissions_df['dischtime'] != admissions_df['deathtime'])].index)"
   ]
  },
  {
   "cell_type": "code",
   "execution_count": 33,
   "id": "a83bd0c7",
   "metadata": {},
   "outputs": [],
   "source": [
    "import datetime\n",
    "import random\n",
    "\n",
    "def adjust_age_over_90(df):\n",
    "    '''\n",
    "    This method is to adjust the invalid date in 'dob' (which is 18xx)\n",
    "    Process: Use the admittime minus 90 - 100 years, to let the age of patients are between 90 to 100\n",
    "    '''\n",
    "\n",
    "    years_100 = datetime.timedelta(days = (365 * 100 + 100/4))\n",
    "    random_days_10_years = datetime.timedelta(days = random.randint(0, 10)*365)\n",
    "    \n",
    "    if (df['dob'] - datetime.datetime(1970,1,1)).total_seconds() < 0:\n",
    "        return (df['admittime'] - years_100 + random_days_10_years)\n",
    "    else:\n",
    "        return df['dob']"
   ]
  },
  {
   "cell_type": "code",
   "execution_count": 34,
   "id": "4266fa1b",
   "metadata": {},
   "outputs": [],
   "source": [
    "admissions_df['dob'] = admissions_df.apply(adjust_age_over_90, axis=1)"
   ]
  },
  {
   "cell_type": "code",
   "execution_count": 35,
   "id": "6311348f",
   "metadata": {},
   "outputs": [],
   "source": [
    "# admissions_df['deathtime'] = admissions_df['deathtime'].apply(lambda flag: 1 if pd.isna(flag) == False else np.NaN)"
   ]
  },
  {
   "cell_type": "code",
   "execution_count": 36,
   "id": "c770eedf",
   "metadata": {},
   "outputs": [],
   "source": [
    "# admissions_df['edouttime'] = admissions_df.apply(common.time_process, args=('edregtime', 'edouttime'), axis=1)\n",
    "# admissions_df['edregtime'] = admissions_df.apply(common.time_process, args=('admittime', 'edregtime'), axis=1)\n",
    "# admissions_df['dischtime'] = admissions_df.apply(common.time_process, args=('admittime', 'dischtime'), axis=1)\n",
    "# admissions_df['admittime'] = admissions_df.apply(common.time_process, args=('dob', 'admittime'), axis=1)"
   ]
  },
  {
   "cell_type": "code",
   "execution_count": 37,
   "id": "3cd801dd",
   "metadata": {},
   "outputs": [],
   "source": [
    "admissions_df.drop(['dob'], axis=1, inplace=True)"
   ]
  },
  {
   "cell_type": "code",
   "execution_count": 38,
   "id": "9b5c9435",
   "metadata": {},
   "outputs": [],
   "source": [
    "replacement_value = 'Unknown'\n",
    "\n",
    "# Fill NaN values with the specified replacement_value in the column\n",
    "admissions_df['language'] = admissions_df['language'].fillna(replacement_value)\n",
    "admissions_df['religion'] = admissions_df['religion'].fillna(replacement_value)\n",
    "admissions_df['marital_status'] = admissions_df['marital_status'].fillna(replacement_value)"
   ]
  },
  {
   "cell_type": "code",
   "execution_count": 39,
   "id": "9c883983",
   "metadata": {},
   "outputs": [
    {
     "data": {
      "text/html": [
       "<div>\n",
       "<style scoped>\n",
       "    .dataframe tbody tr th:only-of-type {\n",
       "        vertical-align: middle;\n",
       "    }\n",
       "\n",
       "    .dataframe tbody tr th {\n",
       "        vertical-align: top;\n",
       "    }\n",
       "\n",
       "    .dataframe thead th {\n",
       "        text-align: right;\n",
       "    }\n",
       "</style>\n",
       "<table border=\"1\" class=\"dataframe\">\n",
       "  <thead>\n",
       "    <tr style=\"text-align: right;\">\n",
       "      <th></th>\n",
       "      <th>subject_id</th>\n",
       "      <th>hadm_id</th>\n",
       "      <th>admittime</th>\n",
       "      <th>dischtime</th>\n",
       "      <th>deathtime</th>\n",
       "      <th>admission_type</th>\n",
       "      <th>admission_location</th>\n",
       "      <th>discharge_location</th>\n",
       "      <th>insurance</th>\n",
       "      <th>language</th>\n",
       "      <th>religion</th>\n",
       "      <th>marital_status</th>\n",
       "      <th>ethnicity</th>\n",
       "      <th>edregtime</th>\n",
       "      <th>edouttime</th>\n",
       "      <th>has_chartevents_data</th>\n",
       "    </tr>\n",
       "  </thead>\n",
       "  <tbody>\n",
       "    <tr>\n",
       "      <th>0</th>\n",
       "      <td>87197</td>\n",
       "      <td>176931</td>\n",
       "      <td>2109-11-16 08:11:00</td>\n",
       "      <td>2109-11-18 17:25:00</td>\n",
       "      <td>NaT</td>\n",
       "      <td>EMERGENCY</td>\n",
       "      <td>EMERGENCY ROOM ADMIT</td>\n",
       "      <td>HOME</td>\n",
       "      <td>Private</td>\n",
       "      <td>ENGL</td>\n",
       "      <td>NOT SPECIFIED</td>\n",
       "      <td>MARRIED</td>\n",
       "      <td>WHITE</td>\n",
       "      <td>2109-11-16 01:09:00</td>\n",
       "      <td>2109-11-16 09:26:00</td>\n",
       "      <td>1</td>\n",
       "    </tr>\n",
       "    <tr>\n",
       "      <th>1</th>\n",
       "      <td>1765</td>\n",
       "      <td>145878</td>\n",
       "      <td>2183-05-09 08:35:00</td>\n",
       "      <td>2183-05-16 11:50:00</td>\n",
       "      <td>NaT</td>\n",
       "      <td>NEWBORN</td>\n",
       "      <td>PHYS REFERRAL/NORMAL DELI</td>\n",
       "      <td>HOME</td>\n",
       "      <td>Private</td>\n",
       "      <td>Unknown</td>\n",
       "      <td>UNOBTAINABLE</td>\n",
       "      <td>Unknown</td>\n",
       "      <td>WHITE</td>\n",
       "      <td>NaT</td>\n",
       "      <td>NaT</td>\n",
       "      <td>1</td>\n",
       "    </tr>\n",
       "    <tr>\n",
       "      <th>2</th>\n",
       "      <td>21269</td>\n",
       "      <td>109697</td>\n",
       "      <td>2162-10-03 17:02:00</td>\n",
       "      <td>2162-12-01 19:30:00</td>\n",
       "      <td>NaT</td>\n",
       "      <td>EMERGENCY</td>\n",
       "      <td>EMERGENCY ROOM ADMIT</td>\n",
       "      <td>SHORT TERM HOSPITAL</td>\n",
       "      <td>Medicare</td>\n",
       "      <td>Unknown</td>\n",
       "      <td>JEWISH</td>\n",
       "      <td>MARRIED</td>\n",
       "      <td>WHITE</td>\n",
       "      <td>2162-10-03 09:24:00</td>\n",
       "      <td>2162-10-03 17:18:00</td>\n",
       "      <td>1</td>\n",
       "    </tr>\n",
       "    <tr>\n",
       "      <th>3</th>\n",
       "      <td>5692</td>\n",
       "      <td>151113</td>\n",
       "      <td>2143-10-23 15:42:00</td>\n",
       "      <td>2143-11-08 17:25:00</td>\n",
       "      <td>NaT</td>\n",
       "      <td>EMERGENCY</td>\n",
       "      <td>PHYS REFERRAL/NORMAL DELI</td>\n",
       "      <td>HOME HEALTH CARE</td>\n",
       "      <td>Private</td>\n",
       "      <td>ENGL</td>\n",
       "      <td>NOT SPECIFIED</td>\n",
       "      <td>MARRIED</td>\n",
       "      <td>WHITE</td>\n",
       "      <td>NaT</td>\n",
       "      <td>NaT</td>\n",
       "      <td>1</td>\n",
       "    </tr>\n",
       "    <tr>\n",
       "      <th>4</th>\n",
       "      <td>5692</td>\n",
       "      <td>193147</td>\n",
       "      <td>2147-12-15 23:57:00</td>\n",
       "      <td>2147-12-27 12:00:00</td>\n",
       "      <td>NaT</td>\n",
       "      <td>EMERGENCY</td>\n",
       "      <td>TRANSFER FROM HOSP/EXTRAM</td>\n",
       "      <td>HOME</td>\n",
       "      <td>Private</td>\n",
       "      <td>ENGL</td>\n",
       "      <td>NOT SPECIFIED</td>\n",
       "      <td>MARRIED</td>\n",
       "      <td>WHITE</td>\n",
       "      <td>NaT</td>\n",
       "      <td>NaT</td>\n",
       "      <td>1</td>\n",
       "    </tr>\n",
       "    <tr>\n",
       "      <th>...</th>\n",
       "      <td>...</td>\n",
       "      <td>...</td>\n",
       "      <td>...</td>\n",
       "      <td>...</td>\n",
       "      <td>...</td>\n",
       "      <td>...</td>\n",
       "      <td>...</td>\n",
       "      <td>...</td>\n",
       "      <td>...</td>\n",
       "      <td>...</td>\n",
       "      <td>...</td>\n",
       "      <td>...</td>\n",
       "      <td>...</td>\n",
       "      <td>...</td>\n",
       "      <td>...</td>\n",
       "      <td>...</td>\n",
       "    </tr>\n",
       "    <tr>\n",
       "      <th>127</th>\n",
       "      <td>58667</td>\n",
       "      <td>197356</td>\n",
       "      <td>2130-08-19 20:03:00</td>\n",
       "      <td>2130-08-20 01:56:00</td>\n",
       "      <td>2130-08-20 01:56:00</td>\n",
       "      <td>EMERGENCY</td>\n",
       "      <td>CLINIC REFERRAL/PREMATURE</td>\n",
       "      <td>DEAD/EXPIRED</td>\n",
       "      <td>Government</td>\n",
       "      <td>ENGL</td>\n",
       "      <td>PROTESTANT QUAKER</td>\n",
       "      <td>DIVORCED</td>\n",
       "      <td>WHITE</td>\n",
       "      <td>2130-08-19 15:57:00</td>\n",
       "      <td>2130-08-19 21:16:00</td>\n",
       "      <td>1</td>\n",
       "    </tr>\n",
       "    <tr>\n",
       "      <th>128</th>\n",
       "      <td>3391</td>\n",
       "      <td>136471</td>\n",
       "      <td>2143-03-01 19:47:00</td>\n",
       "      <td>2143-03-03 15:11:00</td>\n",
       "      <td>NaT</td>\n",
       "      <td>NEWBORN</td>\n",
       "      <td>CLINIC REFERRAL/PREMATURE</td>\n",
       "      <td>HOME</td>\n",
       "      <td>Medicaid</td>\n",
       "      <td>Unknown</td>\n",
       "      <td>UNOBTAINABLE</td>\n",
       "      <td>Unknown</td>\n",
       "      <td>BLACK/AFRICAN AMERICAN</td>\n",
       "      <td>NaT</td>\n",
       "      <td>NaT</td>\n",
       "      <td>1</td>\n",
       "    </tr>\n",
       "    <tr>\n",
       "      <th>129</th>\n",
       "      <td>31650</td>\n",
       "      <td>137933</td>\n",
       "      <td>2177-06-07 17:54:00</td>\n",
       "      <td>2177-06-12 14:34:00</td>\n",
       "      <td>NaT</td>\n",
       "      <td>EMERGENCY</td>\n",
       "      <td>TRANSFER FROM HOSP/EXTRAM</td>\n",
       "      <td>SNF</td>\n",
       "      <td>Medicare</td>\n",
       "      <td>Unknown</td>\n",
       "      <td>CATHOLIC</td>\n",
       "      <td>MARRIED</td>\n",
       "      <td>UNABLE TO OBTAIN</td>\n",
       "      <td>NaT</td>\n",
       "      <td>NaT</td>\n",
       "      <td>1</td>\n",
       "    </tr>\n",
       "    <tr>\n",
       "      <th>130</th>\n",
       "      <td>15895</td>\n",
       "      <td>135286</td>\n",
       "      <td>2116-07-04 17:13:00</td>\n",
       "      <td>2116-07-14 12:16:00</td>\n",
       "      <td>NaT</td>\n",
       "      <td>EMERGENCY</td>\n",
       "      <td>EMERGENCY ROOM ADMIT</td>\n",
       "      <td>SNF</td>\n",
       "      <td>Medicare</td>\n",
       "      <td>Unknown</td>\n",
       "      <td>PROTESTANT QUAKER</td>\n",
       "      <td>MARRIED</td>\n",
       "      <td>UNKNOWN/NOT SPECIFIED</td>\n",
       "      <td>NaT</td>\n",
       "      <td>NaT</td>\n",
       "      <td>1</td>\n",
       "    </tr>\n",
       "    <tr>\n",
       "      <th>131</th>\n",
       "      <td>52058</td>\n",
       "      <td>146270</td>\n",
       "      <td>2121-11-22 13:53:00</td>\n",
       "      <td>2121-11-24 19:46:00</td>\n",
       "      <td>NaT</td>\n",
       "      <td>URGENT</td>\n",
       "      <td>PHYS REFERRAL/NORMAL DELI</td>\n",
       "      <td>HOME</td>\n",
       "      <td>Private</td>\n",
       "      <td>ENGL</td>\n",
       "      <td>NOT SPECIFIED</td>\n",
       "      <td>SINGLE</td>\n",
       "      <td>PATIENT DECLINED TO ANSWER</td>\n",
       "      <td>NaT</td>\n",
       "      <td>NaT</td>\n",
       "      <td>1</td>\n",
       "    </tr>\n",
       "  </tbody>\n",
       "</table>\n",
       "<p>132 rows × 16 columns</p>\n",
       "</div>"
      ],
      "text/plain": [
       "     subject_id  hadm_id           admittime           dischtime  \\\n",
       "0         87197   176931 2109-11-16 08:11:00 2109-11-18 17:25:00   \n",
       "1          1765   145878 2183-05-09 08:35:00 2183-05-16 11:50:00   \n",
       "2         21269   109697 2162-10-03 17:02:00 2162-12-01 19:30:00   \n",
       "3          5692   151113 2143-10-23 15:42:00 2143-11-08 17:25:00   \n",
       "4          5692   193147 2147-12-15 23:57:00 2147-12-27 12:00:00   \n",
       "..          ...      ...                 ...                 ...   \n",
       "127       58667   197356 2130-08-19 20:03:00 2130-08-20 01:56:00   \n",
       "128        3391   136471 2143-03-01 19:47:00 2143-03-03 15:11:00   \n",
       "129       31650   137933 2177-06-07 17:54:00 2177-06-12 14:34:00   \n",
       "130       15895   135286 2116-07-04 17:13:00 2116-07-14 12:16:00   \n",
       "131       52058   146270 2121-11-22 13:53:00 2121-11-24 19:46:00   \n",
       "\n",
       "              deathtime admission_type         admission_location  \\\n",
       "0                   NaT      EMERGENCY       EMERGENCY ROOM ADMIT   \n",
       "1                   NaT        NEWBORN  PHYS REFERRAL/NORMAL DELI   \n",
       "2                   NaT      EMERGENCY       EMERGENCY ROOM ADMIT   \n",
       "3                   NaT      EMERGENCY  PHYS REFERRAL/NORMAL DELI   \n",
       "4                   NaT      EMERGENCY  TRANSFER FROM HOSP/EXTRAM   \n",
       "..                  ...            ...                        ...   \n",
       "127 2130-08-20 01:56:00      EMERGENCY  CLINIC REFERRAL/PREMATURE   \n",
       "128                 NaT        NEWBORN  CLINIC REFERRAL/PREMATURE   \n",
       "129                 NaT      EMERGENCY  TRANSFER FROM HOSP/EXTRAM   \n",
       "130                 NaT      EMERGENCY       EMERGENCY ROOM ADMIT   \n",
       "131                 NaT         URGENT  PHYS REFERRAL/NORMAL DELI   \n",
       "\n",
       "      discharge_location   insurance language           religion  \\\n",
       "0                   HOME     Private     ENGL      NOT SPECIFIED   \n",
       "1                   HOME     Private  Unknown       UNOBTAINABLE   \n",
       "2    SHORT TERM HOSPITAL    Medicare  Unknown             JEWISH   \n",
       "3       HOME HEALTH CARE     Private     ENGL      NOT SPECIFIED   \n",
       "4                   HOME     Private     ENGL      NOT SPECIFIED   \n",
       "..                   ...         ...      ...                ...   \n",
       "127         DEAD/EXPIRED  Government     ENGL  PROTESTANT QUAKER   \n",
       "128                 HOME    Medicaid  Unknown       UNOBTAINABLE   \n",
       "129                  SNF    Medicare  Unknown           CATHOLIC   \n",
       "130                  SNF    Medicare  Unknown  PROTESTANT QUAKER   \n",
       "131                 HOME     Private     ENGL      NOT SPECIFIED   \n",
       "\n",
       "    marital_status                   ethnicity           edregtime  \\\n",
       "0          MARRIED                       WHITE 2109-11-16 01:09:00   \n",
       "1          Unknown                       WHITE                 NaT   \n",
       "2          MARRIED                       WHITE 2162-10-03 09:24:00   \n",
       "3          MARRIED                       WHITE                 NaT   \n",
       "4          MARRIED                       WHITE                 NaT   \n",
       "..             ...                         ...                 ...   \n",
       "127       DIVORCED                       WHITE 2130-08-19 15:57:00   \n",
       "128        Unknown      BLACK/AFRICAN AMERICAN                 NaT   \n",
       "129        MARRIED            UNABLE TO OBTAIN                 NaT   \n",
       "130        MARRIED       UNKNOWN/NOT SPECIFIED                 NaT   \n",
       "131         SINGLE  PATIENT DECLINED TO ANSWER                 NaT   \n",
       "\n",
       "              edouttime  has_chartevents_data  \n",
       "0   2109-11-16 09:26:00                     1  \n",
       "1                   NaT                     1  \n",
       "2   2162-10-03 17:18:00                     1  \n",
       "3                   NaT                     1  \n",
       "4                   NaT                     1  \n",
       "..                  ...                   ...  \n",
       "127 2130-08-19 21:16:00                     1  \n",
       "128                 NaT                     1  \n",
       "129                 NaT                     1  \n",
       "130                 NaT                     1  \n",
       "131                 NaT                     1  \n",
       "\n",
       "[132 rows x 16 columns]"
      ]
     },
     "execution_count": 39,
     "metadata": {},
     "output_type": "execute_result"
    }
   ],
   "source": [
    "admissions_df"
   ]
  },
  {
   "cell_type": "markdown",
   "id": "329f7b5c",
   "metadata": {},
   "source": [
    "\n",
    "### Icustays table:"
   ]
  },
  {
   "cell_type": "code",
   "execution_count": 40,
   "id": "bdcea9b6",
   "metadata": {},
   "outputs": [
    {
     "data": {
      "text/html": [
       "<div>\n",
       "<style scoped>\n",
       "    .dataframe tbody tr th:only-of-type {\n",
       "        vertical-align: middle;\n",
       "    }\n",
       "\n",
       "    .dataframe tbody tr th {\n",
       "        vertical-align: top;\n",
       "    }\n",
       "\n",
       "    .dataframe thead th {\n",
       "        text-align: right;\n",
       "    }\n",
       "</style>\n",
       "<table border=\"1\" class=\"dataframe\">\n",
       "  <thead>\n",
       "    <tr style=\"text-align: right;\">\n",
       "      <th></th>\n",
       "      <th>subject_id</th>\n",
       "      <th>hadm_id</th>\n",
       "      <th>icustay_id</th>\n",
       "      <th>dbsource</th>\n",
       "      <th>first_careunit</th>\n",
       "      <th>last_careunit</th>\n",
       "      <th>first_wardid</th>\n",
       "      <th>last_wardid</th>\n",
       "      <th>intime</th>\n",
       "      <th>outtime</th>\n",
       "      <th>los</th>\n",
       "    </tr>\n",
       "  </thead>\n",
       "  <tbody>\n",
       "    <tr>\n",
       "      <th>0</th>\n",
       "      <td>87197</td>\n",
       "      <td>176931</td>\n",
       "      <td>209341</td>\n",
       "      <td>metavision</td>\n",
       "      <td>CCU</td>\n",
       "      <td>CCU</td>\n",
       "      <td>7</td>\n",
       "      <td>7</td>\n",
       "      <td>2109-11-16 08:12:18</td>\n",
       "      <td>2109-11-17 17:39:41</td>\n",
       "      <td>1.3940</td>\n",
       "    </tr>\n",
       "    <tr>\n",
       "      <th>1</th>\n",
       "      <td>1765</td>\n",
       "      <td>145878</td>\n",
       "      <td>254146</td>\n",
       "      <td>carevue</td>\n",
       "      <td>NICU</td>\n",
       "      <td>NICU</td>\n",
       "      <td>56</td>\n",
       "      <td>56</td>\n",
       "      <td>2183-05-09 09:29:55</td>\n",
       "      <td>2183-05-16 19:18:28</td>\n",
       "      <td>7.4087</td>\n",
       "    </tr>\n",
       "    <tr>\n",
       "      <th>2</th>\n",
       "      <td>21269</td>\n",
       "      <td>109697</td>\n",
       "      <td>241691</td>\n",
       "      <td>carevue</td>\n",
       "      <td>MICU</td>\n",
       "      <td>MICU</td>\n",
       "      <td>12</td>\n",
       "      <td>12</td>\n",
       "      <td>2162-10-03 17:03:08</td>\n",
       "      <td>2162-12-01 20:11:22</td>\n",
       "      <td>59.1307</td>\n",
       "    </tr>\n",
       "    <tr>\n",
       "      <th>3</th>\n",
       "      <td>5692</td>\n",
       "      <td>151113</td>\n",
       "      <td>279055</td>\n",
       "      <td>carevue</td>\n",
       "      <td>CSRU</td>\n",
       "      <td>CSRU</td>\n",
       "      <td>12</td>\n",
       "      <td>15</td>\n",
       "      <td>2143-10-31 14:16:32</td>\n",
       "      <td>2143-11-01 19:20:00</td>\n",
       "      <td>1.2107</td>\n",
       "    </tr>\n",
       "    <tr>\n",
       "      <th>4</th>\n",
       "      <td>5692</td>\n",
       "      <td>193147</td>\n",
       "      <td>241135</td>\n",
       "      <td>metavision</td>\n",
       "      <td>CCU</td>\n",
       "      <td>CCU</td>\n",
       "      <td>7</td>\n",
       "      <td>7</td>\n",
       "      <td>2147-12-16 00:00:03</td>\n",
       "      <td>2147-12-17 16:45:54</td>\n",
       "      <td>1.6985</td>\n",
       "    </tr>\n",
       "  </tbody>\n",
       "</table>\n",
       "</div>"
      ],
      "text/plain": [
       "   subject_id  hadm_id  icustay_id    dbsource first_careunit last_careunit  \\\n",
       "0       87197   176931      209341  metavision            CCU           CCU   \n",
       "1        1765   145878      254146     carevue           NICU          NICU   \n",
       "2       21269   109697      241691     carevue           MICU          MICU   \n",
       "3        5692   151113      279055     carevue           CSRU          CSRU   \n",
       "4        5692   193147      241135  metavision            CCU           CCU   \n",
       "\n",
       "   first_wardid  last_wardid              intime             outtime      los  \n",
       "0             7            7 2109-11-16 08:12:18 2109-11-17 17:39:41   1.3940  \n",
       "1            56           56 2183-05-09 09:29:55 2183-05-16 19:18:28   7.4087  \n",
       "2            12           12 2162-10-03 17:03:08 2162-12-01 20:11:22  59.1307  \n",
       "3            12           15 2143-10-31 14:16:32 2143-11-01 19:20:00   1.2107  \n",
       "4             7            7 2147-12-16 00:00:03 2147-12-17 16:45:54   1.6985  "
      ]
     },
     "execution_count": 40,
     "metadata": {},
     "output_type": "execute_result"
    }
   ],
   "source": [
    "icustays_df.head()"
   ]
  },
  {
   "cell_type": "code",
   "execution_count": 41,
   "id": "af9c8a9f",
   "metadata": {},
   "outputs": [
    {
     "data": {
      "text/plain": [
       "subject_id        0\n",
       "hadm_id           0\n",
       "icustay_id        0\n",
       "dbsource          0\n",
       "first_careunit    0\n",
       "last_careunit     0\n",
       "first_wardid      0\n",
       "last_wardid       0\n",
       "intime            0\n",
       "outtime           0\n",
       "los               0\n",
       "dtype: int64"
      ]
     },
     "execution_count": 41,
     "metadata": {},
     "output_type": "execute_result"
    }
   ],
   "source": [
    "icustays_df.isnull().sum()"
   ]
  },
  {
   "cell_type": "code",
   "execution_count": 42,
   "id": "5feb6529",
   "metadata": {},
   "outputs": [],
   "source": [
    "admission_mid = admissions_df.loc[:, ['hadm_id', 'admittime']]"
   ]
  },
  {
   "cell_type": "code",
   "execution_count": 43,
   "id": "e83aaa1d",
   "metadata": {},
   "outputs": [],
   "source": [
    "icustays_mid_df = pd.merge(left=icustays_df, right=admission_mid , how='left', on=['hadm_id'])"
   ]
  },
  {
   "cell_type": "code",
   "execution_count": 44,
   "id": "036c6741",
   "metadata": {},
   "outputs": [],
   "source": [
    "# icustays_mid_df['outtime'] = icustays_mid_df.apply(common.time_process, args=('intime', 'outtime'), axis=1)\n",
    "# icustays_mid_df['intime'] = icustays_mid_df.apply(common.time_process, args=('admittime', 'intime'), axis=1)"
   ]
  },
  {
   "cell_type": "code",
   "execution_count": 45,
   "id": "9445a0d0",
   "metadata": {},
   "outputs": [],
   "source": [
    "icustays_df = icustays_mid_df.drop([ 'admittime'], axis=1)"
   ]
  },
  {
   "cell_type": "code",
   "execution_count": 46,
   "id": "9b3561b3",
   "metadata": {},
   "outputs": [
    {
     "data": {
      "text/html": [
       "<div>\n",
       "<style scoped>\n",
       "    .dataframe tbody tr th:only-of-type {\n",
       "        vertical-align: middle;\n",
       "    }\n",
       "\n",
       "    .dataframe tbody tr th {\n",
       "        vertical-align: top;\n",
       "    }\n",
       "\n",
       "    .dataframe thead th {\n",
       "        text-align: right;\n",
       "    }\n",
       "</style>\n",
       "<table border=\"1\" class=\"dataframe\">\n",
       "  <thead>\n",
       "    <tr style=\"text-align: right;\">\n",
       "      <th></th>\n",
       "      <th>subject_id</th>\n",
       "      <th>hadm_id</th>\n",
       "      <th>icustay_id</th>\n",
       "      <th>dbsource</th>\n",
       "      <th>first_careunit</th>\n",
       "      <th>last_careunit</th>\n",
       "      <th>first_wardid</th>\n",
       "      <th>last_wardid</th>\n",
       "      <th>intime</th>\n",
       "      <th>outtime</th>\n",
       "      <th>los</th>\n",
       "    </tr>\n",
       "  </thead>\n",
       "  <tbody>\n",
       "    <tr>\n",
       "      <th>0</th>\n",
       "      <td>87197</td>\n",
       "      <td>176931</td>\n",
       "      <td>209341</td>\n",
       "      <td>metavision</td>\n",
       "      <td>CCU</td>\n",
       "      <td>CCU</td>\n",
       "      <td>7</td>\n",
       "      <td>7</td>\n",
       "      <td>2109-11-16 08:12:18</td>\n",
       "      <td>2109-11-17 17:39:41</td>\n",
       "      <td>1.3940</td>\n",
       "    </tr>\n",
       "    <tr>\n",
       "      <th>1</th>\n",
       "      <td>1765</td>\n",
       "      <td>145878</td>\n",
       "      <td>254146</td>\n",
       "      <td>carevue</td>\n",
       "      <td>NICU</td>\n",
       "      <td>NICU</td>\n",
       "      <td>56</td>\n",
       "      <td>56</td>\n",
       "      <td>2183-05-09 09:29:55</td>\n",
       "      <td>2183-05-16 19:18:28</td>\n",
       "      <td>7.4087</td>\n",
       "    </tr>\n",
       "    <tr>\n",
       "      <th>2</th>\n",
       "      <td>21269</td>\n",
       "      <td>109697</td>\n",
       "      <td>241691</td>\n",
       "      <td>carevue</td>\n",
       "      <td>MICU</td>\n",
       "      <td>MICU</td>\n",
       "      <td>12</td>\n",
       "      <td>12</td>\n",
       "      <td>2162-10-03 17:03:08</td>\n",
       "      <td>2162-12-01 20:11:22</td>\n",
       "      <td>59.1307</td>\n",
       "    </tr>\n",
       "    <tr>\n",
       "      <th>3</th>\n",
       "      <td>5692</td>\n",
       "      <td>151113</td>\n",
       "      <td>279055</td>\n",
       "      <td>carevue</td>\n",
       "      <td>CSRU</td>\n",
       "      <td>CSRU</td>\n",
       "      <td>12</td>\n",
       "      <td>15</td>\n",
       "      <td>2143-10-31 14:16:32</td>\n",
       "      <td>2143-11-01 19:20:00</td>\n",
       "      <td>1.2107</td>\n",
       "    </tr>\n",
       "    <tr>\n",
       "      <th>4</th>\n",
       "      <td>5692</td>\n",
       "      <td>193147</td>\n",
       "      <td>241135</td>\n",
       "      <td>metavision</td>\n",
       "      <td>CCU</td>\n",
       "      <td>CCU</td>\n",
       "      <td>7</td>\n",
       "      <td>7</td>\n",
       "      <td>2147-12-16 00:00:03</td>\n",
       "      <td>2147-12-17 16:45:54</td>\n",
       "      <td>1.6985</td>\n",
       "    </tr>\n",
       "    <tr>\n",
       "      <th>...</th>\n",
       "      <td>...</td>\n",
       "      <td>...</td>\n",
       "      <td>...</td>\n",
       "      <td>...</td>\n",
       "      <td>...</td>\n",
       "      <td>...</td>\n",
       "      <td>...</td>\n",
       "      <td>...</td>\n",
       "      <td>...</td>\n",
       "      <td>...</td>\n",
       "      <td>...</td>\n",
       "    </tr>\n",
       "    <tr>\n",
       "      <th>133</th>\n",
       "      <td>58667</td>\n",
       "      <td>197356</td>\n",
       "      <td>249803</td>\n",
       "      <td>metavision</td>\n",
       "      <td>MICU</td>\n",
       "      <td>MICU</td>\n",
       "      <td>50</td>\n",
       "      <td>50</td>\n",
       "      <td>2130-08-19 20:03:38</td>\n",
       "      <td>2130-08-20 07:17:43</td>\n",
       "      <td>0.4681</td>\n",
       "    </tr>\n",
       "    <tr>\n",
       "      <th>134</th>\n",
       "      <td>3391</td>\n",
       "      <td>136471</td>\n",
       "      <td>265244</td>\n",
       "      <td>carevue</td>\n",
       "      <td>NICU</td>\n",
       "      <td>NICU</td>\n",
       "      <td>56</td>\n",
       "      <td>56</td>\n",
       "      <td>2143-03-01 19:51:18</td>\n",
       "      <td>2143-03-01 23:53:41</td>\n",
       "      <td>0.1683</td>\n",
       "    </tr>\n",
       "    <tr>\n",
       "      <th>135</th>\n",
       "      <td>31650</td>\n",
       "      <td>137933</td>\n",
       "      <td>282691</td>\n",
       "      <td>carevue</td>\n",
       "      <td>CCU</td>\n",
       "      <td>CCU</td>\n",
       "      <td>7</td>\n",
       "      <td>7</td>\n",
       "      <td>2177-06-07 19:44:18</td>\n",
       "      <td>2177-06-10 15:45:28</td>\n",
       "      <td>2.8341</td>\n",
       "    </tr>\n",
       "    <tr>\n",
       "      <th>136</th>\n",
       "      <td>15895</td>\n",
       "      <td>135286</td>\n",
       "      <td>236445</td>\n",
       "      <td>carevue</td>\n",
       "      <td>CSRU</td>\n",
       "      <td>CSRU</td>\n",
       "      <td>14</td>\n",
       "      <td>14</td>\n",
       "      <td>2116-07-06 10:36:00</td>\n",
       "      <td>2116-07-07 21:28:00</td>\n",
       "      <td>1.4528</td>\n",
       "    </tr>\n",
       "    <tr>\n",
       "      <th>137</th>\n",
       "      <td>52058</td>\n",
       "      <td>146270</td>\n",
       "      <td>292639</td>\n",
       "      <td>metavision</td>\n",
       "      <td>SICU</td>\n",
       "      <td>SICU</td>\n",
       "      <td>33</td>\n",
       "      <td>33</td>\n",
       "      <td>2121-11-23 19:12:03</td>\n",
       "      <td>2121-11-24 00:38:42</td>\n",
       "      <td>0.2268</td>\n",
       "    </tr>\n",
       "  </tbody>\n",
       "</table>\n",
       "<p>138 rows × 11 columns</p>\n",
       "</div>"
      ],
      "text/plain": [
       "     subject_id  hadm_id  icustay_id    dbsource first_careunit last_careunit  \\\n",
       "0         87197   176931      209341  metavision            CCU           CCU   \n",
       "1          1765   145878      254146     carevue           NICU          NICU   \n",
       "2         21269   109697      241691     carevue           MICU          MICU   \n",
       "3          5692   151113      279055     carevue           CSRU          CSRU   \n",
       "4          5692   193147      241135  metavision            CCU           CCU   \n",
       "..          ...      ...         ...         ...            ...           ...   \n",
       "133       58667   197356      249803  metavision           MICU          MICU   \n",
       "134        3391   136471      265244     carevue           NICU          NICU   \n",
       "135       31650   137933      282691     carevue            CCU           CCU   \n",
       "136       15895   135286      236445     carevue           CSRU          CSRU   \n",
       "137       52058   146270      292639  metavision           SICU          SICU   \n",
       "\n",
       "     first_wardid  last_wardid              intime             outtime  \\\n",
       "0               7            7 2109-11-16 08:12:18 2109-11-17 17:39:41   \n",
       "1              56           56 2183-05-09 09:29:55 2183-05-16 19:18:28   \n",
       "2              12           12 2162-10-03 17:03:08 2162-12-01 20:11:22   \n",
       "3              12           15 2143-10-31 14:16:32 2143-11-01 19:20:00   \n",
       "4               7            7 2147-12-16 00:00:03 2147-12-17 16:45:54   \n",
       "..            ...          ...                 ...                 ...   \n",
       "133            50           50 2130-08-19 20:03:38 2130-08-20 07:17:43   \n",
       "134            56           56 2143-03-01 19:51:18 2143-03-01 23:53:41   \n",
       "135             7            7 2177-06-07 19:44:18 2177-06-10 15:45:28   \n",
       "136            14           14 2116-07-06 10:36:00 2116-07-07 21:28:00   \n",
       "137            33           33 2121-11-23 19:12:03 2121-11-24 00:38:42   \n",
       "\n",
       "         los  \n",
       "0     1.3940  \n",
       "1     7.4087  \n",
       "2    59.1307  \n",
       "3     1.2107  \n",
       "4     1.6985  \n",
       "..       ...  \n",
       "133   0.4681  \n",
       "134   0.1683  \n",
       "135   2.8341  \n",
       "136   1.4528  \n",
       "137   0.2268  \n",
       "\n",
       "[138 rows x 11 columns]"
      ]
     },
     "execution_count": 46,
     "metadata": {},
     "output_type": "execute_result"
    }
   ],
   "source": [
    "icustays_df"
   ]
  },
  {
   "cell_type": "markdown",
   "id": "2a5c0d4d",
   "metadata": {},
   "source": [
    "### Preparing data to be fed in the model"
   ]
  },
  {
   "cell_type": "code",
   "execution_count": 47,
   "id": "cc285daf",
   "metadata": {},
   "outputs": [],
   "source": [
    "datasets['admissions']=admissions_df\n",
    "datasets['callout']=callout_df\n",
    "datasets['chartevents']=chartevents_df\n",
    "datasets['cptevents']=cptevents_df \n",
    "datasets['icustays']=icustays_df \n",
    "datasets['inputevents_mv']=inputevents_mv_df \n",
    "datasets['labevents']=labevents_df \n",
    "datasets['microbiologyevents']=microbiologyevents_df \n",
    "datasets['outputevents']=outputevents_df \n",
    "datasets['patients']=patients_df \n",
    "datasets['prescriptions']=prescriptions_df \n",
    "datasets['procedureevents_mv']=procedureevents_mv_df \n",
    "datasets['procedures_icd']=procedures_icd_df"
   ]
  },
  {
   "cell_type": "code",
   "execution_count": 48,
   "id": "9bfbba4e",
   "metadata": {},
   "outputs": [],
   "source": [
    "dataTest={\n",
    "    'admissions': admissions_df,\n",
    "    'patients':patients_df,\n",
    "#     'icustays':icustays_df\n",
    "}"
   ]
  },
  {
   "cell_type": "markdown",
   "id": "782ad359",
   "metadata": {},
   "source": [
    "## Metadata"
   ]
  },
  {
   "cell_type": "code",
   "execution_count": 49,
   "id": "c9be3ad1",
   "metadata": {},
   "outputs": [],
   "source": [
    "from sdv.metadata import MultiTableMetadata\n",
    "\n",
    "metadata = MultiTableMetadata()"
   ]
  },
  {
   "cell_type": "code",
   "execution_count": 50,
   "id": "d3808cfd",
   "metadata": {},
   "outputs": [],
   "source": [
    "metadata.detect_table_from_dataframe(\n",
    "    table_name='admissions',\n",
    "    data=admissions_df\n",
    ")\n",
    "metadata.detect_table_from_dataframe(\n",
    "    table_name='patients',\n",
    "    data=patients_df\n",
    ")\n",
    "\n",
    "# metadata.detect_table_from_dataframe(\n",
    "#     table_name='icustays',\n",
    "#     data=icustays_df\n",
    "# )"
   ]
  },
  {
   "cell_type": "code",
   "execution_count": 51,
   "id": "40bf6569",
   "metadata": {},
   "outputs": [
    {
     "name": "stdout",
     "output_type": "stream",
     "text": [
      "Auto detected data:\n",
      "\n"
     ]
    },
    {
     "data": {
      "text/plain": [
       "{\n",
       "    \"tables\": {\n",
       "        \"admissions\": {\n",
       "            \"columns\": {\n",
       "                \"subject_id\": {\n",
       "                    \"sdtype\": \"numerical\"\n",
       "                },\n",
       "                \"hadm_id\": {\n",
       "                    \"sdtype\": \"numerical\"\n",
       "                },\n",
       "                \"admittime\": {\n",
       "                    \"sdtype\": \"datetime\"\n",
       "                },\n",
       "                \"dischtime\": {\n",
       "                    \"sdtype\": \"datetime\"\n",
       "                },\n",
       "                \"deathtime\": {\n",
       "                    \"sdtype\": \"datetime\"\n",
       "                },\n",
       "                \"admission_type\": {\n",
       "                    \"sdtype\": \"categorical\"\n",
       "                },\n",
       "                \"admission_location\": {\n",
       "                    \"sdtype\": \"categorical\"\n",
       "                },\n",
       "                \"discharge_location\": {\n",
       "                    \"sdtype\": \"categorical\"\n",
       "                },\n",
       "                \"insurance\": {\n",
       "                    \"sdtype\": \"categorical\"\n",
       "                },\n",
       "                \"language\": {\n",
       "                    \"sdtype\": \"categorical\"\n",
       "                },\n",
       "                \"religion\": {\n",
       "                    \"sdtype\": \"categorical\"\n",
       "                },\n",
       "                \"marital_status\": {\n",
       "                    \"sdtype\": \"categorical\"\n",
       "                },\n",
       "                \"ethnicity\": {\n",
       "                    \"sdtype\": \"categorical\"\n",
       "                },\n",
       "                \"edregtime\": {\n",
       "                    \"sdtype\": \"datetime\"\n",
       "                },\n",
       "                \"edouttime\": {\n",
       "                    \"sdtype\": \"datetime\"\n",
       "                },\n",
       "                \"has_chartevents_data\": {\n",
       "                    \"sdtype\": \"numerical\"\n",
       "                }\n",
       "            }\n",
       "        },\n",
       "        \"patients\": {\n",
       "            \"columns\": {\n",
       "                \"subject_id\": {\n",
       "                    \"sdtype\": \"numerical\"\n",
       "                },\n",
       "                \"gender\": {\n",
       "                    \"sdtype\": \"categorical\"\n",
       "                },\n",
       "                \"dob\": {\n",
       "                    \"sdtype\": \"datetime\"\n",
       "                },\n",
       "                \"dod_hosp\": {\n",
       "                    \"sdtype\": \"datetime\"\n",
       "                },\n",
       "                \"dod_ssn\": {\n",
       "                    \"sdtype\": \"datetime\"\n",
       "                }\n",
       "            }\n",
       "        }\n",
       "    },\n",
       "    \"relationships\": [],\n",
       "    \"METADATA_SPEC_VERSION\": \"MULTI_TABLE_V1\"\n",
       "}"
      ]
     },
     "execution_count": 51,
     "metadata": {},
     "output_type": "execute_result"
    }
   ],
   "source": [
    "print('Auto detected data:\\n')\n",
    "metadata"
   ]
  },
  {
   "cell_type": "code",
   "execution_count": 52,
   "id": "646beb07",
   "metadata": {},
   "outputs": [],
   "source": [
    "metadata.update_column(\n",
    "    table_name='admissions',\n",
    "    column_name='subject_id',\n",
    "    sdtype='id',\n",
    "    regex_format='[0-9]{4,8}'\n",
    ")\n",
    "\n",
    "metadata.update_column(\n",
    "    table_name='admissions',\n",
    "    column_name='hadm_id',\n",
    "    sdtype='id',\n",
    "    regex_format='[0-9]{4,8}'\n",
    ")\n",
    "\n",
    "metadata.update_column(\n",
    "    table_name='admissions',\n",
    "    column_name='has_chartevents_data',\n",
    "    sdtype='categorical'\n",
    ")"
   ]
  },
  {
   "cell_type": "code",
   "execution_count": 53,
   "id": "92d8ca64",
   "metadata": {},
   "outputs": [],
   "source": [
    "metadata.update_column(\n",
    "    table_name='patients',\n",
    "    column_name='subject_id',\n",
    "    sdtype='id',\n",
    "    regex_format='[0-9]{4,8}'\n",
    ")\n"
   ]
  },
  {
   "cell_type": "code",
   "execution_count": 54,
   "id": "cf547d3b",
   "metadata": {},
   "outputs": [],
   "source": [
    "# metadata.update_column(\n",
    "#     table_name='icustays',\n",
    "#     column_name='subject_id',\n",
    "#     sdtype='id'\n",
    "# )\n",
    "\n",
    "# metadata.update_column(\n",
    "#     table_name='icustays',\n",
    "#     column_name='hadm_id',\n",
    "#     sdtype='id'\n",
    "# )\n",
    "\n",
    "# metadata.update_column(\n",
    "#     table_name='icustays',\n",
    "#     column_name='icustay_id',\n",
    "#     sdtype='id'\n",
    "# )\n",
    "\n",
    "# metadata.update_column(\n",
    "#     table_name='icustays',\n",
    "#     column_name='first_wardid',\n",
    "#     sdtype='categorical'\n",
    "# )\n",
    "\n",
    "# metadata.update_column(\n",
    "#     table_name='icustays',\n",
    "#     column_name='last_wardid',\n",
    "#     sdtype='categorical'\n",
    "# )"
   ]
  },
  {
   "cell_type": "markdown",
   "id": "b646dc66",
   "metadata": {},
   "source": [
    "## Setting primary keys"
   ]
  },
  {
   "cell_type": "code",
   "execution_count": 55,
   "id": "d2befb60",
   "metadata": {},
   "outputs": [],
   "source": [
    "metadata.set_primary_key(\n",
    "    table_name='patients',\n",
    "    column_name='subject_id'\n",
    ")\n",
    "\n",
    "metadata.set_primary_key(\n",
    "    table_name='admissions',\n",
    "    column_name='hadm_id'\n",
    ")\n",
    "# metadata.set_primary_key(\n",
    "#     table_name='icustays',\n",
    "#     column_name='icustay_id'\n",
    "# )\n"
   ]
  },
  {
   "cell_type": "markdown",
   "id": "5879debb",
   "metadata": {},
   "source": [
    "## Setting relationships"
   ]
  },
  {
   "cell_type": "code",
   "execution_count": 56,
   "id": "e7c2a4c6",
   "metadata": {},
   "outputs": [],
   "source": [
    "metadata.add_relationship(\n",
    "    parent_table_name='patients',\n",
    "    child_table_name='admissions',\n",
    "    parent_primary_key='subject_id',\n",
    "    child_foreign_key='subject_id'\n",
    ")\n",
    "\n",
    "# metadata.add_relationship(\n",
    "#     parent_table_name='patients',\n",
    "#     child_table_name='icustays',\n",
    "#     parent_primary_key='subject_id',\n",
    "#     child_foreign_key='subject_id'\n",
    "# )\n",
    "\n",
    "# metadata.add_relationship(\n",
    "#     parent_table_name='admissions',\n",
    "#     child_table_name='icustays',\n",
    "#     parent_primary_key='hadm_id',\n",
    "#     child_foreign_key='hadm_id'\n",
    "# )"
   ]
  },
  {
   "cell_type": "code",
   "execution_count": 57,
   "id": "318155f2",
   "metadata": {},
   "outputs": [],
   "source": [
    "metadata.validate()"
   ]
  },
  {
   "cell_type": "code",
   "execution_count": 65,
   "id": "1e2b8e74",
   "metadata": {
    "scrolled": true
   },
   "outputs": [
    {
     "data": {
      "text/plain": [
       "'Metadata.gv'"
      ]
     },
     "execution_count": 65,
     "metadata": {},
     "output_type": "execute_result"
    }
   ],
   "source": [
    "metadata.visualize().save()"
   ]
  },
  {
   "cell_type": "code",
   "execution_count": 610,
   "id": "22e6d902",
   "metadata": {},
   "outputs": [],
   "source": [
    "from sdv.multi_table import HMASynthesizer\n",
    "\n",
    "synthesizer = HMASynthesizer(metadata)\n",
    "synthesizer.validate(dataTest)"
   ]
  },
  {
   "cell_type": "code",
   "execution_count": 611,
   "id": "e5f0cbcd",
   "metadata": {},
   "outputs": [
    {
     "name": "stderr",
     "output_type": "stream",
     "text": [
      "Preprocess Tables: 100%|██████████| 2/2 [00:00<00:00, 11.28it/s]\n"
     ]
    },
    {
     "name": "stdout",
     "output_type": "stream",
     "text": [
      "\n",
      "Learning relationships:\n"
     ]
    },
    {
     "name": "stderr",
     "output_type": "stream",
     "text": [
      "(1/1) Tables 'patients' and 'admissions' ('subject_id'): 100%|██████████| 100/100 [00:06<00:00, 14.75it/s]\n"
     ]
    },
    {
     "name": "stdout",
     "output_type": "stream",
     "text": [
      "\n"
     ]
    },
    {
     "name": "stderr",
     "output_type": "stream",
     "text": [
      "Modeling Tables: 100%|██████████| 1/1 [00:06<00:00,  6.83s/it]\n"
     ]
    }
   ],
   "source": [
    "synthesizer.fit(dataTest)\n",
    "synthetic_data = synthesizer.sample(scale=1)"
   ]
  },
  {
   "cell_type": "code",
   "execution_count": 612,
   "id": "a559c358",
   "metadata": {},
   "outputs": [
    {
     "data": {
      "text/html": [
       "<div>\n",
       "<style scoped>\n",
       "    .dataframe tbody tr th:only-of-type {\n",
       "        vertical-align: middle;\n",
       "    }\n",
       "\n",
       "    .dataframe tbody tr th {\n",
       "        vertical-align: top;\n",
       "    }\n",
       "\n",
       "    .dataframe thead th {\n",
       "        text-align: right;\n",
       "    }\n",
       "</style>\n",
       "<table border=\"1\" class=\"dataframe\">\n",
       "  <thead>\n",
       "    <tr style=\"text-align: right;\">\n",
       "      <th></th>\n",
       "      <th>subject_id</th>\n",
       "      <th>gender</th>\n",
       "      <th>dob</th>\n",
       "      <th>dod_hosp</th>\n",
       "      <th>dod_ssn</th>\n",
       "    </tr>\n",
       "  </thead>\n",
       "  <tbody>\n",
       "    <tr>\n",
       "      <th>0</th>\n",
       "      <td>0</td>\n",
       "      <td>F</td>\n",
       "      <td>1980-12-06</td>\n",
       "      <td>NaT</td>\n",
       "      <td>2157-08-15</td>\n",
       "    </tr>\n",
       "    <tr>\n",
       "      <th>1</th>\n",
       "      <td>1</td>\n",
       "      <td>M</td>\n",
       "      <td>1985-09-25</td>\n",
       "      <td>NaT</td>\n",
       "      <td>2149-07-20</td>\n",
       "    </tr>\n",
       "    <tr>\n",
       "      <th>2</th>\n",
       "      <td>2</td>\n",
       "      <td>F</td>\n",
       "      <td>1914-06-15</td>\n",
       "      <td>NaT</td>\n",
       "      <td>NaT</td>\n",
       "    </tr>\n",
       "    <tr>\n",
       "      <th>3</th>\n",
       "      <td>3</td>\n",
       "      <td>M</td>\n",
       "      <td>1971-04-07</td>\n",
       "      <td>2130-07-04</td>\n",
       "      <td>NaT</td>\n",
       "    </tr>\n",
       "    <tr>\n",
       "      <th>4</th>\n",
       "      <td>4</td>\n",
       "      <td>F</td>\n",
       "      <td>1963-11-20</td>\n",
       "      <td>NaT</td>\n",
       "      <td>2175-05-05</td>\n",
       "    </tr>\n",
       "    <tr>\n",
       "      <th>...</th>\n",
       "      <td>...</td>\n",
       "      <td>...</td>\n",
       "      <td>...</td>\n",
       "      <td>...</td>\n",
       "      <td>...</td>\n",
       "    </tr>\n",
       "    <tr>\n",
       "      <th>95</th>\n",
       "      <td>95</td>\n",
       "      <td>M</td>\n",
       "      <td>2003-01-26</td>\n",
       "      <td>NaT</td>\n",
       "      <td>NaT</td>\n",
       "    </tr>\n",
       "    <tr>\n",
       "      <th>96</th>\n",
       "      <td>96</td>\n",
       "      <td>F</td>\n",
       "      <td>1911-12-08</td>\n",
       "      <td>2167-10-01</td>\n",
       "      <td>NaT</td>\n",
       "    </tr>\n",
       "    <tr>\n",
       "      <th>97</th>\n",
       "      <td>97</td>\n",
       "      <td>F</td>\n",
       "      <td>1942-11-02</td>\n",
       "      <td>NaT</td>\n",
       "      <td>NaT</td>\n",
       "    </tr>\n",
       "    <tr>\n",
       "      <th>98</th>\n",
       "      <td>98</td>\n",
       "      <td>F</td>\n",
       "      <td>1989-01-31</td>\n",
       "      <td>2142-05-11</td>\n",
       "      <td>NaT</td>\n",
       "    </tr>\n",
       "    <tr>\n",
       "      <th>99</th>\n",
       "      <td>99</td>\n",
       "      <td>F</td>\n",
       "      <td>1910-01-10</td>\n",
       "      <td>NaT</td>\n",
       "      <td>NaT</td>\n",
       "    </tr>\n",
       "  </tbody>\n",
       "</table>\n",
       "<p>100 rows × 5 columns</p>\n",
       "</div>"
      ],
      "text/plain": [
       "    subject_id gender        dob   dod_hosp    dod_ssn\n",
       "0            0      F 1980-12-06        NaT 2157-08-15\n",
       "1            1      M 1985-09-25        NaT 2149-07-20\n",
       "2            2      F 1914-06-15        NaT        NaT\n",
       "3            3      M 1971-04-07 2130-07-04        NaT\n",
       "4            4      F 1963-11-20        NaT 2175-05-05\n",
       "..         ...    ...        ...        ...        ...\n",
       "95          95      M 2003-01-26        NaT        NaT\n",
       "96          96      F 1911-12-08 2167-10-01        NaT\n",
       "97          97      F 1942-11-02        NaT        NaT\n",
       "98          98      F 1989-01-31 2142-05-11        NaT\n",
       "99          99      F 1910-01-10        NaT        NaT\n",
       "\n",
       "[100 rows x 5 columns]"
      ]
     },
     "execution_count": 612,
     "metadata": {},
     "output_type": "execute_result"
    }
   ],
   "source": [
    "synthetic_data['patients']"
   ]
  },
  {
   "cell_type": "code",
   "execution_count": 613,
   "id": "58899278",
   "metadata": {},
   "outputs": [
    {
     "data": {
      "text/html": [
       "<div>\n",
       "<style scoped>\n",
       "    .dataframe tbody tr th:only-of-type {\n",
       "        vertical-align: middle;\n",
       "    }\n",
       "\n",
       "    .dataframe tbody tr th {\n",
       "        vertical-align: top;\n",
       "    }\n",
       "\n",
       "    .dataframe thead th {\n",
       "        text-align: right;\n",
       "    }\n",
       "</style>\n",
       "<table border=\"1\" class=\"dataframe\">\n",
       "  <thead>\n",
       "    <tr style=\"text-align: right;\">\n",
       "      <th></th>\n",
       "      <th>subject_id</th>\n",
       "      <th>hadm_id</th>\n",
       "      <th>admittime</th>\n",
       "      <th>dischtime</th>\n",
       "      <th>deathtime</th>\n",
       "      <th>admission_type</th>\n",
       "      <th>admission_location</th>\n",
       "      <th>discharge_location</th>\n",
       "      <th>insurance</th>\n",
       "      <th>language</th>\n",
       "      <th>religion</th>\n",
       "      <th>marital_status</th>\n",
       "      <th>ethnicity</th>\n",
       "      <th>edregtime</th>\n",
       "      <th>edouttime</th>\n",
       "      <th>has_chartevents_data</th>\n",
       "    </tr>\n",
       "  </thead>\n",
       "  <tbody>\n",
       "    <tr>\n",
       "      <th>90</th>\n",
       "      <td>23</td>\n",
       "      <td>90</td>\n",
       "      <td>2174-09-10 21:13:29</td>\n",
       "      <td>2173-10-28 09:58:07</td>\n",
       "      <td>NaT</td>\n",
       "      <td>URGENT</td>\n",
       "      <td>PHYS REFERRAL/NORMAL DELI</td>\n",
       "      <td>SNF</td>\n",
       "      <td>Medicare</td>\n",
       "      <td>Unknown</td>\n",
       "      <td>JEWISH</td>\n",
       "      <td>Unknown</td>\n",
       "      <td>WHITE</td>\n",
       "      <td>2180-11-21 17:14:37</td>\n",
       "      <td>NaT</td>\n",
       "      <td>1</td>\n",
       "    </tr>\n",
       "  </tbody>\n",
       "</table>\n",
       "</div>"
      ],
      "text/plain": [
       "    subject_id  hadm_id           admittime           dischtime deathtime  \\\n",
       "90          23       90 2174-09-10 21:13:29 2173-10-28 09:58:07       NaT   \n",
       "\n",
       "   admission_type         admission_location discharge_location insurance  \\\n",
       "90         URGENT  PHYS REFERRAL/NORMAL DELI                SNF  Medicare   \n",
       "\n",
       "   language religion marital_status ethnicity           edregtime edouttime  \\\n",
       "90  Unknown   JEWISH        Unknown     WHITE 2180-11-21 17:14:37       NaT   \n",
       "\n",
       "    has_chartevents_data  \n",
       "90                     1  "
      ]
     },
     "execution_count": 613,
     "metadata": {},
     "output_type": "execute_result"
    }
   ],
   "source": [
    "synthetic_data['admissions'][synthetic_data['admissions']['hadm_id']==90]"
   ]
  },
  {
   "cell_type": "code",
   "execution_count": 614,
   "id": "7e1441dd",
   "metadata": {},
   "outputs": [
    {
     "ename": "KeyError",
     "evalue": "'icustays'",
     "output_type": "error",
     "traceback": [
      "\u001b[1;31m---------------------------------------------------------------------------\u001b[0m",
      "\u001b[1;31mKeyError\u001b[0m                                  Traceback (most recent call last)",
      "Cell \u001b[1;32mIn[614], line 1\u001b[0m\n\u001b[1;32m----> 1\u001b[0m \u001b[43msynthetic_data\u001b[49m\u001b[43m[\u001b[49m\u001b[38;5;124;43m'\u001b[39;49m\u001b[38;5;124;43micustays\u001b[39;49m\u001b[38;5;124;43m'\u001b[39;49m\u001b[43m]\u001b[49m\n",
      "\u001b[1;31mKeyError\u001b[0m: 'icustays'"
     ]
    }
   ],
   "source": [
    "synthetic_data['icustays']"
   ]
  },
  {
   "cell_type": "code",
   "execution_count": 615,
   "id": "92d0e3ee",
   "metadata": {},
   "outputs": [
    {
     "data": {
      "text/plain": [
       "array(['JEWISH', 'OTHER', 'UNOBTAINABLE', 'EPISCOPALIAN', 'CATHOLIC',\n",
       "       'PROTESTANT QUAKER', 'NOT SPECIFIED', 'Unknown'], dtype=object)"
      ]
     },
     "execution_count": 615,
     "metadata": {},
     "output_type": "execute_result"
    }
   ],
   "source": [
    "synthetic_data['admissions']['religion'].unique()"
   ]
  },
  {
   "cell_type": "code",
   "execution_count": 616,
   "id": "e6a9930f",
   "metadata": {},
   "outputs": [
    {
     "data": {
      "text/plain": [
       "0                     NaT\n",
       "1                     NaT\n",
       "2                     NaT\n",
       "3                     NaT\n",
       "4                     NaT\n",
       "              ...        \n",
       "127   2130-08-20 01:56:00\n",
       "128                   NaT\n",
       "129                   NaT\n",
       "130                   NaT\n",
       "131                   NaT\n",
       "Name: deathtime, Length: 132, dtype: datetime64[ns]"
      ]
     },
     "execution_count": 616,
     "metadata": {},
     "output_type": "execute_result"
    }
   ],
   "source": [
    "admissions_df['deathtime']"
   ]
  },
  {
   "cell_type": "code",
   "execution_count": 617,
   "id": "313013dc",
   "metadata": {},
   "outputs": [
    {
     "name": "stderr",
     "output_type": "stream",
     "text": [
      "Creating report: 100%|██████████| 5/5 [00:00<00:00,  8.61it/s]\n"
     ]
    },
    {
     "name": "stdout",
     "output_type": "stream",
     "text": [
      "\n",
      "Overall Quality Score: 46.79%\n",
      "\n",
      "Properties:\n",
      "Column Shapes: 72.16%\n",
      "Column Pair Trends: 61.22%\n",
      "Parent Child Relationships: 7.0%\n"
     ]
    }
   ],
   "source": [
    "from sdv.evaluation.multi_table import evaluate_quality\n",
    "\n",
    "quality_report = evaluate_quality(\n",
    "    real_data=dataTest,\n",
    "    synthetic_data=synthetic_data,\n",
    "    metadata=metadata)"
   ]
  },
  {
   "cell_type": "code",
   "execution_count": 618,
   "id": "b7dde2ca",
   "metadata": {},
   "outputs": [
    {
     "ename": "NameError",
     "evalue": "name 'run_diangnostic' is not defined",
     "output_type": "error",
     "traceback": [
      "\u001b[1;31m---------------------------------------------------------------------------\u001b[0m",
      "\u001b[1;31mNameError\u001b[0m                                 Traceback (most recent call last)",
      "Cell \u001b[1;32mIn[618], line 3\u001b[0m\n\u001b[0;32m      1\u001b[0m \u001b[38;5;28;01mfrom\u001b[39;00m \u001b[38;5;21;01msdv\u001b[39;00m\u001b[38;5;21;01m.\u001b[39;00m\u001b[38;5;21;01mevaluation\u001b[39;00m\u001b[38;5;21;01m.\u001b[39;00m\u001b[38;5;21;01mmulti_table\u001b[39;00m \u001b[38;5;28;01mimport\u001b[39;00m run_diagnostic\n\u001b[1;32m----> 3\u001b[0m diagnostic_report \u001b[38;5;241m=\u001b[39m \u001b[43mrun_diangnostic\u001b[49m(\n\u001b[0;32m      4\u001b[0m     real_data\u001b[38;5;241m=\u001b[39mpatients_df,\n\u001b[0;32m      5\u001b[0m     synthetic_data\u001b[38;5;241m=\u001b[39msynthetic_data[\u001b[38;5;124m'\u001b[39m\u001b[38;5;124mpatients\u001b[39m\u001b[38;5;124m'\u001b[39m],\n\u001b[0;32m      6\u001b[0m     metadata\u001b[38;5;241m=\u001b[39mmetadata)\n",
      "\u001b[1;31mNameError\u001b[0m: name 'run_diangnostic' is not defined"
     ]
    }
   ],
   "source": [
    "from sdv.evaluation.multi_table import run_diagnostic\n",
    "\n",
    "diagnostic_report = run_diangnostic(\n",
    "    real_data=patients_df,\n",
    "    synthetic_data=synthetic_data['patients'],\n",
    "    metadata=metadata)"
   ]
  },
  {
   "cell_type": "code",
   "execution_count": 619,
   "id": "7278640e",
   "metadata": {},
   "outputs": [
    {
     "data": {
      "text/plain": [
       "0.46794415347064416"
      ]
     },
     "execution_count": 619,
     "metadata": {},
     "output_type": "execute_result"
    }
   ],
   "source": [
    "quality_report.get_score()"
   ]
  },
  {
   "cell_type": "code",
   "execution_count": 620,
   "id": "583a9a51",
   "metadata": {},
   "outputs": [
    {
     "ename": "ImportError",
     "evalue": "cannot import name 'DayZSynthesizer' from 'sdv.multi_table' (C:\\Users\\shrus\\anaconda3\\lib\\site-packages\\sdv\\multi_table\\__init__.py)",
     "output_type": "error",
     "traceback": [
      "\u001b[1;31m---------------------------------------------------------------------------\u001b[0m",
      "\u001b[1;31mImportError\u001b[0m                               Traceback (most recent call last)",
      "Cell \u001b[1;32mIn[620], line 1\u001b[0m\n\u001b[1;32m----> 1\u001b[0m \u001b[38;5;28;01mfrom\u001b[39;00m \u001b[38;5;21;01msdv\u001b[39;00m\u001b[38;5;21;01m.\u001b[39;00m\u001b[38;5;21;01mmulti_table\u001b[39;00m \u001b[38;5;28;01mimport\u001b[39;00m DayZSynthesizer\n\u001b[0;32m      3\u001b[0m synthesizer \u001b[38;5;241m=\u001b[39m DayZSynthesizer(metadata)\n\u001b[0;32m      4\u001b[0m synthetic_data \u001b[38;5;241m=\u001b[39m synthesizer\u001b[38;5;241m.\u001b[39msample(num_rows_per_table\u001b[38;5;241m=\u001b[39m\u001b[38;5;241m1000\u001b[39m)\n",
      "\u001b[1;31mImportError\u001b[0m: cannot import name 'DayZSynthesizer' from 'sdv.multi_table' (C:\\Users\\shrus\\anaconda3\\lib\\site-packages\\sdv\\multi_table\\__init__.py)"
     ]
    }
   ],
   "source": [
    "from sdv.multi_table import DayZSynthesizer\n",
    "\n",
    "synthesizer = DayZSynthesizer(metadata)\n",
    "synthetic_data = synthesizer.sample(num_rows_per_table=1000)"
   ]
  },
  {
   "cell_type": "code",
   "execution_count": null,
   "id": "43272919",
   "metadata": {},
   "outputs": [],
   "source": [
    "from sdv.evaluation.single_table import get_column_plot\n",
    "\n",
    "fig = get_column_plot(\n",
    "    real_data=dataTest,\n",
    "    synthetic_data=synthetic_data,\n",
    "    table_name='admissions',\n",
    "    column_name='amenities_fee',\n",
    "    metadata=metadata\n",
    ")\n",
    "    \n",
    "fig.show()"
   ]
  },
  {
   "cell_type": "code",
   "execution_count": null,
   "id": "a66f914e",
   "metadata": {},
   "outputs": [],
   "source": []
  },
  {
   "cell_type": "code",
   "execution_count": null,
   "id": "bf14fe46",
   "metadata": {},
   "outputs": [],
   "source": []
  },
  {
   "cell_type": "code",
   "execution_count": null,
   "id": "a2704396",
   "metadata": {},
   "outputs": [],
   "source": []
  },
  {
   "cell_type": "code",
   "execution_count": null,
   "id": "9dd5de20",
   "metadata": {},
   "outputs": [],
   "source": []
  },
  {
   "cell_type": "code",
   "execution_count": null,
   "id": "2e0ca833",
   "metadata": {},
   "outputs": [],
   "source": []
  },
  {
   "cell_type": "code",
   "execution_count": null,
   "id": "87d4425b",
   "metadata": {},
   "outputs": [],
   "source": []
  },
  {
   "cell_type": "code",
   "execution_count": null,
   "id": "ae27f5c4",
   "metadata": {},
   "outputs": [],
   "source": []
  },
  {
   "cell_type": "code",
   "execution_count": null,
   "id": "b94886d7",
   "metadata": {},
   "outputs": [],
   "source": []
  },
  {
   "cell_type": "code",
   "execution_count": null,
   "id": "4aa042f1",
   "metadata": {},
   "outputs": [],
   "source": []
  },
  {
   "cell_type": "code",
   "execution_count": null,
   "id": "cc4a5e9b",
   "metadata": {},
   "outputs": [],
   "source": []
  },
  {
   "cell_type": "code",
   "execution_count": null,
   "id": "99553233",
   "metadata": {},
   "outputs": [],
   "source": []
  },
  {
   "cell_type": "code",
   "execution_count": null,
   "id": "9ba900b5",
   "metadata": {},
   "outputs": [],
   "source": []
  }
 ],
 "metadata": {
  "kernelspec": {
   "display_name": "Python 3 (ipykernel)",
   "language": "python",
   "name": "python3"
  },
  "language_info": {
   "codemirror_mode": {
    "name": "ipython",
    "version": 3
   },
   "file_extension": ".py",
   "mimetype": "text/x-python",
   "name": "python",
   "nbconvert_exporter": "python",
   "pygments_lexer": "ipython3",
   "version": "3.10.9"
  }
 },
 "nbformat": 4,
 "nbformat_minor": 5
}
