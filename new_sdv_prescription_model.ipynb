{
 "cells": [
  {
   "cell_type": "code",
   "execution_count": 24,
   "id": "80c96aaa",
   "metadata": {},
   "outputs": [],
   "source": [
    "# Ignore warnings\n",
    "import warnings\n",
    "warnings.filterwarnings(\"ignore\")"
   ]
  },
  {
   "cell_type": "code",
   "execution_count": 25,
   "id": "e8a6ba9a",
   "metadata": {},
   "outputs": [],
   "source": [
    "import pandas as pd\n",
    "import numpy as np\n",
    "\n",
    "import commonfunc"
   ]
  },
  {
   "cell_type": "code",
   "execution_count": 26,
   "id": "6facc9df",
   "metadata": {},
   "outputs": [],
   "source": [
    "data_set_path='C:/Users/shrus/Documents/Synthetic-data-generation/'"
   ]
  },
  {
   "cell_type": "code",
   "execution_count": 27,
   "id": "453f4d7b",
   "metadata": {},
   "outputs": [],
   "source": [
    "prescription_df = commonfunc.read_csv_no_rowid(data_set_path+\"sampled_data_csv_100/prescriptions.csv\")"
   ]
  },
  {
   "cell_type": "code",
   "execution_count": 28,
   "id": "a7765487",
   "metadata": {},
   "outputs": [],
   "source": [
    "prescription_df=prescription_df.sample(1400)"
   ]
  },
  {
   "cell_type": "code",
   "execution_count": 29,
   "id": "5b1a00fe",
   "metadata": {},
   "outputs": [
    {
     "data": {
      "text/html": [
       "<div>\n",
       "<style scoped>\n",
       "    .dataframe tbody tr th:only-of-type {\n",
       "        vertical-align: middle;\n",
       "    }\n",
       "\n",
       "    .dataframe tbody tr th {\n",
       "        vertical-align: top;\n",
       "    }\n",
       "\n",
       "    .dataframe thead th {\n",
       "        text-align: right;\n",
       "    }\n",
       "</style>\n",
       "<table border=\"1\" class=\"dataframe\">\n",
       "  <thead>\n",
       "    <tr style=\"text-align: right;\">\n",
       "      <th></th>\n",
       "      <th>subject_id</th>\n",
       "      <th>hadm_id</th>\n",
       "      <th>icustay_id</th>\n",
       "      <th>startdate</th>\n",
       "      <th>enddate</th>\n",
       "      <th>drug_type</th>\n",
       "      <th>drug</th>\n",
       "      <th>drug_name_poe</th>\n",
       "      <th>drug_name_generic</th>\n",
       "      <th>formulary_drug_cd</th>\n",
       "      <th>gsn</th>\n",
       "      <th>ndc</th>\n",
       "      <th>prod_strength</th>\n",
       "      <th>dose_val_rx</th>\n",
       "      <th>dose_unit_rx</th>\n",
       "      <th>form_val_disp</th>\n",
       "      <th>form_unit_disp</th>\n",
       "      <th>route</th>\n",
       "    </tr>\n",
       "  </thead>\n",
       "  <tbody>\n",
       "    <tr>\n",
       "      <th>8243</th>\n",
       "      <td>27074</td>\n",
       "      <td>181147</td>\n",
       "      <td>228048.0</td>\n",
       "      <td>2179-12-10</td>\n",
       "      <td>2179-12-14</td>\n",
       "      <td>MAIN</td>\n",
       "      <td>Guaifenesin</td>\n",
       "      <td>Guaifenesin</td>\n",
       "      <td>Guaifenesin</td>\n",
       "      <td>GUAI10</td>\n",
       "      <td>759.0</td>\n",
       "      <td>1.211744e+08</td>\n",
       "      <td>10mL Cup</td>\n",
       "      <td>5-10</td>\n",
       "      <td>mL</td>\n",
       "      <td>0.5-1</td>\n",
       "      <td>UDCUP</td>\n",
       "      <td>PO</td>\n",
       "    </tr>\n",
       "    <tr>\n",
       "      <th>5923</th>\n",
       "      <td>1709</td>\n",
       "      <td>127294</td>\n",
       "      <td>207018.0</td>\n",
       "      <td>2118-01-06</td>\n",
       "      <td>2118-01-06</td>\n",
       "      <td>MAIN</td>\n",
       "      <td>PredniSONE</td>\n",
       "      <td>PredniSONE</td>\n",
       "      <td>PredniSONE</td>\n",
       "      <td>PRED20</td>\n",
       "      <td>6751.0</td>\n",
       "      <td>5.400182e+07</td>\n",
       "      <td>20 mg Tablet</td>\n",
       "      <td>60</td>\n",
       "      <td>mg</td>\n",
       "      <td>3</td>\n",
       "      <td>TAB</td>\n",
       "      <td>PO</td>\n",
       "    </tr>\n",
       "    <tr>\n",
       "      <th>7216</th>\n",
       "      <td>15728</td>\n",
       "      <td>193047</td>\n",
       "      <td>289569.0</td>\n",
       "      <td>2175-01-21</td>\n",
       "      <td>2175-01-21</td>\n",
       "      <td>MAIN</td>\n",
       "      <td>Dolasetron Mesylate</td>\n",
       "      <td>Dolasetron Mesylate</td>\n",
       "      <td>Dolasetron Mesylate</td>\n",
       "      <td>DOLA12.5I</td>\n",
       "      <td>50268.0</td>\n",
       "      <td>8.812081e+07</td>\n",
       "      <td>12.5mg Vial</td>\n",
       "      <td>12.5</td>\n",
       "      <td>mg</td>\n",
       "      <td>1</td>\n",
       "      <td>VIAL</td>\n",
       "      <td>IV</td>\n",
       "    </tr>\n",
       "    <tr>\n",
       "      <th>4453</th>\n",
       "      <td>11816</td>\n",
       "      <td>138518</td>\n",
       "      <td>NaN</td>\n",
       "      <td>2118-06-27</td>\n",
       "      <td>2118-06-28</td>\n",
       "      <td>MAIN</td>\n",
       "      <td>Dextrose 50%</td>\n",
       "      <td>Dextrose 50%</td>\n",
       "      <td>Dextrose 50%</td>\n",
       "      <td>DEX50SY</td>\n",
       "      <td>1989.0</td>\n",
       "      <td>4.094902e+08</td>\n",
       "      <td>50mL Syringe</td>\n",
       "      <td>12.5</td>\n",
       "      <td>gm</td>\n",
       "      <td>0.5</td>\n",
       "      <td>SYR</td>\n",
       "      <td>IV</td>\n",
       "    </tr>\n",
       "    <tr>\n",
       "      <th>8319</th>\n",
       "      <td>32008</td>\n",
       "      <td>181524</td>\n",
       "      <td>228908.0</td>\n",
       "      <td>2163-01-21</td>\n",
       "      <td>2163-01-21</td>\n",
       "      <td>MAIN</td>\n",
       "      <td>Chlorhexidine Gluconate 0.12% Oral Rinse</td>\n",
       "      <td>Chlorhexidine Gluconate 0.12% Oral Rinse</td>\n",
       "      <td>Chlorhexidine Gluconate</td>\n",
       "      <td>CHLO15L</td>\n",
       "      <td>57959.0</td>\n",
       "      <td>5.456952e+10</td>\n",
       "      <td>15ml Cup</td>\n",
       "      <td>15</td>\n",
       "      <td>mL</td>\n",
       "      <td>1</td>\n",
       "      <td>UDCUP</td>\n",
       "      <td>ORAL</td>\n",
       "    </tr>\n",
       "  </tbody>\n",
       "</table>\n",
       "</div>"
      ],
      "text/plain": [
       "      subject_id  hadm_id  icustay_id   startdate     enddate drug_type  \\\n",
       "8243       27074   181147    228048.0  2179-12-10  2179-12-14      MAIN   \n",
       "5923        1709   127294    207018.0  2118-01-06  2118-01-06      MAIN   \n",
       "7216       15728   193047    289569.0  2175-01-21  2175-01-21      MAIN   \n",
       "4453       11816   138518         NaN  2118-06-27  2118-06-28      MAIN   \n",
       "8319       32008   181524    228908.0  2163-01-21  2163-01-21      MAIN   \n",
       "\n",
       "                                          drug  \\\n",
       "8243                               Guaifenesin   \n",
       "5923                                PredniSONE   \n",
       "7216                       Dolasetron Mesylate   \n",
       "4453                              Dextrose 50%   \n",
       "8319  Chlorhexidine Gluconate 0.12% Oral Rinse   \n",
       "\n",
       "                                 drug_name_poe        drug_name_generic  \\\n",
       "8243                               Guaifenesin              Guaifenesin   \n",
       "5923                                PredniSONE               PredniSONE   \n",
       "7216                       Dolasetron Mesylate      Dolasetron Mesylate   \n",
       "4453                              Dextrose 50%             Dextrose 50%   \n",
       "8319  Chlorhexidine Gluconate 0.12% Oral Rinse  Chlorhexidine Gluconate   \n",
       "\n",
       "     formulary_drug_cd      gsn           ndc prod_strength dose_val_rx  \\\n",
       "8243            GUAI10    759.0  1.211744e+08      10mL Cup        5-10   \n",
       "5923            PRED20   6751.0  5.400182e+07  20 mg Tablet          60   \n",
       "7216         DOLA12.5I  50268.0  8.812081e+07   12.5mg Vial        12.5   \n",
       "4453           DEX50SY   1989.0  4.094902e+08  50mL Syringe        12.5   \n",
       "8319           CHLO15L  57959.0  5.456952e+10      15ml Cup          15   \n",
       "\n",
       "     dose_unit_rx form_val_disp form_unit_disp route  \n",
       "8243           mL         0.5-1          UDCUP    PO  \n",
       "5923           mg             3            TAB    PO  \n",
       "7216           mg             1           VIAL    IV  \n",
       "4453           gm           0.5            SYR    IV  \n",
       "8319           mL             1          UDCUP  ORAL  "
      ]
     },
     "execution_count": 29,
     "metadata": {},
     "output_type": "execute_result"
    }
   ],
   "source": [
    "prescription_df.head()"
   ]
  },
  {
   "cell_type": "markdown",
   "id": "9aa34bdc",
   "metadata": {},
   "source": [
    "## Data preprocessing"
   ]
  },
  {
   "cell_type": "code",
   "execution_count": 30,
   "id": "0c6e4d2c",
   "metadata": {},
   "outputs": [],
   "source": [
    "#Drop useless columns\n",
    "prescription_df.drop(['subject_id', 'hadm_id', 'icustay_id','gsn','ndc','dose_val_rx','dose_unit_rx','form_val_disp'], axis=1, inplace=True)"
   ]
  },
  {
   "cell_type": "code",
   "execution_count": 31,
   "id": "c9507b8a",
   "metadata": {},
   "outputs": [
    {
     "data": {
      "text/plain": [
       "startdate            object\n",
       "enddate              object\n",
       "drug_type            object\n",
       "drug                 object\n",
       "drug_name_poe        object\n",
       "drug_name_generic    object\n",
       "formulary_drug_cd    object\n",
       "prod_strength        object\n",
       "form_unit_disp       object\n",
       "route                object\n",
       "dtype: object"
      ]
     },
     "execution_count": 31,
     "metadata": {},
     "output_type": "execute_result"
    }
   ],
   "source": [
    "prescription_df.dtypes"
   ]
  },
  {
   "cell_type": "code",
   "execution_count": 32,
   "id": "399c73a6",
   "metadata": {},
   "outputs": [],
   "source": [
    "prescription_df['startdate'] = pd.to_datetime(prescription_df['startdate'])\n",
    "prescription_df['enddate'] = pd.to_datetime(prescription_df['enddate'])\n"
   ]
  },
  {
   "cell_type": "code",
   "execution_count": 33,
   "id": "1c87af68",
   "metadata": {},
   "outputs": [
    {
     "data": {
      "text/plain": [
       "startdate              0\n",
       "enddate                1\n",
       "drug_type              0\n",
       "drug                   0\n",
       "drug_name_poe        511\n",
       "drug_name_generic    511\n",
       "formulary_drug_cd      0\n",
       "prod_strength          0\n",
       "form_unit_disp         0\n",
       "route                  0\n",
       "dtype: int64"
      ]
     },
     "execution_count": 33,
     "metadata": {},
     "output_type": "execute_result"
    }
   ],
   "source": [
    "prescription_df.isnull().sum()"
   ]
  },
  {
   "cell_type": "code",
   "execution_count": 42,
   "id": "d1bcada5",
   "metadata": {},
   "outputs": [],
   "source": [
    "prescription_df.dropna(subset=['enddate'], inplace=True, axis=0)\n"
   ]
  },
  {
   "cell_type": "markdown",
   "id": "b46b0419",
   "metadata": {},
   "source": [
    "# Metadata"
   ]
  },
  {
   "cell_type": "code",
   "execution_count": 43,
   "id": "4739e912",
   "metadata": {},
   "outputs": [],
   "source": [
    "from sdv.metadata import SingleTableMetadata\n",
    "\n",
    "metadata = SingleTableMetadata()"
   ]
  },
  {
   "cell_type": "code",
   "execution_count": 44,
   "id": "3500b98b",
   "metadata": {},
   "outputs": [],
   "source": [
    "metadata.detect_from_dataframe(data=prescription_df)"
   ]
  },
  {
   "cell_type": "code",
   "execution_count": 45,
   "id": "848db611",
   "metadata": {},
   "outputs": [
    {
     "data": {
      "text/plain": [
       "{\n",
       "    \"METADATA_SPEC_VERSION\": \"SINGLE_TABLE_V1\",\n",
       "    \"columns\": {\n",
       "        \"startdate\": {\n",
       "            \"sdtype\": \"datetime\"\n",
       "        },\n",
       "        \"enddate\": {\n",
       "            \"sdtype\": \"datetime\"\n",
       "        },\n",
       "        \"drug_type\": {\n",
       "            \"sdtype\": \"categorical\"\n",
       "        },\n",
       "        \"drug\": {\n",
       "            \"sdtype\": \"categorical\"\n",
       "        },\n",
       "        \"drug_name_poe\": {\n",
       "            \"sdtype\": \"categorical\"\n",
       "        },\n",
       "        \"drug_name_generic\": {\n",
       "            \"sdtype\": \"categorical\"\n",
       "        },\n",
       "        \"formulary_drug_cd\": {\n",
       "            \"sdtype\": \"categorical\"\n",
       "        },\n",
       "        \"prod_strength\": {\n",
       "            \"sdtype\": \"categorical\"\n",
       "        },\n",
       "        \"form_unit_disp\": {\n",
       "            \"sdtype\": \"categorical\"\n",
       "        },\n",
       "        \"route\": {\n",
       "            \"sdtype\": \"categorical\"\n",
       "        }\n",
       "    }\n",
       "}"
      ]
     },
     "execution_count": 45,
     "metadata": {},
     "output_type": "execute_result"
    }
   ],
   "source": [
    "metadata"
   ]
  },
  {
   "cell_type": "markdown",
   "id": "5b78a2f7",
   "metadata": {},
   "source": [
    "## Constraints"
   ]
  },
  {
   "cell_type": "code",
   "execution_count": 53,
   "id": "bc760aa8",
   "metadata": {},
   "outputs": [],
   "source": [
    "startdate_enddate_constraint = {\n",
    "    'constraint_class': 'Inequality',\n",
    "    'constraint_parameters': {\n",
    "        'low_column_name': 'startdate',\n",
    "        'high_column_name': 'enddate',\n",
    "        'strict_boundaries': True\n",
    "    }\n",
    "}"
   ]
  },
  {
   "cell_type": "markdown",
   "id": "512bd6a4",
   "metadata": {},
   "source": [
    "## Modelling"
   ]
  },
  {
   "cell_type": "code",
   "execution_count": 54,
   "id": "911371ec",
   "metadata": {},
   "outputs": [],
   "source": [
    "data = prescription_df"
   ]
  },
  {
   "cell_type": "code",
   "execution_count": 56,
   "id": "96340194",
   "metadata": {},
   "outputs": [],
   "source": [
    "from sdv.lite import SingleTablePreset\n",
    "\n",
    "synthesizer1 = SingleTablePreset(metadata, name='FAST_ML')\n",
    "\n",
    "synthesizer1.fit(data)\n",
    "\n",
    "synthetic_data1 = synthesizer1.sample(num_rows=len(data))"
   ]
  },
  {
   "cell_type": "code",
   "execution_count": 61,
   "id": "47e36919",
   "metadata": {},
   "outputs": [],
   "source": [
    "from sdv.single_table import GaussianCopulaSynthesizer\n",
    "\n",
    "synthesizer2 = GaussianCopulaSynthesizer(metadata)\n",
    "synthesizer2.fit(data)\n",
    "\n",
    "synthetic_data2 = synthesizer2.sample(num_rows=len(data))"
   ]
  },
  {
   "cell_type": "code",
   "execution_count": 62,
   "id": "16df9743",
   "metadata": {},
   "outputs": [],
   "source": [
    "from sdv.single_table import CTGANSynthesizer\n",
    "\n",
    "synthesizer3 = CTGANSynthesizer(metadata)\n",
    "\n",
    "synthesizer3.fit(data)\n",
    "\n",
    "synthetic_data3 = synthesizer3.sample(num_rows=len(data))"
   ]
  },
  {
   "cell_type": "code",
   "execution_count": 63,
   "id": "838abea7",
   "metadata": {},
   "outputs": [],
   "source": [
    "from sdv.single_table import TVAESynthesizer\n",
    "\n",
    "synthesizer4 = TVAESynthesizer(metadata)\n",
    "synthesizer4.fit(data)\n",
    "\n",
    "synthetic_data4 = synthesizer4.sample(num_rows=len(data))"
   ]
  },
  {
   "cell_type": "code",
   "execution_count": 64,
   "id": "ac9f9c86",
   "metadata": {},
   "outputs": [],
   "source": [
    "from sdv.single_table import CopulaGANSynthesizer\n",
    "\n",
    "synthesizer5 = CopulaGANSynthesizer(metadata)\n",
    "synthesizer5.fit(data)\n",
    "\n",
    "synthetic_data5 = synthesizer5.sample(num_rows=len(data))"
   ]
  },
  {
   "cell_type": "code",
   "execution_count": 57,
   "id": "facee808",
   "metadata": {},
   "outputs": [
    {
     "name": "stderr",
     "output_type": "stream",
     "text": [
      "Creating report: 100%|██████████| 4/4 [00:02<00:00,  1.74it/s]\n"
     ]
    },
    {
     "name": "stdout",
     "output_type": "stream",
     "text": [
      "\n",
      "Overall Quality Score: 60.77%\n",
      "\n",
      "Properties:\n",
      "Column Shapes: 80.93%\n",
      "Column Pair Trends: 40.62%\n"
     ]
    }
   ],
   "source": [
    "from sdv.evaluation.single_table import evaluate_quality\n",
    "\n",
    "quality_report = evaluate_quality(\n",
    "    real_data=data,\n",
    "    synthetic_data=synthetic_data1,\n",
    "    metadata=metadata)"
   ]
  },
  {
   "cell_type": "code",
   "execution_count": 65,
   "id": "e1b982ba",
   "metadata": {},
   "outputs": [
    {
     "name": "stderr",
     "output_type": "stream",
     "text": [
      "Creating report: 100%|██████████| 4/4 [00:01<00:00,  2.10it/s]\n"
     ]
    },
    {
     "name": "stdout",
     "output_type": "stream",
     "text": [
      "\n",
      "Overall Quality Score: 48.51%\n",
      "\n",
      "Properties:\n",
      "Column Shapes: 69.25%\n",
      "Column Pair Trends: 27.77%\n"
     ]
    }
   ],
   "source": [
    "from sdv.evaluation.single_table import evaluate_quality\n",
    "\n",
    "quality_report = evaluate_quality(\n",
    "    real_data=data,\n",
    "    synthetic_data=synthetic_data2,\n",
    "    metadata=metadata)"
   ]
  },
  {
   "cell_type": "code",
   "execution_count": 66,
   "id": "ab47660c",
   "metadata": {},
   "outputs": [
    {
     "name": "stderr",
     "output_type": "stream",
     "text": [
      "Creating report: 100%|██████████| 4/4 [00:01<00:00,  2.48it/s]\n"
     ]
    },
    {
     "name": "stdout",
     "output_type": "stream",
     "text": [
      "\n",
      "Overall Quality Score: 54.82%\n",
      "\n",
      "Properties:\n",
      "Column Shapes: 74.23%\n",
      "Column Pair Trends: 35.41%\n"
     ]
    }
   ],
   "source": [
    "from sdv.evaluation.single_table import evaluate_quality\n",
    "\n",
    "quality_report = evaluate_quality(\n",
    "    real_data=data,\n",
    "    synthetic_data=synthetic_data3,\n",
    "    metadata=metadata)"
   ]
  },
  {
   "cell_type": "code",
   "execution_count": 67,
   "id": "c5c32595",
   "metadata": {},
   "outputs": [
    {
     "name": "stderr",
     "output_type": "stream",
     "text": [
      "Creating report: 100%|██████████| 4/4 [00:02<00:00,  1.75it/s]\n"
     ]
    },
    {
     "name": "stdout",
     "output_type": "stream",
     "text": [
      "\n",
      "Overall Quality Score: 57.11%\n",
      "\n",
      "Properties:\n",
      "Column Shapes: 69.09%\n",
      "Column Pair Trends: 45.14%\n"
     ]
    }
   ],
   "source": [
    "from sdv.evaluation.single_table import evaluate_quality\n",
    "\n",
    "quality_report = evaluate_quality(\n",
    "    real_data=data,\n",
    "    synthetic_data=synthetic_data4,\n",
    "    metadata=metadata)"
   ]
  },
  {
   "cell_type": "code",
   "execution_count": 68,
   "id": "1514dbfd",
   "metadata": {},
   "outputs": [
    {
     "name": "stderr",
     "output_type": "stream",
     "text": [
      "Creating report: 100%|██████████| 4/4 [00:01<00:00,  2.29it/s]\n"
     ]
    },
    {
     "name": "stdout",
     "output_type": "stream",
     "text": [
      "\n",
      "Overall Quality Score: 51.68%\n",
      "\n",
      "Properties:\n",
      "Column Shapes: 72.11%\n",
      "Column Pair Trends: 31.25%\n"
     ]
    }
   ],
   "source": [
    "from sdv.evaluation.single_table import evaluate_quality\n",
    "\n",
    "quality_report = evaluate_quality(\n",
    "    real_data=data,\n",
    "    synthetic_data=synthetic_data5,\n",
    "    metadata=metadata)"
   ]
  },
  {
   "cell_type": "code",
   "execution_count": null,
   "id": "421391b3",
   "metadata": {},
   "outputs": [],
   "source": [
    "synthesizer1.save('C:/Users/shrus/Documents/Synthetic-data-generation/models/prescription/'+'labevents_best_singletablepreset.pkl')\n"
   ]
  }
 ],
 "metadata": {
  "kernelspec": {
   "display_name": "Python 3 (ipykernel)",
   "language": "python",
   "name": "python3"
  },
  "language_info": {
   "codemirror_mode": {
    "name": "ipython",
    "version": 3
   },
   "file_extension": ".py",
   "mimetype": "text/x-python",
   "name": "python",
   "nbconvert_exporter": "python",
   "pygments_lexer": "ipython3",
   "version": "3.10.9"
  }
 },
 "nbformat": 4,
 "nbformat_minor": 5
}
