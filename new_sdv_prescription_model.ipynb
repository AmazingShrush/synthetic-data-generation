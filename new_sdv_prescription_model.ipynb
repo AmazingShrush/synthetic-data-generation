{
 "cells": [
  {
   "cell_type": "code",
   "execution_count": 70,
   "id": "9b1e75ff",
   "metadata": {},
   "outputs": [],
   "source": [
    "# Ignore warnings\n",
    "import warnings\n",
    "warnings.filterwarnings(\"ignore\")"
   ]
  },
  {
   "cell_type": "code",
   "execution_count": 71,
   "id": "e8b28c1b",
   "metadata": {},
   "outputs": [],
   "source": [
    "import pandas as pd\n",
    "import numpy as np\n",
    "\n",
    "import commonfunc"
   ]
  },
  {
   "cell_type": "code",
   "execution_count": 72,
   "id": "e964b8f5",
   "metadata": {},
   "outputs": [],
   "source": [
    "data_set_path='C:/Users/shrus/Documents/Synthetic-data-generation/'"
   ]
  },
  {
   "cell_type": "code",
   "execution_count": 73,
   "id": "7d808874",
   "metadata": {},
   "outputs": [],
   "source": [
    "prescription_df = commonfunc.read_csv_no_rowid(data_set_path+\"sampled_data_csv_100/prescriptions.csv\")"
   ]
  },
  {
   "cell_type": "code",
   "execution_count": 74,
   "id": "a8576c77",
   "metadata": {},
   "outputs": [],
   "source": [
    "prescription_df=prescription_df.sample(1400)"
   ]
  },
  {
   "cell_type": "code",
   "execution_count": 75,
   "id": "5a25e0e7",
   "metadata": {},
   "outputs": [
    {
     "data": {
      "text/html": [
       "<div>\n",
       "<style scoped>\n",
       "    .dataframe tbody tr th:only-of-type {\n",
       "        vertical-align: middle;\n",
       "    }\n",
       "\n",
       "    .dataframe tbody tr th {\n",
       "        vertical-align: top;\n",
       "    }\n",
       "\n",
       "    .dataframe thead th {\n",
       "        text-align: right;\n",
       "    }\n",
       "</style>\n",
       "<table border=\"1\" class=\"dataframe\">\n",
       "  <thead>\n",
       "    <tr style=\"text-align: right;\">\n",
       "      <th></th>\n",
       "      <th>subject_id</th>\n",
       "      <th>hadm_id</th>\n",
       "      <th>icustay_id</th>\n",
       "      <th>startdate</th>\n",
       "      <th>enddate</th>\n",
       "      <th>drug_type</th>\n",
       "      <th>drug</th>\n",
       "      <th>drug_name_poe</th>\n",
       "      <th>drug_name_generic</th>\n",
       "      <th>formulary_drug_cd</th>\n",
       "      <th>gsn</th>\n",
       "      <th>ndc</th>\n",
       "      <th>prod_strength</th>\n",
       "      <th>dose_val_rx</th>\n",
       "      <th>dose_unit_rx</th>\n",
       "      <th>form_val_disp</th>\n",
       "      <th>form_unit_disp</th>\n",
       "      <th>route</th>\n",
       "    </tr>\n",
       "  </thead>\n",
       "  <tbody>\n",
       "    <tr>\n",
       "      <th>3589</th>\n",
       "      <td>14467</td>\n",
       "      <td>172106</td>\n",
       "      <td>238827.0</td>\n",
       "      <td>2118-08-14</td>\n",
       "      <td>2118-08-24</td>\n",
       "      <td>MAIN</td>\n",
       "      <td>Lansoprazole Oral Suspension</td>\n",
       "      <td>Lansoprazole Oral Suspension</td>\n",
       "      <td>Lansoprazole Oral Suspension</td>\n",
       "      <td>LANS30L</td>\n",
       "      <td>30107.0</td>\n",
       "      <td>3.003046e+08</td>\n",
       "      <td>30mg/10mL Oral Syringe</td>\n",
       "      <td>30</td>\n",
       "      <td>mg</td>\n",
       "      <td>1</td>\n",
       "      <td>SYR</td>\n",
       "      <td>NG</td>\n",
       "    </tr>\n",
       "    <tr>\n",
       "      <th>3148</th>\n",
       "      <td>85781</td>\n",
       "      <td>143870</td>\n",
       "      <td>202174.0</td>\n",
       "      <td>2119-12-09</td>\n",
       "      <td>2119-12-12</td>\n",
       "      <td>MAIN</td>\n",
       "      <td>Oxycodone-Acetaminophen</td>\n",
       "      <td>Oxycodone-Acetaminophen</td>\n",
       "      <td>Oxycodone-Acetaminophen</td>\n",
       "      <td>PERC</td>\n",
       "      <td>4222.0</td>\n",
       "      <td>4.060513e+08</td>\n",
       "      <td>5mg/325mg Tablet</td>\n",
       "      <td>1-2</td>\n",
       "      <td>TAB</td>\n",
       "      <td>1-2</td>\n",
       "      <td>TAB</td>\n",
       "      <td>PO</td>\n",
       "    </tr>\n",
       "    <tr>\n",
       "      <th>3098</th>\n",
       "      <td>76338</td>\n",
       "      <td>130878</td>\n",
       "      <td>260880.0</td>\n",
       "      <td>2152-03-19</td>\n",
       "      <td>2152-03-19</td>\n",
       "      <td>BASE</td>\n",
       "      <td>0.9% Sodium Chloride</td>\n",
       "      <td>NaN</td>\n",
       "      <td>NaN</td>\n",
       "      <td>NS1000</td>\n",
       "      <td>1210.0</td>\n",
       "      <td>3.380049e+08</td>\n",
       "      <td>1000mL Bag</td>\n",
       "      <td>1000</td>\n",
       "      <td>mL</td>\n",
       "      <td>1000</td>\n",
       "      <td>mL</td>\n",
       "      <td>IV</td>\n",
       "    </tr>\n",
       "    <tr>\n",
       "      <th>756</th>\n",
       "      <td>30096</td>\n",
       "      <td>119559</td>\n",
       "      <td>231612.0</td>\n",
       "      <td>2161-08-29</td>\n",
       "      <td>2161-08-30</td>\n",
       "      <td>MAIN</td>\n",
       "      <td>Metoprolol Tartrate</td>\n",
       "      <td>Metoprolol Tartrate</td>\n",
       "      <td>Metoprolol Tartrate</td>\n",
       "      <td>METO5I</td>\n",
       "      <td>19808.0</td>\n",
       "      <td>5.539001e+10</td>\n",
       "      <td>5mg/5mL Vial</td>\n",
       "      <td>5</td>\n",
       "      <td>mg</td>\n",
       "      <td>1</td>\n",
       "      <td>VIAL</td>\n",
       "      <td>IV</td>\n",
       "    </tr>\n",
       "    <tr>\n",
       "      <th>333</th>\n",
       "      <td>21269</td>\n",
       "      <td>109697</td>\n",
       "      <td>241691.0</td>\n",
       "      <td>2162-10-25</td>\n",
       "      <td>2162-10-25</td>\n",
       "      <td>MAIN</td>\n",
       "      <td>Metoprolol</td>\n",
       "      <td>Metoprolol</td>\n",
       "      <td>Metoprolol</td>\n",
       "      <td>METO25</td>\n",
       "      <td>50631.0</td>\n",
       "      <td>5.107903e+10</td>\n",
       "      <td>25mg Tablet</td>\n",
       "      <td>37.5</td>\n",
       "      <td>mg</td>\n",
       "      <td>1.5</td>\n",
       "      <td>TAB</td>\n",
       "      <td>NG</td>\n",
       "    </tr>\n",
       "  </tbody>\n",
       "</table>\n",
       "</div>"
      ],
      "text/plain": [
       "      subject_id  hadm_id  icustay_id   startdate     enddate drug_type  \\\n",
       "3589       14467   172106    238827.0  2118-08-14  2118-08-24      MAIN   \n",
       "3148       85781   143870    202174.0  2119-12-09  2119-12-12      MAIN   \n",
       "3098       76338   130878    260880.0  2152-03-19  2152-03-19      BASE   \n",
       "756        30096   119559    231612.0  2161-08-29  2161-08-30      MAIN   \n",
       "333        21269   109697    241691.0  2162-10-25  2162-10-25      MAIN   \n",
       "\n",
       "                              drug                 drug_name_poe  \\\n",
       "3589  Lansoprazole Oral Suspension  Lansoprazole Oral Suspension   \n",
       "3148       Oxycodone-Acetaminophen       Oxycodone-Acetaminophen   \n",
       "3098          0.9% Sodium Chloride                           NaN   \n",
       "756            Metoprolol Tartrate           Metoprolol Tartrate   \n",
       "333                     Metoprolol                    Metoprolol   \n",
       "\n",
       "                 drug_name_generic formulary_drug_cd      gsn           ndc  \\\n",
       "3589  Lansoprazole Oral Suspension           LANS30L  30107.0  3.003046e+08   \n",
       "3148       Oxycodone-Acetaminophen              PERC   4222.0  4.060513e+08   \n",
       "3098                           NaN            NS1000   1210.0  3.380049e+08   \n",
       "756            Metoprolol Tartrate            METO5I  19808.0  5.539001e+10   \n",
       "333                     Metoprolol            METO25  50631.0  5.107903e+10   \n",
       "\n",
       "               prod_strength dose_val_rx dose_unit_rx form_val_disp  \\\n",
       "3589  30mg/10mL Oral Syringe          30           mg             1   \n",
       "3148        5mg/325mg Tablet         1-2          TAB           1-2   \n",
       "3098              1000mL Bag        1000           mL          1000   \n",
       "756             5mg/5mL Vial           5           mg             1   \n",
       "333              25mg Tablet        37.5           mg           1.5   \n",
       "\n",
       "     form_unit_disp route  \n",
       "3589            SYR    NG  \n",
       "3148            TAB    PO  \n",
       "3098             mL    IV  \n",
       "756            VIAL    IV  \n",
       "333             TAB    NG  "
      ]
     },
     "execution_count": 75,
     "metadata": {},
     "output_type": "execute_result"
    }
   ],
   "source": [
    "prescription_df.head()"
   ]
  },
  {
   "cell_type": "markdown",
   "id": "33d5a3a3",
   "metadata": {},
   "source": [
    "## Data preprocessing"
   ]
  },
  {
   "cell_type": "code",
   "execution_count": 76,
   "id": "1fa2e7b9",
   "metadata": {},
   "outputs": [],
   "source": [
    "#Drop useless columns\n",
    "prescription_df.drop(['subject_id', 'hadm_id', 'icustay_id','gsn','ndc','dose_val_rx','dose_unit_rx','form_val_disp'], axis=1, inplace=True)"
   ]
  },
  {
   "cell_type": "code",
   "execution_count": 77,
   "id": "17fc39b0",
   "metadata": {},
   "outputs": [
    {
     "data": {
      "text/plain": [
       "startdate            object\n",
       "enddate              object\n",
       "drug_type            object\n",
       "drug                 object\n",
       "drug_name_poe        object\n",
       "drug_name_generic    object\n",
       "formulary_drug_cd    object\n",
       "prod_strength        object\n",
       "form_unit_disp       object\n",
       "route                object\n",
       "dtype: object"
      ]
     },
     "execution_count": 77,
     "metadata": {},
     "output_type": "execute_result"
    }
   ],
   "source": [
    "prescription_df.dtypes"
   ]
  },
  {
   "cell_type": "code",
   "execution_count": 78,
   "id": "9f03bb83",
   "metadata": {},
   "outputs": [],
   "source": [
    "prescription_df['startdate'] = pd.to_datetime(prescription_df['startdate'])\n",
    "prescription_df['enddate'] = pd.to_datetime(prescription_df['enddate'])\n"
   ]
  },
  {
   "cell_type": "code",
   "execution_count": 79,
   "id": "74b76a0e",
   "metadata": {},
   "outputs": [
    {
     "data": {
      "text/plain": [
       "startdate              0\n",
       "enddate                0\n",
       "drug_type              0\n",
       "drug                   0\n",
       "drug_name_poe        536\n",
       "drug_name_generic    536\n",
       "formulary_drug_cd      0\n",
       "prod_strength          0\n",
       "form_unit_disp         0\n",
       "route                  0\n",
       "dtype: int64"
      ]
     },
     "execution_count": 79,
     "metadata": {},
     "output_type": "execute_result"
    }
   ],
   "source": [
    "prescription_df.isnull().sum()"
   ]
  },
  {
   "cell_type": "code",
   "execution_count": 80,
   "id": "67fec379",
   "metadata": {},
   "outputs": [],
   "source": [
    "prescription_df.dropna(subset=['enddate'], inplace=True, axis=0)\n"
   ]
  },
  {
   "cell_type": "code",
   "execution_count": 81,
   "id": "8b07d6d3",
   "metadata": {},
   "outputs": [
    {
     "data": {
      "text/plain": [
       "Index(['startdate', 'enddate', 'drug_type', 'drug', 'drug_name_poe',\n",
       "       'drug_name_generic', 'formulary_drug_cd', 'prod_strength',\n",
       "       'form_unit_disp', 'route'],\n",
       "      dtype='object')"
      ]
     },
     "execution_count": 81,
     "metadata": {},
     "output_type": "execute_result"
    }
   ],
   "source": [
    "prescription_df.columns"
   ]
  },
  {
   "cell_type": "markdown",
   "id": "03385b13",
   "metadata": {},
   "source": [
    "# Metadata"
   ]
  },
  {
   "cell_type": "code",
   "execution_count": 43,
   "id": "b2675ea6",
   "metadata": {},
   "outputs": [],
   "source": [
    "from sdv.metadata import SingleTableMetadata\n",
    "\n",
    "metadata = SingleTableMetadata()"
   ]
  },
  {
   "cell_type": "code",
   "execution_count": 44,
   "id": "befccf78",
   "metadata": {},
   "outputs": [],
   "source": [
    "metadata.detect_from_dataframe(data=prescription_df)"
   ]
  },
  {
   "cell_type": "code",
   "execution_count": 45,
   "id": "4df4fb2e",
   "metadata": {},
   "outputs": [
    {
     "data": {
      "text/plain": [
       "{\n",
       "    \"METADATA_SPEC_VERSION\": \"SINGLE_TABLE_V1\",\n",
       "    \"columns\": {\n",
       "        \"startdate\": {\n",
       "            \"sdtype\": \"datetime\"\n",
       "        },\n",
       "        \"enddate\": {\n",
       "            \"sdtype\": \"datetime\"\n",
       "        },\n",
       "        \"drug_type\": {\n",
       "            \"sdtype\": \"categorical\"\n",
       "        },\n",
       "        \"drug\": {\n",
       "            \"sdtype\": \"categorical\"\n",
       "        },\n",
       "        \"drug_name_poe\": {\n",
       "            \"sdtype\": \"categorical\"\n",
       "        },\n",
       "        \"drug_name_generic\": {\n",
       "            \"sdtype\": \"categorical\"\n",
       "        },\n",
       "        \"formulary_drug_cd\": {\n",
       "            \"sdtype\": \"categorical\"\n",
       "        },\n",
       "        \"prod_strength\": {\n",
       "            \"sdtype\": \"categorical\"\n",
       "        },\n",
       "        \"form_unit_disp\": {\n",
       "            \"sdtype\": \"categorical\"\n",
       "        },\n",
       "        \"route\": {\n",
       "            \"sdtype\": \"categorical\"\n",
       "        }\n",
       "    }\n",
       "}"
      ]
     },
     "execution_count": 45,
     "metadata": {},
     "output_type": "execute_result"
    }
   ],
   "source": [
    "metadata"
   ]
  },
  {
   "cell_type": "markdown",
   "id": "d0f1d5e0",
   "metadata": {},
   "source": [
    "## Constraints"
   ]
  },
  {
   "cell_type": "code",
   "execution_count": 53,
   "id": "aa37302f",
   "metadata": {},
   "outputs": [],
   "source": [
    "startdate_enddate_constraint = {\n",
    "    'constraint_class': 'Inequality',\n",
    "    'constraint_parameters': {\n",
    "        'low_column_name': 'startdate',\n",
    "        'high_column_name': 'enddate',\n",
    "        'strict_boundaries': True\n",
    "    }\n",
    "}"
   ]
  },
  {
   "cell_type": "markdown",
   "id": "fa1b650d",
   "metadata": {},
   "source": [
    "## Modelling"
   ]
  },
  {
   "cell_type": "code",
   "execution_count": 54,
   "id": "e754938b",
   "metadata": {},
   "outputs": [],
   "source": [
    "data = prescription_df"
   ]
  },
  {
   "cell_type": "code",
   "execution_count": 56,
   "id": "144db404",
   "metadata": {},
   "outputs": [],
   "source": [
    "from sdv.lite import SingleTablePreset\n",
    "\n",
    "synthesizer1 = SingleTablePreset(metadata, name='FAST_ML')\n",
    "\n",
    "synthesizer1.fit(data)\n",
    "\n",
    "synthetic_data1 = synthesizer1.sample(num_rows=len(data))"
   ]
  },
  {
   "cell_type": "code",
   "execution_count": 61,
   "id": "db556523",
   "metadata": {},
   "outputs": [],
   "source": [
    "from sdv.single_table import GaussianCopulaSynthesizer\n",
    "\n",
    "synthesizer2 = GaussianCopulaSynthesizer(metadata)\n",
    "synthesizer2.fit(data)\n",
    "\n",
    "synthetic_data2 = synthesizer2.sample(num_rows=len(data))"
   ]
  },
  {
   "cell_type": "code",
   "execution_count": 62,
   "id": "29a8d69c",
   "metadata": {},
   "outputs": [],
   "source": [
    "from sdv.single_table import CTGANSynthesizer\n",
    "\n",
    "synthesizer3 = CTGANSynthesizer(metadata)\n",
    "\n",
    "synthesizer3.fit(data)\n",
    "\n",
    "synthetic_data3 = synthesizer3.sample(num_rows=len(data))"
   ]
  },
  {
   "cell_type": "code",
   "execution_count": 63,
   "id": "0ef31114",
   "metadata": {},
   "outputs": [],
   "source": [
    "from sdv.single_table import TVAESynthesizer\n",
    "\n",
    "synthesizer4 = TVAESynthesizer(metadata)\n",
    "synthesizer4.fit(data)\n",
    "\n",
    "synthetic_data4 = synthesizer4.sample(num_rows=len(data))"
   ]
  },
  {
   "cell_type": "code",
   "execution_count": 64,
   "id": "188e5a19",
   "metadata": {},
   "outputs": [],
   "source": [
    "from sdv.single_table import CopulaGANSynthesizer\n",
    "\n",
    "synthesizer5 = CopulaGANSynthesizer(metadata)\n",
    "synthesizer5.fit(data)\n",
    "\n",
    "synthetic_data5 = synthesizer5.sample(num_rows=len(data))"
   ]
  },
  {
   "cell_type": "code",
   "execution_count": 57,
   "id": "d3ef949f",
   "metadata": {},
   "outputs": [
    {
     "name": "stderr",
     "output_type": "stream",
     "text": [
      "Creating report: 100%|██████████| 4/4 [00:02<00:00,  1.74it/s]\n"
     ]
    },
    {
     "name": "stdout",
     "output_type": "stream",
     "text": [
      "\n",
      "Overall Quality Score: 60.77%\n",
      "\n",
      "Properties:\n",
      "Column Shapes: 80.93%\n",
      "Column Pair Trends: 40.62%\n"
     ]
    }
   ],
   "source": [
    "from sdv.evaluation.single_table import evaluate_quality\n",
    "\n",
    "quality_report = evaluate_quality(\n",
    "    real_data=data,\n",
    "    synthetic_data=synthetic_data1,\n",
    "    metadata=metadata)"
   ]
  },
  {
   "cell_type": "code",
   "execution_count": 65,
   "id": "e439af5f",
   "metadata": {},
   "outputs": [
    {
     "name": "stderr",
     "output_type": "stream",
     "text": [
      "Creating report: 100%|██████████| 4/4 [00:01<00:00,  2.10it/s]\n"
     ]
    },
    {
     "name": "stdout",
     "output_type": "stream",
     "text": [
      "\n",
      "Overall Quality Score: 48.51%\n",
      "\n",
      "Properties:\n",
      "Column Shapes: 69.25%\n",
      "Column Pair Trends: 27.77%\n"
     ]
    }
   ],
   "source": [
    "from sdv.evaluation.single_table import evaluate_quality\n",
    "\n",
    "quality_report = evaluate_quality(\n",
    "    real_data=data,\n",
    "    synthetic_data=synthetic_data2,\n",
    "    metadata=metadata)"
   ]
  },
  {
   "cell_type": "code",
   "execution_count": 66,
   "id": "15b14c5f",
   "metadata": {},
   "outputs": [
    {
     "name": "stderr",
     "output_type": "stream",
     "text": [
      "Creating report: 100%|██████████| 4/4 [00:01<00:00,  2.48it/s]\n"
     ]
    },
    {
     "name": "stdout",
     "output_type": "stream",
     "text": [
      "\n",
      "Overall Quality Score: 54.82%\n",
      "\n",
      "Properties:\n",
      "Column Shapes: 74.23%\n",
      "Column Pair Trends: 35.41%\n"
     ]
    }
   ],
   "source": [
    "from sdv.evaluation.single_table import evaluate_quality\n",
    "\n",
    "quality_report = evaluate_quality(\n",
    "    real_data=data,\n",
    "    synthetic_data=synthetic_data3,\n",
    "    metadata=metadata)"
   ]
  },
  {
   "cell_type": "code",
   "execution_count": 67,
   "id": "583c5755",
   "metadata": {},
   "outputs": [
    {
     "name": "stderr",
     "output_type": "stream",
     "text": [
      "Creating report: 100%|██████████| 4/4 [00:02<00:00,  1.75it/s]\n"
     ]
    },
    {
     "name": "stdout",
     "output_type": "stream",
     "text": [
      "\n",
      "Overall Quality Score: 57.11%\n",
      "\n",
      "Properties:\n",
      "Column Shapes: 69.09%\n",
      "Column Pair Trends: 45.14%\n"
     ]
    }
   ],
   "source": [
    "from sdv.evaluation.single_table import evaluate_quality\n",
    "\n",
    "quality_report = evaluate_quality(\n",
    "    real_data=data,\n",
    "    synthetic_data=synthetic_data4,\n",
    "    metadata=metadata)"
   ]
  },
  {
   "cell_type": "code",
   "execution_count": 68,
   "id": "41f1826e",
   "metadata": {},
   "outputs": [
    {
     "name": "stderr",
     "output_type": "stream",
     "text": [
      "Creating report: 100%|██████████| 4/4 [00:01<00:00,  2.29it/s]\n"
     ]
    },
    {
     "name": "stdout",
     "output_type": "stream",
     "text": [
      "\n",
      "Overall Quality Score: 51.68%\n",
      "\n",
      "Properties:\n",
      "Column Shapes: 72.11%\n",
      "Column Pair Trends: 31.25%\n"
     ]
    }
   ],
   "source": [
    "from sdv.evaluation.single_table import evaluate_quality\n",
    "\n",
    "quality_report = evaluate_quality(\n",
    "    real_data=data,\n",
    "    synthetic_data=synthetic_data5,\n",
    "    metadata=metadata)"
   ]
  },
  {
   "cell_type": "code",
   "execution_count": 69,
   "id": "c59eff43",
   "metadata": {},
   "outputs": [],
   "source": [
    "synthesizer1.save('C:/Users/shrus/Documents/Synthetic-data-generation/models/prescription/'+'prescription_best_singletablepreset.pkl')\n"
   ]
  },
  {
   "cell_type": "code",
   "execution_count": null,
   "id": "124901bc",
   "metadata": {},
   "outputs": [],
   "source": []
  }
 ],
 "metadata": {
  "kernelspec": {
   "display_name": "Python 3 (ipykernel)",
   "language": "python",
   "name": "python3"
  },
  "language_info": {
   "codemirror_mode": {
    "name": "ipython",
    "version": 3
   },
   "file_extension": ".py",
   "mimetype": "text/x-python",
   "name": "python",
   "nbconvert_exporter": "python",
   "pygments_lexer": "ipython3",
   "version": "3.10.9"
  }
 },
 "nbformat": 4,
 "nbformat_minor": 5
}
