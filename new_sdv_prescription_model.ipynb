{
 "cells": [
  {
   "cell_type": "code",
   "execution_count": 82,
   "id": "9b1e75ff",
   "metadata": {},
   "outputs": [],
   "source": [
    "# Ignore warnings\n",
    "import warnings\n",
    "warnings.filterwarnings(\"ignore\")"
   ]
  },
  {
   "cell_type": "code",
   "execution_count": 83,
   "id": "e8b28c1b",
   "metadata": {},
   "outputs": [],
   "source": [
    "import pandas as pd\n",
    "import numpy as np\n",
    "\n",
    "import commonfunc"
   ]
  },
  {
   "cell_type": "code",
   "execution_count": 84,
   "id": "e964b8f5",
   "metadata": {},
   "outputs": [],
   "source": [
    "data_set_path='C:/Users/shrus/Documents/Synthetic-data-generation/'"
   ]
  },
  {
   "cell_type": "code",
   "execution_count": 85,
   "id": "7d808874",
   "metadata": {},
   "outputs": [],
   "source": [
    "prescription_df = commonfunc.read_csv_no_rowid(data_set_path+\"sampled_data_csv_100/prescriptions.csv\")"
   ]
  },
  {
   "cell_type": "code",
   "execution_count": 86,
   "id": "a8576c77",
   "metadata": {},
   "outputs": [],
   "source": [
    "prescription_df=prescription_df.sample(1400)"
   ]
  },
  {
   "cell_type": "code",
   "execution_count": 87,
   "id": "5a25e0e7",
   "metadata": {},
   "outputs": [
    {
     "data": {
      "text/html": [
       "<div>\n",
       "<style scoped>\n",
       "    .dataframe tbody tr th:only-of-type {\n",
       "        vertical-align: middle;\n",
       "    }\n",
       "\n",
       "    .dataframe tbody tr th {\n",
       "        vertical-align: top;\n",
       "    }\n",
       "\n",
       "    .dataframe thead th {\n",
       "        text-align: right;\n",
       "    }\n",
       "</style>\n",
       "<table border=\"1\" class=\"dataframe\">\n",
       "  <thead>\n",
       "    <tr style=\"text-align: right;\">\n",
       "      <th></th>\n",
       "      <th>subject_id</th>\n",
       "      <th>hadm_id</th>\n",
       "      <th>icustay_id</th>\n",
       "      <th>startdate</th>\n",
       "      <th>enddate</th>\n",
       "      <th>drug_type</th>\n",
       "      <th>drug</th>\n",
       "      <th>drug_name_poe</th>\n",
       "      <th>drug_name_generic</th>\n",
       "      <th>formulary_drug_cd</th>\n",
       "      <th>gsn</th>\n",
       "      <th>ndc</th>\n",
       "      <th>prod_strength</th>\n",
       "      <th>dose_val_rx</th>\n",
       "      <th>dose_unit_rx</th>\n",
       "      <th>form_val_disp</th>\n",
       "      <th>form_unit_disp</th>\n",
       "      <th>route</th>\n",
       "    </tr>\n",
       "  </thead>\n",
       "  <tbody>\n",
       "    <tr>\n",
       "      <th>8779</th>\n",
       "      <td>17668</td>\n",
       "      <td>151926</td>\n",
       "      <td>257517.0</td>\n",
       "      <td>2188-09-25</td>\n",
       "      <td>2188-09-26</td>\n",
       "      <td>MAIN</td>\n",
       "      <td>Sodium Bicarbonate</td>\n",
       "      <td>NaN</td>\n",
       "      <td>NaN</td>\n",
       "      <td>NABC50I</td>\n",
       "      <td>1185.0</td>\n",
       "      <td>74662502.0</td>\n",
       "      <td>50mEq Vial</td>\n",
       "      <td>300</td>\n",
       "      <td>mEq</td>\n",
       "      <td>6</td>\n",
       "      <td>VIAL</td>\n",
       "      <td>IV</td>\n",
       "    </tr>\n",
       "    <tr>\n",
       "      <th>6930</th>\n",
       "      <td>11003</td>\n",
       "      <td>167847</td>\n",
       "      <td>223836.0</td>\n",
       "      <td>2119-06-13</td>\n",
       "      <td>2119-06-14</td>\n",
       "      <td>BASE</td>\n",
       "      <td>Iso-Osmotic Dextrose</td>\n",
       "      <td>NaN</td>\n",
       "      <td>NaN</td>\n",
       "      <td>FRBD100</td>\n",
       "      <td>NaN</td>\n",
       "      <td>0.0</td>\n",
       "      <td>100ml Bag</td>\n",
       "      <td>100</td>\n",
       "      <td>mL</td>\n",
       "      <td>100</td>\n",
       "      <td>mL</td>\n",
       "      <td>IV</td>\n",
       "    </tr>\n",
       "    <tr>\n",
       "      <th>6632</th>\n",
       "      <td>69093</td>\n",
       "      <td>189496</td>\n",
       "      <td>255781.0</td>\n",
       "      <td>2179-08-22</td>\n",
       "      <td>2179-08-22</td>\n",
       "      <td>BASE</td>\n",
       "      <td>0.9% Sodium Chloride</td>\n",
       "      <td>NaN</td>\n",
       "      <td>NaN</td>\n",
       "      <td>NS250</td>\n",
       "      <td>1210.0</td>\n",
       "      <td>338004902.0</td>\n",
       "      <td>250mL Bag</td>\n",
       "      <td>250</td>\n",
       "      <td>mL</td>\n",
       "      <td>250</td>\n",
       "      <td>mL</td>\n",
       "      <td>IV</td>\n",
       "    </tr>\n",
       "    <tr>\n",
       "      <th>4676</th>\n",
       "      <td>44486</td>\n",
       "      <td>178101</td>\n",
       "      <td>NaN</td>\n",
       "      <td>2137-04-30</td>\n",
       "      <td>2137-04-30</td>\n",
       "      <td>MAIN</td>\n",
       "      <td>PredniSONE</td>\n",
       "      <td>PredniSONE</td>\n",
       "      <td>PredniSONE</td>\n",
       "      <td>PRED20</td>\n",
       "      <td>6751.0</td>\n",
       "      <td>54001820.0</td>\n",
       "      <td>20 mg Tablet</td>\n",
       "      <td>40</td>\n",
       "      <td>mg</td>\n",
       "      <td>2</td>\n",
       "      <td>TAB</td>\n",
       "      <td>PO</td>\n",
       "    </tr>\n",
       "    <tr>\n",
       "      <th>1275</th>\n",
       "      <td>93162</td>\n",
       "      <td>180765</td>\n",
       "      <td>241558.0</td>\n",
       "      <td>2154-03-28</td>\n",
       "      <td>2154-03-29</td>\n",
       "      <td>BASE</td>\n",
       "      <td>Bag</td>\n",
       "      <td>NaN</td>\n",
       "      <td>NaN</td>\n",
       "      <td>BAG50</td>\n",
       "      <td>NaN</td>\n",
       "      <td>0.0</td>\n",
       "      <td>50 mL Bag</td>\n",
       "      <td>100</td>\n",
       "      <td>mL</td>\n",
       "      <td>2</td>\n",
       "      <td>BAG</td>\n",
       "      <td>IV</td>\n",
       "    </tr>\n",
       "  </tbody>\n",
       "</table>\n",
       "</div>"
      ],
      "text/plain": [
       "      subject_id  hadm_id  icustay_id   startdate     enddate drug_type  \\\n",
       "8779       17668   151926    257517.0  2188-09-25  2188-09-26      MAIN   \n",
       "6930       11003   167847    223836.0  2119-06-13  2119-06-14      BASE   \n",
       "6632       69093   189496    255781.0  2179-08-22  2179-08-22      BASE   \n",
       "4676       44486   178101         NaN  2137-04-30  2137-04-30      MAIN   \n",
       "1275       93162   180765    241558.0  2154-03-28  2154-03-29      BASE   \n",
       "\n",
       "                      drug drug_name_poe drug_name_generic formulary_drug_cd  \\\n",
       "8779    Sodium Bicarbonate           NaN               NaN           NABC50I   \n",
       "6930  Iso-Osmotic Dextrose           NaN               NaN           FRBD100   \n",
       "6632  0.9% Sodium Chloride           NaN               NaN             NS250   \n",
       "4676            PredniSONE    PredniSONE        PredniSONE            PRED20   \n",
       "1275                   Bag           NaN               NaN             BAG50   \n",
       "\n",
       "         gsn          ndc prod_strength dose_val_rx dose_unit_rx  \\\n",
       "8779  1185.0   74662502.0    50mEq Vial         300          mEq   \n",
       "6930     NaN          0.0     100ml Bag         100           mL   \n",
       "6632  1210.0  338004902.0     250mL Bag         250           mL   \n",
       "4676  6751.0   54001820.0  20 mg Tablet          40           mg   \n",
       "1275     NaN          0.0     50 mL Bag         100           mL   \n",
       "\n",
       "     form_val_disp form_unit_disp route  \n",
       "8779             6           VIAL    IV  \n",
       "6930           100             mL    IV  \n",
       "6632           250             mL    IV  \n",
       "4676             2            TAB    PO  \n",
       "1275             2            BAG    IV  "
      ]
     },
     "execution_count": 87,
     "metadata": {},
     "output_type": "execute_result"
    }
   ],
   "source": [
    "prescription_df.head()"
   ]
  },
  {
   "cell_type": "markdown",
   "id": "33d5a3a3",
   "metadata": {},
   "source": [
    "## Data preprocessing"
   ]
  },
  {
   "cell_type": "code",
   "execution_count": 88,
   "id": "1fa2e7b9",
   "metadata": {},
   "outputs": [],
   "source": [
    "#Drop useless columns\n",
    "prescription_df.drop(['subject_id', 'hadm_id', 'icustay_id','gsn','ndc','dose_val_rx','dose_unit_rx','form_val_disp'], axis=1, inplace=True)"
   ]
  },
  {
   "cell_type": "code",
   "execution_count": 89,
   "id": "17fc39b0",
   "metadata": {},
   "outputs": [
    {
     "data": {
      "text/plain": [
       "startdate            object\n",
       "enddate              object\n",
       "drug_type            object\n",
       "drug                 object\n",
       "drug_name_poe        object\n",
       "drug_name_generic    object\n",
       "formulary_drug_cd    object\n",
       "prod_strength        object\n",
       "form_unit_disp       object\n",
       "route                object\n",
       "dtype: object"
      ]
     },
     "execution_count": 89,
     "metadata": {},
     "output_type": "execute_result"
    }
   ],
   "source": [
    "prescription_df.dtypes"
   ]
  },
  {
   "cell_type": "code",
   "execution_count": 90,
   "id": "9f03bb83",
   "metadata": {},
   "outputs": [],
   "source": [
    "prescription_df['startdate'] = pd.to_datetime(prescription_df['startdate'])\n",
    "prescription_df['enddate'] = pd.to_datetime(prescription_df['enddate'])\n"
   ]
  },
  {
   "cell_type": "code",
   "execution_count": 91,
   "id": "74b76a0e",
   "metadata": {},
   "outputs": [
    {
     "data": {
      "text/plain": [
       "startdate              0\n",
       "enddate                0\n",
       "drug_type              0\n",
       "drug                   0\n",
       "drug_name_poe        540\n",
       "drug_name_generic    540\n",
       "formulary_drug_cd      0\n",
       "prod_strength          0\n",
       "form_unit_disp         0\n",
       "route                  0\n",
       "dtype: int64"
      ]
     },
     "execution_count": 91,
     "metadata": {},
     "output_type": "execute_result"
    }
   ],
   "source": [
    "prescription_df.isnull().sum()"
   ]
  },
  {
   "cell_type": "code",
   "execution_count": 92,
   "id": "67fec379",
   "metadata": {},
   "outputs": [],
   "source": [
    "prescription_df.dropna(subset=['enddate'], inplace=True, axis=0)\n"
   ]
  },
  {
   "cell_type": "code",
   "execution_count": 93,
   "id": "8b07d6d3",
   "metadata": {},
   "outputs": [
    {
     "data": {
      "text/plain": [
       "Index(['startdate', 'enddate', 'drug_type', 'drug', 'drug_name_poe',\n",
       "       'drug_name_generic', 'formulary_drug_cd', 'prod_strength',\n",
       "       'form_unit_disp', 'route'],\n",
       "      dtype='object')"
      ]
     },
     "execution_count": 93,
     "metadata": {},
     "output_type": "execute_result"
    }
   ],
   "source": [
    "prescription_df.columns"
   ]
  },
  {
   "cell_type": "markdown",
   "id": "03385b13",
   "metadata": {},
   "source": [
    "# Metadata"
   ]
  },
  {
   "cell_type": "code",
   "execution_count": 94,
   "id": "b2675ea6",
   "metadata": {},
   "outputs": [],
   "source": [
    "from sdv.metadata import SingleTableMetadata\n",
    "\n",
    "metadata = SingleTableMetadata()"
   ]
  },
  {
   "cell_type": "code",
   "execution_count": 95,
   "id": "befccf78",
   "metadata": {},
   "outputs": [],
   "source": [
    "metadata.detect_from_dataframe(data=prescription_df)"
   ]
  },
  {
   "cell_type": "code",
   "execution_count": 96,
   "id": "4df4fb2e",
   "metadata": {},
   "outputs": [
    {
     "data": {
      "text/plain": [
       "{\n",
       "    \"METADATA_SPEC_VERSION\": \"SINGLE_TABLE_V1\",\n",
       "    \"columns\": {\n",
       "        \"startdate\": {\n",
       "            \"sdtype\": \"datetime\"\n",
       "        },\n",
       "        \"enddate\": {\n",
       "            \"sdtype\": \"datetime\"\n",
       "        },\n",
       "        \"drug_type\": {\n",
       "            \"sdtype\": \"categorical\"\n",
       "        },\n",
       "        \"drug\": {\n",
       "            \"sdtype\": \"categorical\"\n",
       "        },\n",
       "        \"drug_name_poe\": {\n",
       "            \"sdtype\": \"categorical\"\n",
       "        },\n",
       "        \"drug_name_generic\": {\n",
       "            \"sdtype\": \"categorical\"\n",
       "        },\n",
       "        \"formulary_drug_cd\": {\n",
       "            \"sdtype\": \"categorical\"\n",
       "        },\n",
       "        \"prod_strength\": {\n",
       "            \"sdtype\": \"categorical\"\n",
       "        },\n",
       "        \"form_unit_disp\": {\n",
       "            \"sdtype\": \"categorical\"\n",
       "        },\n",
       "        \"route\": {\n",
       "            \"sdtype\": \"categorical\"\n",
       "        }\n",
       "    }\n",
       "}"
      ]
     },
     "execution_count": 96,
     "metadata": {},
     "output_type": "execute_result"
    }
   ],
   "source": [
    "metadata"
   ]
  },
  {
   "cell_type": "markdown",
   "id": "d0f1d5e0",
   "metadata": {},
   "source": [
    "## Constraints"
   ]
  },
  {
   "cell_type": "code",
   "execution_count": 53,
   "id": "aa37302f",
   "metadata": {},
   "outputs": [],
   "source": [
    "startdate_enddate_constraint = {\n",
    "    'constraint_class': 'Inequality',\n",
    "    'constraint_parameters': {\n",
    "        'low_column_name': 'startdate',\n",
    "        'high_column_name': 'enddate',\n",
    "        'strict_boundaries': True\n",
    "    }\n",
    "}"
   ]
  },
  {
   "cell_type": "markdown",
   "id": "fa1b650d",
   "metadata": {},
   "source": [
    "## Modelling"
   ]
  },
  {
   "cell_type": "code",
   "execution_count": 54,
   "id": "e754938b",
   "metadata": {},
   "outputs": [],
   "source": [
    "data = prescription_df"
   ]
  },
  {
   "cell_type": "code",
   "execution_count": 56,
   "id": "144db404",
   "metadata": {},
   "outputs": [],
   "source": [
    "from sdv.lite import SingleTablePreset\n",
    "\n",
    "synthesizer1 = SingleTablePreset(metadata, name='FAST_ML')\n",
    "\n",
    "synthesizer1.fit(data)\n",
    "\n",
    "synthetic_data1 = synthesizer1.sample(num_rows=len(data))"
   ]
  },
  {
   "cell_type": "code",
   "execution_count": 61,
   "id": "db556523",
   "metadata": {},
   "outputs": [],
   "source": [
    "from sdv.single_table import GaussianCopulaSynthesizer\n",
    "\n",
    "synthesizer2 = GaussianCopulaSynthesizer(metadata)\n",
    "synthesizer2.fit(data)\n",
    "\n",
    "synthetic_data2 = synthesizer2.sample(num_rows=len(data))"
   ]
  },
  {
   "cell_type": "code",
   "execution_count": 62,
   "id": "29a8d69c",
   "metadata": {},
   "outputs": [],
   "source": [
    "from sdv.single_table import CTGANSynthesizer\n",
    "\n",
    "synthesizer3 = CTGANSynthesizer(metadata)\n",
    "\n",
    "synthesizer3.fit(data)\n",
    "\n",
    "synthetic_data3 = synthesizer3.sample(num_rows=len(data))"
   ]
  },
  {
   "cell_type": "code",
   "execution_count": 63,
   "id": "0ef31114",
   "metadata": {},
   "outputs": [],
   "source": [
    "from sdv.single_table import TVAESynthesizer\n",
    "\n",
    "synthesizer4 = TVAESynthesizer(metadata)\n",
    "synthesizer4.fit(data)\n",
    "\n",
    "synthetic_data4 = synthesizer4.sample(num_rows=len(data))"
   ]
  },
  {
   "cell_type": "code",
   "execution_count": 64,
   "id": "188e5a19",
   "metadata": {},
   "outputs": [],
   "source": [
    "from sdv.single_table import CopulaGANSynthesizer\n",
    "\n",
    "synthesizer5 = CopulaGANSynthesizer(metadata)\n",
    "synthesizer5.fit(data)\n",
    "\n",
    "synthetic_data5 = synthesizer5.sample(num_rows=len(data))"
   ]
  },
  {
   "cell_type": "code",
   "execution_count": 57,
   "id": "d3ef949f",
   "metadata": {},
   "outputs": [
    {
     "name": "stderr",
     "output_type": "stream",
     "text": [
      "Creating report: 100%|██████████| 4/4 [00:02<00:00,  1.74it/s]\n"
     ]
    },
    {
     "name": "stdout",
     "output_type": "stream",
     "text": [
      "\n",
      "Overall Quality Score: 60.77%\n",
      "\n",
      "Properties:\n",
      "Column Shapes: 80.93%\n",
      "Column Pair Trends: 40.62%\n"
     ]
    }
   ],
   "source": [
    "from sdv.evaluation.single_table import evaluate_quality\n",
    "\n",
    "quality_report = evaluate_quality(\n",
    "    real_data=data,\n",
    "    synthetic_data=synthetic_data1,\n",
    "    metadata=metadata)"
   ]
  },
  {
   "cell_type": "code",
   "execution_count": 65,
   "id": "e439af5f",
   "metadata": {},
   "outputs": [
    {
     "name": "stderr",
     "output_type": "stream",
     "text": [
      "Creating report: 100%|██████████| 4/4 [00:01<00:00,  2.10it/s]\n"
     ]
    },
    {
     "name": "stdout",
     "output_type": "stream",
     "text": [
      "\n",
      "Overall Quality Score: 48.51%\n",
      "\n",
      "Properties:\n",
      "Column Shapes: 69.25%\n",
      "Column Pair Trends: 27.77%\n"
     ]
    }
   ],
   "source": [
    "from sdv.evaluation.single_table import evaluate_quality\n",
    "\n",
    "quality_report = evaluate_quality(\n",
    "    real_data=data,\n",
    "    synthetic_data=synthetic_data2,\n",
    "    metadata=metadata)"
   ]
  },
  {
   "cell_type": "code",
   "execution_count": 66,
   "id": "15b14c5f",
   "metadata": {},
   "outputs": [
    {
     "name": "stderr",
     "output_type": "stream",
     "text": [
      "Creating report: 100%|██████████| 4/4 [00:01<00:00,  2.48it/s]\n"
     ]
    },
    {
     "name": "stdout",
     "output_type": "stream",
     "text": [
      "\n",
      "Overall Quality Score: 54.82%\n",
      "\n",
      "Properties:\n",
      "Column Shapes: 74.23%\n",
      "Column Pair Trends: 35.41%\n"
     ]
    }
   ],
   "source": [
    "from sdv.evaluation.single_table import evaluate_quality\n",
    "\n",
    "quality_report = evaluate_quality(\n",
    "    real_data=data,\n",
    "    synthetic_data=synthetic_data3,\n",
    "    metadata=metadata)"
   ]
  },
  {
   "cell_type": "code",
   "execution_count": 67,
   "id": "583c5755",
   "metadata": {},
   "outputs": [
    {
     "name": "stderr",
     "output_type": "stream",
     "text": [
      "Creating report: 100%|██████████| 4/4 [00:02<00:00,  1.75it/s]\n"
     ]
    },
    {
     "name": "stdout",
     "output_type": "stream",
     "text": [
      "\n",
      "Overall Quality Score: 57.11%\n",
      "\n",
      "Properties:\n",
      "Column Shapes: 69.09%\n",
      "Column Pair Trends: 45.14%\n"
     ]
    }
   ],
   "source": [
    "from sdv.evaluation.single_table import evaluate_quality\n",
    "\n",
    "quality_report = evaluate_quality(\n",
    "    real_data=data,\n",
    "    synthetic_data=synthetic_data4,\n",
    "    metadata=metadata)"
   ]
  },
  {
   "cell_type": "code",
   "execution_count": 68,
   "id": "41f1826e",
   "metadata": {},
   "outputs": [
    {
     "name": "stderr",
     "output_type": "stream",
     "text": [
      "Creating report: 100%|██████████| 4/4 [00:01<00:00,  2.29it/s]\n"
     ]
    },
    {
     "name": "stdout",
     "output_type": "stream",
     "text": [
      "\n",
      "Overall Quality Score: 51.68%\n",
      "\n",
      "Properties:\n",
      "Column Shapes: 72.11%\n",
      "Column Pair Trends: 31.25%\n"
     ]
    }
   ],
   "source": [
    "from sdv.evaluation.single_table import evaluate_quality\n",
    "\n",
    "quality_report = evaluate_quality(\n",
    "    real_data=data,\n",
    "    synthetic_data=synthetic_data5,\n",
    "    metadata=metadata)"
   ]
  },
  {
   "cell_type": "code",
   "execution_count": 69,
   "id": "c59eff43",
   "metadata": {},
   "outputs": [],
   "source": [
    "synthesizer1.save('C:/Users/shrus/Documents/Synthetic-data-generation/models/prescription/'+'prescription_best_singletablepreset.pkl')\n"
   ]
  },
  {
   "cell_type": "markdown",
   "id": "b24921d1",
   "metadata": {},
   "source": [
    "## Visualization"
   ]
  },
  {
   "cell_type": "code",
   "execution_count": 104,
   "id": "7787252d",
   "metadata": {},
   "outputs": [],
   "source": [
    "from sdv.lite import SingleTablePreset\n",
    "\n",
    "prescription_synthesizer = SingleTablePreset.load(data_set_path+'models/prescription/prescription_best_singletablepreset.pkl')"
   ]
  },
  {
   "cell_type": "code",
   "execution_count": 105,
   "id": "97fd54e4",
   "metadata": {},
   "outputs": [],
   "source": [
    "data=prescription_df"
   ]
  },
  {
   "cell_type": "code",
   "execution_count": 106,
   "id": "f58434bf",
   "metadata": {},
   "outputs": [],
   "source": [
    "syn_data=prescription_synthesizer.sample(len(data))"
   ]
  },
  {
   "cell_type": "code",
   "execution_count": 107,
   "id": "44e87507",
   "metadata": {},
   "outputs": [
    {
     "name": "stderr",
     "output_type": "stream",
     "text": [
      "Creating report: 100%|██████████| 4/4 [00:11<00:00,  2.92s/it]"
     ]
    },
    {
     "name": "stdout",
     "output_type": "stream",
     "text": [
      "\n",
      "DiagnosticResults:\n",
      "\n",
      "SUCCESS:\n",
      "✓ The synthetic data covers over 90% of the numerical ranges present in the real data\n",
      "✓ Over 90% of the synthetic rows are not copies of the real data\n",
      "\n",
      "WARNING:\n",
      "! The synthetic data is missing more than 10% of the categories present in the real data\n",
      "! More than 10% the synthetic data does not follow the min/max boundaries set by the real data\n"
     ]
    },
    {
     "name": "stderr",
     "output_type": "stream",
     "text": [
      "\n"
     ]
    }
   ],
   "source": [
    "from sdmetrics.reports.single_table import DiagnosticReport\n",
    "\n",
    "diag_report = DiagnosticReport()\n",
    "\n",
    "diag_report.generate(data, syn_data, metadata)\n"
   ]
  },
  {
   "cell_type": "code",
   "execution_count": 108,
   "id": "8e4de12d",
   "metadata": {},
   "outputs": [
    {
     "data": {
      "text/plain": [
       "{'Coverage': 0.7179683752690604,\n",
       " 'Synthesis': 1.0,\n",
       " 'Boundaries': 0.8985714285714286}"
      ]
     },
     "execution_count": 108,
     "metadata": {},
     "output_type": "execute_result"
    }
   ],
   "source": [
    "diag_report.get_properties()"
   ]
  },
  {
   "cell_type": "code",
   "execution_count": 109,
   "id": "6a05ca02",
   "metadata": {},
   "outputs": [
    {
     "name": "stderr",
     "output_type": "stream",
     "text": [
      "Creating report: 100%|██████████| 4/4 [00:06<00:00,  1.65s/it]\n"
     ]
    },
    {
     "name": "stdout",
     "output_type": "stream",
     "text": [
      "\n",
      "Overall Quality Score: 56.42%\n",
      "\n",
      "Properties:\n",
      "Column Shapes: 75.09%\n",
      "Column Pair Trends: 37.74%\n"
     ]
    }
   ],
   "source": [
    "from sdv.evaluation.single_table import evaluate_quality\n",
    "\n",
    "quality_report = evaluate_quality(\n",
    "    real_data=data,\n",
    "    synthetic_data=syn_data,\n",
    "    metadata=metadata)"
   ]
  },
  {
   "cell_type": "code",
   "execution_count": 110,
   "id": "b1337b28",
   "metadata": {},
   "outputs": [
    {
     "data": {
      "application/vnd.plotly.v1+json": {
       "config": {
        "plotlyServerURL": "https://plot.ly"
       },
       "data": [
        {
         "alignmentgroup": "True",
         "customdata": [
          [
           "KSComplement"
          ],
          [
           "KSComplement"
          ]
         ],
         "hovertemplate": "<b>%{hovertext}</b><br><br>Metric=%{customdata[0]}<br>Quality Score=%{y}<extra></extra>",
         "hovertext": [
          "startdate",
          "enddate"
         ],
         "legendgroup": "KSComplement",
         "marker": {
          "color": "#000036",
          "pattern": {
           "shape": ""
          }
         },
         "name": "KSComplement",
         "offsetgroup": "KSComplement",
         "orientation": "v",
         "showlegend": true,
         "textposition": "auto",
         "type": "bar",
         "x": [
          "startdate",
          "enddate"
         ],
         "xaxis": "x",
         "y": [
          0.8407142857142857,
          0.8407142857142857
         ],
         "yaxis": "y"
        },
        {
         "alignmentgroup": "True",
         "customdata": [
          [
           "TVComplement"
          ],
          [
           "TVComplement"
          ],
          [
           "TVComplement"
          ],
          [
           "TVComplement"
          ],
          [
           "TVComplement"
          ],
          [
           "TVComplement"
          ],
          [
           "TVComplement"
          ],
          [
           "TVComplement"
          ]
         ],
         "hovertemplate": "<b>%{hovertext}</b><br><br>Metric=%{customdata[0]}<br>Quality Score=%{y}<extra></extra>",
         "hovertext": [
          "drug_type",
          "drug",
          "drug_name_poe",
          "drug_name_generic",
          "formulary_drug_cd",
          "prod_strength",
          "form_unit_disp",
          "route"
         ],
         "legendgroup": "TVComplement",
         "marker": {
          "color": "#03AFF1",
          "pattern": {
           "shape": "/"
          }
         },
         "name": "TVComplement",
         "offsetgroup": "TVComplement",
         "orientation": "v",
         "showlegend": true,
         "textposition": "auto",
         "type": "bar",
         "x": [
          "drug_type",
          "drug",
          "drug_name_poe",
          "drug_name_generic",
          "formulary_drug_cd",
          "prod_strength",
          "form_unit_disp",
          "route"
         ],
         "xaxis": "x",
         "y": [
          0.87,
          0.6700000179571427,
          0.6637660366633276,
          0.6385434307327602,
          0.5942857427066324,
          0.6292857401020422,
          0.8685714293591837,
          0.8935714296081633
         ],
         "yaxis": "y"
        }
       ],
       "layout": {
        "barmode": "relative",
        "legend": {
         "title": {
          "text": "Metric"
         },
         "tracegroupgap": 0
        },
        "margin": {
         "t": 150
        },
        "plot_bgcolor": "#F5F5F8",
        "template": {
         "data": {
          "bar": [
           {
            "error_x": {
             "color": "#2a3f5f"
            },
            "error_y": {
             "color": "#2a3f5f"
            },
            "marker": {
             "line": {
              "color": "#E5ECF6",
              "width": 0.5
             },
             "pattern": {
              "fillmode": "overlay",
              "size": 10,
              "solidity": 0.2
             }
            },
            "type": "bar"
           }
          ],
          "barpolar": [
           {
            "marker": {
             "line": {
              "color": "#E5ECF6",
              "width": 0.5
             },
             "pattern": {
              "fillmode": "overlay",
              "size": 10,
              "solidity": 0.2
             }
            },
            "type": "barpolar"
           }
          ],
          "carpet": [
           {
            "aaxis": {
             "endlinecolor": "#2a3f5f",
             "gridcolor": "white",
             "linecolor": "white",
             "minorgridcolor": "white",
             "startlinecolor": "#2a3f5f"
            },
            "baxis": {
             "endlinecolor": "#2a3f5f",
             "gridcolor": "white",
             "linecolor": "white",
             "minorgridcolor": "white",
             "startlinecolor": "#2a3f5f"
            },
            "type": "carpet"
           }
          ],
          "choropleth": [
           {
            "colorbar": {
             "outlinewidth": 0,
             "ticks": ""
            },
            "type": "choropleth"
           }
          ],
          "contour": [
           {
            "colorbar": {
             "outlinewidth": 0,
             "ticks": ""
            },
            "colorscale": [
             [
              0,
              "#0d0887"
             ],
             [
              0.1111111111111111,
              "#46039f"
             ],
             [
              0.2222222222222222,
              "#7201a8"
             ],
             [
              0.3333333333333333,
              "#9c179e"
             ],
             [
              0.4444444444444444,
              "#bd3786"
             ],
             [
              0.5555555555555556,
              "#d8576b"
             ],
             [
              0.6666666666666666,
              "#ed7953"
             ],
             [
              0.7777777777777778,
              "#fb9f3a"
             ],
             [
              0.8888888888888888,
              "#fdca26"
             ],
             [
              1,
              "#f0f921"
             ]
            ],
            "type": "contour"
           }
          ],
          "contourcarpet": [
           {
            "colorbar": {
             "outlinewidth": 0,
             "ticks": ""
            },
            "type": "contourcarpet"
           }
          ],
          "heatmap": [
           {
            "colorbar": {
             "outlinewidth": 0,
             "ticks": ""
            },
            "colorscale": [
             [
              0,
              "#0d0887"
             ],
             [
              0.1111111111111111,
              "#46039f"
             ],
             [
              0.2222222222222222,
              "#7201a8"
             ],
             [
              0.3333333333333333,
              "#9c179e"
             ],
             [
              0.4444444444444444,
              "#bd3786"
             ],
             [
              0.5555555555555556,
              "#d8576b"
             ],
             [
              0.6666666666666666,
              "#ed7953"
             ],
             [
              0.7777777777777778,
              "#fb9f3a"
             ],
             [
              0.8888888888888888,
              "#fdca26"
             ],
             [
              1,
              "#f0f921"
             ]
            ],
            "type": "heatmap"
           }
          ],
          "heatmapgl": [
           {
            "colorbar": {
             "outlinewidth": 0,
             "ticks": ""
            },
            "colorscale": [
             [
              0,
              "#0d0887"
             ],
             [
              0.1111111111111111,
              "#46039f"
             ],
             [
              0.2222222222222222,
              "#7201a8"
             ],
             [
              0.3333333333333333,
              "#9c179e"
             ],
             [
              0.4444444444444444,
              "#bd3786"
             ],
             [
              0.5555555555555556,
              "#d8576b"
             ],
             [
              0.6666666666666666,
              "#ed7953"
             ],
             [
              0.7777777777777778,
              "#fb9f3a"
             ],
             [
              0.8888888888888888,
              "#fdca26"
             ],
             [
              1,
              "#f0f921"
             ]
            ],
            "type": "heatmapgl"
           }
          ],
          "histogram": [
           {
            "marker": {
             "pattern": {
              "fillmode": "overlay",
              "size": 10,
              "solidity": 0.2
             }
            },
            "type": "histogram"
           }
          ],
          "histogram2d": [
           {
            "colorbar": {
             "outlinewidth": 0,
             "ticks": ""
            },
            "colorscale": [
             [
              0,
              "#0d0887"
             ],
             [
              0.1111111111111111,
              "#46039f"
             ],
             [
              0.2222222222222222,
              "#7201a8"
             ],
             [
              0.3333333333333333,
              "#9c179e"
             ],
             [
              0.4444444444444444,
              "#bd3786"
             ],
             [
              0.5555555555555556,
              "#d8576b"
             ],
             [
              0.6666666666666666,
              "#ed7953"
             ],
             [
              0.7777777777777778,
              "#fb9f3a"
             ],
             [
              0.8888888888888888,
              "#fdca26"
             ],
             [
              1,
              "#f0f921"
             ]
            ],
            "type": "histogram2d"
           }
          ],
          "histogram2dcontour": [
           {
            "colorbar": {
             "outlinewidth": 0,
             "ticks": ""
            },
            "colorscale": [
             [
              0,
              "#0d0887"
             ],
             [
              0.1111111111111111,
              "#46039f"
             ],
             [
              0.2222222222222222,
              "#7201a8"
             ],
             [
              0.3333333333333333,
              "#9c179e"
             ],
             [
              0.4444444444444444,
              "#bd3786"
             ],
             [
              0.5555555555555556,
              "#d8576b"
             ],
             [
              0.6666666666666666,
              "#ed7953"
             ],
             [
              0.7777777777777778,
              "#fb9f3a"
             ],
             [
              0.8888888888888888,
              "#fdca26"
             ],
             [
              1,
              "#f0f921"
             ]
            ],
            "type": "histogram2dcontour"
           }
          ],
          "mesh3d": [
           {
            "colorbar": {
             "outlinewidth": 0,
             "ticks": ""
            },
            "type": "mesh3d"
           }
          ],
          "parcoords": [
           {
            "line": {
             "colorbar": {
              "outlinewidth": 0,
              "ticks": ""
             }
            },
            "type": "parcoords"
           }
          ],
          "pie": [
           {
            "automargin": true,
            "type": "pie"
           }
          ],
          "scatter": [
           {
            "fillpattern": {
             "fillmode": "overlay",
             "size": 10,
             "solidity": 0.2
            },
            "type": "scatter"
           }
          ],
          "scatter3d": [
           {
            "line": {
             "colorbar": {
              "outlinewidth": 0,
              "ticks": ""
             }
            },
            "marker": {
             "colorbar": {
              "outlinewidth": 0,
              "ticks": ""
             }
            },
            "type": "scatter3d"
           }
          ],
          "scattercarpet": [
           {
            "marker": {
             "colorbar": {
              "outlinewidth": 0,
              "ticks": ""
             }
            },
            "type": "scattercarpet"
           }
          ],
          "scattergeo": [
           {
            "marker": {
             "colorbar": {
              "outlinewidth": 0,
              "ticks": ""
             }
            },
            "type": "scattergeo"
           }
          ],
          "scattergl": [
           {
            "marker": {
             "colorbar": {
              "outlinewidth": 0,
              "ticks": ""
             }
            },
            "type": "scattergl"
           }
          ],
          "scattermapbox": [
           {
            "marker": {
             "colorbar": {
              "outlinewidth": 0,
              "ticks": ""
             }
            },
            "type": "scattermapbox"
           }
          ],
          "scatterpolar": [
           {
            "marker": {
             "colorbar": {
              "outlinewidth": 0,
              "ticks": ""
             }
            },
            "type": "scatterpolar"
           }
          ],
          "scatterpolargl": [
           {
            "marker": {
             "colorbar": {
              "outlinewidth": 0,
              "ticks": ""
             }
            },
            "type": "scatterpolargl"
           }
          ],
          "scatterternary": [
           {
            "marker": {
             "colorbar": {
              "outlinewidth": 0,
              "ticks": ""
             }
            },
            "type": "scatterternary"
           }
          ],
          "surface": [
           {
            "colorbar": {
             "outlinewidth": 0,
             "ticks": ""
            },
            "colorscale": [
             [
              0,
              "#0d0887"
             ],
             [
              0.1111111111111111,
              "#46039f"
             ],
             [
              0.2222222222222222,
              "#7201a8"
             ],
             [
              0.3333333333333333,
              "#9c179e"
             ],
             [
              0.4444444444444444,
              "#bd3786"
             ],
             [
              0.5555555555555556,
              "#d8576b"
             ],
             [
              0.6666666666666666,
              "#ed7953"
             ],
             [
              0.7777777777777778,
              "#fb9f3a"
             ],
             [
              0.8888888888888888,
              "#fdca26"
             ],
             [
              1,
              "#f0f921"
             ]
            ],
            "type": "surface"
           }
          ],
          "table": [
           {
            "cells": {
             "fill": {
              "color": "#EBF0F8"
             },
             "line": {
              "color": "white"
             }
            },
            "header": {
             "fill": {
              "color": "#C8D4E3"
             },
             "line": {
              "color": "white"
             }
            },
            "type": "table"
           }
          ]
         },
         "layout": {
          "annotationdefaults": {
           "arrowcolor": "#2a3f5f",
           "arrowhead": 0,
           "arrowwidth": 1
          },
          "autotypenumbers": "strict",
          "coloraxis": {
           "colorbar": {
            "outlinewidth": 0,
            "ticks": ""
           }
          },
          "colorscale": {
           "diverging": [
            [
             0,
             "#8e0152"
            ],
            [
             0.1,
             "#c51b7d"
            ],
            [
             0.2,
             "#de77ae"
            ],
            [
             0.3,
             "#f1b6da"
            ],
            [
             0.4,
             "#fde0ef"
            ],
            [
             0.5,
             "#f7f7f7"
            ],
            [
             0.6,
             "#e6f5d0"
            ],
            [
             0.7,
             "#b8e186"
            ],
            [
             0.8,
             "#7fbc41"
            ],
            [
             0.9,
             "#4d9221"
            ],
            [
             1,
             "#276419"
            ]
           ],
           "sequential": [
            [
             0,
             "#0d0887"
            ],
            [
             0.1111111111111111,
             "#46039f"
            ],
            [
             0.2222222222222222,
             "#7201a8"
            ],
            [
             0.3333333333333333,
             "#9c179e"
            ],
            [
             0.4444444444444444,
             "#bd3786"
            ],
            [
             0.5555555555555556,
             "#d8576b"
            ],
            [
             0.6666666666666666,
             "#ed7953"
            ],
            [
             0.7777777777777778,
             "#fb9f3a"
            ],
            [
             0.8888888888888888,
             "#fdca26"
            ],
            [
             1,
             "#f0f921"
            ]
           ],
           "sequentialminus": [
            [
             0,
             "#0d0887"
            ],
            [
             0.1111111111111111,
             "#46039f"
            ],
            [
             0.2222222222222222,
             "#7201a8"
            ],
            [
             0.3333333333333333,
             "#9c179e"
            ],
            [
             0.4444444444444444,
             "#bd3786"
            ],
            [
             0.5555555555555556,
             "#d8576b"
            ],
            [
             0.6666666666666666,
             "#ed7953"
            ],
            [
             0.7777777777777778,
             "#fb9f3a"
            ],
            [
             0.8888888888888888,
             "#fdca26"
            ],
            [
             1,
             "#f0f921"
            ]
           ]
          },
          "colorway": [
           "#636efa",
           "#EF553B",
           "#00cc96",
           "#ab63fa",
           "#FFA15A",
           "#19d3f3",
           "#FF6692",
           "#B6E880",
           "#FF97FF",
           "#FECB52"
          ],
          "font": {
           "color": "#2a3f5f"
          },
          "geo": {
           "bgcolor": "white",
           "lakecolor": "white",
           "landcolor": "#E5ECF6",
           "showlakes": true,
           "showland": true,
           "subunitcolor": "white"
          },
          "hoverlabel": {
           "align": "left"
          },
          "hovermode": "closest",
          "mapbox": {
           "style": "light"
          },
          "paper_bgcolor": "white",
          "plot_bgcolor": "#E5ECF6",
          "polar": {
           "angularaxis": {
            "gridcolor": "white",
            "linecolor": "white",
            "ticks": ""
           },
           "bgcolor": "#E5ECF6",
           "radialaxis": {
            "gridcolor": "white",
            "linecolor": "white",
            "ticks": ""
           }
          },
          "scene": {
           "xaxis": {
            "backgroundcolor": "#E5ECF6",
            "gridcolor": "white",
            "gridwidth": 2,
            "linecolor": "white",
            "showbackground": true,
            "ticks": "",
            "zerolinecolor": "white"
           },
           "yaxis": {
            "backgroundcolor": "#E5ECF6",
            "gridcolor": "white",
            "gridwidth": 2,
            "linecolor": "white",
            "showbackground": true,
            "ticks": "",
            "zerolinecolor": "white"
           },
           "zaxis": {
            "backgroundcolor": "#E5ECF6",
            "gridcolor": "white",
            "gridwidth": 2,
            "linecolor": "white",
            "showbackground": true,
            "ticks": "",
            "zerolinecolor": "white"
           }
          },
          "shapedefaults": {
           "line": {
            "color": "#2a3f5f"
           }
          },
          "ternary": {
           "aaxis": {
            "gridcolor": "white",
            "linecolor": "white",
            "ticks": ""
           },
           "baxis": {
            "gridcolor": "white",
            "linecolor": "white",
            "ticks": ""
           },
           "bgcolor": "#E5ECF6",
           "caxis": {
            "gridcolor": "white",
            "linecolor": "white",
            "ticks": ""
           }
          },
          "title": {
           "x": 0.05
          },
          "xaxis": {
           "automargin": true,
           "gridcolor": "white",
           "linecolor": "white",
           "ticks": "",
           "title": {
            "standoff": 15
           },
           "zerolinecolor": "white",
           "zerolinewidth": 2
          },
          "yaxis": {
           "automargin": true,
           "gridcolor": "white",
           "linecolor": "white",
           "ticks": "",
           "title": {
            "standoff": 15
           },
           "zerolinecolor": "white",
           "zerolinewidth": 2
          }
         }
        },
        "title": {
         "text": "Data Quality: Column Shapes (Average Score=0.75)"
        },
        "xaxis": {
         "anchor": "y",
         "categoryorder": "total ascending",
         "domain": [
          0,
          1
         ],
         "title": {
          "text": "Column Name"
         }
        },
        "yaxis": {
         "anchor": "x",
         "domain": [
          0,
          1
         ],
         "range": [
          0,
          1
         ],
         "title": {
          "text": "Quality Score"
         }
        }
       }
      },
      "text/html": [
       "<div>                            <div id=\"68fa892b-0e19-41d3-935a-a0cd3f74334b\" class=\"plotly-graph-div\" style=\"height:525px; width:100%;\"></div>            <script type=\"text/javascript\">                require([\"plotly\"], function(Plotly) {                    window.PLOTLYENV=window.PLOTLYENV || {};                                    if (document.getElementById(\"68fa892b-0e19-41d3-935a-a0cd3f74334b\")) {                    Plotly.newPlot(                        \"68fa892b-0e19-41d3-935a-a0cd3f74334b\",                        [{\"alignmentgroup\":\"True\",\"customdata\":[[\"KSComplement\"],[\"KSComplement\"]],\"hovertemplate\":\"\\u003cb\\u003e%{hovertext}\\u003c\\u002fb\\u003e\\u003cbr\\u003e\\u003cbr\\u003eMetric=%{customdata[0]}\\u003cbr\\u003eQuality Score=%{y}\\u003cextra\\u003e\\u003c\\u002fextra\\u003e\",\"hovertext\":[\"startdate\",\"enddate\"],\"legendgroup\":\"KSComplement\",\"marker\":{\"color\":\"#000036\",\"pattern\":{\"shape\":\"\"}},\"name\":\"KSComplement\",\"offsetgroup\":\"KSComplement\",\"orientation\":\"v\",\"showlegend\":true,\"textposition\":\"auto\",\"x\":[\"startdate\",\"enddate\"],\"xaxis\":\"x\",\"y\":[0.8407142857142857,0.8407142857142857],\"yaxis\":\"y\",\"type\":\"bar\"},{\"alignmentgroup\":\"True\",\"customdata\":[[\"TVComplement\"],[\"TVComplement\"],[\"TVComplement\"],[\"TVComplement\"],[\"TVComplement\"],[\"TVComplement\"],[\"TVComplement\"],[\"TVComplement\"]],\"hovertemplate\":\"\\u003cb\\u003e%{hovertext}\\u003c\\u002fb\\u003e\\u003cbr\\u003e\\u003cbr\\u003eMetric=%{customdata[0]}\\u003cbr\\u003eQuality Score=%{y}\\u003cextra\\u003e\\u003c\\u002fextra\\u003e\",\"hovertext\":[\"drug_type\",\"drug\",\"drug_name_poe\",\"drug_name_generic\",\"formulary_drug_cd\",\"prod_strength\",\"form_unit_disp\",\"route\"],\"legendgroup\":\"TVComplement\",\"marker\":{\"color\":\"#03AFF1\",\"pattern\":{\"shape\":\"\\u002f\"}},\"name\":\"TVComplement\",\"offsetgroup\":\"TVComplement\",\"orientation\":\"v\",\"showlegend\":true,\"textposition\":\"auto\",\"x\":[\"drug_type\",\"drug\",\"drug_name_poe\",\"drug_name_generic\",\"formulary_drug_cd\",\"prod_strength\",\"form_unit_disp\",\"route\"],\"xaxis\":\"x\",\"y\":[0.87,0.6700000179571427,0.6637660366633276,0.6385434307327602,0.5942857427066324,0.6292857401020422,0.8685714293591837,0.8935714296081633],\"yaxis\":\"y\",\"type\":\"bar\"}],                        {\"template\":{\"data\":{\"histogram2dcontour\":[{\"type\":\"histogram2dcontour\",\"colorbar\":{\"outlinewidth\":0,\"ticks\":\"\"},\"colorscale\":[[0.0,\"#0d0887\"],[0.1111111111111111,\"#46039f\"],[0.2222222222222222,\"#7201a8\"],[0.3333333333333333,\"#9c179e\"],[0.4444444444444444,\"#bd3786\"],[0.5555555555555556,\"#d8576b\"],[0.6666666666666666,\"#ed7953\"],[0.7777777777777778,\"#fb9f3a\"],[0.8888888888888888,\"#fdca26\"],[1.0,\"#f0f921\"]]}],\"choropleth\":[{\"type\":\"choropleth\",\"colorbar\":{\"outlinewidth\":0,\"ticks\":\"\"}}],\"histogram2d\":[{\"type\":\"histogram2d\",\"colorbar\":{\"outlinewidth\":0,\"ticks\":\"\"},\"colorscale\":[[0.0,\"#0d0887\"],[0.1111111111111111,\"#46039f\"],[0.2222222222222222,\"#7201a8\"],[0.3333333333333333,\"#9c179e\"],[0.4444444444444444,\"#bd3786\"],[0.5555555555555556,\"#d8576b\"],[0.6666666666666666,\"#ed7953\"],[0.7777777777777778,\"#fb9f3a\"],[0.8888888888888888,\"#fdca26\"],[1.0,\"#f0f921\"]]}],\"heatmap\":[{\"type\":\"heatmap\",\"colorbar\":{\"outlinewidth\":0,\"ticks\":\"\"},\"colorscale\":[[0.0,\"#0d0887\"],[0.1111111111111111,\"#46039f\"],[0.2222222222222222,\"#7201a8\"],[0.3333333333333333,\"#9c179e\"],[0.4444444444444444,\"#bd3786\"],[0.5555555555555556,\"#d8576b\"],[0.6666666666666666,\"#ed7953\"],[0.7777777777777778,\"#fb9f3a\"],[0.8888888888888888,\"#fdca26\"],[1.0,\"#f0f921\"]]}],\"heatmapgl\":[{\"type\":\"heatmapgl\",\"colorbar\":{\"outlinewidth\":0,\"ticks\":\"\"},\"colorscale\":[[0.0,\"#0d0887\"],[0.1111111111111111,\"#46039f\"],[0.2222222222222222,\"#7201a8\"],[0.3333333333333333,\"#9c179e\"],[0.4444444444444444,\"#bd3786\"],[0.5555555555555556,\"#d8576b\"],[0.6666666666666666,\"#ed7953\"],[0.7777777777777778,\"#fb9f3a\"],[0.8888888888888888,\"#fdca26\"],[1.0,\"#f0f921\"]]}],\"contourcarpet\":[{\"type\":\"contourcarpet\",\"colorbar\":{\"outlinewidth\":0,\"ticks\":\"\"}}],\"contour\":[{\"type\":\"contour\",\"colorbar\":{\"outlinewidth\":0,\"ticks\":\"\"},\"colorscale\":[[0.0,\"#0d0887\"],[0.1111111111111111,\"#46039f\"],[0.2222222222222222,\"#7201a8\"],[0.3333333333333333,\"#9c179e\"],[0.4444444444444444,\"#bd3786\"],[0.5555555555555556,\"#d8576b\"],[0.6666666666666666,\"#ed7953\"],[0.7777777777777778,\"#fb9f3a\"],[0.8888888888888888,\"#fdca26\"],[1.0,\"#f0f921\"]]}],\"surface\":[{\"type\":\"surface\",\"colorbar\":{\"outlinewidth\":0,\"ticks\":\"\"},\"colorscale\":[[0.0,\"#0d0887\"],[0.1111111111111111,\"#46039f\"],[0.2222222222222222,\"#7201a8\"],[0.3333333333333333,\"#9c179e\"],[0.4444444444444444,\"#bd3786\"],[0.5555555555555556,\"#d8576b\"],[0.6666666666666666,\"#ed7953\"],[0.7777777777777778,\"#fb9f3a\"],[0.8888888888888888,\"#fdca26\"],[1.0,\"#f0f921\"]]}],\"mesh3d\":[{\"type\":\"mesh3d\",\"colorbar\":{\"outlinewidth\":0,\"ticks\":\"\"}}],\"scatter\":[{\"fillpattern\":{\"fillmode\":\"overlay\",\"size\":10,\"solidity\":0.2},\"type\":\"scatter\"}],\"parcoords\":[{\"type\":\"parcoords\",\"line\":{\"colorbar\":{\"outlinewidth\":0,\"ticks\":\"\"}}}],\"scatterpolargl\":[{\"type\":\"scatterpolargl\",\"marker\":{\"colorbar\":{\"outlinewidth\":0,\"ticks\":\"\"}}}],\"bar\":[{\"error_x\":{\"color\":\"#2a3f5f\"},\"error_y\":{\"color\":\"#2a3f5f\"},\"marker\":{\"line\":{\"color\":\"#E5ECF6\",\"width\":0.5},\"pattern\":{\"fillmode\":\"overlay\",\"size\":10,\"solidity\":0.2}},\"type\":\"bar\"}],\"scattergeo\":[{\"type\":\"scattergeo\",\"marker\":{\"colorbar\":{\"outlinewidth\":0,\"ticks\":\"\"}}}],\"scatterpolar\":[{\"type\":\"scatterpolar\",\"marker\":{\"colorbar\":{\"outlinewidth\":0,\"ticks\":\"\"}}}],\"histogram\":[{\"marker\":{\"pattern\":{\"fillmode\":\"overlay\",\"size\":10,\"solidity\":0.2}},\"type\":\"histogram\"}],\"scattergl\":[{\"type\":\"scattergl\",\"marker\":{\"colorbar\":{\"outlinewidth\":0,\"ticks\":\"\"}}}],\"scatter3d\":[{\"type\":\"scatter3d\",\"line\":{\"colorbar\":{\"outlinewidth\":0,\"ticks\":\"\"}},\"marker\":{\"colorbar\":{\"outlinewidth\":0,\"ticks\":\"\"}}}],\"scattermapbox\":[{\"type\":\"scattermapbox\",\"marker\":{\"colorbar\":{\"outlinewidth\":0,\"ticks\":\"\"}}}],\"scatterternary\":[{\"type\":\"scatterternary\",\"marker\":{\"colorbar\":{\"outlinewidth\":0,\"ticks\":\"\"}}}],\"scattercarpet\":[{\"type\":\"scattercarpet\",\"marker\":{\"colorbar\":{\"outlinewidth\":0,\"ticks\":\"\"}}}],\"carpet\":[{\"aaxis\":{\"endlinecolor\":\"#2a3f5f\",\"gridcolor\":\"white\",\"linecolor\":\"white\",\"minorgridcolor\":\"white\",\"startlinecolor\":\"#2a3f5f\"},\"baxis\":{\"endlinecolor\":\"#2a3f5f\",\"gridcolor\":\"white\",\"linecolor\":\"white\",\"minorgridcolor\":\"white\",\"startlinecolor\":\"#2a3f5f\"},\"type\":\"carpet\"}],\"table\":[{\"cells\":{\"fill\":{\"color\":\"#EBF0F8\"},\"line\":{\"color\":\"white\"}},\"header\":{\"fill\":{\"color\":\"#C8D4E3\"},\"line\":{\"color\":\"white\"}},\"type\":\"table\"}],\"barpolar\":[{\"marker\":{\"line\":{\"color\":\"#E5ECF6\",\"width\":0.5},\"pattern\":{\"fillmode\":\"overlay\",\"size\":10,\"solidity\":0.2}},\"type\":\"barpolar\"}],\"pie\":[{\"automargin\":true,\"type\":\"pie\"}]},\"layout\":{\"autotypenumbers\":\"strict\",\"colorway\":[\"#636efa\",\"#EF553B\",\"#00cc96\",\"#ab63fa\",\"#FFA15A\",\"#19d3f3\",\"#FF6692\",\"#B6E880\",\"#FF97FF\",\"#FECB52\"],\"font\":{\"color\":\"#2a3f5f\"},\"hovermode\":\"closest\",\"hoverlabel\":{\"align\":\"left\"},\"paper_bgcolor\":\"white\",\"plot_bgcolor\":\"#E5ECF6\",\"polar\":{\"bgcolor\":\"#E5ECF6\",\"angularaxis\":{\"gridcolor\":\"white\",\"linecolor\":\"white\",\"ticks\":\"\"},\"radialaxis\":{\"gridcolor\":\"white\",\"linecolor\":\"white\",\"ticks\":\"\"}},\"ternary\":{\"bgcolor\":\"#E5ECF6\",\"aaxis\":{\"gridcolor\":\"white\",\"linecolor\":\"white\",\"ticks\":\"\"},\"baxis\":{\"gridcolor\":\"white\",\"linecolor\":\"white\",\"ticks\":\"\"},\"caxis\":{\"gridcolor\":\"white\",\"linecolor\":\"white\",\"ticks\":\"\"}},\"coloraxis\":{\"colorbar\":{\"outlinewidth\":0,\"ticks\":\"\"}},\"colorscale\":{\"sequential\":[[0.0,\"#0d0887\"],[0.1111111111111111,\"#46039f\"],[0.2222222222222222,\"#7201a8\"],[0.3333333333333333,\"#9c179e\"],[0.4444444444444444,\"#bd3786\"],[0.5555555555555556,\"#d8576b\"],[0.6666666666666666,\"#ed7953\"],[0.7777777777777778,\"#fb9f3a\"],[0.8888888888888888,\"#fdca26\"],[1.0,\"#f0f921\"]],\"sequentialminus\":[[0.0,\"#0d0887\"],[0.1111111111111111,\"#46039f\"],[0.2222222222222222,\"#7201a8\"],[0.3333333333333333,\"#9c179e\"],[0.4444444444444444,\"#bd3786\"],[0.5555555555555556,\"#d8576b\"],[0.6666666666666666,\"#ed7953\"],[0.7777777777777778,\"#fb9f3a\"],[0.8888888888888888,\"#fdca26\"],[1.0,\"#f0f921\"]],\"diverging\":[[0,\"#8e0152\"],[0.1,\"#c51b7d\"],[0.2,\"#de77ae\"],[0.3,\"#f1b6da\"],[0.4,\"#fde0ef\"],[0.5,\"#f7f7f7\"],[0.6,\"#e6f5d0\"],[0.7,\"#b8e186\"],[0.8,\"#7fbc41\"],[0.9,\"#4d9221\"],[1,\"#276419\"]]},\"xaxis\":{\"gridcolor\":\"white\",\"linecolor\":\"white\",\"ticks\":\"\",\"title\":{\"standoff\":15},\"zerolinecolor\":\"white\",\"automargin\":true,\"zerolinewidth\":2},\"yaxis\":{\"gridcolor\":\"white\",\"linecolor\":\"white\",\"ticks\":\"\",\"title\":{\"standoff\":15},\"zerolinecolor\":\"white\",\"automargin\":true,\"zerolinewidth\":2},\"scene\":{\"xaxis\":{\"backgroundcolor\":\"#E5ECF6\",\"gridcolor\":\"white\",\"linecolor\":\"white\",\"showbackground\":true,\"ticks\":\"\",\"zerolinecolor\":\"white\",\"gridwidth\":2},\"yaxis\":{\"backgroundcolor\":\"#E5ECF6\",\"gridcolor\":\"white\",\"linecolor\":\"white\",\"showbackground\":true,\"ticks\":\"\",\"zerolinecolor\":\"white\",\"gridwidth\":2},\"zaxis\":{\"backgroundcolor\":\"#E5ECF6\",\"gridcolor\":\"white\",\"linecolor\":\"white\",\"showbackground\":true,\"ticks\":\"\",\"zerolinecolor\":\"white\",\"gridwidth\":2}},\"shapedefaults\":{\"line\":{\"color\":\"#2a3f5f\"}},\"annotationdefaults\":{\"arrowcolor\":\"#2a3f5f\",\"arrowhead\":0,\"arrowwidth\":1},\"geo\":{\"bgcolor\":\"white\",\"landcolor\":\"#E5ECF6\",\"subunitcolor\":\"white\",\"showland\":true,\"showlakes\":true,\"lakecolor\":\"white\"},\"title\":{\"x\":0.05},\"mapbox\":{\"style\":\"light\"}}},\"xaxis\":{\"anchor\":\"y\",\"domain\":[0.0,1.0],\"title\":{\"text\":\"Column Name\"},\"categoryorder\":\"total ascending\"},\"yaxis\":{\"anchor\":\"x\",\"domain\":[0.0,1.0],\"title\":{\"text\":\"Quality Score\"},\"range\":[0,1]},\"legend\":{\"title\":{\"text\":\"Metric\"},\"tracegroupgap\":0},\"title\":{\"text\":\"Data Quality: Column Shapes (Average Score=0.75)\"},\"barmode\":\"relative\",\"margin\":{\"t\":150},\"plot_bgcolor\":\"#F5F5F8\"},                        {\"responsive\": true}                    ).then(function(){\n",
       "                            \n",
       "var gd = document.getElementById('68fa892b-0e19-41d3-935a-a0cd3f74334b');\n",
       "var x = new MutationObserver(function (mutations, observer) {{\n",
       "        var display = window.getComputedStyle(gd).display;\n",
       "        if (!display || display === 'none') {{\n",
       "            console.log([gd, 'removed!']);\n",
       "            Plotly.purge(gd);\n",
       "            observer.disconnect();\n",
       "        }}\n",
       "}});\n",
       "\n",
       "// Listen for the removal of the full notebook cells\n",
       "var notebookContainer = gd.closest('#notebook-container');\n",
       "if (notebookContainer) {{\n",
       "    x.observe(notebookContainer, {childList: true});\n",
       "}}\n",
       "\n",
       "// Listen for the clearing of the current output cell\n",
       "var outputEl = gd.closest('.output');\n",
       "if (outputEl) {{\n",
       "    x.observe(outputEl, {childList: true});\n",
       "}}\n",
       "\n",
       "                        })                };                });            </script>        </div>"
      ]
     },
     "metadata": {},
     "output_type": "display_data"
    }
   ],
   "source": [
    "quality_report.get_visualization('Column Shapes')"
   ]
  },
  {
   "cell_type": "code",
   "execution_count": 116,
   "id": "45f552b5",
   "metadata": {},
   "outputs": [
    {
     "data": {
      "application/vnd.plotly.v1+json": {
       "config": {
        "plotlyServerURL": "https://plot.ly"
       },
       "data": [
        {
         "alignmentgroup": "True",
         "bingroup": "x",
         "histnorm": "probability density",
         "hovertemplate": "<b>Real</b><br>Frequency: %{y}<extra></extra>",
         "legendgroup": "Real",
         "marker": {
          "color": "#000036",
          "pattern": {
           "shape": ""
          }
         },
         "name": "Real",
         "offsetgroup": "Real",
         "orientation": "v",
         "showlegend": true,
         "type": "histogram",
         "x": [
          "VIAL",
          "mL",
          "mL",
          "TAB",
          "BAG",
          "BTL",
          "TAB",
          "BAG",
          "VIAL",
          "VIAL",
          "BAG",
          "TAB",
          "BTL",
          "mL",
          "BAG",
          "mL",
          "ml",
          "ml",
          "UDCUP",
          "ml",
          "BAG",
          "mL",
          "CAP",
          "mL",
          "TAB",
          "mL",
          "TAB",
          "SYR",
          "BAG",
          "UDCUP",
          "TAB",
          "BTL",
          "BAG",
          "VIAL",
          "SYR",
          "TAB",
          "BAG",
          "mL",
          "ml",
          "BAG",
          "VIAL",
          "mL",
          "VIAL",
          "VIAL",
          "TAB",
          "BAG",
          "BAG",
          "TAB",
          "VIAL",
          "VIAL",
          "mL",
          "BTL",
          "ml",
          "TAB",
          "VIAL",
          "PKT",
          "VIAL",
          "VIAL",
          "TAB",
          "ml",
          "BAG",
          "g",
          "mL",
          "BAG",
          "TAB",
          "TAB",
          "SUPP",
          "SYR",
          "VIAL",
          "BTL",
          "TAB",
          "BAG",
          "VIAL",
          "UDCUP",
          "ml",
          "VIAL",
          "SUPP",
          "PKT",
          "VIAL",
          "TAB",
          "SYR",
          "TAB",
          "TAB",
          "UDCUP",
          "mL",
          "TAB",
          "BAG",
          "Appl",
          "mL",
          "VIAL",
          "AMP",
          "PKT",
          "mL",
          "ml",
          "BAG",
          "CAP",
          "ml",
          "TAB",
          "VIAL",
          "SYR",
          "PKT",
          "SYR",
          "TAB",
          "VIAL",
          "BAG",
          "mL",
          "VIAL",
          "VIAL",
          "TAB",
          "mL",
          "mL",
          "BAG",
          "mL",
          "CAP",
          "VIAL",
          "CAP",
          "TAB",
          "ml",
          "CAP",
          "mL",
          "TAB",
          "TAB",
          "BTL",
          "mL",
          "TAB",
          "TAB",
          "UDCUP",
          "TAB",
          "UDCUP",
          "ml",
          "CAP",
          "TAB",
          "CAP",
          "TAB",
          "TAB",
          "TAB",
          "TAB",
          "VIAL",
          "TAB",
          "BAG",
          "VIAL",
          "BAG",
          "mL",
          "BAG",
          "PKT",
          "ml",
          "TAB",
          "VIAL",
          "SYR",
          "TAB",
          "TAB",
          "BAG",
          "VIAL",
          "ml",
          "VIAL",
          "VIAL",
          "TAB",
          "TAB",
          "SYR",
          "VIAL",
          "VIAL",
          "VIAL",
          "TAB",
          "SYR",
          "VIAL",
          "mL",
          "SUPP",
          "BAG",
          "TAB",
          "VIAL",
          "TAB",
          "ml",
          "TAB",
          "TAB",
          "TAB",
          "VIAL",
          "mL",
          "BAG",
          "TAB",
          "TAB",
          "UDCUP",
          "SYR",
          "mL",
          "VIAL",
          "BAG",
          "BAG",
          "UDCUP",
          "BAG",
          "CAP",
          "VIAL",
          "mL",
          "VIAL",
          "mL",
          "TAB",
          "TAB",
          "VIAL",
          "VIAL",
          "TAB",
          "ml",
          "VIAL",
          "BAG",
          "UDCUP",
          "TAB",
          "TAB",
          "TAB",
          "SYR",
          "INH",
          "SYR",
          "VIAL",
          "mL",
          "BAG",
          "mL",
          "mL",
          "TAB",
          "mL",
          "VIAL",
          "BAG",
          "VIAL",
          "CAP",
          "ml",
          "TAB",
          "mL",
          "TAB",
          "BAG",
          "VIAL",
          "ml",
          "VIAL",
          "TAB",
          "TAB",
          "TAB",
          "BAG",
          "CAP",
          "VIAL",
          "BAG",
          "SYR",
          "BAG",
          "TAB",
          "mL",
          "VIAL",
          "BAG",
          "ml",
          "mL",
          "mL",
          "TAB",
          "SYR",
          "ml",
          "BAG",
          "VIAL",
          "mL",
          "mL",
          "mL",
          "mL",
          "TAB",
          "BAG",
          "TAB",
          "PKT",
          "CAN",
          "mL",
          "ml",
          "SYR",
          "VIAL",
          "PKT",
          "BTL",
          "ml",
          "BTL",
          "BAG",
          "TAB",
          "VIAL",
          "VIAL",
          "CAP",
          "CAP",
          "CAP",
          "VIAL",
          "BAG",
          "TAB",
          "BAG",
          "ml",
          "TAB",
          "VIAL",
          "ml",
          "TAB",
          "TAB",
          "TAB",
          "TAB",
          "mL",
          "mL",
          "SYR",
          "ml",
          "TAB",
          "mL",
          "CAP",
          "SYR",
          "TAB",
          "CAP",
          "mL",
          "mL",
          "TUBE",
          "BAG",
          "SYR",
          "VIAL",
          "VIAL",
          "BAG",
          "SYR",
          "mL",
          "TAB",
          "UDCUP",
          "SYR",
          "SYR",
          "BAG",
          "ml",
          "TAB",
          "ml",
          "mL",
          "ml",
          "VIAL",
          "TAB",
          "UDCUP",
          "SYR",
          "TAB",
          "BTL",
          "mL",
          "BAG",
          "TAB",
          "BAG",
          "ml",
          "BAG",
          "UDCUP",
          "ml",
          "BAG",
          "VIAL",
          "TAB",
          "TAB",
          "VIAL",
          "TAB",
          "TUBE",
          "mL",
          "VIAL",
          "CAP",
          "SYR",
          "TAB",
          "TAB",
          "SYR",
          "CAP",
          "UDCUP",
          "mL",
          "SYR",
          "ml",
          "TAB",
          "ml",
          "TAB",
          "TAB",
          "VIAL",
          "BAG",
          "mL",
          "BAG",
          "BAG",
          "TAB",
          "TAB",
          "SYR",
          "mL",
          "SYR",
          "VIAL",
          "AMP",
          "PTCH",
          "VIAL",
          "ml",
          "BAG",
          "CAP",
          "BAG",
          "mL",
          "ml",
          "AMP",
          "BAG",
          "BTL",
          "CAP",
          "ml",
          "SYR",
          "TAB",
          "mL",
          "ml",
          "TAB",
          "CAP",
          "mL",
          "BTL",
          "ml",
          "VIAL",
          "mL",
          "TAB",
          "CAP",
          "TAB",
          "TAB",
          "ml",
          "CAP",
          "ml",
          "UDCUP",
          "AMP",
          "mL",
          "VIAL",
          "mL",
          "BAG",
          "TAB",
          "ml",
          "VIAL",
          "VIAL",
          "TAB",
          "ml",
          "TAB",
          "TAB",
          "CAP",
          "TAB",
          "VIAL",
          "BAG",
          "ml",
          "VIAL",
          "TAB",
          "CAP",
          "ml",
          "VIAL",
          "VIAL",
          "TAB",
          "BAG",
          "mL",
          "VIAL",
          "TAB",
          "TAB",
          "TAB",
          "VIAL",
          "TAB",
          "SYR",
          "TAB",
          "BAG",
          "mL",
          "SUPP",
          "VIAL",
          "BAG",
          "SYR",
          "ml",
          "mL",
          "LOZ",
          "TAB",
          "SYR",
          "TAB",
          "SYR",
          "SYR",
          "TAB",
          "TAB",
          "ml",
          "ml",
          "mL",
          "mL",
          "TAB",
          "mL",
          "VIAL",
          "TAB",
          "VIAL",
          "mL",
          "VIAL",
          "BAG",
          "ml",
          "NEB",
          "TAB",
          "TUBE",
          "BAG",
          "CAP",
          "UDCUP",
          "TAB",
          "BAG",
          "VIAL",
          "VIAL",
          "TAB",
          "BAG",
          "VIAL",
          "TAB",
          "VIAL",
          "BAG",
          "TAB",
          "UDCUP",
          "ml",
          "TAB",
          "VIAL",
          "VIAL",
          "VIAL",
          "TAB",
          "UDCUP",
          "TAB",
          "mL",
          "TAB",
          "VIAL",
          "SYR",
          "BAG",
          "TAB",
          "SYR",
          "TAB",
          "VIAL",
          "ml",
          "VIAL",
          "TAB",
          "BAG",
          "BAG",
          "ml",
          "UDCUP",
          "VIAL",
          "VIAL",
          "TAB",
          "SYR",
          "CAP",
          "TAB",
          "BTL",
          "ml",
          "DBTL",
          "TAB",
          "BAG",
          "mL",
          "TAB",
          "BAG",
          "TAB",
          "VIAL",
          "mL",
          "UDCUP",
          "mL",
          "BAG",
          "CAP",
          "VIAL",
          "VIAL",
          "CAP",
          "VIAL",
          "VIAL",
          "ml",
          "SYR",
          "VIAL",
          "BAG",
          "UDCUP",
          "VIAL",
          "TAB",
          "mL",
          "TAB",
          "TAB",
          "mL",
          "VIAL",
          "ml",
          "VIAL",
          "ml",
          "TAB",
          "PTCH",
          "VIAL",
          "ml",
          "CAP",
          "VIAL",
          "CAP",
          "VIAL",
          "VIAL",
          "VIAL",
          "TAB",
          "PTCH",
          "SYR",
          "TAB",
          "VIAL",
          "VIAL",
          "BAG",
          "ml",
          "TUBE",
          "ml",
          "TAB",
          "PKT",
          "ml",
          "PKT",
          "mL",
          "ml",
          "TAB",
          "mL",
          "TAB",
          "TAB",
          "VIAL",
          "VIAL",
          "UDCUP",
          "INH",
          "AERO",
          "SYR",
          "VIAL",
          "TAB",
          "CAP",
          "SYR",
          "BTL",
          "mL",
          "BAG",
          "BAG",
          "TAB",
          "mL",
          "BAG",
          "SYR",
          "TAB",
          "BAG",
          "TAB",
          "dose",
          "BAG",
          "mL",
          "SYR",
          "TAB",
          "ml",
          "ml",
          "mg",
          "mL",
          "SYR",
          "mL",
          "BAG",
          "TAB",
          "BAG",
          "CAP",
          "g",
          "VIAL",
          "PKT",
          "CAP",
          "TAB",
          "VIAL",
          "TAB",
          "VIAL",
          "UDCUP",
          "BAG",
          "BAG",
          "BAG",
          "ml",
          "BAG",
          "SYR",
          "VIAL",
          "PTCH",
          "BAG",
          "VIAL",
          "VIAL",
          "ml",
          "TAB",
          "CAP",
          "UDCUP",
          "TAB",
          "CAP",
          "BAG",
          "VIAL",
          "ml",
          "BAG",
          "VIAL",
          "VIAL",
          "TAB",
          "TAB",
          "TAB",
          "CAP",
          "ml",
          "TAB",
          "UDCUP",
          "BAG",
          "mL",
          "mL",
          "BAG",
          "KIT",
          "BAG",
          "TAB",
          "VIAL",
          "VIAL",
          "mL",
          "ml",
          "ml",
          "TAB",
          "BTL",
          "BAG",
          "TAB",
          "CAP",
          "BAG",
          "VIAL",
          "CAP",
          "VIAL",
          "BAG",
          "TAB",
          "BAG",
          "VIAL",
          "TAB",
          "VIAL",
          "mL",
          "mL",
          "UDCUP",
          "mL",
          "TAB",
          "mL",
          "AMP",
          "VIAL",
          "TAB",
          "TAB",
          "TAB",
          "ml",
          "ml",
          "CAP",
          "ml",
          "TAB",
          "VIAL",
          "BTL",
          "VIAL",
          "VIAL",
          "mL",
          "TAB",
          "VIAL",
          "CAP",
          "TAB",
          "TAB",
          "ml",
          "VIAL",
          "TAB",
          "VIAL",
          "TAB",
          "TAB",
          "BAG",
          "g",
          "VIAL",
          "TAB",
          "CAP",
          "mL",
          "mL",
          "UDCUP",
          "UDCUP",
          "BAG",
          "BAG",
          "mL",
          "BTL",
          "VIAL",
          "TAB",
          "BAG",
          "TAB",
          "TAB",
          "TAB",
          "SYR",
          "BAG",
          "UDCUP",
          "mL",
          "BAG",
          "SYR",
          "ml",
          "BAG",
          "BAG",
          "BTL",
          "TAB",
          "VIAL",
          "BAG",
          "CAP",
          "VIAL",
          "UDCUP",
          "VIAL",
          "VIAL",
          "TAB",
          "TAB",
          "mL",
          "SYR",
          "CAP",
          "BTL",
          "SYR",
          "VIAL",
          "TUBE",
          "mL",
          "TAB",
          "BTL",
          "VIAL",
          "BAG",
          "TAB",
          "VIAL",
          "BTL",
          "TAB",
          "CAP",
          "SYR",
          "SYR",
          "TAB",
          "ml",
          "TAB",
          "BAG",
          "SYR",
          "mL",
          "mL",
          "UDCUP",
          "CAP",
          "PKT",
          "SYR",
          "PKT",
          "BAG",
          "BAG",
          "mL",
          "mL",
          "VIAL",
          "TAB",
          "BAG",
          "SUPP",
          "mL",
          "TAB",
          "VIAL",
          "CAP",
          "BAG",
          "ml",
          "VIAL",
          "BTL",
          "mL",
          "TAB",
          "mL",
          "VIAL",
          "CAP",
          "BAG",
          "TAB",
          "mL",
          "BAG",
          "TAB",
          "TAB",
          "mL",
          "ml",
          "TAB",
          "mL",
          "BAG",
          "BAG",
          "UDCUP",
          "TAB",
          "SYR",
          "mL",
          "BTL",
          "BAG",
          "PKT",
          "TAB",
          "VIAL",
          "SYR",
          "TAB",
          "TAB",
          "TAB",
          "ml",
          "BAG",
          "TAB",
          "CAP",
          "ml",
          "VIAL",
          "BAG",
          "VIAL",
          "TAB",
          "TAB",
          "TAB",
          "TAB",
          "mL",
          "CAP",
          "BAG",
          "mL",
          "PTCH",
          "TAB",
          "BTL",
          "PKT",
          "mL",
          "VIAL",
          "mL",
          "VIAL",
          "CAN",
          "mL",
          "ml",
          "ml",
          "TAB",
          "ml",
          "TAB",
          "mL",
          "mL",
          "mL",
          "TAB",
          "VIAL",
          "BAG",
          "BAG",
          "PTCH",
          "BAG",
          "TAB",
          "VIAL",
          "SYR",
          "BAG",
          "BAG",
          "UDCUP",
          "BAG",
          "ml",
          "VIAL",
          "TAB",
          "TAB",
          "mL",
          "BAG",
          "mL",
          "TAB",
          "BAG",
          "TAB",
          "TAB",
          "TAB",
          "VIAL",
          "ml",
          "CAP",
          "INH",
          "BAG",
          "VIAL",
          "TAB",
          "BTL",
          "mL",
          "AMP",
          "CAP",
          "TAB",
          "TAB",
          "TAB",
          "BAG",
          "VIAL",
          "TAB",
          "VIAL",
          "TAB",
          "TAB",
          "VIAL",
          "TAB",
          "TAB",
          "SYR",
          "VIAL",
          "mL",
          "TAB",
          "mL",
          "BAG",
          "BAG",
          "CAP",
          "TAB",
          "BAG",
          "CAP",
          "ml",
          "CAP",
          "mL",
          "CAP",
          "TAB",
          "mL",
          "TAB",
          "VIAL",
          "VIAL",
          "mL",
          "ml",
          "ml",
          "ml",
          "VIAL",
          "BAG",
          "TAB",
          "TAB",
          "TAB",
          "BAG",
          "BTL",
          "TAB",
          "TAB",
          "TAB",
          "TAB",
          "VIAL",
          "TAB",
          "VIAL",
          "VIAL",
          "BAG",
          "TAB",
          "TAB",
          "TAB",
          "BTL",
          "ml",
          "BAG",
          "TAB",
          "PKT",
          "mL",
          "mL",
          "SUPP",
          "ml",
          "BAG",
          "mL",
          "SUPP",
          "TAB",
          "BAG",
          "TAB",
          "TAB",
          "SYR",
          "VIAL",
          "VIAL",
          "mL",
          "BAG",
          "CAP",
          "TAB",
          "BAG",
          "CAP",
          "VIAL",
          "SYR",
          "SYR",
          "BAG",
          "ml",
          "BAG",
          "SYR",
          "BAG",
          "TAB",
          "TAB",
          "SYR",
          "VIAL",
          "TAB",
          "ml",
          "VIAL",
          "mL",
          "VIAL",
          "mL",
          "mL",
          "VIAL",
          "SYR",
          "UDCUP",
          "mL",
          "BAG",
          "BAG",
          "UDCUP",
          "TAB",
          "TAB",
          "BAG",
          "SYR",
          "ml",
          "TAB",
          "TAB",
          "TAB",
          "ml",
          "TUBE",
          "mL",
          "BAG",
          "BAG",
          "TAB",
          "VIAL",
          "VIAL",
          "VIAL",
          "mL",
          "VIAL",
          "TAB",
          "VIAL",
          "VIAL",
          "VIAL",
          "mL",
          "mL",
          "VIAL",
          "BAG",
          "CAP",
          "TAB",
          "TAB",
          "TAB",
          "TAB",
          "BAG",
          "SYR",
          "VIAL",
          "TAB",
          "TAB",
          "ml",
          "VIAL",
          "TAB",
          "VIAL",
          "VIAL",
          "ml",
          "CAP",
          "SYR",
          "mL",
          "SYR",
          "TAB",
          "BAG",
          "ml",
          "SYR",
          "ml",
          "BAG",
          "TAB",
          "ml",
          "ml",
          "BAG",
          "BAG",
          "BTL",
          "mL",
          "mL",
          "VIAL",
          "VIAL",
          "VIAL",
          "BAG",
          "mL",
          "PTCH",
          "UDCUP",
          "VIAL",
          "TAB",
          "BAG",
          "VIAL",
          "ml",
          "VIAL",
          "BAG",
          "TAB",
          "VIAL",
          "VIAL",
          "TAB",
          "SYR",
          "ml",
          "VIAL",
          "TAB",
          "CAP",
          "CAP",
          "ml",
          "ml",
          "VIAL",
          "BAG",
          "ml",
          "VIAL",
          "VIAL",
          "CAP",
          "TAB",
          "VIAL",
          "TAB",
          "SYR",
          "VIAL",
          "TAB",
          "VIAL",
          "BAG",
          "TAB",
          "VIAL",
          "mL",
          "mL",
          "mL",
          "TAB",
          "BAG",
          "TAB",
          "ml",
          "TAB",
          "VIAL",
          "TAB",
          "mL",
          "VIAL",
          "mL",
          "VIAL",
          "TAB",
          "BAG",
          "TAB",
          "VIAL",
          "VIAL",
          "ml",
          "ml",
          "CAP",
          "mL",
          "mL",
          "TAB",
          "mL",
          "BAG",
          "mL",
          "BAG",
          "mL",
          "VIAL",
          "ml",
          "TAB",
          "ml",
          "SYR",
          "TAB",
          "VIAL",
          "BAG",
          "TAB",
          "TAB",
          "PKT",
          "VIAL",
          "mL",
          "VIAL",
          "BAG",
          "VIAL",
          "mL",
          "ml",
          "BTL",
          "UDCUP",
          "BAG",
          "VIAL",
          "PKT",
          "TAB",
          "VIAL",
          "VIAL",
          "mL",
          "mL",
          "AMP",
          "ml",
          "TAB",
          "SYR",
          "VIAL",
          "mL",
          "TAB",
          "BAG",
          "AMP",
          "CAP",
          "ml",
          "TAB",
          "CAP",
          "TAB",
          "VIAL",
          "PKT",
          "TAB",
          "mL",
          "VIAL",
          "BAG",
          "BAG",
          "BAG",
          "mL",
          "VIAL",
          "SYR",
          "TAB",
          "mL",
          "ml",
          "TAB",
          "TAB",
          "VIAL",
          "DBTL",
          "TAB",
          "BTL",
          "TAB",
          "VIAL",
          "BAG",
          "ml",
          "NEB",
          "BAG",
          "ml",
          "CAP",
          "TAB",
          "TAB",
          "VIAL",
          "TAB",
          "ml",
          "VIAL",
          "TAB",
          "SYR",
          "SYR",
          "mL",
          "TAB",
          "VIAL",
          "CAP",
          "mL",
          "ml",
          "SYR",
          "CAP",
          "TAB",
          "VIAL",
          "BAG",
          "SYR",
          "VIAL",
          "ml",
          "VIAL",
          "BAG",
          "TUBE",
          "TAB",
          "CAP",
          "TAB",
          "TAB",
          "VIAL",
          "SUPP",
          "TAB",
          "TAB",
          "BAG",
          "VIAL",
          "VIAL",
          "BAG",
          "VIAL",
          "TAB",
          "CAP",
          "BAG",
          "VIAL",
          "TAB",
          "BAG",
          "SYR",
          "BAG",
          "ml",
          "mg",
          "BTL",
          "mL",
          "VIAL",
          "mL",
          "mL",
          "VIAL",
          "CAP",
          "TAB",
          "CAP",
          "BAG",
          "BAG",
          "SYR",
          "BAG",
          "mL",
          "BAG",
          "VIAL",
          "CAP",
          "TAB",
          "TAB",
          "TAB",
          "BAG",
          "TAB",
          "VIAL",
          "VIAL",
          "TAB",
          "TAB",
          "VIAL",
          "BTL",
          "ml",
          "VIAL",
          "mL",
          "SYR",
          "SYR",
          "mL",
          "VIAL",
          "ml",
          "ml",
          "TAB",
          "BAG",
          "TAB",
          "ml",
          "VIAL",
          "TAB",
          "VIAL",
          "VIAL",
          "BAG",
          "TAB",
          "SYR",
          "CAP",
          "mL",
          "mL",
          "VIAL",
          "mL",
          "mL",
          "CAP",
          "BAG",
          "VIAL",
          "VIAL",
          "BAG",
          "TAB",
          "CAP",
          "CAP",
          "TAB",
          "BAG",
          "BAG",
          "mL",
          "TAB",
          "TAB",
          "TAB",
          "BAG",
          "mL",
          "ml",
          "PKT",
          "BAG",
          "mL",
          "TAB",
          "VIAL",
          "VIAL",
          "ml",
          "PKT",
          "TAB",
          "BAG",
          "mL",
          "VIAL",
          "TAB",
          "TAB",
          "TAB",
          "VIAL",
          "mL",
          "ml",
          "TAB",
          "TAB",
          "TAB",
          "mL",
          "SYR",
          "BAG",
          "UDCUP",
          "BAG",
          "TAB",
          "CAP",
          "VIAL",
          "TAB",
          "VIAL",
          "TAB",
          "ml",
          "VIAL",
          "VIAL",
          "ml",
          "ml",
          "TUBE",
          "AMP",
          "ml",
          "TAB",
          "ml",
          "SYR",
          "CAP",
          "VIAL",
          "VIAL",
          "TAB",
          "TAB",
          "SYR",
          "SYR",
          "ml",
          "TAB",
          "VIAL",
          "BAG",
          "CAP",
          "SUPP",
          "VIAL",
          "TAB",
          "UDCUP",
          "VIAL",
          "mL",
          "mL",
          "BAG",
          "BAG",
          "VIAL",
          "SYR",
          "mL",
          "TAB",
          "VIAL",
          "BAG",
          "TAB",
          "SYR",
          "TAB",
          "CAP",
          "ml",
          "ml",
          "ml",
          "BAG"
         ],
         "xaxis": "x",
         "yaxis": "y"
        },
        {
         "alignmentgroup": "True",
         "bingroup": "x",
         "histnorm": "probability density",
         "hovertemplate": "<b>Synthetic</b><br>Frequency: %{y}<extra></extra>",
         "legendgroup": "Synthetic",
         "marker": {
          "color": "#01E0C9",
          "pattern": {
           "shape": "/"
          }
         },
         "name": "Synthetic",
         "offsetgroup": "Synthetic",
         "orientation": "v",
         "showlegend": true,
         "type": "histogram",
         "x": [
          "TAB",
          "ml",
          "VIAL",
          "BAG",
          "BAG",
          "ml",
          "BAG",
          "mL",
          "BAG",
          "BAG",
          "mL",
          "TAB",
          "TAB",
          "TAB",
          "VIAL",
          "BAG",
          "SYR",
          "ml",
          "BAG",
          "ml",
          "TAB",
          "mL",
          "VIAL",
          "SYR",
          "VIAL",
          "BAG",
          "PKT",
          "BAG",
          "mL",
          "SYR",
          "DROP",
          "TAB",
          "BAG",
          "VIAL",
          "mL",
          "BAG",
          "DROP",
          "SYR",
          "VIAL",
          "UDCUP",
          "mL",
          "VIAL",
          "BAG",
          "TAB",
          "TAB",
          "BAG",
          "TAB",
          "VIAL",
          "BAG",
          "mL",
          "BAG",
          "mL",
          "mL",
          "AMP",
          "TAB",
          "VIAL",
          "CAP",
          "mL",
          "BAG",
          "VIAL",
          "mL",
          "BAG",
          "BAG",
          "TAB",
          "mL",
          "mL",
          "TAB",
          "TAB",
          "BAG",
          "VIAL",
          "BTL",
          "TAB",
          "BAG",
          "mL",
          "ml",
          "mL",
          "VIAL",
          "SYR",
          "mL",
          "mL",
          "TAB",
          "VIAL",
          "BAG",
          "VIAL",
          "mL",
          "mL",
          "PKT",
          "VIAL",
          "mL",
          "mL",
          "TAB",
          "VIAL",
          "SYR",
          "TAB",
          "mL",
          "TAB",
          "mL",
          "TAB",
          "TAB",
          "VIAL",
          "UDCUP",
          "mL",
          "ml",
          "VIAL",
          "BAG",
          "VIAL",
          "ml",
          "ml",
          "BAG",
          "BTL",
          "VIAL",
          "mL",
          "SYR",
          "VIAL",
          "VIAL",
          "ml",
          "ml",
          "CAP",
          "TAB",
          "BAG",
          "ml",
          "mL",
          "mL",
          "TAB",
          "DROP",
          "mL",
          "SYR",
          "ml",
          "SYR",
          "TAB",
          "BAG",
          "TAB",
          "SYR",
          "VIAL",
          "mL",
          "ml",
          "TAB",
          "BAG",
          "SYR",
          "BAG",
          "SYR",
          "BAG",
          "ml",
          "SYR",
          "ml",
          "VIAL",
          "TAB",
          "VIAL",
          "TAB",
          "VIAL",
          "BAG",
          "VIAL",
          "SYR",
          "BAG",
          "SYR",
          "mL",
          "BAG",
          "VIAL",
          "UDCUP",
          "BAG",
          "VIAL",
          "TAB",
          "BAG",
          "ml",
          "BAG",
          "ml",
          "SYR",
          "UDCUP",
          "BAG",
          "BAG",
          "SYR",
          "BAG",
          "SYR",
          "VIAL",
          "TAB",
          "VIAL",
          "BAG",
          "VIAL",
          "VIAL",
          "INH",
          "ml",
          "ml",
          "TAB",
          "SYR",
          "mL",
          "VIAL",
          "TAB",
          "TAB",
          "BAG",
          "SYR",
          "PKT",
          "TAB",
          "BAG",
          "ml",
          "TAB",
          "CAP",
          "BAG",
          "TAB",
          "TAB",
          "TAB",
          "mL",
          "VIAL",
          "TAB",
          "SYR",
          "VIAL",
          "TAB",
          "SYR",
          "mL",
          "TAB",
          "SYR",
          "TAB",
          "mL",
          "TAB",
          "mL",
          "mL",
          "TAB",
          "SYR",
          "BAG",
          "BAG",
          "BAG",
          "mL",
          "UDCUP",
          "VIAL",
          "TAB",
          "TAB",
          "mL",
          "ml",
          "VIAL",
          "VIAL",
          "TUBE",
          "ml",
          "VIAL",
          "VIAL",
          "BAG",
          "TAB",
          "mL",
          "mL",
          "BAG",
          "VIAL",
          "DROP",
          "TAB",
          "CAP",
          "mL",
          "CAP",
          "mL",
          "BAG",
          "mL",
          "BAG",
          "VIAL",
          "BAG",
          "TAB",
          "mL",
          "ml",
          "mL",
          "SYR",
          "BAG",
          "BAG",
          "BAG",
          "DROP",
          "TAB",
          "VIAL",
          "mL",
          "TAB",
          "mL",
          "TAB",
          "mL",
          "ml",
          "ml",
          "TAB",
          "ml",
          "DROP",
          "DROP",
          "TAB",
          "BAG",
          "BAG",
          "TAB",
          "VIAL",
          "VIAL",
          "VIAL",
          "TAB",
          "UDCUP",
          "BAG",
          "BAG",
          "BAG",
          "BAG",
          "BAG",
          "SYR",
          "DROP",
          "TAB",
          "BAG",
          "BTL",
          "BAG",
          "VIAL",
          "TAB",
          "VIAL",
          "UDCUP",
          "VIAL",
          "mL",
          "SYR",
          "ml",
          "TAB",
          "VIAL",
          "VIAL",
          "VIAL",
          "mL",
          "VIAL",
          "ml",
          "PKT",
          "TAB",
          "ml",
          "BAG",
          "BTL",
          "TAB",
          "CAP",
          "TAB",
          "TAB",
          "ml",
          "VIAL",
          "TAB",
          "TAB",
          "TAB",
          "TAB",
          "VIAL",
          "VIAL",
          "VIAL",
          "TAB",
          "BAG",
          "SYR",
          "TAB",
          "BAG",
          "BAG",
          "BAG",
          "BAG",
          "TAB",
          "mL",
          "VIAL",
          "VIAL",
          "VIAL",
          "BAG",
          "TAB",
          "SYR",
          "DROP",
          "TAB",
          "VIAL",
          "UDCUP",
          "SYR",
          "SYR",
          "VIAL",
          "mL",
          "VIAL",
          "BAG",
          "TAB",
          "ml",
          "mL",
          "TAB",
          "VIAL",
          "CAP",
          "mL",
          "TAB",
          "VIAL",
          "VIAL",
          "mL",
          "ml",
          "SYR",
          "CAP",
          "BAG",
          "BAG",
          "mL",
          "PKT",
          "SYR",
          "mL",
          "TAB",
          "mL",
          "mL",
          "DROP",
          "TAB",
          "TAB",
          "mL",
          "TAB",
          "mL",
          "mL",
          "BTL",
          "VIAL",
          "mL",
          "VIAL",
          "TAB",
          "mL",
          "mL",
          "VIAL",
          "BAG",
          "BAG",
          "TAB",
          "VIAL",
          "TAB",
          "TAB",
          "DROP",
          "DROP",
          "VIAL",
          "CAP",
          "ml",
          "SYR",
          "VIAL",
          "UDCUP",
          "TAB",
          "BAG",
          "TAB",
          "TAB",
          "VIAL",
          "BAG",
          "SYR",
          "TAB",
          "SYR",
          "TAB",
          "VIAL",
          "DROP",
          "VIAL",
          "DROP",
          "mL",
          "VIAL",
          "UDCUP",
          "TAB",
          "TAB",
          "SYR",
          "BAG",
          "VIAL",
          "CAP",
          "VIAL",
          "VIAL",
          "TAB",
          "BAG",
          "VIAL",
          "VIAL",
          "TAB",
          "DROP",
          "mL",
          "ml",
          "VIAL",
          "DROP",
          "UDCUP",
          "TAB",
          "PKT",
          "TAB",
          "TAB",
          "ml",
          "ml",
          "VIAL",
          "UDCUP",
          "ml",
          "SYR",
          "mL",
          "BAG",
          "DROP",
          "BAG",
          "VIAL",
          "VIAL",
          "DROP",
          "BAG",
          "BAG",
          "mL",
          "ml",
          "VIAL",
          "DROP",
          "DROP",
          "BAG",
          "mL",
          "mL",
          "DROP",
          "VIAL",
          "VIAL",
          "TAB",
          "SUPP",
          "PTCH",
          "ml",
          "BAG",
          "VIAL",
          "mL",
          "ml",
          "TAB",
          "TAB",
          "BAG",
          "VIAL",
          "VIAL",
          "TAB",
          "CAP",
          "mL",
          "TAB",
          "BAG",
          "TAB",
          "mL",
          "BAG",
          "mL",
          "SYR",
          "VIAL",
          "mL",
          "TAB",
          "VIAL",
          "BAG",
          "VIAL",
          "BAG",
          "mL",
          "ml",
          "TAB",
          "CAP",
          "SUPP",
          "TAB",
          "UDCUP",
          "VIAL",
          "mL",
          "TAB",
          "VIAL",
          "VIAL",
          "BAG",
          "VIAL",
          "CAP",
          "BTL",
          "mL",
          "mL",
          "VIAL",
          "VIAL",
          "SYR",
          "TAB",
          "BAG",
          "VIAL",
          "VIAL",
          "TAB",
          "BAG",
          "VIAL",
          "TAB",
          "VIAL",
          "mL",
          "TAB",
          "TAB",
          "ml",
          "VIAL",
          "BAG",
          "BAG",
          "TAB",
          "SYR",
          "TAB",
          "DROP",
          "SYR",
          "BAG",
          "TAB",
          "VIAL",
          "VIAL",
          "ml",
          "mL",
          "BAG",
          "mL",
          "VIAL",
          "mL",
          "VIAL",
          "BAG",
          "VIAL",
          "mL",
          "TAB",
          "CAP",
          "TAB",
          "SYR",
          "VIAL",
          "VIAL",
          "TAB",
          "ml",
          "mL",
          "TAB",
          "TAB",
          "VIAL",
          "mL",
          "CAP",
          "TAB",
          "BAG",
          "mL",
          "BAG",
          "mL",
          "VIAL",
          "ml",
          "VIAL",
          "ml",
          "BAG",
          "CAP",
          "ml",
          "BAG",
          "BAG",
          "BAG",
          "TAB",
          "TAB",
          "SYR",
          "VIAL",
          "VIAL",
          "mL",
          "VIAL",
          "DROP",
          "SYR",
          "mL",
          "VIAL",
          "TAB",
          "VIAL",
          "mL",
          "VIAL",
          "UDCUP",
          "SYR",
          "ml",
          "TAB",
          "TAB",
          "ml",
          "VIAL",
          "TAB",
          "BAG",
          "BAG",
          "VIAL",
          "SYR",
          "BAG",
          "mL",
          "mL",
          "ml",
          "mL",
          "ml",
          "mL",
          "BAG",
          "TAB",
          "BAG",
          "VIAL",
          "ml",
          "mL",
          "TAB",
          "TAB",
          "BAG",
          "mL",
          "mL",
          "ml",
          "VIAL",
          "VIAL",
          "PKT",
          "VIAL",
          "TAB",
          "BAG",
          "ml",
          "SYR",
          "SYR",
          "TAB",
          "VIAL",
          "VIAL",
          "TAB",
          "mL",
          "BAG",
          "CAP",
          "TAB",
          "SYR",
          "VIAL",
          "VIAL",
          "TAB",
          "BAG",
          "BAG",
          "DROP",
          "VIAL",
          "TAB",
          "VIAL",
          "TAB",
          "mL",
          "VIAL",
          "VIAL",
          "DROP",
          "ml",
          "BAG",
          "BAG",
          "mL",
          "VIAL",
          "VIAL",
          "BAG",
          "BAG",
          "TAB",
          "BAG",
          "CAP",
          "mL",
          "mL",
          "mL",
          "SYR",
          "BAG",
          "mg",
          "SYR",
          "BAG",
          "BAG",
          "VIAL",
          "VIAL",
          "mL",
          "BAG",
          "VIAL",
          "mL",
          "mL",
          "VIAL",
          "VIAL",
          "VIAL",
          "mL",
          "BTL",
          "DROP",
          "mL",
          "mL",
          "VIAL",
          "SYR",
          "BAG",
          "mL",
          "ml",
          "VIAL",
          "DROP",
          "VIAL",
          "ml",
          "BAG",
          "VIAL",
          "BAG",
          "mL",
          "SYR",
          "mL",
          "TAB",
          "SPRY",
          "BAG",
          "ml",
          "TAB",
          "TAB",
          "ml",
          "TAB",
          "mL",
          "ml",
          "VIAL",
          "ml",
          "SYR",
          "ml",
          "BTL",
          "BAG",
          "mL",
          "TAB",
          "mL",
          "TAB",
          "TAB",
          "VIAL",
          "CAP",
          "BTL",
          "TAB",
          "BAG",
          "VIAL",
          "mL",
          "CAP",
          "TAB",
          "TAB",
          "mL",
          "SYR",
          "TAB",
          "BTL",
          "TUBE",
          "TAB",
          "ml",
          "BTL",
          "SUPP",
          "SYR",
          "VIAL",
          "BAG",
          "BAG",
          "VIAL",
          "SYR",
          "VIAL",
          "ml",
          "BAG",
          "BAG",
          "VIAL",
          "BAG",
          "mL",
          "DROP",
          "VIAL",
          "BAG",
          "TAB",
          "mL",
          "ml",
          "VIAL",
          "ml",
          "mL",
          "VIAL",
          "BAG",
          "mL",
          "VIAL",
          "TAB",
          "TAB",
          "VIAL",
          "SYR",
          "TAB",
          "mL",
          "VIAL",
          "mL",
          "mL",
          "BAG",
          "CAP",
          "TAB",
          "TAB",
          "BAG",
          "VIAL",
          "TAB",
          "DROP",
          "BAG",
          "TAB",
          "BAG",
          "DROP",
          "TAB",
          "mL",
          "CAP",
          "VIAL",
          "BAG",
          "TAB",
          "BAG",
          "mL",
          "mL",
          "ml",
          "VIAL",
          "ml",
          "BAG",
          "DBTL",
          "BAG",
          "VIAL",
          "TAB",
          "TAB",
          "mL",
          "BAG",
          "mL",
          "VIAL",
          "VIAL",
          "mL",
          "TAB",
          "ml",
          "SYR",
          "mL",
          "BAG",
          "BAG",
          "mL",
          "ml",
          "BAG",
          "CAP",
          "BAG",
          "DROP",
          "mL",
          "BAG",
          "BAG",
          "BAG",
          "VIAL",
          "ml",
          "TAB",
          "SYR",
          "VIAL",
          "mL",
          "VIAL",
          "TAB",
          "mL",
          "mL",
          "mL",
          "BAG",
          "UDCUP",
          "TAB",
          "VIAL",
          "TAB",
          "SYR",
          "ml",
          "CAP",
          "mL",
          "BAG",
          "TAB",
          "BAG",
          "mL",
          "mL",
          "TAB",
          "SUPP",
          "VIAL",
          "CAP",
          "VIAL",
          "BAG",
          "TAB",
          "TAB",
          "TAB",
          "TAB",
          "SYR",
          "VIAL",
          "DROP",
          "VIAL",
          "BAG",
          "mL",
          "ml",
          "UDCUP",
          "BAG",
          "TAB",
          "mL",
          "BAG",
          "mL",
          "CAP",
          "BAG",
          "VIAL",
          "ml",
          "VIAL",
          "TAB",
          "SYR",
          "DROP",
          "mL",
          "BAG",
          "ml",
          "DROP",
          "BAG",
          "TAB",
          "TAB",
          "VIAL",
          "mL",
          "VIAL",
          "DROP",
          "VIAL",
          "DROP",
          "VIAL",
          "ml",
          "TAB",
          "VIAL",
          "ml",
          "TAB",
          "TAB",
          "TAB",
          "TAB",
          "VIAL",
          "ml",
          "DROP",
          "BAG",
          "AMP",
          "mL",
          "SUPP",
          "TAB",
          "ml",
          "TAB",
          "VIAL",
          "BAG",
          "VIAL",
          "VIAL",
          "CAP",
          "mL",
          "ml",
          "VIAL",
          "DROP",
          "BAG",
          "PKT",
          "BAG",
          "ml",
          "TAB",
          "PKT",
          "VIAL",
          "VIAL",
          "BAG",
          "VIAL",
          "ml",
          "VIAL",
          "BAG",
          "TAB",
          "BAG",
          "BAG",
          "DROP",
          "DROP",
          "mL",
          "BAG",
          "mL",
          "BAG",
          "ml",
          "VIAL",
          "CAP",
          "mL",
          "VIAL",
          "ml",
          "UDCUP",
          "TAB",
          "TAB",
          "TAB",
          "BAG",
          "mL",
          "mL",
          "TAB",
          "VIAL",
          "BAG",
          "VIAL",
          "ml",
          "VIAL",
          "BAG",
          "TAB",
          "VIAL",
          "mL",
          "TAB",
          "ml",
          "mL",
          "TAB",
          "VIAL",
          "VIAL",
          "TAB",
          "TAB",
          "BAG",
          "TAB",
          "ml",
          "mL",
          "BAG",
          "BTL",
          "VIAL",
          "SYR",
          "mL",
          "mL",
          "BAG",
          "BAG",
          "ml",
          "CAP",
          "DROP",
          "DROP",
          "VIAL",
          "TAB",
          "BTL",
          "TAB",
          "TAB",
          "SYR",
          "BAG",
          "VIAL",
          "VIAL",
          "mL",
          "BAG",
          "BAG",
          "SYR",
          "BAG",
          "PKT",
          "DROP",
          "VIAL",
          "ml",
          "BAG",
          "VIAL",
          "BAG",
          "VIAL",
          "BAG",
          "TAB",
          "UDCUP",
          "mL",
          "ml",
          "mL",
          "mL",
          "VIAL",
          "TAB",
          "BAG",
          "mL",
          "mL",
          "VIAL",
          "TAB",
          "DROP",
          "mL",
          "mL",
          "DROP",
          "ml",
          "TAB",
          "DROP",
          "ml",
          "mL",
          "TAB",
          "ml",
          "BTL",
          "BAG",
          "BAG",
          "BAG",
          "ml",
          "mL",
          "BAG",
          "BAG",
          "BTL",
          "VIAL",
          "TAB",
          "TAB",
          "UDCUP",
          "BAG",
          "VIAL",
          "SYR",
          "VIAL",
          "VIAL",
          "ml",
          "CAP",
          "BAG",
          "CAP",
          "BAG",
          "SYR",
          "BAG",
          "mL",
          "TAB",
          "TAB",
          "ml",
          "ml",
          "ml",
          "mL",
          "BAG",
          "PKT",
          "DROP",
          "VIAL",
          "TAB",
          "VIAL",
          "TAB",
          "VIAL",
          "ml",
          "VIAL",
          "DROP",
          "ml",
          "BAG",
          "TAB",
          "mL",
          "TAB",
          "BAG",
          "VIAL",
          "BAG",
          "SYR",
          "mL",
          "VIAL",
          "VIAL",
          "SYR",
          "SYR",
          "BAG",
          "SYR",
          "ml",
          "SYR",
          "DROP",
          "TAB",
          "TAB",
          "VIAL",
          "BAG",
          "VIAL",
          "ml",
          "VIAL",
          "DROP",
          "VIAL",
          "VIAL",
          "BAG",
          "TAB",
          "VIAL",
          "VIAL",
          "BAG",
          "SYR",
          "BAG",
          "TAB",
          "VIAL",
          "DROP",
          "BAG",
          "mL",
          "ml",
          "ml",
          "VIAL",
          "VIAL",
          "TAB",
          "TAB",
          "ml",
          "PTCH",
          "TAB",
          "TAB",
          "ml",
          "mL",
          "mL",
          "SUPP",
          "TAB",
          "VIAL",
          "SUPP",
          "TAB",
          "mL",
          "mL",
          "VIAL",
          "VIAL",
          "VIAL",
          "PKT",
          "mL",
          "mL",
          "mL",
          "ml",
          "BAG",
          "mL",
          "VIAL",
          "TAB",
          "VIAL",
          "PKT",
          "VIAL",
          "VIAL",
          "SYR",
          "VIAL",
          "BAG",
          "BAG",
          "SYR",
          "SYR",
          "BAG",
          "VIAL",
          "CAP",
          "TAB",
          "TAB",
          "VIAL",
          "TAB",
          "CAP",
          "VIAL",
          "BAG",
          "BAG",
          "BAG",
          "mL",
          "mL",
          "TAB",
          "mL",
          "CAP",
          "BAG",
          "mL",
          "BAG",
          "BAG",
          "BAG",
          "ml",
          "TAB",
          "UDCUP",
          "BAG",
          "ml",
          "ml",
          "BAG",
          "VIAL",
          "VIAL",
          "mL",
          "BAG",
          "VIAL",
          "BAG",
          "TAB",
          "BAG",
          "BAG",
          "CAP",
          "SYR",
          "VIAL",
          "BAG",
          "TAB",
          "mL",
          "VIAL",
          "TAB",
          "VIAL",
          "SYR",
          "SYR",
          "TAB",
          "TAB",
          "VIAL",
          "CAP",
          "ml",
          "TAB",
          "mL",
          "mL",
          "VIAL",
          "ml",
          "BAG",
          "mL",
          "TAB",
          "VIAL",
          "TAB",
          "VIAL",
          "ml",
          "mL",
          "TAB",
          "BAG",
          "BAG",
          "mL",
          "VIAL",
          "DROP",
          "TAB",
          "VIAL",
          "BAG",
          "mL",
          "ml",
          "BAG",
          "ml",
          "ml",
          "TAB",
          "SYR",
          "BAG",
          "VIAL",
          "ml",
          "TAB",
          "VIAL",
          "ml",
          "BAG",
          "VIAL",
          "CAP",
          "VIAL",
          "BAG",
          "BAG",
          "ml",
          "ml",
          "VIAL",
          "CAP",
          "TAB",
          "VIAL",
          "VIAL",
          "ml",
          "VIAL",
          "BAG",
          "VIAL",
          "VIAL",
          "mg",
          "BAG",
          "VIAL",
          "TAB",
          "DROP",
          "BAG",
          "TAB",
          "TAB",
          "TAB",
          "TAB",
          "mL",
          "PKT",
          "ml",
          "TAB",
          "VIAL",
          "DROP",
          "CAP",
          "TAB",
          "BAG",
          "VIAL",
          "TAB",
          "TAB",
          "mL",
          "TAB",
          "BAG",
          "mL",
          "mL",
          "BAG",
          "VIAL",
          "TAB",
          "mL",
          "mL",
          "SYR",
          "CAP",
          "ml",
          "SYR",
          "VIAL",
          "DROP",
          "VIAL",
          "ml",
          "mL",
          "DROP",
          "TAB",
          "TAB",
          "mL",
          "CAP",
          "TAB",
          "VIAL",
          "VIAL",
          "ml",
          "ml",
          "VIAL",
          "VIAL",
          "SUPP",
          "BAG",
          "ml",
          "ml",
          "TAB",
          "VIAL",
          "mL",
          "mL",
          "BAG",
          "VIAL",
          "mL",
          "TAB",
          "VIAL",
          "BAG",
          "TAB",
          "mL",
          "SYR",
          "TAB",
          "BAG",
          "BAG",
          "VIAL",
          "BAG",
          "CAP",
          "TAB",
          "BAG",
          "mL",
          "BAG",
          "dose",
          "DROP",
          "DROP",
          "BAG",
          "TAB",
          "VIAL",
          "BAG",
          "mL",
          "BAG",
          "VIAL",
          "mL",
          "DROP",
          "BAG",
          "ml",
          "TAB",
          "TAB",
          "BAG",
          "VIAL",
          "mL",
          "BAG",
          "TAB",
          "mL",
          "BAG",
          "TAB",
          "BAG",
          "CAP",
          "mL",
          "TAB",
          "VIAL",
          "ml",
          "mL",
          "BAG",
          "TAB",
          "BAG",
          "SYR"
         ],
         "xaxis": "x",
         "yaxis": "y"
        }
       ],
       "layout": {
        "barmode": "group",
        "legend": {
         "title": {
          "text": "Data"
         },
         "tracegroupgap": 0
        },
        "margin": {
         "t": 60
        },
        "plot_bgcolor": "#F5F5F8",
        "template": {
         "data": {
          "bar": [
           {
            "error_x": {
             "color": "#2a3f5f"
            },
            "error_y": {
             "color": "#2a3f5f"
            },
            "marker": {
             "line": {
              "color": "#E5ECF6",
              "width": 0.5
             },
             "pattern": {
              "fillmode": "overlay",
              "size": 10,
              "solidity": 0.2
             }
            },
            "type": "bar"
           }
          ],
          "barpolar": [
           {
            "marker": {
             "line": {
              "color": "#E5ECF6",
              "width": 0.5
             },
             "pattern": {
              "fillmode": "overlay",
              "size": 10,
              "solidity": 0.2
             }
            },
            "type": "barpolar"
           }
          ],
          "carpet": [
           {
            "aaxis": {
             "endlinecolor": "#2a3f5f",
             "gridcolor": "white",
             "linecolor": "white",
             "minorgridcolor": "white",
             "startlinecolor": "#2a3f5f"
            },
            "baxis": {
             "endlinecolor": "#2a3f5f",
             "gridcolor": "white",
             "linecolor": "white",
             "minorgridcolor": "white",
             "startlinecolor": "#2a3f5f"
            },
            "type": "carpet"
           }
          ],
          "choropleth": [
           {
            "colorbar": {
             "outlinewidth": 0,
             "ticks": ""
            },
            "type": "choropleth"
           }
          ],
          "contour": [
           {
            "colorbar": {
             "outlinewidth": 0,
             "ticks": ""
            },
            "colorscale": [
             [
              0,
              "#0d0887"
             ],
             [
              0.1111111111111111,
              "#46039f"
             ],
             [
              0.2222222222222222,
              "#7201a8"
             ],
             [
              0.3333333333333333,
              "#9c179e"
             ],
             [
              0.4444444444444444,
              "#bd3786"
             ],
             [
              0.5555555555555556,
              "#d8576b"
             ],
             [
              0.6666666666666666,
              "#ed7953"
             ],
             [
              0.7777777777777778,
              "#fb9f3a"
             ],
             [
              0.8888888888888888,
              "#fdca26"
             ],
             [
              1,
              "#f0f921"
             ]
            ],
            "type": "contour"
           }
          ],
          "contourcarpet": [
           {
            "colorbar": {
             "outlinewidth": 0,
             "ticks": ""
            },
            "type": "contourcarpet"
           }
          ],
          "heatmap": [
           {
            "colorbar": {
             "outlinewidth": 0,
             "ticks": ""
            },
            "colorscale": [
             [
              0,
              "#0d0887"
             ],
             [
              0.1111111111111111,
              "#46039f"
             ],
             [
              0.2222222222222222,
              "#7201a8"
             ],
             [
              0.3333333333333333,
              "#9c179e"
             ],
             [
              0.4444444444444444,
              "#bd3786"
             ],
             [
              0.5555555555555556,
              "#d8576b"
             ],
             [
              0.6666666666666666,
              "#ed7953"
             ],
             [
              0.7777777777777778,
              "#fb9f3a"
             ],
             [
              0.8888888888888888,
              "#fdca26"
             ],
             [
              1,
              "#f0f921"
             ]
            ],
            "type": "heatmap"
           }
          ],
          "heatmapgl": [
           {
            "colorbar": {
             "outlinewidth": 0,
             "ticks": ""
            },
            "colorscale": [
             [
              0,
              "#0d0887"
             ],
             [
              0.1111111111111111,
              "#46039f"
             ],
             [
              0.2222222222222222,
              "#7201a8"
             ],
             [
              0.3333333333333333,
              "#9c179e"
             ],
             [
              0.4444444444444444,
              "#bd3786"
             ],
             [
              0.5555555555555556,
              "#d8576b"
             ],
             [
              0.6666666666666666,
              "#ed7953"
             ],
             [
              0.7777777777777778,
              "#fb9f3a"
             ],
             [
              0.8888888888888888,
              "#fdca26"
             ],
             [
              1,
              "#f0f921"
             ]
            ],
            "type": "heatmapgl"
           }
          ],
          "histogram": [
           {
            "marker": {
             "pattern": {
              "fillmode": "overlay",
              "size": 10,
              "solidity": 0.2
             }
            },
            "type": "histogram"
           }
          ],
          "histogram2d": [
           {
            "colorbar": {
             "outlinewidth": 0,
             "ticks": ""
            },
            "colorscale": [
             [
              0,
              "#0d0887"
             ],
             [
              0.1111111111111111,
              "#46039f"
             ],
             [
              0.2222222222222222,
              "#7201a8"
             ],
             [
              0.3333333333333333,
              "#9c179e"
             ],
             [
              0.4444444444444444,
              "#bd3786"
             ],
             [
              0.5555555555555556,
              "#d8576b"
             ],
             [
              0.6666666666666666,
              "#ed7953"
             ],
             [
              0.7777777777777778,
              "#fb9f3a"
             ],
             [
              0.8888888888888888,
              "#fdca26"
             ],
             [
              1,
              "#f0f921"
             ]
            ],
            "type": "histogram2d"
           }
          ],
          "histogram2dcontour": [
           {
            "colorbar": {
             "outlinewidth": 0,
             "ticks": ""
            },
            "colorscale": [
             [
              0,
              "#0d0887"
             ],
             [
              0.1111111111111111,
              "#46039f"
             ],
             [
              0.2222222222222222,
              "#7201a8"
             ],
             [
              0.3333333333333333,
              "#9c179e"
             ],
             [
              0.4444444444444444,
              "#bd3786"
             ],
             [
              0.5555555555555556,
              "#d8576b"
             ],
             [
              0.6666666666666666,
              "#ed7953"
             ],
             [
              0.7777777777777778,
              "#fb9f3a"
             ],
             [
              0.8888888888888888,
              "#fdca26"
             ],
             [
              1,
              "#f0f921"
             ]
            ],
            "type": "histogram2dcontour"
           }
          ],
          "mesh3d": [
           {
            "colorbar": {
             "outlinewidth": 0,
             "ticks": ""
            },
            "type": "mesh3d"
           }
          ],
          "parcoords": [
           {
            "line": {
             "colorbar": {
              "outlinewidth": 0,
              "ticks": ""
             }
            },
            "type": "parcoords"
           }
          ],
          "pie": [
           {
            "automargin": true,
            "type": "pie"
           }
          ],
          "scatter": [
           {
            "fillpattern": {
             "fillmode": "overlay",
             "size": 10,
             "solidity": 0.2
            },
            "type": "scatter"
           }
          ],
          "scatter3d": [
           {
            "line": {
             "colorbar": {
              "outlinewidth": 0,
              "ticks": ""
             }
            },
            "marker": {
             "colorbar": {
              "outlinewidth": 0,
              "ticks": ""
             }
            },
            "type": "scatter3d"
           }
          ],
          "scattercarpet": [
           {
            "marker": {
             "colorbar": {
              "outlinewidth": 0,
              "ticks": ""
             }
            },
            "type": "scattercarpet"
           }
          ],
          "scattergeo": [
           {
            "marker": {
             "colorbar": {
              "outlinewidth": 0,
              "ticks": ""
             }
            },
            "type": "scattergeo"
           }
          ],
          "scattergl": [
           {
            "marker": {
             "colorbar": {
              "outlinewidth": 0,
              "ticks": ""
             }
            },
            "type": "scattergl"
           }
          ],
          "scattermapbox": [
           {
            "marker": {
             "colorbar": {
              "outlinewidth": 0,
              "ticks": ""
             }
            },
            "type": "scattermapbox"
           }
          ],
          "scatterpolar": [
           {
            "marker": {
             "colorbar": {
              "outlinewidth": 0,
              "ticks": ""
             }
            },
            "type": "scatterpolar"
           }
          ],
          "scatterpolargl": [
           {
            "marker": {
             "colorbar": {
              "outlinewidth": 0,
              "ticks": ""
             }
            },
            "type": "scatterpolargl"
           }
          ],
          "scatterternary": [
           {
            "marker": {
             "colorbar": {
              "outlinewidth": 0,
              "ticks": ""
             }
            },
            "type": "scatterternary"
           }
          ],
          "surface": [
           {
            "colorbar": {
             "outlinewidth": 0,
             "ticks": ""
            },
            "colorscale": [
             [
              0,
              "#0d0887"
             ],
             [
              0.1111111111111111,
              "#46039f"
             ],
             [
              0.2222222222222222,
              "#7201a8"
             ],
             [
              0.3333333333333333,
              "#9c179e"
             ],
             [
              0.4444444444444444,
              "#bd3786"
             ],
             [
              0.5555555555555556,
              "#d8576b"
             ],
             [
              0.6666666666666666,
              "#ed7953"
             ],
             [
              0.7777777777777778,
              "#fb9f3a"
             ],
             [
              0.8888888888888888,
              "#fdca26"
             ],
             [
              1,
              "#f0f921"
             ]
            ],
            "type": "surface"
           }
          ],
          "table": [
           {
            "cells": {
             "fill": {
              "color": "#EBF0F8"
             },
             "line": {
              "color": "white"
             }
            },
            "header": {
             "fill": {
              "color": "#C8D4E3"
             },
             "line": {
              "color": "white"
             }
            },
            "type": "table"
           }
          ]
         },
         "layout": {
          "annotationdefaults": {
           "arrowcolor": "#2a3f5f",
           "arrowhead": 0,
           "arrowwidth": 1
          },
          "autotypenumbers": "strict",
          "coloraxis": {
           "colorbar": {
            "outlinewidth": 0,
            "ticks": ""
           }
          },
          "colorscale": {
           "diverging": [
            [
             0,
             "#8e0152"
            ],
            [
             0.1,
             "#c51b7d"
            ],
            [
             0.2,
             "#de77ae"
            ],
            [
             0.3,
             "#f1b6da"
            ],
            [
             0.4,
             "#fde0ef"
            ],
            [
             0.5,
             "#f7f7f7"
            ],
            [
             0.6,
             "#e6f5d0"
            ],
            [
             0.7,
             "#b8e186"
            ],
            [
             0.8,
             "#7fbc41"
            ],
            [
             0.9,
             "#4d9221"
            ],
            [
             1,
             "#276419"
            ]
           ],
           "sequential": [
            [
             0,
             "#0d0887"
            ],
            [
             0.1111111111111111,
             "#46039f"
            ],
            [
             0.2222222222222222,
             "#7201a8"
            ],
            [
             0.3333333333333333,
             "#9c179e"
            ],
            [
             0.4444444444444444,
             "#bd3786"
            ],
            [
             0.5555555555555556,
             "#d8576b"
            ],
            [
             0.6666666666666666,
             "#ed7953"
            ],
            [
             0.7777777777777778,
             "#fb9f3a"
            ],
            [
             0.8888888888888888,
             "#fdca26"
            ],
            [
             1,
             "#f0f921"
            ]
           ],
           "sequentialminus": [
            [
             0,
             "#0d0887"
            ],
            [
             0.1111111111111111,
             "#46039f"
            ],
            [
             0.2222222222222222,
             "#7201a8"
            ],
            [
             0.3333333333333333,
             "#9c179e"
            ],
            [
             0.4444444444444444,
             "#bd3786"
            ],
            [
             0.5555555555555556,
             "#d8576b"
            ],
            [
             0.6666666666666666,
             "#ed7953"
            ],
            [
             0.7777777777777778,
             "#fb9f3a"
            ],
            [
             0.8888888888888888,
             "#fdca26"
            ],
            [
             1,
             "#f0f921"
            ]
           ]
          },
          "colorway": [
           "#636efa",
           "#EF553B",
           "#00cc96",
           "#ab63fa",
           "#FFA15A",
           "#19d3f3",
           "#FF6692",
           "#B6E880",
           "#FF97FF",
           "#FECB52"
          ],
          "font": {
           "color": "#2a3f5f"
          },
          "geo": {
           "bgcolor": "white",
           "lakecolor": "white",
           "landcolor": "#E5ECF6",
           "showlakes": true,
           "showland": true,
           "subunitcolor": "white"
          },
          "hoverlabel": {
           "align": "left"
          },
          "hovermode": "closest",
          "mapbox": {
           "style": "light"
          },
          "paper_bgcolor": "white",
          "plot_bgcolor": "#E5ECF6",
          "polar": {
           "angularaxis": {
            "gridcolor": "white",
            "linecolor": "white",
            "ticks": ""
           },
           "bgcolor": "#E5ECF6",
           "radialaxis": {
            "gridcolor": "white",
            "linecolor": "white",
            "ticks": ""
           }
          },
          "scene": {
           "xaxis": {
            "backgroundcolor": "#E5ECF6",
            "gridcolor": "white",
            "gridwidth": 2,
            "linecolor": "white",
            "showbackground": true,
            "ticks": "",
            "zerolinecolor": "white"
           },
           "yaxis": {
            "backgroundcolor": "#E5ECF6",
            "gridcolor": "white",
            "gridwidth": 2,
            "linecolor": "white",
            "showbackground": true,
            "ticks": "",
            "zerolinecolor": "white"
           },
           "zaxis": {
            "backgroundcolor": "#E5ECF6",
            "gridcolor": "white",
            "gridwidth": 2,
            "linecolor": "white",
            "showbackground": true,
            "ticks": "",
            "zerolinecolor": "white"
           }
          },
          "shapedefaults": {
           "line": {
            "color": "#2a3f5f"
           }
          },
          "ternary": {
           "aaxis": {
            "gridcolor": "white",
            "linecolor": "white",
            "ticks": ""
           },
           "baxis": {
            "gridcolor": "white",
            "linecolor": "white",
            "ticks": ""
           },
           "bgcolor": "#E5ECF6",
           "caxis": {
            "gridcolor": "white",
            "linecolor": "white",
            "ticks": ""
           }
          },
          "title": {
           "x": 0.05
          },
          "xaxis": {
           "automargin": true,
           "gridcolor": "white",
           "linecolor": "white",
           "ticks": "",
           "title": {
            "standoff": 15
           },
           "zerolinecolor": "white",
           "zerolinewidth": 2
          },
          "yaxis": {
           "automargin": true,
           "gridcolor": "white",
           "linecolor": "white",
           "ticks": "",
           "title": {
            "standoff": 15
           },
           "zerolinecolor": "white",
           "zerolinewidth": 2
          }
         }
        },
        "title": {
         "text": "Real vs. Synthetic Data for column 'form_unit_disp'"
        },
        "xaxis": {
         "anchor": "y",
         "domain": [
          0,
          1
         ],
         "title": {
          "text": "Category"
         }
        },
        "yaxis": {
         "anchor": "x",
         "domain": [
          0,
          1
         ],
         "title": {
          "text": "Frequency"
         }
        }
       }
      },
      "text/html": [
       "<div>                            <div id=\"eba2ff10-6f47-4bb8-9a69-07de7bb6c81b\" class=\"plotly-graph-div\" style=\"height:525px; width:100%;\"></div>            <script type=\"text/javascript\">                require([\"plotly\"], function(Plotly) {                    window.PLOTLYENV=window.PLOTLYENV || {};                                    if (document.getElementById(\"eba2ff10-6f47-4bb8-9a69-07de7bb6c81b\")) {                    Plotly.newPlot(                        \"eba2ff10-6f47-4bb8-9a69-07de7bb6c81b\",                        [{\"alignmentgroup\":\"True\",\"bingroup\":\"x\",\"histnorm\":\"probability density\",\"hovertemplate\":\"\\u003cb\\u003eReal\\u003c\\u002fb\\u003e\\u003cbr\\u003eFrequency: %{y}\\u003cextra\\u003e\\u003c\\u002fextra\\u003e\",\"legendgroup\":\"Real\",\"marker\":{\"color\":\"#000036\",\"pattern\":{\"shape\":\"\"}},\"name\":\"Real\",\"offsetgroup\":\"Real\",\"orientation\":\"v\",\"showlegend\":true,\"x\":[\"VIAL\",\"mL\",\"mL\",\"TAB\",\"BAG\",\"BTL\",\"TAB\",\"BAG\",\"VIAL\",\"VIAL\",\"BAG\",\"TAB\",\"BTL\",\"mL\",\"BAG\",\"mL\",\"ml\",\"ml\",\"UDCUP\",\"ml\",\"BAG\",\"mL\",\"CAP\",\"mL\",\"TAB\",\"mL\",\"TAB\",\"SYR\",\"BAG\",\"UDCUP\",\"TAB\",\"BTL\",\"BAG\",\"VIAL\",\"SYR\",\"TAB\",\"BAG\",\"mL\",\"ml\",\"BAG\",\"VIAL\",\"mL\",\"VIAL\",\"VIAL\",\"TAB\",\"BAG\",\"BAG\",\"TAB\",\"VIAL\",\"VIAL\",\"mL\",\"BTL\",\"ml\",\"TAB\",\"VIAL\",\"PKT\",\"VIAL\",\"VIAL\",\"TAB\",\"ml\",\"BAG\",\"g\",\"mL\",\"BAG\",\"TAB\",\"TAB\",\"SUPP\",\"SYR\",\"VIAL\",\"BTL\",\"TAB\",\"BAG\",\"VIAL\",\"UDCUP\",\"ml\",\"VIAL\",\"SUPP\",\"PKT\",\"VIAL\",\"TAB\",\"SYR\",\"TAB\",\"TAB\",\"UDCUP\",\"mL\",\"TAB\",\"BAG\",\"Appl\",\"mL\",\"VIAL\",\"AMP\",\"PKT\",\"mL\",\"ml\",\"BAG\",\"CAP\",\"ml\",\"TAB\",\"VIAL\",\"SYR\",\"PKT\",\"SYR\",\"TAB\",\"VIAL\",\"BAG\",\"mL\",\"VIAL\",\"VIAL\",\"TAB\",\"mL\",\"mL\",\"BAG\",\"mL\",\"CAP\",\"VIAL\",\"CAP\",\"TAB\",\"ml\",\"CAP\",\"mL\",\"TAB\",\"TAB\",\"BTL\",\"mL\",\"TAB\",\"TAB\",\"UDCUP\",\"TAB\",\"UDCUP\",\"ml\",\"CAP\",\"TAB\",\"CAP\",\"TAB\",\"TAB\",\"TAB\",\"TAB\",\"VIAL\",\"TAB\",\"BAG\",\"VIAL\",\"BAG\",\"mL\",\"BAG\",\"PKT\",\"ml\",\"TAB\",\"VIAL\",\"SYR\",\"TAB\",\"TAB\",\"BAG\",\"VIAL\",\"ml\",\"VIAL\",\"VIAL\",\"TAB\",\"TAB\",\"SYR\",\"VIAL\",\"VIAL\",\"VIAL\",\"TAB\",\"SYR\",\"VIAL\",\"mL\",\"SUPP\",\"BAG\",\"TAB\",\"VIAL\",\"TAB\",\"ml\",\"TAB\",\"TAB\",\"TAB\",\"VIAL\",\"mL\",\"BAG\",\"TAB\",\"TAB\",\"UDCUP\",\"SYR\",\"mL\",\"VIAL\",\"BAG\",\"BAG\",\"UDCUP\",\"BAG\",\"CAP\",\"VIAL\",\"mL\",\"VIAL\",\"mL\",\"TAB\",\"TAB\",\"VIAL\",\"VIAL\",\"TAB\",\"ml\",\"VIAL\",\"BAG\",\"UDCUP\",\"TAB\",\"TAB\",\"TAB\",\"SYR\",\"INH\",\"SYR\",\"VIAL\",\"mL\",\"BAG\",\"mL\",\"mL\",\"TAB\",\"mL\",\"VIAL\",\"BAG\",\"VIAL\",\"CAP\",\"ml\",\"TAB\",\"mL\",\"TAB\",\"BAG\",\"VIAL\",\"ml\",\"VIAL\",\"TAB\",\"TAB\",\"TAB\",\"BAG\",\"CAP\",\"VIAL\",\"BAG\",\"SYR\",\"BAG\",\"TAB\",\"mL\",\"VIAL\",\"BAG\",\"ml\",\"mL\",\"mL\",\"TAB\",\"SYR\",\"ml\",\"BAG\",\"VIAL\",\"mL\",\"mL\",\"mL\",\"mL\",\"TAB\",\"BAG\",\"TAB\",\"PKT\",\"CAN\",\"mL\",\"ml\",\"SYR\",\"VIAL\",\"PKT\",\"BTL\",\"ml\",\"BTL\",\"BAG\",\"TAB\",\"VIAL\",\"VIAL\",\"CAP\",\"CAP\",\"CAP\",\"VIAL\",\"BAG\",\"TAB\",\"BAG\",\"ml\",\"TAB\",\"VIAL\",\"ml\",\"TAB\",\"TAB\",\"TAB\",\"TAB\",\"mL\",\"mL\",\"SYR\",\"ml\",\"TAB\",\"mL\",\"CAP\",\"SYR\",\"TAB\",\"CAP\",\"mL\",\"mL\",\"TUBE\",\"BAG\",\"SYR\",\"VIAL\",\"VIAL\",\"BAG\",\"SYR\",\"mL\",\"TAB\",\"UDCUP\",\"SYR\",\"SYR\",\"BAG\",\"ml\",\"TAB\",\"ml\",\"mL\",\"ml\",\"VIAL\",\"TAB\",\"UDCUP\",\"SYR\",\"TAB\",\"BTL\",\"mL\",\"BAG\",\"TAB\",\"BAG\",\"ml\",\"BAG\",\"UDCUP\",\"ml\",\"BAG\",\"VIAL\",\"TAB\",\"TAB\",\"VIAL\",\"TAB\",\"TUBE\",\"mL\",\"VIAL\",\"CAP\",\"SYR\",\"TAB\",\"TAB\",\"SYR\",\"CAP\",\"UDCUP\",\"mL\",\"SYR\",\"ml\",\"TAB\",\"ml\",\"TAB\",\"TAB\",\"VIAL\",\"BAG\",\"mL\",\"BAG\",\"BAG\",\"TAB\",\"TAB\",\"SYR\",\"mL\",\"SYR\",\"VIAL\",\"AMP\",\"PTCH\",\"VIAL\",\"ml\",\"BAG\",\"CAP\",\"BAG\",\"mL\",\"ml\",\"AMP\",\"BAG\",\"BTL\",\"CAP\",\"ml\",\"SYR\",\"TAB\",\"mL\",\"ml\",\"TAB\",\"CAP\",\"mL\",\"BTL\",\"ml\",\"VIAL\",\"mL\",\"TAB\",\"CAP\",\"TAB\",\"TAB\",\"ml\",\"CAP\",\"ml\",\"UDCUP\",\"AMP\",\"mL\",\"VIAL\",\"mL\",\"BAG\",\"TAB\",\"ml\",\"VIAL\",\"VIAL\",\"TAB\",\"ml\",\"TAB\",\"TAB\",\"CAP\",\"TAB\",\"VIAL\",\"BAG\",\"ml\",\"VIAL\",\"TAB\",\"CAP\",\"ml\",\"VIAL\",\"VIAL\",\"TAB\",\"BAG\",\"mL\",\"VIAL\",\"TAB\",\"TAB\",\"TAB\",\"VIAL\",\"TAB\",\"SYR\",\"TAB\",\"BAG\",\"mL\",\"SUPP\",\"VIAL\",\"BAG\",\"SYR\",\"ml\",\"mL\",\"LOZ\",\"TAB\",\"SYR\",\"TAB\",\"SYR\",\"SYR\",\"TAB\",\"TAB\",\"ml\",\"ml\",\"mL\",\"mL\",\"TAB\",\"mL\",\"VIAL\",\"TAB\",\"VIAL\",\"mL\",\"VIAL\",\"BAG\",\"ml\",\"NEB\",\"TAB\",\"TUBE\",\"BAG\",\"CAP\",\"UDCUP\",\"TAB\",\"BAG\",\"VIAL\",\"VIAL\",\"TAB\",\"BAG\",\"VIAL\",\"TAB\",\"VIAL\",\"BAG\",\"TAB\",\"UDCUP\",\"ml\",\"TAB\",\"VIAL\",\"VIAL\",\"VIAL\",\"TAB\",\"UDCUP\",\"TAB\",\"mL\",\"TAB\",\"VIAL\",\"SYR\",\"BAG\",\"TAB\",\"SYR\",\"TAB\",\"VIAL\",\"ml\",\"VIAL\",\"TAB\",\"BAG\",\"BAG\",\"ml\",\"UDCUP\",\"VIAL\",\"VIAL\",\"TAB\",\"SYR\",\"CAP\",\"TAB\",\"BTL\",\"ml\",\"DBTL\",\"TAB\",\"BAG\",\"mL\",\"TAB\",\"BAG\",\"TAB\",\"VIAL\",\"mL\",\"UDCUP\",\"mL\",\"BAG\",\"CAP\",\"VIAL\",\"VIAL\",\"CAP\",\"VIAL\",\"VIAL\",\"ml\",\"SYR\",\"VIAL\",\"BAG\",\"UDCUP\",\"VIAL\",\"TAB\",\"mL\",\"TAB\",\"TAB\",\"mL\",\"VIAL\",\"ml\",\"VIAL\",\"ml\",\"TAB\",\"PTCH\",\"VIAL\",\"ml\",\"CAP\",\"VIAL\",\"CAP\",\"VIAL\",\"VIAL\",\"VIAL\",\"TAB\",\"PTCH\",\"SYR\",\"TAB\",\"VIAL\",\"VIAL\",\"BAG\",\"ml\",\"TUBE\",\"ml\",\"TAB\",\"PKT\",\"ml\",\"PKT\",\"mL\",\"ml\",\"TAB\",\"mL\",\"TAB\",\"TAB\",\"VIAL\",\"VIAL\",\"UDCUP\",\"INH\",\"AERO\",\"SYR\",\"VIAL\",\"TAB\",\"CAP\",\"SYR\",\"BTL\",\"mL\",\"BAG\",\"BAG\",\"TAB\",\"mL\",\"BAG\",\"SYR\",\"TAB\",\"BAG\",\"TAB\",\"dose\",\"BAG\",\"mL\",\"SYR\",\"TAB\",\"ml\",\"ml\",\"mg\",\"mL\",\"SYR\",\"mL\",\"BAG\",\"TAB\",\"BAG\",\"CAP\",\"g\",\"VIAL\",\"PKT\",\"CAP\",\"TAB\",\"VIAL\",\"TAB\",\"VIAL\",\"UDCUP\",\"BAG\",\"BAG\",\"BAG\",\"ml\",\"BAG\",\"SYR\",\"VIAL\",\"PTCH\",\"BAG\",\"VIAL\",\"VIAL\",\"ml\",\"TAB\",\"CAP\",\"UDCUP\",\"TAB\",\"CAP\",\"BAG\",\"VIAL\",\"ml\",\"BAG\",\"VIAL\",\"VIAL\",\"TAB\",\"TAB\",\"TAB\",\"CAP\",\"ml\",\"TAB\",\"UDCUP\",\"BAG\",\"mL\",\"mL\",\"BAG\",\"KIT\",\"BAG\",\"TAB\",\"VIAL\",\"VIAL\",\"mL\",\"ml\",\"ml\",\"TAB\",\"BTL\",\"BAG\",\"TAB\",\"CAP\",\"BAG\",\"VIAL\",\"CAP\",\"VIAL\",\"BAG\",\"TAB\",\"BAG\",\"VIAL\",\"TAB\",\"VIAL\",\"mL\",\"mL\",\"UDCUP\",\"mL\",\"TAB\",\"mL\",\"AMP\",\"VIAL\",\"TAB\",\"TAB\",\"TAB\",\"ml\",\"ml\",\"CAP\",\"ml\",\"TAB\",\"VIAL\",\"BTL\",\"VIAL\",\"VIAL\",\"mL\",\"TAB\",\"VIAL\",\"CAP\",\"TAB\",\"TAB\",\"ml\",\"VIAL\",\"TAB\",\"VIAL\",\"TAB\",\"TAB\",\"BAG\",\"g\",\"VIAL\",\"TAB\",\"CAP\",\"mL\",\"mL\",\"UDCUP\",\"UDCUP\",\"BAG\",\"BAG\",\"mL\",\"BTL\",\"VIAL\",\"TAB\",\"BAG\",\"TAB\",\"TAB\",\"TAB\",\"SYR\",\"BAG\",\"UDCUP\",\"mL\",\"BAG\",\"SYR\",\"ml\",\"BAG\",\"BAG\",\"BTL\",\"TAB\",\"VIAL\",\"BAG\",\"CAP\",\"VIAL\",\"UDCUP\",\"VIAL\",\"VIAL\",\"TAB\",\"TAB\",\"mL\",\"SYR\",\"CAP\",\"BTL\",\"SYR\",\"VIAL\",\"TUBE\",\"mL\",\"TAB\",\"BTL\",\"VIAL\",\"BAG\",\"TAB\",\"VIAL\",\"BTL\",\"TAB\",\"CAP\",\"SYR\",\"SYR\",\"TAB\",\"ml\",\"TAB\",\"BAG\",\"SYR\",\"mL\",\"mL\",\"UDCUP\",\"CAP\",\"PKT\",\"SYR\",\"PKT\",\"BAG\",\"BAG\",\"mL\",\"mL\",\"VIAL\",\"TAB\",\"BAG\",\"SUPP\",\"mL\",\"TAB\",\"VIAL\",\"CAP\",\"BAG\",\"ml\",\"VIAL\",\"BTL\",\"mL\",\"TAB\",\"mL\",\"VIAL\",\"CAP\",\"BAG\",\"TAB\",\"mL\",\"BAG\",\"TAB\",\"TAB\",\"mL\",\"ml\",\"TAB\",\"mL\",\"BAG\",\"BAG\",\"UDCUP\",\"TAB\",\"SYR\",\"mL\",\"BTL\",\"BAG\",\"PKT\",\"TAB\",\"VIAL\",\"SYR\",\"TAB\",\"TAB\",\"TAB\",\"ml\",\"BAG\",\"TAB\",\"CAP\",\"ml\",\"VIAL\",\"BAG\",\"VIAL\",\"TAB\",\"TAB\",\"TAB\",\"TAB\",\"mL\",\"CAP\",\"BAG\",\"mL\",\"PTCH\",\"TAB\",\"BTL\",\"PKT\",\"mL\",\"VIAL\",\"mL\",\"VIAL\",\"CAN\",\"mL\",\"ml\",\"ml\",\"TAB\",\"ml\",\"TAB\",\"mL\",\"mL\",\"mL\",\"TAB\",\"VIAL\",\"BAG\",\"BAG\",\"PTCH\",\"BAG\",\"TAB\",\"VIAL\",\"SYR\",\"BAG\",\"BAG\",\"UDCUP\",\"BAG\",\"ml\",\"VIAL\",\"TAB\",\"TAB\",\"mL\",\"BAG\",\"mL\",\"TAB\",\"BAG\",\"TAB\",\"TAB\",\"TAB\",\"VIAL\",\"ml\",\"CAP\",\"INH\",\"BAG\",\"VIAL\",\"TAB\",\"BTL\",\"mL\",\"AMP\",\"CAP\",\"TAB\",\"TAB\",\"TAB\",\"BAG\",\"VIAL\",\"TAB\",\"VIAL\",\"TAB\",\"TAB\",\"VIAL\",\"TAB\",\"TAB\",\"SYR\",\"VIAL\",\"mL\",\"TAB\",\"mL\",\"BAG\",\"BAG\",\"CAP\",\"TAB\",\"BAG\",\"CAP\",\"ml\",\"CAP\",\"mL\",\"CAP\",\"TAB\",\"mL\",\"TAB\",\"VIAL\",\"VIAL\",\"mL\",\"ml\",\"ml\",\"ml\",\"VIAL\",\"BAG\",\"TAB\",\"TAB\",\"TAB\",\"BAG\",\"BTL\",\"TAB\",\"TAB\",\"TAB\",\"TAB\",\"VIAL\",\"TAB\",\"VIAL\",\"VIAL\",\"BAG\",\"TAB\",\"TAB\",\"TAB\",\"BTL\",\"ml\",\"BAG\",\"TAB\",\"PKT\",\"mL\",\"mL\",\"SUPP\",\"ml\",\"BAG\",\"mL\",\"SUPP\",\"TAB\",\"BAG\",\"TAB\",\"TAB\",\"SYR\",\"VIAL\",\"VIAL\",\"mL\",\"BAG\",\"CAP\",\"TAB\",\"BAG\",\"CAP\",\"VIAL\",\"SYR\",\"SYR\",\"BAG\",\"ml\",\"BAG\",\"SYR\",\"BAG\",\"TAB\",\"TAB\",\"SYR\",\"VIAL\",\"TAB\",\"ml\",\"VIAL\",\"mL\",\"VIAL\",\"mL\",\"mL\",\"VIAL\",\"SYR\",\"UDCUP\",\"mL\",\"BAG\",\"BAG\",\"UDCUP\",\"TAB\",\"TAB\",\"BAG\",\"SYR\",\"ml\",\"TAB\",\"TAB\",\"TAB\",\"ml\",\"TUBE\",\"mL\",\"BAG\",\"BAG\",\"TAB\",\"VIAL\",\"VIAL\",\"VIAL\",\"mL\",\"VIAL\",\"TAB\",\"VIAL\",\"VIAL\",\"VIAL\",\"mL\",\"mL\",\"VIAL\",\"BAG\",\"CAP\",\"TAB\",\"TAB\",\"TAB\",\"TAB\",\"BAG\",\"SYR\",\"VIAL\",\"TAB\",\"TAB\",\"ml\",\"VIAL\",\"TAB\",\"VIAL\",\"VIAL\",\"ml\",\"CAP\",\"SYR\",\"mL\",\"SYR\",\"TAB\",\"BAG\",\"ml\",\"SYR\",\"ml\",\"BAG\",\"TAB\",\"ml\",\"ml\",\"BAG\",\"BAG\",\"BTL\",\"mL\",\"mL\",\"VIAL\",\"VIAL\",\"VIAL\",\"BAG\",\"mL\",\"PTCH\",\"UDCUP\",\"VIAL\",\"TAB\",\"BAG\",\"VIAL\",\"ml\",\"VIAL\",\"BAG\",\"TAB\",\"VIAL\",\"VIAL\",\"TAB\",\"SYR\",\"ml\",\"VIAL\",\"TAB\",\"CAP\",\"CAP\",\"ml\",\"ml\",\"VIAL\",\"BAG\",\"ml\",\"VIAL\",\"VIAL\",\"CAP\",\"TAB\",\"VIAL\",\"TAB\",\"SYR\",\"VIAL\",\"TAB\",\"VIAL\",\"BAG\",\"TAB\",\"VIAL\",\"mL\",\"mL\",\"mL\",\"TAB\",\"BAG\",\"TAB\",\"ml\",\"TAB\",\"VIAL\",\"TAB\",\"mL\",\"VIAL\",\"mL\",\"VIAL\",\"TAB\",\"BAG\",\"TAB\",\"VIAL\",\"VIAL\",\"ml\",\"ml\",\"CAP\",\"mL\",\"mL\",\"TAB\",\"mL\",\"BAG\",\"mL\",\"BAG\",\"mL\",\"VIAL\",\"ml\",\"TAB\",\"ml\",\"SYR\",\"TAB\",\"VIAL\",\"BAG\",\"TAB\",\"TAB\",\"PKT\",\"VIAL\",\"mL\",\"VIAL\",\"BAG\",\"VIAL\",\"mL\",\"ml\",\"BTL\",\"UDCUP\",\"BAG\",\"VIAL\",\"PKT\",\"TAB\",\"VIAL\",\"VIAL\",\"mL\",\"mL\",\"AMP\",\"ml\",\"TAB\",\"SYR\",\"VIAL\",\"mL\",\"TAB\",\"BAG\",\"AMP\",\"CAP\",\"ml\",\"TAB\",\"CAP\",\"TAB\",\"VIAL\",\"PKT\",\"TAB\",\"mL\",\"VIAL\",\"BAG\",\"BAG\",\"BAG\",\"mL\",\"VIAL\",\"SYR\",\"TAB\",\"mL\",\"ml\",\"TAB\",\"TAB\",\"VIAL\",\"DBTL\",\"TAB\",\"BTL\",\"TAB\",\"VIAL\",\"BAG\",\"ml\",\"NEB\",\"BAG\",\"ml\",\"CAP\",\"TAB\",\"TAB\",\"VIAL\",\"TAB\",\"ml\",\"VIAL\",\"TAB\",\"SYR\",\"SYR\",\"mL\",\"TAB\",\"VIAL\",\"CAP\",\"mL\",\"ml\",\"SYR\",\"CAP\",\"TAB\",\"VIAL\",\"BAG\",\"SYR\",\"VIAL\",\"ml\",\"VIAL\",\"BAG\",\"TUBE\",\"TAB\",\"CAP\",\"TAB\",\"TAB\",\"VIAL\",\"SUPP\",\"TAB\",\"TAB\",\"BAG\",\"VIAL\",\"VIAL\",\"BAG\",\"VIAL\",\"TAB\",\"CAP\",\"BAG\",\"VIAL\",\"TAB\",\"BAG\",\"SYR\",\"BAG\",\"ml\",\"mg\",\"BTL\",\"mL\",\"VIAL\",\"mL\",\"mL\",\"VIAL\",\"CAP\",\"TAB\",\"CAP\",\"BAG\",\"BAG\",\"SYR\",\"BAG\",\"mL\",\"BAG\",\"VIAL\",\"CAP\",\"TAB\",\"TAB\",\"TAB\",\"BAG\",\"TAB\",\"VIAL\",\"VIAL\",\"TAB\",\"TAB\",\"VIAL\",\"BTL\",\"ml\",\"VIAL\",\"mL\",\"SYR\",\"SYR\",\"mL\",\"VIAL\",\"ml\",\"ml\",\"TAB\",\"BAG\",\"TAB\",\"ml\",\"VIAL\",\"TAB\",\"VIAL\",\"VIAL\",\"BAG\",\"TAB\",\"SYR\",\"CAP\",\"mL\",\"mL\",\"VIAL\",\"mL\",\"mL\",\"CAP\",\"BAG\",\"VIAL\",\"VIAL\",\"BAG\",\"TAB\",\"CAP\",\"CAP\",\"TAB\",\"BAG\",\"BAG\",\"mL\",\"TAB\",\"TAB\",\"TAB\",\"BAG\",\"mL\",\"ml\",\"PKT\",\"BAG\",\"mL\",\"TAB\",\"VIAL\",\"VIAL\",\"ml\",\"PKT\",\"TAB\",\"BAG\",\"mL\",\"VIAL\",\"TAB\",\"TAB\",\"TAB\",\"VIAL\",\"mL\",\"ml\",\"TAB\",\"TAB\",\"TAB\",\"mL\",\"SYR\",\"BAG\",\"UDCUP\",\"BAG\",\"TAB\",\"CAP\",\"VIAL\",\"TAB\",\"VIAL\",\"TAB\",\"ml\",\"VIAL\",\"VIAL\",\"ml\",\"ml\",\"TUBE\",\"AMP\",\"ml\",\"TAB\",\"ml\",\"SYR\",\"CAP\",\"VIAL\",\"VIAL\",\"TAB\",\"TAB\",\"SYR\",\"SYR\",\"ml\",\"TAB\",\"VIAL\",\"BAG\",\"CAP\",\"SUPP\",\"VIAL\",\"TAB\",\"UDCUP\",\"VIAL\",\"mL\",\"mL\",\"BAG\",\"BAG\",\"VIAL\",\"SYR\",\"mL\",\"TAB\",\"VIAL\",\"BAG\",\"TAB\",\"SYR\",\"TAB\",\"CAP\",\"ml\",\"ml\",\"ml\",\"BAG\"],\"xaxis\":\"x\",\"yaxis\":\"y\",\"type\":\"histogram\"},{\"alignmentgroup\":\"True\",\"bingroup\":\"x\",\"histnorm\":\"probability density\",\"hovertemplate\":\"\\u003cb\\u003eSynthetic\\u003c\\u002fb\\u003e\\u003cbr\\u003eFrequency: %{y}\\u003cextra\\u003e\\u003c\\u002fextra\\u003e\",\"legendgroup\":\"Synthetic\",\"marker\":{\"color\":\"#01E0C9\",\"pattern\":{\"shape\":\"\\u002f\"}},\"name\":\"Synthetic\",\"offsetgroup\":\"Synthetic\",\"orientation\":\"v\",\"showlegend\":true,\"x\":[\"TAB\",\"ml\",\"VIAL\",\"BAG\",\"BAG\",\"ml\",\"BAG\",\"mL\",\"BAG\",\"BAG\",\"mL\",\"TAB\",\"TAB\",\"TAB\",\"VIAL\",\"BAG\",\"SYR\",\"ml\",\"BAG\",\"ml\",\"TAB\",\"mL\",\"VIAL\",\"SYR\",\"VIAL\",\"BAG\",\"PKT\",\"BAG\",\"mL\",\"SYR\",\"DROP\",\"TAB\",\"BAG\",\"VIAL\",\"mL\",\"BAG\",\"DROP\",\"SYR\",\"VIAL\",\"UDCUP\",\"mL\",\"VIAL\",\"BAG\",\"TAB\",\"TAB\",\"BAG\",\"TAB\",\"VIAL\",\"BAG\",\"mL\",\"BAG\",\"mL\",\"mL\",\"AMP\",\"TAB\",\"VIAL\",\"CAP\",\"mL\",\"BAG\",\"VIAL\",\"mL\",\"BAG\",\"BAG\",\"TAB\",\"mL\",\"mL\",\"TAB\",\"TAB\",\"BAG\",\"VIAL\",\"BTL\",\"TAB\",\"BAG\",\"mL\",\"ml\",\"mL\",\"VIAL\",\"SYR\",\"mL\",\"mL\",\"TAB\",\"VIAL\",\"BAG\",\"VIAL\",\"mL\",\"mL\",\"PKT\",\"VIAL\",\"mL\",\"mL\",\"TAB\",\"VIAL\",\"SYR\",\"TAB\",\"mL\",\"TAB\",\"mL\",\"TAB\",\"TAB\",\"VIAL\",\"UDCUP\",\"mL\",\"ml\",\"VIAL\",\"BAG\",\"VIAL\",\"ml\",\"ml\",\"BAG\",\"BTL\",\"VIAL\",\"mL\",\"SYR\",\"VIAL\",\"VIAL\",\"ml\",\"ml\",\"CAP\",\"TAB\",\"BAG\",\"ml\",\"mL\",\"mL\",\"TAB\",\"DROP\",\"mL\",\"SYR\",\"ml\",\"SYR\",\"TAB\",\"BAG\",\"TAB\",\"SYR\",\"VIAL\",\"mL\",\"ml\",\"TAB\",\"BAG\",\"SYR\",\"BAG\",\"SYR\",\"BAG\",\"ml\",\"SYR\",\"ml\",\"VIAL\",\"TAB\",\"VIAL\",\"TAB\",\"VIAL\",\"BAG\",\"VIAL\",\"SYR\",\"BAG\",\"SYR\",\"mL\",\"BAG\",\"VIAL\",\"UDCUP\",\"BAG\",\"VIAL\",\"TAB\",\"BAG\",\"ml\",\"BAG\",\"ml\",\"SYR\",\"UDCUP\",\"BAG\",\"BAG\",\"SYR\",\"BAG\",\"SYR\",\"VIAL\",\"TAB\",\"VIAL\",\"BAG\",\"VIAL\",\"VIAL\",\"INH\",\"ml\",\"ml\",\"TAB\",\"SYR\",\"mL\",\"VIAL\",\"TAB\",\"TAB\",\"BAG\",\"SYR\",\"PKT\",\"TAB\",\"BAG\",\"ml\",\"TAB\",\"CAP\",\"BAG\",\"TAB\",\"TAB\",\"TAB\",\"mL\",\"VIAL\",\"TAB\",\"SYR\",\"VIAL\",\"TAB\",\"SYR\",\"mL\",\"TAB\",\"SYR\",\"TAB\",\"mL\",\"TAB\",\"mL\",\"mL\",\"TAB\",\"SYR\",\"BAG\",\"BAG\",\"BAG\",\"mL\",\"UDCUP\",\"VIAL\",\"TAB\",\"TAB\",\"mL\",\"ml\",\"VIAL\",\"VIAL\",\"TUBE\",\"ml\",\"VIAL\",\"VIAL\",\"BAG\",\"TAB\",\"mL\",\"mL\",\"BAG\",\"VIAL\",\"DROP\",\"TAB\",\"CAP\",\"mL\",\"CAP\",\"mL\",\"BAG\",\"mL\",\"BAG\",\"VIAL\",\"BAG\",\"TAB\",\"mL\",\"ml\",\"mL\",\"SYR\",\"BAG\",\"BAG\",\"BAG\",\"DROP\",\"TAB\",\"VIAL\",\"mL\",\"TAB\",\"mL\",\"TAB\",\"mL\",\"ml\",\"ml\",\"TAB\",\"ml\",\"DROP\",\"DROP\",\"TAB\",\"BAG\",\"BAG\",\"TAB\",\"VIAL\",\"VIAL\",\"VIAL\",\"TAB\",\"UDCUP\",\"BAG\",\"BAG\",\"BAG\",\"BAG\",\"BAG\",\"SYR\",\"DROP\",\"TAB\",\"BAG\",\"BTL\",\"BAG\",\"VIAL\",\"TAB\",\"VIAL\",\"UDCUP\",\"VIAL\",\"mL\",\"SYR\",\"ml\",\"TAB\",\"VIAL\",\"VIAL\",\"VIAL\",\"mL\",\"VIAL\",\"ml\",\"PKT\",\"TAB\",\"ml\",\"BAG\",\"BTL\",\"TAB\",\"CAP\",\"TAB\",\"TAB\",\"ml\",\"VIAL\",\"TAB\",\"TAB\",\"TAB\",\"TAB\",\"VIAL\",\"VIAL\",\"VIAL\",\"TAB\",\"BAG\",\"SYR\",\"TAB\",\"BAG\",\"BAG\",\"BAG\",\"BAG\",\"TAB\",\"mL\",\"VIAL\",\"VIAL\",\"VIAL\",\"BAG\",\"TAB\",\"SYR\",\"DROP\",\"TAB\",\"VIAL\",\"UDCUP\",\"SYR\",\"SYR\",\"VIAL\",\"mL\",\"VIAL\",\"BAG\",\"TAB\",\"ml\",\"mL\",\"TAB\",\"VIAL\",\"CAP\",\"mL\",\"TAB\",\"VIAL\",\"VIAL\",\"mL\",\"ml\",\"SYR\",\"CAP\",\"BAG\",\"BAG\",\"mL\",\"PKT\",\"SYR\",\"mL\",\"TAB\",\"mL\",\"mL\",\"DROP\",\"TAB\",\"TAB\",\"mL\",\"TAB\",\"mL\",\"mL\",\"BTL\",\"VIAL\",\"mL\",\"VIAL\",\"TAB\",\"mL\",\"mL\",\"VIAL\",\"BAG\",\"BAG\",\"TAB\",\"VIAL\",\"TAB\",\"TAB\",\"DROP\",\"DROP\",\"VIAL\",\"CAP\",\"ml\",\"SYR\",\"VIAL\",\"UDCUP\",\"TAB\",\"BAG\",\"TAB\",\"TAB\",\"VIAL\",\"BAG\",\"SYR\",\"TAB\",\"SYR\",\"TAB\",\"VIAL\",\"DROP\",\"VIAL\",\"DROP\",\"mL\",\"VIAL\",\"UDCUP\",\"TAB\",\"TAB\",\"SYR\",\"BAG\",\"VIAL\",\"CAP\",\"VIAL\",\"VIAL\",\"TAB\",\"BAG\",\"VIAL\",\"VIAL\",\"TAB\",\"DROP\",\"mL\",\"ml\",\"VIAL\",\"DROP\",\"UDCUP\",\"TAB\",\"PKT\",\"TAB\",\"TAB\",\"ml\",\"ml\",\"VIAL\",\"UDCUP\",\"ml\",\"SYR\",\"mL\",\"BAG\",\"DROP\",\"BAG\",\"VIAL\",\"VIAL\",\"DROP\",\"BAG\",\"BAG\",\"mL\",\"ml\",\"VIAL\",\"DROP\",\"DROP\",\"BAG\",\"mL\",\"mL\",\"DROP\",\"VIAL\",\"VIAL\",\"TAB\",\"SUPP\",\"PTCH\",\"ml\",\"BAG\",\"VIAL\",\"mL\",\"ml\",\"TAB\",\"TAB\",\"BAG\",\"VIAL\",\"VIAL\",\"TAB\",\"CAP\",\"mL\",\"TAB\",\"BAG\",\"TAB\",\"mL\",\"BAG\",\"mL\",\"SYR\",\"VIAL\",\"mL\",\"TAB\",\"VIAL\",\"BAG\",\"VIAL\",\"BAG\",\"mL\",\"ml\",\"TAB\",\"CAP\",\"SUPP\",\"TAB\",\"UDCUP\",\"VIAL\",\"mL\",\"TAB\",\"VIAL\",\"VIAL\",\"BAG\",\"VIAL\",\"CAP\",\"BTL\",\"mL\",\"mL\",\"VIAL\",\"VIAL\",\"SYR\",\"TAB\",\"BAG\",\"VIAL\",\"VIAL\",\"TAB\",\"BAG\",\"VIAL\",\"TAB\",\"VIAL\",\"mL\",\"TAB\",\"TAB\",\"ml\",\"VIAL\",\"BAG\",\"BAG\",\"TAB\",\"SYR\",\"TAB\",\"DROP\",\"SYR\",\"BAG\",\"TAB\",\"VIAL\",\"VIAL\",\"ml\",\"mL\",\"BAG\",\"mL\",\"VIAL\",\"mL\",\"VIAL\",\"BAG\",\"VIAL\",\"mL\",\"TAB\",\"CAP\",\"TAB\",\"SYR\",\"VIAL\",\"VIAL\",\"TAB\",\"ml\",\"mL\",\"TAB\",\"TAB\",\"VIAL\",\"mL\",\"CAP\",\"TAB\",\"BAG\",\"mL\",\"BAG\",\"mL\",\"VIAL\",\"ml\",\"VIAL\",\"ml\",\"BAG\",\"CAP\",\"ml\",\"BAG\",\"BAG\",\"BAG\",\"TAB\",\"TAB\",\"SYR\",\"VIAL\",\"VIAL\",\"mL\",\"VIAL\",\"DROP\",\"SYR\",\"mL\",\"VIAL\",\"TAB\",\"VIAL\",\"mL\",\"VIAL\",\"UDCUP\",\"SYR\",\"ml\",\"TAB\",\"TAB\",\"ml\",\"VIAL\",\"TAB\",\"BAG\",\"BAG\",\"VIAL\",\"SYR\",\"BAG\",\"mL\",\"mL\",\"ml\",\"mL\",\"ml\",\"mL\",\"BAG\",\"TAB\",\"BAG\",\"VIAL\",\"ml\",\"mL\",\"TAB\",\"TAB\",\"BAG\",\"mL\",\"mL\",\"ml\",\"VIAL\",\"VIAL\",\"PKT\",\"VIAL\",\"TAB\",\"BAG\",\"ml\",\"SYR\",\"SYR\",\"TAB\",\"VIAL\",\"VIAL\",\"TAB\",\"mL\",\"BAG\",\"CAP\",\"TAB\",\"SYR\",\"VIAL\",\"VIAL\",\"TAB\",\"BAG\",\"BAG\",\"DROP\",\"VIAL\",\"TAB\",\"VIAL\",\"TAB\",\"mL\",\"VIAL\",\"VIAL\",\"DROP\",\"ml\",\"BAG\",\"BAG\",\"mL\",\"VIAL\",\"VIAL\",\"BAG\",\"BAG\",\"TAB\",\"BAG\",\"CAP\",\"mL\",\"mL\",\"mL\",\"SYR\",\"BAG\",\"mg\",\"SYR\",\"BAG\",\"BAG\",\"VIAL\",\"VIAL\",\"mL\",\"BAG\",\"VIAL\",\"mL\",\"mL\",\"VIAL\",\"VIAL\",\"VIAL\",\"mL\",\"BTL\",\"DROP\",\"mL\",\"mL\",\"VIAL\",\"SYR\",\"BAG\",\"mL\",\"ml\",\"VIAL\",\"DROP\",\"VIAL\",\"ml\",\"BAG\",\"VIAL\",\"BAG\",\"mL\",\"SYR\",\"mL\",\"TAB\",\"SPRY\",\"BAG\",\"ml\",\"TAB\",\"TAB\",\"ml\",\"TAB\",\"mL\",\"ml\",\"VIAL\",\"ml\",\"SYR\",\"ml\",\"BTL\",\"BAG\",\"mL\",\"TAB\",\"mL\",\"TAB\",\"TAB\",\"VIAL\",\"CAP\",\"BTL\",\"TAB\",\"BAG\",\"VIAL\",\"mL\",\"CAP\",\"TAB\",\"TAB\",\"mL\",\"SYR\",\"TAB\",\"BTL\",\"TUBE\",\"TAB\",\"ml\",\"BTL\",\"SUPP\",\"SYR\",\"VIAL\",\"BAG\",\"BAG\",\"VIAL\",\"SYR\",\"VIAL\",\"ml\",\"BAG\",\"BAG\",\"VIAL\",\"BAG\",\"mL\",\"DROP\",\"VIAL\",\"BAG\",\"TAB\",\"mL\",\"ml\",\"VIAL\",\"ml\",\"mL\",\"VIAL\",\"BAG\",\"mL\",\"VIAL\",\"TAB\",\"TAB\",\"VIAL\",\"SYR\",\"TAB\",\"mL\",\"VIAL\",\"mL\",\"mL\",\"BAG\",\"CAP\",\"TAB\",\"TAB\",\"BAG\",\"VIAL\",\"TAB\",\"DROP\",\"BAG\",\"TAB\",\"BAG\",\"DROP\",\"TAB\",\"mL\",\"CAP\",\"VIAL\",\"BAG\",\"TAB\",\"BAG\",\"mL\",\"mL\",\"ml\",\"VIAL\",\"ml\",\"BAG\",\"DBTL\",\"BAG\",\"VIAL\",\"TAB\",\"TAB\",\"mL\",\"BAG\",\"mL\",\"VIAL\",\"VIAL\",\"mL\",\"TAB\",\"ml\",\"SYR\",\"mL\",\"BAG\",\"BAG\",\"mL\",\"ml\",\"BAG\",\"CAP\",\"BAG\",\"DROP\",\"mL\",\"BAG\",\"BAG\",\"BAG\",\"VIAL\",\"ml\",\"TAB\",\"SYR\",\"VIAL\",\"mL\",\"VIAL\",\"TAB\",\"mL\",\"mL\",\"mL\",\"BAG\",\"UDCUP\",\"TAB\",\"VIAL\",\"TAB\",\"SYR\",\"ml\",\"CAP\",\"mL\",\"BAG\",\"TAB\",\"BAG\",\"mL\",\"mL\",\"TAB\",\"SUPP\",\"VIAL\",\"CAP\",\"VIAL\",\"BAG\",\"TAB\",\"TAB\",\"TAB\",\"TAB\",\"SYR\",\"VIAL\",\"DROP\",\"VIAL\",\"BAG\",\"mL\",\"ml\",\"UDCUP\",\"BAG\",\"TAB\",\"mL\",\"BAG\",\"mL\",\"CAP\",\"BAG\",\"VIAL\",\"ml\",\"VIAL\",\"TAB\",\"SYR\",\"DROP\",\"mL\",\"BAG\",\"ml\",\"DROP\",\"BAG\",\"TAB\",\"TAB\",\"VIAL\",\"mL\",\"VIAL\",\"DROP\",\"VIAL\",\"DROP\",\"VIAL\",\"ml\",\"TAB\",\"VIAL\",\"ml\",\"TAB\",\"TAB\",\"TAB\",\"TAB\",\"VIAL\",\"ml\",\"DROP\",\"BAG\",\"AMP\",\"mL\",\"SUPP\",\"TAB\",\"ml\",\"TAB\",\"VIAL\",\"BAG\",\"VIAL\",\"VIAL\",\"CAP\",\"mL\",\"ml\",\"VIAL\",\"DROP\",\"BAG\",\"PKT\",\"BAG\",\"ml\",\"TAB\",\"PKT\",\"VIAL\",\"VIAL\",\"BAG\",\"VIAL\",\"ml\",\"VIAL\",\"BAG\",\"TAB\",\"BAG\",\"BAG\",\"DROP\",\"DROP\",\"mL\",\"BAG\",\"mL\",\"BAG\",\"ml\",\"VIAL\",\"CAP\",\"mL\",\"VIAL\",\"ml\",\"UDCUP\",\"TAB\",\"TAB\",\"TAB\",\"BAG\",\"mL\",\"mL\",\"TAB\",\"VIAL\",\"BAG\",\"VIAL\",\"ml\",\"VIAL\",\"BAG\",\"TAB\",\"VIAL\",\"mL\",\"TAB\",\"ml\",\"mL\",\"TAB\",\"VIAL\",\"VIAL\",\"TAB\",\"TAB\",\"BAG\",\"TAB\",\"ml\",\"mL\",\"BAG\",\"BTL\",\"VIAL\",\"SYR\",\"mL\",\"mL\",\"BAG\",\"BAG\",\"ml\",\"CAP\",\"DROP\",\"DROP\",\"VIAL\",\"TAB\",\"BTL\",\"TAB\",\"TAB\",\"SYR\",\"BAG\",\"VIAL\",\"VIAL\",\"mL\",\"BAG\",\"BAG\",\"SYR\",\"BAG\",\"PKT\",\"DROP\",\"VIAL\",\"ml\",\"BAG\",\"VIAL\",\"BAG\",\"VIAL\",\"BAG\",\"TAB\",\"UDCUP\",\"mL\",\"ml\",\"mL\",\"mL\",\"VIAL\",\"TAB\",\"BAG\",\"mL\",\"mL\",\"VIAL\",\"TAB\",\"DROP\",\"mL\",\"mL\",\"DROP\",\"ml\",\"TAB\",\"DROP\",\"ml\",\"mL\",\"TAB\",\"ml\",\"BTL\",\"BAG\",\"BAG\",\"BAG\",\"ml\",\"mL\",\"BAG\",\"BAG\",\"BTL\",\"VIAL\",\"TAB\",\"TAB\",\"UDCUP\",\"BAG\",\"VIAL\",\"SYR\",\"VIAL\",\"VIAL\",\"ml\",\"CAP\",\"BAG\",\"CAP\",\"BAG\",\"SYR\",\"BAG\",\"mL\",\"TAB\",\"TAB\",\"ml\",\"ml\",\"ml\",\"mL\",\"BAG\",\"PKT\",\"DROP\",\"VIAL\",\"TAB\",\"VIAL\",\"TAB\",\"VIAL\",\"ml\",\"VIAL\",\"DROP\",\"ml\",\"BAG\",\"TAB\",\"mL\",\"TAB\",\"BAG\",\"VIAL\",\"BAG\",\"SYR\",\"mL\",\"VIAL\",\"VIAL\",\"SYR\",\"SYR\",\"BAG\",\"SYR\",\"ml\",\"SYR\",\"DROP\",\"TAB\",\"TAB\",\"VIAL\",\"BAG\",\"VIAL\",\"ml\",\"VIAL\",\"DROP\",\"VIAL\",\"VIAL\",\"BAG\",\"TAB\",\"VIAL\",\"VIAL\",\"BAG\",\"SYR\",\"BAG\",\"TAB\",\"VIAL\",\"DROP\",\"BAG\",\"mL\",\"ml\",\"ml\",\"VIAL\",\"VIAL\",\"TAB\",\"TAB\",\"ml\",\"PTCH\",\"TAB\",\"TAB\",\"ml\",\"mL\",\"mL\",\"SUPP\",\"TAB\",\"VIAL\",\"SUPP\",\"TAB\",\"mL\",\"mL\",\"VIAL\",\"VIAL\",\"VIAL\",\"PKT\",\"mL\",\"mL\",\"mL\",\"ml\",\"BAG\",\"mL\",\"VIAL\",\"TAB\",\"VIAL\",\"PKT\",\"VIAL\",\"VIAL\",\"SYR\",\"VIAL\",\"BAG\",\"BAG\",\"SYR\",\"SYR\",\"BAG\",\"VIAL\",\"CAP\",\"TAB\",\"TAB\",\"VIAL\",\"TAB\",\"CAP\",\"VIAL\",\"BAG\",\"BAG\",\"BAG\",\"mL\",\"mL\",\"TAB\",\"mL\",\"CAP\",\"BAG\",\"mL\",\"BAG\",\"BAG\",\"BAG\",\"ml\",\"TAB\",\"UDCUP\",\"BAG\",\"ml\",\"ml\",\"BAG\",\"VIAL\",\"VIAL\",\"mL\",\"BAG\",\"VIAL\",\"BAG\",\"TAB\",\"BAG\",\"BAG\",\"CAP\",\"SYR\",\"VIAL\",\"BAG\",\"TAB\",\"mL\",\"VIAL\",\"TAB\",\"VIAL\",\"SYR\",\"SYR\",\"TAB\",\"TAB\",\"VIAL\",\"CAP\",\"ml\",\"TAB\",\"mL\",\"mL\",\"VIAL\",\"ml\",\"BAG\",\"mL\",\"TAB\",\"VIAL\",\"TAB\",\"VIAL\",\"ml\",\"mL\",\"TAB\",\"BAG\",\"BAG\",\"mL\",\"VIAL\",\"DROP\",\"TAB\",\"VIAL\",\"BAG\",\"mL\",\"ml\",\"BAG\",\"ml\",\"ml\",\"TAB\",\"SYR\",\"BAG\",\"VIAL\",\"ml\",\"TAB\",\"VIAL\",\"ml\",\"BAG\",\"VIAL\",\"CAP\",\"VIAL\",\"BAG\",\"BAG\",\"ml\",\"ml\",\"VIAL\",\"CAP\",\"TAB\",\"VIAL\",\"VIAL\",\"ml\",\"VIAL\",\"BAG\",\"VIAL\",\"VIAL\",\"mg\",\"BAG\",\"VIAL\",\"TAB\",\"DROP\",\"BAG\",\"TAB\",\"TAB\",\"TAB\",\"TAB\",\"mL\",\"PKT\",\"ml\",\"TAB\",\"VIAL\",\"DROP\",\"CAP\",\"TAB\",\"BAG\",\"VIAL\",\"TAB\",\"TAB\",\"mL\",\"TAB\",\"BAG\",\"mL\",\"mL\",\"BAG\",\"VIAL\",\"TAB\",\"mL\",\"mL\",\"SYR\",\"CAP\",\"ml\",\"SYR\",\"VIAL\",\"DROP\",\"VIAL\",\"ml\",\"mL\",\"DROP\",\"TAB\",\"TAB\",\"mL\",\"CAP\",\"TAB\",\"VIAL\",\"VIAL\",\"ml\",\"ml\",\"VIAL\",\"VIAL\",\"SUPP\",\"BAG\",\"ml\",\"ml\",\"TAB\",\"VIAL\",\"mL\",\"mL\",\"BAG\",\"VIAL\",\"mL\",\"TAB\",\"VIAL\",\"BAG\",\"TAB\",\"mL\",\"SYR\",\"TAB\",\"BAG\",\"BAG\",\"VIAL\",\"BAG\",\"CAP\",\"TAB\",\"BAG\",\"mL\",\"BAG\",\"dose\",\"DROP\",\"DROP\",\"BAG\",\"TAB\",\"VIAL\",\"BAG\",\"mL\",\"BAG\",\"VIAL\",\"mL\",\"DROP\",\"BAG\",\"ml\",\"TAB\",\"TAB\",\"BAG\",\"VIAL\",\"mL\",\"BAG\",\"TAB\",\"mL\",\"BAG\",\"TAB\",\"BAG\",\"CAP\",\"mL\",\"TAB\",\"VIAL\",\"ml\",\"mL\",\"BAG\",\"TAB\",\"BAG\",\"SYR\"],\"xaxis\":\"x\",\"yaxis\":\"y\",\"type\":\"histogram\"}],                        {\"template\":{\"data\":{\"histogram2dcontour\":[{\"type\":\"histogram2dcontour\",\"colorbar\":{\"outlinewidth\":0,\"ticks\":\"\"},\"colorscale\":[[0.0,\"#0d0887\"],[0.1111111111111111,\"#46039f\"],[0.2222222222222222,\"#7201a8\"],[0.3333333333333333,\"#9c179e\"],[0.4444444444444444,\"#bd3786\"],[0.5555555555555556,\"#d8576b\"],[0.6666666666666666,\"#ed7953\"],[0.7777777777777778,\"#fb9f3a\"],[0.8888888888888888,\"#fdca26\"],[1.0,\"#f0f921\"]]}],\"choropleth\":[{\"type\":\"choropleth\",\"colorbar\":{\"outlinewidth\":0,\"ticks\":\"\"}}],\"histogram2d\":[{\"type\":\"histogram2d\",\"colorbar\":{\"outlinewidth\":0,\"ticks\":\"\"},\"colorscale\":[[0.0,\"#0d0887\"],[0.1111111111111111,\"#46039f\"],[0.2222222222222222,\"#7201a8\"],[0.3333333333333333,\"#9c179e\"],[0.4444444444444444,\"#bd3786\"],[0.5555555555555556,\"#d8576b\"],[0.6666666666666666,\"#ed7953\"],[0.7777777777777778,\"#fb9f3a\"],[0.8888888888888888,\"#fdca26\"],[1.0,\"#f0f921\"]]}],\"heatmap\":[{\"type\":\"heatmap\",\"colorbar\":{\"outlinewidth\":0,\"ticks\":\"\"},\"colorscale\":[[0.0,\"#0d0887\"],[0.1111111111111111,\"#46039f\"],[0.2222222222222222,\"#7201a8\"],[0.3333333333333333,\"#9c179e\"],[0.4444444444444444,\"#bd3786\"],[0.5555555555555556,\"#d8576b\"],[0.6666666666666666,\"#ed7953\"],[0.7777777777777778,\"#fb9f3a\"],[0.8888888888888888,\"#fdca26\"],[1.0,\"#f0f921\"]]}],\"heatmapgl\":[{\"type\":\"heatmapgl\",\"colorbar\":{\"outlinewidth\":0,\"ticks\":\"\"},\"colorscale\":[[0.0,\"#0d0887\"],[0.1111111111111111,\"#46039f\"],[0.2222222222222222,\"#7201a8\"],[0.3333333333333333,\"#9c179e\"],[0.4444444444444444,\"#bd3786\"],[0.5555555555555556,\"#d8576b\"],[0.6666666666666666,\"#ed7953\"],[0.7777777777777778,\"#fb9f3a\"],[0.8888888888888888,\"#fdca26\"],[1.0,\"#f0f921\"]]}],\"contourcarpet\":[{\"type\":\"contourcarpet\",\"colorbar\":{\"outlinewidth\":0,\"ticks\":\"\"}}],\"contour\":[{\"type\":\"contour\",\"colorbar\":{\"outlinewidth\":0,\"ticks\":\"\"},\"colorscale\":[[0.0,\"#0d0887\"],[0.1111111111111111,\"#46039f\"],[0.2222222222222222,\"#7201a8\"],[0.3333333333333333,\"#9c179e\"],[0.4444444444444444,\"#bd3786\"],[0.5555555555555556,\"#d8576b\"],[0.6666666666666666,\"#ed7953\"],[0.7777777777777778,\"#fb9f3a\"],[0.8888888888888888,\"#fdca26\"],[1.0,\"#f0f921\"]]}],\"surface\":[{\"type\":\"surface\",\"colorbar\":{\"outlinewidth\":0,\"ticks\":\"\"},\"colorscale\":[[0.0,\"#0d0887\"],[0.1111111111111111,\"#46039f\"],[0.2222222222222222,\"#7201a8\"],[0.3333333333333333,\"#9c179e\"],[0.4444444444444444,\"#bd3786\"],[0.5555555555555556,\"#d8576b\"],[0.6666666666666666,\"#ed7953\"],[0.7777777777777778,\"#fb9f3a\"],[0.8888888888888888,\"#fdca26\"],[1.0,\"#f0f921\"]]}],\"mesh3d\":[{\"type\":\"mesh3d\",\"colorbar\":{\"outlinewidth\":0,\"ticks\":\"\"}}],\"scatter\":[{\"fillpattern\":{\"fillmode\":\"overlay\",\"size\":10,\"solidity\":0.2},\"type\":\"scatter\"}],\"parcoords\":[{\"type\":\"parcoords\",\"line\":{\"colorbar\":{\"outlinewidth\":0,\"ticks\":\"\"}}}],\"scatterpolargl\":[{\"type\":\"scatterpolargl\",\"marker\":{\"colorbar\":{\"outlinewidth\":0,\"ticks\":\"\"}}}],\"bar\":[{\"error_x\":{\"color\":\"#2a3f5f\"},\"error_y\":{\"color\":\"#2a3f5f\"},\"marker\":{\"line\":{\"color\":\"#E5ECF6\",\"width\":0.5},\"pattern\":{\"fillmode\":\"overlay\",\"size\":10,\"solidity\":0.2}},\"type\":\"bar\"}],\"scattergeo\":[{\"type\":\"scattergeo\",\"marker\":{\"colorbar\":{\"outlinewidth\":0,\"ticks\":\"\"}}}],\"scatterpolar\":[{\"type\":\"scatterpolar\",\"marker\":{\"colorbar\":{\"outlinewidth\":0,\"ticks\":\"\"}}}],\"histogram\":[{\"marker\":{\"pattern\":{\"fillmode\":\"overlay\",\"size\":10,\"solidity\":0.2}},\"type\":\"histogram\"}],\"scattergl\":[{\"type\":\"scattergl\",\"marker\":{\"colorbar\":{\"outlinewidth\":0,\"ticks\":\"\"}}}],\"scatter3d\":[{\"type\":\"scatter3d\",\"line\":{\"colorbar\":{\"outlinewidth\":0,\"ticks\":\"\"}},\"marker\":{\"colorbar\":{\"outlinewidth\":0,\"ticks\":\"\"}}}],\"scattermapbox\":[{\"type\":\"scattermapbox\",\"marker\":{\"colorbar\":{\"outlinewidth\":0,\"ticks\":\"\"}}}],\"scatterternary\":[{\"type\":\"scatterternary\",\"marker\":{\"colorbar\":{\"outlinewidth\":0,\"ticks\":\"\"}}}],\"scattercarpet\":[{\"type\":\"scattercarpet\",\"marker\":{\"colorbar\":{\"outlinewidth\":0,\"ticks\":\"\"}}}],\"carpet\":[{\"aaxis\":{\"endlinecolor\":\"#2a3f5f\",\"gridcolor\":\"white\",\"linecolor\":\"white\",\"minorgridcolor\":\"white\",\"startlinecolor\":\"#2a3f5f\"},\"baxis\":{\"endlinecolor\":\"#2a3f5f\",\"gridcolor\":\"white\",\"linecolor\":\"white\",\"minorgridcolor\":\"white\",\"startlinecolor\":\"#2a3f5f\"},\"type\":\"carpet\"}],\"table\":[{\"cells\":{\"fill\":{\"color\":\"#EBF0F8\"},\"line\":{\"color\":\"white\"}},\"header\":{\"fill\":{\"color\":\"#C8D4E3\"},\"line\":{\"color\":\"white\"}},\"type\":\"table\"}],\"barpolar\":[{\"marker\":{\"line\":{\"color\":\"#E5ECF6\",\"width\":0.5},\"pattern\":{\"fillmode\":\"overlay\",\"size\":10,\"solidity\":0.2}},\"type\":\"barpolar\"}],\"pie\":[{\"automargin\":true,\"type\":\"pie\"}]},\"layout\":{\"autotypenumbers\":\"strict\",\"colorway\":[\"#636efa\",\"#EF553B\",\"#00cc96\",\"#ab63fa\",\"#FFA15A\",\"#19d3f3\",\"#FF6692\",\"#B6E880\",\"#FF97FF\",\"#FECB52\"],\"font\":{\"color\":\"#2a3f5f\"},\"hovermode\":\"closest\",\"hoverlabel\":{\"align\":\"left\"},\"paper_bgcolor\":\"white\",\"plot_bgcolor\":\"#E5ECF6\",\"polar\":{\"bgcolor\":\"#E5ECF6\",\"angularaxis\":{\"gridcolor\":\"white\",\"linecolor\":\"white\",\"ticks\":\"\"},\"radialaxis\":{\"gridcolor\":\"white\",\"linecolor\":\"white\",\"ticks\":\"\"}},\"ternary\":{\"bgcolor\":\"#E5ECF6\",\"aaxis\":{\"gridcolor\":\"white\",\"linecolor\":\"white\",\"ticks\":\"\"},\"baxis\":{\"gridcolor\":\"white\",\"linecolor\":\"white\",\"ticks\":\"\"},\"caxis\":{\"gridcolor\":\"white\",\"linecolor\":\"white\",\"ticks\":\"\"}},\"coloraxis\":{\"colorbar\":{\"outlinewidth\":0,\"ticks\":\"\"}},\"colorscale\":{\"sequential\":[[0.0,\"#0d0887\"],[0.1111111111111111,\"#46039f\"],[0.2222222222222222,\"#7201a8\"],[0.3333333333333333,\"#9c179e\"],[0.4444444444444444,\"#bd3786\"],[0.5555555555555556,\"#d8576b\"],[0.6666666666666666,\"#ed7953\"],[0.7777777777777778,\"#fb9f3a\"],[0.8888888888888888,\"#fdca26\"],[1.0,\"#f0f921\"]],\"sequentialminus\":[[0.0,\"#0d0887\"],[0.1111111111111111,\"#46039f\"],[0.2222222222222222,\"#7201a8\"],[0.3333333333333333,\"#9c179e\"],[0.4444444444444444,\"#bd3786\"],[0.5555555555555556,\"#d8576b\"],[0.6666666666666666,\"#ed7953\"],[0.7777777777777778,\"#fb9f3a\"],[0.8888888888888888,\"#fdca26\"],[1.0,\"#f0f921\"]],\"diverging\":[[0,\"#8e0152\"],[0.1,\"#c51b7d\"],[0.2,\"#de77ae\"],[0.3,\"#f1b6da\"],[0.4,\"#fde0ef\"],[0.5,\"#f7f7f7\"],[0.6,\"#e6f5d0\"],[0.7,\"#b8e186\"],[0.8,\"#7fbc41\"],[0.9,\"#4d9221\"],[1,\"#276419\"]]},\"xaxis\":{\"gridcolor\":\"white\",\"linecolor\":\"white\",\"ticks\":\"\",\"title\":{\"standoff\":15},\"zerolinecolor\":\"white\",\"automargin\":true,\"zerolinewidth\":2},\"yaxis\":{\"gridcolor\":\"white\",\"linecolor\":\"white\",\"ticks\":\"\",\"title\":{\"standoff\":15},\"zerolinecolor\":\"white\",\"automargin\":true,\"zerolinewidth\":2},\"scene\":{\"xaxis\":{\"backgroundcolor\":\"#E5ECF6\",\"gridcolor\":\"white\",\"linecolor\":\"white\",\"showbackground\":true,\"ticks\":\"\",\"zerolinecolor\":\"white\",\"gridwidth\":2},\"yaxis\":{\"backgroundcolor\":\"#E5ECF6\",\"gridcolor\":\"white\",\"linecolor\":\"white\",\"showbackground\":true,\"ticks\":\"\",\"zerolinecolor\":\"white\",\"gridwidth\":2},\"zaxis\":{\"backgroundcolor\":\"#E5ECF6\",\"gridcolor\":\"white\",\"linecolor\":\"white\",\"showbackground\":true,\"ticks\":\"\",\"zerolinecolor\":\"white\",\"gridwidth\":2}},\"shapedefaults\":{\"line\":{\"color\":\"#2a3f5f\"}},\"annotationdefaults\":{\"arrowcolor\":\"#2a3f5f\",\"arrowhead\":0,\"arrowwidth\":1},\"geo\":{\"bgcolor\":\"white\",\"landcolor\":\"#E5ECF6\",\"subunitcolor\":\"white\",\"showland\":true,\"showlakes\":true,\"lakecolor\":\"white\"},\"title\":{\"x\":0.05},\"mapbox\":{\"style\":\"light\"}}},\"xaxis\":{\"anchor\":\"y\",\"domain\":[0.0,1.0],\"title\":{\"text\":\"Category\"}},\"yaxis\":{\"anchor\":\"x\",\"domain\":[0.0,1.0],\"title\":{\"text\":\"Frequency\"}},\"legend\":{\"title\":{\"text\":\"Data\"},\"tracegroupgap\":0},\"margin\":{\"t\":60},\"barmode\":\"group\",\"title\":{\"text\":\"Real vs. Synthetic Data for column 'form_unit_disp'\"},\"plot_bgcolor\":\"#F5F5F8\"},                        {\"responsive\": true}                    ).then(function(){\n",
       "                            \n",
       "var gd = document.getElementById('eba2ff10-6f47-4bb8-9a69-07de7bb6c81b');\n",
       "var x = new MutationObserver(function (mutations, observer) {{\n",
       "        var display = window.getComputedStyle(gd).display;\n",
       "        if (!display || display === 'none') {{\n",
       "            console.log([gd, 'removed!']);\n",
       "            Plotly.purge(gd);\n",
       "            observer.disconnect();\n",
       "        }}\n",
       "}});\n",
       "\n",
       "// Listen for the removal of the full notebook cells\n",
       "var notebookContainer = gd.closest('#notebook-container');\n",
       "if (notebookContainer) {{\n",
       "    x.observe(notebookContainer, {childList: true});\n",
       "}}\n",
       "\n",
       "// Listen for the clearing of the current output cell\n",
       "var outputEl = gd.closest('.output');\n",
       "if (outputEl) {{\n",
       "    x.observe(outputEl, {childList: true});\n",
       "}}\n",
       "\n",
       "                        })                };                });            </script>        </div>"
      ]
     },
     "metadata": {},
     "output_type": "display_data"
    }
   ],
   "source": [
    "from sdv.evaluation.single_table import get_column_plot\n",
    "\n",
    "fig = get_column_plot(\n",
    "    real_data=data,\n",
    "    synthetic_data=syn_data,\n",
    "    column_name='form_unit_disp',\n",
    "    metadata=metadata\n",
    ")\n",
    "\n",
    "fig.show()"
   ]
  },
  {
   "cell_type": "code",
   "execution_count": null,
   "id": "6876a5db",
   "metadata": {},
   "outputs": [],
   "source": []
  }
 ],
 "metadata": {
  "kernelspec": {
   "display_name": "Python 3 (ipykernel)",
   "language": "python",
   "name": "python3"
  },
  "language_info": {
   "codemirror_mode": {
    "name": "ipython",
    "version": 3
   },
   "file_extension": ".py",
   "mimetype": "text/x-python",
   "name": "python",
   "nbconvert_exporter": "python",
   "pygments_lexer": "ipython3",
   "version": "3.10.9"
  }
 },
 "nbformat": 4,
 "nbformat_minor": 5
}
