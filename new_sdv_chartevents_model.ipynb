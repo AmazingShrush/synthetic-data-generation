{
 "cells": [
  {
   "cell_type": "code",
   "execution_count": 19,
   "id": "ccf9abb7",
   "metadata": {},
   "outputs": [],
   "source": [
    "# Ignore warnings\n",
    "import warnings\n",
    "warnings.filterwarnings(\"ignore\")\n"
   ]
  },
  {
   "cell_type": "code",
   "execution_count": 20,
   "id": "e322ac4c",
   "metadata": {},
   "outputs": [],
   "source": [
    "import pandas as pd\n",
    "import numpy as np\n",
    "\n",
    "import commonfunc"
   ]
  },
  {
   "cell_type": "code",
   "execution_count": 21,
   "id": "dc7efd55",
   "metadata": {},
   "outputs": [],
   "source": [
    "data_set_path='C:/Users/shrus/Documents/Synthetic-data-generation/'"
   ]
  },
  {
   "cell_type": "code",
   "execution_count": 22,
   "id": "34dc48ce",
   "metadata": {},
   "outputs": [],
   "source": [
    "chartevents_df = commonfunc.read_csv_no_rowid(data_set_path+\"sampled_data_csv_100/chartevents.csv\")"
   ]
  },
  {
   "cell_type": "code",
   "execution_count": 23,
   "id": "85670b89",
   "metadata": {},
   "outputs": [],
   "source": [
    "chartevents_df = chartevents_df.sample(n=2000)"
   ]
  },
  {
   "cell_type": "markdown",
   "id": "8bf9ddfb",
   "metadata": {},
   "source": [
    "## Data Preprocessing"
   ]
  },
  {
   "cell_type": "code",
   "execution_count": 6,
   "id": "04d7c142",
   "metadata": {},
   "outputs": [],
   "source": [
    "# Drop useless colums\n",
    "chartevents_df.drop(['subject_id', 'hadm_id', 'cgid', 'valuenum', 'valueuom', 'warning', 'error', 'resultstatus', 'stopped'], axis=1, inplace=True)"
   ]
  },
  {
   "cell_type": "code",
   "execution_count": 7,
   "id": "cc0941de",
   "metadata": {},
   "outputs": [],
   "source": [
    "# Drop some null value\n",
    "chartevents_df.dropna(subset=['icustay_id'], inplace=True, axis=0)"
   ]
  },
  {
   "cell_type": "code",
   "execution_count": 8,
   "id": "023f39cc",
   "metadata": {},
   "outputs": [
    {
     "name": "stdout",
     "output_type": "stream",
     "text": [
      "Total columns: 5\n",
      "Total rows: 1998\n",
      "--------------\n",
      "icustay_id     0\n",
      "itemid         0\n",
      "charttime      0\n",
      "storetime      0\n",
      "value         10\n",
      "dtype: int64\n"
     ]
    }
   ],
   "source": [
    "commonfunc.nan_count(chartevents_df)"
   ]
  },
  {
   "cell_type": "code",
   "execution_count": 9,
   "id": "45f04476",
   "metadata": {},
   "outputs": [],
   "source": [
    "chartevents_df['value'].fillna(value='Na', inplace=True)"
   ]
  },
  {
   "cell_type": "code",
   "execution_count": 10,
   "id": "92db36d6",
   "metadata": {},
   "outputs": [
    {
     "data": {
      "text/plain": [
       "icustay_id    float64\n",
       "itemid          int64\n",
       "charttime      object\n",
       "storetime      object\n",
       "value          object\n",
       "dtype: object"
      ]
     },
     "execution_count": 10,
     "metadata": {},
     "output_type": "execute_result"
    }
   ],
   "source": [
    "chartevents_df.dtypes"
   ]
  },
  {
   "cell_type": "code",
   "execution_count": 11,
   "id": "0aac8cd8",
   "metadata": {},
   "outputs": [],
   "source": [
    "\n",
    "\n",
    "chartevents_df['charttime'] = pd.to_datetime(chartevents_df['charttime'])\n",
    "chartevents_df['storetime'] = pd.to_datetime(chartevents_df['storetime'])"
   ]
  },
  {
   "cell_type": "code",
   "execution_count": 12,
   "id": "4d11a083",
   "metadata": {},
   "outputs": [
    {
     "data": {
      "text/plain": [
       "icustay_id           float64\n",
       "itemid                 int64\n",
       "charttime     datetime64[ns]\n",
       "storetime     datetime64[ns]\n",
       "value                 object\n",
       "dtype: object"
      ]
     },
     "execution_count": 12,
     "metadata": {},
     "output_type": "execute_result"
    }
   ],
   "source": [
    "chartevents_df.dtypes"
   ]
  },
  {
   "cell_type": "code",
   "execution_count": 15,
   "id": "b94e9481",
   "metadata": {},
   "outputs": [],
   "source": [
    "icustays_df = commonfunc.read_csv_no_rowid(data_set_path+\"sampled_data_csv_100/icustays.csv\")"
   ]
  },
  {
   "cell_type": "code",
   "execution_count": 16,
   "id": "de634e9c",
   "metadata": {},
   "outputs": [],
   "source": [
    "icu_intime_df = icustays_df.loc[:, ['icustay_id', 'intime']]\n",
    "icu_intime_df['intime'] = pd.to_datetime(icu_intime_df['intime'])"
   ]
  },
  {
   "cell_type": "code",
   "execution_count": 17,
   "id": "6c2e6b4f",
   "metadata": {},
   "outputs": [],
   "source": [
    "chartevents_mid_df = pd.merge(left=chartevents_df, right=icu_intime_df, how='left', on=['icustay_id'])"
   ]
  },
  {
   "cell_type": "code",
   "execution_count": 18,
   "id": "a7626ef4",
   "metadata": {},
   "outputs": [
    {
     "data": {
      "text/plain": [
       "icustay_id           float64\n",
       "itemid                 int64\n",
       "charttime     datetime64[ns]\n",
       "storetime     datetime64[ns]\n",
       "value                 object\n",
       "intime        datetime64[ns]\n",
       "dtype: object"
      ]
     },
     "execution_count": 18,
     "metadata": {},
     "output_type": "execute_result"
    }
   ],
   "source": [
    "chartevents_mid_df.dtypes"
   ]
  },
  {
   "cell_type": "code",
   "execution_count": 19,
   "id": "018aaed5",
   "metadata": {},
   "outputs": [],
   "source": [
    "# chartevents_mid_df['storetime'] = chartevents_mid_df.apply(commonfunc.time_process, args=('charttime', 'storetime'), axis=1)\n",
    "# chartevents_mid_df['charttime'] = chartevents_mid_df.apply(commonfunc.time_process, args=('intime', 'charttime'), axis=1)"
   ]
  },
  {
   "cell_type": "code",
   "execution_count": 20,
   "id": "a4d4e240",
   "metadata": {},
   "outputs": [],
   "source": [
    "chartevents_df = chartevents_mid_df.drop(['icustay_id', 'intime'], axis=1)"
   ]
  },
  {
   "cell_type": "code",
   "execution_count": 21,
   "id": "b7644184",
   "metadata": {},
   "outputs": [
    {
     "data": {
      "text/plain": [
       "Index(['itemid', 'charttime', 'storetime', 'value'], dtype='object')"
      ]
     },
     "execution_count": 21,
     "metadata": {},
     "output_type": "execute_result"
    }
   ],
   "source": [
    "chartevents_df.columns"
   ]
  },
  {
   "cell_type": "markdown",
   "id": "cb349bc6",
   "metadata": {},
   "source": [
    "## Metadata"
   ]
  },
  {
   "cell_type": "code",
   "execution_count": 22,
   "id": "4d323fde",
   "metadata": {},
   "outputs": [],
   "source": [
    "from sdv.metadata import SingleTableMetadata\n",
    "\n",
    "metadata = SingleTableMetadata()"
   ]
  },
  {
   "cell_type": "code",
   "execution_count": 24,
   "id": "48a622a3",
   "metadata": {},
   "outputs": [],
   "source": [
    "metadata.detect_from_dataframe(data=chartevents_df)"
   ]
  },
  {
   "cell_type": "code",
   "execution_count": 25,
   "id": "45e10262",
   "metadata": {},
   "outputs": [
    {
     "data": {
      "text/plain": [
       "{\n",
       "    \"columns\": {\n",
       "        \"itemid\": {\n",
       "            \"sdtype\": \"numerical\"\n",
       "        },\n",
       "        \"charttime\": {\n",
       "            \"sdtype\": \"datetime\"\n",
       "        },\n",
       "        \"storetime\": {\n",
       "            \"sdtype\": \"datetime\"\n",
       "        },\n",
       "        \"value\": {\n",
       "            \"sdtype\": \"categorical\"\n",
       "        }\n",
       "    },\n",
       "    \"METADATA_SPEC_VERSION\": \"SINGLE_TABLE_V1\"\n",
       "}"
      ]
     },
     "execution_count": 25,
     "metadata": {},
     "output_type": "execute_result"
    }
   ],
   "source": [
    "metadata"
   ]
  },
  {
   "cell_type": "code",
   "execution_count": 26,
   "id": "b2dbb88e",
   "metadata": {},
   "outputs": [],
   "source": [
    "metadata.update_column(\n",
    "    column_name='itemid',\n",
    "    sdtype='categorical'\n",
    ")"
   ]
  },
  {
   "cell_type": "markdown",
   "id": "42436e94",
   "metadata": {},
   "source": [
    "## Constraints"
   ]
  },
  {
   "cell_type": "code",
   "execution_count": 27,
   "id": "cd59fea2",
   "metadata": {},
   "outputs": [],
   "source": [
    "fixed_constraint = {\n",
    "    'constraint_class': 'FixedCombinations',\n",
    "    'constraint_parameters': {\n",
    "        'column_names': ['itemid', 'value']\n",
    "    }\n",
    "}"
   ]
  },
  {
   "cell_type": "markdown",
   "id": "f347e67a",
   "metadata": {},
   "source": [
    "## Model"
   ]
  },
  {
   "cell_type": "code",
   "execution_count": 28,
   "id": "8250d101",
   "metadata": {},
   "outputs": [],
   "source": [
    "data=chartevents_df"
   ]
  },
  {
   "cell_type": "code",
   "execution_count": 30,
   "id": "7e391d98",
   "metadata": {},
   "outputs": [
    {
     "name": "stderr",
     "output_type": "stream",
     "text": [
      "Sampling rows: 100%|██████████| 1998/1998 [00:00<00:00, 28118.99it/s]\n"
     ]
    }
   ],
   "source": [
    "from sdv.lite import SingleTablePreset\n",
    "\n",
    "synthesizer1 = SingleTablePreset(metadata, name='FAST_ML')\n",
    "\n",
    "\n",
    "synthesizer1.add_constraints(constraints=[\n",
    "    fixed_constraint\n",
    "])\n",
    "synthesizer1.fit(data)\n",
    "\n",
    "synthetic_data1 = synthesizer1.sample(num_rows=len(data))"
   ]
  },
  {
   "cell_type": "code",
   "execution_count": 31,
   "id": "6442742a",
   "metadata": {},
   "outputs": [
    {
     "name": "stderr",
     "output_type": "stream",
     "text": [
      "Sampling rows: 100%|██████████| 1998/1998 [00:00<00:00, 23042.39it/s]\n"
     ]
    }
   ],
   "source": [
    "from sdv.single_table import GaussianCopulaSynthesizer\n",
    "\n",
    "synthesizer2 = GaussianCopulaSynthesizer(metadata)\n",
    "synthesizer2.add_constraints(constraints=[\n",
    "    fixed_constraint\n",
    "])\n",
    "synthesizer2.fit(data)\n",
    "\n",
    "synthetic_data2 = synthesizer2.sample(num_rows=len(data))"
   ]
  },
  {
   "cell_type": "code",
   "execution_count": 32,
   "id": "31f72404",
   "metadata": {},
   "outputs": [
    {
     "name": "stderr",
     "output_type": "stream",
     "text": [
      "Sampling rows: 100%|██████████| 1998/1998 [00:05<00:00, 345.62it/s]\n"
     ]
    }
   ],
   "source": [
    "from sdv.single_table import CTGANSynthesizer\n",
    "\n",
    "synthesizer3 = CTGANSynthesizer(metadata)\n",
    "synthesizer3.add_constraints(constraints=[\n",
    "    fixed_constraint\n",
    "])\n",
    "synthesizer3.fit(data)\n",
    "\n",
    "synthetic_data3 = synthesizer3.sample(num_rows=len(data))"
   ]
  },
  {
   "cell_type": "code",
   "execution_count": 36,
   "id": "5ff62ba2",
   "metadata": {},
   "outputs": [
    {
     "name": "stderr",
     "output_type": "stream",
     "text": [
      "Sampling rows: 100%|██████████| 1998/1998 [00:00<00:00, 4244.99it/s]\n"
     ]
    }
   ],
   "source": [
    "from sdv.single_table import TVAESynthesizer\n",
    "\n",
    "synthesizer4 = TVAESynthesizer(metadata)\n",
    "synthesizer4.add_constraints(constraints=[\n",
    "    fixed_constraint\n",
    "])\n",
    "synthesizer4.fit(data)\n",
    "\n",
    "synthetic_data4 = synthesizer4.sample(num_rows=len(data))"
   ]
  },
  {
   "cell_type": "code",
   "execution_count": 38,
   "id": "6f649c4a",
   "metadata": {},
   "outputs": [
    {
     "name": "stderr",
     "output_type": "stream",
     "text": [
      "Sampling rows: 100%|██████████| 1998/1998 [00:03<00:00, 565.00it/s]\n"
     ]
    }
   ],
   "source": [
    "from sdv.single_table import CopulaGANSynthesizer\n",
    "\n",
    "synthesizer5 = CopulaGANSynthesizer(metadata)\n",
    "synthesizer5.add_constraints(constraints=[\n",
    "    fixed_constraint\n",
    "])\n",
    "synthesizer5.fit(data)\n",
    "\n",
    "synthetic_data5 = synthesizer5.sample(num_rows=len(data))"
   ]
  },
  {
   "cell_type": "markdown",
   "id": "7e7897c0",
   "metadata": {},
   "source": [
    "## Evaluation of performance"
   ]
  },
  {
   "cell_type": "code",
   "execution_count": 33,
   "id": "02352434",
   "metadata": {},
   "outputs": [
    {
     "name": "stderr",
     "output_type": "stream",
     "text": [
      "Creating report: 100%|██████████| 4/4 [00:00<00:00,  5.67it/s]\n"
     ]
    },
    {
     "name": "stdout",
     "output_type": "stream",
     "text": [
      "\n",
      "Overall Quality Score: 64.6%\n",
      "\n",
      "Properties:\n",
      "Column Shapes: 81.66%\n",
      "Column Pair Trends: 47.55%\n"
     ]
    }
   ],
   "source": [
    "from sdv.evaluation.single_table import evaluate_quality\n",
    "\n",
    "quality_report = evaluate_quality(\n",
    "    real_data=data,\n",
    "    synthetic_data=synthetic_data1,\n",
    "    metadata=metadata)"
   ]
  },
  {
   "cell_type": "code",
   "execution_count": 34,
   "id": "9e5a47a9",
   "metadata": {},
   "outputs": [
    {
     "name": "stderr",
     "output_type": "stream",
     "text": [
      "Creating report: 100%|██████████| 4/4 [00:00<00:00,  7.72it/s]\n"
     ]
    },
    {
     "name": "stdout",
     "output_type": "stream",
     "text": [
      "\n",
      "Overall Quality Score: 63.59%\n",
      "\n",
      "Properties:\n",
      "Column Shapes: 81.29%\n",
      "Column Pair Trends: 45.9%\n"
     ]
    }
   ],
   "source": [
    "from sdv.evaluation.single_table import evaluate_quality\n",
    "\n",
    "quality_report = evaluate_quality(\n",
    "    real_data=data,\n",
    "    synthetic_data=synthetic_data2,\n",
    "    metadata=metadata)"
   ]
  },
  {
   "cell_type": "code",
   "execution_count": 35,
   "id": "1d045a27",
   "metadata": {},
   "outputs": [
    {
     "name": "stderr",
     "output_type": "stream",
     "text": [
      "Creating report: 100%|██████████| 4/4 [00:01<00:00,  3.36it/s]\n"
     ]
    },
    {
     "name": "stdout",
     "output_type": "stream",
     "text": [
      "\n",
      "Overall Quality Score: 28.66%\n",
      "\n",
      "Properties:\n",
      "Column Shapes: 45.08%\n",
      "Column Pair Trends: 12.24%\n"
     ]
    }
   ],
   "source": [
    "from sdv.evaluation.single_table import evaluate_quality\n",
    "\n",
    "quality_report = evaluate_quality(\n",
    "    real_data=data,\n",
    "    synthetic_data=synthetic_data3,\n",
    "    metadata=metadata)"
   ]
  },
  {
   "cell_type": "code",
   "execution_count": 37,
   "id": "9a315cae",
   "metadata": {},
   "outputs": [
    {
     "name": "stderr",
     "output_type": "stream",
     "text": [
      "Creating report: 100%|██████████| 4/4 [00:01<00:00,  3.89it/s]\n"
     ]
    },
    {
     "name": "stdout",
     "output_type": "stream",
     "text": [
      "\n",
      "Overall Quality Score: 53.19%\n",
      "\n",
      "Properties:\n",
      "Column Shapes: 66.03%\n",
      "Column Pair Trends: 40.34%\n"
     ]
    }
   ],
   "source": [
    "from sdv.evaluation.single_table import evaluate_quality\n",
    "\n",
    "quality_report = evaluate_quality(\n",
    "    real_data=data,\n",
    "    synthetic_data=synthetic_data4,\n",
    "    metadata=metadata)"
   ]
  },
  {
   "cell_type": "code",
   "execution_count": 39,
   "id": "04c74963",
   "metadata": {},
   "outputs": [
    {
     "name": "stderr",
     "output_type": "stream",
     "text": [
      "Creating report: 100%|██████████| 4/4 [00:00<00:00,  5.92it/s]\n"
     ]
    },
    {
     "name": "stdout",
     "output_type": "stream",
     "text": [
      "\n",
      "Overall Quality Score: 31.92%\n",
      "\n",
      "Properties:\n",
      "Column Shapes: 48.19%\n",
      "Column Pair Trends: 15.65%\n"
     ]
    }
   ],
   "source": [
    "from sdv.evaluation.single_table import evaluate_quality\n",
    "\n",
    "quality_report = evaluate_quality(\n",
    "    real_data=data,\n",
    "    synthetic_data=synthetic_data5,\n",
    "    metadata=metadata)"
   ]
  },
  {
   "cell_type": "code",
   "execution_count": 40,
   "id": "e3858cc6",
   "metadata": {},
   "outputs": [],
   "source": [
    "synthesizer1.save('C:/Users/shrus/Documents/Synthetic-data-generation/models/chartevents/'+'chartevents_best_singletablepreset.pkl')\n"
   ]
  },
  {
   "cell_type": "code",
   "execution_count": 41,
   "id": "2da14bce",
   "metadata": {},
   "outputs": [],
   "source": [
    "synthesizer2.save('C:/Users/shrus/Documents/Synthetic-data-generation/models/chartevents/'+'chartevents_gaussiancopula.pkl')\n"
   ]
  },
  {
   "cell_type": "code",
   "execution_count": 42,
   "id": "47805636",
   "metadata": {},
   "outputs": [],
   "source": [
    "synthesizer3.save('C:/Users/shrus/Documents/Synthetic-data-generation/models/chartevents/'+'chartevents_ctgan.pkl')\n"
   ]
  },
  {
   "cell_type": "code",
   "execution_count": 43,
   "id": "326d3643",
   "metadata": {},
   "outputs": [],
   "source": [
    "synthesizer4.save('C:/Users/shrus/Documents/Synthetic-data-generation/models/chartevents/'+'chartevents_tvae.pkl')\n"
   ]
  },
  {
   "cell_type": "code",
   "execution_count": 44,
   "id": "c1a8707b",
   "metadata": {},
   "outputs": [],
   "source": [
    "synthesizer5.save('C:/Users/shrus/Documents/Synthetic-data-generation/models/chartevents/'+'chartevents_copulagan.pkl')\n"
   ]
  },
  {
   "cell_type": "code",
   "execution_count": null,
   "id": "eee6fc48",
   "metadata": {},
   "outputs": [],
   "source": []
  }
 ],
 "metadata": {
  "kernelspec": {
   "display_name": "Python 3 (ipykernel)",
   "language": "python",
   "name": "python3"
  },
  "language_info": {
   "codemirror_mode": {
    "name": "ipython",
    "version": 3
   },
   "file_extension": ".py",
   "mimetype": "text/x-python",
   "name": "python",
   "nbconvert_exporter": "python",
   "pygments_lexer": "ipython3",
   "version": "3.10.9"
  }
 },
 "nbformat": 4,
 "nbformat_minor": 5
}
