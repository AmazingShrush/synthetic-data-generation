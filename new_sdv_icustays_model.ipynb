{
 "cells": [
  {
   "cell_type": "code",
   "execution_count": 16,
   "id": "9a40443b",
   "metadata": {},
   "outputs": [],
   "source": [
    "# Ignore warnings\n",
    "import warnings\n",
    "warnings.filterwarnings(\"ignore\")"
   ]
  },
  {
   "cell_type": "code",
   "execution_count": 17,
   "id": "f08cf561",
   "metadata": {},
   "outputs": [],
   "source": [
    "import pandas as pd\n",
    "import numpy as np\n",
    "\n",
    "import commonfunc\n"
   ]
  },
  {
   "cell_type": "code",
   "execution_count": 18,
   "id": "00448954",
   "metadata": {},
   "outputs": [],
   "source": [
    "data_set_path='C:/Users/shrus/Documents/Synthetic-data-generation/'"
   ]
  },
  {
   "cell_type": "code",
   "execution_count": 19,
   "id": "db4ef551",
   "metadata": {},
   "outputs": [],
   "source": [
    "icustays_df = commonfunc.read_csv_no_rowid(data_set_path+\"sampled_data_csv_100/icustays.csv\")"
   ]
  },
  {
   "cell_type": "code",
   "execution_count": 20,
   "id": "0729acdf",
   "metadata": {},
   "outputs": [
    {
     "data": {
      "text/html": [
       "<div>\n",
       "<style scoped>\n",
       "    .dataframe tbody tr th:only-of-type {\n",
       "        vertical-align: middle;\n",
       "    }\n",
       "\n",
       "    .dataframe tbody tr th {\n",
       "        vertical-align: top;\n",
       "    }\n",
       "\n",
       "    .dataframe thead th {\n",
       "        text-align: right;\n",
       "    }\n",
       "</style>\n",
       "<table border=\"1\" class=\"dataframe\">\n",
       "  <thead>\n",
       "    <tr style=\"text-align: right;\">\n",
       "      <th></th>\n",
       "      <th>subject_id</th>\n",
       "      <th>hadm_id</th>\n",
       "      <th>icustay_id</th>\n",
       "      <th>dbsource</th>\n",
       "      <th>first_careunit</th>\n",
       "      <th>last_careunit</th>\n",
       "      <th>first_wardid</th>\n",
       "      <th>last_wardid</th>\n",
       "      <th>intime</th>\n",
       "      <th>outtime</th>\n",
       "      <th>los</th>\n",
       "    </tr>\n",
       "  </thead>\n",
       "  <tbody>\n",
       "    <tr>\n",
       "      <th>0</th>\n",
       "      <td>87197</td>\n",
       "      <td>176931</td>\n",
       "      <td>209341</td>\n",
       "      <td>metavision</td>\n",
       "      <td>CCU</td>\n",
       "      <td>CCU</td>\n",
       "      <td>7</td>\n",
       "      <td>7</td>\n",
       "      <td>2109-11-16 08:12:18</td>\n",
       "      <td>2109-11-17 17:39:41</td>\n",
       "      <td>1.3940</td>\n",
       "    </tr>\n",
       "    <tr>\n",
       "      <th>1</th>\n",
       "      <td>1765</td>\n",
       "      <td>145878</td>\n",
       "      <td>254146</td>\n",
       "      <td>carevue</td>\n",
       "      <td>NICU</td>\n",
       "      <td>NICU</td>\n",
       "      <td>56</td>\n",
       "      <td>56</td>\n",
       "      <td>2183-05-09 09:29:55</td>\n",
       "      <td>2183-05-16 19:18:28</td>\n",
       "      <td>7.4087</td>\n",
       "    </tr>\n",
       "    <tr>\n",
       "      <th>2</th>\n",
       "      <td>21269</td>\n",
       "      <td>109697</td>\n",
       "      <td>241691</td>\n",
       "      <td>carevue</td>\n",
       "      <td>MICU</td>\n",
       "      <td>MICU</td>\n",
       "      <td>12</td>\n",
       "      <td>12</td>\n",
       "      <td>2162-10-03 17:03:08</td>\n",
       "      <td>2162-12-01 20:11:22</td>\n",
       "      <td>59.1307</td>\n",
       "    </tr>\n",
       "    <tr>\n",
       "      <th>3</th>\n",
       "      <td>5692</td>\n",
       "      <td>151113</td>\n",
       "      <td>279055</td>\n",
       "      <td>carevue</td>\n",
       "      <td>CSRU</td>\n",
       "      <td>CSRU</td>\n",
       "      <td>12</td>\n",
       "      <td>15</td>\n",
       "      <td>2143-10-31 14:16:32</td>\n",
       "      <td>2143-11-01 19:20:00</td>\n",
       "      <td>1.2107</td>\n",
       "    </tr>\n",
       "    <tr>\n",
       "      <th>4</th>\n",
       "      <td>5692</td>\n",
       "      <td>193147</td>\n",
       "      <td>241135</td>\n",
       "      <td>metavision</td>\n",
       "      <td>CCU</td>\n",
       "      <td>CCU</td>\n",
       "      <td>7</td>\n",
       "      <td>7</td>\n",
       "      <td>2147-12-16 00:00:03</td>\n",
       "      <td>2147-12-17 16:45:54</td>\n",
       "      <td>1.6985</td>\n",
       "    </tr>\n",
       "    <tr>\n",
       "      <th>...</th>\n",
       "      <td>...</td>\n",
       "      <td>...</td>\n",
       "      <td>...</td>\n",
       "      <td>...</td>\n",
       "      <td>...</td>\n",
       "      <td>...</td>\n",
       "      <td>...</td>\n",
       "      <td>...</td>\n",
       "      <td>...</td>\n",
       "      <td>...</td>\n",
       "      <td>...</td>\n",
       "    </tr>\n",
       "    <tr>\n",
       "      <th>133</th>\n",
       "      <td>58667</td>\n",
       "      <td>197356</td>\n",
       "      <td>249803</td>\n",
       "      <td>metavision</td>\n",
       "      <td>MICU</td>\n",
       "      <td>MICU</td>\n",
       "      <td>50</td>\n",
       "      <td>50</td>\n",
       "      <td>2130-08-19 20:03:38</td>\n",
       "      <td>2130-08-20 07:17:43</td>\n",
       "      <td>0.4681</td>\n",
       "    </tr>\n",
       "    <tr>\n",
       "      <th>134</th>\n",
       "      <td>3391</td>\n",
       "      <td>136471</td>\n",
       "      <td>265244</td>\n",
       "      <td>carevue</td>\n",
       "      <td>NICU</td>\n",
       "      <td>NICU</td>\n",
       "      <td>56</td>\n",
       "      <td>56</td>\n",
       "      <td>2143-03-01 19:51:18</td>\n",
       "      <td>2143-03-01 23:53:41</td>\n",
       "      <td>0.1683</td>\n",
       "    </tr>\n",
       "    <tr>\n",
       "      <th>135</th>\n",
       "      <td>31650</td>\n",
       "      <td>137933</td>\n",
       "      <td>282691</td>\n",
       "      <td>carevue</td>\n",
       "      <td>CCU</td>\n",
       "      <td>CCU</td>\n",
       "      <td>7</td>\n",
       "      <td>7</td>\n",
       "      <td>2177-06-07 19:44:18</td>\n",
       "      <td>2177-06-10 15:45:28</td>\n",
       "      <td>2.8341</td>\n",
       "    </tr>\n",
       "    <tr>\n",
       "      <th>136</th>\n",
       "      <td>15895</td>\n",
       "      <td>135286</td>\n",
       "      <td>236445</td>\n",
       "      <td>carevue</td>\n",
       "      <td>CSRU</td>\n",
       "      <td>CSRU</td>\n",
       "      <td>14</td>\n",
       "      <td>14</td>\n",
       "      <td>2116-07-06 10:36:00</td>\n",
       "      <td>2116-07-07 21:28:00</td>\n",
       "      <td>1.4528</td>\n",
       "    </tr>\n",
       "    <tr>\n",
       "      <th>137</th>\n",
       "      <td>52058</td>\n",
       "      <td>146270</td>\n",
       "      <td>292639</td>\n",
       "      <td>metavision</td>\n",
       "      <td>SICU</td>\n",
       "      <td>SICU</td>\n",
       "      <td>33</td>\n",
       "      <td>33</td>\n",
       "      <td>2121-11-23 19:12:03</td>\n",
       "      <td>2121-11-24 00:38:42</td>\n",
       "      <td>0.2268</td>\n",
       "    </tr>\n",
       "  </tbody>\n",
       "</table>\n",
       "<p>138 rows × 11 columns</p>\n",
       "</div>"
      ],
      "text/plain": [
       "     subject_id  hadm_id  icustay_id    dbsource first_careunit last_careunit  \\\n",
       "0         87197   176931      209341  metavision            CCU           CCU   \n",
       "1          1765   145878      254146     carevue           NICU          NICU   \n",
       "2         21269   109697      241691     carevue           MICU          MICU   \n",
       "3          5692   151113      279055     carevue           CSRU          CSRU   \n",
       "4          5692   193147      241135  metavision            CCU           CCU   \n",
       "..          ...      ...         ...         ...            ...           ...   \n",
       "133       58667   197356      249803  metavision           MICU          MICU   \n",
       "134        3391   136471      265244     carevue           NICU          NICU   \n",
       "135       31650   137933      282691     carevue            CCU           CCU   \n",
       "136       15895   135286      236445     carevue           CSRU          CSRU   \n",
       "137       52058   146270      292639  metavision           SICU          SICU   \n",
       "\n",
       "     first_wardid  last_wardid               intime              outtime  \\\n",
       "0               7            7  2109-11-16 08:12:18  2109-11-17 17:39:41   \n",
       "1              56           56  2183-05-09 09:29:55  2183-05-16 19:18:28   \n",
       "2              12           12  2162-10-03 17:03:08  2162-12-01 20:11:22   \n",
       "3              12           15  2143-10-31 14:16:32  2143-11-01 19:20:00   \n",
       "4               7            7  2147-12-16 00:00:03  2147-12-17 16:45:54   \n",
       "..            ...          ...                  ...                  ...   \n",
       "133            50           50  2130-08-19 20:03:38  2130-08-20 07:17:43   \n",
       "134            56           56  2143-03-01 19:51:18  2143-03-01 23:53:41   \n",
       "135             7            7  2177-06-07 19:44:18  2177-06-10 15:45:28   \n",
       "136            14           14  2116-07-06 10:36:00  2116-07-07 21:28:00   \n",
       "137            33           33  2121-11-23 19:12:03  2121-11-24 00:38:42   \n",
       "\n",
       "         los  \n",
       "0     1.3940  \n",
       "1     7.4087  \n",
       "2    59.1307  \n",
       "3     1.2107  \n",
       "4     1.6985  \n",
       "..       ...  \n",
       "133   0.4681  \n",
       "134   0.1683  \n",
       "135   2.8341  \n",
       "136   1.4528  \n",
       "137   0.2268  \n",
       "\n",
       "[138 rows x 11 columns]"
      ]
     },
     "execution_count": 20,
     "metadata": {},
     "output_type": "execute_result"
    }
   ],
   "source": [
    "icustays_df"
   ]
  },
  {
   "cell_type": "code",
   "execution_count": 21,
   "id": "5bfb331a",
   "metadata": {},
   "outputs": [],
   "source": [
    "# Drop useless colums\n",
    "icustays_df.drop(['los'], axis=1, inplace=True)"
   ]
  },
  {
   "cell_type": "code",
   "execution_count": 22,
   "id": "fbeebcbd",
   "metadata": {},
   "outputs": [
    {
     "name": "stdout",
     "output_type": "stream",
     "text": [
      "Total columns: 10\n",
      "Total rows: 138\n",
      "--------------\n",
      "subject_id        0\n",
      "hadm_id           0\n",
      "icustay_id        0\n",
      "dbsource          0\n",
      "first_careunit    0\n",
      "last_careunit     0\n",
      "first_wardid      0\n",
      "last_wardid       0\n",
      "intime            0\n",
      "outtime           0\n",
      "dtype: int64\n"
     ]
    }
   ],
   "source": [
    "commonfunc.nan_count(icustays_df)"
   ]
  },
  {
   "cell_type": "code",
   "execution_count": 23,
   "id": "755323e7",
   "metadata": {},
   "outputs": [
    {
     "data": {
      "text/plain": [
       "subject_id         int64\n",
       "hadm_id            int64\n",
       "icustay_id         int64\n",
       "dbsource          object\n",
       "first_careunit    object\n",
       "last_careunit     object\n",
       "first_wardid       int64\n",
       "last_wardid        int64\n",
       "intime            object\n",
       "outtime           object\n",
       "dtype: object"
      ]
     },
     "execution_count": 23,
     "metadata": {},
     "output_type": "execute_result"
    }
   ],
   "source": [
    "icustays_df.dtypes"
   ]
  },
  {
   "cell_type": "code",
   "execution_count": 24,
   "id": "959c281c",
   "metadata": {},
   "outputs": [],
   "source": [
    "# Transfer some date type\n",
    "icustays_df['intime'] = pd.to_datetime(icustays_df['intime'])\n",
    "icustays_df['outtime'] = pd.to_datetime(icustays_df['outtime'])"
   ]
  },
  {
   "cell_type": "code",
   "execution_count": 25,
   "id": "026a9f76",
   "metadata": {},
   "outputs": [
    {
     "data": {
      "text/plain": [
       "subject_id                 int64\n",
       "hadm_id                    int64\n",
       "icustay_id                 int64\n",
       "dbsource                  object\n",
       "first_careunit            object\n",
       "last_careunit             object\n",
       "first_wardid               int64\n",
       "last_wardid                int64\n",
       "intime            datetime64[ns]\n",
       "outtime           datetime64[ns]\n",
       "dtype: object"
      ]
     },
     "execution_count": 25,
     "metadata": {},
     "output_type": "execute_result"
    }
   ],
   "source": [
    "icustays_df.dtypes"
   ]
  },
  {
   "cell_type": "code",
   "execution_count": 26,
   "id": "7983fc72",
   "metadata": {},
   "outputs": [],
   "source": [
    "admissions_df = commonfunc.read_csv_no_rowid(data_set_path+\"sampled_data_csv_100/admissions.csv\")"
   ]
  },
  {
   "cell_type": "code",
   "execution_count": 27,
   "id": "9e3bd882",
   "metadata": {},
   "outputs": [],
   "source": [
    "admittime_df = admissions_df.loc[:, ['hadm_id', 'admittime']]\n",
    "admittime_df['admittime'] = pd.to_datetime(admittime_df['admittime'])"
   ]
  },
  {
   "cell_type": "code",
   "execution_count": 28,
   "id": "9ccd53fb",
   "metadata": {},
   "outputs": [],
   "source": [
    "icustays_mid_df = pd.merge(left=icustays_df, right=admittime_df, how='left', on=['hadm_id'])"
   ]
  },
  {
   "cell_type": "code",
   "execution_count": 29,
   "id": "d7e99d16",
   "metadata": {},
   "outputs": [],
   "source": [
    "# icustays_mid_df['outtime'] = icustays_mid_df.apply(commonfunc.time_process, args=('intime', 'outtime'), axis=1)\n",
    "# icustays_mid_df['intime'] = icustays_mid_df.apply(commonfunc.time_process, args=('admittime', 'intime'), axis=1)"
   ]
  },
  {
   "cell_type": "code",
   "execution_count": 30,
   "id": "a671448d",
   "metadata": {},
   "outputs": [],
   "source": [
    "icustays_df = icustays_mid_df.drop(['subject_id', 'hadm_id', 'admittime'], axis=1)"
   ]
  },
  {
   "cell_type": "code",
   "execution_count": 31,
   "id": "c6dc31cb",
   "metadata": {},
   "outputs": [
    {
     "data": {
      "text/plain": [
       "Index(['icustay_id', 'dbsource', 'first_careunit', 'last_careunit',\n",
       "       'first_wardid', 'last_wardid', 'intime', 'outtime'],\n",
       "      dtype='object')"
      ]
     },
     "execution_count": 31,
     "metadata": {},
     "output_type": "execute_result"
    }
   ],
   "source": [
    "icustays_df.columns"
   ]
  },
  {
   "cell_type": "markdown",
   "id": "3f2fea92",
   "metadata": {},
   "source": [
    "## Metadata"
   ]
  },
  {
   "cell_type": "code",
   "execution_count": 32,
   "id": "ea4f1355",
   "metadata": {},
   "outputs": [],
   "source": [
    "from sdv.metadata import SingleTableMetadata\n",
    "\n",
    "metadata = SingleTableMetadata()"
   ]
  },
  {
   "cell_type": "code",
   "execution_count": 33,
   "id": "d15026ae",
   "metadata": {},
   "outputs": [],
   "source": [
    "metadata.detect_from_dataframe(data=icustays_df)"
   ]
  },
  {
   "cell_type": "code",
   "execution_count": 34,
   "id": "753e1883",
   "metadata": {},
   "outputs": [
    {
     "data": {
      "text/plain": [
       "{\n",
       "    \"METADATA_SPEC_VERSION\": \"SINGLE_TABLE_V1\",\n",
       "    \"columns\": {\n",
       "        \"icustay_id\": {\n",
       "            \"sdtype\": \"numerical\"\n",
       "        },\n",
       "        \"dbsource\": {\n",
       "            \"sdtype\": \"categorical\"\n",
       "        },\n",
       "        \"first_careunit\": {\n",
       "            \"sdtype\": \"categorical\"\n",
       "        },\n",
       "        \"last_careunit\": {\n",
       "            \"sdtype\": \"categorical\"\n",
       "        },\n",
       "        \"first_wardid\": {\n",
       "            \"sdtype\": \"numerical\"\n",
       "        },\n",
       "        \"last_wardid\": {\n",
       "            \"sdtype\": \"numerical\"\n",
       "        },\n",
       "        \"intime\": {\n",
       "            \"sdtype\": \"datetime\"\n",
       "        },\n",
       "        \"outtime\": {\n",
       "            \"sdtype\": \"datetime\"\n",
       "        }\n",
       "    }\n",
       "}"
      ]
     },
     "execution_count": 34,
     "metadata": {},
     "output_type": "execute_result"
    }
   ],
   "source": [
    "metadata"
   ]
  },
  {
   "cell_type": "code",
   "execution_count": 37,
   "id": "038157ac",
   "metadata": {},
   "outputs": [],
   "source": [
    "metadata.update_column(\n",
    "    column_name='icustay_id',\n",
    "    sdtype='id',\n",
    "    regex_format='ICUID_[0-9]{4,12}'\n",
    ")\n",
    "\n",
    "metadata.update_column(\n",
    "    column_name='first_wardid',\n",
    "    sdtype='categorical'\n",
    ")\n",
    "\n",
    "metadata.update_column(\n",
    "    column_name='last_wardid',\n",
    "    sdtype='categorical'\n",
    ")"
   ]
  },
  {
   "cell_type": "code",
   "execution_count": 38,
   "id": "c1b93829",
   "metadata": {},
   "outputs": [],
   "source": [
    "metadata.set_primary_key(\n",
    "    column_name='icustay_id'\n",
    ")"
   ]
  },
  {
   "cell_type": "code",
   "execution_count": 39,
   "id": "d46264c7",
   "metadata": {},
   "outputs": [],
   "source": [
    "metadata.save_to_json(filepath=data_set_path+'metadata/icustays.json')"
   ]
  },
  {
   "cell_type": "code",
   "execution_count": 41,
   "id": "d4522547",
   "metadata": {},
   "outputs": [],
   "source": [
    "metadata.set_primary_key(\n",
    "    column_name='icustay_id'\n",
    ")"
   ]
  },
  {
   "cell_type": "code",
   "execution_count": 42,
   "id": "4ee54bad",
   "metadata": {},
   "outputs": [],
   "source": [
    "data=icustays_df"
   ]
  },
  {
   "cell_type": "code",
   "execution_count": 43,
   "id": "d1ea2728",
   "metadata": {},
   "outputs": [],
   "source": [
    "from sdv.lite import SingleTablePreset\n",
    "\n",
    "synthesizer1 = SingleTablePreset(metadata, name='FAST_ML')\n",
    "synthesizer1.fit(data)\n",
    "\n",
    "synthetic_data1 = synthesizer1.sample(num_rows=100)"
   ]
  },
  {
   "cell_type": "code",
   "execution_count": 47,
   "id": "7bbf645e",
   "metadata": {},
   "outputs": [],
   "source": [
    "synthesizer1.save(data_set_path+'models/icustays/icustays_singletablepreset.pkl')\n"
   ]
  },
  {
   "cell_type": "code",
   "execution_count": 45,
   "id": "58e61dbc",
   "metadata": {},
   "outputs": [],
   "source": [
    "from sdv.single_table import GaussianCopulaSynthesizer\n",
    "\n",
    "synthesizer2 = GaussianCopulaSynthesizer(metadata)\n",
    "synthesizer2.fit(data)\n",
    "\n",
    "synthetic_data2 = synthesizer2.sample(num_rows=100)"
   ]
  },
  {
   "cell_type": "code",
   "execution_count": 48,
   "id": "e77c0bcd",
   "metadata": {},
   "outputs": [],
   "source": [
    "synthesizer2.save(data_set_path+'models/icustays/icustays_guassiancopula.pkl')\n"
   ]
  },
  {
   "cell_type": "code",
   "execution_count": 49,
   "id": "d9624af3",
   "metadata": {},
   "outputs": [],
   "source": [
    "from sdv.single_table import CTGANSynthesizer\n",
    "\n",
    "synthesizer3 = CTGANSynthesizer(metadata)\n",
    "synthesizer3.fit(data)\n",
    "\n",
    "synthetic_data3 = synthesizer3.sample(num_rows=100)"
   ]
  },
  {
   "cell_type": "code",
   "execution_count": 50,
   "id": "ca501d2c",
   "metadata": {},
   "outputs": [],
   "source": [
    "synthesizer3.save(data_set_path+'models/icustays/icustays_ctgan.pkl')\n"
   ]
  },
  {
   "cell_type": "code",
   "execution_count": 51,
   "id": "ce9fdaee",
   "metadata": {},
   "outputs": [],
   "source": [
    "from sdv.single_table import TVAESynthesizer\n",
    "\n",
    "synthesizer4 = TVAESynthesizer(metadata)\n",
    "synthesizer4.fit(data)\n",
    "\n",
    "synthetic_data4 = synthesizer4.sample(num_rows=100)"
   ]
  },
  {
   "cell_type": "code",
   "execution_count": 52,
   "id": "d976bc48",
   "metadata": {},
   "outputs": [],
   "source": [
    "synthesizer4.save(data_set_path+'models/icustays/icustays_tvae.pkl')\n"
   ]
  },
  {
   "cell_type": "code",
   "execution_count": 53,
   "id": "5e984ea3",
   "metadata": {},
   "outputs": [],
   "source": [
    "from sdv.single_table import CopulaGANSynthesizer\n",
    "\n",
    "synthesizer5 = CopulaGANSynthesizer(metadata)\n",
    "synthesizer5.fit(data)\n",
    "\n",
    "synthetic_data5 = synthesizer5.sample(num_rows=100)"
   ]
  },
  {
   "cell_type": "code",
   "execution_count": 54,
   "id": "9d558074",
   "metadata": {},
   "outputs": [],
   "source": [
    "synthesizer5.save(data_set_path+'models/icustays/icustays_copulangan.pkl')\n"
   ]
  },
  {
   "cell_type": "code",
   "execution_count": 55,
   "id": "8bf273fd",
   "metadata": {},
   "outputs": [
    {
     "data": {
      "text/html": [
       "<div>\n",
       "<style scoped>\n",
       "    .dataframe tbody tr th:only-of-type {\n",
       "        vertical-align: middle;\n",
       "    }\n",
       "\n",
       "    .dataframe tbody tr th {\n",
       "        vertical-align: top;\n",
       "    }\n",
       "\n",
       "    .dataframe thead th {\n",
       "        text-align: right;\n",
       "    }\n",
       "</style>\n",
       "<table border=\"1\" class=\"dataframe\">\n",
       "  <thead>\n",
       "    <tr style=\"text-align: right;\">\n",
       "      <th></th>\n",
       "      <th>icustay_id</th>\n",
       "      <th>dbsource</th>\n",
       "      <th>first_careunit</th>\n",
       "      <th>last_careunit</th>\n",
       "      <th>first_wardid</th>\n",
       "      <th>last_wardid</th>\n",
       "      <th>intime</th>\n",
       "      <th>outtime</th>\n",
       "    </tr>\n",
       "  </thead>\n",
       "  <tbody>\n",
       "    <tr>\n",
       "      <th>0</th>\n",
       "      <td>ICUID_0000</td>\n",
       "      <td>metavision</td>\n",
       "      <td>NICU</td>\n",
       "      <td>MICU</td>\n",
       "      <td>23</td>\n",
       "      <td>23</td>\n",
       "      <td>2159-09-08 10:49:36</td>\n",
       "      <td>2187-09-23 06:37:25</td>\n",
       "    </tr>\n",
       "    <tr>\n",
       "      <th>1</th>\n",
       "      <td>ICUID_0001</td>\n",
       "      <td>carevue</td>\n",
       "      <td>NICU</td>\n",
       "      <td>SICU</td>\n",
       "      <td>15</td>\n",
       "      <td>38</td>\n",
       "      <td>2137-12-24 06:49:27</td>\n",
       "      <td>2148-02-27 04:23:45</td>\n",
       "    </tr>\n",
       "    <tr>\n",
       "      <th>2</th>\n",
       "      <td>ICUID_0002</td>\n",
       "      <td>carevue</td>\n",
       "      <td>MICU</td>\n",
       "      <td>NICU</td>\n",
       "      <td>33</td>\n",
       "      <td>57</td>\n",
       "      <td>2112-09-16 00:34:13</td>\n",
       "      <td>2117-08-20 22:42:54</td>\n",
       "    </tr>\n",
       "    <tr>\n",
       "      <th>3</th>\n",
       "      <td>ICUID_0003</td>\n",
       "      <td>carevue</td>\n",
       "      <td>CSRU</td>\n",
       "      <td>NICU</td>\n",
       "      <td>50</td>\n",
       "      <td>57</td>\n",
       "      <td>2158-03-01 17:47:00</td>\n",
       "      <td>2196-05-05 22:12:09</td>\n",
       "    </tr>\n",
       "    <tr>\n",
       "      <th>4</th>\n",
       "      <td>ICUID_0004</td>\n",
       "      <td>metavision</td>\n",
       "      <td>MICU</td>\n",
       "      <td>CCU</td>\n",
       "      <td>15</td>\n",
       "      <td>50</td>\n",
       "      <td>2111-01-08 06:49:09</td>\n",
       "      <td>2135-01-29 18:44:15</td>\n",
       "    </tr>\n",
       "    <tr>\n",
       "      <th>...</th>\n",
       "      <td>...</td>\n",
       "      <td>...</td>\n",
       "      <td>...</td>\n",
       "      <td>...</td>\n",
       "      <td>...</td>\n",
       "      <td>...</td>\n",
       "      <td>...</td>\n",
       "      <td>...</td>\n",
       "    </tr>\n",
       "    <tr>\n",
       "      <th>95</th>\n",
       "      <td>ICUID_0095</td>\n",
       "      <td>metavision</td>\n",
       "      <td>CCU</td>\n",
       "      <td>TSICU</td>\n",
       "      <td>52</td>\n",
       "      <td>15</td>\n",
       "      <td>2200-04-20 23:53:22</td>\n",
       "      <td>2188-06-25 00:00:26</td>\n",
       "    </tr>\n",
       "    <tr>\n",
       "      <th>96</th>\n",
       "      <td>ICUID_0096</td>\n",
       "      <td>carevue</td>\n",
       "      <td>NICU</td>\n",
       "      <td>SICU</td>\n",
       "      <td>52</td>\n",
       "      <td>33</td>\n",
       "      <td>2146-01-21 03:31:38</td>\n",
       "      <td>2175-09-07 14:36:17</td>\n",
       "    </tr>\n",
       "    <tr>\n",
       "      <th>97</th>\n",
       "      <td>ICUID_0097</td>\n",
       "      <td>carevue</td>\n",
       "      <td>MICU</td>\n",
       "      <td>TSICU</td>\n",
       "      <td>57</td>\n",
       "      <td>50</td>\n",
       "      <td>2163-11-06 21:01:18</td>\n",
       "      <td>2110-12-25 20:40:46</td>\n",
       "    </tr>\n",
       "    <tr>\n",
       "      <th>98</th>\n",
       "      <td>ICUID_0098</td>\n",
       "      <td>carevue</td>\n",
       "      <td>SICU</td>\n",
       "      <td>MICU</td>\n",
       "      <td>14</td>\n",
       "      <td>56</td>\n",
       "      <td>2175-08-24 16:37:24</td>\n",
       "      <td>2200-03-29 11:19:45</td>\n",
       "    </tr>\n",
       "    <tr>\n",
       "      <th>99</th>\n",
       "      <td>ICUID_0099</td>\n",
       "      <td>carevue</td>\n",
       "      <td>CSRU</td>\n",
       "      <td>CSRU</td>\n",
       "      <td>50</td>\n",
       "      <td>14</td>\n",
       "      <td>2113-12-17 15:36:33</td>\n",
       "      <td>2167-06-15 14:15:24</td>\n",
       "    </tr>\n",
       "  </tbody>\n",
       "</table>\n",
       "<p>100 rows × 8 columns</p>\n",
       "</div>"
      ],
      "text/plain": [
       "    icustay_id    dbsource first_careunit last_careunit  first_wardid  \\\n",
       "0   ICUID_0000  metavision           NICU          MICU            23   \n",
       "1   ICUID_0001     carevue           NICU          SICU            15   \n",
       "2   ICUID_0002     carevue           MICU          NICU            33   \n",
       "3   ICUID_0003     carevue           CSRU          NICU            50   \n",
       "4   ICUID_0004  metavision           MICU           CCU            15   \n",
       "..         ...         ...            ...           ...           ...   \n",
       "95  ICUID_0095  metavision            CCU         TSICU            52   \n",
       "96  ICUID_0096     carevue           NICU          SICU            52   \n",
       "97  ICUID_0097     carevue           MICU         TSICU            57   \n",
       "98  ICUID_0098     carevue           SICU          MICU            14   \n",
       "99  ICUID_0099     carevue           CSRU          CSRU            50   \n",
       "\n",
       "    last_wardid              intime             outtime  \n",
       "0            23 2159-09-08 10:49:36 2187-09-23 06:37:25  \n",
       "1            38 2137-12-24 06:49:27 2148-02-27 04:23:45  \n",
       "2            57 2112-09-16 00:34:13 2117-08-20 22:42:54  \n",
       "3            57 2158-03-01 17:47:00 2196-05-05 22:12:09  \n",
       "4            50 2111-01-08 06:49:09 2135-01-29 18:44:15  \n",
       "..          ...                 ...                 ...  \n",
       "95           15 2200-04-20 23:53:22 2188-06-25 00:00:26  \n",
       "96           33 2146-01-21 03:31:38 2175-09-07 14:36:17  \n",
       "97           50 2163-11-06 21:01:18 2110-12-25 20:40:46  \n",
       "98           56 2175-08-24 16:37:24 2200-03-29 11:19:45  \n",
       "99           14 2113-12-17 15:36:33 2167-06-15 14:15:24  \n",
       "\n",
       "[100 rows x 8 columns]"
      ]
     },
     "execution_count": 55,
     "metadata": {},
     "output_type": "execute_result"
    }
   ],
   "source": [
    "synthetic_data5"
   ]
  },
  {
   "cell_type": "code",
   "execution_count": null,
   "id": "a2c698be",
   "metadata": {},
   "outputs": [],
   "source": []
  }
 ],
 "metadata": {
  "kernelspec": {
   "display_name": "Python 3 (ipykernel)",
   "language": "python",
   "name": "python3"
  },
  "language_info": {
   "codemirror_mode": {
    "name": "ipython",
    "version": 3
   },
   "file_extension": ".py",
   "mimetype": "text/x-python",
   "name": "python",
   "nbconvert_exporter": "python",
   "pygments_lexer": "ipython3",
   "version": "3.10.9"
  }
 },
 "nbformat": 4,
 "nbformat_minor": 5
}
