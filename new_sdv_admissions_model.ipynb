{
 "cells": [
  {
   "cell_type": "code",
   "execution_count": 38,
   "id": "f439e68c",
   "metadata": {},
   "outputs": [],
   "source": [
    "# Ignore warnings\n",
    "import warnings\n",
    "warnings.filterwarnings(\"ignore\")"
   ]
  },
  {
   "cell_type": "code",
   "execution_count": 39,
   "id": "4f362066",
   "metadata": {},
   "outputs": [],
   "source": [
    "import pandas as pd\n",
    "import numpy as np\n",
    "\n",
    "import commonfunc"
   ]
  },
  {
   "cell_type": "code",
   "execution_count": 40,
   "id": "ab8f0cc1",
   "metadata": {},
   "outputs": [],
   "source": [
    "data_set_path=\"./sampled_data_csv_100/\""
   ]
  },
  {
   "cell_type": "code",
   "execution_count": 41,
   "id": "e60c431e",
   "metadata": {},
   "outputs": [],
   "source": [
    "admissions_df = commonfunc.read_csv_no_rowid(data_set_path+\"admissions.csv\")"
   ]
  },
  {
   "cell_type": "code",
   "execution_count": 42,
   "id": "be2a6d16",
   "metadata": {},
   "outputs": [],
   "source": [
    "dob_df = pd.read_csv(data_set_path+\"patients.csv\").loc[:, ['subject_id', 'dob']]"
   ]
  },
  {
   "cell_type": "code",
   "execution_count": 43,
   "id": "fcb13d4d",
   "metadata": {},
   "outputs": [],
   "source": [
    "# Drop useless colums\n",
    "admissions_df.drop(['diagnosis', 'hospital_expire_flag'], axis=1, inplace=True)"
   ]
  },
  {
   "cell_type": "code",
   "execution_count": 44,
   "id": "5c159438",
   "metadata": {},
   "outputs": [],
   "source": [
    "admissions_df = pd.merge(dob_df, admissions_df, how='inner', on='subject_id')"
   ]
  },
  {
   "cell_type": "code",
   "execution_count": 45,
   "id": "03d18812",
   "metadata": {},
   "outputs": [
    {
     "name": "stdout",
     "output_type": "stream",
     "text": [
      "Total columns: 17\n",
      "Total rows: 132\n",
      "--------------\n",
      "subject_id                0\n",
      "dob                       0\n",
      "hadm_id                   0\n",
      "admittime                 0\n",
      "dischtime                 0\n",
      "deathtime               121\n",
      "admission_type            0\n",
      "admission_location        0\n",
      "discharge_location        0\n",
      "insurance                 0\n",
      "language                 45\n",
      "religion                  1\n",
      "marital_status           19\n",
      "ethnicity                 0\n",
      "edregtime                62\n",
      "edouttime                62\n",
      "has_chartevents_data      0\n",
      "dtype: int64\n"
     ]
    }
   ],
   "source": [
    "commonfunc.nan_count(admissions_df)"
   ]
  },
  {
   "cell_type": "code",
   "execution_count": null,
   "id": "07dc3673",
   "metadata": {},
   "outputs": [],
   "source": []
  },
  {
   "cell_type": "code",
   "execution_count": 46,
   "id": "cec8e13a",
   "metadata": {},
   "outputs": [
    {
     "data": {
      "text/plain": [
       "subject_id               int64\n",
       "dob                     object\n",
       "hadm_id                  int64\n",
       "admittime               object\n",
       "dischtime               object\n",
       "deathtime               object\n",
       "admission_type          object\n",
       "admission_location      object\n",
       "discharge_location      object\n",
       "insurance               object\n",
       "language                object\n",
       "religion                object\n",
       "marital_status          object\n",
       "ethnicity               object\n",
       "edregtime               object\n",
       "edouttime               object\n",
       "has_chartevents_data     int64\n",
       "dtype: object"
      ]
     },
     "execution_count": 46,
     "metadata": {},
     "output_type": "execute_result"
    }
   ],
   "source": [
    "admissions_df.dtypes"
   ]
  },
  {
   "cell_type": "code",
   "execution_count": 47,
   "id": "b6889ee9",
   "metadata": {},
   "outputs": [],
   "source": [
    "# Transfer some date type\n",
    "admissions_df['admittime'] = pd.to_datetime(admissions_df['admittime'])\n",
    "admissions_df['dischtime'] = pd.to_datetime(admissions_df['dischtime'])\n",
    "admissions_df['deathtime'] = pd.to_datetime(admissions_df['deathtime'])\n",
    "admissions_df['edregtime'] = pd.to_datetime(admissions_df['edregtime'])\n",
    "admissions_df['edouttime'] = pd.to_datetime(admissions_df['edouttime'])\n",
    "\n",
    "admissions_df['dob'] = pd.to_datetime(admissions_df['dob'])"
   ]
  },
  {
   "cell_type": "code",
   "execution_count": 48,
   "id": "0f6baeea",
   "metadata": {},
   "outputs": [
    {
     "data": {
      "text/plain": [
       "True    132\n",
       "dtype: int64"
      ]
     },
     "execution_count": 48,
     "metadata": {},
     "output_type": "execute_result"
    }
   ],
   "source": [
    "(admissions_df['dob'] < admissions_df['admittime']).value_counts()"
   ]
  },
  {
   "cell_type": "code",
   "execution_count": 49,
   "id": "a13c7bd4",
   "metadata": {},
   "outputs": [
    {
     "data": {
      "text/plain": [
       "subject_id                       int64\n",
       "dob                     datetime64[ns]\n",
       "hadm_id                          int64\n",
       "admittime               datetime64[ns]\n",
       "dischtime               datetime64[ns]\n",
       "deathtime               datetime64[ns]\n",
       "admission_type                  object\n",
       "admission_location              object\n",
       "discharge_location              object\n",
       "insurance                       object\n",
       "language                        object\n",
       "religion                        object\n",
       "marital_status                  object\n",
       "ethnicity                       object\n",
       "edregtime               datetime64[ns]\n",
       "edouttime               datetime64[ns]\n",
       "has_chartevents_data             int64\n",
       "dtype: object"
      ]
     },
     "execution_count": 49,
     "metadata": {},
     "output_type": "execute_result"
    }
   ],
   "source": [
    "admissions_df.dtypes"
   ]
  },
  {
   "cell_type": "code",
   "execution_count": 50,
   "id": "d0257f7b",
   "metadata": {},
   "outputs": [],
   "source": [
    "admissions_df = admissions_df.drop(admissions_df.loc[(pd.isna(admissions_df['deathtime']) == False) & (admissions_df['dischtime'] != admissions_df['deathtime'])].index)"
   ]
  },
  {
   "cell_type": "code",
   "execution_count": 51,
   "id": "8ea3ec43",
   "metadata": {},
   "outputs": [],
   "source": [
    "import datetime\n",
    "import random\n",
    "\n",
    "def adjust_age_over_90(df):\n",
    "    '''\n",
    "    This method is to adjust the invalid date in 'dob' (which is 18xx)\n",
    "    Process: Use the admittime minus 90 - 100 years, to let the age of patients are between 90 to 100\n",
    "    '''\n",
    "\n",
    "    years_100 = datetime.timedelta(days = (365 * 100 + 100/4))\n",
    "    random_days_10_years = datetime.timedelta(days = random.randint(0, 10)*365)\n",
    "    \n",
    "    if (df['dob'] - datetime.datetime(1970,1,1)).total_seconds() < 0:\n",
    "        return (df['admittime'] - years_100 + random_days_10_years)\n",
    "    else:\n",
    "        return df['dob']"
   ]
  },
  {
   "cell_type": "code",
   "execution_count": 52,
   "id": "81e5267d",
   "metadata": {},
   "outputs": [],
   "source": [
    "admissions_df['dob'] = admissions_df.apply(adjust_age_over_90, axis=1)"
   ]
  },
  {
   "cell_type": "code",
   "execution_count": 53,
   "id": "df8065e2",
   "metadata": {},
   "outputs": [],
   "source": [
    "admissions_df['deathtime'] = admissions_df['deathtime'].apply(lambda flag: 1 if pd.isna(flag) == False else np.NaN)"
   ]
  },
  {
   "cell_type": "code",
   "execution_count": 54,
   "id": "56e99e1b",
   "metadata": {},
   "outputs": [],
   "source": [
    "# admissions_df['edouttime'] = admissions_df.apply(commonfunc.time_process, args=('edregtime', 'edouttime'), axis=1)\n",
    "# admissions_df['edregtime'] = admissions_df.apply(commonfunc.time_process, args=('admittime', 'edregtime'), axis=1)\n",
    "# admissions_df['dischtime'] = admissions_df.apply(commonfunc.time_process, args=('admittime', 'dischtime'), axis=1)\n",
    "# admissions_df['admittime'] = admissions_df.apply(commonfunc.time_process, args=('dob', 'admittime'), axis=1)"
   ]
  },
  {
   "cell_type": "code",
   "execution_count": 55,
   "id": "11792bfe",
   "metadata": {},
   "outputs": [],
   "source": [
    "admissions_df.drop(['subject_id','dob'], axis=1, inplace=True)"
   ]
  },
  {
   "cell_type": "code",
   "execution_count": 56,
   "id": "d21a2292",
   "metadata": {},
   "outputs": [
    {
     "data": {
      "text/plain": [
       "Index(['hadm_id', 'admittime', 'dischtime', 'deathtime', 'admission_type',\n",
       "       'admission_location', 'discharge_location', 'insurance', 'language',\n",
       "       'religion', 'marital_status', 'ethnicity', 'edregtime', 'edouttime',\n",
       "       'has_chartevents_data'],\n",
       "      dtype='object')"
      ]
     },
     "execution_count": 56,
     "metadata": {},
     "output_type": "execute_result"
    }
   ],
   "source": [
    "admissions_df.columns"
   ]
  },
  {
   "cell_type": "markdown",
   "id": "df284d89",
   "metadata": {},
   "source": [
    "## Metadata"
   ]
  },
  {
   "cell_type": "code",
   "execution_count": 57,
   "id": "0cc69406",
   "metadata": {},
   "outputs": [],
   "source": [
    "from sdv.metadata import SingleTableMetadata\n",
    "\n",
    "metadata = SingleTableMetadata()"
   ]
  },
  {
   "cell_type": "code",
   "execution_count": 58,
   "id": "df011740",
   "metadata": {},
   "outputs": [],
   "source": [
    "metadata.detect_from_dataframe(data=admissions_df)"
   ]
  },
  {
   "cell_type": "code",
   "execution_count": 59,
   "id": "94c17f82",
   "metadata": {},
   "outputs": [
    {
     "data": {
      "text/plain": [
       "{\n",
       "    \"columns\": {\n",
       "        \"hadm_id\": {\n",
       "            \"sdtype\": \"numerical\"\n",
       "        },\n",
       "        \"admittime\": {\n",
       "            \"sdtype\": \"datetime\"\n",
       "        },\n",
       "        \"dischtime\": {\n",
       "            \"sdtype\": \"datetime\"\n",
       "        },\n",
       "        \"deathtime\": {\n",
       "            \"sdtype\": \"numerical\"\n",
       "        },\n",
       "        \"admission_type\": {\n",
       "            \"sdtype\": \"categorical\"\n",
       "        },\n",
       "        \"admission_location\": {\n",
       "            \"sdtype\": \"categorical\"\n",
       "        },\n",
       "        \"discharge_location\": {\n",
       "            \"sdtype\": \"categorical\"\n",
       "        },\n",
       "        \"insurance\": {\n",
       "            \"sdtype\": \"categorical\"\n",
       "        },\n",
       "        \"language\": {\n",
       "            \"sdtype\": \"categorical\"\n",
       "        },\n",
       "        \"religion\": {\n",
       "            \"sdtype\": \"categorical\"\n",
       "        },\n",
       "        \"marital_status\": {\n",
       "            \"sdtype\": \"categorical\"\n",
       "        },\n",
       "        \"ethnicity\": {\n",
       "            \"sdtype\": \"categorical\"\n",
       "        },\n",
       "        \"edregtime\": {\n",
       "            \"sdtype\": \"datetime\"\n",
       "        },\n",
       "        \"edouttime\": {\n",
       "            \"sdtype\": \"datetime\"\n",
       "        },\n",
       "        \"has_chartevents_data\": {\n",
       "            \"sdtype\": \"numerical\"\n",
       "        }\n",
       "    },\n",
       "    \"METADATA_SPEC_VERSION\": \"SINGLE_TABLE_V1\"\n",
       "}"
      ]
     },
     "execution_count": 59,
     "metadata": {},
     "output_type": "execute_result"
    }
   ],
   "source": [
    "metadata"
   ]
  },
  {
   "cell_type": "code",
   "execution_count": 60,
   "id": "7c2ae53b",
   "metadata": {},
   "outputs": [],
   "source": [
    "\n",
    "metadata.update_column(\n",
    "    column_name='hadm_id',\n",
    "    sdtype='id',\n",
    "    regex_format='HID_[0-9]{4,8}'\n",
    ")\n",
    "\n",
    "metadata.update_column(\n",
    "    column_name='has_chartevents_data',\n",
    "    sdtype='categorical'\n",
    ")"
   ]
  },
  {
   "cell_type": "code",
   "execution_count": 61,
   "id": "c513732c",
   "metadata": {},
   "outputs": [],
   "source": [
    "metadata.set_primary_key(\n",
    "    column_name='hadm_id'\n",
    ")"
   ]
  },
  {
   "cell_type": "code",
   "execution_count": 85,
   "id": "74048b00",
   "metadata": {},
   "outputs": [],
   "source": [
    "metadata.save_to_json(filepath='C:\\\\Users\\\\shrus\\\\Documents\\\\Synthetic-data-generation\\\\metadata\\\\admissions\\\\admissions_metadata.json')"
   ]
  },
  {
   "cell_type": "code",
   "execution_count": 66,
   "id": "9c4f0a02",
   "metadata": {},
   "outputs": [],
   "source": [
    "time_constraint = {\n",
    "    'constraint_class': 'Inequality',\n",
    "    'constraint_parameters': {\n",
    "        'low_column_name': 'edregtime',\n",
    "        'high_column_name': 'edouttime',\n",
    "        'strict_boundaries': True\n",
    "    }\n",
    "}"
   ]
  },
  {
   "cell_type": "code",
   "execution_count": 67,
   "id": "ef4b281b",
   "metadata": {},
   "outputs": [],
   "source": [
    "data=admissions_df"
   ]
  },
  {
   "cell_type": "code",
   "execution_count": 69,
   "id": "f7660d36",
   "metadata": {},
   "outputs": [
    {
     "name": "stderr",
     "output_type": "stream",
     "text": [
      "Sampling rows: 100%|██████████| 132/132 [00:00<00:00, 1769.13it/s]\n"
     ]
    }
   ],
   "source": [
    "from sdv.lite import SingleTablePreset\n",
    "\n",
    "synthesizer1 = SingleTablePreset(metadata, name='FAST_ML')\n",
    "synthesizer1.add_constraints(constraints=[\n",
    "    time_constraint\n",
    "])\n",
    "synthesizer1.fit(data)\n",
    "\n",
    "synthetic_data1 = synthesizer1.sample(num_rows=len(data))"
   ]
  },
  {
   "cell_type": "code",
   "execution_count": 71,
   "id": "4dd2875e",
   "metadata": {},
   "outputs": [
    {
     "name": "stderr",
     "output_type": "stream",
     "text": [
      "Sampling rows: 100%|██████████| 132/132 [00:00<00:00, 2178.19it/s]\n"
     ]
    }
   ],
   "source": [
    "\n",
    "time_in_time_out_contraint = {\n",
    "    'constraint_class': 'Inequality',\n",
    "    'constraint_parameters': {\n",
    "        'low_column_name': 'edregtime',\n",
    "        'high_column_name': 'edouttime',\n",
    "        'strict_boundaries': True\n",
    "    }\n",
    "}\n",
    "\n",
    "synthesizer1.add_constraints(\n",
    "    constraints=[time_in_time_out_contraint]\n",
    ")\n",
    "\n",
    "synthesizer1.fit(data)\n",
    "synthetic_data = synthesizer1.sample(num_rows=len(data))"
   ]
  },
  {
   "cell_type": "code",
   "execution_count": 72,
   "id": "6ad4829a",
   "metadata": {},
   "outputs": [],
   "source": [
    "from sdv.single_table import GaussianCopulaSynthesizer\n",
    "\n",
    "synthesizer2 = GaussianCopulaSynthesizer(metadata)\n",
    "synthesizer2.fit(data)\n",
    "\n",
    "synthetic_data2 = synthesizer2.sample(num_rows=len(data))"
   ]
  },
  {
   "cell_type": "code",
   "execution_count": 73,
   "id": "010eb845",
   "metadata": {},
   "outputs": [
    {
     "name": "stderr",
     "output_type": "stream",
     "text": [
      "Sampling rows: 100%|██████████| 132/132 [00:00<00:00, 2008.36it/s]\n"
     ]
    }
   ],
   "source": [
    "time_in_time_out_contraint = {\n",
    "    'constraint_class': 'Inequality',\n",
    "    'constraint_parameters': {\n",
    "        'low_column_name': 'edregtime',\n",
    "        'high_column_name': 'edouttime',\n",
    "        'strict_boundaries': True\n",
    "    }\n",
    "}\n",
    "\n",
    "synthesizer2.add_constraints(\n",
    "    constraints=[time_in_time_out_contraint]\n",
    ")\n",
    "\n",
    "synthesizer2.fit(data)\n",
    "synthetic_data = synthesizer2.sample(num_rows=len(data))"
   ]
  },
  {
   "cell_type": "code",
   "execution_count": 75,
   "id": "41c7163f",
   "metadata": {},
   "outputs": [],
   "source": [
    "from sdv.single_table import CTGANSynthesizer\n",
    "\n",
    "synthesizer3 = CTGANSynthesizer(metadata)\n",
    "synthesizer3.fit(data)\n",
    "\n",
    "synthetic_data3 = synthesizer3.sample(num_rows=100)"
   ]
  },
  {
   "cell_type": "code",
   "execution_count": 76,
   "id": "6a4cfd81",
   "metadata": {},
   "outputs": [
    {
     "name": "stderr",
     "output_type": "stream",
     "text": [
      "Sampling rows: 100%|██████████| 132/132 [00:00<00:00, 530.22it/s]\n"
     ]
    }
   ],
   "source": [
    "time_in_time_out_contraint = {\n",
    "    'constraint_class': 'Inequality',\n",
    "    'constraint_parameters': {\n",
    "        'low_column_name': 'edregtime',\n",
    "        'high_column_name': 'edouttime',\n",
    "        'strict_boundaries': True\n",
    "    }\n",
    "}\n",
    "\n",
    "synthesizer3.add_constraints(\n",
    "    constraints=[time_in_time_out_contraint]\n",
    ")\n",
    "\n",
    "synthesizer3.fit(data)\n",
    "synthetic_data = synthesizer3.sample(num_rows=len(data))"
   ]
  },
  {
   "cell_type": "code",
   "execution_count": 77,
   "id": "aafb0213",
   "metadata": {},
   "outputs": [
    {
     "name": "stderr",
     "output_type": "stream",
     "text": [
      "Sampling rows: 100%|██████████| 132/132 [00:00<00:00, 563.00it/s]\n"
     ]
    }
   ],
   "source": [
    "from sdv.single_table import TVAESynthesizer\n",
    "\n",
    "synthesizer4 = TVAESynthesizer(metadata)\n",
    "time_in_time_out_contraint = {\n",
    "    'constraint_class': 'Inequality',\n",
    "    'constraint_parameters': {\n",
    "        'low_column_name': 'edregtime',\n",
    "        'high_column_name': 'edouttime',\n",
    "        'strict_boundaries': True\n",
    "    }\n",
    "}\n",
    "\n",
    "synthesizer4.add_constraints(\n",
    "    constraints=[time_in_time_out_contraint]\n",
    ")\n",
    "\n",
    "synthesizer4.fit(data)\n",
    "synthetic_data4 = synthesizer3.sample(num_rows=len(data))"
   ]
  },
  {
   "cell_type": "code",
   "execution_count": 78,
   "id": "42522b0d",
   "metadata": {},
   "outputs": [
    {
     "name": "stderr",
     "output_type": "stream",
     "text": [
      "Sampling rows: 100%|██████████| 132/132 [00:00<00:00, 534.85it/s]\n"
     ]
    }
   ],
   "source": [
    "from sdv.single_table import CopulaGANSynthesizer\n",
    "\n",
    "synthesizer5 = CopulaGANSynthesizer(metadata)\n",
    "time_in_time_out_contraint = {\n",
    "    'constraint_class': 'Inequality',\n",
    "    'constraint_parameters': {\n",
    "        'low_column_name': 'edregtime',\n",
    "        'high_column_name': 'edouttime',\n",
    "        'strict_boundaries': True\n",
    "    }\n",
    "}\n",
    "\n",
    "synthesizer5.add_constraints(\n",
    "    constraints=[time_in_time_out_contraint]\n",
    ")\n",
    "\n",
    "synthesizer5.fit(data)\n",
    "synthetic_data5 = synthesizer5.sample(num_rows=len(data))"
   ]
  },
  {
   "cell_type": "markdown",
   "id": "1842e0bd",
   "metadata": {},
   "source": [
    "## Evaluation"
   ]
  },
  {
   "cell_type": "code",
   "execution_count": 79,
   "id": "2a80f6e2",
   "metadata": {
    "scrolled": true
   },
   "outputs": [
    {
     "name": "stderr",
     "output_type": "stream",
     "text": [
      "Creating report: 100%|██████████| 4/4 [00:00<00:00,  9.75it/s]\n"
     ]
    },
    {
     "name": "stdout",
     "output_type": "stream",
     "text": [
      "\n",
      "Overall Quality Score: 82.27%\n",
      "\n",
      "Properties:\n",
      "Column Shapes: 89.63%\n",
      "Column Pair Trends: 74.91%\n"
     ]
    }
   ],
   "source": [
    "from sdv.evaluation.single_table import evaluate_quality\n",
    "\n",
    "quality_report = evaluate_quality(\n",
    "    real_data=data,\n",
    "    synthetic_data=synthetic_data1,\n",
    "    metadata=metadata)"
   ]
  },
  {
   "cell_type": "code",
   "execution_count": 80,
   "id": "8bc1f6ce",
   "metadata": {},
   "outputs": [
    {
     "name": "stderr",
     "output_type": "stream",
     "text": [
      "Creating report: 100%|██████████| 4/4 [00:00<00:00,  9.56it/s]\n"
     ]
    },
    {
     "name": "stdout",
     "output_type": "stream",
     "text": [
      "\n",
      "Overall Quality Score: 69.66%\n",
      "\n",
      "Properties:\n",
      "Column Shapes: 73.89%\n",
      "Column Pair Trends: 65.43%\n"
     ]
    }
   ],
   "source": [
    "from sdv.evaluation.single_table import evaluate_quality\n",
    "\n",
    "quality_report = evaluate_quality(\n",
    "    real_data=data,\n",
    "    synthetic_data=synthetic_data2,\n",
    "    metadata=metadata)"
   ]
  },
  {
   "cell_type": "code",
   "execution_count": 81,
   "id": "707fbc20",
   "metadata": {},
   "outputs": [
    {
     "name": "stderr",
     "output_type": "stream",
     "text": [
      "Creating report: 100%|██████████| 4/4 [00:00<00:00,  9.54it/s]\n"
     ]
    },
    {
     "name": "stdout",
     "output_type": "stream",
     "text": [
      "\n",
      "Overall Quality Score: 78.02%\n",
      "\n",
      "Properties:\n",
      "Column Shapes: 86.62%\n",
      "Column Pair Trends: 69.43%\n"
     ]
    }
   ],
   "source": [
    "from sdv.evaluation.single_table import evaluate_quality\n",
    "\n",
    "quality_report = evaluate_quality(\n",
    "    real_data=data,\n",
    "    synthetic_data=synthetic_data3,\n",
    "    metadata=metadata)"
   ]
  },
  {
   "cell_type": "code",
   "execution_count": 82,
   "id": "61f13187",
   "metadata": {},
   "outputs": [
    {
     "name": "stderr",
     "output_type": "stream",
     "text": [
      "Creating report: 100%|██████████| 4/4 [00:00<00:00, 10.56it/s]\n"
     ]
    },
    {
     "name": "stdout",
     "output_type": "stream",
     "text": [
      "\n",
      "Overall Quality Score: 78.08%\n",
      "\n",
      "Properties:\n",
      "Column Shapes: 84.29%\n",
      "Column Pair Trends: 71.88%\n"
     ]
    }
   ],
   "source": [
    "from sdv.evaluation.single_table import evaluate_quality\n",
    "\n",
    "quality_report = evaluate_quality(\n",
    "    real_data=data,\n",
    "    synthetic_data=synthetic_data4,\n",
    "    metadata=metadata)"
   ]
  },
  {
   "cell_type": "code",
   "execution_count": 83,
   "id": "04cc60df",
   "metadata": {},
   "outputs": [
    {
     "name": "stderr",
     "output_type": "stream",
     "text": [
      "Creating report: 100%|██████████| 4/4 [00:00<00:00, 10.58it/s]\n"
     ]
    },
    {
     "name": "stdout",
     "output_type": "stream",
     "text": [
      "\n",
      "Overall Quality Score: 73.82%\n",
      "\n",
      "Properties:\n",
      "Column Shapes: 77.67%\n",
      "Column Pair Trends: 69.97%\n"
     ]
    }
   ],
   "source": [
    "from sdv.evaluation.single_table import evaluate_quality\n",
    "\n",
    "quality_report = evaluate_quality(\n",
    "    real_data=data,\n",
    "    synthetic_data=synthetic_data5,\n",
    "    metadata=metadata)"
   ]
  },
  {
   "cell_type": "code",
   "execution_count": 84,
   "id": "4439a7cc",
   "metadata": {},
   "outputs": [],
   "source": [
    "synthesizer1.save('C:/Users/shrus/Documents/Synthetic-data-generation/models/admissions/'+'admissions_best_singletablepreset.pkl')\n"
   ]
  },
  {
   "cell_type": "code",
   "execution_count": null,
   "id": "3aba5a28",
   "metadata": {},
   "outputs": [],
   "source": []
  }
 ],
 "metadata": {
  "kernelspec": {
   "display_name": "Python 3 (ipykernel)",
   "language": "python",
   "name": "python3"
  },
  "language_info": {
   "codemirror_mode": {
    "name": "ipython",
    "version": 3
   },
   "file_extension": ".py",
   "mimetype": "text/x-python",
   "name": "python",
   "nbconvert_exporter": "python",
   "pygments_lexer": "ipython3",
   "version": "3.10.9"
  }
 },
 "nbformat": 4,
 "nbformat_minor": 5
}
