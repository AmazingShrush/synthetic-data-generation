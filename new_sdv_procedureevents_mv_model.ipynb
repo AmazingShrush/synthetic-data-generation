{
 "cells": [
  {
   "cell_type": "code",
   "execution_count": 40,
   "id": "8da54d99",
   "metadata": {},
   "outputs": [],
   "source": [
    "# Ignore warnings\n",
    "import warnings\n",
    "warnings.filterwarnings(\"ignore\")\n"
   ]
  },
  {
   "cell_type": "code",
   "execution_count": 41,
   "id": "08f74e85",
   "metadata": {},
   "outputs": [],
   "source": [
    "import pandas as pd\n",
    "import numpy as np\n",
    "\n",
    "import commonfunc"
   ]
  },
  {
   "cell_type": "code",
   "execution_count": 42,
   "id": "327de9de",
   "metadata": {},
   "outputs": [],
   "source": [
    "data_set_path='C:/Users/shrus/Documents/Synthetic-data-generation/'"
   ]
  },
  {
   "cell_type": "code",
   "execution_count": 43,
   "id": "aa987a65",
   "metadata": {},
   "outputs": [],
   "source": [
    "procedureevents_mv_df = commonfunc.read_csv_no_rowid(data_set_path+\"sampled_data_csv_100/procedureevents_mv.csv\")"
   ]
  },
  {
   "cell_type": "code",
   "execution_count": 53,
   "id": "bbb32fca",
   "metadata": {},
   "outputs": [
    {
     "data": {
      "text/html": [
       "<div>\n",
       "<style scoped>\n",
       "    .dataframe tbody tr th:only-of-type {\n",
       "        vertical-align: middle;\n",
       "    }\n",
       "\n",
       "    .dataframe tbody tr th {\n",
       "        vertical-align: top;\n",
       "    }\n",
       "\n",
       "    .dataframe thead th {\n",
       "        text-align: right;\n",
       "    }\n",
       "</style>\n",
       "<table border=\"1\" class=\"dataframe\">\n",
       "  <thead>\n",
       "    <tr style=\"text-align: right;\">\n",
       "      <th></th>\n",
       "      <th>starttime</th>\n",
       "      <th>endtime</th>\n",
       "      <th>itemid</th>\n",
       "      <th>value</th>\n",
       "      <th>valueuom</th>\n",
       "      <th>orderid</th>\n",
       "      <th>linkorderid</th>\n",
       "      <th>ordercategoryname</th>\n",
       "      <th>ordercategorydescription</th>\n",
       "      <th>isopenbag</th>\n",
       "      <th>statusdescription</th>\n",
       "    </tr>\n",
       "  </thead>\n",
       "  <tbody>\n",
       "    <tr>\n",
       "      <th>0</th>\n",
       "      <td>2109-11-16 09:00:00</td>\n",
       "      <td>2109-11-16 21:17:00</td>\n",
       "      <td>224277</td>\n",
       "      <td>737.0</td>\n",
       "      <td>min</td>\n",
       "      <td>1242187</td>\n",
       "      <td>1242187</td>\n",
       "      <td>Peripheral Lines</td>\n",
       "      <td>Task</td>\n",
       "      <td>1</td>\n",
       "      <td>FinishedRunning</td>\n",
       "    </tr>\n",
       "    <tr>\n",
       "      <th>1</th>\n",
       "      <td>2109-11-16 09:16:00</td>\n",
       "      <td>2109-11-17 16:00:00</td>\n",
       "      <td>224277</td>\n",
       "      <td>1844.0</td>\n",
       "      <td>min</td>\n",
       "      <td>2598864</td>\n",
       "      <td>2598864</td>\n",
       "      <td>Peripheral Lines</td>\n",
       "      <td>Task</td>\n",
       "      <td>1</td>\n",
       "      <td>FinishedRunning</td>\n",
       "    </tr>\n",
       "    <tr>\n",
       "      <th>2</th>\n",
       "      <td>2109-11-16 20:00:00</td>\n",
       "      <td>2109-11-16 20:28:00</td>\n",
       "      <td>224277</td>\n",
       "      <td>28.0</td>\n",
       "      <td>min</td>\n",
       "      <td>4008354</td>\n",
       "      <td>4008354</td>\n",
       "      <td>Peripheral Lines</td>\n",
       "      <td>Task</td>\n",
       "      <td>1</td>\n",
       "      <td>FinishedRunning</td>\n",
       "    </tr>\n",
       "    <tr>\n",
       "      <th>3</th>\n",
       "      <td>2109-11-16 22:30:00</td>\n",
       "      <td>2109-11-16 22:31:00</td>\n",
       "      <td>225401</td>\n",
       "      <td>1.0</td>\n",
       "      <td>None</td>\n",
       "      <td>2525424</td>\n",
       "      <td>2525424</td>\n",
       "      <td>Procedures</td>\n",
       "      <td>Electrolytes</td>\n",
       "      <td>0</td>\n",
       "      <td>FinishedRunning</td>\n",
       "    </tr>\n",
       "    <tr>\n",
       "      <th>4</th>\n",
       "      <td>2109-11-16 22:30:00</td>\n",
       "      <td>2109-11-16 22:31:00</td>\n",
       "      <td>225454</td>\n",
       "      <td>1.0</td>\n",
       "      <td>None</td>\n",
       "      <td>1460562</td>\n",
       "      <td>1460562</td>\n",
       "      <td>Procedures</td>\n",
       "      <td>Electrolytes</td>\n",
       "      <td>0</td>\n",
       "      <td>FinishedRunning</td>\n",
       "    </tr>\n",
       "    <tr>\n",
       "      <th>...</th>\n",
       "      <td>...</td>\n",
       "      <td>...</td>\n",
       "      <td>...</td>\n",
       "      <td>...</td>\n",
       "      <td>...</td>\n",
       "      <td>...</td>\n",
       "      <td>...</td>\n",
       "      <td>...</td>\n",
       "      <td>...</td>\n",
       "      <td>...</td>\n",
       "      <td>...</td>\n",
       "    </tr>\n",
       "    <tr>\n",
       "      <th>586</th>\n",
       "      <td>2130-08-19 21:30:00</td>\n",
       "      <td>2130-08-20 07:17:00</td>\n",
       "      <td>224263</td>\n",
       "      <td>587.0</td>\n",
       "      <td>min</td>\n",
       "      <td>1331300</td>\n",
       "      <td>1331300</td>\n",
       "      <td>Invasive Lines</td>\n",
       "      <td>Task</td>\n",
       "      <td>1</td>\n",
       "      <td>FinishedRunning</td>\n",
       "    </tr>\n",
       "    <tr>\n",
       "      <th>587</th>\n",
       "      <td>2130-08-19 21:45:00</td>\n",
       "      <td>2130-08-20 01:32:00</td>\n",
       "      <td>225792</td>\n",
       "      <td>227.0</td>\n",
       "      <td>min</td>\n",
       "      <td>4867187</td>\n",
       "      <td>4867187</td>\n",
       "      <td>Ventilation</td>\n",
       "      <td>Task</td>\n",
       "      <td>1</td>\n",
       "      <td>FinishedRunning</td>\n",
       "    </tr>\n",
       "    <tr>\n",
       "      <th>588</th>\n",
       "      <td>2130-08-19 23:50:00</td>\n",
       "      <td>2130-08-20 07:17:00</td>\n",
       "      <td>224263</td>\n",
       "      <td>447.0</td>\n",
       "      <td>min</td>\n",
       "      <td>8544438</td>\n",
       "      <td>8544438</td>\n",
       "      <td>Invasive Lines</td>\n",
       "      <td>Task</td>\n",
       "      <td>1</td>\n",
       "      <td>FinishedRunning</td>\n",
       "    </tr>\n",
       "    <tr>\n",
       "      <th>589</th>\n",
       "      <td>2121-11-23 20:09:00</td>\n",
       "      <td>2121-11-24 00:38:00</td>\n",
       "      <td>224274</td>\n",
       "      <td>269.0</td>\n",
       "      <td>min</td>\n",
       "      <td>6899638</td>\n",
       "      <td>6899638</td>\n",
       "      <td>Peripheral Lines</td>\n",
       "      <td>Task</td>\n",
       "      <td>1</td>\n",
       "      <td>FinishedRunning</td>\n",
       "    </tr>\n",
       "    <tr>\n",
       "      <th>590</th>\n",
       "      <td>2121-11-23 20:11:00</td>\n",
       "      <td>2121-11-24 00:38:00</td>\n",
       "      <td>225441</td>\n",
       "      <td>267.0</td>\n",
       "      <td>min</td>\n",
       "      <td>1232281</td>\n",
       "      <td>1232281</td>\n",
       "      <td>Continuous Procedures</td>\n",
       "      <td>Task</td>\n",
       "      <td>1</td>\n",
       "      <td>FinishedRunning</td>\n",
       "    </tr>\n",
       "  </tbody>\n",
       "</table>\n",
       "<p>591 rows × 11 columns</p>\n",
       "</div>"
      ],
      "text/plain": [
       "              starttime             endtime  itemid   value valueuom  orderid  \\\n",
       "0   2109-11-16 09:00:00 2109-11-16 21:17:00  224277   737.0      min  1242187   \n",
       "1   2109-11-16 09:16:00 2109-11-17 16:00:00  224277  1844.0      min  2598864   \n",
       "2   2109-11-16 20:00:00 2109-11-16 20:28:00  224277    28.0      min  4008354   \n",
       "3   2109-11-16 22:30:00 2109-11-16 22:31:00  225401     1.0     None  2525424   \n",
       "4   2109-11-16 22:30:00 2109-11-16 22:31:00  225454     1.0     None  1460562   \n",
       "..                  ...                 ...     ...     ...      ...      ...   \n",
       "586 2130-08-19 21:30:00 2130-08-20 07:17:00  224263   587.0      min  1331300   \n",
       "587 2130-08-19 21:45:00 2130-08-20 01:32:00  225792   227.0      min  4867187   \n",
       "588 2130-08-19 23:50:00 2130-08-20 07:17:00  224263   447.0      min  8544438   \n",
       "589 2121-11-23 20:09:00 2121-11-24 00:38:00  224274   269.0      min  6899638   \n",
       "590 2121-11-23 20:11:00 2121-11-24 00:38:00  225441   267.0      min  1232281   \n",
       "\n",
       "     linkorderid      ordercategoryname ordercategorydescription  isopenbag  \\\n",
       "0        1242187       Peripheral Lines                     Task          1   \n",
       "1        2598864       Peripheral Lines                     Task          1   \n",
       "2        4008354       Peripheral Lines                     Task          1   \n",
       "3        2525424             Procedures             Electrolytes          0   \n",
       "4        1460562             Procedures             Electrolytes          0   \n",
       "..           ...                    ...                      ...        ...   \n",
       "586      1331300         Invasive Lines                     Task          1   \n",
       "587      4867187            Ventilation                     Task          1   \n",
       "588      8544438         Invasive Lines                     Task          1   \n",
       "589      6899638       Peripheral Lines                     Task          1   \n",
       "590      1232281  Continuous Procedures                     Task          1   \n",
       "\n",
       "    statusdescription  \n",
       "0     FinishedRunning  \n",
       "1     FinishedRunning  \n",
       "2     FinishedRunning  \n",
       "3     FinishedRunning  \n",
       "4     FinishedRunning  \n",
       "..                ...  \n",
       "586   FinishedRunning  \n",
       "587   FinishedRunning  \n",
       "588   FinishedRunning  \n",
       "589   FinishedRunning  \n",
       "590   FinishedRunning  \n",
       "\n",
       "[591 rows x 11 columns]"
      ]
     },
     "execution_count": 53,
     "metadata": {},
     "output_type": "execute_result"
    }
   ],
   "source": [
    "procedureevents_mv_df"
   ]
  },
  {
   "cell_type": "markdown",
   "id": "4e1a018a",
   "metadata": {},
   "source": [
    "## Data Preprocess"
   ]
  },
  {
   "cell_type": "code",
   "execution_count": 45,
   "id": "c4c1b250",
   "metadata": {},
   "outputs": [],
   "source": [
    "# Drop some columns\n",
    "procedureevents_mv_df.drop(['location', 'locationcategory', 'storetime', 'cgid', 'secondaryordercategoryname', \n",
    "    'continueinnextdept', 'cancelreason', 'comments_editedby', 'comments_canceledby', 'comments_date'], axis=1, inplace=True)"
   ]
  },
  {
   "cell_type": "code",
   "execution_count": 46,
   "id": "55c0b82b",
   "metadata": {},
   "outputs": [
    {
     "data": {
      "text/plain": [
       "subject_id                  0\n",
       "hadm_id                     0\n",
       "icustay_id                  2\n",
       "starttime                   0\n",
       "endtime                     0\n",
       "itemid                      0\n",
       "value                       0\n",
       "valueuom                    0\n",
       "orderid                     0\n",
       "linkorderid                 0\n",
       "ordercategoryname           0\n",
       "ordercategorydescription    0\n",
       "isopenbag                   0\n",
       "statusdescription           0\n",
       "dtype: int64"
      ]
     },
     "execution_count": 46,
     "metadata": {},
     "output_type": "execute_result"
    }
   ],
   "source": [
    "# Missing values\n",
    "procedureevents_mv_df.isnull().sum()"
   ]
  },
  {
   "cell_type": "code",
   "execution_count": 47,
   "id": "5ecff77d",
   "metadata": {},
   "outputs": [
    {
     "data": {
      "text/plain": [
       "subject_id                    int64\n",
       "hadm_id                       int64\n",
       "icustay_id                  float64\n",
       "starttime                    object\n",
       "endtime                      object\n",
       "itemid                        int64\n",
       "value                       float64\n",
       "valueuom                     object\n",
       "orderid                       int64\n",
       "linkorderid                   int64\n",
       "ordercategoryname            object\n",
       "ordercategorydescription     object\n",
       "isopenbag                     int64\n",
       "statusdescription            object\n",
       "dtype: object"
      ]
     },
     "execution_count": 47,
     "metadata": {},
     "output_type": "execute_result"
    }
   ],
   "source": [
    "procedureevents_mv_df.dtypes"
   ]
  },
  {
   "cell_type": "code",
   "execution_count": 48,
   "id": "e49bb4f2",
   "metadata": {},
   "outputs": [],
   "source": [
    "procedureevents_mv_df['starttime'] = pd.to_datetime(procedureevents_mv_df['starttime'])\n",
    "procedureevents_mv_df['endtime'] = pd.to_datetime(procedureevents_mv_df['endtime'])"
   ]
  },
  {
   "cell_type": "code",
   "execution_count": 49,
   "id": "82ddaa6b",
   "metadata": {},
   "outputs": [],
   "source": [
    "# process special data\n",
    "invalid_index = procedureevents_mv_df.loc[(procedureevents_mv_df['starttime'] > procedureevents_mv_df['endtime']) == True].index\n",
    "procedureevents_mv_df.drop(invalid_index, inplace=True, axis=0)"
   ]
  },
  {
   "cell_type": "code",
   "execution_count": 50,
   "id": "4d2cf570",
   "metadata": {},
   "outputs": [
    {
     "data": {
      "text/html": [
       "<div>\n",
       "<style scoped>\n",
       "    .dataframe tbody tr th:only-of-type {\n",
       "        vertical-align: middle;\n",
       "    }\n",
       "\n",
       "    .dataframe tbody tr th {\n",
       "        vertical-align: top;\n",
       "    }\n",
       "\n",
       "    .dataframe thead th {\n",
       "        text-align: right;\n",
       "    }\n",
       "</style>\n",
       "<table border=\"1\" class=\"dataframe\">\n",
       "  <thead>\n",
       "    <tr style=\"text-align: right;\">\n",
       "      <th></th>\n",
       "      <th>subject_id</th>\n",
       "      <th>hadm_id</th>\n",
       "      <th>icustay_id</th>\n",
       "      <th>starttime</th>\n",
       "      <th>endtime</th>\n",
       "      <th>itemid</th>\n",
       "      <th>value</th>\n",
       "      <th>valueuom</th>\n",
       "      <th>orderid</th>\n",
       "      <th>linkorderid</th>\n",
       "      <th>ordercategoryname</th>\n",
       "      <th>ordercategorydescription</th>\n",
       "      <th>isopenbag</th>\n",
       "      <th>statusdescription</th>\n",
       "    </tr>\n",
       "  </thead>\n",
       "  <tbody>\n",
       "    <tr>\n",
       "      <th>0</th>\n",
       "      <td>87197</td>\n",
       "      <td>176931</td>\n",
       "      <td>209341.0</td>\n",
       "      <td>2109-11-16 09:00:00</td>\n",
       "      <td>2109-11-16 21:17:00</td>\n",
       "      <td>224277</td>\n",
       "      <td>737.0</td>\n",
       "      <td>min</td>\n",
       "      <td>1242187</td>\n",
       "      <td>1242187</td>\n",
       "      <td>Peripheral Lines</td>\n",
       "      <td>Task</td>\n",
       "      <td>1</td>\n",
       "      <td>FinishedRunning</td>\n",
       "    </tr>\n",
       "    <tr>\n",
       "      <th>1</th>\n",
       "      <td>87197</td>\n",
       "      <td>176931</td>\n",
       "      <td>209341.0</td>\n",
       "      <td>2109-11-16 09:16:00</td>\n",
       "      <td>2109-11-17 16:00:00</td>\n",
       "      <td>224277</td>\n",
       "      <td>1844.0</td>\n",
       "      <td>min</td>\n",
       "      <td>2598864</td>\n",
       "      <td>2598864</td>\n",
       "      <td>Peripheral Lines</td>\n",
       "      <td>Task</td>\n",
       "      <td>1</td>\n",
       "      <td>FinishedRunning</td>\n",
       "    </tr>\n",
       "    <tr>\n",
       "      <th>2</th>\n",
       "      <td>87197</td>\n",
       "      <td>176931</td>\n",
       "      <td>209341.0</td>\n",
       "      <td>2109-11-16 20:00:00</td>\n",
       "      <td>2109-11-16 20:28:00</td>\n",
       "      <td>224277</td>\n",
       "      <td>28.0</td>\n",
       "      <td>min</td>\n",
       "      <td>4008354</td>\n",
       "      <td>4008354</td>\n",
       "      <td>Peripheral Lines</td>\n",
       "      <td>Task</td>\n",
       "      <td>1</td>\n",
       "      <td>FinishedRunning</td>\n",
       "    </tr>\n",
       "    <tr>\n",
       "      <th>3</th>\n",
       "      <td>87197</td>\n",
       "      <td>176931</td>\n",
       "      <td>209341.0</td>\n",
       "      <td>2109-11-16 22:30:00</td>\n",
       "      <td>2109-11-16 22:31:00</td>\n",
       "      <td>225401</td>\n",
       "      <td>1.0</td>\n",
       "      <td>None</td>\n",
       "      <td>2525424</td>\n",
       "      <td>2525424</td>\n",
       "      <td>Procedures</td>\n",
       "      <td>Electrolytes</td>\n",
       "      <td>0</td>\n",
       "      <td>FinishedRunning</td>\n",
       "    </tr>\n",
       "    <tr>\n",
       "      <th>4</th>\n",
       "      <td>87197</td>\n",
       "      <td>176931</td>\n",
       "      <td>209341.0</td>\n",
       "      <td>2109-11-16 22:30:00</td>\n",
       "      <td>2109-11-16 22:31:00</td>\n",
       "      <td>225454</td>\n",
       "      <td>1.0</td>\n",
       "      <td>None</td>\n",
       "      <td>1460562</td>\n",
       "      <td>1460562</td>\n",
       "      <td>Procedures</td>\n",
       "      <td>Electrolytes</td>\n",
       "      <td>0</td>\n",
       "      <td>FinishedRunning</td>\n",
       "    </tr>\n",
       "    <tr>\n",
       "      <th>...</th>\n",
       "      <td>...</td>\n",
       "      <td>...</td>\n",
       "      <td>...</td>\n",
       "      <td>...</td>\n",
       "      <td>...</td>\n",
       "      <td>...</td>\n",
       "      <td>...</td>\n",
       "      <td>...</td>\n",
       "      <td>...</td>\n",
       "      <td>...</td>\n",
       "      <td>...</td>\n",
       "      <td>...</td>\n",
       "      <td>...</td>\n",
       "      <td>...</td>\n",
       "    </tr>\n",
       "    <tr>\n",
       "      <th>586</th>\n",
       "      <td>58667</td>\n",
       "      <td>197356</td>\n",
       "      <td>249803.0</td>\n",
       "      <td>2130-08-19 21:30:00</td>\n",
       "      <td>2130-08-20 07:17:00</td>\n",
       "      <td>224263</td>\n",
       "      <td>587.0</td>\n",
       "      <td>min</td>\n",
       "      <td>1331300</td>\n",
       "      <td>1331300</td>\n",
       "      <td>Invasive Lines</td>\n",
       "      <td>Task</td>\n",
       "      <td>1</td>\n",
       "      <td>FinishedRunning</td>\n",
       "    </tr>\n",
       "    <tr>\n",
       "      <th>587</th>\n",
       "      <td>58667</td>\n",
       "      <td>197356</td>\n",
       "      <td>249803.0</td>\n",
       "      <td>2130-08-19 21:45:00</td>\n",
       "      <td>2130-08-20 01:32:00</td>\n",
       "      <td>225792</td>\n",
       "      <td>227.0</td>\n",
       "      <td>min</td>\n",
       "      <td>4867187</td>\n",
       "      <td>4867187</td>\n",
       "      <td>Ventilation</td>\n",
       "      <td>Task</td>\n",
       "      <td>1</td>\n",
       "      <td>FinishedRunning</td>\n",
       "    </tr>\n",
       "    <tr>\n",
       "      <th>588</th>\n",
       "      <td>58667</td>\n",
       "      <td>197356</td>\n",
       "      <td>249803.0</td>\n",
       "      <td>2130-08-19 23:50:00</td>\n",
       "      <td>2130-08-20 07:17:00</td>\n",
       "      <td>224263</td>\n",
       "      <td>447.0</td>\n",
       "      <td>min</td>\n",
       "      <td>8544438</td>\n",
       "      <td>8544438</td>\n",
       "      <td>Invasive Lines</td>\n",
       "      <td>Task</td>\n",
       "      <td>1</td>\n",
       "      <td>FinishedRunning</td>\n",
       "    </tr>\n",
       "    <tr>\n",
       "      <th>589</th>\n",
       "      <td>52058</td>\n",
       "      <td>146270</td>\n",
       "      <td>292639.0</td>\n",
       "      <td>2121-11-23 20:09:00</td>\n",
       "      <td>2121-11-24 00:38:00</td>\n",
       "      <td>224274</td>\n",
       "      <td>269.0</td>\n",
       "      <td>min</td>\n",
       "      <td>6899638</td>\n",
       "      <td>6899638</td>\n",
       "      <td>Peripheral Lines</td>\n",
       "      <td>Task</td>\n",
       "      <td>1</td>\n",
       "      <td>FinishedRunning</td>\n",
       "    </tr>\n",
       "    <tr>\n",
       "      <th>590</th>\n",
       "      <td>52058</td>\n",
       "      <td>146270</td>\n",
       "      <td>292639.0</td>\n",
       "      <td>2121-11-23 20:11:00</td>\n",
       "      <td>2121-11-24 00:38:00</td>\n",
       "      <td>225441</td>\n",
       "      <td>267.0</td>\n",
       "      <td>min</td>\n",
       "      <td>1232281</td>\n",
       "      <td>1232281</td>\n",
       "      <td>Continuous Procedures</td>\n",
       "      <td>Task</td>\n",
       "      <td>1</td>\n",
       "      <td>FinishedRunning</td>\n",
       "    </tr>\n",
       "  </tbody>\n",
       "</table>\n",
       "<p>591 rows × 14 columns</p>\n",
       "</div>"
      ],
      "text/plain": [
       "     subject_id  hadm_id  icustay_id           starttime             endtime  \\\n",
       "0         87197   176931    209341.0 2109-11-16 09:00:00 2109-11-16 21:17:00   \n",
       "1         87197   176931    209341.0 2109-11-16 09:16:00 2109-11-17 16:00:00   \n",
       "2         87197   176931    209341.0 2109-11-16 20:00:00 2109-11-16 20:28:00   \n",
       "3         87197   176931    209341.0 2109-11-16 22:30:00 2109-11-16 22:31:00   \n",
       "4         87197   176931    209341.0 2109-11-16 22:30:00 2109-11-16 22:31:00   \n",
       "..          ...      ...         ...                 ...                 ...   \n",
       "586       58667   197356    249803.0 2130-08-19 21:30:00 2130-08-20 07:17:00   \n",
       "587       58667   197356    249803.0 2130-08-19 21:45:00 2130-08-20 01:32:00   \n",
       "588       58667   197356    249803.0 2130-08-19 23:50:00 2130-08-20 07:17:00   \n",
       "589       52058   146270    292639.0 2121-11-23 20:09:00 2121-11-24 00:38:00   \n",
       "590       52058   146270    292639.0 2121-11-23 20:11:00 2121-11-24 00:38:00   \n",
       "\n",
       "     itemid   value valueuom  orderid  linkorderid      ordercategoryname  \\\n",
       "0    224277   737.0      min  1242187      1242187       Peripheral Lines   \n",
       "1    224277  1844.0      min  2598864      2598864       Peripheral Lines   \n",
       "2    224277    28.0      min  4008354      4008354       Peripheral Lines   \n",
       "3    225401     1.0     None  2525424      2525424             Procedures   \n",
       "4    225454     1.0     None  1460562      1460562             Procedures   \n",
       "..      ...     ...      ...      ...          ...                    ...   \n",
       "586  224263   587.0      min  1331300      1331300         Invasive Lines   \n",
       "587  225792   227.0      min  4867187      4867187            Ventilation   \n",
       "588  224263   447.0      min  8544438      8544438         Invasive Lines   \n",
       "589  224274   269.0      min  6899638      6899638       Peripheral Lines   \n",
       "590  225441   267.0      min  1232281      1232281  Continuous Procedures   \n",
       "\n",
       "    ordercategorydescription  isopenbag statusdescription  \n",
       "0                       Task          1   FinishedRunning  \n",
       "1                       Task          1   FinishedRunning  \n",
       "2                       Task          1   FinishedRunning  \n",
       "3               Electrolytes          0   FinishedRunning  \n",
       "4               Electrolytes          0   FinishedRunning  \n",
       "..                       ...        ...               ...  \n",
       "586                     Task          1   FinishedRunning  \n",
       "587                     Task          1   FinishedRunning  \n",
       "588                     Task          1   FinishedRunning  \n",
       "589                     Task          1   FinishedRunning  \n",
       "590                     Task          1   FinishedRunning  \n",
       "\n",
       "[591 rows x 14 columns]"
      ]
     },
     "execution_count": 50,
     "metadata": {},
     "output_type": "execute_result"
    }
   ],
   "source": [
    "procedureevents_mv_df"
   ]
  },
  {
   "cell_type": "code",
   "execution_count": 51,
   "id": "02b4f277",
   "metadata": {},
   "outputs": [],
   "source": [
    "procedureevents_mv_df = procedureevents_mv_df.drop(['subject_id', 'hadm_id', 'icustay_id'], axis=1)"
   ]
  },
  {
   "cell_type": "code",
   "execution_count": 52,
   "id": "28079599",
   "metadata": {},
   "outputs": [
    {
     "data": {
      "text/plain": [
       "Index(['starttime', 'endtime', 'itemid', 'value', 'valueuom', 'orderid',\n",
       "       'linkorderid', 'ordercategoryname', 'ordercategorydescription',\n",
       "       'isopenbag', 'statusdescription'],\n",
       "      dtype='object')"
      ]
     },
     "execution_count": 52,
     "metadata": {},
     "output_type": "execute_result"
    }
   ],
   "source": [
    "procedureevents_mv_df.columns"
   ]
  },
  {
   "cell_type": "markdown",
   "id": "bbfead9b",
   "metadata": {},
   "source": [
    "## Metadata"
   ]
  },
  {
   "cell_type": "code",
   "execution_count": 16,
   "id": "feced368",
   "metadata": {},
   "outputs": [],
   "source": [
    "from sdv.metadata import SingleTableMetadata\n",
    "\n",
    "metadata = SingleTableMetadata()"
   ]
  },
  {
   "cell_type": "code",
   "execution_count": 17,
   "id": "bbabd538",
   "metadata": {},
   "outputs": [],
   "source": [
    "metadata.detect_from_dataframe(data=procedureevents_mv_df)"
   ]
  },
  {
   "cell_type": "code",
   "execution_count": 19,
   "id": "93b4aaa9",
   "metadata": {},
   "outputs": [
    {
     "data": {
      "text/plain": [
       "{\n",
       "    \"METADATA_SPEC_VERSION\": \"SINGLE_TABLE_V1\",\n",
       "    \"columns\": {\n",
       "        \"starttime\": {\n",
       "            \"sdtype\": \"datetime\"\n",
       "        },\n",
       "        \"endtime\": {\n",
       "            \"sdtype\": \"datetime\"\n",
       "        },\n",
       "        \"itemid\": {\n",
       "            \"sdtype\": \"numerical\"\n",
       "        },\n",
       "        \"value\": {\n",
       "            \"sdtype\": \"numerical\"\n",
       "        },\n",
       "        \"valueuom\": {\n",
       "            \"sdtype\": \"categorical\"\n",
       "        },\n",
       "        \"orderid\": {\n",
       "            \"sdtype\": \"numerical\"\n",
       "        },\n",
       "        \"linkorderid\": {\n",
       "            \"sdtype\": \"numerical\"\n",
       "        },\n",
       "        \"ordercategoryname\": {\n",
       "            \"sdtype\": \"categorical\"\n",
       "        },\n",
       "        \"ordercategorydescription\": {\n",
       "            \"sdtype\": \"categorical\"\n",
       "        },\n",
       "        \"isopenbag\": {\n",
       "            \"sdtype\": \"numerical\"\n",
       "        },\n",
       "        \"statusdescription\": {\n",
       "            \"sdtype\": \"categorical\"\n",
       "        }\n",
       "    }\n",
       "}"
      ]
     },
     "execution_count": 19,
     "metadata": {},
     "output_type": "execute_result"
    }
   ],
   "source": [
    "metadata"
   ]
  },
  {
   "cell_type": "code",
   "execution_count": 25,
   "id": "a4251323",
   "metadata": {},
   "outputs": [],
   "source": [
    "metadata.update_column(\n",
    "    column_name='orderid',\n",
    "    sdtype='categorical'\n",
    ")\n",
    "\n",
    "metadata.update_column(\n",
    "    column_name='linkorderid',\n",
    "    sdtype='categorical'\n",
    ")\n",
    "\n",
    "metadata.update_column(\n",
    "    column_name='isopenbag',\n",
    "    sdtype='categorical'\n",
    ")\n",
    "metadata.update_column(\n",
    "    column_name='itemid',\n",
    "    sdtype='categorical'\n",
    ")\n",
    "metadata.update_column(\n",
    "    column_name='value',\n",
    "    sdtype='categorical'\n",
    ")"
   ]
  },
  {
   "cell_type": "markdown",
   "id": "bd6d62aa",
   "metadata": {},
   "source": [
    "# Building model"
   ]
  },
  {
   "cell_type": "markdown",
   "id": "adc12868",
   "metadata": {},
   "source": [
    "## Set constraints"
   ]
  },
  {
   "cell_type": "code",
   "execution_count": 26,
   "id": "c2e18d6d",
   "metadata": {},
   "outputs": [],
   "source": [
    "\n",
    "fixed_constraint1 = {\n",
    "    'constraint_class': 'FixedCombinations',\n",
    "    'constraint_parameters': {\n",
    "        'column_names': ['itemid', 'value', 'valueuom']\n",
    "    }\n",
    "}\n",
    "\n",
    "fixed_constraint2 = {\n",
    "    'constraint_class': 'FixedCombinations',\n",
    "    'constraint_parameters': {\n",
    "        'column_names': ['orderid', 'linkorderid', 'ordercategoryname', 'ordercategorydescription']\n",
    "    }\n",
    "}"
   ]
  },
  {
   "cell_type": "markdown",
   "id": "d78cae60",
   "metadata": {},
   "source": [
    "## Modelling"
   ]
  },
  {
   "cell_type": "code",
   "execution_count": 27,
   "id": "23a056a3",
   "metadata": {},
   "outputs": [],
   "source": [
    "data=procedureevents_mv_df"
   ]
  },
  {
   "cell_type": "code",
   "execution_count": 29,
   "id": "3bf027ba",
   "metadata": {},
   "outputs": [
    {
     "name": "stderr",
     "output_type": "stream",
     "text": [
      "Sampling rows: 100%|██████████| 591/591 [00:00<00:00, 13460.66it/s]\n"
     ]
    }
   ],
   "source": [
    "from sdv.lite import SingleTablePreset\n",
    "\n",
    "synthesizer1 = SingleTablePreset(metadata, name='FAST_ML')\n",
    "synthesizer1.add_constraints(constraints=[\n",
    "    fixed_constraint1, fixed_constraint2\n",
    "])\n",
    "synthesizer1.fit(data)\n",
    "\n",
    "\n",
    "synthetic_data1 = synthesizer1.sample(num_rows=len(data))"
   ]
  },
  {
   "cell_type": "code",
   "execution_count": 30,
   "id": "15af8f09",
   "metadata": {},
   "outputs": [
    {
     "name": "stderr",
     "output_type": "stream",
     "text": [
      "Sampling rows: 100%|██████████| 591/591 [00:00<00:00, 12102.68it/s]\n"
     ]
    }
   ],
   "source": [
    "from sdv.single_table import GaussianCopulaSynthesizer\n",
    "\n",
    "synthesizer2 = GaussianCopulaSynthesizer(metadata)\n",
    "synthesizer2.add_constraints(constraints=[\n",
    "    fixed_constraint1, fixed_constraint2\n",
    "])\n",
    "synthesizer2.fit(data)\n",
    "\n",
    "synthetic_data2 = synthesizer2.sample(num_rows=len(data))"
   ]
  },
  {
   "cell_type": "code",
   "execution_count": 31,
   "id": "9190ffc1",
   "metadata": {},
   "outputs": [
    {
     "name": "stderr",
     "output_type": "stream",
     "text": [
      "Sampling rows: 100%|██████████| 591/591 [00:01<00:00, 378.01it/s]\n"
     ]
    }
   ],
   "source": [
    "from sdv.single_table import CTGANSynthesizer\n",
    "\n",
    "synthesizer3 = CTGANSynthesizer(metadata)\n",
    "synthesizer3.add_constraints(constraints=[\n",
    "    fixed_constraint1, fixed_constraint2\n",
    "])\n",
    "synthesizer3.fit(data)\n",
    "\n",
    "synthetic_data3 = synthesizer3.sample(num_rows=len(data))"
   ]
  },
  {
   "cell_type": "code",
   "execution_count": 32,
   "id": "0e5a4599",
   "metadata": {},
   "outputs": [
    {
     "name": "stderr",
     "output_type": "stream",
     "text": [
      "Sampling rows: 100%|██████████| 591/591 [00:00<00:00, 2951.93it/s]\n"
     ]
    }
   ],
   "source": [
    "from sdv.single_table import TVAESynthesizer\n",
    "\n",
    "synthesizer4 = TVAESynthesizer(metadata)\n",
    "synthesizer4.add_constraints(constraints=[\n",
    "    fixed_constraint1, fixed_constraint2\n",
    "])\n",
    "synthesizer4.fit(data)\n",
    "\n",
    "synthetic_data4 = synthesizer4.sample(num_rows=len(data))"
   ]
  },
  {
   "cell_type": "code",
   "execution_count": 33,
   "id": "1c6f34ae",
   "metadata": {},
   "outputs": [
    {
     "name": "stderr",
     "output_type": "stream",
     "text": [
      "Sampling rows: 100%|██████████| 591/591 [00:01<00:00, 393.87it/s]\n"
     ]
    }
   ],
   "source": [
    "from sdv.single_table import CopulaGANSynthesizer\n",
    "\n",
    "synthesizer5 = CopulaGANSynthesizer(metadata)\n",
    "synthesizer5.add_constraints(constraints=[\n",
    "    fixed_constraint1, fixed_constraint2\n",
    "])\n",
    "synthesizer5.fit(data)\n",
    "\n",
    "synthetic_data5 = synthesizer5.sample(num_rows=len(data))"
   ]
  },
  {
   "cell_type": "markdown",
   "id": "449e8f81",
   "metadata": {},
   "source": [
    "# Evaluation of models"
   ]
  },
  {
   "cell_type": "code",
   "execution_count": 34,
   "id": "e5991e33",
   "metadata": {},
   "outputs": [
    {
     "name": "stderr",
     "output_type": "stream",
     "text": [
      "Creating report: 100%|██████████| 4/4 [00:02<00:00,  1.44it/s]\n"
     ]
    },
    {
     "name": "stdout",
     "output_type": "stream",
     "text": [
      "\n",
      "Overall Quality Score: 68.42%\n",
      "\n",
      "Properties:\n",
      "Column Shapes: 84.02%\n",
      "Column Pair Trends: 52.83%\n"
     ]
    }
   ],
   "source": [
    "from sdv.evaluation.single_table import evaluate_quality\n",
    "\n",
    "quality_report = evaluate_quality(\n",
    "    real_data=data,\n",
    "    synthetic_data=synthetic_data1,\n",
    "    metadata=metadata)"
   ]
  },
  {
   "cell_type": "code",
   "execution_count": 35,
   "id": "cc911723",
   "metadata": {},
   "outputs": [
    {
     "name": "stderr",
     "output_type": "stream",
     "text": [
      "Creating report: 100%|██████████| 4/4 [00:02<00:00,  1.67it/s]\n"
     ]
    },
    {
     "name": "stdout",
     "output_type": "stream",
     "text": [
      "\n",
      "Overall Quality Score: 64.93%\n",
      "\n",
      "Properties:\n",
      "Column Shapes: 79.22%\n",
      "Column Pair Trends: 50.64%\n"
     ]
    }
   ],
   "source": [
    "from sdv.evaluation.single_table import evaluate_quality\n",
    "\n",
    "quality_report = evaluate_quality(\n",
    "    real_data=data,\n",
    "    synthetic_data=synthetic_data2,\n",
    "    metadata=metadata)"
   ]
  },
  {
   "cell_type": "code",
   "execution_count": 36,
   "id": "ff14640f",
   "metadata": {},
   "outputs": [
    {
     "name": "stderr",
     "output_type": "stream",
     "text": [
      "Creating report: 100%|██████████| 4/4 [00:02<00:00,  1.56it/s]\n"
     ]
    },
    {
     "name": "stdout",
     "output_type": "stream",
     "text": [
      "\n",
      "Overall Quality Score: 65.64%\n",
      "\n",
      "Properties:\n",
      "Column Shapes: 79.83%\n",
      "Column Pair Trends: 51.45%\n"
     ]
    }
   ],
   "source": [
    "from sdv.evaluation.single_table import evaluate_quality\n",
    "\n",
    "quality_report = evaluate_quality(\n",
    "    real_data=data,\n",
    "    synthetic_data=synthetic_data3,\n",
    "    metadata=metadata)"
   ]
  },
  {
   "cell_type": "code",
   "execution_count": 37,
   "id": "7c7c47f7",
   "metadata": {},
   "outputs": [
    {
     "name": "stderr",
     "output_type": "stream",
     "text": [
      "Creating report: 100%|██████████| 4/4 [00:03<00:00,  1.07it/s]\n"
     ]
    },
    {
     "name": "stdout",
     "output_type": "stream",
     "text": [
      "\n",
      "Overall Quality Score: 54.18%\n",
      "\n",
      "Properties:\n",
      "Column Shapes: 65.77%\n",
      "Column Pair Trends: 42.58%\n"
     ]
    }
   ],
   "source": [
    "from sdv.evaluation.single_table import evaluate_quality\n",
    "\n",
    "quality_report = evaluate_quality(\n",
    "    real_data=data,\n",
    "    synthetic_data=synthetic_data4,\n",
    "    metadata=metadata)"
   ]
  },
  {
   "cell_type": "code",
   "execution_count": 38,
   "id": "1494c1df",
   "metadata": {},
   "outputs": [
    {
     "name": "stderr",
     "output_type": "stream",
     "text": [
      "Creating report: 100%|██████████| 4/4 [00:02<00:00,  1.56it/s]\n"
     ]
    },
    {
     "name": "stdout",
     "output_type": "stream",
     "text": [
      "\n",
      "Overall Quality Score: 65.27%\n",
      "\n",
      "Properties:\n",
      "Column Shapes: 79.56%\n",
      "Column Pair Trends: 50.98%\n"
     ]
    }
   ],
   "source": [
    "from sdv.evaluation.single_table import evaluate_quality\n",
    "\n",
    "quality_report = evaluate_quality(\n",
    "    real_data=data,\n",
    "    synthetic_data=synthetic_data5,\n",
    "    metadata=metadata)"
   ]
  },
  {
   "cell_type": "code",
   "execution_count": 39,
   "id": "5ffdf71c",
   "metadata": {},
   "outputs": [],
   "source": [
    "synthesizer1.save('C:/Users/shrus/Documents/Synthetic-data-generation/models/procedureevents_mv/'+'procedureevents_mv_best_tabularpreset.pkl')\n"
   ]
  },
  {
   "cell_type": "code",
   "execution_count": null,
   "id": "507042f8",
   "metadata": {},
   "outputs": [],
   "source": []
  }
 ],
 "metadata": {
  "kernelspec": {
   "display_name": "Python 3 (ipykernel)",
   "language": "python",
   "name": "python3"
  },
  "language_info": {
   "codemirror_mode": {
    "name": "ipython",
    "version": 3
   },
   "file_extension": ".py",
   "mimetype": "text/x-python",
   "name": "python",
   "nbconvert_exporter": "python",
   "pygments_lexer": "ipython3",
   "version": "3.10.9"
  }
 },
 "nbformat": 4,
 "nbformat_minor": 5
}
