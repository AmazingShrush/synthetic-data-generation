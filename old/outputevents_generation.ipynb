{
 "cells": [
  {
   "cell_type": "code",
   "execution_count": 1,
   "metadata": {
    "executionInfo": {
     "elapsed": 411,
     "status": "ok",
     "timestamp": 1658454412729,
     "user": {
      "displayName": "Alaskyed Ala",
      "userId": "06306570059054139627"
     },
     "user_tz": -60
    },
    "id": "upK_sL9XI1Qz"
   },
   "outputs": [],
   "source": [
    "# from google.colab import drive\n",
    "# drive.mount('/content/drive')"
   ]
  },
  {
   "cell_type": "code",
   "execution_count": 2,
   "metadata": {
    "executionInfo": {
     "elapsed": 5,
     "status": "ok",
     "timestamp": 1658454413101,
     "user": {
      "displayName": "Alaskyed Ala",
      "userId": "06306570059054139627"
     },
     "user_tz": -60
    },
    "id": "DBpu5iKQLAMS"
   },
   "outputs": [],
   "source": [
    "# ! pip install sdv"
   ]
  },
  {
   "cell_type": "code",
   "execution_count": 3,
   "metadata": {
    "executionInfo": {
     "elapsed": 6,
     "status": "ok",
     "timestamp": 1658454413102,
     "user": {
      "displayName": "Alaskyed Ala",
      "userId": "06306570059054139627"
     },
     "user_tz": -60
    },
    "id": "riQqBBwHLHwB"
   },
   "outputs": [],
   "source": [
    "# Ignore warnings\n",
    "import warnings\n",
    "warnings.filterwarnings(\"ignore\")"
   ]
  },
  {
   "cell_type": "code",
   "execution_count": 4,
   "metadata": {
    "executionInfo": {
     "elapsed": 227,
     "status": "ok",
     "timestamp": 1658454413324,
     "user": {
      "displayName": "Alaskyed Ala",
      "userId": "06306570059054139627"
     },
     "user_tz": -60
    },
    "id": "8CD0CH1VQydX"
   },
   "outputs": [],
   "source": [
    "import pandas as pd\n",
    "import numpy as np\n",
    "\n",
    "import commonfunc"
   ]
  },
  {
   "cell_type": "code",
   "execution_count": 5,
   "metadata": {
    "executionInfo": {
     "elapsed": 4,
     "status": "ok",
     "timestamp": 1658454413628,
     "user": {
      "displayName": "Alaskyed Ala",
      "userId": "06306570059054139627"
     },
     "user_tz": -60
    },
    "id": "qqDlksJ2Q0X3"
   },
   "outputs": [],
   "source": [
    "data_set_path = \"./sampled_data_csv_100/\""
   ]
  },
  {
   "cell_type": "markdown",
   "metadata": {},
   "source": [
    "# Outputevents"
   ]
  },
  {
   "cell_type": "markdown",
   "metadata": {},
   "source": [
    "## Read samples"
   ]
  },
  {
   "cell_type": "code",
   "execution_count": 27,
   "metadata": {
    "executionInfo": {
     "elapsed": 1351,
     "status": "ok",
     "timestamp": 1658454414975,
     "user": {
      "displayName": "Alaskyed Ala",
      "userId": "06306570059054139627"
     },
     "user_tz": -60
    },
    "id": "vDPDkdoKQ1m5"
   },
   "outputs": [],
   "source": [
    "outputevents_df = commonfunc.read_csv_no_rowid(data_set_path + \"outputevents.csv\")"
   ]
  },
  {
   "cell_type": "code",
   "execution_count": 28,
   "metadata": {},
   "outputs": [],
   "source": [
    "outputevents_df = outputevents_df.sample(1400)"
   ]
  },
  {
   "cell_type": "code",
   "execution_count": 29,
   "metadata": {
    "colab": {
     "base_uri": "https://localhost:8080/",
     "height": 473
    },
    "executionInfo": {
     "elapsed": 22,
     "status": "ok",
     "timestamp": 1658454414980,
     "user": {
      "displayName": "Alaskyed Ala",
      "userId": "06306570059054139627"
     },
     "user_tz": -60
    },
    "id": "zAk7v9CcS_ga",
    "outputId": "b7df18a1-38af-4134-c8f2-97b23cc7c195"
   },
   "outputs": [
    {
     "data": {
      "text/html": [
       "<div>\n",
       "<style scoped>\n",
       "    .dataframe tbody tr th:only-of-type {\n",
       "        vertical-align: middle;\n",
       "    }\n",
       "\n",
       "    .dataframe tbody tr th {\n",
       "        vertical-align: top;\n",
       "    }\n",
       "\n",
       "    .dataframe thead th {\n",
       "        text-align: right;\n",
       "    }\n",
       "</style>\n",
       "<table border=\"1\" class=\"dataframe\">\n",
       "  <thead>\n",
       "    <tr style=\"text-align: right;\">\n",
       "      <th></th>\n",
       "      <th>subject_id</th>\n",
       "      <th>hadm_id</th>\n",
       "      <th>icustay_id</th>\n",
       "      <th>charttime</th>\n",
       "      <th>itemid</th>\n",
       "      <th>value</th>\n",
       "      <th>valueuom</th>\n",
       "      <th>storetime</th>\n",
       "      <th>cgid</th>\n",
       "      <th>stopped</th>\n",
       "      <th>newbottle</th>\n",
       "      <th>iserror</th>\n",
       "    </tr>\n",
       "  </thead>\n",
       "  <tbody>\n",
       "    <tr>\n",
       "      <th>5827</th>\n",
       "      <td>11658</td>\n",
       "      <td>154944</td>\n",
       "      <td>227993.0</td>\n",
       "      <td>2180-11-12 14:00:00</td>\n",
       "      <td>40055</td>\n",
       "      <td>45.0</td>\n",
       "      <td>ml</td>\n",
       "      <td>2180-11-12 14:16:00</td>\n",
       "      <td>17746</td>\n",
       "      <td>NaN</td>\n",
       "      <td>NaN</td>\n",
       "      <td>NaN</td>\n",
       "    </tr>\n",
       "    <tr>\n",
       "      <th>144</th>\n",
       "      <td>21269</td>\n",
       "      <td>109697</td>\n",
       "      <td>241691.0</td>\n",
       "      <td>2162-12-01 18:00:00</td>\n",
       "      <td>40055</td>\n",
       "      <td>200.0</td>\n",
       "      <td>ml</td>\n",
       "      <td>2162-12-01 17:52:00</td>\n",
       "      <td>14387</td>\n",
       "      <td>NaN</td>\n",
       "      <td>NaN</td>\n",
       "      <td>NaN</td>\n",
       "    </tr>\n",
       "    <tr>\n",
       "      <th>6182</th>\n",
       "      <td>11003</td>\n",
       "      <td>108797</td>\n",
       "      <td>268364.0</td>\n",
       "      <td>2119-05-21 20:00:00</td>\n",
       "      <td>40055</td>\n",
       "      <td>60.0</td>\n",
       "      <td>ml</td>\n",
       "      <td>2119-05-21 20:18:00</td>\n",
       "      <td>21050</td>\n",
       "      <td>NaN</td>\n",
       "      <td>NaN</td>\n",
       "      <td>NaN</td>\n",
       "    </tr>\n",
       "    <tr>\n",
       "      <th>3655</th>\n",
       "      <td>25080</td>\n",
       "      <td>154198</td>\n",
       "      <td>260285.0</td>\n",
       "      <td>2168-01-03 14:00:00</td>\n",
       "      <td>40055</td>\n",
       "      <td>35.0</td>\n",
       "      <td>ml</td>\n",
       "      <td>2168-01-03 15:03:00</td>\n",
       "      <td>17013</td>\n",
       "      <td>NaN</td>\n",
       "      <td>NaN</td>\n",
       "      <td>NaN</td>\n",
       "    </tr>\n",
       "    <tr>\n",
       "      <th>5335</th>\n",
       "      <td>1709</td>\n",
       "      <td>176360</td>\n",
       "      <td>215498.0</td>\n",
       "      <td>2116-03-05 12:00:00</td>\n",
       "      <td>40055</td>\n",
       "      <td>300.0</td>\n",
       "      <td>ml</td>\n",
       "      <td>2116-03-05 12:09:00</td>\n",
       "      <td>15222</td>\n",
       "      <td>NaN</td>\n",
       "      <td>NaN</td>\n",
       "      <td>NaN</td>\n",
       "    </tr>\n",
       "  </tbody>\n",
       "</table>\n",
       "</div>"
      ],
      "text/plain": [
       "      subject_id  hadm_id  icustay_id            charttime  itemid  value  \\\n",
       "5827       11658   154944    227993.0  2180-11-12 14:00:00   40055   45.0   \n",
       "144        21269   109697    241691.0  2162-12-01 18:00:00   40055  200.0   \n",
       "6182       11003   108797    268364.0  2119-05-21 20:00:00   40055   60.0   \n",
       "3655       25080   154198    260285.0  2168-01-03 14:00:00   40055   35.0   \n",
       "5335        1709   176360    215498.0  2116-03-05 12:00:00   40055  300.0   \n",
       "\n",
       "     valueuom            storetime   cgid  stopped  newbottle  iserror  \n",
       "5827       ml  2180-11-12 14:16:00  17746      NaN        NaN      NaN  \n",
       "144        ml  2162-12-01 17:52:00  14387      NaN        NaN      NaN  \n",
       "6182       ml  2119-05-21 20:18:00  21050      NaN        NaN      NaN  \n",
       "3655       ml  2168-01-03 15:03:00  17013      NaN        NaN      NaN  \n",
       "5335       ml  2116-03-05 12:09:00  15222      NaN        NaN      NaN  "
      ]
     },
     "execution_count": 29,
     "metadata": {},
     "output_type": "execute_result"
    }
   ],
   "source": [
    "outputevents_df.head()"
   ]
  },
  {
   "cell_type": "markdown",
   "metadata": {},
   "source": [
    "## Data pre-process"
   ]
  },
  {
   "cell_type": "code",
   "execution_count": 30,
   "metadata": {
    "executionInfo": {
     "elapsed": 19,
     "status": "ok",
     "timestamp": 1658454414981,
     "user": {
      "displayName": "Alaskyed Ala",
      "userId": "06306570059054139627"
     },
     "user_tz": -60
    },
    "id": "oH3Kxer8VYCv"
   },
   "outputs": [],
   "source": [
    "# outputevents_df.dropna(subset=['hadm_id'], inplace=True, axis=0)\n",
    "# outputevents_df.dropna(subset=['icustay_id'], inplace=True, axis=0)"
   ]
  },
  {
   "cell_type": "code",
   "execution_count": 31,
   "metadata": {
    "executionInfo": {
     "elapsed": 18,
     "status": "ok",
     "timestamp": 1658454414981,
     "user": {
      "displayName": "Alaskyed Ala",
      "userId": "06306570059054139627"
     },
     "user_tz": -60
    },
    "id": "vH9lPCmzakei"
   },
   "outputs": [],
   "source": [
    "outputevents_df.drop(['valueuom', 'storetime', 'cgid', 'stopped', 'newbottle', 'iserror'], axis=1, inplace=True)"
   ]
  },
  {
   "cell_type": "markdown",
   "metadata": {},
   "source": [
    "### Process missing values"
   ]
  },
  {
   "cell_type": "code",
   "execution_count": 32,
   "metadata": {
    "colab": {
     "base_uri": "https://localhost:8080/"
    },
    "executionInfo": {
     "elapsed": 434,
     "status": "ok",
     "timestamp": 1658454415397,
     "user": {
      "displayName": "Alaskyed Ala",
      "userId": "06306570059054139627"
     },
     "user_tz": -60
    },
    "id": "2pUhpV4dVCp9",
    "outputId": "cdbb0782-7125-405d-bdd3-2a4ab7c9ccd9"
   },
   "outputs": [
    {
     "name": "stdout",
     "output_type": "stream",
     "text": [
      "Total columns: 6\n",
      "Total rows: 1400\n",
      "--------------\n",
      "subject_id     0\n",
      "hadm_id        0\n",
      "icustay_id     2\n",
      "charttime      0\n",
      "itemid         0\n",
      "value         29\n",
      "dtype: int64\n"
     ]
    }
   ],
   "source": [
    "commonfunc.nan_count(outputevents_df)"
   ]
  },
  {
   "cell_type": "code",
   "execution_count": 33,
   "metadata": {
    "executionInfo": {
     "elapsed": 10,
     "status": "ok",
     "timestamp": 1658454415398,
     "user": {
      "displayName": "Alaskyed Ala",
      "userId": "06306570059054139627"
     },
     "user_tz": -60
    },
    "id": "ZDNuqs-scQuB"
   },
   "outputs": [],
   "source": [
    "outputevents_df.dropna(subset=['value'], inplace=True, axis=0)"
   ]
  },
  {
   "cell_type": "code",
   "execution_count": 34,
   "metadata": {
    "colab": {
     "base_uri": "https://localhost:8080/"
    },
    "executionInfo": {
     "elapsed": 10,
     "status": "ok",
     "timestamp": 1658454415398,
     "user": {
      "displayName": "Alaskyed Ala",
      "userId": "06306570059054139627"
     },
     "user_tz": -60
    },
    "id": "6s5NXSBqceM3",
    "outputId": "56a907b1-8c7a-49e3-f8bb-e83805a9588f"
   },
   "outputs": [
    {
     "name": "stdout",
     "output_type": "stream",
     "text": [
      "Total columns: 6\n",
      "Total rows: 1371\n",
      "--------------\n",
      "subject_id    0\n",
      "hadm_id       0\n",
      "icustay_id    2\n",
      "charttime     0\n",
      "itemid        0\n",
      "value         0\n",
      "dtype: int64\n"
     ]
    }
   ],
   "source": [
    "commonfunc.nan_count(outputevents_df)"
   ]
  },
  {
   "cell_type": "markdown",
   "metadata": {},
   "source": [
    "### Set the column types"
   ]
  },
  {
   "cell_type": "code",
   "execution_count": 35,
   "metadata": {
    "colab": {
     "base_uri": "https://localhost:8080/"
    },
    "executionInfo": {
     "elapsed": 8,
     "status": "ok",
     "timestamp": 1658454415398,
     "user": {
      "displayName": "Alaskyed Ala",
      "userId": "06306570059054139627"
     },
     "user_tz": -60
    },
    "id": "inHMaY8vVbIc",
    "outputId": "b0e858c1-8cc1-45af-b417-dedaae345d8f"
   },
   "outputs": [
    {
     "data": {
      "text/plain": [
       "subject_id      int64\n",
       "hadm_id         int64\n",
       "icustay_id    float64\n",
       "charttime      object\n",
       "itemid          int64\n",
       "value         float64\n",
       "dtype: object"
      ]
     },
     "execution_count": 35,
     "metadata": {},
     "output_type": "execute_result"
    }
   ],
   "source": [
    "outputevents_df.dtypes"
   ]
  },
  {
   "cell_type": "code",
   "execution_count": 36,
   "metadata": {
    "executionInfo": {
     "elapsed": 9,
     "status": "ok",
     "timestamp": 1658454415398,
     "user": {
      "displayName": "Alaskyed Ala",
      "userId": "06306570059054139627"
     },
     "user_tz": -60
    },
    "id": "NoxlyD4cVQZP"
   },
   "outputs": [],
   "source": [
    "outputevents_df['charttime'] = pd.to_datetime(outputevents_df['charttime'])"
   ]
  },
  {
   "cell_type": "code",
   "execution_count": 37,
   "metadata": {},
   "outputs": [
    {
     "data": {
      "text/plain": [
       "subject_id             int64\n",
       "hadm_id                int64\n",
       "icustay_id           float64\n",
       "charttime     datetime64[ns]\n",
       "itemid                 int64\n",
       "value                float64\n",
       "dtype: object"
      ]
     },
     "execution_count": 37,
     "metadata": {},
     "output_type": "execute_result"
    }
   ],
   "source": [
    "outputevents_df.dtypes"
   ]
  },
  {
   "cell_type": "markdown",
   "metadata": {},
   "source": [
    "### Process time value"
   ]
  },
  {
   "cell_type": "code",
   "execution_count": 38,
   "metadata": {},
   "outputs": [],
   "source": [
    "icustays_df = commonfunc.read_csv_no_rowid(data_set_path+\"icustays.csv\")"
   ]
  },
  {
   "cell_type": "code",
   "execution_count": 39,
   "metadata": {},
   "outputs": [],
   "source": [
    "icu_intime_df = icustays_df.loc[:, ['icustay_id', 'intime']]\n",
    "icu_intime_df['intime'] = pd.to_datetime(icu_intime_df['intime'])"
   ]
  },
  {
   "cell_type": "code",
   "execution_count": 40,
   "metadata": {},
   "outputs": [],
   "source": [
    "outputevents_mid_df = pd.merge(left=outputevents_df, right=icu_intime_df, how='left', on=['icustay_id'])"
   ]
  },
  {
   "cell_type": "code",
   "execution_count": 41,
   "metadata": {},
   "outputs": [
    {
     "data": {
      "text/plain": [
       "subject_id             int64\n",
       "hadm_id                int64\n",
       "icustay_id           float64\n",
       "charttime     datetime64[ns]\n",
       "itemid                 int64\n",
       "value                float64\n",
       "intime        datetime64[ns]\n",
       "dtype: object"
      ]
     },
     "execution_count": 41,
     "metadata": {},
     "output_type": "execute_result"
    }
   ],
   "source": [
    "outputevents_mid_df.dtypes"
   ]
  },
  {
   "cell_type": "code",
   "execution_count": 43,
   "metadata": {},
   "outputs": [
    {
     "ename": "TypeError",
     "evalue": "unsupported operand type(s) for -: 'float' and 'Timestamp'",
     "output_type": "error",
     "traceback": [
      "\u001b[1;31m---------------------------------------------------------------------------\u001b[0m",
      "\u001b[1;31mTypeError\u001b[0m                                 Traceback (most recent call last)",
      "Cell \u001b[1;32mIn[43], line 1\u001b[0m\n\u001b[1;32m----> 1\u001b[0m outputevents_mid_df[\u001b[38;5;124m'\u001b[39m\u001b[38;5;124mcharttime\u001b[39m\u001b[38;5;124m'\u001b[39m] \u001b[38;5;241m=\u001b[39m \u001b[43moutputevents_mid_df\u001b[49m\u001b[38;5;241;43m.\u001b[39;49m\u001b[43mapply\u001b[49m\u001b[43m(\u001b[49m\u001b[43mcommonfunc\u001b[49m\u001b[38;5;241;43m.\u001b[39;49m\u001b[43mtime_process\u001b[49m\u001b[43m,\u001b[49m\u001b[43m \u001b[49m\u001b[43margs\u001b[49m\u001b[38;5;241;43m=\u001b[39;49m\u001b[43m(\u001b[49m\u001b[38;5;124;43m'\u001b[39;49m\u001b[38;5;124;43mintime\u001b[39;49m\u001b[38;5;124;43m'\u001b[39;49m\u001b[43m,\u001b[49m\u001b[43m \u001b[49m\u001b[38;5;124;43m'\u001b[39;49m\u001b[38;5;124;43mcharttime\u001b[39;49m\u001b[38;5;124;43m'\u001b[39;49m\u001b[43m)\u001b[49m\u001b[43m,\u001b[49m\u001b[43m \u001b[49m\u001b[43maxis\u001b[49m\u001b[38;5;241;43m=\u001b[39;49m\u001b[38;5;241;43m1\u001b[39;49m\u001b[43m)\u001b[49m\n\u001b[0;32m      2\u001b[0m outputevents_mid_df \u001b[38;5;241m=\u001b[39m outputevents_mid_df\u001b[38;5;241m.\u001b[39mdropna(subset\u001b[38;5;241m=\u001b[39m[\u001b[38;5;124m'\u001b[39m\u001b[38;5;124mcharttime\u001b[39m\u001b[38;5;124m'\u001b[39m])\n\u001b[0;32m      3\u001b[0m outputevents_mid_df[\u001b[38;5;124m'\u001b[39m\u001b[38;5;124mcharttime\u001b[39m\u001b[38;5;124m'\u001b[39m] \u001b[38;5;241m=\u001b[39m outputevents_mid_df[\u001b[38;5;124m'\u001b[39m\u001b[38;5;124mcharttime\u001b[39m\u001b[38;5;124m'\u001b[39m]\u001b[38;5;241m.\u001b[39mastype(np\u001b[38;5;241m.\u001b[39mint64)\n",
      "File \u001b[1;32m~\\anaconda3\\envs\\python\\lib\\site-packages\\pandas\\core\\frame.py:8845\u001b[0m, in \u001b[0;36mDataFrame.apply\u001b[1;34m(self, func, axis, raw, result_type, args, **kwargs)\u001b[0m\n\u001b[0;32m   8834\u001b[0m \u001b[38;5;28;01mfrom\u001b[39;00m \u001b[38;5;21;01mpandas\u001b[39;00m\u001b[38;5;21;01m.\u001b[39;00m\u001b[38;5;21;01mcore\u001b[39;00m\u001b[38;5;21;01m.\u001b[39;00m\u001b[38;5;21;01mapply\u001b[39;00m \u001b[38;5;28;01mimport\u001b[39;00m frame_apply\n\u001b[0;32m   8836\u001b[0m op \u001b[38;5;241m=\u001b[39m frame_apply(\n\u001b[0;32m   8837\u001b[0m     \u001b[38;5;28mself\u001b[39m,\n\u001b[0;32m   8838\u001b[0m     func\u001b[38;5;241m=\u001b[39mfunc,\n\u001b[1;32m   (...)\u001b[0m\n\u001b[0;32m   8843\u001b[0m     kwargs\u001b[38;5;241m=\u001b[39mkwargs,\n\u001b[0;32m   8844\u001b[0m )\n\u001b[1;32m-> 8845\u001b[0m \u001b[38;5;28;01mreturn\u001b[39;00m \u001b[43mop\u001b[49m\u001b[38;5;241;43m.\u001b[39;49m\u001b[43mapply\u001b[49m\u001b[43m(\u001b[49m\u001b[43m)\u001b[49m\u001b[38;5;241m.\u001b[39m__finalize__(\u001b[38;5;28mself\u001b[39m, method\u001b[38;5;241m=\u001b[39m\u001b[38;5;124m\"\u001b[39m\u001b[38;5;124mapply\u001b[39m\u001b[38;5;124m\"\u001b[39m)\n",
      "File \u001b[1;32m~\\anaconda3\\envs\\python\\lib\\site-packages\\pandas\\core\\apply.py:733\u001b[0m, in \u001b[0;36mFrameApply.apply\u001b[1;34m(self)\u001b[0m\n\u001b[0;32m    730\u001b[0m \u001b[38;5;28;01melif\u001b[39;00m \u001b[38;5;28mself\u001b[39m\u001b[38;5;241m.\u001b[39mraw:\n\u001b[0;32m    731\u001b[0m     \u001b[38;5;28;01mreturn\u001b[39;00m \u001b[38;5;28mself\u001b[39m\u001b[38;5;241m.\u001b[39mapply_raw()\n\u001b[1;32m--> 733\u001b[0m \u001b[38;5;28;01mreturn\u001b[39;00m \u001b[38;5;28;43mself\u001b[39;49m\u001b[38;5;241;43m.\u001b[39;49m\u001b[43mapply_standard\u001b[49m\u001b[43m(\u001b[49m\u001b[43m)\u001b[49m\n",
      "File \u001b[1;32m~\\anaconda3\\envs\\python\\lib\\site-packages\\pandas\\core\\apply.py:857\u001b[0m, in \u001b[0;36mFrameApply.apply_standard\u001b[1;34m(self)\u001b[0m\n\u001b[0;32m    856\u001b[0m \u001b[38;5;28;01mdef\u001b[39;00m \u001b[38;5;21mapply_standard\u001b[39m(\u001b[38;5;28mself\u001b[39m):\n\u001b[1;32m--> 857\u001b[0m     results, res_index \u001b[38;5;241m=\u001b[39m \u001b[38;5;28;43mself\u001b[39;49m\u001b[38;5;241;43m.\u001b[39;49m\u001b[43mapply_series_generator\u001b[49m\u001b[43m(\u001b[49m\u001b[43m)\u001b[49m\n\u001b[0;32m    859\u001b[0m     \u001b[38;5;66;03m# wrap results\u001b[39;00m\n\u001b[0;32m    860\u001b[0m     \u001b[38;5;28;01mreturn\u001b[39;00m \u001b[38;5;28mself\u001b[39m\u001b[38;5;241m.\u001b[39mwrap_results(results, res_index)\n",
      "File \u001b[1;32m~\\anaconda3\\envs\\python\\lib\\site-packages\\pandas\\core\\apply.py:873\u001b[0m, in \u001b[0;36mFrameApply.apply_series_generator\u001b[1;34m(self)\u001b[0m\n\u001b[0;32m    870\u001b[0m \u001b[38;5;28;01mwith\u001b[39;00m option_context(\u001b[38;5;124m\"\u001b[39m\u001b[38;5;124mmode.chained_assignment\u001b[39m\u001b[38;5;124m\"\u001b[39m, \u001b[38;5;28;01mNone\u001b[39;00m):\n\u001b[0;32m    871\u001b[0m     \u001b[38;5;28;01mfor\u001b[39;00m i, v \u001b[38;5;129;01min\u001b[39;00m \u001b[38;5;28menumerate\u001b[39m(series_gen):\n\u001b[0;32m    872\u001b[0m         \u001b[38;5;66;03m# ignore SettingWithCopy here in case the user mutates\u001b[39;00m\n\u001b[1;32m--> 873\u001b[0m         results[i] \u001b[38;5;241m=\u001b[39m \u001b[38;5;28;43mself\u001b[39;49m\u001b[38;5;241;43m.\u001b[39;49m\u001b[43mf\u001b[49m\u001b[43m(\u001b[49m\u001b[43mv\u001b[49m\u001b[43m)\u001b[49m\n\u001b[0;32m    874\u001b[0m         \u001b[38;5;28;01mif\u001b[39;00m \u001b[38;5;28misinstance\u001b[39m(results[i], ABCSeries):\n\u001b[0;32m    875\u001b[0m             \u001b[38;5;66;03m# If we have a view on v, we need to make a copy because\u001b[39;00m\n\u001b[0;32m    876\u001b[0m             \u001b[38;5;66;03m#  series_generator will swap out the underlying data\u001b[39;00m\n\u001b[0;32m    877\u001b[0m             results[i] \u001b[38;5;241m=\u001b[39m results[i]\u001b[38;5;241m.\u001b[39mcopy(deep\u001b[38;5;241m=\u001b[39m\u001b[38;5;28;01mFalse\u001b[39;00m)\n",
      "File \u001b[1;32m~\\anaconda3\\envs\\python\\lib\\site-packages\\pandas\\core\\apply.py:138\u001b[0m, in \u001b[0;36mApply.__init__.<locals>.f\u001b[1;34m(x)\u001b[0m\n\u001b[0;32m    137\u001b[0m \u001b[38;5;28;01mdef\u001b[39;00m \u001b[38;5;21mf\u001b[39m(x):\n\u001b[1;32m--> 138\u001b[0m     \u001b[38;5;28;01mreturn\u001b[39;00m \u001b[43mfunc\u001b[49m\u001b[43m(\u001b[49m\u001b[43mx\u001b[49m\u001b[43m,\u001b[49m\u001b[43m \u001b[49m\u001b[38;5;241;43m*\u001b[39;49m\u001b[43margs\u001b[49m\u001b[43m,\u001b[49m\u001b[43m \u001b[49m\u001b[38;5;241;43m*\u001b[39;49m\u001b[38;5;241;43m*\u001b[39;49m\u001b[43mkwargs\u001b[49m\u001b[43m)\u001b[49m\n",
      "File \u001b[1;32m~\\Documents\\Synthetic-data-generation\\commonfunc.py:38\u001b[0m, in \u001b[0;36mtime_process\u001b[1;34m(df, early_col_name, late_col_name, second_early_col_name)\u001b[0m\n\u001b[0;32m     36\u001b[0m \u001b[38;5;66;03m# basic date exist\u001b[39;00m\n\u001b[0;32m     37\u001b[0m \u001b[38;5;28;01mif\u001b[39;00m (pd\u001b[38;5;241m.\u001b[39misna(df[early_col_name]) \u001b[38;5;241m==\u001b[39m \u001b[38;5;28;01mFalse\u001b[39;00m) \u001b[38;5;241m&\u001b[39m (pd\u001b[38;5;241m.\u001b[39misna(df[late_col_name]) \u001b[38;5;241m==\u001b[39m \u001b[38;5;28;01mFalse\u001b[39;00m):\n\u001b[1;32m---> 38\u001b[0m     \u001b[38;5;28;01mreturn\u001b[39;00m \u001b[38;5;28mabs\u001b[39m(\u001b[43mdf\u001b[49m\u001b[43m[\u001b[49m\u001b[43mlate_col_name\u001b[49m\u001b[43m]\u001b[49m\u001b[43m \u001b[49m\u001b[38;5;241;43m-\u001b[39;49m\u001b[43m \u001b[49m\u001b[43mdf\u001b[49m\u001b[43m[\u001b[49m\u001b[43mearly_col_name\u001b[49m\u001b[43m]\u001b[49m)\u001b[38;5;241m.\u001b[39mtotal_seconds()\n\u001b[0;32m     39\u001b[0m \u001b[38;5;66;03m# basic date is not exist, use the second basic date\u001b[39;00m\n\u001b[0;32m     40\u001b[0m \u001b[38;5;28;01melif\u001b[39;00m (pd\u001b[38;5;241m.\u001b[39misna(second_early_col_name) \u001b[38;5;241m==\u001b[39m \u001b[38;5;28;01mFalse\u001b[39;00m) \u001b[38;5;241m&\u001b[39m (pd\u001b[38;5;241m.\u001b[39misna(df[late_col_name]) \u001b[38;5;241m==\u001b[39m \u001b[38;5;28;01mFalse\u001b[39;00m):\n",
      "\u001b[1;31mTypeError\u001b[0m: unsupported operand type(s) for -: 'float' and 'Timestamp'"
     ]
    }
   ],
   "source": [
    "outputevents_mid_df['charttime'] = outputevents_mid_df.apply(commonfunc.time_process, args=('intime', 'charttime'), axis=1)\n",
    "outputevents_mid_df = outputevents_mid_df.dropna(subset=['charttime'])\n",
    "outputevents_mid_df['charttime'] = outputevents_mid_df['charttime'].astype(np.int64)"
   ]
  },
  {
   "cell_type": "code",
   "execution_count": 44,
   "metadata": {},
   "outputs": [],
   "source": [
    "outputevents_df = outputevents_mid_df.drop(['subject_id', 'hadm_id', 'icustay_id', 'intime'], axis=1)"
   ]
  },
  {
   "cell_type": "code",
   "execution_count": 45,
   "metadata": {},
   "outputs": [
    {
     "data": {
      "text/plain": [
       "Index(['charttime', 'itemid', 'value'], dtype='object')"
      ]
     },
     "execution_count": 45,
     "metadata": {},
     "output_type": "execute_result"
    }
   ],
   "source": [
    "outputevents_df.columns"
   ]
  },
  {
   "cell_type": "markdown",
   "metadata": {
    "id": "embt2rG-UJWy"
   },
   "source": [
    "---\n",
    "## Build model"
   ]
  },
  {
   "cell_type": "markdown",
   "metadata": {},
   "source": [
    "### Set constraints"
   ]
  },
  {
   "cell_type": "code",
   "execution_count": 46,
   "metadata": {
    "executionInfo": {
     "elapsed": 7,
     "status": "ok",
     "timestamp": 1658454417661,
     "user": {
      "displayName": "Alaskyed Ala",
      "userId": "06306570059054139627"
     },
     "user_tz": -60
    },
    "id": "VT9X_YvDt2ZJ"
   },
   "outputs": [],
   "source": [
    "from sdv.constraints import FixedCombinations\n",
    "\n",
    "fixed_item_value_linkorderid_constraint = FixedCombinations(\n",
    "    column_names=['itemid', 'value']\n",
    ")"
   ]
  },
  {
   "cell_type": "code",
   "execution_count": 47,
   "metadata": {
    "executionInfo": {
     "elapsed": 6,
     "status": "ok",
     "timestamp": 1658454417661,
     "user": {
      "displayName": "Alaskyed Ala",
      "userId": "06306570059054139627"
     },
     "user_tz": -60
    },
    "id": "mWY8TKsWzbMp"
   },
   "outputs": [],
   "source": [
    "constraints = [fixed_item_value_linkorderid_constraint]"
   ]
  },
  {
   "cell_type": "markdown",
   "metadata": {},
   "source": [
    "### Build model"
   ]
  },
  {
   "cell_type": "code",
   "execution_count": 49,
   "metadata": {},
   "outputs": [
    {
     "name": "stdout",
     "output_type": "stream",
     "text": [
      "Strat training ...\n",
      "Tabular Preset\n"
     ]
    },
    {
     "name": "stderr",
     "output_type": "stream",
     "text": [
      "Sampling rows: 100%|██████████| 1371/1371 [00:00<00:00, 46117.87it/s]"
     ]
    },
    {
     "name": "stdout",
     "output_type": "stream",
     "text": [
      "Gaussian Copula\n"
     ]
    },
    {
     "name": "stderr",
     "output_type": "stream",
     "text": [
      "\n",
      "Sampling rows: 100%|██████████| 1371/1371 [00:00<00:00, 45056.58it/s]"
     ]
    },
    {
     "name": "stdout",
     "output_type": "stream",
     "text": [
      "CTGAN\n"
     ]
    },
    {
     "name": "stderr",
     "output_type": "stream",
     "text": [
      "\n",
      "Sampling rows: 100%|██████████| 1371/1371 [00:00<00:00, 13707.66it/s]\n"
     ]
    },
    {
     "name": "stdout",
     "output_type": "stream",
     "text": [
      "CopulaGAN\n"
     ]
    },
    {
     "name": "stderr",
     "output_type": "stream",
     "text": [
      "Sampling rows: 100%|██████████| 1371/1371 [00:00<00:00, 16940.07it/s]\n"
     ]
    },
    {
     "name": "stdout",
     "output_type": "stream",
     "text": [
      "TVAE\n"
     ]
    },
    {
     "name": "stderr",
     "output_type": "stream",
     "text": [
      "Sampling rows: 100%|██████████| 1371/1371 [00:00<00:00, 18836.26it/s]\n"
     ]
    },
    {
     "name": "stdout",
     "output_type": "stream",
     "text": [
      "Training finished!\n",
      "Strat evaluating ...\n",
      "Evaluating finished!\n",
      "Gaussian Copula\n"
     ]
    },
    {
     "name": "stderr",
     "output_type": "stream",
     "text": [
      "Sampling rows: 100%|██████████| 1371/1371 [00:00<00:00, 54749.98it/s]\n"
     ]
    },
    {
     "name": "stdout",
     "output_type": "stream",
     "text": [
      "The best model is: copulagan\n",
      "The ContinuousKL_score is: 0.6589593682816212\n",
      "The DiscreteKL_score is: nan\n",
      "The total score is: 0.5669223356975606\n"
     ]
    }
   ],
   "source": [
    "train_data = outputevents_df\n",
    "best_model = commonfunc.build_model(constraints=constraints, train_data=train_data)"
   ]
  },
  {
   "cell_type": "code",
   "execution_count": 51,
   "metadata": {},
   "outputs": [],
   "source": [
    "model_save_path = \"C:\\\\Users\\\\shrus\\\\Documents\\\\Synthetic-data-generation\\\\models_100\\\\\" + \"outputevents_model.pkl\"\n",
    "commonfunc.save_model(best_model, model_save_path)"
   ]
  },
  {
   "cell_type": "markdown",
   "metadata": {},
   "source": [
    "---\n",
    "\n",
    "## Evaluate data"
   ]
  },
  {
   "cell_type": "markdown",
   "metadata": {},
   "source": [
    "### Generate synthetic data"
   ]
  },
  {
   "cell_type": "code",
   "execution_count": 53,
   "metadata": {},
   "outputs": [],
   "source": [
    "date_load_path = \"C:\\\\Users\\\\shrus\\\\Documents\\\\Synthetic-data-generation\\\\models_100\\\\\" + \"outputevents_model.pkl\"\n",
    "model = commonfunc.load_model(date_load_path)"
   ]
  },
  {
   "cell_type": "code",
   "execution_count": 55,
   "metadata": {},
   "outputs": [
    {
     "name": "stderr",
     "output_type": "stream",
     "text": [
      "Sampling rows: 100%|██████████| 1371/1371 [00:00<00:00, 28793.42it/s]\n"
     ]
    }
   ],
   "source": [
    "sample = model.sample(num_rows=len(train_data))"
   ]
  },
  {
   "cell_type": "markdown",
   "metadata": {},
   "source": [
    "### Evaluation"
   ]
  },
  {
   "cell_type": "code",
   "execution_count": 56,
   "metadata": {},
   "outputs": [],
   "source": [
    "from sdv.evaluation import evaluate"
   ]
  },
  {
   "cell_type": "code",
   "execution_count": 57,
   "metadata": {
    "colab": {
     "base_uri": "https://localhost:8080/"
    },
    "executionInfo": {
     "elapsed": 21,
     "status": "ok",
     "timestamp": 1658455051236,
     "user": {
      "displayName": "Alaskyed Ala",
      "userId": "06306570059054139627"
     },
     "user_tz": -60
    },
    "id": "nvyotlzD96-O",
    "outputId": "6075a6ff-3cd1-41ee-a9c2-5489797e5e6b"
   },
   "outputs": [
    {
     "data": {
      "text/plain": [
       "0.6672653975852204"
      ]
     },
     "execution_count": 57,
     "metadata": {},
     "output_type": "execute_result"
    }
   ],
   "source": [
    "evaluate(sample, train_data, metrics=['ContinuousKLDivergence'])"
   ]
  },
  {
   "cell_type": "code",
   "execution_count": 58,
   "metadata": {
    "colab": {
     "base_uri": "https://localhost:8080/"
    },
    "executionInfo": {
     "elapsed": 15,
     "status": "ok",
     "timestamp": 1658455051237,
     "user": {
      "displayName": "Alaskyed Ala",
      "userId": "06306570059054139627"
     },
     "user_tz": -60
    },
    "id": "JNipkWXo-glR",
    "outputId": "5d3a7bca-4778-4df0-a1ec-d04e01932cf3"
   },
   "outputs": [
    {
     "data": {
      "text/plain": [
       "nan"
      ]
     },
     "execution_count": 58,
     "metadata": {},
     "output_type": "execute_result"
    }
   ],
   "source": [
    "evaluate(sample, train_data, metrics=['DiscreteKLDivergence'])"
   ]
  },
  {
   "cell_type": "code",
   "execution_count": 59,
   "metadata": {},
   "outputs": [
    {
     "data": {
      "text/plain": [
       "0.7643402115570157"
      ]
     },
     "execution_count": 59,
     "metadata": {},
     "output_type": "execute_result"
    }
   ],
   "source": [
    "evaluate(sample, train_data, metrics=['CSTest', 'KSTest', 'ContinuousKLDivergence', 'DiscreteKLDivergence'])"
   ]
  },
  {
   "cell_type": "code",
   "execution_count": 60,
   "metadata": {},
   "outputs": [
    {
     "data": {
      "text/plain": [
       "<Axes: >"
      ]
     },
     "execution_count": 60,
     "metadata": {},
     "output_type": "execute_result"
    },
    {
     "data": {
      "image/png": "[encoded data removed]",
      "text/plain": [
       "<Figure size 640x480 with 1 Axes>"
      ]
     },
     "metadata": {},
     "output_type": "display_data"
    }
   ],
   "source": [
    "sample['charttime'].hist()"
   ]
  },
  {
   "cell_type": "code",
   "execution_count": 61,
   "metadata": {},
   "outputs": [
    {
     "data": {
      "text/plain": [
       "<Axes: >"
      ]
     },
     "execution_count": 61,
     "metadata": {},
     "output_type": "execute_result"
    },
    {
     "data": {
      "image/png": "[encoded data removed]",
      "text/plain": [
       "<Figure size 640x480 with 1 Axes>"
      ]
     },
     "metadata": {},
     "output_type": "display_data"
    }
   ],
   "source": [
    "train_data['charttime'].hist()"
   ]
  },
  {
   "cell_type": "code",
   "execution_count": 62,
   "metadata": {},
   "outputs": [
    {
     "data": {
      "text/plain": [
       "array([[<Axes: title={'center': 'charttime'}>,\n",
       "        <Axes: title={'center': 'itemid'}>],\n",
       "       [<Axes: title={'center': 'value'}>, <Axes: >]], dtype=object)"
      ]
     },
     "execution_count": 62,
     "metadata": {},
     "output_type": "execute_result"
    },
    {
     "data": {
      "image/png": "[encoded data removed]",
      "text/plain": [
       "<Figure size 640x480 with 4 Axes>"
      ]
     },
     "metadata": {},
     "output_type": "display_data"
    }
   ],
   "source": [
    "sample.hist()"
   ]
  },
  {
   "cell_type": "code",
   "execution_count": 63,
   "metadata": {},
   "outputs": [
    {
     "data": {
      "text/plain": [
       "array([[<Axes: title={'center': 'charttime'}>,\n",
       "        <Axes: title={'center': 'itemid'}>],\n",
       "       [<Axes: title={'center': 'value'}>, <Axes: >]], dtype=object)"
      ]
     },
     "execution_count": 63,
     "metadata": {},
     "output_type": "execute_result"
    },
    {
     "data": {
      "image/png": "[encoded data removed]",
      "text/plain": [
       "<Figure size 640x480 with 4 Axes>"
      ]
     },
     "metadata": {},
     "output_type": "display_data"
    }
   ],
   "source": [
    "train_data.hist()"
   ]
  },
  {
   "cell_type": "code",
   "execution_count": 64,
   "metadata": {},
   "outputs": [
    {
     "data": {
      "text/plain": [
       "<Axes: xlabel='itemid', ylabel='value'>"
      ]
     },
     "execution_count": 64,
     "metadata": {},
     "output_type": "execute_result"
    },
    {
     "data": {
      "image/png": "[encoded data removed]",
      "text/plain": [
       "<Figure size 640x480 with 1 Axes>"
      ]
     },
     "metadata": {},
     "output_type": "display_data"
    }
   ],
   "source": [
    "sample.sort_values('itemid').plot(x='itemid', y='value', kind='scatter')"
   ]
  },
  {
   "cell_type": "code",
   "execution_count": 65,
   "metadata": {},
   "outputs": [
    {
     "data": {
      "text/plain": [
       "<Axes: xlabel='itemid', ylabel='value'>"
      ]
     },
     "execution_count": 65,
     "metadata": {},
     "output_type": "execute_result"
    },
    {
     "data": {
      "image/png": "[encoded data removed]",
      "text/plain": [
       "<Figure size 640x480 with 1 Axes>"
      ]
     },
     "metadata": {},
     "output_type": "display_data"
    }
   ],
   "source": [
    "train_data.sort_values('itemid').plot(x='itemid', y='value', kind='scatter')"
   ]
  }
 ],
 "metadata": {
  "accelerator": "GPU",
  "colab": {
   "authorship_tag": "ABX9TyPWjeM6Y7vqnrP/k8HwyDCG",
   "collapsed_sections": [],
   "machine_shape": "hm",
   "name": "SDV_outputevents_generation.ipynb",
   "provenance": []
  },
  "gpuClass": "standard",
  "kernelspec": {
   "display_name": "Python 3 (ipykernel)",
   "language": "python",
   "name": "python3"
  },
  "language_info": {
   "codemirror_mode": {
    "name": "ipython",
    "version": 3
   },
   "file_extension": ".py",
   "mimetype": "text/x-python",
   "name": "python",
   "nbconvert_exporter": "python",
   "pygments_lexer": "ipython3",
   "version": "3.8.13"
  },
  "vscode": {
   "interpreter": {
    "hash": "e56015fb566b08f7af163d42c82cf08fa5d6db3fbaaffa0afaaff5a893fc0496"
   }
  }
 },
 "nbformat": 4,
 "nbformat_minor": 1
}
