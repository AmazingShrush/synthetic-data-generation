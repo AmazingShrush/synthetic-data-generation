{
 "cells": [
  {
   "cell_type": "code",
   "execution_count": 1,
   "metadata": {},
   "outputs": [],
   "source": [
    "# from google.colab import drive\n",
    "# drive.mount('/content/drive')"
   ]
  },
  {
   "cell_type": "code",
   "execution_count": 2,
   "metadata": {},
   "outputs": [],
   "source": [
    "# ! pip install pgmpy"
   ]
  },
  {
   "cell_type": "code",
   "execution_count": 3,
   "metadata": {},
   "outputs": [],
   "source": [
    "# Ignore warnings\n",
    "import warnings\n",
    "warnings.filterwarnings(\"ignore\")"
   ]
  },
  {
   "cell_type": "code",
   "execution_count": 4,
   "metadata": {},
   "outputs": [],
   "source": [
    "import pandas as pd\n",
    "import numpy as np\n",
    "\n",
    "import commonfunc"
   ]
  },
  {
   "cell_type": "code",
   "execution_count": 5,
   "metadata": {},
   "outputs": [],
   "source": [
    "data_set_path = \"./sampled_data_csv_100/\""
   ]
  },
  {
   "cell_type": "markdown",
   "metadata": {},
   "source": [
    "# callout"
   ]
  },
  {
   "cell_type": "markdown",
   "metadata": {},
   "source": [
    "## Data Process"
   ]
  },
  {
   "cell_type": "markdown",
   "metadata": {},
   "source": [
    "### Read samples"
   ]
  },
  {
   "cell_type": "code",
   "execution_count": 7,
   "metadata": {},
   "outputs": [],
   "source": [
    "callout_df = commonfunc.read_csv_no_rowid(data_set_path+\"callout.csv\")"
   ]
  },
  {
   "cell_type": "code",
   "execution_count": 8,
   "metadata": {},
   "outputs": [
    {
     "data": {
      "text/html": [
       "<div>\n",
       "<style scoped>\n",
       "    .dataframe tbody tr th:only-of-type {\n",
       "        vertical-align: middle;\n",
       "    }\n",
       "\n",
       "    .dataframe tbody tr th {\n",
       "        vertical-align: top;\n",
       "    }\n",
       "\n",
       "    .dataframe thead th {\n",
       "        text-align: right;\n",
       "    }\n",
       "</style>\n",
       "<table border=\"1\" class=\"dataframe\">\n",
       "  <thead>\n",
       "    <tr style=\"text-align: right;\">\n",
       "      <th></th>\n",
       "      <th>subject_id</th>\n",
       "      <th>hadm_id</th>\n",
       "      <th>submit_wardid</th>\n",
       "      <th>submit_careunit</th>\n",
       "      <th>curr_wardid</th>\n",
       "      <th>curr_careunit</th>\n",
       "      <th>callout_wardid</th>\n",
       "      <th>callout_service</th>\n",
       "      <th>request_tele</th>\n",
       "      <th>request_resp</th>\n",
       "      <th>...</th>\n",
       "      <th>callout_status</th>\n",
       "      <th>callout_outcome</th>\n",
       "      <th>discharge_wardid</th>\n",
       "      <th>acknowledge_status</th>\n",
       "      <th>createtime</th>\n",
       "      <th>updatetime</th>\n",
       "      <th>acknowledgetime</th>\n",
       "      <th>outcometime</th>\n",
       "      <th>firstreservationtime</th>\n",
       "      <th>currentreservationtime</th>\n",
       "    </tr>\n",
       "  </thead>\n",
       "  <tbody>\n",
       "    <tr>\n",
       "      <th>0</th>\n",
       "      <td>87197</td>\n",
       "      <td>176931</td>\n",
       "      <td>7</td>\n",
       "      <td>NaN</td>\n",
       "      <td>55</td>\n",
       "      <td>CCU</td>\n",
       "      <td>1</td>\n",
       "      <td>MED</td>\n",
       "      <td>0</td>\n",
       "      <td>0</td>\n",
       "      <td>...</td>\n",
       "      <td>Inactive</td>\n",
       "      <td>Discharged</td>\n",
       "      <td>55.0</td>\n",
       "      <td>Acknowledged</td>\n",
       "      <td>2109-11-17 13:06:52</td>\n",
       "      <td>2109-11-17 13:06:52</td>\n",
       "      <td>2109-11-17 14:53:54</td>\n",
       "      <td>2109-11-17 17:55:03</td>\n",
       "      <td>NaN</td>\n",
       "      <td>NaN</td>\n",
       "    </tr>\n",
       "    <tr>\n",
       "      <th>1</th>\n",
       "      <td>5692</td>\n",
       "      <td>151113</td>\n",
       "      <td>15</td>\n",
       "      <td>NaN</td>\n",
       "      <td>2</td>\n",
       "      <td>CSRU</td>\n",
       "      <td>2</td>\n",
       "      <td>CSURG</td>\n",
       "      <td>1</td>\n",
       "      <td>0</td>\n",
       "      <td>...</td>\n",
       "      <td>Inactive</td>\n",
       "      <td>Discharged</td>\n",
       "      <td>2.0</td>\n",
       "      <td>Revised</td>\n",
       "      <td>2143-11-01 09:27:02</td>\n",
       "      <td>2143-11-01 15:28:06</td>\n",
       "      <td>NaN</td>\n",
       "      <td>2143-11-01 19:40:03</td>\n",
       "      <td>NaN</td>\n",
       "      <td>NaN</td>\n",
       "    </tr>\n",
       "    <tr>\n",
       "      <th>2</th>\n",
       "      <td>5692</td>\n",
       "      <td>193147</td>\n",
       "      <td>7</td>\n",
       "      <td>NaN</td>\n",
       "      <td>17</td>\n",
       "      <td>CCU</td>\n",
       "      <td>17</td>\n",
       "      <td>CCU</td>\n",
       "      <td>1</td>\n",
       "      <td>0</td>\n",
       "      <td>...</td>\n",
       "      <td>Inactive</td>\n",
       "      <td>Discharged</td>\n",
       "      <td>17.0</td>\n",
       "      <td>Acknowledged</td>\n",
       "      <td>2147-12-17 09:26:15</td>\n",
       "      <td>2147-12-17 09:26:15</td>\n",
       "      <td>2147-12-17 09:45:27</td>\n",
       "      <td>2147-12-17 13:29:46</td>\n",
       "      <td>2147-12-17 10:40:23</td>\n",
       "      <td>NaN</td>\n",
       "    </tr>\n",
       "    <tr>\n",
       "      <th>3</th>\n",
       "      <td>5692</td>\n",
       "      <td>132890</td>\n",
       "      <td>15</td>\n",
       "      <td>NaN</td>\n",
       "      <td>17</td>\n",
       "      <td>CSRU</td>\n",
       "      <td>17</td>\n",
       "      <td>CMED</td>\n",
       "      <td>1</td>\n",
       "      <td>0</td>\n",
       "      <td>...</td>\n",
       "      <td>Inactive</td>\n",
       "      <td>Discharged</td>\n",
       "      <td>17.0</td>\n",
       "      <td>Acknowledged</td>\n",
       "      <td>2148-01-18 08:07:35</td>\n",
       "      <td>2148-01-18 14:17:53</td>\n",
       "      <td>2148-01-18 15:28:37</td>\n",
       "      <td>2148-01-18 18:41:08</td>\n",
       "      <td>NaN</td>\n",
       "      <td>NaN</td>\n",
       "    </tr>\n",
       "    <tr>\n",
       "      <th>4</th>\n",
       "      <td>30096</td>\n",
       "      <td>119559</td>\n",
       "      <td>52</td>\n",
       "      <td>MICU</td>\n",
       "      <td>52</td>\n",
       "      <td>MICU</td>\n",
       "      <td>24</td>\n",
       "      <td>SURG</td>\n",
       "      <td>0</td>\n",
       "      <td>0</td>\n",
       "      <td>...</td>\n",
       "      <td>Inactive</td>\n",
       "      <td>Cancelled</td>\n",
       "      <td>NaN</td>\n",
       "      <td>Acknowledged</td>\n",
       "      <td>2161-08-28 07:20:52</td>\n",
       "      <td>2161-08-28 07:38:20</td>\n",
       "      <td>2161-08-28 07:33:12</td>\n",
       "      <td>2161-08-28 07:38:20</td>\n",
       "      <td>NaN</td>\n",
       "      <td>NaN</td>\n",
       "    </tr>\n",
       "  </tbody>\n",
       "</table>\n",
       "<p>5 rows × 23 columns</p>\n",
       "</div>"
      ],
      "text/plain": [
       "   subject_id  hadm_id  submit_wardid submit_careunit  curr_wardid  \\\n",
       "0       87197   176931              7             NaN           55   \n",
       "1        5692   151113             15             NaN            2   \n",
       "2        5692   193147              7             NaN           17   \n",
       "3        5692   132890             15             NaN           17   \n",
       "4       30096   119559             52            MICU           52   \n",
       "\n",
       "  curr_careunit  callout_wardid callout_service  request_tele  request_resp  \\\n",
       "0           CCU               1             MED             0             0   \n",
       "1          CSRU               2           CSURG             1             0   \n",
       "2           CCU              17             CCU             1             0   \n",
       "3          CSRU              17            CMED             1             0   \n",
       "4          MICU              24            SURG             0             0   \n",
       "\n",
       "   ...  callout_status  callout_outcome  discharge_wardid acknowledge_status  \\\n",
       "0  ...        Inactive       Discharged              55.0       Acknowledged   \n",
       "1  ...        Inactive       Discharged               2.0            Revised   \n",
       "2  ...        Inactive       Discharged              17.0       Acknowledged   \n",
       "3  ...        Inactive       Discharged              17.0       Acknowledged   \n",
       "4  ...        Inactive        Cancelled               NaN       Acknowledged   \n",
       "\n",
       "            createtime           updatetime      acknowledgetime  \\\n",
       "0  2109-11-17 13:06:52  2109-11-17 13:06:52  2109-11-17 14:53:54   \n",
       "1  2143-11-01 09:27:02  2143-11-01 15:28:06                  NaN   \n",
       "2  2147-12-17 09:26:15  2147-12-17 09:26:15  2147-12-17 09:45:27   \n",
       "3  2148-01-18 08:07:35  2148-01-18 14:17:53  2148-01-18 15:28:37   \n",
       "4  2161-08-28 07:20:52  2161-08-28 07:38:20  2161-08-28 07:33:12   \n",
       "\n",
       "           outcometime firstreservationtime currentreservationtime  \n",
       "0  2109-11-17 17:55:03                  NaN                    NaN  \n",
       "1  2143-11-01 19:40:03                  NaN                    NaN  \n",
       "2  2147-12-17 13:29:46  2147-12-17 10:40:23                    NaN  \n",
       "3  2148-01-18 18:41:08                  NaN                    NaN  \n",
       "4  2161-08-28 07:38:20                  NaN                    NaN  \n",
       "\n",
       "[5 rows x 23 columns]"
      ]
     },
     "execution_count": 8,
     "metadata": {},
     "output_type": "execute_result"
    }
   ],
   "source": [
    "callout_df.head()"
   ]
  },
  {
   "cell_type": "markdown",
   "metadata": {},
   "source": [
    "### Data preproces"
   ]
  },
  {
   "cell_type": "code",
   "execution_count": 9,
   "metadata": {},
   "outputs": [],
   "source": [
    "# Drop useless colums\n",
    "callout_df.drop(['submit_careunit', 'firstreservationtime', 'currentreservationtime'], axis=1, inplace=True)"
   ]
  },
  {
   "cell_type": "markdown",
   "metadata": {},
   "source": [
    "#### Deal with null values"
   ]
  },
  {
   "cell_type": "code",
   "execution_count": 11,
   "metadata": {},
   "outputs": [
    {
     "name": "stdout",
     "output_type": "stream",
     "text": [
      "Total columns: 20\n",
      "Total rows: 99\n",
      "--------------\n",
      "subject_id             0\n",
      "hadm_id                0\n",
      "submit_wardid          0\n",
      "curr_wardid            0\n",
      "curr_careunit          0\n",
      "callout_wardid         0\n",
      "callout_service        0\n",
      "request_tele           0\n",
      "request_resp           0\n",
      "request_cdiff          0\n",
      "request_mrsa           0\n",
      "request_vre            0\n",
      "callout_status         0\n",
      "callout_outcome        0\n",
      "discharge_wardid      15\n",
      "acknowledge_status     0\n",
      "createtime             0\n",
      "updatetime             0\n",
      "acknowledgetime        5\n",
      "outcometime            0\n",
      "dtype: int64\n"
     ]
    }
   ],
   "source": [
    "# Check null value in table\n",
    "commonfunc.nan_count(callout_df)"
   ]
  },
  {
   "cell_type": "markdown",
   "metadata": {},
   "source": [
    "#### Set the column types"
   ]
  },
  {
   "cell_type": "code",
   "execution_count": 12,
   "metadata": {},
   "outputs": [
    {
     "data": {
      "text/plain": [
       "subject_id              int64\n",
       "hadm_id                 int64\n",
       "submit_wardid           int64\n",
       "curr_wardid             int64\n",
       "curr_careunit          object\n",
       "callout_wardid          int64\n",
       "callout_service        object\n",
       "request_tele            int64\n",
       "request_resp            int64\n",
       "request_cdiff           int64\n",
       "request_mrsa            int64\n",
       "request_vre             int64\n",
       "callout_status         object\n",
       "callout_outcome        object\n",
       "discharge_wardid      float64\n",
       "acknowledge_status     object\n",
       "createtime             object\n",
       "updatetime             object\n",
       "acknowledgetime        object\n",
       "outcometime            object\n",
       "dtype: object"
      ]
     },
     "execution_count": 12,
     "metadata": {},
     "output_type": "execute_result"
    }
   ],
   "source": [
    "callout_df.dtypes"
   ]
  },
  {
   "cell_type": "code",
   "execution_count": 13,
   "metadata": {},
   "outputs": [],
   "source": [
    "# Transfer some date type\n",
    "callout_df['createtime'] = pd.to_datetime(callout_df['createtime'])\n",
    "callout_df['updatetime'] = pd.to_datetime(callout_df['updatetime'])\n",
    "callout_df['acknowledgetime'] = pd.to_datetime(callout_df['acknowledgetime'])\n",
    "callout_df['outcometime'] = pd.to_datetime(callout_df['outcometime'])"
   ]
  },
  {
   "cell_type": "code",
   "execution_count": 14,
   "metadata": {},
   "outputs": [
    {
     "data": {
      "text/plain": [
       "subject_id                     int64\n",
       "hadm_id                        int64\n",
       "submit_wardid                  int64\n",
       "curr_wardid                    int64\n",
       "curr_careunit                 object\n",
       "callout_wardid                 int64\n",
       "callout_service               object\n",
       "request_tele                   int64\n",
       "request_resp                   int64\n",
       "request_cdiff                  int64\n",
       "request_mrsa                   int64\n",
       "request_vre                    int64\n",
       "callout_status                object\n",
       "callout_outcome               object\n",
       "discharge_wardid             float64\n",
       "acknowledge_status            object\n",
       "createtime            datetime64[ns]\n",
       "updatetime            datetime64[ns]\n",
       "acknowledgetime       datetime64[ns]\n",
       "outcometime           datetime64[ns]\n",
       "dtype: object"
      ]
     },
     "execution_count": 14,
     "metadata": {},
     "output_type": "execute_result"
    }
   ],
   "source": [
    "callout_df.dtypes"
   ]
  },
  {
   "cell_type": "markdown",
   "metadata": {},
   "source": [
    "#### Process time data"
   ]
  },
  {
   "cell_type": "code",
   "execution_count": 16,
   "metadata": {},
   "outputs": [],
   "source": [
    "admissions_df = commonfunc.read_csv_no_rowid(data_set_path+\"admissions.csv\")"
   ]
  },
  {
   "cell_type": "code",
   "execution_count": 17,
   "metadata": {},
   "outputs": [],
   "source": [
    "admittime_df = admissions_df.loc[:, ['hadm_id', 'admittime']]\n",
    "admittime_df['admittime'] = pd.to_datetime(admittime_df['admittime'])"
   ]
  },
  {
   "cell_type": "code",
   "execution_count": 18,
   "metadata": {},
   "outputs": [],
   "source": [
    "callout_mid_df = pd.merge(left=callout_df, right=admittime_df, how='left', on=['hadm_id'])"
   ]
  },
  {
   "cell_type": "code",
   "execution_count": 20,
   "metadata": {},
   "outputs": [],
   "source": [
    "callout_mid_df['outcometime'] = callout_mid_df.apply(commonfunc.time_process, args=('acknowledgetime', 'outcometime', 'updatetime'), axis=1)\n",
    "callout_mid_df['acknowledgetime'] = callout_mid_df.apply(commonfunc.time_process, args=('updatetime', 'acknowledgetime'), axis=1)\n",
    "callout_mid_df['updatetime'] = callout_mid_df.apply(commonfunc.time_process, args=('createtime', 'updatetime'), axis=1)\n",
    "callout_mid_df['createtime'] = callout_mid_df.apply(commonfunc.time_process, args=('admittime', 'createtime'), axis=1)"
   ]
  },
  {
   "cell_type": "code",
   "execution_count": 21,
   "metadata": {},
   "outputs": [],
   "source": [
    "callout_df = callout_mid_df.drop(['hadm_id', 'admittime', 'subject_id'], axis=1)"
   ]
  },
  {
   "cell_type": "code",
   "execution_count": 22,
   "metadata": {},
   "outputs": [
    {
     "data": {
      "text/html": [
       "<div>\n",
       "<style scoped>\n",
       "    .dataframe tbody tr th:only-of-type {\n",
       "        vertical-align: middle;\n",
       "    }\n",
       "\n",
       "    .dataframe tbody tr th {\n",
       "        vertical-align: top;\n",
       "    }\n",
       "\n",
       "    .dataframe thead th {\n",
       "        text-align: right;\n",
       "    }\n",
       "</style>\n",
       "<table border=\"1\" class=\"dataframe\">\n",
       "  <thead>\n",
       "    <tr style=\"text-align: right;\">\n",
       "      <th></th>\n",
       "      <th>submit_wardid</th>\n",
       "      <th>curr_wardid</th>\n",
       "      <th>curr_careunit</th>\n",
       "      <th>callout_wardid</th>\n",
       "      <th>callout_service</th>\n",
       "      <th>request_tele</th>\n",
       "      <th>request_resp</th>\n",
       "      <th>request_cdiff</th>\n",
       "      <th>request_mrsa</th>\n",
       "      <th>request_vre</th>\n",
       "      <th>callout_status</th>\n",
       "      <th>callout_outcome</th>\n",
       "      <th>discharge_wardid</th>\n",
       "      <th>acknowledge_status</th>\n",
       "      <th>createtime</th>\n",
       "      <th>updatetime</th>\n",
       "      <th>acknowledgetime</th>\n",
       "      <th>outcometime</th>\n",
       "    </tr>\n",
       "  </thead>\n",
       "  <tbody>\n",
       "    <tr>\n",
       "      <th>0</th>\n",
       "      <td>7</td>\n",
       "      <td>55</td>\n",
       "      <td>CCU</td>\n",
       "      <td>1</td>\n",
       "      <td>MED</td>\n",
       "      <td>0</td>\n",
       "      <td>0</td>\n",
       "      <td>0</td>\n",
       "      <td>0</td>\n",
       "      <td>0</td>\n",
       "      <td>Inactive</td>\n",
       "      <td>Discharged</td>\n",
       "      <td>55.0</td>\n",
       "      <td>Acknowledged</td>\n",
       "      <td>104152.0</td>\n",
       "      <td>0.0</td>\n",
       "      <td>6422.0</td>\n",
       "      <td>10869.0</td>\n",
       "    </tr>\n",
       "    <tr>\n",
       "      <th>1</th>\n",
       "      <td>15</td>\n",
       "      <td>2</td>\n",
       "      <td>CSRU</td>\n",
       "      <td>2</td>\n",
       "      <td>CSURG</td>\n",
       "      <td>1</td>\n",
       "      <td>0</td>\n",
       "      <td>0</td>\n",
       "      <td>0</td>\n",
       "      <td>0</td>\n",
       "      <td>Inactive</td>\n",
       "      <td>Discharged</td>\n",
       "      <td>2.0</td>\n",
       "      <td>Revised</td>\n",
       "      <td>755102.0</td>\n",
       "      <td>21664.0</td>\n",
       "      <td>NaN</td>\n",
       "      <td>15117.0</td>\n",
       "    </tr>\n",
       "    <tr>\n",
       "      <th>2</th>\n",
       "      <td>7</td>\n",
       "      <td>17</td>\n",
       "      <td>CCU</td>\n",
       "      <td>17</td>\n",
       "      <td>CCU</td>\n",
       "      <td>1</td>\n",
       "      <td>0</td>\n",
       "      <td>0</td>\n",
       "      <td>0</td>\n",
       "      <td>0</td>\n",
       "      <td>Inactive</td>\n",
       "      <td>Discharged</td>\n",
       "      <td>17.0</td>\n",
       "      <td>Acknowledged</td>\n",
       "      <td>120555.0</td>\n",
       "      <td>0.0</td>\n",
       "      <td>1152.0</td>\n",
       "      <td>13459.0</td>\n",
       "    </tr>\n",
       "    <tr>\n",
       "      <th>3</th>\n",
       "      <td>15</td>\n",
       "      <td>17</td>\n",
       "      <td>CSRU</td>\n",
       "      <td>17</td>\n",
       "      <td>CMED</td>\n",
       "      <td>1</td>\n",
       "      <td>0</td>\n",
       "      <td>0</td>\n",
       "      <td>0</td>\n",
       "      <td>0</td>\n",
       "      <td>Inactive</td>\n",
       "      <td>Discharged</td>\n",
       "      <td>17.0</td>\n",
       "      <td>Acknowledged</td>\n",
       "      <td>247055.0</td>\n",
       "      <td>22218.0</td>\n",
       "      <td>4244.0</td>\n",
       "      <td>11551.0</td>\n",
       "    </tr>\n",
       "    <tr>\n",
       "      <th>4</th>\n",
       "      <td>52</td>\n",
       "      <td>52</td>\n",
       "      <td>MICU</td>\n",
       "      <td>24</td>\n",
       "      <td>SURG</td>\n",
       "      <td>0</td>\n",
       "      <td>0</td>\n",
       "      <td>0</td>\n",
       "      <td>0</td>\n",
       "      <td>0</td>\n",
       "      <td>Inactive</td>\n",
       "      <td>Cancelled</td>\n",
       "      <td>NaN</td>\n",
       "      <td>Acknowledged</td>\n",
       "      <td>58192.0</td>\n",
       "      <td>1048.0</td>\n",
       "      <td>308.0</td>\n",
       "      <td>308.0</td>\n",
       "    </tr>\n",
       "    <tr>\n",
       "      <th>5</th>\n",
       "      <td>52</td>\n",
       "      <td>24</td>\n",
       "      <td>MICU</td>\n",
       "      <td>24</td>\n",
       "      <td>SURG</td>\n",
       "      <td>0</td>\n",
       "      <td>0</td>\n",
       "      <td>0</td>\n",
       "      <td>0</td>\n",
       "      <td>0</td>\n",
       "      <td>Inactive</td>\n",
       "      <td>Discharged</td>\n",
       "      <td>24.0</td>\n",
       "      <td>Acknowledged</td>\n",
       "      <td>81223.0</td>\n",
       "      <td>0.0</td>\n",
       "      <td>896.0</td>\n",
       "      <td>22224.0</td>\n",
       "    </tr>\n",
       "    <tr>\n",
       "      <th>6</th>\n",
       "      <td>50</td>\n",
       "      <td>55</td>\n",
       "      <td>MICU</td>\n",
       "      <td>1</td>\n",
       "      <td>CMED</td>\n",
       "      <td>1</td>\n",
       "      <td>0</td>\n",
       "      <td>0</td>\n",
       "      <td>0</td>\n",
       "      <td>0</td>\n",
       "      <td>Inactive</td>\n",
       "      <td>Discharged</td>\n",
       "      <td>55.0</td>\n",
       "      <td>Acknowledged</td>\n",
       "      <td>302112.0</td>\n",
       "      <td>0.0</td>\n",
       "      <td>422.0</td>\n",
       "      <td>36891.0</td>\n",
       "    </tr>\n",
       "    <tr>\n",
       "      <th>7</th>\n",
       "      <td>12</td>\n",
       "      <td>17</td>\n",
       "      <td>CSRU</td>\n",
       "      <td>7</td>\n",
       "      <td>CCU</td>\n",
       "      <td>1</td>\n",
       "      <td>0</td>\n",
       "      <td>0</td>\n",
       "      <td>0</td>\n",
       "      <td>0</td>\n",
       "      <td>Inactive</td>\n",
       "      <td>Discharged</td>\n",
       "      <td>17.0</td>\n",
       "      <td>Acknowledged</td>\n",
       "      <td>641784.0</td>\n",
       "      <td>0.0</td>\n",
       "      <td>1200.0</td>\n",
       "      <td>36639.0</td>\n",
       "    </tr>\n",
       "    <tr>\n",
       "      <th>8</th>\n",
       "      <td>7</td>\n",
       "      <td>17</td>\n",
       "      <td>CCU</td>\n",
       "      <td>17</td>\n",
       "      <td>CCU</td>\n",
       "      <td>1</td>\n",
       "      <td>0</td>\n",
       "      <td>0</td>\n",
       "      <td>0</td>\n",
       "      <td>0</td>\n",
       "      <td>Inactive</td>\n",
       "      <td>Discharged</td>\n",
       "      <td>17.0</td>\n",
       "      <td>Acknowledged</td>\n",
       "      <td>144689.0</td>\n",
       "      <td>0.0</td>\n",
       "      <td>425.0</td>\n",
       "      <td>99746.0</td>\n",
       "    </tr>\n",
       "    <tr>\n",
       "      <th>9</th>\n",
       "      <td>23</td>\n",
       "      <td>17</td>\n",
       "      <td>MICU</td>\n",
       "      <td>1</td>\n",
       "      <td>MED</td>\n",
       "      <td>0</td>\n",
       "      <td>0</td>\n",
       "      <td>0</td>\n",
       "      <td>0</td>\n",
       "      <td>0</td>\n",
       "      <td>Inactive</td>\n",
       "      <td>Discharged</td>\n",
       "      <td>17.0</td>\n",
       "      <td>Acknowledged</td>\n",
       "      <td>341096.0</td>\n",
       "      <td>0.0</td>\n",
       "      <td>639.0</td>\n",
       "      <td>10151.0</td>\n",
       "    </tr>\n",
       "    <tr>\n",
       "      <th>10</th>\n",
       "      <td>15</td>\n",
       "      <td>2</td>\n",
       "      <td>CSRU</td>\n",
       "      <td>2</td>\n",
       "      <td>CSURG</td>\n",
       "      <td>1</td>\n",
       "      <td>0</td>\n",
       "      <td>0</td>\n",
       "      <td>0</td>\n",
       "      <td>0</td>\n",
       "      <td>Inactive</td>\n",
       "      <td>Discharged</td>\n",
       "      <td>2.0</td>\n",
       "      <td>Acknowledged</td>\n",
       "      <td>163872.0</td>\n",
       "      <td>11251.0</td>\n",
       "      <td>120.0</td>\n",
       "      <td>13479.0</td>\n",
       "    </tr>\n",
       "    <tr>\n",
       "      <th>11</th>\n",
       "      <td>52</td>\n",
       "      <td>48</td>\n",
       "      <td>MICU</td>\n",
       "      <td>1</td>\n",
       "      <td>OMED</td>\n",
       "      <td>0</td>\n",
       "      <td>0</td>\n",
       "      <td>0</td>\n",
       "      <td>0</td>\n",
       "      <td>0</td>\n",
       "      <td>Inactive</td>\n",
       "      <td>Discharged</td>\n",
       "      <td>48.0</td>\n",
       "      <td>Acknowledged</td>\n",
       "      <td>165176.0</td>\n",
       "      <td>0.0</td>\n",
       "      <td>248.0</td>\n",
       "      <td>25200.0</td>\n",
       "    </tr>\n",
       "    <tr>\n",
       "      <th>12</th>\n",
       "      <td>52</td>\n",
       "      <td>29</td>\n",
       "      <td>MICU</td>\n",
       "      <td>1</td>\n",
       "      <td>MED</td>\n",
       "      <td>1</td>\n",
       "      <td>0</td>\n",
       "      <td>0</td>\n",
       "      <td>0</td>\n",
       "      <td>0</td>\n",
       "      <td>Inactive</td>\n",
       "      <td>Discharged</td>\n",
       "      <td>29.0</td>\n",
       "      <td>Acknowledged</td>\n",
       "      <td>437569.0</td>\n",
       "      <td>0.0</td>\n",
       "      <td>61.0</td>\n",
       "      <td>12276.0</td>\n",
       "    </tr>\n",
       "    <tr>\n",
       "      <th>13</th>\n",
       "      <td>15</td>\n",
       "      <td>15</td>\n",
       "      <td>CSRU</td>\n",
       "      <td>2</td>\n",
       "      <td>CSURG</td>\n",
       "      <td>1</td>\n",
       "      <td>0</td>\n",
       "      <td>0</td>\n",
       "      <td>0</td>\n",
       "      <td>0</td>\n",
       "      <td>Inactive</td>\n",
       "      <td>Cancelled</td>\n",
       "      <td>NaN</td>\n",
       "      <td>Acknowledged</td>\n",
       "      <td>167279.0</td>\n",
       "      <td>6123.0</td>\n",
       "      <td>5444.0</td>\n",
       "      <td>5444.0</td>\n",
       "    </tr>\n",
       "    <tr>\n",
       "      <th>14</th>\n",
       "      <td>15</td>\n",
       "      <td>2</td>\n",
       "      <td>CSRU</td>\n",
       "      <td>2</td>\n",
       "      <td>CSURG</td>\n",
       "      <td>1</td>\n",
       "      <td>0</td>\n",
       "      <td>0</td>\n",
       "      <td>0</td>\n",
       "      <td>0</td>\n",
       "      <td>Inactive</td>\n",
       "      <td>Discharged</td>\n",
       "      <td>2.0</td>\n",
       "      <td>Acknowledged</td>\n",
       "      <td>256111.0</td>\n",
       "      <td>0.0</td>\n",
       "      <td>63.0</td>\n",
       "      <td>10208.0</td>\n",
       "    </tr>\n",
       "    <tr>\n",
       "      <th>15</th>\n",
       "      <td>7</td>\n",
       "      <td>7</td>\n",
       "      <td>CCU</td>\n",
       "      <td>2</td>\n",
       "      <td>CCU</td>\n",
       "      <td>1</td>\n",
       "      <td>0</td>\n",
       "      <td>0</td>\n",
       "      <td>0</td>\n",
       "      <td>0</td>\n",
       "      <td>Inactive</td>\n",
       "      <td>Cancelled</td>\n",
       "      <td>NaN</td>\n",
       "      <td>Revised</td>\n",
       "      <td>81228.0</td>\n",
       "      <td>41.0</td>\n",
       "      <td>NaN</td>\n",
       "      <td>0.0</td>\n",
       "    </tr>\n",
       "    <tr>\n",
       "      <th>16</th>\n",
       "      <td>7</td>\n",
       "      <td>2</td>\n",
       "      <td>CCU</td>\n",
       "      <td>2</td>\n",
       "      <td>CCU</td>\n",
       "      <td>1</td>\n",
       "      <td>0</td>\n",
       "      <td>0</td>\n",
       "      <td>0</td>\n",
       "      <td>0</td>\n",
       "      <td>Inactive</td>\n",
       "      <td>Discharged</td>\n",
       "      <td>2.0</td>\n",
       "      <td>Acknowledged</td>\n",
       "      <td>251985.0</td>\n",
       "      <td>0.0</td>\n",
       "      <td>288.0</td>\n",
       "      <td>17609.0</td>\n",
       "    </tr>\n",
       "    <tr>\n",
       "      <th>17</th>\n",
       "      <td>15</td>\n",
       "      <td>2</td>\n",
       "      <td>CSRU</td>\n",
       "      <td>2</td>\n",
       "      <td>CSURG</td>\n",
       "      <td>1</td>\n",
       "      <td>0</td>\n",
       "      <td>0</td>\n",
       "      <td>0</td>\n",
       "      <td>0</td>\n",
       "      <td>Inactive</td>\n",
       "      <td>Discharged</td>\n",
       "      <td>2.0</td>\n",
       "      <td>Acknowledged</td>\n",
       "      <td>94742.0</td>\n",
       "      <td>92.0</td>\n",
       "      <td>35.0</td>\n",
       "      <td>22961.0</td>\n",
       "    </tr>\n",
       "    <tr>\n",
       "      <th>18</th>\n",
       "      <td>15</td>\n",
       "      <td>2</td>\n",
       "      <td>CSRU</td>\n",
       "      <td>2</td>\n",
       "      <td>CSURG</td>\n",
       "      <td>1</td>\n",
       "      <td>0</td>\n",
       "      <td>0</td>\n",
       "      <td>0</td>\n",
       "      <td>0</td>\n",
       "      <td>Inactive</td>\n",
       "      <td>Discharged</td>\n",
       "      <td>2.0</td>\n",
       "      <td>Acknowledged</td>\n",
       "      <td>62454.0</td>\n",
       "      <td>0.0</td>\n",
       "      <td>2935.0</td>\n",
       "      <td>8116.0</td>\n",
       "    </tr>\n",
       "    <tr>\n",
       "      <th>19</th>\n",
       "      <td>23</td>\n",
       "      <td>4</td>\n",
       "      <td>MICU</td>\n",
       "      <td>1</td>\n",
       "      <td>MED</td>\n",
       "      <td>1</td>\n",
       "      <td>0</td>\n",
       "      <td>0</td>\n",
       "      <td>0</td>\n",
       "      <td>0</td>\n",
       "      <td>Inactive</td>\n",
       "      <td>Discharged</td>\n",
       "      <td>4.0</td>\n",
       "      <td>Acknowledged</td>\n",
       "      <td>121787.0</td>\n",
       "      <td>2892.0</td>\n",
       "      <td>1104.0</td>\n",
       "      <td>9220.0</td>\n",
       "    </tr>\n",
       "    <tr>\n",
       "      <th>20</th>\n",
       "      <td>50</td>\n",
       "      <td>50</td>\n",
       "      <td>MICU</td>\n",
       "      <td>1</td>\n",
       "      <td>MED</td>\n",
       "      <td>0</td>\n",
       "      <td>0</td>\n",
       "      <td>0</td>\n",
       "      <td>1</td>\n",
       "      <td>0</td>\n",
       "      <td>Inactive</td>\n",
       "      <td>Cancelled</td>\n",
       "      <td>NaN</td>\n",
       "      <td>Acknowledged</td>\n",
       "      <td>577779.0</td>\n",
       "      <td>28166.0</td>\n",
       "      <td>27132.0</td>\n",
       "      <td>27132.0</td>\n",
       "    </tr>\n",
       "    <tr>\n",
       "      <th>21</th>\n",
       "      <td>50</td>\n",
       "      <td>50</td>\n",
       "      <td>MICU</td>\n",
       "      <td>1</td>\n",
       "      <td>TSURG</td>\n",
       "      <td>1</td>\n",
       "      <td>0</td>\n",
       "      <td>0</td>\n",
       "      <td>0</td>\n",
       "      <td>0</td>\n",
       "      <td>Inactive</td>\n",
       "      <td>Cancelled</td>\n",
       "      <td>NaN</td>\n",
       "      <td>Acknowledged</td>\n",
       "      <td>698435.0</td>\n",
       "      <td>93209.0</td>\n",
       "      <td>22405.0</td>\n",
       "      <td>22405.0</td>\n",
       "    </tr>\n",
       "    <tr>\n",
       "      <th>22</th>\n",
       "      <td>50</td>\n",
       "      <td>50</td>\n",
       "      <td>MICU</td>\n",
       "      <td>1</td>\n",
       "      <td>MED</td>\n",
       "      <td>1</td>\n",
       "      <td>0</td>\n",
       "      <td>0</td>\n",
       "      <td>0</td>\n",
       "      <td>0</td>\n",
       "      <td>Inactive</td>\n",
       "      <td>Cancelled</td>\n",
       "      <td>NaN</td>\n",
       "      <td>Acknowledged</td>\n",
       "      <td>1014462.0</td>\n",
       "      <td>21740.0</td>\n",
       "      <td>20776.0</td>\n",
       "      <td>20776.0</td>\n",
       "    </tr>\n",
       "    <tr>\n",
       "      <th>23</th>\n",
       "      <td>50</td>\n",
       "      <td>4</td>\n",
       "      <td>MICU</td>\n",
       "      <td>4</td>\n",
       "      <td>MED</td>\n",
       "      <td>1</td>\n",
       "      <td>0</td>\n",
       "      <td>0</td>\n",
       "      <td>0</td>\n",
       "      <td>0</td>\n",
       "      <td>Inactive</td>\n",
       "      <td>Discharged</td>\n",
       "      <td>4.0</td>\n",
       "      <td>Acknowledged</td>\n",
       "      <td>1101514.0</td>\n",
       "      <td>872.0</td>\n",
       "      <td>1365.0</td>\n",
       "      <td>14833.0</td>\n",
       "    </tr>\n",
       "    <tr>\n",
       "      <th>24</th>\n",
       "      <td>52</td>\n",
       "      <td>28</td>\n",
       "      <td>MICU</td>\n",
       "      <td>28</td>\n",
       "      <td>SURG</td>\n",
       "      <td>0</td>\n",
       "      <td>0</td>\n",
       "      <td>0</td>\n",
       "      <td>0</td>\n",
       "      <td>0</td>\n",
       "      <td>Inactive</td>\n",
       "      <td>Discharged</td>\n",
       "      <td>28.0</td>\n",
       "      <td>Acknowledged</td>\n",
       "      <td>1590823.0</td>\n",
       "      <td>4813.0</td>\n",
       "      <td>877.0</td>\n",
       "      <td>9950.0</td>\n",
       "    </tr>\n",
       "    <tr>\n",
       "      <th>25</th>\n",
       "      <td>57</td>\n",
       "      <td>31</td>\n",
       "      <td>SICU</td>\n",
       "      <td>31</td>\n",
       "      <td>NSURG</td>\n",
       "      <td>1</td>\n",
       "      <td>0</td>\n",
       "      <td>1</td>\n",
       "      <td>0</td>\n",
       "      <td>0</td>\n",
       "      <td>Inactive</td>\n",
       "      <td>Discharged</td>\n",
       "      <td>31.0</td>\n",
       "      <td>Acknowledged</td>\n",
       "      <td>122853.0</td>\n",
       "      <td>10092.0</td>\n",
       "      <td>3.0</td>\n",
       "      <td>14439.0</td>\n",
       "    </tr>\n",
       "    <tr>\n",
       "      <th>26</th>\n",
       "      <td>33</td>\n",
       "      <td>31</td>\n",
       "      <td>SICU</td>\n",
       "      <td>31</td>\n",
       "      <td>NSURG</td>\n",
       "      <td>0</td>\n",
       "      <td>0</td>\n",
       "      <td>0</td>\n",
       "      <td>0</td>\n",
       "      <td>0</td>\n",
       "      <td>Inactive</td>\n",
       "      <td>Discharged</td>\n",
       "      <td>31.0</td>\n",
       "      <td>Acknowledged</td>\n",
       "      <td>684752.0</td>\n",
       "      <td>12678.0</td>\n",
       "      <td>25.0</td>\n",
       "      <td>32778.0</td>\n",
       "    </tr>\n",
       "    <tr>\n",
       "      <th>27</th>\n",
       "      <td>12</td>\n",
       "      <td>2</td>\n",
       "      <td>CSRU</td>\n",
       "      <td>2</td>\n",
       "      <td>CCU</td>\n",
       "      <td>1</td>\n",
       "      <td>0</td>\n",
       "      <td>0</td>\n",
       "      <td>0</td>\n",
       "      <td>0</td>\n",
       "      <td>Inactive</td>\n",
       "      <td>Discharged</td>\n",
       "      <td>2.0</td>\n",
       "      <td>Acknowledged</td>\n",
       "      <td>98731.0</td>\n",
       "      <td>0.0</td>\n",
       "      <td>2522.0</td>\n",
       "      <td>5550.0</td>\n",
       "    </tr>\n",
       "    <tr>\n",
       "      <th>28</th>\n",
       "      <td>14</td>\n",
       "      <td>31</td>\n",
       "      <td>TSICU</td>\n",
       "      <td>1</td>\n",
       "      <td>NSURG</td>\n",
       "      <td>1</td>\n",
       "      <td>0</td>\n",
       "      <td>0</td>\n",
       "      <td>0</td>\n",
       "      <td>0</td>\n",
       "      <td>Inactive</td>\n",
       "      <td>Discharged</td>\n",
       "      <td>31.0</td>\n",
       "      <td>Acknowledged</td>\n",
       "      <td>66745.0</td>\n",
       "      <td>0.0</td>\n",
       "      <td>4087.0</td>\n",
       "      <td>36590.0</td>\n",
       "    </tr>\n",
       "    <tr>\n",
       "      <th>29</th>\n",
       "      <td>50</td>\n",
       "      <td>55</td>\n",
       "      <td>MICU</td>\n",
       "      <td>1</td>\n",
       "      <td>MED</td>\n",
       "      <td>0</td>\n",
       "      <td>0</td>\n",
       "      <td>0</td>\n",
       "      <td>0</td>\n",
       "      <td>0</td>\n",
       "      <td>Inactive</td>\n",
       "      <td>Discharged</td>\n",
       "      <td>55.0</td>\n",
       "      <td>Acknowledged</td>\n",
       "      <td>125373.0</td>\n",
       "      <td>0.0</td>\n",
       "      <td>497.0</td>\n",
       "      <td>29233.0</td>\n",
       "    </tr>\n",
       "  </tbody>\n",
       "</table>\n",
       "</div>"
      ],
      "text/plain": [
       "    submit_wardid  curr_wardid curr_careunit  callout_wardid callout_service  \\\n",
       "0               7           55           CCU               1             MED   \n",
       "1              15            2          CSRU               2           CSURG   \n",
       "2               7           17           CCU              17             CCU   \n",
       "3              15           17          CSRU              17            CMED   \n",
       "4              52           52          MICU              24            SURG   \n",
       "5              52           24          MICU              24            SURG   \n",
       "6              50           55          MICU               1            CMED   \n",
       "7              12           17          CSRU               7             CCU   \n",
       "8               7           17           CCU              17             CCU   \n",
       "9              23           17          MICU               1             MED   \n",
       "10             15            2          CSRU               2           CSURG   \n",
       "11             52           48          MICU               1            OMED   \n",
       "12             52           29          MICU               1             MED   \n",
       "13             15           15          CSRU               2           CSURG   \n",
       "14             15            2          CSRU               2           CSURG   \n",
       "15              7            7           CCU               2             CCU   \n",
       "16              7            2           CCU               2             CCU   \n",
       "17             15            2          CSRU               2           CSURG   \n",
       "18             15            2          CSRU               2           CSURG   \n",
       "19             23            4          MICU               1             MED   \n",
       "20             50           50          MICU               1             MED   \n",
       "21             50           50          MICU               1           TSURG   \n",
       "22             50           50          MICU               1             MED   \n",
       "23             50            4          MICU               4             MED   \n",
       "24             52           28          MICU              28            SURG   \n",
       "25             57           31          SICU              31           NSURG   \n",
       "26             33           31          SICU              31           NSURG   \n",
       "27             12            2          CSRU               2             CCU   \n",
       "28             14           31         TSICU               1           NSURG   \n",
       "29             50           55          MICU               1             MED   \n",
       "\n",
       "    request_tele  request_resp  request_cdiff  request_mrsa  request_vre  \\\n",
       "0              0             0              0             0            0   \n",
       "1              1             0              0             0            0   \n",
       "2              1             0              0             0            0   \n",
       "3              1             0              0             0            0   \n",
       "4              0             0              0             0            0   \n",
       "5              0             0              0             0            0   \n",
       "6              1             0              0             0            0   \n",
       "7              1             0              0             0            0   \n",
       "8              1             0              0             0            0   \n",
       "9              0             0              0             0            0   \n",
       "10             1             0              0             0            0   \n",
       "11             0             0              0             0            0   \n",
       "12             1             0              0             0            0   \n",
       "13             1             0              0             0            0   \n",
       "14             1             0              0             0            0   \n",
       "15             1             0              0             0            0   \n",
       "16             1             0              0             0            0   \n",
       "17             1             0              0             0            0   \n",
       "18             1             0              0             0            0   \n",
       "19             1             0              0             0            0   \n",
       "20             0             0              0             1            0   \n",
       "21             1             0              0             0            0   \n",
       "22             1             0              0             0            0   \n",
       "23             1             0              0             0            0   \n",
       "24             0             0              0             0            0   \n",
       "25             1             0              1             0            0   \n",
       "26             0             0              0             0            0   \n",
       "27             1             0              0             0            0   \n",
       "28             1             0              0             0            0   \n",
       "29             0             0              0             0            0   \n",
       "\n",
       "   callout_status callout_outcome  discharge_wardid acknowledge_status  \\\n",
       "0        Inactive      Discharged              55.0       Acknowledged   \n",
       "1        Inactive      Discharged               2.0            Revised   \n",
       "2        Inactive      Discharged              17.0       Acknowledged   \n",
       "3        Inactive      Discharged              17.0       Acknowledged   \n",
       "4        Inactive       Cancelled               NaN       Acknowledged   \n",
       "5        Inactive      Discharged              24.0       Acknowledged   \n",
       "6        Inactive      Discharged              55.0       Acknowledged   \n",
       "7        Inactive      Discharged              17.0       Acknowledged   \n",
       "8        Inactive      Discharged              17.0       Acknowledged   \n",
       "9        Inactive      Discharged              17.0       Acknowledged   \n",
       "10       Inactive      Discharged               2.0       Acknowledged   \n",
       "11       Inactive      Discharged              48.0       Acknowledged   \n",
       "12       Inactive      Discharged              29.0       Acknowledged   \n",
       "13       Inactive       Cancelled               NaN       Acknowledged   \n",
       "14       Inactive      Discharged               2.0       Acknowledged   \n",
       "15       Inactive       Cancelled               NaN            Revised   \n",
       "16       Inactive      Discharged               2.0       Acknowledged   \n",
       "17       Inactive      Discharged               2.0       Acknowledged   \n",
       "18       Inactive      Discharged               2.0       Acknowledged   \n",
       "19       Inactive      Discharged               4.0       Acknowledged   \n",
       "20       Inactive       Cancelled               NaN       Acknowledged   \n",
       "21       Inactive       Cancelled               NaN       Acknowledged   \n",
       "22       Inactive       Cancelled               NaN       Acknowledged   \n",
       "23       Inactive      Discharged               4.0       Acknowledged   \n",
       "24       Inactive      Discharged              28.0       Acknowledged   \n",
       "25       Inactive      Discharged              31.0       Acknowledged   \n",
       "26       Inactive      Discharged              31.0       Acknowledged   \n",
       "27       Inactive      Discharged               2.0       Acknowledged   \n",
       "28       Inactive      Discharged              31.0       Acknowledged   \n",
       "29       Inactive      Discharged              55.0       Acknowledged   \n",
       "\n",
       "    createtime  updatetime  acknowledgetime  outcometime  \n",
       "0     104152.0         0.0           6422.0      10869.0  \n",
       "1     755102.0     21664.0              NaN      15117.0  \n",
       "2     120555.0         0.0           1152.0      13459.0  \n",
       "3     247055.0     22218.0           4244.0      11551.0  \n",
       "4      58192.0      1048.0            308.0        308.0  \n",
       "5      81223.0         0.0            896.0      22224.0  \n",
       "6     302112.0         0.0            422.0      36891.0  \n",
       "7     641784.0         0.0           1200.0      36639.0  \n",
       "8     144689.0         0.0            425.0      99746.0  \n",
       "9     341096.0         0.0            639.0      10151.0  \n",
       "10    163872.0     11251.0            120.0      13479.0  \n",
       "11    165176.0         0.0            248.0      25200.0  \n",
       "12    437569.0         0.0             61.0      12276.0  \n",
       "13    167279.0      6123.0           5444.0       5444.0  \n",
       "14    256111.0         0.0             63.0      10208.0  \n",
       "15     81228.0        41.0              NaN          0.0  \n",
       "16    251985.0         0.0            288.0      17609.0  \n",
       "17     94742.0        92.0             35.0      22961.0  \n",
       "18     62454.0         0.0           2935.0       8116.0  \n",
       "19    121787.0      2892.0           1104.0       9220.0  \n",
       "20    577779.0     28166.0          27132.0      27132.0  \n",
       "21    698435.0     93209.0          22405.0      22405.0  \n",
       "22   1014462.0     21740.0          20776.0      20776.0  \n",
       "23   1101514.0       872.0           1365.0      14833.0  \n",
       "24   1590823.0      4813.0            877.0       9950.0  \n",
       "25    122853.0     10092.0              3.0      14439.0  \n",
       "26    684752.0     12678.0             25.0      32778.0  \n",
       "27     98731.0         0.0           2522.0       5550.0  \n",
       "28     66745.0         0.0           4087.0      36590.0  \n",
       "29    125373.0         0.0            497.0      29233.0  "
      ]
     },
     "execution_count": 22,
     "metadata": {},
     "output_type": "execute_result"
    }
   ],
   "source": [
    "callout_df.head(30)"
   ]
  },
  {
   "cell_type": "markdown",
   "metadata": {},
   "source": [
    "---\n",
    "\n",
    "##  Build Network"
   ]
  },
  {
   "cell_type": "code",
   "execution_count": 23,
   "metadata": {},
   "outputs": [
    {
     "data": {
      "text/plain": [
       "Index(['submit_wardid', 'curr_wardid', 'curr_careunit', 'callout_wardid',\n",
       "       'callout_service', 'request_tele', 'request_resp', 'request_cdiff',\n",
       "       'request_mrsa', 'request_vre', 'callout_status', 'callout_outcome',\n",
       "       'discharge_wardid', 'acknowledge_status', 'createtime', 'updatetime',\n",
       "       'acknowledgetime', 'outcometime'],\n",
       "      dtype='object')"
      ]
     },
     "execution_count": 23,
     "metadata": {},
     "output_type": "execute_result"
    }
   ],
   "source": [
    "callout_df.columns"
   ]
  },
  {
   "cell_type": "markdown",
   "metadata": {},
   "source": [
    "### Set constraint"
   ]
  },
  {
   "cell_type": "code",
   "execution_count": 24,
   "metadata": {},
   "outputs": [],
   "source": [
    "# def time_is_valid(column_names, data):\n",
    "#     update_create = ((data['updatetime'] - data['createtime']).apply(lambda x: 0 <= x.days  <= 2))\n",
    "\n",
    "#     # acknowledge_update = \\\n",
    "#     #     (pd.isna(data['acknowledgetime'])) | \\\n",
    "#     #     (((pd.isna(data['acknowledgetime']) == False) & ((data['acknowledgetime'] - data['updatetime']).apply(lambda x: -1 <= x.days  <= 1))))\n",
    "\n",
    "#     # outcome_create = \\\n",
    "#     #     (pd.isna(data['acknowledgetime']) & (callout_df['outcometime'] - callout_df['createtime']).apply(lambda x: 0 <= x.days <= 2)) | \\\n",
    "#     #     ( \\\n",
    "#     #         (pd.isna(data['acknowledgetime']) == False) & ((data['outcometime'] - data['acknowledgetime']).apply(lambda x: 0 <= x.days  <= 2)) \\\n",
    "#     #     )\n",
    "        \n",
    "#     return update_create# & acknowledge_update & outcome_create"
   ]
  },
  {
   "cell_type": "code",
   "execution_count": 25,
   "metadata": {},
   "outputs": [],
   "source": [
    "# def time_trasform(column_names, data):\n",
    "#     data['outcometime'] = data['outcometime'].astype(int) - data['acknowledgetime'].astype(int)\n",
    "#     data['acknowledgetime'] = data['acknowledgetime'].astype(int) - data['updatetime'].astype(int)\n",
    "#     data['updatetime'] = data['updatetime'].astype(int) - data['createtime'].astype(int)\n",
    "\n",
    "#     return data\n",
    "\n",
    "# def time_reverse_transform(column_names, transformed_data):\n",
    "#     transformed_data['updatetime'] = transformed_data['updatetime'] + transformed_data['createtime']\n",
    "#     transformed_data['acknowledgetime'] = transformed_data['acknowledgetime'] + transformed_data['updatetime']\n",
    "#     transformed_data['outcometime'] = transformed_data['outcometime'] + transformed_data['acknowledgetime']\n",
    "\n",
    "#     # print(transformed_data.head())\n",
    "#     return transformed_data"
   ]
  },
  {
   "cell_type": "code",
   "execution_count": 26,
   "metadata": {},
   "outputs": [],
   "source": [
    "# TimeProcess = create_custom_constraint(\n",
    "#     is_valid_fn=time_is_valid,\n",
    "#     transform_fn=time_trasform,\n",
    "#     reverse_transform_fn=time_reverse_transform\n",
    "# )\n",
    "\n",
    "# time_constraint = TimeProcess(\n",
    "#     column_names=['createtime', 'updatetime','acknowledgetime', 'outcometime']\n",
    "# )"
   ]
  },
  {
   "cell_type": "code",
   "execution_count": 27,
   "metadata": {},
   "outputs": [],
   "source": [
    "constraints = []"
   ]
  },
  {
   "cell_type": "markdown",
   "metadata": {},
   "source": [
    "### Build and train model"
   ]
  },
  {
   "cell_type": "code",
   "execution_count": 29,
   "metadata": {},
   "outputs": [
    {
     "name": "stdout",
     "output_type": "stream",
     "text": [
      "Strat training ...\n",
      "Tabular Preset\n",
      "Gaussian Copula\n",
      "CTGAN\n",
      "CopulaGAN\n",
      "TVAE\n",
      "Training finished!\n",
      "Strat evaluating ...\n",
      "Evaluating finished!\n",
      "Gaussian Copula\n",
      "The best model is: copulagan\n",
      "The ContinuousKL_score is: 0.4046533652597167\n",
      "The DiscreteKL_score is: 0.7900299530147996\n",
      "The total score is: 0.5389896068314599\n"
     ]
    }
   ],
   "source": [
    "train_data = callout_df\n",
    "best_model = commonfunc.build_model(constraints=constraints, train_data=train_data)"
   ]
  },
  {
   "cell_type": "code",
   "execution_count": 31,
   "metadata": {},
   "outputs": [],
   "source": [
    "model_save_path = \"C:\\\\Users\\\\shrus\\\\Documents\\\\Synthetic-data-generation\\\\models_100\\\\\" + \"callout_model.pkl\"\n",
    "commonfunc.save_model(best_model, model_save_path)"
   ]
  },
  {
   "cell_type": "markdown",
   "metadata": {},
   "source": [
    "---\n",
    "\n",
    "## Evaluate data"
   ]
  },
  {
   "cell_type": "code",
   "execution_count": 32,
   "metadata": {},
   "outputs": [],
   "source": [
    "from sdv.evaluation import evaluate"
   ]
  },
  {
   "cell_type": "markdown",
   "metadata": {},
   "source": [
    "### Load model and generate sample"
   ]
  },
  {
   "cell_type": "code",
   "execution_count": 34,
   "metadata": {},
   "outputs": [],
   "source": [
    "date_load_path = \"C:\\\\Users\\\\shrus\\\\Documents\\\\Synthetic-data-generation\\\\models_100\\\\\" + \"callout_model.pkl\"\n",
    "model = commonfunc.load_model(date_load_path)"
   ]
  },
  {
   "cell_type": "code",
   "execution_count": 35,
   "metadata": {},
   "outputs": [],
   "source": [
    "sample = model.sample(num_rows=len(train_data))"
   ]
  },
  {
   "cell_type": "markdown",
   "metadata": {},
   "source": [
    "### Evaluation"
   ]
  },
  {
   "cell_type": "code",
   "execution_count": 36,
   "metadata": {},
   "outputs": [
    {
     "data": {
      "text/plain": [
       "0.38700525188670387"
      ]
     },
     "execution_count": 36,
     "metadata": {},
     "output_type": "execute_result"
    }
   ],
   "source": [
    "evaluate(sample, train_data, metrics=['ContinuousKLDivergence'])"
   ]
  },
  {
   "cell_type": "code",
   "execution_count": 37,
   "metadata": {},
   "outputs": [
    {
     "data": {
      "text/plain": [
       "0.7945113108454971"
      ]
     },
     "execution_count": 37,
     "metadata": {},
     "output_type": "execute_result"
    }
   ],
   "source": [
    "evaluate(sample, train_data, metrics=['DiscreteKLDivergence'])"
   ]
  },
  {
   "cell_type": "code",
   "execution_count": 38,
   "metadata": {},
   "outputs": [
    {
     "data": {
      "text/plain": [
       "0.7116710256680121"
      ]
     },
     "execution_count": 38,
     "metadata": {},
     "output_type": "execute_result"
    }
   ],
   "source": [
    "evaluate(sample, train_data, metrics=['CSTest', 'KSTest', 'ContinuousKLDivergence', 'DiscreteKLDivergence'])"
   ]
  },
  {
   "cell_type": "code",
   "execution_count": 39,
   "metadata": {},
   "outputs": [
    {
     "data": {
      "text/plain": [
       "MICU     41\n",
       "CSRU     23\n",
       "SICU     20\n",
       "CCU      13\n",
       "TSICU     2\n",
       "Name: curr_careunit, dtype: int64"
      ]
     },
     "execution_count": 39,
     "metadata": {},
     "output_type": "execute_result"
    }
   ],
   "source": [
    "sample['curr_careunit'].value_counts()"
   ]
  },
  {
   "cell_type": "code",
   "execution_count": 40,
   "metadata": {},
   "outputs": [
    {
     "data": {
      "text/plain": [
       "<Axes: >"
      ]
     },
     "execution_count": 40,
     "metadata": {},
     "output_type": "execute_result"
    },
    {
     "data": {
      "image/png": "[encoded data removed]",
      "text/plain": [
       "<Figure size 640x480 with 1 Axes>"
      ]
     },
     "metadata": {},
     "output_type": "display_data"
    }
   ],
   "source": [
    "sample['curr_wardid'].hist()"
   ]
  },
  {
   "cell_type": "code",
   "execution_count": 41,
   "metadata": {},
   "outputs": [
    {
     "data": {
      "text/plain": [
       "<Axes: >"
      ]
     },
     "execution_count": 41,
     "metadata": {},
     "output_type": "execute_result"
    },
    {
     "data": {
      "image/png": "[encoded data removed]",
      "text/plain": [
       "<Figure size 640x480 with 1 Axes>"
      ]
     },
     "metadata": {},
     "output_type": "display_data"
    }
   ],
   "source": [
    "train_data['curr_wardid'].hist()"
   ]
  },
  {
   "cell_type": "code",
   "execution_count": 42,
   "metadata": {},
   "outputs": [
    {
     "data": {
      "text/plain": [
       "<Axes: >"
      ]
     },
     "execution_count": 42,
     "metadata": {},
     "output_type": "execute_result"
    },
    {
     "data": {
      "image/png": "[encoded data removed]",
      "text/plain": [
       "<Figure size 640x480 with 1 Axes>"
      ]
     },
     "metadata": {},
     "output_type": "display_data"
    }
   ],
   "source": [
    "sample['curr_careunit'].value_counts().plot.bar()"
   ]
  },
  {
   "cell_type": "code",
   "execution_count": 43,
   "metadata": {},
   "outputs": [
    {
     "data": {
      "text/plain": [
       "MICU     45\n",
       "CSRU     20\n",
       "SICU     15\n",
       "CCU      12\n",
       "TSICU     7\n",
       "Name: curr_careunit, dtype: int64"
      ]
     },
     "execution_count": 43,
     "metadata": {},
     "output_type": "execute_result"
    }
   ],
   "source": [
    "train_data['curr_careunit'].value_counts()"
   ]
  },
  {
   "cell_type": "code",
   "execution_count": 44,
   "metadata": {},
   "outputs": [
    {
     "data": {
      "text/plain": [
       "<Axes: >"
      ]
     },
     "execution_count": 44,
     "metadata": {},
     "output_type": "execute_result"
    },
    {
     "data": {
      "image/png": "[encoded data removed]",
      "text/plain": [
       "<Figure size 640x480 with 1 Axes>"
      ]
     },
     "metadata": {},
     "output_type": "display_data"
    }
   ],
   "source": [
    "train_data['curr_careunit'].value_counts().plot.bar()"
   ]
  },
  {
   "cell_type": "code",
   "execution_count": null,
   "metadata": {},
   "outputs": [],
   "source": []
  },
  {
   "cell_type": "code",
   "execution_count": null,
   "metadata": {},
   "outputs": [],
   "source": []
  }
 ],
 "metadata": {
  "kernelspec": {
   "display_name": "Python 3 (ipykernel)",
   "language": "python",
   "name": "python3"
  },
  "language_info": {
   "codemirror_mode": {
    "name": "ipython",
    "version": 3
   },
   "file_extension": ".py",
   "mimetype": "text/x-python",
   "name": "python",
   "nbconvert_exporter": "python",
   "pygments_lexer": "ipython3",
   "version": "3.10.9"
  },
  "vscode": {
   "interpreter": {
    "hash": "e56015fb566b08f7af163d42c82cf08fa5d6db3fbaaffa0afaaff5a893fc0496"
   }
  }
 },
 "nbformat": 4,
 "nbformat_minor": 2
}
