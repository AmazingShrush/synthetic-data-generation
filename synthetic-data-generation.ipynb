{
 "cells": [
  {
   "cell_type": "code",
   "execution_count": 1,
   "id": "f10a678c",
   "metadata": {},
   "outputs": [],
   "source": [
    "# Ignore warnings\n",
    "import warnings\n",
    "warnings.filterwarnings(\"ignore\")\n"
   ]
  },
  {
   "cell_type": "code",
   "execution_count": 41,
   "id": "ae1ef0ec",
   "metadata": {},
   "outputs": [],
   "source": [
    "import pandas as pd\n",
    "import numpy as np\n",
    "\n",
    "import commonfunc\n",
    "from sdv.lite import SingleTablePreset\n",
    "from sdv.single_table import GaussianCopulaSynthesizer\n",
    "from sdv.single_table import CTGANSynthesizer\n",
    "from sdv.single_table import TVAESynthesizer\n",
    "from sdv.single_table import CopulaGANSynthesizer\n",
    "from faker import Faker\n",
    "import uuid"
   ]
  },
  {
   "cell_type": "code",
   "execution_count": 67,
   "id": "6f534614",
   "metadata": {},
   "outputs": [],
   "source": [
    "sythetic_sets_path='C:/Users/shrus/Documents/Synthetic-data-generation/generated-synthetic-data/'"
   ]
  },
  {
   "cell_type": "markdown",
   "id": "d93c59ba",
   "metadata": {},
   "source": [
    "## Loading synthesizers"
   ]
  },
  {
   "cell_type": "code",
   "execution_count": 5,
   "id": "5cf7b6ca",
   "metadata": {},
   "outputs": [],
   "source": [
    "data_set_path='C:/Users/shrus/Documents/Synthetic-data-generation/'"
   ]
  },
  {
   "cell_type": "code",
   "execution_count": 6,
   "id": "9e5d52ae",
   "metadata": {},
   "outputs": [],
   "source": [
    "patients_synthesizer = GaussianCopulaSynthesizer.load(data_set_path+'models/patients/patient_best_gaussiancopula.pkl')"
   ]
  },
  {
   "cell_type": "code",
   "execution_count": 7,
   "id": "247d0d69",
   "metadata": {},
   "outputs": [],
   "source": [
    "procedureevents_mv_synthesizer = SingleTablePreset.load(data_set_path+'models/procedureevents_mv/procedureevents_mv_best_tabularpreset.pkl')"
   ]
  },
  {
   "cell_type": "code",
   "execution_count": 8,
   "id": "3975c873",
   "metadata": {},
   "outputs": [],
   "source": [
    "prescription_synthesizer = SingleTablePreset.load(data_set_path+'models/prescription/prescription_best_singletablepreset.pkl')"
   ]
  },
  {
   "cell_type": "code",
   "execution_count": 9,
   "id": "8b81b2a1",
   "metadata": {},
   "outputs": [],
   "source": [
    "outputevents_synthesizer = TVAESynthesizer.load(data_set_path+'models/outputevents/outputevents_best_tvae.pkl')"
   ]
  },
  {
   "cell_type": "code",
   "execution_count": 10,
   "id": "70269c85",
   "metadata": {},
   "outputs": [],
   "source": [
    "microbiologyevents_synthesizer = SingleTablePreset.load(data_set_path+'models/microbiologyevents/microbiologyevents_best_singletablepreset.pkl')"
   ]
  },
  {
   "cell_type": "code",
   "execution_count": 12,
   "id": "bd0a1dc5",
   "metadata": {},
   "outputs": [],
   "source": [
    "labevents_synthesizer = SingleTablePreset.load(data_set_path+'models/labevents/labevents_best_singletablepreset.pkl')"
   ]
  },
  {
   "cell_type": "code",
   "execution_count": 14,
   "id": "dcb34034",
   "metadata": {},
   "outputs": [],
   "source": [
    "cptevents_synthesizer = SingleTablePreset.load(data_set_path+'models/cptevents/cptevents_best_singletablepreset.pkl')"
   ]
  },
  {
   "cell_type": "code",
   "execution_count": 15,
   "id": "8f0eb756",
   "metadata": {},
   "outputs": [],
   "source": [
    "chartevents_synthesizer = SingleTablePreset.load(data_set_path+'models/chartevents/chartevents_best_singletablepreset.pkl')"
   ]
  },
  {
   "cell_type": "code",
   "execution_count": 16,
   "id": "6e073b3c",
   "metadata": {},
   "outputs": [],
   "source": [
    "callout_synthesizer = SingleTablePreset.load(data_set_path+'models/callout/callout_best_singletablepreset.pkl')"
   ]
  },
  {
   "cell_type": "code",
   "execution_count": 17,
   "id": "abf0a1a5",
   "metadata": {},
   "outputs": [],
   "source": [
    "admissions_synthesizer = SingleTablePreset.load(data_set_path+'models/admissions/admissions_best_singletablepreset.pkl')"
   ]
  },
  {
   "cell_type": "code",
   "execution_count": 18,
   "id": "46b507bc",
   "metadata": {},
   "outputs": [],
   "source": [
    "icustays_synthesizer = TVAESynthesizer.load(data_set_path+'models/icustays/icustays_best_tvae.pkl')"
   ]
  },
  {
   "cell_type": "markdown",
   "id": "38ffb061",
   "metadata": {},
   "source": [
    "## Generating synthetic data"
   ]
  },
  {
   "cell_type": "code",
   "execution_count": 19,
   "id": "d919cd32",
   "metadata": {},
   "outputs": [],
   "source": [
    "patients_df = patients_synthesizer.sample(100)"
   ]
  },
  {
   "cell_type": "code",
   "execution_count": 21,
   "id": "50452d5b",
   "metadata": {},
   "outputs": [
    {
     "name": "stderr",
     "output_type": "stream",
     "text": [
      "Sampling rows: 100%|██████████| 130/130 [00:00<00:00, 1939.98it/s]\n"
     ]
    }
   ],
   "source": [
    "admissions_df = admissions_synthesizer.sample(130)"
   ]
  },
  {
   "cell_type": "code",
   "execution_count": 98,
   "id": "0ab104cc",
   "metadata": {},
   "outputs": [
    {
     "name": "stderr",
     "output_type": "stream",
     "text": [
      "Sampling rows: 100%|██████████| 140/140 [00:00<00:00, 1770.59it/s]\n"
     ]
    }
   ],
   "source": [
    "icustays_df = icustays_synthesizer.sample(140)"
   ]
  },
  {
   "cell_type": "code",
   "execution_count": 24,
   "id": "2e4361a6",
   "metadata": {},
   "outputs": [
    {
     "name": "stderr",
     "output_type": "stream",
     "text": [
      "Sampling rows: 100%|██████████| 1000/1000 [00:00<00:00, 13143.01it/s]\n"
     ]
    }
   ],
   "source": [
    "procedureevents_df = procedureevents_mv_synthesizer.sample(1000)"
   ]
  },
  {
   "cell_type": "code",
   "execution_count": 26,
   "id": "25b15813",
   "metadata": {},
   "outputs": [],
   "source": [
    "outputevents_df = outputevents_synthesizer.sample(1400)"
   ]
  },
  {
   "cell_type": "code",
   "execution_count": 25,
   "id": "e60baef0",
   "metadata": {},
   "outputs": [],
   "source": [
    "prescription_df = prescription_synthesizer.sample(1400)"
   ]
  },
  {
   "cell_type": "code",
   "execution_count": 27,
   "id": "fb198591",
   "metadata": {},
   "outputs": [
    {
     "name": "stderr",
     "output_type": "stream",
     "text": [
      "Sampling rows: 100%|██████████| 50000/50000 [00:00<00:00, 75845.30it/s]\n"
     ]
    }
   ],
   "source": [
    "microbiology_df = microbiologyevents_synthesizer.sample(50000)"
   ]
  },
  {
   "cell_type": "code",
   "execution_count": 28,
   "id": "a6d6b68a",
   "metadata": {},
   "outputs": [
    {
     "name": "stderr",
     "output_type": "stream",
     "text": [
      "Sampling rows: 100%|██████████| 5000/5000 [00:00<00:00, 74620.33it/s]\n"
     ]
    }
   ],
   "source": [
    "labevents_df = labevents_synthesizer.sample(5000)"
   ]
  },
  {
   "cell_type": "code",
   "execution_count": 29,
   "id": "a158d8ea",
   "metadata": {},
   "outputs": [
    {
     "name": "stderr",
     "output_type": "stream",
     "text": [
      "Sampling rows: 100%|██████████| 1500/1500 [00:00<00:00, 46657.98it/s]\n"
     ]
    }
   ],
   "source": [
    "cptevents_df = cptevents_synthesizer.sample(1500)"
   ]
  },
  {
   "cell_type": "code",
   "execution_count": 30,
   "id": "04ffc796",
   "metadata": {},
   "outputs": [
    {
     "name": "stderr",
     "output_type": "stream",
     "text": [
      "Sampling rows: 100%|██████████| 10000/10000 [00:00<00:00, 70813.01it/s]\n"
     ]
    }
   ],
   "source": [
    "chartevents_df = chartevents_synthesizer.sample(10000)"
   ]
  },
  {
   "cell_type": "code",
   "execution_count": 31,
   "id": "fd50a7f2",
   "metadata": {},
   "outputs": [],
   "source": [
    "callout_df = callout_synthesizer.sample(90)"
   ]
  },
  {
   "cell_type": "markdown",
   "id": "a9582935",
   "metadata": {},
   "source": [
    "## Data Postprocessing"
   ]
  },
  {
   "cell_type": "markdown",
   "id": "e2bdd985",
   "metadata": {},
   "source": [
    "### Patients table"
   ]
  },
  {
   "cell_type": "code",
   "execution_count": 56,
   "id": "5cccc5c9",
   "metadata": {},
   "outputs": [],
   "source": [
    "patients_df = patients_df.drop(['subject_id'], axis=1)"
   ]
  },
  {
   "cell_type": "code",
   "execution_count": 57,
   "id": "f456e73e",
   "metadata": {},
   "outputs": [],
   "source": [
    "# Create a Faker instance\n",
    "fake = Faker()\n"
   ]
  },
  {
   "cell_type": "code",
   "execution_count": 58,
   "id": "1a5683d4",
   "metadata": {},
   "outputs": [],
   "source": [
    "def generate_uuid():\n",
    "    return str(uuid.uuid4())\n"
   ]
  },
  {
   "cell_type": "code",
   "execution_count": 59,
   "id": "4cc7638b",
   "metadata": {},
   "outputs": [],
   "source": [
    "def generate_name(gender):\n",
    "    if gender == 'M':\n",
    "        return fake.first_name_male()+' '+fake.last_name_male()\n",
    "    else:\n",
    "        return fake.first_name_female()+' '+fake.last_name_female()"
   ]
  },
  {
   "cell_type": "code",
   "execution_count": 60,
   "id": "944c8c89",
   "metadata": {},
   "outputs": [],
   "source": [
    "patients_df['Full Name']= [generate_name(gender) for gender in patients_df['gender']]"
   ]
  },
  {
   "cell_type": "code",
   "execution_count": 61,
   "id": "270b549d",
   "metadata": {},
   "outputs": [],
   "source": [
    "patients_df['subject_id'] = [generate_uuid() for _ in range(len(patients_df))]"
   ]
  },
  {
   "cell_type": "code",
   "execution_count": 65,
   "id": "308c8ddb",
   "metadata": {},
   "outputs": [],
   "source": [
    "patients_df = patients_df[['subject_id', 'Full Name', 'gender','dob','dod_hosp','dod_ssn']]"
   ]
  },
  {
   "cell_type": "code",
   "execution_count": 69,
   "id": "b477d2c1",
   "metadata": {},
   "outputs": [
    {
     "data": {
      "text/html": [
       "<div>\n",
       "<style scoped>\n",
       "    .dataframe tbody tr th:only-of-type {\n",
       "        vertical-align: middle;\n",
       "    }\n",
       "\n",
       "    .dataframe tbody tr th {\n",
       "        vertical-align: top;\n",
       "    }\n",
       "\n",
       "    .dataframe thead th {\n",
       "        text-align: right;\n",
       "    }\n",
       "</style>\n",
       "<table border=\"1\" class=\"dataframe\">\n",
       "  <thead>\n",
       "    <tr style=\"text-align: right;\">\n",
       "      <th></th>\n",
       "      <th>subject_id</th>\n",
       "      <th>Full Name</th>\n",
       "      <th>gender</th>\n",
       "      <th>dob</th>\n",
       "      <th>dod_hosp</th>\n",
       "      <th>dod_ssn</th>\n",
       "    </tr>\n",
       "  </thead>\n",
       "  <tbody>\n",
       "    <tr>\n",
       "      <th>0</th>\n",
       "      <td>75fc065b-ca23-43a3-9045-c6ce13375d3a</td>\n",
       "      <td>Ryan Wood</td>\n",
       "      <td>M</td>\n",
       "      <td>2011-01-12</td>\n",
       "      <td>NaT</td>\n",
       "      <td>2154-04-30</td>\n",
       "    </tr>\n",
       "    <tr>\n",
       "      <th>1</th>\n",
       "      <td>c46c54e1-ec76-45b7-a79e-69f005773d94</td>\n",
       "      <td>Alexander Wong</td>\n",
       "      <td>M</td>\n",
       "      <td>1979-07-14</td>\n",
       "      <td>NaT</td>\n",
       "      <td>NaT</td>\n",
       "    </tr>\n",
       "    <tr>\n",
       "      <th>2</th>\n",
       "      <td>ee7e4c38-245a-44c9-90c3-fa86d5b8569d</td>\n",
       "      <td>Michael Robinson</td>\n",
       "      <td>M</td>\n",
       "      <td>1962-12-23</td>\n",
       "      <td>NaT</td>\n",
       "      <td>NaT</td>\n",
       "    </tr>\n",
       "    <tr>\n",
       "      <th>3</th>\n",
       "      <td>5b6229fc-1ea1-4d23-81bb-c00a990c9a32</td>\n",
       "      <td>Christopher Smith</td>\n",
       "      <td>M</td>\n",
       "      <td>1977-05-01</td>\n",
       "      <td>NaT</td>\n",
       "      <td>NaT</td>\n",
       "    </tr>\n",
       "    <tr>\n",
       "      <th>4</th>\n",
       "      <td>ba96d0a3-04f0-4b84-81ae-f157e3ba336d</td>\n",
       "      <td>Alicia Clark</td>\n",
       "      <td>F</td>\n",
       "      <td>1934-09-29</td>\n",
       "      <td>NaT</td>\n",
       "      <td>NaT</td>\n",
       "    </tr>\n",
       "  </tbody>\n",
       "</table>\n",
       "</div>"
      ],
      "text/plain": [
       "                             subject_id          Full Name gender        dob  \\\n",
       "0  75fc065b-ca23-43a3-9045-c6ce13375d3a          Ryan Wood      M 2011-01-12   \n",
       "1  c46c54e1-ec76-45b7-a79e-69f005773d94     Alexander Wong      M 1979-07-14   \n",
       "2  ee7e4c38-245a-44c9-90c3-fa86d5b8569d   Michael Robinson      M 1962-12-23   \n",
       "3  5b6229fc-1ea1-4d23-81bb-c00a990c9a32  Christopher Smith      M 1977-05-01   \n",
       "4  ba96d0a3-04f0-4b84-81ae-f157e3ba336d       Alicia Clark      F 1934-09-29   \n",
       "\n",
       "  dod_hosp    dod_ssn  \n",
       "0      NaT 2154-04-30  \n",
       "1      NaT        NaT  \n",
       "2      NaT        NaT  \n",
       "3      NaT        NaT  \n",
       "4      NaT        NaT  "
      ]
     },
     "execution_count": 69,
     "metadata": {},
     "output_type": "execute_result"
    }
   ],
   "source": [
    "patients_df.head()"
   ]
  },
  {
   "cell_type": "code",
   "execution_count": 68,
   "id": "3b8ac5ec",
   "metadata": {},
   "outputs": [],
   "source": [
    "patients_df.to_csv(sythetic_sets_path + \"patients.csv\", index=None)\n"
   ]
  },
  {
   "cell_type": "markdown",
   "id": "5cc6cd83",
   "metadata": {},
   "source": [
    "## Admissions"
   ]
  },
  {
   "cell_type": "code",
   "execution_count": 72,
   "id": "9d708992",
   "metadata": {},
   "outputs": [],
   "source": [
    "import random\n",
    "\n",
    "def add_subject_id(df, subject_ids, live_ids):\n",
    "\n",
    "    # No death data, \n",
    "    if pd.isna(df['deathtime']):\n",
    "        if df['index'] < (len(subject_ids) - 1):\n",
    "            return subject_ids[df['index']%(len(subject_ids) - 1)]\n",
    "        else:\n",
    "            return random.choice(subject_ids)\n",
    "    else:\n",
    "        # if match a death data, choose a patients from live list, and delete it from live list(because one person can just dead once)\n",
    "        subject_id = live_ids.pop()\n",
    "        return subject_id"
   ]
  },
  {
   "cell_type": "code",
   "execution_count": 73,
   "id": "42a7f65d",
   "metadata": {},
   "outputs": [],
   "source": [
    "live_ids = patients_df['subject_id'].tolist()\n",
    "admissions_df['subject_id'] = admissions_df.reset_index().apply(add_subject_id, args=(patients_df['subject_id'].tolist(), live_ids), axis=1)\n"
   ]
  },
  {
   "cell_type": "code",
   "execution_count": 75,
   "id": "1b45edb3",
   "metadata": {},
   "outputs": [],
   "source": [
    "# Adjust `subject_id` position\n",
    "admissions_df.insert(0, 'subject_id', admissions_df.pop('subject_id'))\n",
    "# Change type of `subject_id`\n",
    "# admissions_df['subject_id'] = admissions_df['subject_id'].astype(int)"
   ]
  },
  {
   "cell_type": "code",
   "execution_count": 76,
   "id": "787754d4",
   "metadata": {},
   "outputs": [],
   "source": [
    "admissions_df = pd.merge(patients_df.loc[:, ['subject_id', 'dob']], admissions_df, how='inner', on=['subject_id'])\n"
   ]
  },
  {
   "cell_type": "code",
   "execution_count": 77,
   "id": "a1cf204d",
   "metadata": {},
   "outputs": [],
   "source": [
    "admissions_df.drop(['dob'], axis=1, inplace=True)\n"
   ]
  },
  {
   "cell_type": "code",
   "execution_count": 80,
   "id": "bee35489",
   "metadata": {},
   "outputs": [],
   "source": [
    "admissions_df.rename(columns={'deathtime': 'Death flag'}, inplace=True)\n"
   ]
  },
  {
   "cell_type": "code",
   "execution_count": 81,
   "id": "5f594069",
   "metadata": {},
   "outputs": [],
   "source": [
    "admissions_df.to_csv(sythetic_sets_path + \"admissions.csv\", index=None)\n"
   ]
  },
  {
   "cell_type": "code",
   "execution_count": 82,
   "id": "45c8c360",
   "metadata": {},
   "outputs": [],
   "source": [
    "hadm_ids_df = admissions_df.loc[:, ['subject_id', 'hadm_id', 'admittime']]"
   ]
  },
  {
   "cell_type": "markdown",
   "id": "529bc2ab",
   "metadata": {},
   "source": [
    "## Callout"
   ]
  },
  {
   "cell_type": "code",
   "execution_count": 83,
   "id": "0442e5d4",
   "metadata": {},
   "outputs": [],
   "source": [
    "callout_df = pd.concat([hadm_ids_df.sample(n=len(callout_df), replace=True, axis=0).reset_index(drop=True), callout_df], axis=1)\n"
   ]
  },
  {
   "cell_type": "code",
   "execution_count": 84,
   "id": "47d5ed66",
   "metadata": {},
   "outputs": [],
   "source": [
    "callout_df.drop(['admittime'], axis=1, inplace=True)\n"
   ]
  },
  {
   "cell_type": "code",
   "execution_count": 85,
   "id": "ed1b9fdc",
   "metadata": {},
   "outputs": [],
   "source": [
    "callout_df.to_csv(sythetic_sets_path + \"callout.csv\", index=None)\n"
   ]
  },
  {
   "cell_type": "markdown",
   "id": "836a875e",
   "metadata": {},
   "source": [
    "## ICUstays"
   ]
  },
  {
   "cell_type": "code",
   "execution_count": 99,
   "id": "09fea452",
   "metadata": {},
   "outputs": [],
   "source": [
    "icustays_df = pd.concat([hadm_ids_df.sample(n=len(icustays_df), replace=True, axis=0).reset_index(drop=True), icustays_df], axis=1)\n"
   ]
  },
  {
   "cell_type": "code",
   "execution_count": 100,
   "id": "ca4ae4c8",
   "metadata": {},
   "outputs": [],
   "source": [
    "\n",
    "icustays_df.drop(['admittime'], axis=1, inplace=True)"
   ]
  },
  {
   "cell_type": "code",
   "execution_count": 101,
   "id": "17069343",
   "metadata": {},
   "outputs": [],
   "source": [
    "icustays_df['icustay_id'] = [generate_uuid() for _ in range(len(icustays_df))]"
   ]
  },
  {
   "cell_type": "code",
   "execution_count": 106,
   "id": "a1f5212a",
   "metadata": {},
   "outputs": [],
   "source": [
    "icustays_df = icustays_df[['subject_id', 'hadm_id', 'icustay_id', 'dbsource', 'first_careunit', 'last_careunit',\n",
    "       'first_wardid', 'last_wardid', 'intime', 'outtime']]"
   ]
  },
  {
   "cell_type": "code",
   "execution_count": 107,
   "id": "46be7684",
   "metadata": {},
   "outputs": [],
   "source": [
    "icustays_df.to_csv(sythetic_sets_path + \"icustays.csv\", index=None)\n"
   ]
  },
  {
   "cell_type": "code",
   "execution_count": 108,
   "id": "d949b861",
   "metadata": {},
   "outputs": [],
   "source": [
    "# Pick up 'subject_id', 'hadm_id', 'icustay_id' and 'intime' from icustays_df (random sample)\n",
    "icustays_ids_df = icustays_df.loc[:, ['subject_id', 'hadm_id', 'icustay_id','intime']]"
   ]
  },
  {
   "cell_type": "markdown",
   "id": "c421c8e1",
   "metadata": {},
   "source": [
    "## Chartevents"
   ]
  },
  {
   "cell_type": "code",
   "execution_count": 109,
   "id": "fc3694bd",
   "metadata": {},
   "outputs": [],
   "source": [
    "def is_number(s):\n",
    "    try:\n",
    "        float(s)\n",
    "        return True\n",
    "    except ValueError:\n",
    "        pass\n",
    " \n",
    "    try:\n",
    "        import unicodedata\n",
    "        unicodedata.numeric(s)\n",
    "        return True\n",
    "    except (TypeError, ValueError):\n",
    "        pass\n",
    " \n",
    "    return False\n",
    "\n",
    "def format_numeric_values(df):\n",
    "    # Numeric value\n",
    "    if is_number(df['value']):\n",
    "        return round(float(df['value']), 2)\n",
    "    # String\n",
    "    else:\n",
    "        return df['value']"
   ]
  },
  {
   "cell_type": "code",
   "execution_count": 110,
   "id": "4bac996d",
   "metadata": {},
   "outputs": [],
   "source": [
    "chartevents_df['value'] = chartevents_df.apply(format_numeric_values, axis=1)\n"
   ]
  },
  {
   "cell_type": "code",
   "execution_count": 111,
   "id": "2b968adb",
   "metadata": {},
   "outputs": [],
   "source": [
    "chartevents_df = pd.concat([icustays_ids_df.sample(n=len(chartevents_df), replace=True, axis=0).reset_index(drop=True), chartevents_df], axis=1)\n"
   ]
  },
  {
   "cell_type": "code",
   "execution_count": 112,
   "id": "90effbf8",
   "metadata": {},
   "outputs": [],
   "source": [
    "chartevents_df.drop(['intime'], axis=1, inplace=True)\n"
   ]
  },
  {
   "cell_type": "code",
   "execution_count": 113,
   "id": "aebeb6ec",
   "metadata": {},
   "outputs": [],
   "source": [
    "chartevents_df.to_csv(sythetic_sets_path + \"chartevents.csv\", index=None)\n"
   ]
  },
  {
   "cell_type": "markdown",
   "id": "660f8240",
   "metadata": {},
   "source": [
    "## CPTevents"
   ]
  },
  {
   "cell_type": "code",
   "execution_count": 115,
   "id": "f640d788",
   "metadata": {},
   "outputs": [],
   "source": [
    "cptevents_icu_df = cptevents_df.loc[cptevents_df['costcenter'] == 'ICU']\n",
    "cptevents_resp_df = cptevents_df.loc[cptevents_df['costcenter'] == 'Resp']"
   ]
  },
  {
   "cell_type": "code",
   "execution_count": 116,
   "id": "00120dad",
   "metadata": {},
   "outputs": [],
   "source": [
    "icu_hadm_ids_df = hadm_ids_df.sample(frac=0.8, axis=0)\n",
    "resp_hadm_ids_df = hadm_ids_df[~hadm_ids_df.index.isin(icu_hadm_ids_df.index)]"
   ]
  },
  {
   "cell_type": "code",
   "execution_count": 117,
   "id": "ba07e468",
   "metadata": {},
   "outputs": [
    {
     "data": {
      "text/plain": [
       "130"
      ]
     },
     "execution_count": 117,
     "metadata": {},
     "output_type": "execute_result"
    }
   ],
   "source": [
    "len(hadm_ids_df)\n"
   ]
  },
  {
   "cell_type": "code",
   "execution_count": 118,
   "id": "22a5f79c",
   "metadata": {},
   "outputs": [],
   "source": [
    "cptevents_icu_df = pd.concat([icu_hadm_ids_df.sample(n=len(cptevents_icu_df), replace=True, axis=0).reset_index(drop=True), cptevents_icu_df.reset_index(drop=True)], axis=1)\n",
    "cptevents_resp_df = pd.concat([resp_hadm_ids_df.sample(n=len(cptevents_resp_df), replace=True, axis=0).reset_index(drop=True), cptevents_resp_df.reset_index(drop=True)], axis=1)\n"
   ]
  },
  {
   "cell_type": "code",
   "execution_count": 119,
   "id": "001ca38e",
   "metadata": {},
   "outputs": [],
   "source": [
    "cptevents_df = pd.concat([cptevents_icu_df, cptevents_resp_df], axis=0, ignore_index=True)\n"
   ]
  },
  {
   "cell_type": "code",
   "execution_count": 120,
   "id": "b310b632",
   "metadata": {},
   "outputs": [],
   "source": [
    "cptevents_df = cptevents_df.sort_values(['subject_id', 'hadm_id']).drop(['admittime'], axis=1)\n"
   ]
  },
  {
   "cell_type": "code",
   "execution_count": 122,
   "id": "8bff4978",
   "metadata": {},
   "outputs": [],
   "source": [
    "cptevents_df.to_csv(sythetic_sets_path + \"cptevents.csv\", index=None)\n"
   ]
  },
  {
   "cell_type": "markdown",
   "id": "bfe402e2",
   "metadata": {},
   "source": [
    "## Labevents"
   ]
  },
  {
   "cell_type": "code",
   "execution_count": 123,
   "id": "98268da7",
   "metadata": {},
   "outputs": [],
   "source": [
    "labevents_df['value'] = chartevents_df.apply(format_numeric_values, axis=1)\n"
   ]
  },
  {
   "cell_type": "code",
   "execution_count": 124,
   "id": "d3f99f59",
   "metadata": {},
   "outputs": [],
   "source": [
    "labevents_df = pd.concat([hadm_ids_df.sample(n=len(labevents_df), replace=True, axis=0).reset_index(drop=True), labevents_df], axis=1)\n"
   ]
  },
  {
   "cell_type": "code",
   "execution_count": 126,
   "id": "ea239e77",
   "metadata": {},
   "outputs": [],
   "source": [
    "labevents_df.drop(['admittime'], axis=1, inplace=True)\n"
   ]
  },
  {
   "cell_type": "code",
   "execution_count": 127,
   "id": "08425fa7",
   "metadata": {},
   "outputs": [],
   "source": [
    "labevents_df.to_csv(sythetic_sets_path + \"labevents_df.csv\", index=None)\n"
   ]
  },
  {
   "cell_type": "markdown",
   "id": "677895ae",
   "metadata": {},
   "source": [
    "## Microbiologyevents"
   ]
  },
  {
   "cell_type": "code",
   "execution_count": 134,
   "id": "91c2c6b8",
   "metadata": {},
   "outputs": [],
   "source": [
    "microbiology_df = pd.concat([hadm_ids_df.sample(n=len(microbiology_df), replace=True, axis=0).reset_index(drop=True), microbiology_df], axis=1)\n"
   ]
  },
  {
   "cell_type": "code",
   "execution_count": 136,
   "id": "7b0c6b34",
   "metadata": {},
   "outputs": [],
   "source": [
    "microbiology_df.drop(['admittime'], axis=1, inplace=True)\n"
   ]
  },
  {
   "cell_type": "code",
   "execution_count": 137,
   "id": "94ecb5fd",
   "metadata": {},
   "outputs": [],
   "source": [
    "microbiology_df.to_csv(sythetic_sets_path + \"microbiologyevents_df.csv\", index=None)\n"
   ]
  },
  {
   "cell_type": "markdown",
   "id": "876fb61f",
   "metadata": {},
   "source": [
    "## Outputevents"
   ]
  },
  {
   "cell_type": "code",
   "execution_count": 139,
   "id": "d5176187",
   "metadata": {},
   "outputs": [],
   "source": [
    "outputevents_df['value'] = outputevents_df.apply(format_numeric_values, axis=1)\n"
   ]
  },
  {
   "cell_type": "code",
   "execution_count": 140,
   "id": "929be70c",
   "metadata": {},
   "outputs": [],
   "source": [
    "outputevents_df = pd.concat([hadm_ids_df.sample(n=len(outputevents_df), replace=True, axis=0).reset_index(drop=True), outputevents_df], axis=1)\n"
   ]
  },
  {
   "cell_type": "code",
   "execution_count": 141,
   "id": "03fcd8ac",
   "metadata": {},
   "outputs": [],
   "source": [
    "outputevents_df.drop(['admittime'], axis=1, inplace=True)\n"
   ]
  },
  {
   "cell_type": "code",
   "execution_count": 142,
   "id": "4f74d2f0",
   "metadata": {},
   "outputs": [],
   "source": [
    "outputevents_df.to_csv(sythetic_sets_path + \"outputevents_df.csv\", index=None)\n"
   ]
  },
  {
   "cell_type": "markdown",
   "id": "54bb8326",
   "metadata": {},
   "source": [
    "## Procedureevents"
   ]
  },
  {
   "cell_type": "code",
   "execution_count": 145,
   "id": "00fa3553",
   "metadata": {},
   "outputs": [],
   "source": [
    "procedureevents_df['value'] = procedureevents_df.apply(format_numeric_values, axis=1)\n"
   ]
  },
  {
   "cell_type": "code",
   "execution_count": 146,
   "id": "51194c3d",
   "metadata": {},
   "outputs": [],
   "source": [
    "procedureevents_df = pd.concat([hadm_ids_df.sample(n=len(procedureevents_df), replace=True, axis=0).reset_index(drop=True), outputevents_df], axis=1)\n"
   ]
  },
  {
   "cell_type": "code",
   "execution_count": 147,
   "id": "4b7cabad",
   "metadata": {},
   "outputs": [],
   "source": [
    "procedureevents_df.drop(['admittime'], axis=1, inplace=True)\n"
   ]
  },
  {
   "cell_type": "code",
   "execution_count": 148,
   "id": "38d58442",
   "metadata": {},
   "outputs": [],
   "source": [
    "procedureevents_df.to_csv(sythetic_sets_path + \"procedureevents_df.csv\", index=None)\n"
   ]
  },
  {
   "cell_type": "markdown",
   "id": "6d405d6d",
   "metadata": {},
   "source": [
    "## Prescription"
   ]
  },
  {
   "cell_type": "code",
   "execution_count": 150,
   "id": "234b6fe2",
   "metadata": {},
   "outputs": [],
   "source": [
    "prescription_df = pd.concat([icustays_ids_df.sample(n=len(prescription_df), replace=True, axis=0).reset_index(drop=True), prescription_df], axis=1)\n"
   ]
  },
  {
   "cell_type": "code",
   "execution_count": 153,
   "id": "bff45265",
   "metadata": {},
   "outputs": [],
   "source": [
    "prescription_df.drop(['intime'], axis=1, inplace=True)"
   ]
  },
  {
   "cell_type": "code",
   "execution_count": 155,
   "id": "20962444",
   "metadata": {},
   "outputs": [],
   "source": [
    "prescription_df.to_csv(sythetic_sets_path+\"prescription.csv\",index=None)"
   ]
  },
  {
   "cell_type": "code",
   "execution_count": null,
   "id": "1c523080",
   "metadata": {},
   "outputs": [],
   "source": []
  }
 ],
 "metadata": {
  "kernelspec": {
   "display_name": "Python 3 (ipykernel)",
   "language": "python",
   "name": "python3"
  },
  "language_info": {
   "codemirror_mode": {
    "name": "ipython",
    "version": 3
   },
   "file_extension": ".py",
   "mimetype": "text/x-python",
   "name": "python",
   "nbconvert_exporter": "python",
   "pygments_lexer": "ipython3",
   "version": "3.10.9"
  }
 },
 "nbformat": 4,
 "nbformat_minor": 5
}
