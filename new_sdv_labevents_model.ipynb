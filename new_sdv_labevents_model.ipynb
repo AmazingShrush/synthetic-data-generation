{
 "cells": [
  {
   "cell_type": "code",
   "execution_count": 47,
   "id": "577af993",
   "metadata": {},
   "outputs": [],
   "source": [
    "# Ignore warnings\n",
    "import warnings\n",
    "warnings.filterwarnings(\"ignore\")\n"
   ]
  },
  {
   "cell_type": "code",
   "execution_count": 48,
   "id": "8578051f",
   "metadata": {},
   "outputs": [],
   "source": [
    "import pandas as pd\n",
    "import numpy as np\n",
    "\n",
    "import commonfunc"
   ]
  },
  {
   "cell_type": "code",
   "execution_count": 49,
   "id": "95839131",
   "metadata": {},
   "outputs": [],
   "source": [
    "data_set_path='C:/Users/shrus/Documents/Synthetic-data-generation/'"
   ]
  },
  {
   "cell_type": "code",
   "execution_count": 50,
   "id": "2664e479",
   "metadata": {},
   "outputs": [],
   "source": [
    "labevents_df = commonfunc.read_csv_no_rowid(data_set_path+\"sampled_data_csv_100/labevents.csv\")"
   ]
  },
  {
   "cell_type": "code",
   "execution_count": 51,
   "id": "1026b4f3",
   "metadata": {},
   "outputs": [],
   "source": [
    "labevents_df=labevents_df.sample(2000)"
   ]
  },
  {
   "cell_type": "code",
   "execution_count": 52,
   "id": "df568e5c",
   "metadata": {},
   "outputs": [],
   "source": [
    "labevents_df.drop(['subject_id', 'valuenum', 'flag'], axis=1, inplace=True)"
   ]
  },
  {
   "cell_type": "code",
   "execution_count": 53,
   "id": "fd7426dc",
   "metadata": {},
   "outputs": [],
   "source": [
    "# Drop some null value\n",
    "labevents_df.dropna(subset=['hadm_id'], inplace=True, axis=0)\n",
    "labevents_df['hadm_id'] = labevents_df['hadm_id'].astype(np.int64)"
   ]
  },
  {
   "cell_type": "code",
   "execution_count": 54,
   "id": "ea893ac2",
   "metadata": {},
   "outputs": [
    {
     "name": "stdout",
     "output_type": "stream",
     "text": [
      "Total columns: 5\n",
      "Total rows: 1445\n",
      "--------------\n",
      "hadm_id        0\n",
      "itemid         0\n",
      "charttime      0\n",
      "value          0\n",
      "valueuom     200\n",
      "dtype: int64\n"
     ]
    }
   ],
   "source": [
    "commonfunc.nan_count(labevents_df)"
   ]
  },
  {
   "cell_type": "code",
   "execution_count": 55,
   "id": "4095bdb4",
   "metadata": {},
   "outputs": [],
   "source": [
    "labevents_df['value'].fillna(value='Na', inplace=True)"
   ]
  },
  {
   "cell_type": "code",
   "execution_count": 56,
   "id": "7205c64c",
   "metadata": {},
   "outputs": [
    {
     "data": {
      "text/plain": [
       "hadm_id       int64\n",
       "itemid        int64\n",
       "charttime    object\n",
       "value        object\n",
       "valueuom     object\n",
       "dtype: object"
      ]
     },
     "execution_count": 56,
     "metadata": {},
     "output_type": "execute_result"
    }
   ],
   "source": [
    "labevents_df.dtypes"
   ]
  },
  {
   "cell_type": "code",
   "execution_count": 57,
   "id": "0cdf5c3c",
   "metadata": {},
   "outputs": [],
   "source": [
    "labevents_df['charttime'] = pd.to_datetime(labevents_df['charttime'])"
   ]
  },
  {
   "cell_type": "code",
   "execution_count": 58,
   "id": "4184c2c7",
   "metadata": {},
   "outputs": [
    {
     "data": {
      "text/plain": [
       "hadm_id               int64\n",
       "itemid                int64\n",
       "charttime    datetime64[ns]\n",
       "value                object\n",
       "valueuom             object\n",
       "dtype: object"
      ]
     },
     "execution_count": 58,
     "metadata": {},
     "output_type": "execute_result"
    }
   ],
   "source": [
    "labevents_df.dtypes"
   ]
  },
  {
   "cell_type": "code",
   "execution_count": 59,
   "id": "829f02cb",
   "metadata": {},
   "outputs": [],
   "source": [
    "admissions_df = commonfunc.read_csv_no_rowid(data_set_path+\"sampled_data_csv_100/admissions.csv\")"
   ]
  },
  {
   "cell_type": "code",
   "execution_count": 60,
   "id": "538429f4",
   "metadata": {},
   "outputs": [],
   "source": [
    "hadm_intime_df = admissions_df.loc[:, ['hadm_id', 'admittime']]\n",
    "hadm_intime_df['admittime'] = pd.to_datetime(hadm_intime_df['admittime'])"
   ]
  },
  {
   "cell_type": "code",
   "execution_count": 61,
   "id": "4eb6ca53",
   "metadata": {},
   "outputs": [],
   "source": [
    "labevents_mid_df = pd.merge(left=labevents_df, right=hadm_intime_df, how='left', on=['hadm_id'])"
   ]
  },
  {
   "cell_type": "code",
   "execution_count": 62,
   "id": "c65b98b4",
   "metadata": {},
   "outputs": [
    {
     "data": {
      "text/plain": [
       "hadm_id               int64\n",
       "itemid                int64\n",
       "charttime    datetime64[ns]\n",
       "value                object\n",
       "valueuom             object\n",
       "admittime    datetime64[ns]\n",
       "dtype: object"
      ]
     },
     "execution_count": 62,
     "metadata": {},
     "output_type": "execute_result"
    }
   ],
   "source": [
    "labevents_mid_df.dtypes"
   ]
  },
  {
   "cell_type": "code",
   "execution_count": 63,
   "id": "ceb9c499",
   "metadata": {},
   "outputs": [],
   "source": [
    "# labevents_mid_df['charttime'] = labevents_mid_df.apply(commonfunc.time_process, args=('admittime', 'charttime'), axis=1)\n",
    "# labevents_mid_df['charttime'] = labevents_mid_df['charttime'].astype(np.int64)"
   ]
  },
  {
   "cell_type": "code",
   "execution_count": 64,
   "id": "4a0d6c84",
   "metadata": {},
   "outputs": [],
   "source": [
    "labevents_df = labevents_mid_df.drop(['hadm_id', 'admittime'], axis=1)"
   ]
  },
  {
   "cell_type": "markdown",
   "id": "1669c983",
   "metadata": {},
   "source": [
    "## Metadata"
   ]
  },
  {
   "cell_type": "code",
   "execution_count": 65,
   "id": "d89bb6bd",
   "metadata": {},
   "outputs": [],
   "source": [
    "from sdv.metadata import SingleTableMetadata\n",
    "\n",
    "metadata = SingleTableMetadata()"
   ]
  },
  {
   "cell_type": "code",
   "execution_count": 66,
   "id": "0cc5cf70",
   "metadata": {},
   "outputs": [],
   "source": [
    "metadata.detect_from_dataframe(data=labevents_df)"
   ]
  },
  {
   "cell_type": "code",
   "execution_count": 67,
   "id": "e24032c5",
   "metadata": {},
   "outputs": [
    {
     "data": {
      "text/plain": [
       "{\n",
       "    \"columns\": {\n",
       "        \"itemid\": {\n",
       "            \"sdtype\": \"numerical\"\n",
       "        },\n",
       "        \"charttime\": {\n",
       "            \"sdtype\": \"datetime\"\n",
       "        },\n",
       "        \"value\": {\n",
       "            \"sdtype\": \"categorical\"\n",
       "        },\n",
       "        \"valueuom\": {\n",
       "            \"sdtype\": \"categorical\"\n",
       "        }\n",
       "    },\n",
       "    \"METADATA_SPEC_VERSION\": \"SINGLE_TABLE_V1\"\n",
       "}"
      ]
     },
     "execution_count": 67,
     "metadata": {},
     "output_type": "execute_result"
    }
   ],
   "source": [
    "metadata"
   ]
  },
  {
   "cell_type": "code",
   "execution_count": 71,
   "id": "7d5b49ed",
   "metadata": {},
   "outputs": [],
   "source": [
    "metadata.update_column(\n",
    "    column_name='itemid',\n",
    "    sdtype='categorical'\n",
    ")"
   ]
  },
  {
   "cell_type": "code",
   "execution_count": 72,
   "id": "3de000c9",
   "metadata": {},
   "outputs": [],
   "source": [
    "fixed_constraint = {\n",
    "    'constraint_class': 'FixedCombinations',\n",
    "    'constraint_parameters': {\n",
    "        'column_names': ['itemid', 'value', 'valueuom']\n",
    "    }\n",
    "}"
   ]
  },
  {
   "cell_type": "code",
   "execution_count": 73,
   "id": "7aa50ebc",
   "metadata": {},
   "outputs": [],
   "source": [
    "data=labevents_df"
   ]
  },
  {
   "cell_type": "code",
   "execution_count": 82,
   "id": "cc8afaf0",
   "metadata": {},
   "outputs": [
    {
     "name": "stderr",
     "output_type": "stream",
     "text": [
      "Sampling rows: 100%|██████████| 2000/2000 [00:00<00:00, 36405.89it/s]\n"
     ]
    }
   ],
   "source": [
    "from sdv.lite import SingleTablePreset\n",
    "\n",
    "synthesizer1 = SingleTablePreset(metadata, name='FAST_ML')\n",
    "\n",
    "\n",
    "synthesizer1.add_constraints(constraints=[\n",
    "    fixed_constraint\n",
    "])\n",
    "synthesizer1.fit(data)\n",
    "\n",
    "synthetic_data1 = synthesizer1.sample(num_rows=2000)"
   ]
  },
  {
   "cell_type": "code",
   "execution_count": 84,
   "id": "59bd5fe6",
   "metadata": {},
   "outputs": [
    {
     "name": "stderr",
     "output_type": "stream",
     "text": [
      "Sampling rows: 100%|██████████| 2000/2000 [00:00<00:00, 42507.97it/s]\n"
     ]
    }
   ],
   "source": [
    "from sdv.single_table import GaussianCopulaSynthesizer\n",
    "\n",
    "synthesizer2 = GaussianCopulaSynthesizer(metadata)\n",
    "synthesizer2.add_constraints(constraints=[\n",
    "    fixed_constraint\n",
    "])\n",
    "synthesizer2.fit(data)\n",
    "\n",
    "synthetic_data2 = synthesizer2.sample(num_rows=2000)"
   ]
  },
  {
   "cell_type": "code",
   "execution_count": 87,
   "id": "2a78c58d",
   "metadata": {},
   "outputs": [
    {
     "name": "stderr",
     "output_type": "stream",
     "text": [
      "Sampling rows: 100%|██████████| 2000/2000 [00:10<00:00, 193.65it/s]\n"
     ]
    }
   ],
   "source": [
    "from sdv.single_table import CTGANSynthesizer\n",
    "\n",
    "synthesizer3 = CTGANSynthesizer(metadata)\n",
    "synthesizer3.add_constraints(constraints=[\n",
    "    fixed_constraint\n",
    "])\n",
    "synthesizer3.fit(data)\n",
    "\n",
    "synthetic_data3 = synthesizer3.sample(num_rows=2000)"
   ]
  },
  {
   "cell_type": "code",
   "execution_count": 86,
   "id": "1363d1a5",
   "metadata": {},
   "outputs": [
    {
     "name": "stderr",
     "output_type": "stream",
     "text": [
      "Sampling rows: 100%|██████████| 2000/2000 [00:00<00:00, 3697.03it/s]\n"
     ]
    }
   ],
   "source": [
    "from sdv.single_table import TVAESynthesizer\n",
    "\n",
    "synthesizer4 = TVAESynthesizer(metadata)\n",
    "synthesizer4.add_constraints(constraints=[\n",
    "    fixed_constraint\n",
    "])\n",
    "synthesizer4.fit(data)\n",
    "\n",
    "synthetic_data4 = synthesizer4.sample(num_rows=2000)"
   ]
  },
  {
   "cell_type": "code",
   "execution_count": 89,
   "id": "e2861782",
   "metadata": {},
   "outputs": [
    {
     "name": "stderr",
     "output_type": "stream",
     "text": [
      "Sampling rows: 100%|██████████| 2000/2000 [00:03<00:00, 509.14it/s]\n"
     ]
    }
   ],
   "source": [
    "from sdv.single_table import CopulaGANSynthesizer\n",
    "\n",
    "synthesizer5 = CopulaGANSynthesizer(metadata)\n",
    "synthesizer5.add_constraints(constraints=[\n",
    "    fixed_constraint\n",
    "])\n",
    "synthesizer5.fit(data)\n",
    "\n",
    "synthetic_data5 = synthesizer5.sample(num_rows=2000)"
   ]
  },
  {
   "cell_type": "code",
   "execution_count": 83,
   "id": "c3cc58b4",
   "metadata": {},
   "outputs": [
    {
     "name": "stderr",
     "output_type": "stream",
     "text": [
      "Creating report: 100%|██████████| 4/4 [00:00<00:00,  7.98it/s]\n"
     ]
    },
    {
     "name": "stdout",
     "output_type": "stream",
     "text": [
      "\n",
      "Overall Quality Score: 71.69%\n",
      "\n",
      "Properties:\n",
      "Column Shapes: 84.67%\n",
      "Column Pair Trends: 58.71%\n"
     ]
    }
   ],
   "source": [
    "from sdv.evaluation.single_table import evaluate_quality\n",
    "\n",
    "quality_report = evaluate_quality(\n",
    "    real_data=data,\n",
    "    synthetic_data=synthetic_data1,\n",
    "    metadata=metadata)"
   ]
  },
  {
   "cell_type": "code",
   "execution_count": 85,
   "id": "8adf96e2",
   "metadata": {},
   "outputs": [
    {
     "name": "stderr",
     "output_type": "stream",
     "text": [
      "Creating report: 100%|██████████| 4/4 [00:00<00:00, 14.39it/s]\n"
     ]
    },
    {
     "name": "stdout",
     "output_type": "stream",
     "text": [
      "\n",
      "Overall Quality Score: 71.59%\n",
      "\n",
      "Properties:\n",
      "Column Shapes: 83.64%\n",
      "Column Pair Trends: 59.54%\n"
     ]
    }
   ],
   "source": [
    "from sdv.evaluation.single_table import evaluate_quality\n",
    "\n",
    "quality_report = evaluate_quality(\n",
    "    real_data=data,\n",
    "    synthetic_data=synthetic_data2,\n",
    "    metadata=metadata)"
   ]
  },
  {
   "cell_type": "code",
   "execution_count": 88,
   "id": "2c16f1c1",
   "metadata": {},
   "outputs": [
    {
     "name": "stderr",
     "output_type": "stream",
     "text": [
      "Creating report: 100%|██████████| 4/4 [00:01<00:00,  3.74it/s]\n"
     ]
    },
    {
     "name": "stdout",
     "output_type": "stream",
     "text": [
      "\n",
      "Overall Quality Score: 53.88%\n",
      "\n",
      "Properties:\n",
      "Column Shapes: 65.11%\n",
      "Column Pair Trends: 42.66%\n"
     ]
    }
   ],
   "source": [
    "from sdv.evaluation.single_table import evaluate_quality\n",
    "\n",
    "quality_report = evaluate_quality(\n",
    "    real_data=data,\n",
    "    synthetic_data=synthetic_data3,\n",
    "    metadata=metadata)"
   ]
  },
  {
   "cell_type": "code",
   "execution_count": 81,
   "id": "868f5ec2",
   "metadata": {},
   "outputs": [
    {
     "name": "stderr",
     "output_type": "stream",
     "text": [
      "Creating report: 100%|██████████| 4/4 [00:00<00:00,  4.25it/s]\n"
     ]
    },
    {
     "name": "stdout",
     "output_type": "stream",
     "text": [
      "\n",
      "Overall Quality Score: 34.46%\n",
      "\n",
      "Properties:\n",
      "Column Shapes: 47.52%\n",
      "Column Pair Trends: 21.39%\n"
     ]
    }
   ],
   "source": [
    "from sdv.evaluation.single_table import evaluate_quality\n",
    "\n",
    "quality_report = evaluate_quality(\n",
    "    real_data=data,\n",
    "    synthetic_data=synthetic_data4,\n",
    "    metadata=metadata)"
   ]
  },
  {
   "cell_type": "code",
   "execution_count": 90,
   "id": "dc61acab",
   "metadata": {},
   "outputs": [
    {
     "name": "stderr",
     "output_type": "stream",
     "text": [
      "Creating report: 100%|██████████| 4/4 [00:00<00:00,  6.36it/s]\n"
     ]
    },
    {
     "name": "stdout",
     "output_type": "stream",
     "text": [
      "\n",
      "Overall Quality Score: 41.17%\n",
      "\n",
      "Properties:\n",
      "Column Shapes: 53.31%\n",
      "Column Pair Trends: 29.02%\n"
     ]
    }
   ],
   "source": [
    "from sdv.evaluation.single_table import evaluate_quality\n",
    "\n",
    "quality_report = evaluate_quality(\n",
    "    real_data=data,\n",
    "    synthetic_data=synthetic_data5,\n",
    "    metadata=metadata)"
   ]
  },
  {
   "cell_type": "code",
   "execution_count": 91,
   "id": "2479f513",
   "metadata": {},
   "outputs": [],
   "source": [
    "synthesizer1.save('C:/Users/shrus/Documents/Synthetic-data-generation/models/labevents/'+'labevents_best_singletablepreset.pkl')\n"
   ]
  },
  {
   "cell_type": "code",
   "execution_count": 92,
   "id": "ff2984c4",
   "metadata": {},
   "outputs": [],
   "source": [
    "synthesizer2.save('C:/Users/shrus/Documents/Synthetic-data-generation/models/labevents/'+'labevents_gaussiancopula.pkl')\n"
   ]
  },
  {
   "cell_type": "code",
   "execution_count": 93,
   "id": "946181ea",
   "metadata": {},
   "outputs": [],
   "source": [
    "synthesizer3.save('C:/Users/shrus/Documents/Synthetic-data-generation/models/labevents/'+'labevents_ctgan.pkl')\n"
   ]
  },
  {
   "cell_type": "code",
   "execution_count": 94,
   "id": "4323ccf8",
   "metadata": {},
   "outputs": [],
   "source": [
    "synthesizer4.save('C:/Users/shrus/Documents/Synthetic-data-generation/models/labevents/'+'labevents_tvae.pkl')\n"
   ]
  },
  {
   "cell_type": "code",
   "execution_count": 95,
   "id": "406a9b87",
   "metadata": {},
   "outputs": [],
   "source": [
    "synthesizer5.save('C:/Users/shrus/Documents/Synthetic-data-generation/models/labevents/'+'labevents_copulagan.pkl')\n"
   ]
  },
  {
   "cell_type": "code",
   "execution_count": null,
   "id": "af96ab02",
   "metadata": {},
   "outputs": [],
   "source": []
  }
 ],
 "metadata": {
  "kernelspec": {
   "display_name": "Python 3 (ipykernel)",
   "language": "python",
   "name": "python3"
  },
  "language_info": {
   "codemirror_mode": {
    "name": "ipython",
    "version": 3
   },
   "file_extension": ".py",
   "mimetype": "text/x-python",
   "name": "python",
   "nbconvert_exporter": "python",
   "pygments_lexer": "ipython3",
   "version": "3.10.9"
  }
 },
 "nbformat": 4,
 "nbformat_minor": 5
}
